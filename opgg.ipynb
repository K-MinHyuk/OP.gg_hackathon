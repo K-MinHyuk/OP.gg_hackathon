{
 "cells": [
  {
   "cell_type": "code",
   "execution_count": 1,
   "metadata": {},
   "outputs": [],
   "source": [
    "import requests\n",
    "import json\n",
    "import pandas as pd\n",
    "import itertools\n",
    "import time\n",
    "import math\n",
    "import numpy as np\n",
    "from tqdm import tqdm"
   ]
  },
  {
   "cell_type": "code",
   "execution_count": 18,
   "metadata": {},
   "outputs": [],
   "source": [
    "api_key = 'RGAPI-f8d576b9-66ee-4d2c-892d-11b1beb7c782'"
   ]
  },
  {
   "cell_type": "code",
   "execution_count": 15,
   "metadata": {},
   "outputs": [],
   "source": [
    "IRON_URL4='https://kr.api.riotgames.com/lol/league-exp/v4/entries/RANKED_SOLO_5x5/IRON/IV?page='\n",
    "IRON_URL3='https://kr.api.riotgames.com/lol/league-exp/v4/entries/RANKED_SOLO_5x5/IRON/III?page='\n",
    "IRON_URL2='https://kr.api.riotgames.com/lol/league-exp/v4/entries/RANKED_SOLO_5x5/IRON/II?page='\n",
    "IRON_URL1='https://kr.api.riotgames.com/lol/league-exp/v4/entries/RANKED_SOLO_5x5/IRON/I?page='\n",
    "BRONZE_URL4='https://kr.api.riotgames.com/lol/league-exp/v4/entries/RANKED_SOLO_5x5/BRONZE/IV?page='\n",
    "BRONZE_URL3='https://kr.api.riotgames.com/lol/league-exp/v4/entries/RANKED_SOLO_5x5/BRONZE/III?page='\n",
    "BRONZE_URL2='https://kr.api.riotgames.com/lol/league-exp/v4/entries/RANKED_SOLO_5x5/BRONZE/II?page='\n",
    "BRONZE_URL1='https://kr.api.riotgames.com/lol/league-exp/v4/entries/RANKED_SOLO_5x5/BRONZE/I?page='\n",
    "SILVER_URL4='https://kr.api.riotgames.com/lol/league-exp/v4/entries/RANKED_SOLO_5x5/SILVER/IV?page='\n",
    "SILVER_URL3='https://kr.api.riotgames.com/lol/league-exp/v4/entries/RANKED_SOLO_5x5/SILVER/III?page='\n",
    "SILVER_URL2='https://kr.api.riotgames.com/lol/league-exp/v4/entries/RANKED_SOLO_5x5/SILVER/II?page='\n",
    "SILVER_URL1='https://kr.api.riotgames.com/lol/league-exp/v4/entries/RANKED_SOLO_5x5/SILVER/I?page='\n",
    "GOLD_URL4='https://kr.api.riotgames.com/lol/league-exp/v4/entries/RANKED_SOLO_5x5/GOLD/IV?page='\n",
    "GOLD_URL3='https://kr.api.riotgames.com/lol/league-exp/v4/entries/RANKED_SOLO_5x5/GOLD/III?page='\n",
    "GOLD_URL2='https://kr.api.riotgames.com/lol/league-exp/v4/entries/RANKED_SOLO_5x5/GOLD/II?page='\n",
    "GOLD_URL1='https://kr.api.riotgames.com/lol/league-exp/v4/entries/RANKED_SOLO_5x5/GOLD/I?page='\n",
    "PLATINUM_URL4='https://kr.api.riotgames.com/lol/league-exp/v4/entries/RANKED_SOLO_5x5/PLATINUM/IV?page='\n",
    "PLATINUM_URL3='https://kr.api.riotgames.com/lol/league-exp/v4/entries/RANKED_SOLO_5x5/PLATINUM/III?page='\n",
    "PLATINUM_URL2='https://kr.api.riotgames.com/lol/league-exp/v4/entries/RANKED_SOLO_5x5/PLATINUM/II?page='\n",
    "PLATINUM_URL1='https://kr.api.riotgames.com/lol/league-exp/v4/entries/RANKED_SOLO_5x5/PLATINUM/I?page='\n",
    "DIAMOND_URL4='https://kr.api.riotgames.com/lol/league-exp/v4/entries/RANKED_SOLO_5x5/DIAMOND/IV?page='\n",
    "DIAMOND_URL3='https://kr.api.riotgames.com/lol/league-exp/v4/entries/RANKED_SOLO_5x5/DIAMOND/III?page='\n",
    "DIAMOND_URL2='https://kr.api.riotgames.com/lol/league-exp/v4/entries/RANKED_SOLO_5x5/DIAMOND/II?page='\n",
    "DIAMOND_URL1='https://kr.api.riotgames.com/lol/league-exp/v4/entries/RANKED_SOLO_5x5/DIAMOND/I?page='\n",
    "MASTER_URL1='https://kr.api.riotgames.com/lol/league-exp/v4/entries/RANKED_SOLO_5x5/MASTER/I?page='\n",
    "GRANDMASTER_URL1='https://kr.api.riotgames.com/lol/league-exp/v4/entries/RANKED_SOLO_5x5/GRANDMASTER/I?page='\n",
    "CHALLENGER_URL1='https://kr.api.riotgames.com/lol/league-exp/v4/entries/RANKED_SOLO_5x5/CHALLENGER/I?page='\n",
    "MATCH_URL = 'https://kr.api.riotgames.com/lol/match/v4/matches/'"
   ]
  },
  {
   "cell_type": "code",
   "execution_count": 16,
   "metadata": {},
   "outputs": [],
   "source": [
    "def summonersT(tier_url, api_key):\n",
    "    print('----------------------------------------------------Summoners start----------------------------------------------------')\n",
    "    summoners = []\n",
    "    for i in range(1,5):\n",
    "        res = requests.get(tier_url+str(i), headers={\"X-Riot-Token\": api_key})\n",
    "        summoners.append(json.loads(res.text)[5:105])\n",
    "    now = time.gmtime(time.time())\n",
    "    print('min:',now.tm_min,'sec:',now.tm_sec)\n",
    "    print('Waiting for summoners end...')\n",
    "    time.sleep(120)\n",
    "    print('----------------------------------------------------Summoners done-----------------------------------------------------')\n",
    "    return pd.DataFrame(list(itertools.chain(*summoners)))['summonerId'].values\n",
    "\n",
    "def getAccountId(summoners, api_key):\n",
    "    print('\\n----------------------------------------------------Accounts start-----------------------------------------------------')\n",
    "    now = time.gmtime(time.time())\n",
    "    print('min:',now.tm_min,'sec:',now.tm_sec)\n",
    "    accountS = []\n",
    "    time.sleep(2)\n",
    "    a = 0\n",
    "    for i  in tqdm(summoners):\n",
    "        a += 1\n",
    "        if a % 20 == 0:\n",
    "            time.sleep(1)\n",
    "        if a % 100 == 0:\n",
    "            time.sleep(122)\n",
    "        togetSummonerId = 'https://kr.api.riotgames.com/lol/summoner/v4/summoners/'+str(i)\n",
    "        res = requests.get(togetSummonerId, headers={\"X-Riot-Token\": api_key})\n",
    "        accountS.append(json.loads(res.text))\n",
    "    print('\\n-----------------------------------------------------Accounts done-----------------------------------------------------')   \n",
    "    return pd.DataFrame(accountS)['accountId'].values\n",
    "\n",
    "def getMatch(encryptedAccountId, api_key):\n",
    "    print('\\n-----------------------------------------------------MatchId start-----------------------------------------------------')\n",
    "    a = 0\n",
    "    now = time.gmtime(time.time())\n",
    "    print('min:',now.tm_min,'sec:',now.tm_sec)\n",
    "    objects = []\n",
    "    matchIds = []\n",
    "    time.sleep(2)\n",
    "    for i in tqdm(encryptedAccountId):\n",
    "        a += 1\n",
    "        if a % 20 == 0:\n",
    "            time.sleep(1)\n",
    "        if a % 100 == 0:\n",
    "            time.sleep(122)\n",
    "        togetMatchOb = 'https://kr.api.riotgames.com/lol/match/v4/matchlists/by-account/{}?endIndex=1&beginIndex=0'.format(str(i))\n",
    "        res = requests.get(togetMatchOb, headers={\"X-Riot-Token\": api_key})\n",
    "        ob = pd.DataFrame(json.loads(res.text))\n",
    "        if 'matches' in list(ob):\n",
    "            objects.append(pd.DataFrame(ob)['matches'].values[0])\n",
    "        else:\n",
    "            print(ob)\n",
    "            print(\"----Error recovery time----\")\n",
    "            time.sleep(90)\n",
    "            rest=getMatchRe([i], api_key)\n",
    "            matchIds.append(rest)\n",
    "            print(\"----Error fixed----\")\n",
    "    matchIds = matchIds + list(pd.DataFrame(objects)['gameId'].values)\n",
    "    print('\\n-----------------------------------------------------MatchId done-----------------------------------------------------')   \n",
    "    return matchIds\n",
    "\n",
    "\n",
    "def getMatchRe(encryptedAccountId, api_key):\n",
    "    a = 0\n",
    "    now = time.gmtime(time.time())\n",
    "    print('min:',now.tm_min,'sec:',now.tm_sec)\n",
    "    objects = []\n",
    "    matchIds = []\n",
    "    time.sleep(2)\n",
    "    for i in tqdm(encryptedAccountId):\n",
    "        a += 1\n",
    "        if a % 20 == 0:\n",
    "            time.sleep(1)\n",
    "        if a % 100 == 0:\n",
    "            time.sleep(122)\n",
    "        togetMatchOb = 'https://kr.api.riotgames.com/lol/match/v4/matchlists/by-account/{}?endIndex=1&beginIndex=0'.format(str(i))\n",
    "        res = requests.get(togetMatchOb, headers={\"X-Riot-Token\": api_key})\n",
    "        ob = pd.DataFrame(json.loads(res.text))\n",
    "        if 'matches' in list(ob):\n",
    "            objects.append(pd.DataFrame(ob)['matches'].values[0])\n",
    "        else:\n",
    "            print(ob)\n",
    "            print(\"----Error recovery time----\")\n",
    "            time.sleep(90)\n",
    "            rest=getMatchRe([i], api_key)\n",
    "            matchIds.append(rest)\n",
    "    matchIds = matchIds + list(pd.DataFrame(objects)['gameId'].values)\n",
    "    return matchIds[0]\n",
    "\n",
    "\n",
    "def getMatchId(tier, api_key):\n",
    "    summoners = summonersT(tier, api_key)\n",
    "    accountId = getAccountId(summoners, api_key)\n",
    "    gameId = getMatch(accountId, api_key)\n",
    "    return gameId"
   ]
  },
  {
   "cell_type": "code",
   "execution_count": 5,
   "metadata": {},
   "outputs": [
    {
     "name": "stdout",
     "output_type": "stream",
     "text": [
      "----------------------------------------------------Summoners start----------------------------------------------------\n",
      "min: 59 sec: 10\n",
      "Waiting for summoners end...\n",
      "----------------------------------------------------Summoners done-----------------------------------------------------\n",
      "\n",
      "----------------------------------------------------Accounts start-----------------------------------------------------\n",
      "min: 1 sec: 10\n"
     ]
    },
    {
     "name": "stderr",
     "output_type": "stream",
     "text": [
      "100%|██████████| 400/400 [10:00<00:00,  1.50s/it]  \n"
     ]
    },
    {
     "name": "stdout",
     "output_type": "stream",
     "text": [
      "\n",
      "-----------------------------------------------------Accounts done-----------------------------------------------------\n",
      "\n",
      "----------------------------------------------------MatchId start----------------------------------------------------\n",
      "min: 11 sec: 12\n"
     ]
    },
    {
     "name": "stderr",
     "output_type": "stream",
     "text": [
      " 35%|███▌      | 140/400 [02:58<02:49,  1.54it/s]  "
     ]
    },
    {
     "name": "stdout",
     "output_type": "stream",
     "text": [
      "                      status\n",
      "message      Gateway timeout\n",
      "status_code              504\n",
      "----Error recovery time----\n",
      "min: 15 sec: 42\n"
     ]
    },
    {
     "name": "stderr",
     "output_type": "stream",
     "text": [
      "\n",
      "  0%|          | 0/1 [00:00<?, ?it/s]\u001b[A\n",
      "100%|██████████| 1/1 [00:00<00:00,  2.42it/s]\u001b[A\n",
      " 35%|███▌      | 141/400 [04:31<2:02:06, 28.29s/it]"
     ]
    },
    {
     "name": "stdout",
     "output_type": "stream",
     "text": [
      "----Error fixed----\n"
     ]
    },
    {
     "name": "stderr",
     "output_type": "stream",
     "text": [
      "100%|██████████| 400/400 [12:21<00:00,  1.85s/it]  \n"
     ]
    },
    {
     "name": "stdout",
     "output_type": "stream",
     "text": [
      "\n",
      "----------------------------------------------------MatchId done----------------------------------------------------\n",
      "----------------------------------------------------Summoners start----------------------------------------------------\n",
      "min: 23 sec: 37\n",
      "Waiting for summoners end...\n",
      "----------------------------------------------------Summoners done-----------------------------------------------------\n",
      "\n",
      "----------------------------------------------------Accounts start-----------------------------------------------------\n",
      "min: 25 sec: 37\n"
     ]
    },
    {
     "name": "stderr",
     "output_type": "stream",
     "text": [
      "100%|██████████| 400/400 [09:59<00:00,  1.50s/it]  \n"
     ]
    },
    {
     "name": "stdout",
     "output_type": "stream",
     "text": [
      "\n",
      "-----------------------------------------------------Accounts done-----------------------------------------------------\n",
      "\n",
      "----------------------------------------------------MatchId start----------------------------------------------------\n",
      "min: 35 sec: 38\n"
     ]
    },
    {
     "name": "stderr",
     "output_type": "stream",
     "text": [
      "100%|██████████| 400/400 [10:50<00:00,  1.63s/it]  \n"
     ]
    },
    {
     "name": "stdout",
     "output_type": "stream",
     "text": [
      "\n",
      "----------------------------------------------------MatchId done----------------------------------------------------\n",
      "----------------------------------------------------Summoners start----------------------------------------------------\n",
      "min: 46 sec: 32\n",
      "Waiting for summoners end...\n",
      "----------------------------------------------------Summoners done-----------------------------------------------------\n",
      "\n",
      "----------------------------------------------------Accounts start-----------------------------------------------------\n",
      "min: 48 sec: 32\n"
     ]
    },
    {
     "name": "stderr",
     "output_type": "stream",
     "text": [
      "100%|██████████| 400/400 [09:59<00:00,  1.50s/it]  \n"
     ]
    },
    {
     "name": "stdout",
     "output_type": "stream",
     "text": [
      "\n",
      "-----------------------------------------------------Accounts done-----------------------------------------------------\n",
      "\n",
      "----------------------------------------------------MatchId start----------------------------------------------------\n",
      "min: 58 sec: 33\n"
     ]
    },
    {
     "name": "stderr",
     "output_type": "stream",
     "text": [
      "100%|██████████| 400/400 [10:49<00:00,  1.62s/it]  \n"
     ]
    },
    {
     "name": "stdout",
     "output_type": "stream",
     "text": [
      "\n",
      "----------------------------------------------------MatchId done----------------------------------------------------\n",
      "----------------------------------------------------Summoners start----------------------------------------------------\n",
      "min: 9 sec: 26\n",
      "Waiting for summoners end...\n",
      "----------------------------------------------------Summoners done-----------------------------------------------------\n",
      "\n",
      "----------------------------------------------------Accounts start-----------------------------------------------------\n",
      "min: 11 sec: 26\n"
     ]
    },
    {
     "name": "stderr",
     "output_type": "stream",
     "text": [
      "100%|██████████| 400/400 [09:59<00:00,  1.50s/it]  \n"
     ]
    },
    {
     "name": "stdout",
     "output_type": "stream",
     "text": [
      "\n",
      "-----------------------------------------------------Accounts done-----------------------------------------------------\n",
      "\n",
      "----------------------------------------------------MatchId start----------------------------------------------------\n",
      "min: 21 sec: 28\n"
     ]
    },
    {
     "name": "stderr",
     "output_type": "stream",
     "text": [
      " 69%|██████▉   | 277/400 [05:57<00:44,  2.76it/s]  "
     ]
    },
    {
     "name": "stdout",
     "output_type": "stream",
     "text": [
      "                      status\n",
      "message      Gateway timeout\n",
      "status_code              504\n",
      "----Error recovery time----\n",
      "min: 28 sec: 58\n"
     ]
    },
    {
     "name": "stderr",
     "output_type": "stream",
     "text": [
      "\n",
      "  0%|          | 0/1 [00:00<?, ?it/s]\u001b[A\n",
      "100%|██████████| 1/1 [00:00<00:00,  2.44it/s]\u001b[A\n",
      " 70%|██████▉   | 278/400 [07:30<57:06, 28.09s/it]"
     ]
    },
    {
     "name": "stdout",
     "output_type": "stream",
     "text": [
      "----Error fixed----\n"
     ]
    },
    {
     "name": "stderr",
     "output_type": "stream",
     "text": [
      "100%|██████████| 400/400 [12:26<00:00,  1.87s/it]  "
     ]
    },
    {
     "name": "stdout",
     "output_type": "stream",
     "text": [
      "\n",
      "----------------------------------------------------MatchId done----------------------------------------------------\n"
     ]
    },
    {
     "name": "stderr",
     "output_type": "stream",
     "text": [
      "\n"
     ]
    }
   ],
   "source": [
    "iron_4_gameId = getMatchId(IRON_URL4, api_key)\n",
    "iron_3_gameId = getMatchId(IRON_URL3, api_key)\n",
    "iron_2_gameId = getMatchId(IRON_URL2, api_key)\n",
    "iron_1_gameId = getMatchId(IRON_URL1, api_key)"
   ]
  },
  {
   "cell_type": "code",
   "execution_count": 6,
   "metadata": {},
   "outputs": [],
   "source": [
    "np.save('iron_1_gameId', iron_1_gameId)\n",
    "np.save('iron_2_gameId', iron_2_gameId)\n",
    "np.save('iron_3_gameId', iron_3_gameId)\n",
    "np.save('iron_4_gameId', iron_4_gameId)"
   ]
  },
  {
   "cell_type": "code",
   "execution_count": null,
   "metadata": {},
   "outputs": [],
   "source": [
    "bronze_4_gameId = getMatchId(BRONZE_URL4, api_key)\n",
    "bronze_3_gameId = getMatchId(BRONZE_URL3, api_key)\n",
    "bronze_2_gameId = getMatchId(BRONZE_URL2, api_key)\n",
    "bronze_1_gameId = getMatchId(BRONZE_URL1, api_key)"
   ]
  },
  {
   "cell_type": "code",
   "execution_count": 57,
   "metadata": {},
   "outputs": [],
   "source": [
    "np.save('bronze_4_gameId', bronze_4_gameId)\n",
    "np.save('bronze_3_gameId', bronze_3_gameId)\n",
    "np.save('bronze_2_gameId', bronze_2_gameId)\n",
    "np.save('bronze_1_gameId', bronze_1_gameId)"
   ]
  },
  {
   "cell_type": "code",
   "execution_count": null,
   "metadata": {},
   "outputs": [],
   "source": [
    "silver_4_gameId = getMatchId(SILVER_URL4, api_key)\n",
    "silver_3_gameId = getMatchId(SILVER_URL3, api_key)\n",
    "silver_2_gameId = getMatchId(SILVER_URL2, api_key)\n",
    "silver_1_gameId = getMatchId(SILVER_URL1, api_key)"
   ]
  },
  {
   "cell_type": "code",
   "execution_count": null,
   "metadata": {},
   "outputs": [],
   "source": [
    "np.save('silver_4_gameId', silver_4_gameId)\n",
    "np.save('silver_3_gameId', silver_3_gameId)\n",
    "np.save('silver_2_gameId', silver_2_gameId)\n",
    "np.save('silver_1_gameId', silver_1_gameId)"
   ]
  },
  {
   "cell_type": "code",
   "execution_count": 6,
   "metadata": {},
   "outputs": [
    {
     "name": "stdout",
     "output_type": "stream",
     "text": [
      "----------------------------------------------------Summoners start----------------------------------------------------\n",
      "min: 49 sec: 44\n",
      "Waiting for summoners end...\n",
      "----------------------------------------------------Summoners done-----------------------------------------------------\n",
      "\n",
      "----------------------------------------------------Accounts start-----------------------------------------------------\n",
      "min: 51 sec: 44\n"
     ]
    },
    {
     "name": "stderr",
     "output_type": "stream",
     "text": [
      "100%|██████████| 400/400 [10:02<00:00,  1.51s/it]  \n"
     ]
    },
    {
     "name": "stdout",
     "output_type": "stream",
     "text": [
      "\n",
      "-----------------------------------------------------Accounts done-----------------------------------------------------\n",
      "\n",
      "----------------------------------------------------MatchId start----------------------------------------------------\n",
      "min: 1 sec: 48\n"
     ]
    },
    {
     "name": "stderr",
     "output_type": "stream",
     "text": [
      " 29%|██▉       | 116/400 [02:49<02:17,  2.07it/s]  "
     ]
    },
    {
     "name": "stdout",
     "output_type": "stream",
     "text": [
      "                      status\n",
      "message      Gateway timeout\n",
      "status_code              504\n",
      "----Error recovery time----\n",
      "min: 6 sec: 11\n"
     ]
    },
    {
     "name": "stderr",
     "output_type": "stream",
     "text": [
      "\n",
      "  0%|          | 0/1 [00:00<?, ?it/s]\u001b[A\n",
      "100%|██████████| 1/1 [00:00<00:00,  2.26it/s]\u001b[A\n",
      " 29%|██▉       | 117/400 [04:22<2:12:54, 28.18s/it]"
     ]
    },
    {
     "name": "stdout",
     "output_type": "stream",
     "text": [
      "----Error fixed----\n"
     ]
    },
    {
     "name": "stderr",
     "output_type": "stream",
     "text": [
      "100%|██████████| 400/400 [12:26<00:00,  1.87s/it]  \n"
     ]
    },
    {
     "name": "stdout",
     "output_type": "stream",
     "text": [
      "\n",
      "----------------------------------------------------MatchId done----------------------------------------------------\n",
      "----------------------------------------------------Summoners start----------------------------------------------------\n",
      "min: 14 sec: 18\n",
      "Waiting for summoners end...\n",
      "----------------------------------------------------Summoners done-----------------------------------------------------\n",
      "\n",
      "----------------------------------------------------Accounts start-----------------------------------------------------\n",
      "min: 16 sec: 18\n"
     ]
    },
    {
     "name": "stderr",
     "output_type": "stream",
     "text": [
      "100%|██████████| 400/400 [09:59<00:00,  1.50s/it]  \n"
     ]
    },
    {
     "name": "stdout",
     "output_type": "stream",
     "text": [
      "\n",
      "-----------------------------------------------------Accounts done-----------------------------------------------------\n",
      "\n",
      "----------------------------------------------------MatchId start----------------------------------------------------\n",
      "min: 26 sec: 20\n"
     ]
    },
    {
     "name": "stderr",
     "output_type": "stream",
     "text": [
      "100%|██████████| 400/400 [10:55<00:00,  1.64s/it]  \n"
     ]
    },
    {
     "name": "stdout",
     "output_type": "stream",
     "text": [
      "\n",
      "----------------------------------------------------MatchId done----------------------------------------------------\n",
      "----------------------------------------------------Summoners start----------------------------------------------------\n",
      "min: 37 sec: 18\n",
      "Waiting for summoners end...\n",
      "----------------------------------------------------Summoners done-----------------------------------------------------\n",
      "\n",
      "----------------------------------------------------Accounts start-----------------------------------------------------\n",
      "min: 39 sec: 18\n"
     ]
    },
    {
     "name": "stderr",
     "output_type": "stream",
     "text": [
      "100%|██████████| 400/400 [10:08<00:00,  1.52s/it]  \n"
     ]
    },
    {
     "name": "stdout",
     "output_type": "stream",
     "text": [
      "\n",
      "-----------------------------------------------------Accounts done-----------------------------------------------------\n",
      "\n",
      "----------------------------------------------------MatchId start----------------------------------------------------\n",
      "min: 49 sec: 29\n"
     ]
    },
    {
     "name": "stderr",
     "output_type": "stream",
     "text": [
      "100%|██████████| 400/400 [10:56<00:00,  1.64s/it]  \n"
     ]
    },
    {
     "name": "stdout",
     "output_type": "stream",
     "text": [
      "\n",
      "----------------------------------------------------MatchId done----------------------------------------------------\n",
      "----------------------------------------------------Summoners start----------------------------------------------------\n",
      "min: 0 sec: 29\n",
      "Waiting for summoners end...\n",
      "----------------------------------------------------Summoners done-----------------------------------------------------\n",
      "\n",
      "----------------------------------------------------Accounts start-----------------------------------------------------\n",
      "min: 2 sec: 29\n"
     ]
    },
    {
     "name": "stderr",
     "output_type": "stream",
     "text": [
      "100%|██████████| 400/400 [10:01<00:00,  1.50s/it]  \n"
     ]
    },
    {
     "name": "stdout",
     "output_type": "stream",
     "text": [
      "\n",
      "-----------------------------------------------------Accounts done-----------------------------------------------------\n",
      "\n",
      "----------------------------------------------------MatchId start----------------------------------------------------\n",
      "min: 12 sec: 33\n"
     ]
    },
    {
     "name": "stderr",
     "output_type": "stream",
     "text": [
      "100%|██████████| 400/400 [10:52<00:00,  1.63s/it]  "
     ]
    },
    {
     "name": "stdout",
     "output_type": "stream",
     "text": [
      "\n",
      "----------------------------------------------------MatchId done----------------------------------------------------\n"
     ]
    },
    {
     "name": "stderr",
     "output_type": "stream",
     "text": [
      "\n"
     ]
    }
   ],
   "source": [
    "gold_4_gameId = getMatchId(GOLD_URL4, api_key)\n",
    "gold_3_gameId = getMatchId(GOLD_URL3, api_key)\n",
    "gold_2_gameId = getMatchId(GOLD_URL2, api_key)\n",
    "gold_1_gameId = getMatchId(GOLD_URL1, api_key)"
   ]
  },
  {
   "cell_type": "code",
   "execution_count": 7,
   "metadata": {},
   "outputs": [],
   "source": [
    "np.save('gold_4_gameId', gold_4_gameId)\n",
    "np.save('gold_3_gameId', gold_3_gameId)\n",
    "np.save('gold_2_gameId', gold_2_gameId)\n",
    "np.save('gold_1_gameId', gold_1_gameId)"
   ]
  },
  {
   "cell_type": "code",
   "execution_count": 9,
   "metadata": {},
   "outputs": [
    {
     "name": "stdout",
     "output_type": "stream",
     "text": [
      "----------------------------------------------------Summoners start----------------------------------------------------\n",
      "min: 47 sec: 17\n",
      "Waiting for summoners end...\n",
      "----------------------------------------------------Summoners done-----------------------------------------------------\n",
      "\n",
      "----------------------------------------------------Accounts start-----------------------------------------------------\n",
      "min: 49 sec: 17\n"
     ]
    },
    {
     "name": "stderr",
     "output_type": "stream",
     "text": [
      "100%|██████████| 400/400 [10:04<00:00,  1.51s/it]  \n"
     ]
    },
    {
     "name": "stdout",
     "output_type": "stream",
     "text": [
      "\n",
      "-----------------------------------------------------Accounts done-----------------------------------------------------\n",
      "\n",
      "----------------------------------------------------MatchId start----------------------------------------------------\n",
      "min: 59 sec: 24\n"
     ]
    },
    {
     "name": "stderr",
     "output_type": "stream",
     "text": [
      "100%|██████████| 400/400 [10:55<00:00,  1.64s/it]  \n"
     ]
    },
    {
     "name": "stdout",
     "output_type": "stream",
     "text": [
      "\n",
      "----------------------------------------------------MatchId done----------------------------------------------------\n",
      "----------------------------------------------------Summoners start----------------------------------------------------\n",
      "min: 10 sec: 23\n",
      "Waiting for summoners end...\n",
      "----------------------------------------------------Summoners done-----------------------------------------------------\n",
      "\n",
      "----------------------------------------------------Accounts start-----------------------------------------------------\n",
      "min: 12 sec: 23\n"
     ]
    },
    {
     "name": "stderr",
     "output_type": "stream",
     "text": [
      "100%|██████████| 400/400 [10:00<00:00,  1.50s/it]  \n"
     ]
    },
    {
     "name": "stdout",
     "output_type": "stream",
     "text": [
      "\n",
      "-----------------------------------------------------Accounts done-----------------------------------------------------\n",
      "\n",
      "----------------------------------------------------MatchId start----------------------------------------------------\n",
      "min: 22 sec: 25\n"
     ]
    },
    {
     "name": "stderr",
     "output_type": "stream",
     "text": [
      "100%|██████████| 400/400 [10:49<00:00,  1.62s/it]  \n"
     ]
    },
    {
     "name": "stdout",
     "output_type": "stream",
     "text": [
      "\n",
      "----------------------------------------------------MatchId done----------------------------------------------------\n",
      "----------------------------------------------------Summoners start----------------------------------------------------\n",
      "min: 33 sec: 18\n",
      "Waiting for summoners end...\n",
      "----------------------------------------------------Summoners done-----------------------------------------------------\n",
      "\n",
      "----------------------------------------------------Accounts start-----------------------------------------------------\n",
      "min: 35 sec: 18\n"
     ]
    },
    {
     "name": "stderr",
     "output_type": "stream",
     "text": [
      "100%|██████████| 400/400 [10:03<00:00,  1.51s/it]  \n"
     ]
    },
    {
     "name": "stdout",
     "output_type": "stream",
     "text": [
      "\n",
      "-----------------------------------------------------Accounts done-----------------------------------------------------\n",
      "\n",
      "----------------------------------------------------MatchId start----------------------------------------------------\n",
      "min: 45 sec: 23\n"
     ]
    },
    {
     "name": "stderr",
     "output_type": "stream",
     "text": [
      " 98%|█████████▊| 393/400 [08:50<00:02,  2.62it/s]  "
     ]
    },
    {
     "name": "stdout",
     "output_type": "stream",
     "text": [
      "                      status\n",
      "message      Gateway timeout\n",
      "status_code              504\n",
      "----Error recovery time----\n",
      "min: 55 sec: 46\n"
     ]
    },
    {
     "name": "stderr",
     "output_type": "stream",
     "text": [
      "\n",
      "  0%|          | 0/1 [00:00<?, ?it/s]\u001b[A\n",
      "100%|██████████| 1/1 [00:00<00:00,  2.46it/s]\u001b[A\n",
      " 98%|█████████▊| 394/400 [10:23<02:48, 28.10s/it]"
     ]
    },
    {
     "name": "stdout",
     "output_type": "stream",
     "text": [
      "----Error fixed----\n"
     ]
    },
    {
     "name": "stderr",
     "output_type": "stream",
     "text": [
      "100%|██████████| 400/400 [12:28<00:00,  1.87s/it]\n"
     ]
    },
    {
     "name": "stdout",
     "output_type": "stream",
     "text": [
      "\n",
      "----------------------------------------------------MatchId done----------------------------------------------------\n",
      "----------------------------------------------------Summoners start----------------------------------------------------\n",
      "min: 57 sec: 55\n",
      "Waiting for summoners end...\n",
      "----------------------------------------------------Summoners done-----------------------------------------------------\n",
      "\n",
      "----------------------------------------------------Accounts start-----------------------------------------------------\n",
      "min: 59 sec: 53\n"
     ]
    },
    {
     "name": "stderr",
     "output_type": "stream",
     "text": [
      "100%|██████████| 400/400 [09:58<00:00,  1.50s/it]  \n"
     ]
    },
    {
     "name": "stdout",
     "output_type": "stream",
     "text": [
      "\n",
      "-----------------------------------------------------Accounts done-----------------------------------------------------\n",
      "\n",
      "----------------------------------------------------MatchId start----------------------------------------------------\n",
      "min: 9 sec: 54\n"
     ]
    },
    {
     "name": "stderr",
     "output_type": "stream",
     "text": [
      "100%|██████████| 400/400 [10:56<00:00,  1.64s/it]  "
     ]
    },
    {
     "name": "stdout",
     "output_type": "stream",
     "text": [
      "\n",
      "----------------------------------------------------MatchId done----------------------------------------------------\n"
     ]
    },
    {
     "name": "stderr",
     "output_type": "stream",
     "text": [
      "\n"
     ]
    }
   ],
   "source": [
    "platinum_4_gameId = getMatchId(PLATINUM_URL4, api_key)\n",
    "platinum_3_gameId = getMatchId(PLATINUM_URL3, api_key)\n",
    "platinum_2_gameId = getMatchId(PLATINUM_URL2, api_key)\n",
    "platinum_1_gameId = getMatchId(PLATINUM_URL1, api_key)"
   ]
  },
  {
   "cell_type": "code",
   "execution_count": 10,
   "metadata": {},
   "outputs": [],
   "source": [
    "np.save('platinum_4_gameId', platinum_4_gameId)\n",
    "np.save('platinum_3_gameId', platinum_3_gameId)\n",
    "np.save('platinum_2_gameId', platinum_2_gameId)\n",
    "np.save('platinum_1_gameId', platinum_1_gameId)"
   ]
  },
  {
   "cell_type": "code",
   "execution_count": 11,
   "metadata": {},
   "outputs": [
    {
     "name": "stdout",
     "output_type": "stream",
     "text": [
      "----------------------------------------------------Summoners start----------------------------------------------------\n",
      "min: 36 sec: 21\n",
      "Waiting for summoners end...\n",
      "----------------------------------------------------Summoners done-----------------------------------------------------\n",
      "\n",
      "----------------------------------------------------Accounts start-----------------------------------------------------\n",
      "min: 38 sec: 21\n"
     ]
    },
    {
     "name": "stderr",
     "output_type": "stream",
     "text": [
      "100%|██████████| 400/400 [09:59<00:00,  1.50s/it]  \n"
     ]
    },
    {
     "name": "stdout",
     "output_type": "stream",
     "text": [
      "\n",
      "-----------------------------------------------------Accounts done-----------------------------------------------------\n",
      "\n",
      "----------------------------------------------------MatchId start----------------------------------------------------\n",
      "min: 48 sec: 22\n"
     ]
    },
    {
     "name": "stderr",
     "output_type": "stream",
     "text": [
      "100%|██████████| 400/400 [10:50<00:00,  1.63s/it]  \n"
     ]
    },
    {
     "name": "stdout",
     "output_type": "stream",
     "text": [
      "\n",
      "----------------------------------------------------MatchId done----------------------------------------------------\n",
      "----------------------------------------------------Summoners start----------------------------------------------------\n",
      "min: 59 sec: 16\n",
      "Waiting for summoners end...\n",
      "----------------------------------------------------Summoners done-----------------------------------------------------\n",
      "\n",
      "----------------------------------------------------Accounts start-----------------------------------------------------\n",
      "min: 1 sec: 16\n"
     ]
    },
    {
     "name": "stderr",
     "output_type": "stream",
     "text": [
      "100%|██████████| 400/400 [10:00<00:00,  1.50s/it]  \n"
     ]
    },
    {
     "name": "stdout",
     "output_type": "stream",
     "text": [
      "\n",
      "-----------------------------------------------------Accounts done-----------------------------------------------------\n",
      "\n",
      "----------------------------------------------------MatchId start----------------------------------------------------\n",
      "min: 11 sec: 18\n"
     ]
    },
    {
     "name": "stderr",
     "output_type": "stream",
     "text": [
      " 19%|█▉        | 76/400 [00:30<01:54,  2.83it/s]"
     ]
    },
    {
     "name": "stdout",
     "output_type": "stream",
     "text": [
      "                      status\n",
      "message      Gateway timeout\n",
      "status_code              504\n",
      "----Error recovery time----\n",
      "min: 13 sec: 21\n"
     ]
    },
    {
     "name": "stderr",
     "output_type": "stream",
     "text": [
      "\n",
      "  0%|          | 0/1 [00:00<?, ?it/s]\u001b[A\n",
      "100%|██████████| 1/1 [00:00<00:00,  2.77it/s]\u001b[A\n",
      " 19%|█▉        | 77/400 [02:02<2:31:03, 28.06s/it]"
     ]
    },
    {
     "name": "stdout",
     "output_type": "stream",
     "text": [
      "----Error fixed----\n"
     ]
    },
    {
     "name": "stderr",
     "output_type": "stream",
     "text": [
      "100%|██████████| 400/400 [12:22<00:00,  1.86s/it]  \n"
     ]
    },
    {
     "name": "stdout",
     "output_type": "stream",
     "text": [
      "\n",
      "----------------------------------------------------MatchId done----------------------------------------------------\n",
      "----------------------------------------------------Summoners start----------------------------------------------------\n",
      "min: 23 sec: 44\n",
      "Waiting for summoners end...\n",
      "----------------------------------------------------Summoners done-----------------------------------------------------\n",
      "\n",
      "----------------------------------------------------Accounts start-----------------------------------------------------\n",
      "min: 25 sec: 44\n"
     ]
    },
    {
     "name": "stderr",
     "output_type": "stream",
     "text": [
      "100%|██████████| 400/400 [10:00<00:00,  1.50s/it]  \n"
     ]
    },
    {
     "name": "stdout",
     "output_type": "stream",
     "text": [
      "\n",
      "-----------------------------------------------------Accounts done-----------------------------------------------------\n",
      "\n",
      "----------------------------------------------------MatchId start----------------------------------------------------\n",
      "min: 35 sec: 46\n"
     ]
    },
    {
     "name": "stderr",
     "output_type": "stream",
     "text": [
      "  9%|▉         | 37/400 [00:14<02:07,  2.84it/s]"
     ]
    },
    {
     "name": "stdout",
     "output_type": "stream",
     "text": [
      "                      status\n",
      "message      Gateway timeout\n",
      "status_code              504\n",
      "----Error recovery time----\n",
      "min: 37 sec: 33\n"
     ]
    },
    {
     "name": "stderr",
     "output_type": "stream",
     "text": [
      "\n",
      "  0%|          | 0/1 [00:00<?, ?it/s]\u001b[A\n",
      "100%|██████████| 1/1 [00:00<00:00,  2.26it/s]\u001b[A\n",
      " 10%|▉         | 38/400 [01:47<2:49:29, 28.09s/it]"
     ]
    },
    {
     "name": "stdout",
     "output_type": "stream",
     "text": [
      "----Error fixed----\n"
     ]
    },
    {
     "name": "stderr",
     "output_type": "stream",
     "text": [
      "100%|██████████| 400/400 [12:23<00:00,  1.86s/it]  \n"
     ]
    },
    {
     "name": "stdout",
     "output_type": "stream",
     "text": [
      "\n",
      "----------------------------------------------------MatchId done----------------------------------------------------\n",
      "----------------------------------------------------Summoners start----------------------------------------------------\n",
      "min: 48 sec: 13\n",
      "Waiting for summoners end...\n",
      "----------------------------------------------------Summoners done-----------------------------------------------------\n",
      "\n",
      "----------------------------------------------------Accounts start-----------------------------------------------------\n",
      "min: 50 sec: 13\n"
     ]
    },
    {
     "name": "stderr",
     "output_type": "stream",
     "text": [
      "100%|██████████| 400/400 [09:59<00:00,  1.50s/it]  \n"
     ]
    },
    {
     "name": "stdout",
     "output_type": "stream",
     "text": [
      "\n",
      "-----------------------------------------------------Accounts done-----------------------------------------------------\n",
      "\n",
      "----------------------------------------------------MatchId start----------------------------------------------------\n",
      "min: 0 sec: 15\n"
     ]
    },
    {
     "name": "stderr",
     "output_type": "stream",
     "text": [
      " 90%|████████▉ | 359/400 [08:30<00:14,  2.85it/s]  "
     ]
    },
    {
     "name": "stdout",
     "output_type": "stream",
     "text": [
      "                      status\n",
      "message      Gateway timeout\n",
      "status_code              504\n",
      "----Error recovery time----\n",
      "min: 10 sec: 19\n"
     ]
    },
    {
     "name": "stderr",
     "output_type": "stream",
     "text": [
      "\n",
      "  0%|          | 0/1 [00:00<?, ?it/s]\u001b[A\n",
      "100%|██████████| 1/1 [00:00<00:00,  2.65it/s]\u001b[A\n",
      " 90%|█████████ | 360/400 [10:04<18:54, 28.37s/it]"
     ]
    },
    {
     "name": "stdout",
     "output_type": "stream",
     "text": [
      "----Error fixed----\n"
     ]
    },
    {
     "name": "stderr",
     "output_type": "stream",
     "text": [
      "100%|██████████| 400/400 [12:22<00:00,  1.86s/it]\n"
     ]
    },
    {
     "name": "stdout",
     "output_type": "stream",
     "text": [
      "\n",
      "----------------------------------------------------MatchId done----------------------------------------------------\n",
      "----------------------------------------------------Summoners start----------------------------------------------------\n",
      "min: 12 sec: 41\n",
      "Waiting for summoners end...\n",
      "----------------------------------------------------Summoners done-----------------------------------------------------\n",
      "\n",
      "----------------------------------------------------Accounts start-----------------------------------------------------\n",
      "min: 14 sec: 41\n"
     ]
    },
    {
     "name": "stderr",
     "output_type": "stream",
     "text": [
      "100%|██████████| 216/216 [05:03<00:00,  1.41s/it]  \n"
     ]
    },
    {
     "name": "stdout",
     "output_type": "stream",
     "text": [
      "\n",
      "-----------------------------------------------------Accounts done-----------------------------------------------------\n",
      "\n",
      "----------------------------------------------------MatchId start----------------------------------------------------\n",
      "min: 19 sec: 47\n"
     ]
    },
    {
     "name": "stderr",
     "output_type": "stream",
     "text": [
      "  4%|▎         | 8/216 [00:02<01:16,  2.73it/s]"
     ]
    },
    {
     "name": "stdout",
     "output_type": "stream",
     "text": [
      "                      status\n",
      "message      Gateway timeout\n",
      "status_code              504\n",
      "----Error recovery time----\n",
      "min: 21 sec: 22\n"
     ]
    },
    {
     "name": "stderr",
     "output_type": "stream",
     "text": [
      "\n",
      "  0%|          | 0/1 [00:00<?, ?it/s]\u001b[A\n",
      "100%|██████████| 1/1 [00:00<00:00,  2.49it/s]\u001b[A\n",
      "  4%|▍         | 9/216 [01:35<1:36:52, 28.08s/it]"
     ]
    },
    {
     "name": "stdout",
     "output_type": "stream",
     "text": [
      "----Error fixed----\n"
     ]
    },
    {
     "name": "stderr",
     "output_type": "stream",
     "text": [
      "100%|██████████| 216/216 [07:04<00:00,  1.97s/it]  \n"
     ]
    },
    {
     "name": "stdout",
     "output_type": "stream",
     "text": [
      "\n",
      "----------------------------------------------------MatchId done----------------------------------------------------\n",
      "----------------------------------------------------Summoners start----------------------------------------------------\n",
      "min: 26 sec: 54\n",
      "Waiting for summoners end...\n",
      "----------------------------------------------------Summoners done-----------------------------------------------------\n",
      "\n",
      "----------------------------------------------------Accounts start-----------------------------------------------------\n",
      "min: 28 sec: 54\n"
     ]
    },
    {
     "name": "stderr",
     "output_type": "stream",
     "text": [
      "100%|██████████| 68/68 [00:18<00:00,  3.65it/s]\n"
     ]
    },
    {
     "name": "stdout",
     "output_type": "stream",
     "text": [
      "\n",
      "-----------------------------------------------------Accounts done-----------------------------------------------------\n",
      "\n",
      "----------------------------------------------------MatchId start----------------------------------------------------\n",
      "min: 29 sec: 15\n"
     ]
    },
    {
     "name": "stderr",
     "output_type": "stream",
     "text": [
      " 47%|████▋     | 32/68 [00:12<00:12,  2.83it/s]"
     ]
    },
    {
     "name": "stdout",
     "output_type": "stream",
     "text": [
      "                          status\n",
      "message      Rate limit exceeded\n",
      "status_code                  429\n",
      "----Error recovery time----\n",
      "min: 30 sec: 59\n"
     ]
    },
    {
     "name": "stderr",
     "output_type": "stream",
     "text": [
      "\n",
      "  0%|          | 0/1 [00:00<?, ?it/s]\u001b[A\n",
      "100%|██████████| 1/1 [00:00<00:00,  2.49it/s]\u001b[A\n",
      " 49%|████▊     | 33/68 [01:44<16:21, 28.03s/it]"
     ]
    },
    {
     "name": "stdout",
     "output_type": "stream",
     "text": [
      "----Error fixed----\n"
     ]
    },
    {
     "name": "stderr",
     "output_type": "stream",
     "text": [
      "100%|██████████| 68/68 [01:59<00:00,  1.76s/it]\n"
     ]
    },
    {
     "name": "stdout",
     "output_type": "stream",
     "text": [
      "\n",
      "----------------------------------------------------MatchId done----------------------------------------------------\n",
      "----------------------------------------------------Summoners start----------------------------------------------------\n",
      "min: 31 sec: 17\n",
      "Waiting for summoners end...\n",
      "----------------------------------------------------Summoners done-----------------------------------------------------\n",
      "\n",
      "----------------------------------------------------Accounts start-----------------------------------------------------\n",
      "min: 33 sec: 17\n"
     ]
    },
    {
     "name": "stderr",
     "output_type": "stream",
     "text": [
      "100%|██████████| 13/13 [00:02<00:00,  4.42it/s]\n"
     ]
    },
    {
     "name": "stdout",
     "output_type": "stream",
     "text": [
      "\n",
      "-----------------------------------------------------Accounts done-----------------------------------------------------\n",
      "\n",
      "----------------------------------------------------MatchId start----------------------------------------------------\n",
      "min: 33 sec: 22\n"
     ]
    },
    {
     "name": "stderr",
     "output_type": "stream",
     "text": [
      "100%|██████████| 13/13 [00:04<00:00,  2.84it/s]"
     ]
    },
    {
     "name": "stdout",
     "output_type": "stream",
     "text": [
      "\n",
      "----------------------------------------------------MatchId done----------------------------------------------------\n"
     ]
    },
    {
     "name": "stderr",
     "output_type": "stream",
     "text": [
      "\n"
     ]
    }
   ],
   "source": [
    "diamond_4_gameId = getMatchId(DIAMOND_URL4, api_key)\n",
    "diamond_3_gameId = getMatchId(DIAMOND_URL3, api_key)\n",
    "diamond_2_gameId = getMatchId(DIAMOND_URL2, api_key)\n",
    "diamond_1_gameId = getMatchId(DIAMOND_URL1, api_key)\n",
    "master_gameId = getMatchId(MASTER_URL1, api_key)\n",
    "grandmaster_gameId = getMatchId(GRANDMASTER_URL1, api_key)\n",
    "challenger_gameId = getMatchId(CHALLENGER_URL1, api_key)"
   ]
  },
  {
   "cell_type": "code",
   "execution_count": 12,
   "metadata": {},
   "outputs": [],
   "source": [
    "np.save('diamond_4_gameId', diamond_4_gameId)\n",
    "np.save('diamond_3_gameId', diamond_3_gameId)\n",
    "np.save('diamond_2_gameId', diamond_2_gameId)\n",
    "np.save('diamond_1_gameId', diamond_1_gameId)\n",
    "np.save('master_gameId', master_gameId)\n",
    "np.save('grandmaster_gameId', grandmaster_gameId)\n",
    "np.save('challenger_gameId', challenger_gameId)"
   ]
  },
  {
   "cell_type": "code",
   "execution_count": 12,
   "metadata": {},
   "outputs": [
    {
     "data": {
      "text/plain": [
       "353"
      ]
     },
     "execution_count": 12,
     "metadata": {},
     "output_type": "execute_result"
    }
   ],
   "source": [
    "a = np.load('diamond\\diamond_1_gameId.npy')\n",
    "len(set(a.tolist()))"
   ]
  },
  {
   "cell_type": "code",
   "execution_count": 79,
   "metadata": {},
   "outputs": [],
   "source": [
    "def chamFind(i):\n",
    "    if i == 266:\n",
    "        print(\"Aatrox, id : {}\".format(i))\n",
    "    elif i == 412:  \n",
    "        print(\"Thresh, id : {}\".format(i))\n",
    "    elif i == 23:\n",
    "        print( \"Tryndamere, id : {}\".format(i))\n",
    "    elif i == 79:\n",
    "        print( \"Gragas, id : {}\".format(i))\n",
    "    elif i == 69:\n",
    "        print( \"Cassiopeia, id : {}\".format(i))\n",
    "    elif i == 136:\n",
    "        print( \"Aurelion Sol, id : {}\".format(i))\n",
    "    elif i == 13:\n",
    "        print( \"Ryze, id : {}\".format(i))\n",
    "    elif i == 78:\n",
    "        print( \"Poppy, id : {}\".format(i))\n",
    "    elif i == 14:\n",
    "        print( \"Sion, id : {}\".format(i))\n",
    "    elif i == 1:\n",
    "        print( \"Annie, id : {}\".format(i))\n",
    "    elif i == 202:\n",
    "        print( \"Jhin, id : {}\".format(i))\n",
    "    elif i == 43:\n",
    "        print( \"Karma, id : {}\".format(i))\n",
    "    elif i == 111:\n",
    "        print( \"Nautilus, id : {}\".format(i))\n",
    "    elif i == 240:\n",
    "        print( \"Kled, id : {}\".format(i))\n",
    "    elif i == 99:\n",
    "        print( \"Lux, id : {}\".format(i))\n",
    "    elif i == 103:\n",
    "        print( \"Ahri, id : {}\".format(i))\n",
    "    elif i == 2:\n",
    "        print( \"Olaf, id : {}\".format(i))\n",
    "    elif i == 112:\n",
    "        print( \"Viktor, id : {}\".format(i))\n",
    "    elif i == 34:\n",
    "        print( \"Anivia, id : {}\".format(i))\n",
    "    elif i == 27:\n",
    "        print( \"Singed, id : {}\".format(i))\n",
    "    elif i == 86:\n",
    "        print( \"Garen, id : {}\".format(i))\n",
    "    elif i == 127:\n",
    "        print( \"Lissandra, id : {}\".format(i))\n",
    "    elif i == 57:\n",
    "        print( \"Maokai, id : {}\".format(i))\n",
    "    elif i == 25:\n",
    "        print( \"Morgana, id : {}\".format(i))\n",
    "    elif i == 28:\n",
    "        print( \"Evelynn, id : {}\".format(i))\n",
    "    elif i == 105:\n",
    "        print( \"Fizz, id : {}\".format(i))\n",
    "    elif i == 74:\n",
    "        print( \"Heimerdinger, id : {}\".format(i))\n",
    "    elif i == 238:\n",
    "        print( \"Zed, id : {}\".format(i))\n",
    "    elif i == 68:\n",
    "        print( \"Rumble, id : {}\".format(i))\n",
    "    elif i == 82:\n",
    "        print( \"Mordekaiser, id : {}\".format(i))\n",
    "    elif i == 37:\n",
    "        print( \"Sona, id : {}\".format(i))\n",
    "    elif i == 96:\n",
    "        print( \"Kog'Maw, id : {}\".format(i))\n",
    "    elif i == 55:\n",
    "        print( \"Katarina, id : {}\".format(i))\n",
    "    elif i == 117:\n",
    "        print( \"Lulu, id : {}\".format(i))\n",
    "    elif i == 22:\n",
    "        print( \"Ashe, id : {}\".format(i))\n",
    "    elif i == 30:\n",
    "        print( \"Karthus, id : {}\".format(i))\n",
    "    elif i == 12:\n",
    "        print( \"Alistar, id : {}\".format(i))\n",
    "    elif i == 122:\n",
    "        print( \"Darius, id : {}\".format(i))\n",
    "    elif i == 67:\n",
    "        print( \"Vayne, id : {}\".format(i))\n",
    "    elif i == 110:\n",
    "        print( \"Varus, id : {}\".format(i))\n",
    "    elif i == 77:\n",
    "        print( \"Udyr, id : {}\".format(i))\n",
    "    elif i == 89:\n",
    "        print( \"Leona, id : {}\".format(i))\n",
    "    elif i == 126:\n",
    "        print( \"Jayce, id : {}\".format(i))\n",
    "    elif i == 134:\n",
    "        print( \"Syndra, id : {}\".format(i))\n",
    "    elif i == 80:\n",
    "        print( \"Pantheon, id : {}\".format(i))\n",
    "    elif i == 92:\n",
    "        print( \"Riven, id : {}\".format(i))\n",
    "    elif i == 121:\n",
    "        print( \"Kha'Zix, id : {}\".format(i))\n",
    "    elif i == 42:\n",
    "        print( \"Corki, id : {}\".format(i))\n",
    "    elif i == 268:\n",
    "        print( \"Azir, id : {}\".format(i))\n",
    "    elif i == 51:\n",
    "        print( \"Caitlyn, id : {}\".format(i))\n",
    "    elif i == 76:\n",
    "        print( \"Nidalee, id : {}\".format(i))\n",
    "    elif i == 85:\n",
    "        print( \"Kennen, id : {}\".format(i))\n",
    "    elif i == 3:\n",
    "        print( \"Galio, id : {}\".format(i))\n",
    "    elif i == 45:\n",
    "        print( \"Veigar, id : {}\".format(i))\n",
    "    elif i == 432:\n",
    "        print( \"Bard, id : {}\".format(i))\n",
    "    elif i == 150:\n",
    "        print( \"Gnar, id : {}\".format(i))\n",
    "    elif i == 90:\n",
    "        print( \"Malzahar, id : {}\".format(i))\n",
    "    elif i == 104:\n",
    "        print( \"Graves, id : {}\".format(i))\n",
    "    elif i == 254:\n",
    "        print( \"Vi, id : {}\".format(i))\n",
    "    elif i == 10:\n",
    "        print( \"Kayle, id : {}\".format(i))\n",
    "    elif i == 39:\n",
    "        print( \"Irelia, id : {}\".format(i))\n",
    "    elif i == 64:\n",
    "        print( \"Lee Sin, id : {}\".format(i))\n",
    "    elif i == 420:\n",
    "        print( \"Illaoi, id : {}\".format(i))\n",
    "    elif i == 60:\n",
    "        print( \"Elise, id : {}\".format(i))\n",
    "    elif i == 106:\n",
    "        print( \"Volibear, id : {}\".format(i))\n",
    "    elif i == 20:\n",
    "        print( \"Nunu, id : {}\".format(i))\n",
    "    elif i == 4:\n",
    "        print( \"Twisted Fate, id : {}\".format(i))\n",
    "    elif i == 24:\n",
    "        print( \"Jax, id : {}\".format(i))\n",
    "    elif i == 102:\n",
    "        print( \"Shyvana, id : {}\".format(i))\n",
    "    elif i == 429:\n",
    "        print( \"Kalista, id : {}\".format(i))\n",
    "    elif i == 36:\n",
    "        print( \"Dr. Mundo, id : {}\".format(i))\n",
    "    elif i == 427:\n",
    "        print( \"Ivern, id : {}\".format(i))\n",
    "    elif i == 131:\n",
    "        print( \"Diana, id : {}\".format(i))\n",
    "    elif i == 223:\n",
    "        print( \"Tahm Kench, id : {}\".format(i))\n",
    "    elif i == 63:\n",
    "        print( \"Brand, id : {}\".format(i))\n",
    "    elif i == 113:\n",
    "        print( \"Sejuani, id : {}\".format(i))\n",
    "    elif i == 8:\n",
    "        print( \"Vladimir, id : {}\".format(i))\n",
    "    elif i == 154:\n",
    "        print( \"Zac, id : {}\".format(i))\n",
    "    elif i == 421:\n",
    "        print( \"Rek'Sai, id : {}\".format(i))\n",
    "    elif i == 133:\n",
    "        print( \"Quinn, id : {}\".format(i))\n",
    "    elif i == 84:\n",
    "        print( \"Akali, id : {}\".format(i))\n",
    "    elif i == 163:\n",
    "        print( \"Taliyah, id : {}\".format(i))\n",
    "    elif i == 18:\n",
    "        print( \"Tristana, id : {}\".format(i))\n",
    "    elif i == 120:\n",
    "        print( \"Hecarim, id : {}\".format(i))\n",
    "    elif i == 15:\n",
    "        print( \"Sivir, id : {}\".format(i))\n",
    "    elif i == 236:\n",
    "        print( \"Lucian, id : {}\".format(i))\n",
    "    elif i == 107:\n",
    "        print( \"Rengar, id : {}\".format(i))\n",
    "    elif i == 19:\n",
    "        print( \"Warwick, id : {}\".format(i))\n",
    "    elif i == 72:\n",
    "        print( \"Skarner, id : {}\".format(i))\n",
    "    elif i == 54:\n",
    "        print( \"Malphite, id : {}\".format(i))\n",
    "    elif i == 157:\n",
    "        print( \"Yasuo, id : {}\".format(i))\n",
    "    elif i == 101:\n",
    "        print( \"Xerath, id : {}\".format(i))\n",
    "    elif i == 17:\n",
    "        print( \"Teemo, id : {}\".format(i))\n",
    "    elif i == 75:\n",
    "        print( \"Nasus, id : {}\".format(i))\n",
    "    elif i == 58:\n",
    "        print( \"Renekton, id : {}\".format(i))\n",
    "    elif i == 119:\n",
    "        print( \"Draven, id : {}\".format(i))\n",
    "    elif i == 35:\n",
    "        print( \"Shaco, id : {}\".format(i))\n",
    "    elif i == 50:\n",
    "        print( \"Swain, id : {}\".format(i))\n",
    "    elif i == 91:\n",
    "        print( \"Talon, id : {}\".format(i))\n",
    "    elif i == 40:\n",
    "        print( \"Janna, id : {}\".format(i))\n",
    "    elif i == 115:\n",
    "        print( \"Ziggs, id : {}\".format(i))\n",
    "    elif i == 245:\n",
    "        print( \"Ekko, id : {}\".format(i))\n",
    "    elif i == 61:\n",
    "        print( \"Orianna, id : {}\".format(i))\n",
    "    elif i == 114:\n",
    "        print( \"Fiora, id : {}\".format(i))\n",
    "    elif i == 9:\n",
    "        print( \"Fiddlesticks, id : {}\".format(i))\n",
    "    elif i == 31:\n",
    "        print( \"Cho'Gath, id : {}\".format(i))\n",
    "    elif i == 33:\n",
    "        print( \"Rammus, id : {}\".format(i))\n",
    "    elif i == 7:\n",
    "        print( \"LeBlanc, id : {}\".format(i))\n",
    "    elif i == 16:\n",
    "        print( \"Soraka, id : {}\".format(i))\n",
    "    elif i == 26:\n",
    "        print( \"Zilean, id : {}\".format(i))\n",
    "    elif i == 56:\n",
    "        print( \"Nocturne, id : {}\".format(i))\n",
    "    elif i == 222:\n",
    "        print( \"Jinx, id : {}\".format(i))\n",
    "    elif i == 83:\n",
    "        print( \"Yorick, id : {}\".format(i))\n",
    "    elif i == 6:\n",
    "        print( \"Urgot, id : {}\".format(i))\n",
    "    elif i == 203:\n",
    "        print( \"Kindred, id : {}\".format(i))\n",
    "    elif i == 21:\n",
    "        print( \"Miss Fortune, id : {}\".format(i))\n",
    "    elif i == 62:\n",
    "        print( \"Wukong, id : {}\".format(i))\n",
    "    elif i == 53:\n",
    "        print( \"Blitzcrank, id : {}\".format(i))\n",
    "    elif i == 98:\n",
    "        print( \"Shen, id : {}\".format(i))\n",
    "    elif i == 201:\n",
    "        print( \"Braum, id : {}\".format(i))\n",
    "    elif i == 5:\n",
    "        print( \"Xin Zhao, id : {}\".format(i))\n",
    "    elif i == 29:\n",
    "        print( \"Twitch, id : {}\".format(i))\n",
    "    elif i == 11:\n",
    "        print( \"Master Yi, id : {}\".format(i))\n",
    "    elif i == 44:\n",
    "        print( \"Taric, id : {}\".format(i))\n",
    "    elif i == 32:\n",
    "        print( \"Amumu, id : {}\".format(i))\n",
    "    elif i == 41:\n",
    "        print( \"Gangplank, id : {}\".format(i))\n",
    "    elif i == 48:\n",
    "        print( \"Trundle, id : {}\".format(i))\n",
    "    elif i == 38:\n",
    "        print( \"Kassadin, id : {}\".format(i))\n",
    "    elif i == 161:\n",
    "        print( \"Vel'Koz, id : {}\".format(i))\n",
    "    elif i == 143:\n",
    "        print( \"Zyra, id : {}\".format(i))\n",
    "    elif i == 267:\n",
    "        print( \"Nami, id : {}\".format(i))\n",
    "    elif i == 59:\n",
    "        print( \"Jarvan IV, id : {}\".format(i))\n",
    "    elif i == 81:\n",
    "        print( \"Ezreal, id : {}\".format(i))\n",
    "\n"
   ]
  },
  {
   "cell_type": "code",
   "execution_count": null,
   "metadata": {},
   "outputs": [],
   "source": []
  },
  {
   "cell_type": "code",
   "execution_count": 13,
   "metadata": {},
   "outputs": [],
   "source": [
    "import tqdm"
   ]
  },
  {
   "cell_type": "code",
   "execution_count": 80,
   "metadata": {},
   "outputs": [
    {
     "name": "stdout",
     "output_type": "stream",
     "text": [
      "Annie, id : 1\n",
      "Olaf, id : 2\n",
      "Galio, id : 3\n",
      "Twisted Fate, id : 4\n",
      "Xin Zhao, id : 5\n",
      "Urgot, id : 6\n",
      "LeBlanc, id : 7\n",
      "Vladimir, id : 8\n",
      "Fiddlesticks, id : 9\n",
      "Kayle, id : 10\n",
      "Master Yi, id : 11\n",
      "Alistar, id : 12\n",
      "Ryze, id : 13\n",
      "Sion, id : 14\n",
      "Sivir, id : 15\n",
      "Soraka, id : 16\n",
      "Teemo, id : 17\n",
      "Tristana, id : 18\n",
      "Warwick, id : 19\n",
      "Nunu, id : 20\n",
      "Miss Fortune, id : 21\n",
      "Ashe, id : 22\n",
      "Tryndamere, id : 23\n",
      "Jax, id : 24\n",
      "Morgana, id : 25\n",
      "Zilean, id : 26\n",
      "Singed, id : 27\n",
      "Evelynn, id : 28\n",
      "Twitch, id : 29\n",
      "Karthus, id : 30\n",
      "Cho'Gath, id : 31\n",
      "Amumu, id : 32\n",
      "Rammus, id : 33\n",
      "Anivia, id : 34\n",
      "Shaco, id : 35\n",
      "Dr. Mundo, id : 36\n",
      "Sona, id : 37\n",
      "Kassadin, id : 38\n",
      "Irelia, id : 39\n",
      "Janna, id : 40\n",
      "Gangplank, id : 41\n",
      "Corki, id : 42\n",
      "Karma, id : 43\n",
      "Taric, id : 44\n",
      "Veigar, id : 45\n",
      "Trundle, id : 48\n",
      "Swain, id : 50\n",
      "Caitlyn, id : 51\n",
      "Blitzcrank, id : 53\n",
      "Malphite, id : 54\n",
      "Katarina, id : 55\n",
      "Nocturne, id : 56\n",
      "Maokai, id : 57\n",
      "Renekton, id : 58\n",
      "Jarvan IV, id : 59\n",
      "Elise, id : 60\n",
      "Orianna, id : 61\n",
      "Wukong, id : 62\n",
      "Brand, id : 63\n",
      "Lee Sin, id : 64\n",
      "Vayne, id : 67\n",
      "Rumble, id : 68\n",
      "Cassiopeia, id : 69\n",
      "Skarner, id : 72\n",
      "Heimerdinger, id : 74\n",
      "Nasus, id : 75\n",
      "Nidalee, id : 76\n",
      "Udyr, id : 77\n",
      "Poppy, id : 78\n",
      "Gragas, id : 79\n",
      "Pantheon, id : 80\n",
      "Ezreal, id : 81\n",
      "Mordekaiser, id : 82\n",
      "Yorick, id : 83\n",
      "Akali, id : 84\n",
      "Kennen, id : 85\n",
      "Garen, id : 86\n",
      "Leona, id : 89\n",
      "Malzahar, id : 90\n",
      "Talon, id : 91\n",
      "Riven, id : 92\n",
      "Kog'Maw, id : 96\n",
      "Shen, id : 98\n",
      "Lux, id : 99\n",
      "Xerath, id : 101\n",
      "Shyvana, id : 102\n",
      "Ahri, id : 103\n",
      "Graves, id : 104\n",
      "Fizz, id : 105\n",
      "Volibear, id : 106\n",
      "Rengar, id : 107\n",
      "Varus, id : 110\n",
      "Nautilus, id : 111\n",
      "Viktor, id : 112\n",
      "Sejuani, id : 113\n",
      "Fiora, id : 114\n",
      "Ziggs, id : 115\n",
      "Lulu, id : 117\n",
      "Draven, id : 119\n",
      "Hecarim, id : 120\n",
      "Kha'Zix, id : 121\n",
      "Darius, id : 122\n",
      "Jayce, id : 126\n",
      "Lissandra, id : 127\n",
      "Diana, id : 131\n",
      "Quinn, id : 133\n",
      "Syndra, id : 134\n",
      "Aurelion Sol, id : 136\n",
      "Zyra, id : 143\n",
      "Gnar, id : 150\n",
      "Zac, id : 154\n",
      "Yasuo, id : 157\n",
      "Vel'Koz, id : 161\n",
      "Taliyah, id : 163\n",
      "Braum, id : 201\n",
      "Jhin, id : 202\n",
      "Kindred, id : 203\n",
      "Jinx, id : 222\n",
      "Tahm Kench, id : 223\n",
      "Lucian, id : 236\n",
      "Zed, id : 238\n",
      "Kled, id : 240\n",
      "Ekko, id : 245\n",
      "Vi, id : 254\n",
      "Aatrox, id : 266\n",
      "Nami, id : 267\n",
      "Azir, id : 268\n",
      "Thresh, id : 412\n",
      "Illaoi, id : 420\n",
      "Rek'Sai, id : 421\n",
      "Ivern, id : 427\n",
      "Kalista, id : 429\n",
      "Bard, id : 432\n"
     ]
    }
   ],
   "source": [
    "for i in range(1, 1000):\n",
    "    chamFind(i)"
   ]
  },
  {
   "cell_type": "code",
   "execution_count": 65,
   "metadata": {},
   "outputs": [
    {
     "name": "stdout",
     "output_type": "stream",
     "text": [
      "[4938079235 4938032240 4934432603 4937970678 4937969699 4938438709\n",
      " 4937775143 4938474987 4937716042 4935541210 4938071143 4932725430\n",
      " 4936940766 4928329119 4938073106 4935793743 4938381551 4938376141\n",
      " 4929506050 4937924048 4935190430 4937836182 4938375776 4937601956\n",
      " 4936346560 4934545174 4935205919 4938459727 4938423692 4930364611\n",
      " 4938490626 4937727279 4927237766 4937415070 4938425510 4938501676\n",
      " 4916577436 4936488519 4937784927 4930874321 4927638952 4937804815\n",
      " 4938458138 4930551606 4937865326 4938057520 4936874407 4935641308\n",
      " 4938019068 4938042200 4938057520 4936623976 4937554538 4938375078\n",
      " 4938436066 4934650902 4937844096 4937728911 4937813463 4938478239\n",
      " 4936809672 4938458603 4936880322 4938390797 4938454028 4938388166\n",
      " 4930822383 4938067069 4937858798 4938032240 4930793385 4935209147\n",
      " 4934496997 4930874321 4938478332 4934813344 4938475427 4934525538\n",
      " 4937832595 4938370555 4937477499 4936274853 4935830415 4938389188\n",
      " 4938396928 4937962627 4936592393 4937805677 4938524178 4932136566\n",
      " 4938059925 4938443738 4935374936 4935254638 4938479100 4936832855\n",
      " 4936688990 4937488548 4938022458 4937124508 4935967738 4929998185\n",
      " 4937974523 4938434911 4936870852 4930591781 4937853267 4934239909\n",
      " 4938000495 4936083400 4937807939 4937445294 4937396644 4932255107\n",
      " 4936769712 4938570692 4932731259 4938396928 4938436844 4938373914\n",
      " 4938419583 4937393666 4938410891 4938410940 4934633919 4936304531\n",
      " 4937729849 4937849758 4937448936 4936596722 4936877891 4937988616\n",
      " 4938051378 4937747578 4938398570 4931649484 4938038897 4937495404\n",
      " 4937635782 4938380130 4937617254 4938436973 4937513663 4936864709\n",
      " 4937840747 4938456860 4938375776 4938454699 4935632741 4937822685\n",
      " 4937862007 4935787734 4937647816 4938478239 4937477499 4937506759\n",
      " 4936706606 4935690014 4938473785 4930901849 4932212207 4937116555\n",
      " 4937664976 4937593420 4938428171 4934573763 4937739388 4937401034\n",
      " 4938533332 4938373682 4938001187 4938008478 4937882806 4937952316\n",
      " 4936970638 4934829526 4936930064 4938426260 4934663936 4935935340\n",
      " 4936838881 4929070588 4938481232 4937754046 4937807787 4937715140\n",
      " 4935176041 4934270762 4937599145 4934842252 4938375078 4937874289\n",
      " 4938419482 4937935735 4937666254 4937784864 4938522835 4938419482\n",
      " 4936829730 4937726851 4932145149 4938459624 4938421683 4923816515\n",
      " 4937729849 4937962627 4930862273 4938456523 4920809267 4937989676\n",
      " 4937618415 4924158754 4938423692 4923867501 4934624221 4923659744\n",
      " 4935909141 4938465381 4924158754 4924826777 4924161157 4923994410\n",
      " 4926727419 4938013236 4924187043 4924314955 4922503740 4938458023\n",
      " 4930669879 4937919148 4936877891 4937734240 4937741332 4938458023\n",
      " 4938443738 4937427244 4937974523 4936749216 4936844283 4936873566\n",
      " 4938534264 4937442105 4937896760 4938479100 4921126218 4937399483\n",
      " 4931168418 4936858158 4933914220 4938531706 4932945357 4938042798\n",
      " 4937679088 4937861588 4935872788 4928039529 4938438709 4938456860\n",
      " 4938077487 4938429528 4937996264 4929458867 4932065456 4935440467\n",
      " 4936794893 4938389770 4936845197 4938531333 4930739684 4938438709\n",
      " 4938449563 4938418534 4938468458 4938418713 4938459727 4937784626\n",
      " 4937508797 4936607171 4938474953 4938418711 4937867711 4936314023\n",
      " 4938474987 4928320338 4938379906 4937955544 4938377323 4914346829\n",
      " 4936856564 4938542345 4937665199 4937734078 4938524178 4936876899\n",
      " 4937697021 4938479100 4933468404 4938381243 4935696951 4937989676\n",
      " 4937552160 4938000669 4938477822 4935823673 4938561777 4937506759\n",
      " 4937437903 4937698145 4938432209 4938377858 4938069917 4937634787\n",
      " 4937684588 4936839549 4936423967 4937894411 4938512212 4936839549\n",
      " 4937395752 4938377638 4937608446 4937175607 4936829730 4937527718\n",
      " 4933513990 4935624910 4938042798 4935835815 4935499520 4938479238\n",
      " 4938458138 4936428610 4938474953 4937940277 4936941224 4938561549\n",
      " 4936849821 4936732512 4937595922 4924075081 4936295903 4937882806\n",
      " 4937836182 4938381551 4937903145 4938010029 4937701266 4938458138\n",
      " 4937537723 4938443674 4934562872 4938056375 4935646707 4938422931\n",
      " 4938398570 4937701271 4937899009 4929639261 4936326965 4933908458\n",
      " 4937618415 4938534264 4938450927 4937246536 4937943861 4937808835\n",
      " 4938449563 4937976186 4938572375 4937839446 4936556851 4938039786\n",
      " 4925256648 4937264845 4935637189 4938436844 4938458336 4938387399\n",
      " 4937749222 4938481614 4937976414 4936840318 4936810498 4938039447\n",
      " 4930140822 4937742813 4935636620 4938478239 4935607471 4927197459\n",
      " 4937821488 4938443649 4938419482 4937850962 4938373682 4936866096\n",
      " 4937731730 4938478239 4936769712 4938458138]\n"
     ]
    }
   ],
   "source": [
    "a = np.load('diamond\\diamond_1_gameId.npy')\n",
    "print(a)"
   ]
  },
  {
   "cell_type": "code",
   "execution_count": null,
   "metadata": {},
   "outputs": [],
   "source": [
    "matches=[]\n",
    "for i in a:\n",
    "    load_url = MATCH_URL + str(i)\n",
    "    res = requests.get(load_url, headers={\"X-Riot-Token\": api_key})\n",
    "    matches.append(json.loads(res.text))\n",
    "print(matches)"
   ]
  },
  {
   "cell_type": "code",
   "execution_count": null,
   "metadata": {},
   "outputs": [],
   "source": [
    "temp = [[],[],[],[],[],[],[],[],[],[]]\n",
    "for i in matches:\n",
    "\n",
    "    #     for k, v in i.items():\n",
    "#         print(k, v)\n",
    "#         print()\n",
    "    for j in i['participants']:\n",
    "        for k,v in j['stats'].items():\n",
    "            temp.append(v)\n",
    "#         for jk, jv in i['stats'].items():\n",
    "#             print(jk, jv)\n",
    "        \n",
    "    print()\n",
    "    print()\n"
   ]
  },
  {
   "cell_type": "code",
   "execution_count": null,
   "metadata": {},
   "outputs": [],
   "source": []
  }
 ],
 "metadata": {
  "kernelspec": {
   "display_name": "Python 3",
   "language": "python",
   "name": "python3"
  },
  "language_info": {
   "codemirror_mode": {
    "name": "ipython",
    "version": 3
   },
   "file_extension": ".py",
   "mimetype": "text/x-python",
   "name": "python",
   "nbconvert_exporter": "python",
   "pygments_lexer": "ipython3",
   "version": "3.8.3"
  }
 },
 "nbformat": 4,
 "nbformat_minor": 4
}
