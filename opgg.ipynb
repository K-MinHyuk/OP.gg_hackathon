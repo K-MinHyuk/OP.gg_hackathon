{
 "cells": [
  {
   "cell_type": "markdown",
   "metadata": {},
   "source": [
    "OP.GG Game Big Data Hackathon\n",
    "=============\n",
    "\n",
    "프로젝트 진행 순서\n",
    "-------------\n",
    "* API를 이용, Game Data를 수집.\n",
    "* 수집한 Data를 분석, 방향성을 확립.\n",
    "* 진행하게될 분석방향에 맞추어 Data preprocessing.\n",
    "* Data analysis\n",
    "* 결과 도출, 활용 방안 제시\n"
   ]
  },
  {
   "cell_type": "code",
   "execution_count": 1,
   "metadata": {},
   "outputs": [],
   "source": [
    "# 필요한 라이브러리를 import\n",
    "\n",
    "import sys\n",
    "import requests\n",
    "import json\n",
    "import pandas as pd\n",
    "import itertools\n",
    "import time\n",
    "import math\n",
    "import numpy as np\n",
    "from flatten_dict import flatten\n",
    "from flatten_dict.reducer import make_reducer\n",
    "import matplotlib.pyplot as plt \n",
    "import seaborn as sns    \n",
    "import torch\n",
    "from torch.utils.data import  TensorDataset, DataLoader\n",
    "from torch import nn, optim\n",
    "import random\n",
    "from glob import glob\n",
    "import torch.optim as optimizer\n",
    "from torch.optim.lr_scheduler import StepLR\n",
    "from pathlib import Path\n",
    "from tqdm import tqdm\n",
    "import torch.nn.functional as F\n",
    "\n",
    "# pandas - DataFrame의 크기를 모두 표시하도록 설정\n",
    "\n",
    "pd.options.display.max_columns = None\n",
    "pd.options.display.max_rows = None\n",
    "\n",
    "use_cuda = torch.cuda.is_available()"
   ]
  },
  {
   "cell_type": "code",
   "execution_count": 2,
   "metadata": {},
   "outputs": [
    {
     "data": {
      "text/plain": [
       "'GeForce RTX 2080 SUPER'"
      ]
     },
     "execution_count": 2,
     "metadata": {},
     "output_type": "execute_result"
    }
   ],
   "source": [
    "torch.cuda.get_device_name(0)"
   ]
  },
  {
   "cell_type": "code",
   "execution_count": 3,
   "metadata": {},
   "outputs": [],
   "source": [
    "# 필요한 package들을 install\n",
    "\n",
    "# !pip install pandas\n",
    "# !pip install flatten_dict\n",
    "# !pip install matplotlib\n",
    "# !pip install seaborn\n",
    "# !pip install torch\n",
    "# !pip install tqdm"
   ]
  },
  {
   "cell_type": "code",
   "execution_count": 4,
   "metadata": {},
   "outputs": [],
   "source": [
    "# riot-API 이용을 위한 api-key값\n",
    "\n",
    "api_key = 'RGAPI-ea3bb857-9843-4a9f-bf87-a1b2973727d8'"
   ]
  },
  {
   "cell_type": "code",
   "execution_count": 5,
   "metadata": {},
   "outputs": [],
   "source": [
    "# 각 tier별 game id를 가져오기 위해 url 저장\n",
    "\n",
    "IRON_URL4='https://kr.api.riotgames.com/lol/league-exp/v4/entries/RANKED_SOLO_5x5/IRON/IV?page='\n",
    "IRON_URL3='https://kr.api.riotgames.com/lol/league-exp/v4/entries/RANKED_SOLO_5x5/IRON/III?page='\n",
    "IRON_URL2='https://kr.api.riotgames.com/lol/league-exp/v4/entries/RANKED_SOLO_5x5/IRON/II?page='\n",
    "IRON_URL1='https://kr.api.riotgames.com/lol/league-exp/v4/entries/RANKED_SOLO_5x5/IRON/I?page='\n",
    "BRONZE_URL4='https://kr.api.riotgames.com/lol/league-exp/v4/entries/RANKED_SOLO_5x5/BRONZE/IV?page='\n",
    "BRONZE_URL3='https://kr.api.riotgames.com/lol/league-exp/v4/entries/RANKED_SOLO_5x5/BRONZE/III?page='\n",
    "BRONZE_URL2='https://kr.api.riotgames.com/lol/league-exp/v4/entries/RANKED_SOLO_5x5/BRONZE/II?page='\n",
    "BRONZE_URL1='https://kr.api.riotgames.com/lol/league-exp/v4/entries/RANKED_SOLO_5x5/BRONZE/I?page='\n",
    "SILVER_URL4='https://kr.api.riotgames.com/lol/league-exp/v4/entries/RANKED_SOLO_5x5/SILVER/IV?page='\n",
    "SILVER_URL3='https://kr.api.riotgames.com/lol/league-exp/v4/entries/RANKED_SOLO_5x5/SILVER/III?page='\n",
    "SILVER_URL2='https://kr.api.riotgames.com/lol/league-exp/v4/entries/RANKED_SOLO_5x5/SILVER/II?page='\n",
    "SILVER_URL1='https://kr.api.riotgames.com/lol/league-exp/v4/entries/RANKED_SOLO_5x5/SILVER/I?page='\n",
    "GOLD_URL4='https://kr.api.riotgames.com/lol/league-exp/v4/entries/RANKED_SOLO_5x5/GOLD/IV?page='\n",
    "GOLD_URL3='https://kr.api.riotgames.com/lol/league-exp/v4/entries/RANKED_SOLO_5x5/GOLD/III?page='\n",
    "GOLD_URL2='https://kr.api.riotgames.com/lol/league-exp/v4/entries/RANKED_SOLO_5x5/GOLD/II?page='\n",
    "GOLD_URL1='https://kr.api.riotgames.com/lol/league-exp/v4/entries/RANKED_SOLO_5x5/GOLD/I?page='\n",
    "PLATINUM_URL4='https://kr.api.riotgames.com/lol/league-exp/v4/entries/RANKED_SOLO_5x5/PLATINUM/IV?page='\n",
    "PLATINUM_URL3='https://kr.api.riotgames.com/lol/league-exp/v4/entries/RANKED_SOLO_5x5/PLATINUM/III?page='\n",
    "PLATINUM_URL2='https://kr.api.riotgames.com/lol/league-exp/v4/entries/RANKED_SOLO_5x5/PLATINUM/II?page='\n",
    "PLATINUM_URL1='https://kr.api.riotgames.com/lol/league-exp/v4/entries/RANKED_SOLO_5x5/PLATINUM/I?page='\n",
    "DIAMOND_URL4='https://kr.api.riotgames.com/lol/league-exp/v4/entries/RANKED_SOLO_5x5/DIAMOND/IV?page='\n",
    "DIAMOND_URL3='https://kr.api.riotgames.com/lol/league-exp/v4/entries/RANKED_SOLO_5x5/DIAMOND/III?page='\n",
    "DIAMOND_URL2='https://kr.api.riotgames.com/lol/league-exp/v4/entries/RANKED_SOLO_5x5/DIAMOND/II?page='\n",
    "DIAMOND_URL1='https://kr.api.riotgames.com/lol/league-exp/v4/entries/RANKED_SOLO_5x5/DIAMOND/I?page='\n",
    "MASTER_URL1='https://kr.api.riotgames.com/lol/league-exp/v4/entries/RANKED_SOLO_5x5/MASTER/I?page='\n",
    "GRANDMASTER_URL1='https://kr.api.riotgames.com/lol/league-exp/v4/entries/RANKED_SOLO_5x5/GRANDMASTER/I?page='\n",
    "CHALLENGER_URL1='https://kr.api.riotgames.com/lol/league-exp/v4/entries/RANKED_SOLO_5x5/CHALLENGER/I?page='\n",
    "\n",
    "# match의 정보를 가져오기 위한 url저장\n",
    "MATCH_URL = 'https://kr.api.riotgames.com/lol/match/v4/matches/'"
   ]
  },
  {
   "cell_type": "code",
   "execution_count": 7,
   "metadata": {},
   "outputs": [],
   "source": [
    "# tier의 urel과 api-key를 입력하여 summonerId를 반환받음 return - array\n",
    "\n",
    "def summonersT(tier_url, api_key):\n",
    "    print('Summoners start-----')\n",
    "    summoners = []\n",
    "    tmpl = []\n",
    "    try:\n",
    "        for i in range(1,5):\n",
    "            now = time.gmtime(time.time())\n",
    "            print('min:',now.tm_min,'sec:',now.tm_sec)\n",
    "            print('Waiting for summoners {}00 end...'.format(i))\n",
    "            # request limit( 20 requests every 1 seconds(s) , 100 requests every 2 minutes(s) )에 대한 해결 방안으로 time.sleep 을 120이상으로 설정\n",
    "            time.sleep(125)\n",
    "            \n",
    "            res = requests.get(tier_url+str(i), headers={\"X-Riot-Token\": api_key})\n",
    "            tmp = json.loads(res.text)[5:105]\n",
    "            tmpl.append(tmp)\n",
    "            summoners.append(tmp)\n",
    "            \n",
    "        print('Summoners done-----')\n",
    "    except:\n",
    "        print('Errer in : ', tmpl)\n",
    "        \n",
    "    return pd.DataFrame(list(itertools.chain(*summoners)))['summonerId'].values\n",
    "\n",
    "\n",
    "#  summoners(iterable)와 api-key를 입력받아 accountId를 반환 return - array\n",
    "\n",
    "def getAccountId(summoners, api_key):\n",
    "    \n",
    "    print('\\nAccounts start-----')\n",
    "    now = time.gmtime(time.time())\n",
    "    print('min:',now.tm_min,'sec:',now.tm_sec)\n",
    "    \n",
    "    accountS = []\n",
    "    time.sleep(2)\n",
    "    a = 0\n",
    "    for i  in tqdm(summoners):\n",
    "        # request limit( 20 requests every 1 seconds(s) , 100 requests every 2 minutes(s) )에 대한 해결 방안으로 time.sleep 을 120이상으로 설정\n",
    "        if a % 20 == 0:\n",
    "            time.sleep(1)\n",
    "        if a % 100 == 0:\n",
    "            time.sleep(122)\n",
    "            \n",
    "        togetSummonerId = 'https://kr.api.riotgames.com/lol/summoner/v4/summoners/'+str(i)\n",
    "        res = requests.get(togetSummonerId, headers={\"X-Riot-Token\": api_key})\n",
    "        accountS.append(json.loads(res.text))\n",
    "        \n",
    "        a += 1\n",
    "        \n",
    "    print('\\nAccounts done-----')   \n",
    "    \n",
    "    return pd.DataFrame(accountS)['accountId'].values\n",
    "\n",
    "\n",
    "# accountId(iterable)와 api-key를 입력받아 gameId를 반환 return - list\n",
    "\n",
    "def getMatch(encryptedAccountId, api_key):\n",
    "    print('\\nMatchId start-----')\n",
    "    a = 0\n",
    "    now = time.gmtime(time.time())\n",
    "    print('min:',now.tm_min,'sec:',now.tm_sec)\n",
    "    objects = []\n",
    "    matchIds = []\n",
    "    time.sleep(2)\n",
    "    for i in tqdm(encryptedAccountId):\n",
    "        # request limit( 20 requests every 1 seconds(s) , 100 requests every 2 minutes(s) )에 대한 해결 방안으로 time.sleep 을 120이상으로 설정\n",
    "        if a % 20 == 0:\n",
    "            time.sleep(1)\n",
    "        if a % 100 == 0:\n",
    "            time.sleep(122)\n",
    "            \n",
    "        togetMatchOb = 'https://kr.api.riotgames.com/lol/match/v4/matchlists/by-account/{}?endIndex=1&beginIndex=0'.format(str(i))\n",
    "        res = requests.get(togetMatchOb, headers={\"X-Riot-Token\": api_key})\n",
    "        ob = pd.DataFrame(json.loads(res.text))\n",
    "        \n",
    "        # data의 양이 많아서 인지, Gateway timeout의 오류를 받아오는 경우 시간을 주어, 다시 받아올 수 있도록 설정\n",
    "        if 'matches' in list(ob):\n",
    "            objects.append(pd.DataFrame(ob)['matches'].values[0])\n",
    "        else:\n",
    "            print(ob)\n",
    "            print(\"-Error recovery time-\")\n",
    "            time.sleep(90)\n",
    "            rest=getMatchRe([i], api_key)\n",
    "            matchIds.append(rest)\n",
    "            print(\"-Error fixed-\")\n",
    "        a += 1\n",
    "    matchIds = matchIds + list(pd.DataFrame(objects)['gameId'].values)\n",
    "    \n",
    "    print('\\nMatchId done-----')   \n",
    "    return matchIds\n",
    "\n",
    "\n",
    "# getMatch중 timeout 오류발생시 다시 request를받기위해 시간간격을 두고 다시 request하도록 함.\n",
    "\n",
    "def getMatchRe(encryptedAccountId, api_key):\n",
    "    now = time.gmtime(time.time())\n",
    "    print('min:',now.tm_min,'sec:',now.tm_sec)\n",
    "    objects = []\n",
    "    matchIds = []\n",
    "    time.sleep(2)\n",
    "    \n",
    "    for i in tqdm(encryptedAccountId):\n",
    "        togetMatchOb = 'https://kr.api.riotgames.com/lol/match/v4/matchlists/by-account/{}?endIndex=1&beginIndex=0'.format(str(i))\n",
    "        res = requests.get(togetMatchOb, headers={\"X-Riot-Token\": api_key})\n",
    "        ob = pd.DataFrame(json.loads(res.text))\n",
    "        \n",
    "        if 'matches' in list(ob):\n",
    "            objects.append(pd.DataFrame(ob)['matches'].values[0])\n",
    "        else:\n",
    "            print(ob)\n",
    "            print(\"----Error recovery time----\")\n",
    "            time.sleep(90)\n",
    "            rest=getMatchRe([i], api_key)\n",
    "            matchIds.append(rest)\n",
    "    matchIds = matchIds + list(pd.DataFrame(objects)['gameId'].values)\n",
    "    \n",
    "    return matchIds[0]\n",
    "\n",
    "\n",
    "# tier와 api-key를 입력하면 gameId를 반환하는 함수\n",
    "\n",
    "def getMatchId(tier, api_key):\n",
    "    summoners = summonersT(tier, api_key)\n",
    "    accountId = getAccountId(summoners, api_key)\n",
    "    gameId = getMatch(accountId, api_key)\n",
    "    print(\"Done !!\")\n",
    "    return gameId"
   ]
  },
  {
   "cell_type": "markdown",
   "metadata": {},
   "source": [
    "### Get Iron games"
   ]
  },
  {
   "cell_type": "code",
   "execution_count": 14,
   "metadata": {
    "scrolled": true
   },
   "outputs": [
    {
     "name": "stdout",
     "output_type": "stream",
     "text": [
      "Summoners start-----\n",
      "min: 43 sec: 14\n",
      "Waiting for summoners end...\n",
      "Summoners done-----\n",
      "\n",
      "Accounts start-----\n",
      "min: 45 sec: 19\n"
     ]
    },
    {
     "data": {
      "application/vnd.jupyter.widget-view+json": {
       "model_id": "ef5036584cb54c0d8a0d7d64c7df5bb4",
       "version_major": 2,
       "version_minor": 0
      },
      "text/plain": [
       "  0%|          | 0/400 [00:00<?, ?it/s]"
      ]
     },
     "metadata": {},
     "output_type": "display_data"
    },
    {
     "name": "stdout",
     "output_type": "stream",
     "text": [
      "\n",
      "Accounts done-----\n",
      "\n",
      "MatchId start-----\n",
      "min: 55 sec: 15\n"
     ]
    },
    {
     "data": {
      "application/vnd.jupyter.widget-view+json": {
       "model_id": "52627ebdde0f4987a84882647bc2bdb6",
       "version_major": 2,
       "version_minor": 0
      },
      "text/plain": [
       "  0%|          | 0/400 [00:00<?, ?it/s]"
      ]
     },
     "metadata": {},
     "output_type": "display_data"
    },
    {
     "name": "stdout",
     "output_type": "stream",
     "text": [
      "                      status\n",
      "message      Gateway timeout\n",
      "status_code              504\n",
      "-Error recovery time-\n",
      "min: 4 sec: 42\n"
     ]
    },
    {
     "data": {
      "application/vnd.jupyter.widget-view+json": {
       "model_id": "b871448d11084ac681c9b4e5e9f8f545",
       "version_major": 2,
       "version_minor": 0
      },
      "text/plain": [
       "  0%|          | 0/1 [00:00<?, ?it/s]"
      ]
     },
     "metadata": {},
     "output_type": "display_data"
    },
    {
     "name": "stdout",
     "output_type": "stream",
     "text": [
      "-Error fixed-\n",
      "                      status\n",
      "message      Gateway timeout\n",
      "status_code              504\n",
      "-Error recovery time-\n",
      "min: 8 sec: 56\n"
     ]
    },
    {
     "data": {
      "application/vnd.jupyter.widget-view+json": {
       "model_id": "3b4e939d1f164004802968c4da79ebeb",
       "version_major": 2,
       "version_minor": 0
      },
      "text/plain": [
       "  0%|          | 0/1 [00:00<?, ?it/s]"
      ]
     },
     "metadata": {},
     "output_type": "display_data"
    },
    {
     "name": "stdout",
     "output_type": "stream",
     "text": [
      "-Error fixed-\n",
      "\n",
      "MatchId done-----\n",
      "Done !!\n"
     ]
    }
   ],
   "source": [
    "iron_4_gameId = getMatchId(IRON_URL4, api_key)\n",
    "np.save('gameId/iron/iron_4_gameId_1', iron_4_gameId)\n",
    "iron_3_gameId = getMatchId(IRON_URL3, api_key)\n",
    "np.save('gameId/iron/iron_3_gameId_1', iron_3_gameId)\n",
    "iron_2_gameId = getMatchId(IRON_URL2, api_key)\n",
    "np.save('gameId/iron/iron_2_gameId_1', iron_2_gameId)\n",
    "iron_1_gameId = getMatchId(IRON_URL1, api_key)\n",
    "np.save('gameId/iron/iron_1_gameId_1', iron_1_gameId)\n",
    "\n"
   ]
  },
  {
   "cell_type": "markdown",
   "metadata": {},
   "source": [
    "### Get Bronze games"
   ]
  },
  {
   "cell_type": "code",
   "execution_count": null,
   "metadata": {
    "scrolled": true
   },
   "outputs": [],
   "source": [
    "bronze_4_gameId = getMatchId(BRONZE_URL4, api_key)\n",
    "np.save('gameId/bronze/bronze_4_gameId_1', bronze_4_gameId)\n",
    "bronze_3_gameId = getMatchId(BRONZE_URL3, api_key)\n",
    "np.save('gameId/bronze/bronze_3_gameId_1', bronze_3_gameId)\n",
    "bronze_2_gameId = getMatchId(BRONZE_URL2, api_key)\n",
    "np.save('gameId/bronze/bronze_2_gameId_1', bronze_2_gameId)\n",
    "bronze_1_gameId = getMatchId(BRONZE_URL1, api_key)\n",
    "np.save('gameId/bronze/bronze_1_gameId_1', bronze_1_gameId)"
   ]
  },
  {
   "cell_type": "markdown",
   "metadata": {},
   "source": [
    "### Get Silver games"
   ]
  },
  {
   "cell_type": "code",
   "execution_count": null,
   "metadata": {
    "scrolled": true
   },
   "outputs": [],
   "source": [
    "silver_4_gameId = getMatchId(SILVER_URL4, api_key)\n",
    "np.save('gameId/silver/silver_4_gameId_1', silver_4_gameId)\n",
    "silver_3_gameId = getMatchId(SILVER_URL3, api_key)\n",
    "np.save('gameId/silver/silver_3_gameId_1', silver_3_gameId)\n",
    "silver_2_gameId = getMatchId(SILVER_URL2, api_key)\n",
    "np.save('gameId/silver/silver_2_gameId_1', silver_2_gameId)\n",
    "silver_1_gameId = getMatchId(SILVER_URL1, api_key)\n",
    "np.save('gameId/silver/silver_1_gameId_1', silver_1_gameId)"
   ]
  },
  {
   "cell_type": "markdown",
   "metadata": {},
   "source": [
    "### Get Gold games"
   ]
  },
  {
   "cell_type": "code",
   "execution_count": 8,
   "metadata": {
    "scrolled": true
   },
   "outputs": [
    {
     "name": "stdout",
     "output_type": "stream",
     "text": [
      "Summoners start-----\n",
      "min: 2 sec: 23\n",
      "Waiting for summoners 100 end...\n",
      "min: 4 sec: 29\n",
      "Waiting for summoners 200 end...\n",
      "min: 6 sec: 34\n",
      "Waiting for summoners 300 end...\n",
      "min: 8 sec: 39\n",
      "Waiting for summoners 400 end...\n",
      "Summoners done-----\n",
      "\n",
      "Accounts start-----\n",
      "min: 10 sec: 45\n"
     ]
    },
    {
     "data": {
      "application/vnd.jupyter.widget-view+json": {
       "model_id": "d3ba2130b31b4589bfd75e81f03440a2",
       "version_major": 2,
       "version_minor": 0
      },
      "text/plain": [
       "  0%|          | 0/400 [00:00<?, ?it/s]"
      ]
     },
     "metadata": {},
     "output_type": "display_data"
    },
    {
     "name": "stdout",
     "output_type": "stream",
     "text": [
      "\n",
      "Accounts done-----\n",
      "\n",
      "MatchId start-----\n",
      "min: 20 sec: 41\n"
     ]
    },
    {
     "data": {
      "application/vnd.jupyter.widget-view+json": {
       "model_id": "ef0d66199f5846868e6bfecaa177e6d3",
       "version_major": 2,
       "version_minor": 0
      },
      "text/plain": [
       "  0%|          | 0/400 [00:00<?, ?it/s]"
      ]
     },
     "metadata": {},
     "output_type": "display_data"
    },
    {
     "name": "stdout",
     "output_type": "stream",
     "text": [
      "                      status\n",
      "message      Gateway timeout\n",
      "status_code              504\n",
      "-Error recovery time-\n",
      "min: 27 sec: 28\n"
     ]
    },
    {
     "data": {
      "application/vnd.jupyter.widget-view+json": {
       "model_id": "53faa6ac5539492896e2001b27c6283e",
       "version_major": 2,
       "version_minor": 0
      },
      "text/plain": [
       "  0%|          | 0/1 [00:00<?, ?it/s]"
      ]
     },
     "metadata": {},
     "output_type": "display_data"
    },
    {
     "name": "stdout",
     "output_type": "stream",
     "text": [
      "-Error fixed-\n",
      "\n",
      "MatchId done-----\n",
      "Done !!\n",
      "Summoners start-----\n",
      "min: 33 sec: 8\n",
      "Waiting for summoners 100 end...\n",
      "min: 35 sec: 14\n",
      "Waiting for summoners 200 end...\n",
      "min: 37 sec: 19\n",
      "Waiting for summoners 300 end...\n",
      "min: 39 sec: 24\n",
      "Waiting for summoners 400 end...\n",
      "Summoners done-----\n",
      "\n",
      "Accounts start-----\n",
      "min: 41 sec: 29\n"
     ]
    },
    {
     "data": {
      "application/vnd.jupyter.widget-view+json": {
       "model_id": "aad0da3b3e4a45b2b9075fb01275626b",
       "version_major": 2,
       "version_minor": 0
      },
      "text/plain": [
       "  0%|          | 0/400 [00:00<?, ?it/s]"
      ]
     },
     "metadata": {},
     "output_type": "display_data"
    },
    {
     "name": "stdout",
     "output_type": "stream",
     "text": [
      "\n",
      "Accounts done-----\n",
      "\n",
      "MatchId start-----\n",
      "min: 51 sec: 29\n"
     ]
    },
    {
     "data": {
      "application/vnd.jupyter.widget-view+json": {
       "model_id": "04972860106c4b5abbcb6af0a55680f2",
       "version_major": 2,
       "version_minor": 0
      },
      "text/plain": [
       "  0%|          | 0/400 [00:00<?, ?it/s]"
      ]
     },
     "metadata": {},
     "output_type": "display_data"
    },
    {
     "name": "stdout",
     "output_type": "stream",
     "text": [
      "\n",
      "MatchId done-----\n",
      "Done !!\n",
      "Summoners start-----\n",
      "min: 2 sec: 22\n",
      "Waiting for summoners 100 end...\n",
      "min: 4 sec: 28\n",
      "Waiting for summoners 200 end...\n",
      "min: 6 sec: 33\n",
      "Waiting for summoners 300 end...\n",
      "min: 8 sec: 38\n",
      "Waiting for summoners 400 end...\n",
      "Summoners done-----\n",
      "\n",
      "Accounts start-----\n",
      "min: 10 sec: 44\n"
     ]
    },
    {
     "data": {
      "application/vnd.jupyter.widget-view+json": {
       "model_id": "ccce20cf014c4967bd5c4350727676fb",
       "version_major": 2,
       "version_minor": 0
      },
      "text/plain": [
       "  0%|          | 0/400 [00:00<?, ?it/s]"
      ]
     },
     "metadata": {},
     "output_type": "display_data"
    },
    {
     "name": "stdout",
     "output_type": "stream",
     "text": [
      "\n",
      "Accounts done-----\n",
      "\n",
      "MatchId start-----\n",
      "min: 20 sec: 41\n"
     ]
    },
    {
     "data": {
      "application/vnd.jupyter.widget-view+json": {
       "model_id": "2f9b779099bc4323a5f1ebdc7fef51a8",
       "version_major": 2,
       "version_minor": 0
      },
      "text/plain": [
       "  0%|          | 0/400 [00:00<?, ?it/s]"
      ]
     },
     "metadata": {},
     "output_type": "display_data"
    },
    {
     "name": "stdout",
     "output_type": "stream",
     "text": [
      "\n",
      "MatchId done-----\n",
      "Done !!\n"
     ]
    }
   ],
   "source": [
    "gold_4_gameId = getMatchId(GOLD_URL4, api_key)\n",
    "np.save('gameId/gold/gold_4_gameId_1', gold_4_gameId)\n",
    "gold_3_gameId = getMatchId(GOLD_URL3, api_key)\n",
    "np.save('gameId/gold/gold_3_gameId_1', gold_3_gameId)\n",
    "gold_2_gameId = getMatchId(GOLD_URL2, api_key)\n",
    "np.save('gameId/gold/gold_2_gameId_1', gold_2_gameId)\n",
    "gold_1_gameId = getMatchId(GOLD_URL1, api_key)\n",
    "np.save('gameId/gold/gold_1_gameId_1', gold_1_gameId)\n"
   ]
  },
  {
   "cell_type": "markdown",
   "metadata": {},
   "source": [
    "### Get platinum games"
   ]
  },
  {
   "cell_type": "code",
   "execution_count": null,
   "metadata": {
    "scrolled": true
   },
   "outputs": [],
   "source": [
    "platinum_4_gameId = getMatchId(PLATINUM_URL4, api_key)\n",
    "np.save('gameId/platinum/platinum_4_gameId_1', platinum_4_gameId)\n",
    "platinum_3_gameId = getMatchId(PLATINUM_URL3, api_key)\n",
    "np.save('gameId/platinum/platinum_3_gameId_1', platinum_3_gameId)\n",
    "platinum_2_gameId = getMatchId(PLATINUM_URL2, api_key)\n",
    "np.save('gameId/platinum/platinum_2_gameId_1', platinum_2_gameId)\n",
    "platinum_1_gameId = getMatchId(PLATINUM_URL1, api_key)\n",
    "np.save('gameId/platinum/platinum_1_gameId_1', platinum_1_gameId)"
   ]
  },
  {
   "cell_type": "markdown",
   "metadata": {},
   "source": [
    "### Get diamond, Master, GrandMaster, challenger games"
   ]
  },
  {
   "cell_type": "code",
   "execution_count": 9,
   "metadata": {
    "scrolled": true
   },
   "outputs": [
    {
     "name": "stdout",
     "output_type": "stream",
     "text": [
      "Summoners start-----\n",
      "min: 37 sec: 43\n",
      "Waiting for summoners 100 end...\n",
      "min: 39 sec: 48\n",
      "Waiting for summoners 200 end...\n",
      "min: 41 sec: 53\n",
      "Waiting for summoners 300 end...\n",
      "min: 43 sec: 59\n",
      "Waiting for summoners 400 end...\n",
      "Summoners done-----\n",
      "\n",
      "Accounts start-----\n",
      "min: 46 sec: 4\n"
     ]
    },
    {
     "data": {
      "application/vnd.jupyter.widget-view+json": {
       "model_id": "cccaf33282ab4cb0bcf2dc077273504f",
       "version_major": 2,
       "version_minor": 0
      },
      "text/plain": [
       "  0%|          | 0/400 [00:00<?, ?it/s]"
      ]
     },
     "metadata": {},
     "output_type": "display_data"
    },
    {
     "name": "stdout",
     "output_type": "stream",
     "text": [
      "\n",
      "Accounts done-----\n",
      "\n",
      "MatchId start-----\n",
      "min: 56 sec: 4\n"
     ]
    },
    {
     "data": {
      "application/vnd.jupyter.widget-view+json": {
       "model_id": "f9eccf1685a04f169495d9b109bd45f1",
       "version_major": 2,
       "version_minor": 0
      },
      "text/plain": [
       "  0%|          | 0/400 [00:00<?, ?it/s]"
      ]
     },
     "metadata": {},
     "output_type": "display_data"
    },
    {
     "name": "stdout",
     "output_type": "stream",
     "text": [
      "\n",
      "MatchId done-----\n",
      "Done !!\n",
      "Summoners start-----\n",
      "min: 7 sec: 0\n",
      "Waiting for summoners 100 end...\n",
      "min: 9 sec: 6\n",
      "Waiting for summoners 200 end...\n",
      "min: 11 sec: 11\n",
      "Waiting for summoners 300 end...\n",
      "min: 13 sec: 16\n",
      "Waiting for summoners 400 end...\n",
      "Summoners done-----\n",
      "\n",
      "Accounts start-----\n",
      "min: 15 sec: 22\n"
     ]
    },
    {
     "data": {
      "application/vnd.jupyter.widget-view+json": {
       "model_id": "53bc516c6cb047f9ad19e3830f2f857b",
       "version_major": 2,
       "version_minor": 0
      },
      "text/plain": [
       "  0%|          | 0/400 [00:00<?, ?it/s]"
      ]
     },
     "metadata": {},
     "output_type": "display_data"
    },
    {
     "name": "stdout",
     "output_type": "stream",
     "text": [
      "\n",
      "Accounts done-----\n",
      "\n",
      "MatchId start-----\n",
      "min: 25 sec: 20\n"
     ]
    },
    {
     "data": {
      "application/vnd.jupyter.widget-view+json": {
       "model_id": "bf98da124b544f0ea9fc8b0c9782cdf2",
       "version_major": 2,
       "version_minor": 0
      },
      "text/plain": [
       "  0%|          | 0/400 [00:00<?, ?it/s]"
      ]
     },
     "metadata": {},
     "output_type": "display_data"
    },
    {
     "name": "stdout",
     "output_type": "stream",
     "text": [
      "\n",
      "MatchId done-----\n",
      "Done !!\n",
      "Summoners start-----\n",
      "min: 36 sec: 17\n",
      "Waiting for summoners 100 end...\n",
      "min: 38 sec: 22\n",
      "Waiting for summoners 200 end...\n",
      "min: 40 sec: 27\n",
      "Waiting for summoners 300 end...\n",
      "min: 42 sec: 33\n",
      "Waiting for summoners 400 end...\n",
      "Summoners done-----\n",
      "\n",
      "Accounts start-----\n",
      "min: 44 sec: 38\n"
     ]
    },
    {
     "data": {
      "application/vnd.jupyter.widget-view+json": {
       "model_id": "2996caf6e925406b9c6e23daa5f671d2",
       "version_major": 2,
       "version_minor": 0
      },
      "text/plain": [
       "  0%|          | 0/400 [00:00<?, ?it/s]"
      ]
     },
     "metadata": {},
     "output_type": "display_data"
    },
    {
     "name": "stdout",
     "output_type": "stream",
     "text": [
      "\n",
      "Accounts done-----\n",
      "\n",
      "MatchId start-----\n",
      "min: 54 sec: 37\n"
     ]
    },
    {
     "data": {
      "application/vnd.jupyter.widget-view+json": {
       "model_id": "e53d3a61906e473fa1166e3204ff3645",
       "version_major": 2,
       "version_minor": 0
      },
      "text/plain": [
       "  0%|          | 0/400 [00:00<?, ?it/s]"
      ]
     },
     "metadata": {},
     "output_type": "display_data"
    },
    {
     "name": "stdout",
     "output_type": "stream",
     "text": [
      "\n",
      "MatchId done-----\n",
      "Done !!\n",
      "Summoners start-----\n",
      "min: 5 sec: 30\n",
      "Waiting for summoners 100 end...\n",
      "min: 7 sec: 35\n",
      "Waiting for summoners 200 end...\n",
      "min: 9 sec: 40\n",
      "Waiting for summoners 300 end...\n",
      "min: 11 sec: 46\n",
      "Waiting for summoners 400 end...\n",
      "Summoners done-----\n",
      "\n",
      "Accounts start-----\n",
      "min: 13 sec: 51\n"
     ]
    },
    {
     "data": {
      "application/vnd.jupyter.widget-view+json": {
       "model_id": "db3daf6e565b48c3b466f1bc80e1ae0b",
       "version_major": 2,
       "version_minor": 0
      },
      "text/plain": [
       "  0%|          | 0/400 [00:00<?, ?it/s]"
      ]
     },
     "metadata": {},
     "output_type": "display_data"
    },
    {
     "name": "stdout",
     "output_type": "stream",
     "text": [
      "\n",
      "Accounts done-----\n",
      "\n",
      "MatchId start-----\n",
      "min: 23 sec: 49\n"
     ]
    },
    {
     "data": {
      "application/vnd.jupyter.widget-view+json": {
       "model_id": "9dfe00d0625348b5867c3ba9b846fbd5",
       "version_major": 2,
       "version_minor": 0
      },
      "text/plain": [
       "  0%|          | 0/400 [00:00<?, ?it/s]"
      ]
     },
     "metadata": {},
     "output_type": "display_data"
    },
    {
     "name": "stdout",
     "output_type": "stream",
     "text": [
      "\n",
      "MatchId done-----\n",
      "Done !!\n",
      "Summoners start-----\n",
      "min: 34 sec: 47\n",
      "Waiting for summoners 100 end...\n",
      "min: 36 sec: 53\n",
      "Waiting for summoners 200 end...\n",
      "min: 38 sec: 58\n",
      "Waiting for summoners 300 end...\n",
      "min: 41 sec: 3\n",
      "Waiting for summoners 400 end...\n",
      "Summoners done-----\n",
      "\n",
      "Accounts start-----\n",
      "min: 43 sec: 9\n"
     ]
    },
    {
     "data": {
      "application/vnd.jupyter.widget-view+json": {
       "model_id": "ef954d9c8b884c86924deedd05d8915c",
       "version_major": 2,
       "version_minor": 0
      },
      "text/plain": [
       "  0%|          | 0/400 [00:00<?, ?it/s]"
      ]
     },
     "metadata": {},
     "output_type": "display_data"
    },
    {
     "name": "stdout",
     "output_type": "stream",
     "text": [
      "\n",
      "Accounts done-----\n",
      "\n",
      "MatchId start-----\n",
      "min: 53 sec: 8\n"
     ]
    },
    {
     "data": {
      "application/vnd.jupyter.widget-view+json": {
       "model_id": "cda22b8edd3d40f4bb194950d5f2c04c",
       "version_major": 2,
       "version_minor": 0
      },
      "text/plain": [
       "  0%|          | 0/400 [00:00<?, ?it/s]"
      ]
     },
     "metadata": {},
     "output_type": "display_data"
    },
    {
     "name": "stdout",
     "output_type": "stream",
     "text": [
      "                      status\n",
      "message      Gateway timeout\n",
      "status_code              504\n",
      "-Error recovery time-\n",
      "min: 59 sec: 33\n"
     ]
    },
    {
     "data": {
      "application/vnd.jupyter.widget-view+json": {
       "model_id": "69d8505b212b433592e80cf2830292a8",
       "version_major": 2,
       "version_minor": 0
      },
      "text/plain": [
       "  0%|          | 0/1 [00:00<?, ?it/s]"
      ]
     },
     "metadata": {},
     "output_type": "display_data"
    },
    {
     "name": "stdout",
     "output_type": "stream",
     "text": [
      "-Error fixed-\n",
      "\n",
      "MatchId done-----\n",
      "Done !!\n",
      "Summoners start-----\n",
      "min: 5 sec: 39\n",
      "Waiting for summoners 100 end...\n",
      "min: 7 sec: 44\n",
      "Waiting for summoners 200 end...\n",
      "min: 9 sec: 50\n",
      "Waiting for summoners 300 end...\n",
      "min: 11 sec: 55\n",
      "Waiting for summoners 400 end...\n",
      "Summoners done-----\n",
      "\n",
      "Accounts start-----\n",
      "min: 14 sec: 0\n"
     ]
    },
    {
     "data": {
      "application/vnd.jupyter.widget-view+json": {
       "model_id": "94fc8d714cc643878fa3c4da3160600c",
       "version_major": 2,
       "version_minor": 0
      },
      "text/plain": [
       "  0%|          | 0/182 [00:00<?, ?it/s]"
      ]
     },
     "metadata": {},
     "output_type": "display_data"
    },
    {
     "name": "stdout",
     "output_type": "stream",
     "text": [
      "\n",
      "Accounts done-----\n",
      "\n",
      "MatchId start-----\n",
      "min: 18 sec: 56\n"
     ]
    },
    {
     "data": {
      "application/vnd.jupyter.widget-view+json": {
       "model_id": "2653a5b1d1124c609977c30453c0bdc1",
       "version_major": 2,
       "version_minor": 0
      },
      "text/plain": [
       "  0%|          | 0/182 [00:00<?, ?it/s]"
      ]
     },
     "metadata": {},
     "output_type": "display_data"
    },
    {
     "name": "stdout",
     "output_type": "stream",
     "text": [
      "\n",
      "MatchId done-----\n",
      "Done !!\n",
      "Summoners start-----\n",
      "min: 24 sec: 18\n",
      "Waiting for summoners 100 end...\n",
      "min: 26 sec: 24\n",
      "Waiting for summoners 200 end...\n",
      "min: 28 sec: 29\n",
      "Waiting for summoners 300 end...\n",
      "min: 30 sec: 34\n",
      "Waiting for summoners 400 end...\n",
      "Summoners done-----\n",
      "\n",
      "Accounts start-----\n",
      "min: 32 sec: 39\n"
     ]
    },
    {
     "data": {
      "application/vnd.jupyter.widget-view+json": {
       "model_id": "7190f305c7f54e66ad6cf6287202de73",
       "version_major": 2,
       "version_minor": 0
      },
      "text/plain": [
       "  0%|          | 0/100 [00:00<?, ?it/s]"
      ]
     },
     "metadata": {},
     "output_type": "display_data"
    },
    {
     "name": "stdout",
     "output_type": "stream",
     "text": [
      "\n",
      "Accounts done-----\n",
      "\n",
      "MatchId start-----\n",
      "min: 35 sec: 10\n"
     ]
    },
    {
     "data": {
      "application/vnd.jupyter.widget-view+json": {
       "model_id": "5964f9504f894dd8ac4f8285a4423734",
       "version_major": 2,
       "version_minor": 0
      },
      "text/plain": [
       "  0%|          | 0/100 [00:00<?, ?it/s]"
      ]
     },
     "metadata": {},
     "output_type": "display_data"
    },
    {
     "name": "stdout",
     "output_type": "stream",
     "text": [
      "\n",
      "MatchId done-----\n",
      "Done !!\n"
     ]
    }
   ],
   "source": [
    "diamond_4_gameId = getMatchId(DIAMOND_URL4, api_key)\n",
    "np.save('gameId/diamond/diamond_4_gameId_1', diamond_4_gameId)\n",
    "diamond_3_gameId = getMatchId(DIAMOND_URL3, api_key)\n",
    "np.save('gameId/diamond/diamond_3_gameId_1', diamond_3_gameId)\n",
    "diamond_2_gameId = getMatchId(DIAMOND_URL2, api_key)\n",
    "np.save('gameId/diamond/diamond_2_gameId_1', diamond_2_gameId)\n",
    "diamond_1_gameId = getMatchId(DIAMOND_URL1, api_key)\n",
    "np.save('gameId/diamond/diamond_1_gameId_1', diamond_1_gameId)\n",
    "master_gameId = getMatchId(MASTER_URL1, api_key)\n",
    "np.save('gameId/master/master_gameId_1', master_gameId)\n",
    "grandmaster_gameId = getMatchId(GRANDMASTER_URL1, api_key)\n",
    "np.save('gameId/grandmaster/grandmaster_gameId_1', grandmaster_gameId)\n",
    "challenger_gameId = getMatchId(CHALLENGER_URL1, api_key)\n",
    "np.save('gameId/challenger/challenger_gameId_1', challenger_gameId)"
   ]
  },
  {
   "cell_type": "markdown",
   "metadata": {},
   "source": [
    "# Make DataFrame"
   ]
  },
  {
   "cell_type": "code",
   "execution_count": null,
   "metadata": {},
   "outputs": [],
   "source": [
    "# \n",
    "\n",
    "def gameIdLoader(path, api_key):\n",
    "    gameIds = np.load(path)\n",
    "    matches=[]\n",
    "    a = 0\n",
    "    for i in tqdm(gameIds):\n",
    "        # request limit( 20 requests every 1 seconds(s) , 100 requests every 2 minutes(s) )에 대한 해결 방안으로 time.sleep 을 120이상으로 설정\n",
    "        if a % 20 == 0:\n",
    "            time.sleep(2)\n",
    "        if a % 100 == 0:\n",
    "            time.sleep(125)\n",
    "        load_url = MATCH_URL + str(i)\n",
    "        res = requests.get(load_url, headers={\"X-Riot-Token\": api_key})\n",
    "        ob=json.loads(res.text)\n",
    "        if 'gameDuration' in ob:\n",
    "            if ob['gameMode'] != 'CLASSIC':\n",
    "                a += 1\n",
    "                continue\n",
    "            matches.append(ob)\n",
    "        else:\n",
    "            print(ob)\n",
    "            print(\"-Error recovery time-\")\n",
    "            time.sleep(90)\n",
    "            rest=gameIdLoaderRe([i], api_key)\n",
    "            matches.append(rest[0])\n",
    "            print(\"-Error fixed-\")\n",
    "        a += 1\n",
    "    return matches\n",
    "    \n",
    "    \n",
    "def gameIdLoaderRe(gameIds, api_key):\n",
    "    matches=[]\n",
    "    for i in tqdm(gameIds):\n",
    "        load_url = MATCH_URL + str(i)\n",
    "        res = requests.get(load_url, headers={\"X-Riot-Token\": api_key})\n",
    "        ob=json.loads(res.text)\n",
    "        if 'gameDuration' in ob:\n",
    "            matches.append(ob)\n",
    "        else:\n",
    "            print(ob)\n",
    "            print(\"-Error recovery time-\")\n",
    "            time.sleep(90)\n",
    "            rest=gameIdLoaderRe([i], api_key)\n",
    "            matches.append(rest[0])\n",
    "            print(\"-Error fixed-\")\n",
    "    return matches\n",
    "    \n",
    "    \n",
    "def flatter(matches):\n",
    "    matchlist = []\n",
    "    for i in matches:\n",
    "        matchlist.append(flatten(i, enumerate_types=(list,), reducer=make_reducer(delimiter='_')))\n",
    "    \n",
    "    return matchlist\n",
    "\n",
    "\n",
    "def filter_dict(d, f):\n",
    "    ''' Filters dictionary d by function f. '''\n",
    "    newDict = dict()\n",
    "    # Iterate over all (k,v) pairs in names\n",
    "    for key, value in d.items():\n",
    "        # Is condition satisfied?\n",
    "        if f(key, value):\n",
    "            newDict[key] = value\n",
    "    return newDict\n",
    "\n",
    "\n",
    "def filter_team_dict(d, f):\n",
    "    ''' Filters dictionary d by function f. '''\n",
    "    newDict = dict()\n",
    "    # Iterate over all (k,v) pairs in names\n",
    "    ind = -1\n",
    "    kl = ['teams_win', 'teams_firstBlood', 'teams_firstTower', 'teams_firstInhibitor', 'teams_firstBaron', 'teams_firstDragon', 'teams_firstRiftHerald', 'teams_towerKills', 'teams_inhibitorKills', 'teams_baronKills', 'teams_dragonKills', 'teams_riftHeraldKills']\n",
    "    for key, value in d.items():\n",
    "        # Is condition satisfied?\n",
    "        if f(key, value):\n",
    "            ind += 1\n",
    "            newDict[kl[ind]] = value\n",
    "    return newDict\n",
    "\n",
    "\n",
    "def filter_participant_dict(d, f):\n",
    "    ''' Filters dictionary d by function f. '''\n",
    "    newDict = dict()\n",
    "    # Iterate over all (k,v) pairs in names\n",
    "    for key, value in d.items():\n",
    "        # Is condition satisfied?\n",
    "        if f(key, value):\n",
    "            pkey = 'total_'+key[14:]\n",
    "            newDict[pkey] = value\n",
    "    return newDict\n",
    "\n",
    "\n",
    "def winTeams_0(match):\n",
    "    matchtemp = match\n",
    "    \n",
    "    for delstring in ['item', 'Id', 'playerScore', 'perk', 'Perk', 'bans', 'PlayerScore', 'timeline_csDiffPerMinDeltas_0-10', 'stats_totalScoreRank', 'dominionVictoryScore', 'stats_win', 'stats_unrealKills', 'stats_sightWardsBoughtInGame', 'timeline', 'vilemawKills', 'dominionVictoryScore','stats_firstInhibitorAssist','stats_firstInhibitorKill', 'stats_firstTowerAssist', 'stats_firstTowerKill', 'stats_firstBloodAssist', 'stats_firstBloodKill','turretKills','towerKills', 'damageDealtToTurrets']: \n",
    "        temp = list(filter_dict(match, lambda k,v: delstring in k).keys())\n",
    "        for i in temp:\n",
    "            del(matchtemp[i])\n",
    "    \n",
    "    \n",
    "    avg_data = (np.array(list(filter_participant_dict(matchtemp, lambda k,v: 'participants_0' in k).values())) \n",
    "    + np.array(list(filter_participant_dict(matchtemp, lambda k,v: 'participants_1' in k).values())) \n",
    "    + np.array(list(filter_participant_dict(matchtemp, lambda k,v: 'participants_2' in k).values())) \n",
    "    + np.array(list(filter_participant_dict(matchtemp, lambda k,v: 'participants_3' in k).values()))\n",
    "    + np.array(list(filter_participant_dict(matchtemp, lambda k,v: 'participants_4' in k).values())))\n",
    "    avg_label = list(filter_participant_dict(matchtemp, lambda k,v: 'participants_0' in k).keys())\n",
    "    win = {avg_label[i]: avg_data[i] for i in range(len(avg_label))}\n",
    "    \n",
    "    \n",
    "    avg_data = (np.array(list(filter_participant_dict(matchtemp, lambda k,v: 'participants_5' in k).values())) \n",
    "    + np.array(list(filter_participant_dict(matchtemp, lambda k,v: 'participants_6' in k).values())) \n",
    "    + np.array(list(filter_participant_dict(matchtemp, lambda k,v: 'participants_7' in k).values())) \n",
    "    + np.array(list(filter_participant_dict(matchtemp, lambda k,v: 'participants_8' in k).values()))\n",
    "    + np.array(list(filter_participant_dict(matchtemp, lambda k,v: 'participants_9' in k).values())))\n",
    "    lose = {avg_label[i]: avg_data[i] for i in range(len(avg_label))}\n",
    "    \n",
    "    win.update(filter_team_dict(matchtemp, lambda k,v: 'teams_0' in k))\n",
    "    lose.update(filter_team_dict(matchtemp, lambda k,v: 'teams_1' in k))\n",
    "    \n",
    "    return [win, lose]\n",
    "\n",
    "\n",
    "def winTeams_1(match):\n",
    "    temp = winTeams_0(match)\n",
    "    return [temp[1], temp[0]]\n",
    "\n",
    "\n",
    "def divideTeams(matches):\n",
    "    resultList = list()\n",
    "    for i in matches:\n",
    "        loseDict = dict()\n",
    "        winDict = dict()\n",
    "        loseDict.update({'gameDuration':i['gameDuration']})\n",
    "        winDict.update({'gameDuration':i['gameDuration']})\n",
    "        loseDict.update({'gameMode':i['gameMode']})\n",
    "        winDict.update({'gameMode':i['gameMode']})\n",
    "        \n",
    "        if i['teams_0_win'] == 'Win':\n",
    "            winDict.update(winTeams_0(i)[0])\n",
    "            loseDict.update(winTeams_0(i)[1])\n",
    "        else:\n",
    "            winDict.update(winTeams_1(i)[0])\n",
    "            loseDict.update(winTeams_1(i)[1])\n",
    "        resultList.append(winDict)\n",
    "        resultList.append(loseDict)\n",
    "    return resultList   \n",
    "\n",
    "\n",
    "def preprocessing(matches):\n",
    "    df = pd.DataFrame(divideTeams(flatter(matches)))\n",
    "    df[\"teams_firstBlood\"] = df[\"teams_firstBlood\"].astype(int)\n",
    "    df[\"teams_firstTower\"] = df[\"teams_firstTower\"].astype(int)\n",
    "    df[\"teams_firstInhibitor\"] = df[\"teams_firstInhibitor\"].astype(int)\n",
    "    df[\"teams_firstBaron\"] = df[\"teams_firstBaron\"].astype(int)\n",
    "    df[\"teams_firstDragon\"] = df[\"teams_firstDragon\"].astype(int)\n",
    "    df[\"teams_firstRiftHerald\"] = df[\"teams_firstRiftHerald\"].astype(int)\n",
    "    df.insert(0, 'team_win', df.teams_win)\n",
    "    df = df.drop(columns=['teams_win', 'gameMode'])\n",
    "    df['team_win'] = df['team_win'].replace(['Win','Fail'],[10000,-500])\n",
    "    return df\n",
    "\n",
    "\n",
    "def getDataFrame(path, api_key):\n",
    "    return preprocessing(gameIdLoader(path, api_key))\n"
   ]
  },
  {
   "cell_type": "code",
   "execution_count": null,
   "metadata": {
    "collapsed": true,
    "jupyter": {
     "outputs_hidden": true
    },
    "scrolled": true
   },
   "outputs": [
    {
     "name": "stderr",
     "output_type": "stream",
     "text": [
      "  0%|                                                                                          | 0/400 [00:00<?, ?it/s]"
     ]
    }
   ],
   "source": [
    "df = getDataFrame('gameId/iron/iron_1_gameId_1.npy', api_key)\n",
    "df1 = getDataFrame('gameId/iron/iron_2_gameId_1.npy', api_key)\n",
    "df2 = getDataFrame('gameId/iron/iron_3_gameId_1.npy', api_key)\n",
    "df3 = getDataFrame('gameId/iron/iron_4_gameId_1.npy', api_key)\n",
    "\n",
    "df = df.append(df1)\n",
    "df = df.append(df2)\n",
    "df = df.append(df3)\n",
    "df.to_csv(\"dataFrame/iron.csv\")"
   ]
  },
  {
   "cell_type": "code",
   "execution_count": 369,
   "metadata": {},
   "outputs": [
    {
     "data": {
      "text/html": [
       "<div>\n",
       "<style scoped>\n",
       "    .dataframe tbody tr th:only-of-type {\n",
       "        vertical-align: middle;\n",
       "    }\n",
       "\n",
       "    .dataframe tbody tr th {\n",
       "        vertical-align: top;\n",
       "    }\n",
       "\n",
       "    .dataframe thead th {\n",
       "        text-align: right;\n",
       "    }\n",
       "</style>\n",
       "<table border=\"1\" class=\"dataframe\">\n",
       "  <thead>\n",
       "    <tr style=\"text-align: right;\">\n",
       "      <th></th>\n",
       "      <th>Unnamed: 0</th>\n",
       "      <th>team_win</th>\n",
       "      <th>gameDuration</th>\n",
       "      <th>total__stats_kills</th>\n",
       "      <th>total__stats_deaths</th>\n",
       "      <th>total__stats_assists</th>\n",
       "      <th>total__stats_largestKillingSpree</th>\n",
       "      <th>total__stats_largestMultiKill</th>\n",
       "      <th>total__stats_killingSprees</th>\n",
       "      <th>total__stats_longestTimeSpentLiving</th>\n",
       "      <th>total__stats_doubleKills</th>\n",
       "      <th>total__stats_tripleKills</th>\n",
       "      <th>total__stats_quadraKills</th>\n",
       "      <th>total__stats_pentaKills</th>\n",
       "      <th>total__stats_totalDamageDealt</th>\n",
       "      <th>total__stats_magicDamageDealt</th>\n",
       "      <th>total__stats_physicalDamageDealt</th>\n",
       "      <th>total__stats_trueDamageDealt</th>\n",
       "      <th>total__stats_largestCriticalStrike</th>\n",
       "      <th>total__stats_totalDamageDealtToChampions</th>\n",
       "      <th>total__stats_magicDamageDealtToChampions</th>\n",
       "      <th>total__stats_physicalDamageDealtToChampions</th>\n",
       "      <th>total__stats_trueDamageDealtToChampions</th>\n",
       "      <th>total__stats_totalHeal</th>\n",
       "      <th>total__stats_totalUnitsHealed</th>\n",
       "      <th>total__stats_damageSelfMitigated</th>\n",
       "      <th>total__stats_damageDealtToObjectives</th>\n",
       "      <th>total__stats_visionScore</th>\n",
       "      <th>total__stats_timeCCingOthers</th>\n",
       "      <th>total__stats_totalDamageTaken</th>\n",
       "      <th>total__stats_magicalDamageTaken</th>\n",
       "      <th>total__stats_physicalDamageTaken</th>\n",
       "      <th>total__stats_trueDamageTaken</th>\n",
       "      <th>total__stats_goldEarned</th>\n",
       "      <th>total__stats_goldSpent</th>\n",
       "      <th>total__stats_inhibitorKills</th>\n",
       "      <th>total__stats_totalMinionsKilled</th>\n",
       "      <th>total__stats_neutralMinionsKilled</th>\n",
       "      <th>total__stats_neutralMinionsKilledTeamJungle</th>\n",
       "      <th>total__stats_neutralMinionsKilledEnemyJungle</th>\n",
       "      <th>total__stats_totalTimeCrowdControlDealt</th>\n",
       "      <th>total__stats_champLevel</th>\n",
       "      <th>total__stats_visionWardsBoughtInGame</th>\n",
       "      <th>total__stats_wardsPlaced</th>\n",
       "      <th>total__stats_wardsKilled</th>\n",
       "      <th>teams_firstBlood</th>\n",
       "      <th>teams_firstTower</th>\n",
       "      <th>teams_firstInhibitor</th>\n",
       "      <th>teams_firstBaron</th>\n",
       "      <th>teams_firstDragon</th>\n",
       "      <th>teams_firstRiftHerald</th>\n",
       "      <th>teams_towerKills</th>\n",
       "      <th>teams_inhibitorKills</th>\n",
       "      <th>teams_baronKills</th>\n",
       "      <th>teams_dragonKills</th>\n",
       "    </tr>\n",
       "  </thead>\n",
       "  <tbody>\n",
       "    <tr>\n",
       "      <th>0</th>\n",
       "      <td>0</td>\n",
       "      <td>10000</td>\n",
       "      <td>1432</td>\n",
       "      <td>29</td>\n",
       "      <td>10</td>\n",
       "      <td>32</td>\n",
       "      <td>15</td>\n",
       "      <td>9</td>\n",
       "      <td>6</td>\n",
       "      <td>2151</td>\n",
       "      <td>4</td>\n",
       "      <td>1</td>\n",
       "      <td>0</td>\n",
       "      <td>0</td>\n",
       "      <td>356585</td>\n",
       "      <td>61255</td>\n",
       "      <td>268728</td>\n",
       "      <td>26599</td>\n",
       "      <td>397</td>\n",
       "      <td>53482</td>\n",
       "      <td>12124</td>\n",
       "      <td>38042</td>\n",
       "      <td>3314</td>\n",
       "      <td>17731</td>\n",
       "      <td>11</td>\n",
       "      <td>34668</td>\n",
       "      <td>19988</td>\n",
       "      <td>72</td>\n",
       "      <td>108</td>\n",
       "      <td>52386</td>\n",
       "      <td>3422</td>\n",
       "      <td>47639</td>\n",
       "      <td>1322</td>\n",
       "      <td>41310</td>\n",
       "      <td>36260</td>\n",
       "      <td>0</td>\n",
       "      <td>421</td>\n",
       "      <td>123</td>\n",
       "      <td>67</td>\n",
       "      <td>22</td>\n",
       "      <td>537</td>\n",
       "      <td>61</td>\n",
       "      <td>2</td>\n",
       "      <td>34</td>\n",
       "      <td>3</td>\n",
       "      <td>0</td>\n",
       "      <td>1</td>\n",
       "      <td>0</td>\n",
       "      <td>0</td>\n",
       "      <td>0</td>\n",
       "      <td>0</td>\n",
       "      <td>0</td>\n",
       "      <td>0</td>\n",
       "      <td>1</td>\n",
       "      <td>0</td>\n",
       "    </tr>\n",
       "    <tr>\n",
       "      <th>1</th>\n",
       "      <td>1</td>\n",
       "      <td>-500</td>\n",
       "      <td>1432</td>\n",
       "      <td>10</td>\n",
       "      <td>29</td>\n",
       "      <td>6</td>\n",
       "      <td>3</td>\n",
       "      <td>5</td>\n",
       "      <td>1</td>\n",
       "      <td>2714</td>\n",
       "      <td>1</td>\n",
       "      <td>0</td>\n",
       "      <td>0</td>\n",
       "      <td>0</td>\n",
       "      <td>233158</td>\n",
       "      <td>35101</td>\n",
       "      <td>179330</td>\n",
       "      <td>18725</td>\n",
       "      <td>886</td>\n",
       "      <td>32841</td>\n",
       "      <td>2507</td>\n",
       "      <td>29009</td>\n",
       "      <td>1322</td>\n",
       "      <td>15081</td>\n",
       "      <td>7</td>\n",
       "      <td>43932</td>\n",
       "      <td>10744</td>\n",
       "      <td>35</td>\n",
       "      <td>46</td>\n",
       "      <td>70093</td>\n",
       "      <td>12889</td>\n",
       "      <td>53886</td>\n",
       "      <td>3313</td>\n",
       "      <td>31458</td>\n",
       "      <td>29100</td>\n",
       "      <td>0</td>\n",
       "      <td>311</td>\n",
       "      <td>76</td>\n",
       "      <td>64</td>\n",
       "      <td>0</td>\n",
       "      <td>289</td>\n",
       "      <td>51</td>\n",
       "      <td>1</td>\n",
       "      <td>21</td>\n",
       "      <td>1</td>\n",
       "      <td>1</td>\n",
       "      <td>0</td>\n",
       "      <td>0</td>\n",
       "      <td>0</td>\n",
       "      <td>1</td>\n",
       "      <td>0</td>\n",
       "      <td>0</td>\n",
       "      <td>0</td>\n",
       "      <td>2</td>\n",
       "      <td>0</td>\n",
       "    </tr>\n",
       "    <tr>\n",
       "      <th>2</th>\n",
       "      <td>2</td>\n",
       "      <td>10000</td>\n",
       "      <td>1344</td>\n",
       "      <td>23</td>\n",
       "      <td>7</td>\n",
       "      <td>17</td>\n",
       "      <td>16</td>\n",
       "      <td>5</td>\n",
       "      <td>6</td>\n",
       "      <td>2335</td>\n",
       "      <td>1</td>\n",
       "      <td>0</td>\n",
       "      <td>0</td>\n",
       "      <td>0</td>\n",
       "      <td>341109</td>\n",
       "      <td>74286</td>\n",
       "      <td>234456</td>\n",
       "      <td>32363</td>\n",
       "      <td>298</td>\n",
       "      <td>52570</td>\n",
       "      <td>13611</td>\n",
       "      <td>36349</td>\n",
       "      <td>2605</td>\n",
       "      <td>16353</td>\n",
       "      <td>6</td>\n",
       "      <td>32357</td>\n",
       "      <td>25683</td>\n",
       "      <td>47</td>\n",
       "      <td>58</td>\n",
       "      <td>55740</td>\n",
       "      <td>20258</td>\n",
       "      <td>33728</td>\n",
       "      <td>1749</td>\n",
       "      <td>36343</td>\n",
       "      <td>33000</td>\n",
       "      <td>0</td>\n",
       "      <td>409</td>\n",
       "      <td>100</td>\n",
       "      <td>53</td>\n",
       "      <td>16</td>\n",
       "      <td>481</td>\n",
       "      <td>59</td>\n",
       "      <td>1</td>\n",
       "      <td>27</td>\n",
       "      <td>1</td>\n",
       "      <td>1</td>\n",
       "      <td>1</td>\n",
       "      <td>0</td>\n",
       "      <td>0</td>\n",
       "      <td>1</td>\n",
       "      <td>1</td>\n",
       "      <td>0</td>\n",
       "      <td>0</td>\n",
       "      <td>2</td>\n",
       "      <td>1</td>\n",
       "    </tr>\n",
       "    <tr>\n",
       "      <th>3</th>\n",
       "      <td>3</td>\n",
       "      <td>-500</td>\n",
       "      <td>1344</td>\n",
       "      <td>7</td>\n",
       "      <td>23</td>\n",
       "      <td>4</td>\n",
       "      <td>2</td>\n",
       "      <td>3</td>\n",
       "      <td>1</td>\n",
       "      <td>2724</td>\n",
       "      <td>0</td>\n",
       "      <td>0</td>\n",
       "      <td>0</td>\n",
       "      <td>0</td>\n",
       "      <td>240747</td>\n",
       "      <td>78312</td>\n",
       "      <td>139218</td>\n",
       "      <td>23215</td>\n",
       "      <td>495</td>\n",
       "      <td>33999</td>\n",
       "      <td>18699</td>\n",
       "      <td>13547</td>\n",
       "      <td>1750</td>\n",
       "      <td>11416</td>\n",
       "      <td>4</td>\n",
       "      <td>27859</td>\n",
       "      <td>10349</td>\n",
       "      <td>48</td>\n",
       "      <td>87</td>\n",
       "      <td>69065</td>\n",
       "      <td>14655</td>\n",
       "      <td>51802</td>\n",
       "      <td>2604</td>\n",
       "      <td>28105</td>\n",
       "      <td>25825</td>\n",
       "      <td>0</td>\n",
       "      <td>315</td>\n",
       "      <td>75</td>\n",
       "      <td>58</td>\n",
       "      <td>4</td>\n",
       "      <td>1040</td>\n",
       "      <td>54</td>\n",
       "      <td>0</td>\n",
       "      <td>27</td>\n",
       "      <td>2</td>\n",
       "      <td>0</td>\n",
       "      <td>0</td>\n",
       "      <td>0</td>\n",
       "      <td>0</td>\n",
       "      <td>0</td>\n",
       "      <td>0</td>\n",
       "      <td>0</td>\n",
       "      <td>0</td>\n",
       "      <td>0</td>\n",
       "      <td>0</td>\n",
       "    </tr>\n",
       "    <tr>\n",
       "      <th>4</th>\n",
       "      <td>4</td>\n",
       "      <td>10000</td>\n",
       "      <td>1555</td>\n",
       "      <td>25</td>\n",
       "      <td>14</td>\n",
       "      <td>32</td>\n",
       "      <td>13</td>\n",
       "      <td>7</td>\n",
       "      <td>7</td>\n",
       "      <td>4096</td>\n",
       "      <td>4</td>\n",
       "      <td>1</td>\n",
       "      <td>0</td>\n",
       "      <td>0</td>\n",
       "      <td>465485</td>\n",
       "      <td>119149</td>\n",
       "      <td>297222</td>\n",
       "      <td>49110</td>\n",
       "      <td>811</td>\n",
       "      <td>50166</td>\n",
       "      <td>25177</td>\n",
       "      <td>20491</td>\n",
       "      <td>4496</td>\n",
       "      <td>20155</td>\n",
       "      <td>9</td>\n",
       "      <td>50690</td>\n",
       "      <td>68201</td>\n",
       "      <td>114</td>\n",
       "      <td>66</td>\n",
       "      <td>76013</td>\n",
       "      <td>33283</td>\n",
       "      <td>40263</td>\n",
       "      <td>2463</td>\n",
       "      <td>48762</td>\n",
       "      <td>45460</td>\n",
       "      <td>1</td>\n",
       "      <td>484</td>\n",
       "      <td>176</td>\n",
       "      <td>106</td>\n",
       "      <td>12</td>\n",
       "      <td>546</td>\n",
       "      <td>66</td>\n",
       "      <td>18</td>\n",
       "      <td>56</td>\n",
       "      <td>11</td>\n",
       "      <td>1</td>\n",
       "      <td>1</td>\n",
       "      <td>1</td>\n",
       "      <td>1</td>\n",
       "      <td>1</td>\n",
       "      <td>1</td>\n",
       "      <td>1</td>\n",
       "      <td>1</td>\n",
       "      <td>3</td>\n",
       "      <td>2</td>\n",
       "    </tr>\n",
       "  </tbody>\n",
       "</table>\n",
       "</div>"
      ],
      "text/plain": [
       "   Unnamed: 0  team_win  gameDuration  total__stats_kills  \\\n",
       "0           0     10000          1432                  29   \n",
       "1           1      -500          1432                  10   \n",
       "2           2     10000          1344                  23   \n",
       "3           3      -500          1344                   7   \n",
       "4           4     10000          1555                  25   \n",
       "\n",
       "   total__stats_deaths  total__stats_assists  \\\n",
       "0                   10                    32   \n",
       "1                   29                     6   \n",
       "2                    7                    17   \n",
       "3                   23                     4   \n",
       "4                   14                    32   \n",
       "\n",
       "   total__stats_largestKillingSpree  total__stats_largestMultiKill  \\\n",
       "0                                15                              9   \n",
       "1                                 3                              5   \n",
       "2                                16                              5   \n",
       "3                                 2                              3   \n",
       "4                                13                              7   \n",
       "\n",
       "   total__stats_killingSprees  total__stats_longestTimeSpentLiving  \\\n",
       "0                           6                                 2151   \n",
       "1                           1                                 2714   \n",
       "2                           6                                 2335   \n",
       "3                           1                                 2724   \n",
       "4                           7                                 4096   \n",
       "\n",
       "   total__stats_doubleKills  total__stats_tripleKills  \\\n",
       "0                         4                         1   \n",
       "1                         1                         0   \n",
       "2                         1                         0   \n",
       "3                         0                         0   \n",
       "4                         4                         1   \n",
       "\n",
       "   total__stats_quadraKills  total__stats_pentaKills  \\\n",
       "0                         0                        0   \n",
       "1                         0                        0   \n",
       "2                         0                        0   \n",
       "3                         0                        0   \n",
       "4                         0                        0   \n",
       "\n",
       "   total__stats_totalDamageDealt  total__stats_magicDamageDealt  \\\n",
       "0                         356585                          61255   \n",
       "1                         233158                          35101   \n",
       "2                         341109                          74286   \n",
       "3                         240747                          78312   \n",
       "4                         465485                         119149   \n",
       "\n",
       "   total__stats_physicalDamageDealt  total__stats_trueDamageDealt  \\\n",
       "0                            268728                         26599   \n",
       "1                            179330                         18725   \n",
       "2                            234456                         32363   \n",
       "3                            139218                         23215   \n",
       "4                            297222                         49110   \n",
       "\n",
       "   total__stats_largestCriticalStrike  \\\n",
       "0                                 397   \n",
       "1                                 886   \n",
       "2                                 298   \n",
       "3                                 495   \n",
       "4                                 811   \n",
       "\n",
       "   total__stats_totalDamageDealtToChampions  \\\n",
       "0                                     53482   \n",
       "1                                     32841   \n",
       "2                                     52570   \n",
       "3                                     33999   \n",
       "4                                     50166   \n",
       "\n",
       "   total__stats_magicDamageDealtToChampions  \\\n",
       "0                                     12124   \n",
       "1                                      2507   \n",
       "2                                     13611   \n",
       "3                                     18699   \n",
       "4                                     25177   \n",
       "\n",
       "   total__stats_physicalDamageDealtToChampions  \\\n",
       "0                                        38042   \n",
       "1                                        29009   \n",
       "2                                        36349   \n",
       "3                                        13547   \n",
       "4                                        20491   \n",
       "\n",
       "   total__stats_trueDamageDealtToChampions  total__stats_totalHeal  \\\n",
       "0                                     3314                   17731   \n",
       "1                                     1322                   15081   \n",
       "2                                     2605                   16353   \n",
       "3                                     1750                   11416   \n",
       "4                                     4496                   20155   \n",
       "\n",
       "   total__stats_totalUnitsHealed  total__stats_damageSelfMitigated  \\\n",
       "0                             11                             34668   \n",
       "1                              7                             43932   \n",
       "2                              6                             32357   \n",
       "3                              4                             27859   \n",
       "4                              9                             50690   \n",
       "\n",
       "   total__stats_damageDealtToObjectives  total__stats_visionScore  \\\n",
       "0                                 19988                        72   \n",
       "1                                 10744                        35   \n",
       "2                                 25683                        47   \n",
       "3                                 10349                        48   \n",
       "4                                 68201                       114   \n",
       "\n",
       "   total__stats_timeCCingOthers  total__stats_totalDamageTaken  \\\n",
       "0                           108                          52386   \n",
       "1                            46                          70093   \n",
       "2                            58                          55740   \n",
       "3                            87                          69065   \n",
       "4                            66                          76013   \n",
       "\n",
       "   total__stats_magicalDamageTaken  total__stats_physicalDamageTaken  \\\n",
       "0                             3422                             47639   \n",
       "1                            12889                             53886   \n",
       "2                            20258                             33728   \n",
       "3                            14655                             51802   \n",
       "4                            33283                             40263   \n",
       "\n",
       "   total__stats_trueDamageTaken  total__stats_goldEarned  \\\n",
       "0                          1322                    41310   \n",
       "1                          3313                    31458   \n",
       "2                          1749                    36343   \n",
       "3                          2604                    28105   \n",
       "4                          2463                    48762   \n",
       "\n",
       "   total__stats_goldSpent  total__stats_inhibitorKills  \\\n",
       "0                   36260                            0   \n",
       "1                   29100                            0   \n",
       "2                   33000                            0   \n",
       "3                   25825                            0   \n",
       "4                   45460                            1   \n",
       "\n",
       "   total__stats_totalMinionsKilled  total__stats_neutralMinionsKilled  \\\n",
       "0                              421                                123   \n",
       "1                              311                                 76   \n",
       "2                              409                                100   \n",
       "3                              315                                 75   \n",
       "4                              484                                176   \n",
       "\n",
       "   total__stats_neutralMinionsKilledTeamJungle  \\\n",
       "0                                           67   \n",
       "1                                           64   \n",
       "2                                           53   \n",
       "3                                           58   \n",
       "4                                          106   \n",
       "\n",
       "   total__stats_neutralMinionsKilledEnemyJungle  \\\n",
       "0                                            22   \n",
       "1                                             0   \n",
       "2                                            16   \n",
       "3                                             4   \n",
       "4                                            12   \n",
       "\n",
       "   total__stats_totalTimeCrowdControlDealt  total__stats_champLevel  \\\n",
       "0                                      537                       61   \n",
       "1                                      289                       51   \n",
       "2                                      481                       59   \n",
       "3                                     1040                       54   \n",
       "4                                      546                       66   \n",
       "\n",
       "   total__stats_visionWardsBoughtInGame  total__stats_wardsPlaced  \\\n",
       "0                                     2                        34   \n",
       "1                                     1                        21   \n",
       "2                                     1                        27   \n",
       "3                                     0                        27   \n",
       "4                                    18                        56   \n",
       "\n",
       "   total__stats_wardsKilled  teams_firstBlood  teams_firstTower  \\\n",
       "0                         3                 0                 1   \n",
       "1                         1                 1                 0   \n",
       "2                         1                 1                 1   \n",
       "3                         2                 0                 0   \n",
       "4                        11                 1                 1   \n",
       "\n",
       "   teams_firstInhibitor  teams_firstBaron  teams_firstDragon  \\\n",
       "0                     0                 0                  0   \n",
       "1                     0                 0                  1   \n",
       "2                     0                 0                  1   \n",
       "3                     0                 0                  0   \n",
       "4                     1                 1                  1   \n",
       "\n",
       "   teams_firstRiftHerald  teams_towerKills  teams_inhibitorKills  \\\n",
       "0                      0                 0                     0   \n",
       "1                      0                 0                     0   \n",
       "2                      1                 0                     0   \n",
       "3                      0                 0                     0   \n",
       "4                      1                 1                     1   \n",
       "\n",
       "   teams_baronKills  teams_dragonKills  \n",
       "0                 1                  0  \n",
       "1                 2                  0  \n",
       "2                 2                  1  \n",
       "3                 0                  0  \n",
       "4                 3                  2  "
      ]
     },
     "execution_count": 369,
     "metadata": {},
     "output_type": "execute_result"
    }
   ],
   "source": [
    "df_iron = pd.read_csv('dataFrame/iron.csv')\n",
    "df_iron.head()"
   ]
  },
  {
   "cell_type": "code",
   "execution_count": null,
   "metadata": {},
   "outputs": [],
   "source": [
    "df_bronze = getDataFrame('gameId/bronze/bronze_1_gameId_1.npy', api_key)\n",
    "df1 = getDataFrame('gameId/bronze/bronze_2_gameId_1.npy', api_key)\n",
    "df2 = getDataFrame('gameId/bronze/bronze_3_gameId_1.npy', api_key)\n",
    "df3 = getDataFrame('gameId/bronze/bronze_4_gameId_1.npy', api_key)\n",
    "\n",
    "df_bronze = df_bronze.append(df1)\n",
    "df_bronze = df_bronze.append(df2)\n",
    "df_bronze = df_bronze.append(df3)\n",
    "df_bronze.to_csv(\"dataFrame/bronze.csv\")"
   ]
  },
  {
   "cell_type": "code",
   "execution_count": 12,
   "metadata": {},
   "outputs": [
    {
     "data": {
      "text/plain": [
       "Unnamed: 0                                     -0.002359\n",
       "team_win                                        1.000000\n",
       "gameDuration                                    0.000000\n",
       "total__stats_kills                              0.463172\n",
       "total__stats_deaths                            -0.461522\n",
       "total__stats_assists                            0.378639\n",
       "total__stats_largestKillingSpree                0.615208\n",
       "total__stats_largestMultiKill                   0.422129\n",
       "total__stats_killingSprees                      0.420435\n",
       "total__stats_longestTimeSpentLiving             0.130406\n",
       "total__stats_doubleKills                        0.418660\n",
       "total__stats_tripleKills                        0.278756\n",
       "total__stats_quadraKills                        0.155063\n",
       "total__stats_pentaKills                         0.096791\n",
       "total__stats_totalDamageDealt                   0.190049\n",
       "total__stats_magicDamageDealt                   0.104656\n",
       "total__stats_physicalDamageDealt                0.186112\n",
       "total__stats_trueDamageDealt                    0.118681\n",
       "total__stats_largestCriticalStrike              0.132728\n",
       "total__stats_totalDamageDealtToChampions        0.182984\n",
       "total__stats_magicDamageDealtToChampions        0.105787\n",
       "total__stats_physicalDamageDealtToChampions     0.188516\n",
       "total__stats_trueDamageDealtToChampions         0.111594\n",
       "total__stats_totalHeal                          0.221164\n",
       "total__stats_totalUnitsHealed                   0.028404\n",
       "total__stats_damageSelfMitigated                0.001934\n",
       "total__stats_damageDealtToObjectives            0.545864\n",
       "total__stats_visionScore                        0.153661\n",
       "total__stats_timeCCingOthers                    0.063496\n",
       "total__stats_totalDamageTaken                  -0.081489\n",
       "total__stats_magicalDamageTaken                -0.092302\n",
       "total__stats_physicalDamageTaken               -0.049457\n",
       "total__stats_trueDamageTaken                   -0.069868\n",
       "total__stats_goldEarned                         0.261107\n",
       "total__stats_goldSpent                          0.154146\n",
       "total__stats_inhibitorKills                     0.539729\n",
       "total__stats_totalMinionsKilled                 0.105008\n",
       "total__stats_neutralMinionsKilled               0.310225\n",
       "total__stats_neutralMinionsKilledTeamJungle     0.101069\n",
       "total__stats_neutralMinionsKilledEnemyJungle    0.459094\n",
       "total__stats_totalTimeCrowdControlDealt         0.066426\n",
       "total__stats_champLevel                         0.210721\n",
       "total__stats_visionWardsBoughtInGame            0.071003\n",
       "total__stats_wardsPlaced                        0.086539\n",
       "total__stats_wardsKilled                        0.061428\n",
       "teams_firstBlood                                0.159727\n",
       "teams_firstTower                                0.471759\n",
       "teams_firstInhibitor                            0.632714\n",
       "teams_firstBaron                                0.330827\n",
       "teams_firstDragon                               0.254024\n",
       "teams_firstRiftHerald                           0.258275\n",
       "teams_towerKills                                0.539629\n",
       "teams_inhibitorKills                            0.318658\n",
       "teams_baronKills                                0.493682\n",
       "teams_dragonKills                               0.276882\n",
       "Name: team_win, dtype: float64"
      ]
     },
     "execution_count": 12,
     "metadata": {},
     "output_type": "execute_result"
    }
   ],
   "source": [
    "df_bronze = pd.read_csv('dataFrame/bronze.csv')\n",
    "df_bronze.corr().team_win"
   ]
  },
  {
   "cell_type": "code",
   "execution_count": null,
   "metadata": {},
   "outputs": [],
   "source": [
    "df_silver = getDataFrame('gameId/silver/silver_1_gameId_1.npy', api_key)\n",
    "df1 = getDataFrame('gameId/silver/silver_2_gameId_1.npy', api_key)\n",
    "df2 = getDataFrame('gameId/silver/silver_3_gameId_1.npy', api_key)\n",
    "df3 = getDataFrame('gameId/silver/silver_4_gameId_1.npy', api_key)\n",
    "\n",
    "df_silver = df_silver.append(df1)\n",
    "df_silver = df_silver.append(df2)\n",
    "df_silver = df_silver.append(df3)\n",
    "df_silver.to_csv(\"dataFrame/silver.csv\")"
   ]
  },
  {
   "cell_type": "code",
   "execution_count": 13,
   "metadata": {
    "collapsed": true,
    "jupyter": {
     "outputs_hidden": true
    }
   },
   "outputs": [
    {
     "data": {
      "text/plain": [
       "Unnamed: 0                                     -0.002419\n",
       "team_win                                        1.000000\n",
       "gameDuration                                    0.000000\n",
       "total__stats_kills                              0.495628\n",
       "total__stats_deaths                            -0.494100\n",
       "total__stats_assists                            0.406924\n",
       "total__stats_largestKillingSpree                0.644412\n",
       "total__stats_largestMultiKill                   0.427643\n",
       "total__stats_killingSprees                      0.451219\n",
       "total__stats_longestTimeSpentLiving             0.161896\n",
       "total__stats_doubleKills                        0.437478\n",
       "total__stats_tripleKills                        0.269764\n",
       "total__stats_quadraKills                        0.159882\n",
       "total__stats_pentaKills                         0.050876\n",
       "total__stats_totalDamageDealt                   0.196837\n",
       "total__stats_magicDamageDealt                   0.128617\n",
       "total__stats_physicalDamageDealt                0.180434\n",
       "total__stats_trueDamageDealt                    0.070230\n",
       "total__stats_largestCriticalStrike              0.154977\n",
       "total__stats_totalDamageDealtToChampions        0.199460\n",
       "total__stats_magicDamageDealtToChampions        0.127863\n",
       "total__stats_physicalDamageDealtToChampions     0.191697\n",
       "total__stats_trueDamageDealtToChampions         0.123664\n",
       "total__stats_totalHeal                          0.227599\n",
       "total__stats_totalUnitsHealed                   0.048819\n",
       "total__stats_damageSelfMitigated                0.026787\n",
       "total__stats_damageDealtToObjectives            0.588059\n",
       "total__stats_visionScore                        0.159342\n",
       "total__stats_timeCCingOthers                    0.087322\n",
       "total__stats_totalDamageTaken                  -0.091612\n",
       "total__stats_magicalDamageTaken                -0.112806\n",
       "total__stats_physicalDamageTaken               -0.047363\n",
       "total__stats_trueDamageTaken                   -0.069795\n",
       "total__stats_goldEarned                         0.282282\n",
       "total__stats_goldSpent                          0.167565\n",
       "total__stats_inhibitorKills                     0.585134\n",
       "total__stats_totalMinionsKilled                 0.081608\n",
       "total__stats_neutralMinionsKilled               0.325778\n",
       "total__stats_neutralMinionsKilledTeamJungle     0.083982\n",
       "total__stats_neutralMinionsKilledEnemyJungle    0.471702\n",
       "total__stats_totalTimeCrowdControlDealt         0.096321\n",
       "total__stats_champLevel                         0.230979\n",
       "total__stats_visionWardsBoughtInGame            0.078250\n",
       "total__stats_wardsPlaced                        0.065644\n",
       "total__stats_wardsKilled                        0.089997\n",
       "teams_firstBlood                                0.221834\n",
       "teams_firstTower                                0.424799\n",
       "teams_firstInhibitor                            0.658203\n",
       "teams_firstBaron                                0.398184\n",
       "teams_firstDragon                               0.223247\n",
       "teams_firstRiftHerald                           0.222673\n",
       "teams_towerKills                                0.583078\n",
       "teams_inhibitorKills                            0.377701\n",
       "teams_baronKills                                0.530603\n",
       "teams_dragonKills                               0.262880\n",
       "Name: team_win, dtype: float64"
      ]
     },
     "execution_count": 13,
     "metadata": {},
     "output_type": "execute_result"
    }
   ],
   "source": [
    "df_silver = pd.read_csv('dataFrame/silver.csv')\n",
    "df_silver.corr().team_win"
   ]
  },
  {
   "cell_type": "code",
   "execution_count": 12,
   "metadata": {
    "collapsed": true,
    "jupyter": {
     "outputs_hidden": true
    }
   },
   "outputs": [
    {
     "data": {
      "application/vnd.jupyter.widget-view+json": {
       "model_id": "9de3d2f9b9d749c696125c53c9084c55",
       "version_major": 2,
       "version_minor": 0
      },
      "text/plain": [
       "  0%|          | 0/400 [00:00<?, ?it/s]"
      ]
     },
     "metadata": {},
     "output_type": "display_data"
    },
    {
     "data": {
      "application/vnd.jupyter.widget-view+json": {
       "model_id": "5701577b5d794cce95376a25c895c006",
       "version_major": 2,
       "version_minor": 0
      },
      "text/plain": [
       "  0%|          | 0/400 [00:00<?, ?it/s]"
      ]
     },
     "metadata": {},
     "output_type": "display_data"
    },
    {
     "name": "stdout",
     "output_type": "stream",
     "text": [
      "{'status': {'message': 'Gateway timeout', 'status_code': 504}}\n",
      "-Error recovery time-\n"
     ]
    },
    {
     "data": {
      "application/vnd.jupyter.widget-view+json": {
       "model_id": "df4b46149e554e5ab8e9b63ffd17f865",
       "version_major": 2,
       "version_minor": 0
      },
      "text/plain": [
       "  0%|          | 0/1 [00:00<?, ?it/s]"
      ]
     },
     "metadata": {},
     "output_type": "display_data"
    },
    {
     "name": "stdout",
     "output_type": "stream",
     "text": [
      "-Error fixed-\n",
      "{'status': {'message': 'Gateway timeout', 'status_code': 504}}\n",
      "-Error recovery time-\n"
     ]
    },
    {
     "data": {
      "application/vnd.jupyter.widget-view+json": {
       "model_id": "67681061986a4735a76e0b2742253889",
       "version_major": 2,
       "version_minor": 0
      },
      "text/plain": [
       "  0%|          | 0/1 [00:00<?, ?it/s]"
      ]
     },
     "metadata": {},
     "output_type": "display_data"
    },
    {
     "name": "stdout",
     "output_type": "stream",
     "text": [
      "-Error fixed-\n"
     ]
    },
    {
     "data": {
      "application/vnd.jupyter.widget-view+json": {
       "model_id": "c136ba63f02541dcac1142b9b9e6501b",
       "version_major": 2,
       "version_minor": 0
      },
      "text/plain": [
       "  0%|          | 0/400 [00:00<?, ?it/s]"
      ]
     },
     "metadata": {},
     "output_type": "display_data"
    },
    {
     "data": {
      "application/vnd.jupyter.widget-view+json": {
       "model_id": "cb2cc97237c94c00be9856a5bfd0fd90",
       "version_major": 2,
       "version_minor": 0
      },
      "text/plain": [
       "  0%|          | 0/400 [00:00<?, ?it/s]"
      ]
     },
     "metadata": {},
     "output_type": "display_data"
    }
   ],
   "source": [
    "df_gold = getDataFrame('gameId/gold/gold_1_gameId_1.npy', api_key)\n",
    "df1 = getDataFrame('gameId/gold/gold_2_gameId_1.npy', api_key)\n",
    "df2 = getDataFrame('gameId/gold/gold_3_gameId_1.npy', api_key)\n",
    "df3 = getDataFrame('gameId/gold/gold_4_gameId_1.npy', api_key)\n",
    "\n",
    "df_gold = df_gold.append(df1)\n",
    "df_gold = df_gold.append(df2)\n",
    "df_gold = df_gold.append(df3)\n",
    "df_gold.to_csv(\"dataFrame/gold.csv\")"
   ]
  },
  {
   "cell_type": "code",
   "execution_count": 14,
   "metadata": {
    "collapsed": true,
    "jupyter": {
     "outputs_hidden": true
    }
   },
   "outputs": [
    {
     "data": {
      "text/plain": [
       "Unnamed: 0                                     -0.002682\n",
       "team_win                                        1.000000\n",
       "gameDuration                                    0.000000\n",
       "total__stats_kills                              0.514884\n",
       "total__stats_deaths                            -0.513480\n",
       "total__stats_assists                            0.455093\n",
       "total__stats_largestKillingSpree                0.640875\n",
       "total__stats_largestMultiKill                   0.453300\n",
       "total__stats_killingSprees                      0.466783\n",
       "total__stats_longestTimeSpentLiving             0.149126\n",
       "total__stats_doubleKills                        0.443095\n",
       "total__stats_tripleKills                        0.290195\n",
       "total__stats_quadraKills                        0.142252\n",
       "total__stats_pentaKills                         0.073648\n",
       "total__stats_totalDamageDealt                   0.210460\n",
       "total__stats_magicDamageDealt                   0.171294\n",
       "total__stats_physicalDamageDealt                0.174599\n",
       "total__stats_trueDamageDealt                    0.067540\n",
       "total__stats_largestCriticalStrike              0.135771\n",
       "total__stats_totalDamageDealtToChampions        0.200042\n",
       "total__stats_magicDamageDealtToChampions        0.159748\n",
       "total__stats_physicalDamageDealtToChampions     0.180391\n",
       "total__stats_trueDamageDealtToChampions         0.090311\n",
       "total__stats_totalHeal                          0.245952\n",
       "total__stats_totalUnitsHealed                   0.063363\n",
       "total__stats_damageSelfMitigated                0.017277\n",
       "total__stats_damageDealtToObjectives            0.612267\n",
       "total__stats_visionScore                        0.148924\n",
       "total__stats_timeCCingOthers                    0.069094\n",
       "total__stats_totalDamageTaken                  -0.090215\n",
       "total__stats_magicalDamageTaken                -0.142124\n",
       "total__stats_physicalDamageTaken               -0.034611\n",
       "total__stats_trueDamageTaken                   -0.037234\n",
       "total__stats_goldEarned                         0.302530\n",
       "total__stats_goldSpent                          0.184631\n",
       "total__stats_inhibitorKills                     0.613012\n",
       "total__stats_totalMinionsKilled                 0.099935\n",
       "total__stats_neutralMinionsKilled               0.317943\n",
       "total__stats_neutralMinionsKilledTeamJungle     0.063219\n",
       "total__stats_neutralMinionsKilledEnemyJungle    0.496372\n",
       "total__stats_totalTimeCrowdControlDealt         0.094294\n",
       "total__stats_champLevel                         0.238580\n",
       "total__stats_visionWardsBoughtInGame            0.067101\n",
       "total__stats_wardsPlaced                        0.068589\n",
       "total__stats_wardsKilled                        0.102543\n",
       "teams_firstBlood                                0.194423\n",
       "teams_firstTower                                0.443895\n",
       "teams_firstInhibitor                            0.675672\n",
       "teams_firstBaron                                0.437870\n",
       "teams_firstDragon                               0.282775\n",
       "teams_firstRiftHerald                           0.203567\n",
       "teams_towerKills                                0.615838\n",
       "teams_inhibitorKills                            0.426847\n",
       "teams_baronKills                                0.535846\n",
       "teams_dragonKills                               0.275804\n",
       "Name: team_win, dtype: float64"
      ]
     },
     "execution_count": 14,
     "metadata": {},
     "output_type": "execute_result"
    }
   ],
   "source": [
    "df_gold = pd.read_csv('dataFrame/gold.csv')\n",
    "df_gold.corr().team_win"
   ]
  },
  {
   "cell_type": "code",
   "execution_count": null,
   "metadata": {
    "collapsed": true,
    "jupyter": {
     "outputs_hidden": true
    }
   },
   "outputs": [],
   "source": [
    "df_platinum = getDataFrame('gameId/platinum/platinum_1_gameId_1.npy', api_key)\n",
    "df1 = getDataFrame('gameId/platinum/platinum_2_gameId_1.npy', api_key)\n",
    "df2 = getDataFrame('gameId/platinum/platinum_3_gameId_1.npy', api_key)\n",
    "df3 = getDataFrame('gameId/platinum/platinum_4_gameId_1.npy', api_key)\n",
    "\n",
    "df_platinum = df_platinum.append(df1)\n",
    "df_platinum = df_platinum.append(df2)\n",
    "df_platinum = df_platinum.append(df3)\n",
    "df_platinum.to_csv(\"dataFrame/platinum.csv\")"
   ]
  },
  {
   "cell_type": "code",
   "execution_count": 8,
   "metadata": {
    "collapsed": true,
    "jupyter": {
     "outputs_hidden": true
    }
   },
   "outputs": [
    {
     "data": {
      "text/plain": [
       "Unnamed: 0                                     -0.002443\n",
       "team_win                                        1.000000\n",
       "gameDuration                                    0.000000\n",
       "total__stats_kills                              0.507661\n",
       "total__stats_deaths                            -0.506838\n",
       "total__stats_assists                            0.450013\n",
       "total__stats_largestKillingSpree                0.675370\n",
       "total__stats_largestMultiKill                   0.468123\n",
       "total__stats_killingSprees                      0.467092\n",
       "total__stats_longestTimeSpentLiving             0.119070\n",
       "total__stats_doubleKills                        0.473167\n",
       "total__stats_tripleKills                        0.284312\n",
       "total__stats_quadraKills                        0.132611\n",
       "total__stats_pentaKills                         0.057102\n",
       "total__stats_totalDamageDealt                   0.208308\n",
       "total__stats_magicDamageDealt                   0.159175\n",
       "total__stats_physicalDamageDealt                0.171298\n",
       "total__stats_trueDamageDealt                    0.105439\n",
       "total__stats_largestCriticalStrike              0.124379\n",
       "total__stats_totalDamageDealtToChampions        0.186241\n",
       "total__stats_magicDamageDealtToChampions        0.141612\n",
       "total__stats_physicalDamageDealtToChampions     0.170816\n",
       "total__stats_trueDamageDealtToChampions         0.124129\n",
       "total__stats_totalHeal                          0.248232\n",
       "total__stats_totalUnitsHealed                   0.086819\n",
       "total__stats_damageSelfMitigated                0.013708\n",
       "total__stats_damageDealtToObjectives            0.617001\n",
       "total__stats_visionScore                        0.156191\n",
       "total__stats_timeCCingOthers                    0.056708\n",
       "total__stats_totalDamageTaken                  -0.073712\n",
       "total__stats_magicalDamageTaken                -0.122632\n",
       "total__stats_physicalDamageTaken               -0.017526\n",
       "total__stats_trueDamageTaken                   -0.068252\n",
       "total__stats_goldEarned                         0.302149\n",
       "total__stats_goldSpent                          0.184933\n",
       "total__stats_inhibitorKills                     0.599659\n",
       "total__stats_totalMinionsKilled                 0.095558\n",
       "total__stats_neutralMinionsKilled               0.311604\n",
       "total__stats_neutralMinionsKilledTeamJungle     0.049342\n",
       "total__stats_neutralMinionsKilledEnemyJungle    0.500973\n",
       "total__stats_totalTimeCrowdControlDealt         0.094336\n",
       "total__stats_champLevel                         0.248653\n",
       "total__stats_visionWardsBoughtInGame            0.093098\n",
       "total__stats_wardsPlaced                        0.055546\n",
       "total__stats_wardsKilled                        0.110302\n",
       "teams_firstBlood                                0.180791\n",
       "teams_firstTower                                0.435748\n",
       "teams_firstInhibitor                            0.676817\n",
       "teams_firstBaron                                0.492622\n",
       "teams_firstDragon                               0.229550\n",
       "teams_firstRiftHerald                           0.244570\n",
       "teams_towerKills                                0.596656\n",
       "teams_inhibitorKills                            0.467107\n",
       "teams_baronKills                                0.527245\n",
       "teams_dragonKills                               0.338618\n",
       "Name: team_win, dtype: float64"
      ]
     },
     "execution_count": 8,
     "metadata": {},
     "output_type": "execute_result"
    }
   ],
   "source": [
    "df_platinum = pd.read_csv('dataFrame/platinum.csv')\n",
    "df_platinum.corr().team_win"
   ]
  },
  {
   "cell_type": "code",
   "execution_count": 8,
   "metadata": {
    "collapsed": true,
    "jupyter": {
     "outputs_hidden": true
    }
   },
   "outputs": [
    {
     "name": "stderr",
     "output_type": "stream",
     "text": [
      " 61%|████████████████████████████████████████████████▌                               | 243/400 [08:05<01:38,  1.59it/s]"
     ]
    },
    {
     "name": "stdout",
     "output_type": "stream",
     "text": [
      "{'status': {'message': 'Gateway timeout', 'status_code': 504}}\n",
      "-Error recovery time-\n"
     ]
    },
    {
     "name": "stderr",
     "output_type": "stream",
     "text": [
      "\n",
      "  0%|                                                                                            | 0/1 [00:00<?, ?it/s]\u001b[A\n",
      "100%|████████████████████████████████████████████████████████████████████████████████████| 1/1 [00:00<00:00,  2.41it/s]\u001b[A\n",
      " 61%|███████████████████████████████████████████████▌                              | 244/400 [09:35<1:11:55, 27.66s/it]"
     ]
    },
    {
     "name": "stdout",
     "output_type": "stream",
     "text": [
      "-Error fixed-\n"
     ]
    },
    {
     "name": "stderr",
     "output_type": "stream",
     "text": [
      "100%|████████████████████████████████████████████████████████████████████████████████| 400/400 [12:47<00:00,  1.92s/it]\n",
      " 17%|█████████████▉                                                                   | 69/400 [02:39<02:04,  2.65it/s]"
     ]
    },
    {
     "name": "stdout",
     "output_type": "stream",
     "text": [
      "{'status': {'message': 'Gateway timeout', 'status_code': 504}}\n",
      "-Error recovery time-\n"
     ]
    },
    {
     "name": "stderr",
     "output_type": "stream",
     "text": [
      "\n",
      "  0%|                                                                                            | 0/1 [00:00<?, ?it/s]\u001b[A\n",
      "100%|████████████████████████████████████████████████████████████████████████████████████| 1/1 [00:00<00:00,  2.48it/s]\u001b[A\n",
      " 18%|█████████████▊                                                                 | 70/400 [04:09<2:31:12, 27.49s/it]"
     ]
    },
    {
     "name": "stdout",
     "output_type": "stream",
     "text": [
      "-Error fixed-\n"
     ]
    },
    {
     "name": "stderr",
     "output_type": "stream",
     "text": [
      " 75%|████████████████████████████████████████████████████████████                    | 300/400 [10:03<00:34,  2.93it/s]"
     ]
    },
    {
     "name": "stdout",
     "output_type": "stream",
     "text": [
      "{'status': {'message': 'Gateway timeout', 'status_code': 504}}\n",
      "-Error recovery time-\n"
     ]
    },
    {
     "name": "stderr",
     "output_type": "stream",
     "text": [
      "\n",
      "  0%|                                                                                            | 0/1 [00:00<?, ?it/s]\u001b[A\n",
      "100%|████████████████████████████████████████████████████████████████████████████████████| 1/1 [00:00<00:00,  2.33it/s]\u001b[A\n",
      " 75%|██████████████████████████████████████████████████████████▋                   | 301/400 [13:41<1:48:14, 65.60s/it]"
     ]
    },
    {
     "name": "stdout",
     "output_type": "stream",
     "text": [
      "-Error fixed-\n"
     ]
    },
    {
     "name": "stderr",
     "output_type": "stream",
     "text": [
      " 96%|█████████████████████████████████████████████████████████████████████████████   | 385/400 [14:18<00:07,  2.01it/s]"
     ]
    },
    {
     "name": "stdout",
     "output_type": "stream",
     "text": [
      "{'status': {'message': 'Gateway timeout', 'status_code': 504}}\n",
      "-Error recovery time-\n"
     ]
    },
    {
     "name": "stderr",
     "output_type": "stream",
     "text": [
      "\n",
      "  0%|                                                                                            | 0/1 [00:00<?, ?it/s]\u001b[A\n",
      "100%|████████████████████████████████████████████████████████████████████████████████████| 1/1 [00:00<00:00,  2.61it/s]\u001b[A\n",
      " 96%|█████████████████████████████████████████████████████████████████████████████▏  | 386/400 [15:49<06:25, 27.56s/it]"
     ]
    },
    {
     "name": "stdout",
     "output_type": "stream",
     "text": [
      "-Error fixed-\n"
     ]
    },
    {
     "name": "stderr",
     "output_type": "stream",
     "text": [
      "100%|████████████████████████████████████████████████████████████████████████████████| 400/400 [15:54<00:00,  2.39s/it]\n",
      " 78%|██████████████████████████████████████████████████████████████▌                 | 313/400 [10:39<01:16,  1.14it/s]"
     ]
    },
    {
     "name": "stdout",
     "output_type": "stream",
     "text": [
      "{'status': {'message': 'Gateway timeout', 'status_code': 504}}\n",
      "-Error recovery time-\n"
     ]
    },
    {
     "name": "stderr",
     "output_type": "stream",
     "text": [
      "\n",
      "  0%|                                                                                            | 0/1 [00:00<?, ?it/s]\u001b[A\n",
      "100%|████████████████████████████████████████████████████████████████████████████████████| 1/1 [00:00<00:00,  2.58it/s]\u001b[A\n",
      " 78%|██████████████████████████████████████████████████████████████▊                 | 314/400 [12:10<39:52, 27.82s/it]"
     ]
    },
    {
     "name": "stdout",
     "output_type": "stream",
     "text": [
      "-Error fixed-\n"
     ]
    },
    {
     "name": "stderr",
     "output_type": "stream",
     "text": [
      "100%|████████████████████████████████████████████████████████████████████████████████| 400/400 [12:48<00:00,  1.92s/it]\n"
     ]
    }
   ],
   "source": [
    "df_diamond = getDataFrame('gameId/diamond/diamond_3_gameId_1.npy', api_key)\n",
    "df3 = getDataFrame('gameId/diamond/diamond_2_gameId_1.npy', api_key)\n",
    "df4 = getDataFrame('gameId/diamond/diamond_4_gameId_1.npy', api_key)\n",
    "\n",
    "df_over_diamond = getDataFrame('gameId/diamond/diamond_1_gameId_1.npy', api_key)\n",
    "df2 = getDataFrame('gameId/master/master_gameId_1.npy', api_key)\n",
    "df1 = getDataFrame('gameId/grandmaster/grandmaster_gameId_1.npy', api_key)\n",
    "df0 = getDataFrame('gameId/challenger/challenger_gameId_1.npy', api_key)\n",
    "\n",
    "\n",
    "df_over_diamond = df_over_diamond.append(df0)\n",
    "df_over_diamond = df_over_diamond.append(df1)\n",
    "df_over_diamond = df_over_diamond.append(df2)\n",
    "\n",
    "\n",
    "df_diamond = df_diamond.append(df3)\n",
    "df_diamond = df_diamond.append(df4)\n",
    "\n",
    "df_over_diamond.to_csv(\"dataFrame/over_diamond.csv\")\n",
    "df_diamond.to_csv(\"dataFrame/diamond.csv\")"
   ]
  },
  {
   "cell_type": "code",
   "execution_count": 5,
   "metadata": {
    "collapsed": true,
    "jupyter": {
     "outputs_hidden": true
    }
   },
   "outputs": [
    {
     "data": {
      "text/plain": [
       "Unnamed: 0                                     -0.002562\n",
       "team_win                                        1.000000\n",
       "gameDuration                                    0.000000\n",
       "total__stats_kills                              0.511407\n",
       "total__stats_deaths                            -0.511052\n",
       "total__stats_assists                            0.450335\n",
       "total__stats_largestKillingSpree                0.668448\n",
       "total__stats_largestMultiKill                   0.474543\n",
       "total__stats_killingSprees                      0.472840\n",
       "total__stats_longestTimeSpentLiving             0.108053\n",
       "total__stats_doubleKills                        0.469813\n",
       "total__stats_tripleKills                        0.292903\n",
       "total__stats_quadraKills                        0.161590\n",
       "total__stats_pentaKills                         0.092734\n",
       "total__stats_totalDamageDealt                   0.212904\n",
       "total__stats_magicDamageDealt                   0.160555\n",
       "total__stats_physicalDamageDealt                0.182994\n",
       "total__stats_trueDamageDealt                    0.114924\n",
       "total__stats_largestCriticalStrike              0.169735\n",
       "total__stats_totalDamageDealtToChampions        0.180672\n",
       "total__stats_magicDamageDealtToChampions        0.128621\n",
       "total__stats_physicalDamageDealtToChampions     0.181408\n",
       "total__stats_trueDamageDealtToChampions         0.124900\n",
       "total__stats_totalHeal                          0.245962\n",
       "total__stats_totalUnitsHealed                   0.088384\n",
       "total__stats_damageSelfMitigated                0.025877\n",
       "total__stats_damageDealtToObjectives            0.612666\n",
       "total__stats_visionScore                        0.151787\n",
       "total__stats_timeCCingOthers                    0.058345\n",
       "total__stats_totalDamageTaken                  -0.069262\n",
       "total__stats_magicalDamageTaken                -0.112109\n",
       "total__stats_physicalDamageTaken               -0.019813\n",
       "total__stats_trueDamageTaken                   -0.067834\n",
       "total__stats_goldEarned                         0.301430\n",
       "total__stats_goldSpent                          0.184566\n",
       "total__stats_inhibitorKills                     0.595267\n",
       "total__stats_totalMinionsKilled                 0.105223\n",
       "total__stats_neutralMinionsKilled               0.314325\n",
       "total__stats_neutralMinionsKilledTeamJungle     0.058154\n",
       "total__stats_neutralMinionsKilledEnemyJungle    0.515239\n",
       "total__stats_totalTimeCrowdControlDealt         0.097345\n",
       "total__stats_champLevel                         0.241294\n",
       "total__stats_visionWardsBoughtInGame            0.093597\n",
       "total__stats_wardsPlaced                        0.068552\n",
       "total__stats_wardsKilled                        0.093695\n",
       "teams_firstBlood                                0.244555\n",
       "teams_firstTower                                0.483229\n",
       "teams_firstInhibitor                            0.687367\n",
       "teams_firstBaron                                0.439138\n",
       "teams_firstDragon                               0.331769\n",
       "teams_firstRiftHerald                           0.302254\n",
       "teams_towerKills                                0.596503\n",
       "teams_inhibitorKills                            0.418758\n",
       "teams_baronKills                                0.570714\n",
       "teams_dragonKills                               0.374793\n",
       "Name: team_win, dtype: float64"
      ]
     },
     "execution_count": 5,
     "metadata": {},
     "output_type": "execute_result"
    }
   ],
   "source": [
    "df_diamond = pd.read_csv('dataFrame/diamond.csv')\n",
    "df_diamond.corr().team_win"
   ]
  },
  {
   "cell_type": "code",
   "execution_count": 4,
   "metadata": {
    "collapsed": true,
    "jupyter": {
     "outputs_hidden": true
    }
   },
   "outputs": [
    {
     "data": {
      "text/plain": [
       "Unnamed: 0                                     -0.002664\n",
       "team_win                                        1.000000\n",
       "gameDuration                                    0.000000\n",
       "total__stats_kills                              0.572255\n",
       "total__stats_deaths                            -0.571152\n",
       "total__stats_assists                            0.502283\n",
       "total__stats_largestKillingSpree                0.706303\n",
       "total__stats_largestMultiKill                   0.520754\n",
       "total__stats_killingSprees                      0.527051\n",
       "total__stats_longestTimeSpentLiving             0.100834\n",
       "total__stats_doubleKills                        0.513954\n",
       "total__stats_tripleKills                        0.323562\n",
       "total__stats_quadraKills                        0.164878\n",
       "total__stats_pentaKills                         0.079276\n",
       "total__stats_totalDamageDealt                   0.202735\n",
       "total__stats_magicDamageDealt                   0.137698\n",
       "total__stats_physicalDamageDealt                0.197055\n",
       "total__stats_trueDamageDealt                    0.054503\n",
       "total__stats_largestCriticalStrike              0.167399\n",
       "total__stats_totalDamageDealtToChampions        0.208536\n",
       "total__stats_magicDamageDealtToChampions        0.143312\n",
       "total__stats_physicalDamageDealtToChampions     0.215733\n",
       "total__stats_trueDamageDealtToChampions         0.137488\n",
       "total__stats_totalHeal                          0.267043\n",
       "total__stats_totalUnitsHealed                   0.031735\n",
       "total__stats_damageSelfMitigated                0.021901\n",
       "total__stats_damageDealtToObjectives            0.595158\n",
       "total__stats_visionScore                        0.132034\n",
       "total__stats_timeCCingOthers                    0.062723\n",
       "total__stats_totalDamageTaken                  -0.078535\n",
       "total__stats_magicalDamageTaken                -0.125720\n",
       "total__stats_physicalDamageTaken               -0.023241\n",
       "total__stats_trueDamageTaken                   -0.078623\n",
       "total__stats_goldEarned                         0.318645\n",
       "total__stats_goldSpent                          0.195056\n",
       "total__stats_inhibitorKills                     0.535647\n",
       "total__stats_totalMinionsKilled                 0.096514\n",
       "total__stats_neutralMinionsKilled               0.268705\n",
       "total__stats_neutralMinionsKilledTeamJungle     0.031380\n",
       "total__stats_neutralMinionsKilledEnemyJungle    0.449898\n",
       "total__stats_totalTimeCrowdControlDealt         0.091200\n",
       "total__stats_champLevel                         0.266228\n",
       "total__stats_visionWardsBoughtInGame            0.070439\n",
       "total__stats_wardsPlaced                        0.060130\n",
       "total__stats_wardsKilled                        0.087594\n",
       "teams_firstBlood                                0.180710\n",
       "teams_firstTower                                0.431270\n",
       "teams_firstInhibitor                            0.583062\n",
       "teams_firstBaron                                0.479397\n",
       "teams_firstDragon                               0.269421\n",
       "teams_firstRiftHerald                           0.242860\n",
       "teams_towerKills                                0.532559\n",
       "teams_inhibitorKills                            0.445672\n",
       "teams_baronKills                                0.502108\n",
       "teams_dragonKills                               0.334560\n",
       "Name: team_win, dtype: float64"
      ]
     },
     "execution_count": 4,
     "metadata": {},
     "output_type": "execute_result"
    }
   ],
   "source": [
    "df_over_diamond = pd.read_csv('dataFrame/over_diamond.csv')\n",
    "df_over_diamond.corr().team_win"
   ]
  },
  {
   "cell_type": "code",
   "execution_count": 343,
   "metadata": {
    "collapsed": true,
    "jupyter": {
     "outputs_hidden": true
    }
   },
   "outputs": [
    {
     "name": "stdout",
     "output_type": "stream",
     "text": [
      "                                                                                  Over_diamond                                                Iron\n",
      "team_win                                                                                 1.000                                               1.000\n",
      "gameDuration                                                                             0.000                                               0.000\n",
      "avg__stats_kills                                                                         0.542                                               0.447\n",
      "avg__stats_deaths                                                                       -0.540                                              -0.445\n",
      "avg__stats_assists                                                                       0.492                                               0.357\n",
      "avg__stats_largestKillingSpree                                                           0.686                                               0.624\n",
      "avg__stats_largestMultiKill                                                              0.478                                               0.423\n",
      "avg__stats_killingSprees                                                                 0.506                                               0.399\n",
      "avg__stats_longestTimeSpentLiving                                                        0.068                                               0.128\n",
      "avg__stats_doubleKills                                                                   0.496                                               0.403\n",
      "avg__stats_tripleKills                                                                   0.343                                               0.267\n",
      "avg__stats_quadraKills                                                                   0.139                                               0.149\n",
      "avg__stats_pentaKills                                                                    0.079                                               0.074\n",
      "avg__stats_totalDamageDealt                                                              0.221                                               0.180\n",
      "avg__stats_magicDamageDealt                                                              0.154                                               0.117\n",
      "avg__stats_physicalDamageDealt                                                           0.201                                               0.166\n",
      "avg__stats_trueDamageDealt                                                               0.104                                               0.118\n",
      "avg__stats_largestCriticalStrike                                                         0.099                                               0.108\n",
      "avg__stats_totalDamageDealtToChampions                                                   0.196                                               0.173\n",
      "avg__stats_magicDamageDealtToChampions                                                   0.125                                               0.114\n",
      "avg__stats_physicalDamageDealtToChampions                                                0.204                                               0.166\n",
      "avg__stats_trueDamageDealtToChampions                                                    0.121                                               0.111\n",
      "avg__stats_totalHeal                                                                     0.285                                               0.206\n",
      "avg__stats_totalUnitsHealed                                                              0.098                                               0.049\n",
      "avg__stats_damageSelfMitigated                                                           0.015                                               0.005\n",
      "avg__stats_damageDealtToObjectives                                                       0.599                                               0.518\n",
      "avg__stats_visionScore                                                                   0.139                                               0.139\n",
      "avg__stats_timeCCingOthers                                                               0.035                                               0.054\n",
      "avg__stats_totalDamageTaken                                                             -0.067                                              -0.079\n",
      "avg__stats_magicalDamageTaken                                                           -0.103                                              -0.101\n",
      "avg__stats_physicalDamageTaken                                                          -0.024                                              -0.040\n",
      "avg__stats_trueDamageTaken                                                              -0.060                                              -0.078\n",
      "avg__stats_goldEarned                                                                    0.321                                               0.247\n",
      "avg__stats_goldSpent                                                                     0.197                                               0.162\n",
      "avg__stats_inhibitorKills                                                                0.561                                               0.525\n",
      "avg__stats_totalMinionsKilled                                                            0.098                                               0.117\n",
      "avg__stats_neutralMinionsKilled                                                          0.306                                               0.290\n",
      "avg__stats_neutralMinionsKilledTeamJungle                                                0.053                                               0.088\n",
      "avg__stats_neutralMinionsKilledEnemyJungle                                               0.500                                               0.413\n",
      "avg__stats_totalTimeCrowdControlDealt                                                    0.081                                               0.081\n",
      "avg__stats_champLevel                                                                    0.257                                               0.203\n",
      "avg__stats_visionWardsBoughtInGame                                                       0.056                                               0.079\n",
      "avg__stats_wardsPlaced                                                                   0.054                                               0.085\n",
      "avg__stats_wardsKilled                                                                   0.085                                               0.058\n",
      "teams_firstBlood                                                                         0.109                                               0.191\n",
      "teams_firstTower                                                                         0.406                                               0.450\n",
      "teams_firstInhibitor                                                                     0.610                                               0.600\n",
      "teams_firstBaron                                                                         0.510                                               0.267\n",
      "teams_firstDragon                                                                        0.269                                               0.330\n",
      "teams_firstRiftHerald                                                                    0.201                                               0.268\n",
      "teams_towerKills                                                                         0.564                                               0.524\n",
      "teams_inhibitorKills                                                                     0.478                                               0.252\n",
      "teams_baronKills                                                                         0.498                                               0.499\n",
      "teams_dragonKills                                                                        0.294                                               0.280\n"
     ]
    }
   ],
   "source": [
    "df_over_diamond = pd.read_csv('dataFrame/over_diamond.csv')\n",
    "over = df_over_diamond.corr().team_win\n",
    "df_iron = pd.read_csv('dataFrame/iron.csv')\n",
    "under = df_iron.corr().team_win\n",
    "print('{0:>94} {1:>51}'.format('Over_diamond', 'Iron'))\n",
    "for i in range(1,len(over.keys())):\n",
    "    print('{0:<43} {1:>50.3f}  {2:>50.3f}'.format(over.keys()[i] , over[i], under[i]))"
   ]
  },
  {
   "cell_type": "code",
   "execution_count": 275,
   "metadata": {},
   "outputs": [],
   "source": [
    "def visualdf(df, tier):\n",
    "    plt.figure(figsize = (15,15))\n",
    "    plt.title('{}'.format(tier),fontsize=100)\n",
    "    sns.heatmap(data =pd.DataFrame(df.corr().team_win), annot=True, fmt = '.2f', linewidths=.5, cmap='BrBG', vmin = -0.8, vmax = 0.8)\n",
    "    plt.savefig(tier+'.png', \n",
    "        dpi=300, \n",
    "        facecolor='w', \n",
    "        edgecolor='w',\n",
    "        orientation='portrait', \n",
    "        papertype=None, \n",
    "        format=None,\n",
    "        transparent=False, \n",
    "        bbox_inches=None, \n",
    "        pad_inches=0.1,\n",
    "        frameon=None, \n",
    "        metadata=None)"
   ]
  },
  {
   "cell_type": "code",
   "execution_count": 276,
   "metadata": {},
   "outputs": [
    {
     "name": "stderr",
     "output_type": "stream",
     "text": [
      "C:\\Users\\hyuk6\\anaconda3\\envs\\pytorch\\lib\\site-packages\\ipykernel_launcher.py:16: MatplotlibDeprecationWarning: savefig() got unexpected keyword argument \"papertype\" which is no longer supported as of 3.3 and will become an error two minor releases later\n",
      "  app.launch_new_instance()\n",
      "C:\\Users\\hyuk6\\anaconda3\\envs\\pytorch\\lib\\site-packages\\ipykernel_launcher.py:16: MatplotlibDeprecationWarning: savefig() got unexpected keyword argument \"frameon\" which is no longer supported as of 3.3 and will become an error two minor releases later\n",
      "  app.launch_new_instance()\n"
     ]
    },
    {
     "data": {
      "image/png": "[encoded data removed]",
      "text/plain": [
       "<Figure size 1080x1080 with 2 Axes>"
      ]
     },
     "metadata": {
      "needs_background": "light"
     },
     "output_type": "display_data"
    }
   ],
   "source": [
    "visualdf(df_iron, 'Iron')"
   ]
  },
  {
   "cell_type": "markdown",
   "metadata": {},
   "source": [
    "<img src=\"visual.gif\" width=\"900\" height=\"600\"/>"
   ]
  },
  {
   "cell_type": "markdown",
   "metadata": {},
   "source": [
    "## Convert to Dataset"
   ]
  },
  {
   "cell_type": "code",
   "execution_count": 15,
   "metadata": {
    "jupyter": {
     "source_hidden": true
    }
   },
   "outputs": [],
   "source": [
    "def divide_dataset():\n",
    "    csvlist = np.array(glob(\"dataFrame/*\"))\n",
    "    print(csvlist)\n",
    "    for i in csvlist:\n",
    "        tier = i.split('\\\\')[-1].split('.')[-2]\n",
    "        print(tier)\n",
    "        df = pd.read_csv(i).drop(columns=['Unnamed: 0'])\n",
    "        df['team_win'] = df['team_win'].replace([10000, -500],[1,0])\n",
    "        dl = df.to_dict('records')\n",
    "        tr = 6*(len(dl)//10)\n",
    "        vr = 2*(len(dl)//10) + tr\n",
    "        train = dl[0:tr]\n",
    "        valid = dl[tr: vr]\n",
    "        test = dl[vr:]\n",
    "        train = pd.DataFrame(train)\n",
    "        valid = pd.DataFrame(valid)\n",
    "        test = pd.DataFrame(test)\n",
    "        train.to_csv('dataset/'+tier+'/train/train.csv')\n",
    "        valid.to_csv('dataset/'+tier+'/valid/valid.csv')\n",
    "        test.to_csv('dataset/'+tier+'/test/test.csv')\n",
    "    return"
   ]
  },
  {
   "cell_type": "code",
   "execution_count": 16,
   "metadata": {
    "collapsed": true,
    "jupyter": {
     "outputs_hidden": true
    }
   },
   "outputs": [
    {
     "name": "stdout",
     "output_type": "stream",
     "text": [
      "['dataFrame\\\\bronze.csv' 'dataFrame\\\\diamond.csv' 'dataFrame\\\\gold.csv'\n",
      " 'dataFrame\\\\iron.csv' 'dataFrame\\\\over_diamond.csv'\n",
      " 'dataFrame\\\\platinum.csv' 'dataFrame\\\\silver.csv']\n",
      "bronze\n",
      "diamond\n",
      "gold\n",
      "iron\n",
      "over_diamond\n",
      "platinum\n",
      "silver\n"
     ]
    }
   ],
   "source": [
    "divide_dataset()"
   ]
  },
  {
   "cell_type": "markdown",
   "metadata": {},
   "source": [
    "## Learning"
   ]
  },
  {
   "cell_type": "code",
   "execution_count": 15,
   "metadata": {},
   "outputs": [],
   "source": [
    "def to_train_Loder(csv_url, batch_size):\n",
    "    df = pd.read_csv(csv_url)\n",
    "    df = df.drop(columns=['Unnamed: 0'])\n",
    "    temp_dict_fail = dict()\n",
    "    temp_dict_win = dict()\n",
    "    \n",
    "    for i in df.keys():\n",
    "        temp_dict_fail[i] = 0\n",
    "        temp_dict_win[i] = 0\n",
    "    temp_dict_win['team_win'] = 1\n",
    "    \n",
    "    for i in range(10):\n",
    "        df.loc[len(df.index)] = temp_dict_fail \n",
    "        df.loc[len(df.index)] = temp_dict_win\n",
    "        \n",
    "    label = torch.tensor(df['team_win'].values , dtype=torch.int64)\n",
    "    mean = df.mean()\n",
    "    std = df.std()\n",
    "    df = df - mean\n",
    "    df = df/std\n",
    "    dd = torch.tensor(np.array(df.drop(columns=['team_win'])), dtype=torch.float32)\n",
    "    ds = TensorDataset(dd, label)\n",
    "    tmepLoader = DataLoader(ds, batch_size=batch_size, shuffle=True)\n",
    "    Loader = DataLoader(ds, batch_size=batch_size, shuffle=True)\n",
    "    return Loader , mean, std\n",
    "\n",
    "def to_Loder(csv_url, batch_size, mean, std):\n",
    "    df = pd.read_csv(csv_url)\n",
    "    df = df.drop(columns=['Unnamed: 0'])\n",
    "    \n",
    "    temp_dict_fail = dict()\n",
    "    temp_dict_win = dict()\n",
    "    \n",
    "    for i in df.keys():\n",
    "        temp_dict_fail[i] = 0\n",
    "        temp_dict_win[i] = 0\n",
    "    temp_dict_win['team_win'] = 1\n",
    "    \n",
    "    for i in range(10):\n",
    "        df.loc[len(df.index)] = temp_dict_fail \n",
    "        df.loc[len(df.index)] = temp_dict_win\n",
    "        \n",
    "    label = torch.tensor(df['team_win'].values , dtype=torch.int64)\n",
    "    df = df - mean\n",
    "    df = df/std\n",
    "    dd = torch.tensor(np.array(df.drop(columns=['team_win'])), dtype=torch.float32)\n",
    "    ds = TensorDataset(dd, label)\n",
    "    tmepLoader = DataLoader(ds, batch_size=batch_size, shuffle=True)\n",
    "    Loader = DataLoader(ds, batch_size=batch_size, shuffle=True)\n",
    "    return Loader "
   ]
  },
  {
   "cell_type": "code",
   "execution_count": 16,
   "metadata": {},
   "outputs": [],
   "source": [
    "iron_train, iron_mean, iron_std= to_train_Loder('dataset/iron/train/train.csv', 256)\n",
    "iron_valid = to_Loder('dataset/iron/valid/valid.csv', 256, iron_mean, iron_std)\n",
    "iron_test = to_Loder('dataset/iron/test/test.csv', 256, iron_mean, iron_std)\n",
    "\n",
    "bronze_train, bronze_mean, bronze_std = to_train_Loder('dataset/bronze/train/train.csv', 256)\n",
    "bronze_valid = to_Loder('dataset/bronze/valid/valid.csv', 256, bronze_mean, bronze_std)\n",
    "bronze_test = to_Loder('dataset/bronze/test/test.csv', 256, bronze_mean, bronze_std)\n",
    "\n",
    "silver_train, silver_mean, silver_std = to_train_Loder('dataset/silver/train/train.csv', 128)\n",
    "silver_valid = to_Loder('dataset/silver/valid/valid.csv', 128, silver_mean, silver_std)\n",
    "silver_test = to_Loder('dataset/silver/test/test.csv', 128, silver_mean, silver_std)\n",
    "\n",
    "gold_train, gold_mean, gold_std = to_train_Loder('dataset/gold/train/train.csv', 256)\n",
    "gold_valid = to_Loder('dataset/gold/valid/valid.csv', 256, gold_mean, gold_std)\n",
    "gold_test = to_Loder('dataset/gold/test/test.csv', 256, gold_mean, gold_std)\n",
    "\n",
    "platinum_train, platinum_mean, platinum_std = to_train_Loder('dataset/platinum/train/train.csv', 128)\n",
    "platinum_valid = to_Loder('dataset/platinum/valid/valid.csv', 128, platinum_mean, platinum_std)\n",
    "platinum_test = to_Loder('dataset/platinum/test/test.csv', 128, platinum_mean, platinum_std)\n",
    "\n",
    "diamond_train, diamond_mean, diamond_std = to_train_Loder('dataset/diamond/train/train.csv', 128)\n",
    "diamond_valid = to_Loder('dataset/diamond/valid/valid.csv', 128, diamond_mean, diamond_std)\n",
    "diamond_test = to_Loder('dataset/diamond/test/test.csv', 128, diamond_mean, diamond_std)\n",
    "\n",
    "over_diamond_train, over_diamond_mean, over_diamond_std = to_train_Loder('dataset/over_diamond/train/train.csv', 128)\n",
    "over_diamond_valid = to_Loder('dataset/over_diamond/valid/valid.csv', 128, over_diamond_mean, over_diamond_std)\n",
    "over_diamond_test = to_Loder('dataset/over_diamond/test/test.csv', 128, over_diamond_mean, over_diamond_std)\n"
   ]
  },
  {
   "cell_type": "code",
   "execution_count": 17,
   "metadata": {},
   "outputs": [],
   "source": [
    "class Network(nn.ModuleList):\n",
    "    \n",
    "    def __init__(self,drop):\n",
    "        super(Network, self).__init__()\n",
    "        self.l1 = nn.Linear(53, 30)\n",
    "        self.relu = nn.ReLU()\n",
    "        self.drop = nn.Dropout(p=drop)\n",
    "        self.l2 = nn.Linear(30, 10)\n",
    "        self.l3 = nn.Linear(10, 2)\n",
    "        \n",
    "    def forward(self, x):\n",
    "        x = self.l1(x)\n",
    "        x = self.relu(x)\n",
    "        x = self.drop(x)\n",
    "        x = self.l2(x)\n",
    "        x = self.relu(x)\n",
    "        x = self.l3(x)\n",
    "        return x"
   ]
  },
  {
   "cell_type": "code",
   "execution_count": 18,
   "metadata": {},
   "outputs": [],
   "source": [
    "net_iron = Network(0.3)\n",
    "net_bronze = Network(0.37)\n",
    "net_silver = Network(0.3)\n",
    "net_gold = Network(0.3)\n",
    "net_platinum = Network(0.1)\n",
    "net_diamond = Network(0.1)\n",
    "net_over_diamond = Network(0.1)\n",
    "\n",
    "\n",
    "if use_cuda:\n",
    "    net_iron = net_iron.cuda()    \n",
    "    net_bronze = net_bronze.cuda()    \n",
    "    net_silver = net_silver.cuda()    \n",
    "    net_gold = net_gold.cuda()    \n",
    "    net_platinum = net_platinum.cuda()    \n",
    "    net_diamond = net_diamond.cuda()    \n",
    "    net_over_diamond = net_over_diamond.cuda()    \n"
   ]
  },
  {
   "cell_type": "code",
   "execution_count": 19,
   "metadata": {},
   "outputs": [],
   "source": [
    "def train(n_epochs, train_loader, valid_loader, model, optimizer, scheduler, criterion, use_cuda, save_path):\n",
    "    \n",
    "    # 매개변수로 전해 받은 n_epochs를 n_epoch에 저장합니다.\n",
    "    n_epoch = n_epochs\n",
    "    \n",
    "    #plot해서 결과를 확인하기 위해 train loss와 valid loss를 저장할 list를 만들어 줍니다.\n",
    "    train_losses = []\n",
    "    valid_losses = []\n",
    "\n",
    "    #가장 작은 validation loss 값을 저장하기위한 변수를 생성합니다.\n",
    "    valid_loss_min = np.Inf \n",
    "\n",
    "    \n",
    "    #training을 진행하고, validation loss 구해 보겠습니다.\n",
    "    for epoch in tqdm(range(1, n_epoch+1)):\n",
    "        # 확인할 train loss와 validation loss 를 생성합니다.\n",
    "        train_loss = 0.0\n",
    "        valid_loss = 0.0\n",
    "    \n",
    "        ###################\n",
    "        # train the model #\n",
    "        ###################\n",
    "\n",
    "        #parameter들을 update 해야하므로, model.train()을 켜 줍니다.\n",
    "        model.train()\n",
    "\n",
    "        #train_loader에서 image와 label을 가져옵니다.\n",
    "        for data, target in train_loader:\n",
    "            # CUDA 가 사용 가능하다면 image와 label을 GPU로 옮깁니다.\n",
    "            if use_cuda:\n",
    "                data, target = data.cuda(), target.cuda()\n",
    "            # gradients 값을 초기화\n",
    "            optimizer.zero_grad()\n",
    "            # forward pass: train_loader를 통해 가져온 batch를 model에 forward pass 시킵니다.\n",
    "            output = model(data)\n",
    "            # batch loss를 계산합니다.\n",
    "            loss = criterion(output, target)\n",
    "          \n",
    "            # backward pass: gradient 값을 구합니다.\n",
    "            loss.backward()\n",
    "          \n",
    "            # Optimizer를 돌려서 parameter들을 update합니다.\n",
    "            optimizer.step()\n",
    "          \n",
    "            # batch별 train_loss를 더합니다.\n",
    "            train_loss += loss.item()*data.size(0)\n",
    "        ######################    \n",
    "        # validate the model #\n",
    "        ######################\n",
    "        \n",
    "        #parameter들을 update하지 않으므로, model.eval()을 켜 줍니다.\n",
    "        model.eval()\n",
    "        \n",
    "        #valid_loader에서 image와 labe을 가져옵니다.\n",
    "        for data, target in valid_loader:\n",
    "            \n",
    "            # CUDA가 사용 가능 하다면 image와 label을 GPU로 옮깁니다.\n",
    "            if use_cuda:\n",
    "                data, target = data.cuda(), target.cuda()\n",
    "            \n",
    "            # forward pass: valid_loader를 통해 가져온 batch를 model에 forward pass 시킵니다.\n",
    "            output = model(data)\n",
    "            # Validation loss를 계산합니다.\n",
    "            loss = criterion(output, target)\n",
    "            # batch별 Validation loss를 더합니다. \n",
    "            valid_loss += loss.item()*data.size(0)\n",
    "    \n",
    "        scheduler.step()\n",
    "        # 각 loss 들(모두 더한값) 을 평균을 만들어 줍니다. \n",
    "        train_loss = train_loss/len(train_loader.sampler)\n",
    "        valid_loss = valid_loss/len(valid_loader.sampler)\n",
    "        \n",
    "        #train_loss와 valid_loss를 위에서 생성한 losses list에 저장합니다.\n",
    "        train_losses.append(train_loss)\n",
    "        valid_losses.append(valid_loss)\n",
    "\n",
    "        # epoch별로 train loss와 validation loss를 보여줍니다.\n",
    "#         print('Epoch: {} \\tTraining Loss: {:.6f} \\tValidation Loss: {:.6f}'.format(epoch, train_loss, valid_loss))\n",
    "    \n",
    "        # validation loss가 가장 작은 parameter를 저장합니다.\n",
    "        if valid_loss <= valid_loss_min:\n",
    "            torch.save(model.state_dict(), save_path)\n",
    "            valid_loss_min = valid_loss\n",
    "            print('Validation loss decreased ({:.6f} --> {:.6f}).  Saving model ...'.format(valid_loss_min, valid_loss))\n",
    "        \n",
    "    #학습된 model, 성능을 확인할 train_losses, valid_losses를 반환합니다.        \n",
    "    return model, train_losses, valid_losses\n"
   ]
  },
  {
   "cell_type": "code",
   "execution_count": 20,
   "metadata": {},
   "outputs": [],
   "source": [
    "def test(test_loader, model, criterion, use_cuda):\n",
    "\n",
    "    # test loss 를 만들어 줍니다.\n",
    "    test_loss = 0.0\n",
    "\n",
    "    # 분류를 성공한 개수를 알려줄 class_correct를 만들어 줍니다.\n",
    "    class_correct = list(0. for i in range(2))\n",
    "    \n",
    "    # image의 개수를 count하기위해 class_total을 만들어 줍니다.\n",
    "    class_total = list(0. for i in range(2))\n",
    "\n",
    "    # parameter들을 업데이트 하지 않기 때문에 model.eval()\n",
    "    model.eval()\n",
    "    \n",
    "    # testloader에서 image와 label을 가져 옵니다.\n",
    "    for data, target in test_loader:\n",
    "    \n",
    "        # CUDA가 사용 가능하다면, GPU로 가져온 data를 옮깁니다.\n",
    "        if use_cuda:\n",
    "            data, target = data.cuda(), target.cuda()\n",
    "    \n",
    "        # forward pass: model에 image 를 넣고, 결과값을 output에 저장 \n",
    "        output = model(data)\n",
    "    \n",
    "        # batch의 loss를 계산합니다.\n",
    "        loss = criterion(output, target)\n",
    "    \n",
    "        # batch의 loss를 통해 test loss를 update해 줍니다. \n",
    "        test_loss += loss.item()*data.size(0)\n",
    "    \n",
    "        # batch 단위로 output의 값의 index를 pred에 저장합니다. (class에 해당합니다.)\n",
    "        _, pred = torch.max(output, 1)  \n",
    "        \n",
    "        # pred의 값이 목적값이랑 같다면 true를, 아니라면 false를 correct_tensor에 저장\n",
    "        correct_tensor = pred.eq(target.data.view_as(pred))\n",
    "        \n",
    "        # tensor -> numpy\n",
    "        correct = np.squeeze(correct_tensor.numpy()) if not use_cuda else np.squeeze(correct_tensor.cpu().numpy())\n",
    "        \n",
    "        # test set의 정확도를 계산\n",
    "        batch_size = len(target.data)\n",
    "        for i in range(batch_size):\n",
    "            label = target.data[i]\n",
    "            class_correct[label] += correct[i].item()\n",
    "            class_total[label] += 1\n",
    "\n",
    "    # 지금까지 더해왔던 test loss의 평균\n",
    "    test_loss = test_loss/len(test_loader.dataset)\n",
    "    print('Test Loss: {:.6f}\\n'.format(test_loss))\n",
    "    \n",
    "    # test 결과 출력\n",
    "    print('\\nTest Accuracy (Overall): %2d%% (%2d/%2d)' % (100. * np.sum(class_correct) / np.sum(class_total), np.sum(class_correct), np.sum(class_total)))"
   ]
  },
  {
   "cell_type": "code",
   "execution_count": 21,
   "metadata": {},
   "outputs": [
    {
     "name": "stdout",
     "output_type": "stream",
     "text": [
      "try -  17\n"
     ]
    }
   ],
   "source": [
    "count = 17\n",
    "# count = count + 1\n",
    "print('try - ',count)"
   ]
  },
  {
   "cell_type": "code",
   "execution_count": 22,
   "metadata": {},
   "outputs": [],
   "source": [
    "criterion_iron = torch.nn.CrossEntropyLoss()\n",
    "optimizer_iron = optimizer.Adam(net_iron.parameters(), lr=2e-4)\n",
    "scheduler_iron = StepLR(optimizer=optimizer_iron ,step_size=400, gamma=0.5)\n",
    "\n",
    "criterion_bronze = torch.nn.CrossEntropyLoss()\n",
    "optimizer_bronze = optimizer.Adam(net_bronze.parameters(), lr=15e-5)\n",
    "scheduler_bronze = StepLR(optimizer=optimizer_bronze ,step_size=450, gamma=0.65)\n",
    "\n",
    "\n",
    "criterion_silver = torch.nn.CrossEntropyLoss()\n",
    "optimizer_silver = optimizer.Adam(net_silver.parameters(), lr=1e-4) # 1\n",
    "scheduler_silver = StepLR(optimizer=optimizer_silver ,step_size=500, gamma=0.35) # 500\n",
    "\n",
    "criterion_gold = torch.nn.CrossEntropyLoss()\n",
    "optimizer_gold = optimizer.Adam(net_gold.parameters(), lr=1e-4)\n",
    "scheduler_gold = StepLR(optimizer=optimizer_gold ,step_size=300, gamma=0.5)\n",
    "\n",
    "#\n",
    "criterion_platinum = torch.nn.CrossEntropyLoss()\n",
    "optimizer_platinum = optimizer.Adam(net_platinum.parameters(), lr=1e-4)\n",
    "scheduler_platinum = StepLR(optimizer=optimizer_platinum ,step_size=200, gamma=0.6)\n",
    "\n",
    "#\n",
    "criterion_diamond = torch.nn.CrossEntropyLoss()\n",
    "optimizer_diamond = optimizer.Adam(net_diamond.parameters(), lr=3e-4)\n",
    "scheduler_diamond = StepLR(optimizer=optimizer_diamond ,step_size=200, gamma=0.5)\n",
    "\n",
    "#\n",
    "criterion_over_diamond = torch.nn.CrossEntropyLoss()\n",
    "optimizer_over_diamond = optimizer.Adam(net_over_diamond.parameters(), lr=3e-4)\n",
    "scheduler_over_diamond = StepLR(optimizer=optimizer_over_diamond ,step_size=200, gamma=0.5)"
   ]
  },
  {
   "cell_type": "code",
   "execution_count": 23,
   "metadata": {},
   "outputs": [],
   "source": [
    "use_cuda = torch.cuda.is_available()"
   ]
  },
  {
   "cell_type": "code",
   "execution_count": 24,
   "metadata": {
    "scrolled": true
   },
   "outputs": [
    {
     "name": "stderr",
     "output_type": "stream",
     "text": [
      "  1%|▉                                                                                 | 6/500 [00:00<00:17, 27.91it/s]"
     ]
    },
    {
     "name": "stdout",
     "output_type": "stream",
     "text": [
      "Validation loss decreased (0.685350 --> 0.685350).  Saving model ...\n",
      "Validation loss decreased (0.679568 --> 0.679568).  Saving model ...\n",
      "Validation loss decreased (0.673753 --> 0.673753).  Saving model ...\n",
      "Validation loss decreased (0.667926 --> 0.667926).  Saving model ...\n",
      "Validation loss decreased (0.661823 --> 0.661823).  Saving model ...\n",
      "Validation loss decreased (0.655803 --> 0.655803).  Saving model ...\n"
     ]
    },
    {
     "name": "stderr",
     "output_type": "stream",
     "text": [
      "  2%|█▍                                                                                | 9/500 [00:00<00:17, 28.37it/s]"
     ]
    },
    {
     "name": "stdout",
     "output_type": "stream",
     "text": [
      "Validation loss decreased (0.649623 --> 0.649623).  Saving model ...\n",
      "Validation loss decreased (0.643197 --> 0.643197).  Saving model ...\n",
      "Validation loss decreased (0.636514 --> 0.636514).  Saving model ...\n",
      "Validation loss decreased (0.629517 --> 0.629517).  Saving model ...\n",
      "Validation loss decreased (0.622010 --> 0.622010).  Saving model ...\n"
     ]
    },
    {
     "name": "stderr",
     "output_type": "stream",
     "text": [
      "  4%|██▉                                                                              | 18/500 [00:00<00:17, 26.81it/s]"
     ]
    },
    {
     "name": "stdout",
     "output_type": "stream",
     "text": [
      "Validation loss decreased (0.614262 --> 0.614262).  Saving model ...\n",
      "Validation loss decreased (0.605992 --> 0.605992).  Saving model ...\n",
      "Validation loss decreased (0.597307 --> 0.597307).  Saving model ...\n",
      "Validation loss decreased (0.588190 --> 0.588190).  Saving model ...\n",
      "Validation loss decreased (0.578450 --> 0.578450).  Saving model ...\n",
      "Validation loss decreased (0.568431 --> 0.568431).  Saving model ...\n",
      "Validation loss decreased (0.557986 --> 0.557986).  Saving model ...\n"
     ]
    },
    {
     "name": "stderr",
     "output_type": "stream",
     "text": [
      "  5%|████                                                                             | 25/500 [00:00<00:17, 27.75it/s]"
     ]
    },
    {
     "name": "stdout",
     "output_type": "stream",
     "text": [
      "Validation loss decreased (0.547011 --> 0.547011).  Saving model ...\n",
      "Validation loss decreased (0.535550 --> 0.535550).  Saving model ...\n",
      "Validation loss decreased (0.523761 --> 0.523761).  Saving model ...\n",
      "Validation loss decreased (0.511812 --> 0.511812).  Saving model ...\n",
      "Validation loss decreased (0.499546 --> 0.499546).  Saving model ...\n",
      "Validation loss decreased (0.487180 --> 0.487180).  Saving model ...\n",
      "Validation loss decreased (0.474917 --> 0.474917).  Saving model ...\n"
     ]
    },
    {
     "name": "stderr",
     "output_type": "stream",
     "text": [
      "  6%|█████                                                                            | 31/500 [00:01<00:17, 26.96it/s]"
     ]
    },
    {
     "name": "stdout",
     "output_type": "stream",
     "text": [
      "Validation loss decreased (0.462732 --> 0.462732).  Saving model ...\n",
      "Validation loss decreased (0.450710 --> 0.450710).  Saving model ...\n",
      "Validation loss decreased (0.438596 --> 0.438596).  Saving model ...\n",
      "Validation loss decreased (0.426725 --> 0.426725).  Saving model ...\n",
      "Validation loss decreased (0.415171 --> 0.415171).  Saving model ...\n",
      "Validation loss decreased (0.404270 --> 0.404270).  Saving model ...\n"
     ]
    },
    {
     "name": "stderr",
     "output_type": "stream",
     "text": [
      "  7%|█████▉                                                                           | 37/500 [00:01<00:18, 25.31it/s]"
     ]
    },
    {
     "name": "stdout",
     "output_type": "stream",
     "text": [
      "Validation loss decreased (0.393429 --> 0.393429).  Saving model ...\n",
      "Validation loss decreased (0.383251 --> 0.383251).  Saving model ...\n",
      "Validation loss decreased (0.373387 --> 0.373387).  Saving model ...\n",
      "Validation loss decreased (0.363738 --> 0.363738).  Saving model ...\n",
      "Validation loss decreased (0.354483 --> 0.354483).  Saving model ...\n",
      "Validation loss decreased (0.345710 --> 0.345710).  Saving model ...\n"
     ]
    },
    {
     "name": "stderr",
     "output_type": "stream",
     "text": [
      "  9%|██████▉                                                                          | 43/500 [00:01<00:16, 27.02it/s]"
     ]
    },
    {
     "name": "stdout",
     "output_type": "stream",
     "text": [
      "Validation loss decreased (0.337144 --> 0.337144).  Saving model ...\n",
      "Validation loss decreased (0.329028 --> 0.329028).  Saving model ...\n",
      "Validation loss decreased (0.321886 --> 0.321886).  Saving model ...\n",
      "Validation loss decreased (0.314467 --> 0.314467).  Saving model ...\n",
      "Validation loss decreased (0.307297 --> 0.307297).  Saving model ...\n",
      "Validation loss decreased (0.300610 --> 0.300610).  Saving model ...\n",
      "Validation loss decreased (0.294964 --> 0.294964).  Saving model ...\n"
     ]
    },
    {
     "name": "stderr",
     "output_type": "stream",
     "text": [
      " 10%|███████▉                                                                         | 49/500 [00:01<00:16, 27.80it/s]"
     ]
    },
    {
     "name": "stdout",
     "output_type": "stream",
     "text": [
      "Validation loss decreased (0.289916 --> 0.289916).  Saving model ...\n",
      "Validation loss decreased (0.284083 --> 0.284083).  Saving model ...\n",
      "Validation loss decreased (0.278047 --> 0.278047).  Saving model ...\n",
      "Validation loss decreased (0.272640 --> 0.272640).  Saving model ...\n",
      "Validation loss decreased (0.267875 --> 0.267875).  Saving model ...\n",
      "Validation loss decreased (0.263253 --> 0.263253).  Saving model ...\n"
     ]
    },
    {
     "name": "stderr",
     "output_type": "stream",
     "text": [
      " 11%|████████▉                                                                        | 55/500 [00:02<00:15, 27.90it/s]"
     ]
    },
    {
     "name": "stdout",
     "output_type": "stream",
     "text": [
      "Validation loss decreased (0.258720 --> 0.258720).  Saving model ...\n",
      "Validation loss decreased (0.254751 --> 0.254751).  Saving model ...\n",
      "Validation loss decreased (0.251294 --> 0.251294).  Saving model ...\n",
      "Validation loss decreased (0.247867 --> 0.247867).  Saving model ...\n",
      "Validation loss decreased (0.244641 --> 0.244641).  Saving model ...\n",
      "Validation loss decreased (0.241256 --> 0.241256).  Saving model ...\n"
     ]
    },
    {
     "name": "stderr",
     "output_type": "stream",
     "text": [
      " 12%|█████████▉                                                                       | 61/500 [00:02<00:15, 28.21it/s]"
     ]
    },
    {
     "name": "stdout",
     "output_type": "stream",
     "text": [
      "Validation loss decreased (0.237354 --> 0.237354).  Saving model ...\n",
      "Validation loss decreased (0.234168 --> 0.234168).  Saving model ...\n",
      "Validation loss decreased (0.231175 --> 0.231175).  Saving model ...\n",
      "Validation loss decreased (0.228530 --> 0.228530).  Saving model ...\n",
      "Validation loss decreased (0.225885 --> 0.225885).  Saving model ...\n",
      "Validation loss decreased (0.223429 --> 0.223429).  Saving model ...\n",
      "Validation loss decreased (0.221509 --> 0.221509).  Saving model ...\n"
     ]
    },
    {
     "name": "stderr",
     "output_type": "stream",
     "text": [
      " 13%|██████████▊                                                                      | 67/500 [00:02<00:15, 27.32it/s]"
     ]
    },
    {
     "name": "stdout",
     "output_type": "stream",
     "text": [
      "Validation loss decreased (0.219695 --> 0.219695).  Saving model ...\n",
      "Validation loss decreased (0.216663 --> 0.216663).  Saving model ...\n",
      "Validation loss decreased (0.214746 --> 0.214746).  Saving model ...\n",
      "Validation loss decreased (0.212488 --> 0.212488).  Saving model ...\n",
      "Validation loss decreased (0.210500 --> 0.210500).  Saving model ...\n",
      "Validation loss decreased (0.208489 --> 0.208489).  Saving model ...\n"
     ]
    },
    {
     "name": "stderr",
     "output_type": "stream",
     "text": [
      " 15%|████████████▎                                                                    | 76/500 [00:02<00:15, 28.08it/s]"
     ]
    },
    {
     "name": "stdout",
     "output_type": "stream",
     "text": [
      "Validation loss decreased (0.206771 --> 0.206771).  Saving model ...\n",
      "Validation loss decreased (0.204821 --> 0.204821).  Saving model ...\n",
      "Validation loss decreased (0.203204 --> 0.203204).  Saving model ...\n",
      "Validation loss decreased (0.202006 --> 0.202006).  Saving model ...\n",
      "Validation loss decreased (0.200841 --> 0.200841).  Saving model ...\n",
      "Validation loss decreased (0.199520 --> 0.199520).  Saving model ...\n",
      "Validation loss decreased (0.197677 --> 0.197677).  Saving model ...\n"
     ]
    },
    {
     "name": "stderr",
     "output_type": "stream",
     "text": [
      " 16%|█████████████▎                                                                   | 82/500 [00:03<00:14, 28.21it/s]"
     ]
    },
    {
     "name": "stdout",
     "output_type": "stream",
     "text": [
      "Validation loss decreased (0.196123 --> 0.196123).  Saving model ...\n",
      "Validation loss decreased (0.194790 --> 0.194790).  Saving model ...\n",
      "Validation loss decreased (0.193451 --> 0.193451).  Saving model ...\n",
      "Validation loss decreased (0.192224 --> 0.192224).  Saving model ...\n",
      "Validation loss decreased (0.191007 --> 0.191007).  Saving model ...\n",
      "Validation loss decreased (0.190647 --> 0.190647).  Saving model ...\n",
      "Validation loss decreased (0.189661 --> 0.189661).  Saving model ...\n"
     ]
    },
    {
     "name": "stderr",
     "output_type": "stream",
     "text": [
      " 18%|██████████████▍                                                                  | 89/500 [00:03<00:14, 29.27it/s]"
     ]
    },
    {
     "name": "stdout",
     "output_type": "stream",
     "text": [
      "Validation loss decreased (0.188167 --> 0.188167).  Saving model ...\n",
      "Validation loss decreased (0.186903 --> 0.186903).  Saving model ...\n",
      "Validation loss decreased (0.186071 --> 0.186071).  Saving model ...\n",
      "Validation loss decreased (0.185698 --> 0.185698).  Saving model ...\n",
      "Validation loss decreased (0.184226 --> 0.184226).  Saving model ...\n",
      "Validation loss decreased (0.183385 --> 0.183385).  Saving model ...\n",
      "Validation loss decreased (0.182240 --> 0.182240).  Saving model ...\n"
     ]
    },
    {
     "name": "stderr",
     "output_type": "stream",
     "text": [
      " 19%|███████████████▌                                                                 | 96/500 [00:03<00:13, 29.92it/s]"
     ]
    },
    {
     "name": "stdout",
     "output_type": "stream",
     "text": [
      "Validation loss decreased (0.181612 --> 0.181612).  Saving model ...\n",
      "Validation loss decreased (0.180805 --> 0.180805).  Saving model ...\n",
      "Validation loss decreased (0.180204 --> 0.180204).  Saving model ...\n",
      "Validation loss decreased (0.179696 --> 0.179696).  Saving model ...\n",
      "Validation loss decreased (0.178789 --> 0.178789).  Saving model ...\n",
      "Validation loss decreased (0.178114 --> 0.178114).  Saving model ...\n",
      "Validation loss decreased (0.177915 --> 0.177915).  Saving model ...\n"
     ]
    },
    {
     "name": "stderr",
     "output_type": "stream",
     "text": [
      " 20%|████████████████▎                                                               | 102/500 [00:03<00:15, 25.50it/s]"
     ]
    },
    {
     "name": "stdout",
     "output_type": "stream",
     "text": [
      "Validation loss decreased (0.176551 --> 0.176551).  Saving model ...\n",
      "Validation loss decreased (0.175848 --> 0.175848).  Saving model ...\n",
      "Validation loss decreased (0.175220 --> 0.175220).  Saving model ...\n",
      "Validation loss decreased (0.174729 --> 0.174729).  Saving model ...\n"
     ]
    },
    {
     "name": "stderr",
     "output_type": "stream",
     "text": [
      " 22%|█████████████████▎                                                              | 108/500 [00:03<00:14, 26.73it/s]"
     ]
    },
    {
     "name": "stdout",
     "output_type": "stream",
     "text": [
      "Validation loss decreased (0.174427 --> 0.174427).  Saving model ...\n",
      "Validation loss decreased (0.173281 --> 0.173281).  Saving model ...\n",
      "Validation loss decreased (0.172654 --> 0.172654).  Saving model ...\n",
      "Validation loss decreased (0.171922 --> 0.171922).  Saving model ...\n",
      "Validation loss decreased (0.171282 --> 0.171282).  Saving model ...\n",
      "Validation loss decreased (0.170699 --> 0.170699).  Saving model ...\n"
     ]
    },
    {
     "name": "stderr",
     "output_type": "stream",
     "text": [
      " 23%|██████████████████▏                                                             | 114/500 [00:04<00:13, 27.79it/s]"
     ]
    },
    {
     "name": "stdout",
     "output_type": "stream",
     "text": [
      "Validation loss decreased (0.170286 --> 0.170286).  Saving model ...\n",
      "Validation loss decreased (0.169908 --> 0.169908).  Saving model ...\n",
      "Validation loss decreased (0.169046 --> 0.169046).  Saving model ...\n",
      "Validation loss decreased (0.168002 --> 0.168002).  Saving model ...\n",
      "Validation loss decreased (0.167493 --> 0.167493).  Saving model ...\n",
      "Validation loss decreased (0.167219 --> 0.167219).  Saving model ...\n"
     ]
    },
    {
     "name": "stderr",
     "output_type": "stream",
     "text": [
      " 24%|███████████████████▎                                                            | 121/500 [00:04<00:13, 28.79it/s]"
     ]
    },
    {
     "name": "stdout",
     "output_type": "stream",
     "text": [
      "Validation loss decreased (0.167012 --> 0.167012).  Saving model ...\n",
      "Validation loss decreased (0.165844 --> 0.165844).  Saving model ...\n",
      "Validation loss decreased (0.165192 --> 0.165192).  Saving model ...\n",
      "Validation loss decreased (0.164735 --> 0.164735).  Saving model ...\n",
      "Validation loss decreased (0.164567 --> 0.164567).  Saving model ...\n"
     ]
    },
    {
     "name": "stderr",
     "output_type": "stream",
     "text": [
      " 25%|████████████████████▎                                                           | 127/500 [00:04<00:13, 28.01it/s]"
     ]
    },
    {
     "name": "stdout",
     "output_type": "stream",
     "text": [
      "Validation loss decreased (0.163859 --> 0.163859).  Saving model ...\n",
      "Validation loss decreased (0.163802 --> 0.163802).  Saving model ...\n",
      "Validation loss decreased (0.162857 --> 0.162857).  Saving model ...\n",
      "Validation loss decreased (0.162211 --> 0.162211).  Saving model ...\n",
      "Validation loss decreased (0.162040 --> 0.162040).  Saving model ...\n"
     ]
    },
    {
     "name": "stderr",
     "output_type": "stream",
     "text": [
      " 27%|█████████████████████▎                                                          | 133/500 [00:04<00:13, 27.69it/s]"
     ]
    },
    {
     "name": "stdout",
     "output_type": "stream",
     "text": [
      "Validation loss decreased (0.161198 --> 0.161198).  Saving model ...\n",
      "Validation loss decreased (0.160819 --> 0.160819).  Saving model ...\n",
      "Validation loss decreased (0.160681 --> 0.160681).  Saving model ...\n",
      "Validation loss decreased (0.160195 --> 0.160195).  Saving model ...\n",
      "Validation loss decreased (0.159865 --> 0.159865).  Saving model ...\n",
      "Validation loss decreased (0.159450 --> 0.159450).  Saving model ...\n"
     ]
    },
    {
     "name": "stderr",
     "output_type": "stream",
     "text": [
      " 28%|██████████████████████▏                                                         | 139/500 [00:05<00:13, 27.77it/s]"
     ]
    },
    {
     "name": "stdout",
     "output_type": "stream",
     "text": [
      "Validation loss decreased (0.159216 --> 0.159216).  Saving model ...\n",
      "Validation loss decreased (0.159074 --> 0.159074).  Saving model ...\n",
      "Validation loss decreased (0.158715 --> 0.158715).  Saving model ...\n"
     ]
    },
    {
     "name": "stderr",
     "output_type": "stream",
     "text": [
      " 29%|███████████████████████▏                                                        | 145/500 [00:05<00:13, 26.48it/s]"
     ]
    },
    {
     "name": "stdout",
     "output_type": "stream",
     "text": [
      "Validation loss decreased (0.158412 --> 0.158412).  Saving model ...\n",
      "Validation loss decreased (0.157698 --> 0.157698).  Saving model ...\n",
      "Validation loss decreased (0.157649 --> 0.157649).  Saving model ...\n",
      "Validation loss decreased (0.157555 --> 0.157555).  Saving model ...\n",
      "Validation loss decreased (0.157396 --> 0.157396).  Saving model ...\n"
     ]
    },
    {
     "name": "stderr",
     "output_type": "stream",
     "text": [
      " 30%|████████████████████████▏                                                       | 151/500 [00:05<00:13, 25.45it/s]"
     ]
    },
    {
     "name": "stdout",
     "output_type": "stream",
     "text": [
      "Validation loss decreased (0.156988 --> 0.156988).  Saving model ...\n",
      "Validation loss decreased (0.156966 --> 0.156966).  Saving model ...\n",
      "Validation loss decreased (0.156830 --> 0.156830).  Saving model ...\n",
      "Validation loss decreased (0.156738 --> 0.156738).  Saving model ...\n",
      "Validation loss decreased (0.156195 --> 0.156195).  Saving model ...\n",
      "Validation loss decreased (0.155713 --> 0.155713).  Saving model ...\n"
     ]
    },
    {
     "name": "stderr",
     "output_type": "stream",
     "text": [
      " 31%|█████████████████████████                                                       | 157/500 [00:05<00:13, 25.37it/s]"
     ]
    },
    {
     "name": "stdout",
     "output_type": "stream",
     "text": [
      "Validation loss decreased (0.155533 --> 0.155533).  Saving model ...\n",
      "Validation loss decreased (0.155190 --> 0.155190).  Saving model ...\n",
      "Validation loss decreased (0.154936 --> 0.154936).  Saving model ...\n"
     ]
    },
    {
     "name": "stderr",
     "output_type": "stream",
     "text": [
      " 33%|██████████████████████████▌                                                     | 166/500 [00:06<00:12, 25.89it/s]"
     ]
    },
    {
     "name": "stdout",
     "output_type": "stream",
     "text": [
      "Validation loss decreased (0.154736 --> 0.154736).  Saving model ...\n",
      "Validation loss decreased (0.154321 --> 0.154321).  Saving model ...\n",
      "Validation loss decreased (0.154310 --> 0.154310).  Saving model ...\n",
      "Validation loss decreased (0.154235 --> 0.154235).  Saving model ...\n",
      "Validation loss decreased (0.153535 --> 0.153535).  Saving model ...\n"
     ]
    },
    {
     "name": "stderr",
     "output_type": "stream",
     "text": [
      " 34%|███████████████████████████                                                     | 169/500 [00:06<00:12, 25.51it/s]"
     ]
    },
    {
     "name": "stdout",
     "output_type": "stream",
     "text": [
      "Validation loss decreased (0.153090 --> 0.153090).  Saving model ...\n",
      "Validation loss decreased (0.152813 --> 0.152813).  Saving model ...\n",
      "Validation loss decreased (0.152780 --> 0.152780).  Saving model ...\n",
      "Validation loss decreased (0.152735 --> 0.152735).  Saving model ...\n",
      "Validation loss decreased (0.152710 --> 0.152710).  Saving model ...\n"
     ]
    },
    {
     "name": "stderr",
     "output_type": "stream",
     "text": [
      " 36%|████████████████████████████▍                                                   | 178/500 [00:06<00:12, 26.11it/s]"
     ]
    },
    {
     "name": "stdout",
     "output_type": "stream",
     "text": [
      "Validation loss decreased (0.152681 --> 0.152681).  Saving model ...\n",
      "Validation loss decreased (0.152377 --> 0.152377).  Saving model ...\n",
      "Validation loss decreased (0.152071 --> 0.152071).  Saving model ...\n",
      "Validation loss decreased (0.151492 --> 0.151492).  Saving model ...\n"
     ]
    },
    {
     "name": "stderr",
     "output_type": "stream",
     "text": [
      " 37%|█████████████████████████████▍                                                  | 184/500 [00:06<00:12, 26.18it/s]"
     ]
    },
    {
     "name": "stdout",
     "output_type": "stream",
     "text": [
      "Validation loss decreased (0.150959 --> 0.150959).  Saving model ...\n",
      "Validation loss decreased (0.150535 --> 0.150535).  Saving model ...\n",
      "Validation loss decreased (0.150418 --> 0.150418).  Saving model ...\n",
      "Validation loss decreased (0.150201 --> 0.150201).  Saving model ...\n"
     ]
    },
    {
     "name": "stderr",
     "output_type": "stream",
     "text": [
      " 38%|██████████████████████████████▍                                                 | 190/500 [00:07<00:12, 25.77it/s]"
     ]
    },
    {
     "name": "stdout",
     "output_type": "stream",
     "text": [
      "Validation loss decreased (0.150064 --> 0.150064).  Saving model ...\n",
      "Validation loss decreased (0.149776 --> 0.149776).  Saving model ...\n",
      "Validation loss decreased (0.149655 --> 0.149655).  Saving model ...\n"
     ]
    },
    {
     "name": "stderr",
     "output_type": "stream",
     "text": [
      " 40%|███████████████████████████████▊                                                | 199/500 [00:07<00:12, 24.41it/s]"
     ]
    },
    {
     "name": "stdout",
     "output_type": "stream",
     "text": [
      "Validation loss decreased (0.149392 --> 0.149392).  Saving model ...\n",
      "Validation loss decreased (0.149210 --> 0.149210).  Saving model ...\n",
      "Validation loss decreased (0.149027 --> 0.149027).  Saving model ...\n",
      "Validation loss decreased (0.148940 --> 0.148940).  Saving model ...\n"
     ]
    },
    {
     "name": "stderr",
     "output_type": "stream",
     "text": [
      " 42%|█████████████████████████████████▎                                              | 208/500 [00:07<00:10, 26.83it/s]"
     ]
    },
    {
     "name": "stdout",
     "output_type": "stream",
     "text": [
      "Validation loss decreased (0.148854 --> 0.148854).  Saving model ...\n",
      "Validation loss decreased (0.148775 --> 0.148775).  Saving model ...\n",
      "Validation loss decreased (0.148699 --> 0.148699).  Saving model ...\n"
     ]
    },
    {
     "name": "stderr",
     "output_type": "stream",
     "text": [
      " 43%|██████████████████████████████████▏                                             | 214/500 [00:07<00:10, 27.04it/s]"
     ]
    },
    {
     "name": "stdout",
     "output_type": "stream",
     "text": [
      "Validation loss decreased (0.148348 --> 0.148348).  Saving model ...\n",
      "Validation loss decreased (0.148316 --> 0.148316).  Saving model ...\n",
      "Validation loss decreased (0.147856 --> 0.147856).  Saving model ...\n",
      "Validation loss decreased (0.147819 --> 0.147819).  Saving model ...\n"
     ]
    },
    {
     "name": "stderr",
     "output_type": "stream",
     "text": [
      " 44%|███████████████████████████████████▏                                            | 220/500 [00:08<00:10, 27.04it/s]"
     ]
    },
    {
     "name": "stdout",
     "output_type": "stream",
     "text": [
      "Validation loss decreased (0.147561 --> 0.147561).  Saving model ...\n",
      "Validation loss decreased (0.147443 --> 0.147443).  Saving model ...\n",
      "Validation loss decreased (0.147423 --> 0.147423).  Saving model ...\n"
     ]
    },
    {
     "name": "stderr",
     "output_type": "stream",
     "text": [
      " 45%|████████████████████████████████████▏                                           | 226/500 [00:08<00:10, 27.19it/s]"
     ]
    },
    {
     "name": "stdout",
     "output_type": "stream",
     "text": [
      "Validation loss decreased (0.147148 --> 0.147148).  Saving model ...\n",
      "Validation loss decreased (0.147013 --> 0.147013).  Saving model ...\n",
      "Validation loss decreased (0.146629 --> 0.146629).  Saving model ...\n",
      "Validation loss decreased (0.146550 --> 0.146550).  Saving model ...\n",
      "Validation loss decreased (0.146501 --> 0.146501).  Saving model ...\n"
     ]
    },
    {
     "name": "stderr",
     "output_type": "stream",
     "text": [
      " 46%|█████████████████████████████████████                                           | 232/500 [00:08<00:09, 28.07it/s]"
     ]
    },
    {
     "name": "stdout",
     "output_type": "stream",
     "text": [
      "Validation loss decreased (0.146310 --> 0.146310).  Saving model ...\n",
      "Validation loss decreased (0.146145 --> 0.146145).  Saving model ...\n",
      "Validation loss decreased (0.146117 --> 0.146117).  Saving model ...\n",
      "Validation loss decreased (0.145999 --> 0.145999).  Saving model ...\n",
      "Validation loss decreased (0.145571 --> 0.145571).  Saving model ...\n"
     ]
    },
    {
     "name": "stderr",
     "output_type": "stream",
     "text": [
      " 48%|██████████████████████████████████████▌                                         | 241/500 [00:08<00:09, 27.24it/s]"
     ]
    },
    {
     "name": "stdout",
     "output_type": "stream",
     "text": [
      "Validation loss decreased (0.145258 --> 0.145258).  Saving model ...\n"
     ]
    },
    {
     "name": "stderr",
     "output_type": "stream",
     "text": [
      " 49%|███████████████████████████████████████▌                                        | 247/500 [00:09<00:09, 27.86it/s]"
     ]
    },
    {
     "name": "stdout",
     "output_type": "stream",
     "text": [
      "Validation loss decreased (0.144841 --> 0.144841).  Saving model ...\n",
      "Validation loss decreased (0.144462 --> 0.144462).  Saving model ...\n",
      "Validation loss decreased (0.144324 --> 0.144324).  Saving model ...\n"
     ]
    },
    {
     "name": "stderr",
     "output_type": "stream",
     "text": [
      " 52%|█████████████████████████████████████████▍                                      | 259/500 [00:09<00:08, 27.20it/s]"
     ]
    },
    {
     "name": "stdout",
     "output_type": "stream",
     "text": [
      "Validation loss decreased (0.144211 --> 0.144211).  Saving model ...\n",
      "Validation loss decreased (0.144185 --> 0.144185).  Saving model ...\n",
      "Validation loss decreased (0.143833 --> 0.143833).  Saving model ...\n",
      "Validation loss decreased (0.143667 --> 0.143667).  Saving model ...\n",
      "Validation loss decreased (0.143506 --> 0.143506).  Saving model ...\n"
     ]
    },
    {
     "name": "stderr",
     "output_type": "stream",
     "text": [
      " 53%|██████████████████████████████████████████▍                                     | 265/500 [00:09<00:08, 26.65it/s]"
     ]
    },
    {
     "name": "stdout",
     "output_type": "stream",
     "text": [
      "Validation loss decreased (0.143318 --> 0.143318).  Saving model ...\n"
     ]
    },
    {
     "name": "stderr",
     "output_type": "stream",
     "text": [
      " 55%|███████████████████████████████████████████▊                                    | 274/500 [00:10<00:08, 26.14it/s]"
     ]
    },
    {
     "name": "stdout",
     "output_type": "stream",
     "text": [
      "Validation loss decreased (0.142960 --> 0.142960).  Saving model ...\n",
      "Validation loss decreased (0.142920 --> 0.142920).  Saving model ...\n",
      "Validation loss decreased (0.142417 --> 0.142417).  Saving model ...\n",
      "Validation loss decreased (0.142215 --> 0.142215).  Saving model ...\n",
      "Validation loss decreased (0.142042 --> 0.142042).  Saving model ...\n"
     ]
    },
    {
     "name": "stderr",
     "output_type": "stream",
     "text": [
      " 56%|████████████████████████████████████████████▊                                   | 280/500 [00:10<00:08, 27.08it/s]"
     ]
    },
    {
     "name": "stdout",
     "output_type": "stream",
     "text": [
      "Validation loss decreased (0.141996 --> 0.141996).  Saving model ...\n",
      "Validation loss decreased (0.141986 --> 0.141986).  Saving model ...\n"
     ]
    },
    {
     "name": "stderr",
     "output_type": "stream",
     "text": [
      " 58%|██████████████████████████████████████████████▋                                 | 292/500 [00:10<00:07, 26.96it/s]"
     ]
    },
    {
     "name": "stdout",
     "output_type": "stream",
     "text": [
      "Validation loss decreased (0.141940 --> 0.141940).  Saving model ...\n",
      "Validation loss decreased (0.141916 --> 0.141916).  Saving model ...\n",
      "Validation loss decreased (0.141758 --> 0.141758).  Saving model ...\n"
     ]
    },
    {
     "name": "stderr",
     "output_type": "stream",
     "text": [
      " 60%|████████████████████████████████████████████████▏                               | 301/500 [00:11<00:07, 26.72it/s]"
     ]
    },
    {
     "name": "stdout",
     "output_type": "stream",
     "text": [
      "Validation loss decreased (0.141588 --> 0.141588).  Saving model ...\n"
     ]
    },
    {
     "name": "stderr",
     "output_type": "stream",
     "text": [
      " 61%|█████████████████████████████████████████████████                               | 307/500 [00:11<00:07, 26.53it/s]"
     ]
    },
    {
     "name": "stdout",
     "output_type": "stream",
     "text": [
      "Validation loss decreased (0.141527 --> 0.141527).  Saving model ...\n",
      "Validation loss decreased (0.141332 --> 0.141332).  Saving model ...\n",
      "Validation loss decreased (0.141135 --> 0.141135).  Saving model ...\n"
     ]
    },
    {
     "name": "stderr",
     "output_type": "stream",
     "text": [
      " 63%|██████████████████████████████████████████████████▌                             | 316/500 [00:11<00:07, 25.80it/s]"
     ]
    },
    {
     "name": "stdout",
     "output_type": "stream",
     "text": [
      "Validation loss decreased (0.140922 --> 0.140922).  Saving model ...\n",
      "Validation loss decreased (0.140770 --> 0.140770).  Saving model ...\n",
      "Validation loss decreased (0.140718 --> 0.140718).  Saving model ...\n"
     ]
    },
    {
     "name": "stderr",
     "output_type": "stream",
     "text": [
      " 65%|████████████████████████████████████████████████████                            | 325/500 [00:12<00:06, 25.74it/s]"
     ]
    },
    {
     "name": "stdout",
     "output_type": "stream",
     "text": [
      "Validation loss decreased (0.140563 --> 0.140563).  Saving model ...\n",
      "Validation loss decreased (0.140289 --> 0.140289).  Saving model ...\n",
      "Validation loss decreased (0.140174 --> 0.140174).  Saving model ...\n",
      "Validation loss decreased (0.140074 --> 0.140074).  Saving model ...\n"
     ]
    },
    {
     "name": "stderr",
     "output_type": "stream",
     "text": [
      " 68%|██████████████████████████████████████████████████████▍                         | 340/500 [00:12<00:05, 27.64it/s]"
     ]
    },
    {
     "name": "stdout",
     "output_type": "stream",
     "text": [
      "Validation loss decreased (0.139686 --> 0.139686).  Saving model ...\n"
     ]
    },
    {
     "name": "stderr",
     "output_type": "stream",
     "text": [
      " 70%|████████████████████████████████████████████████████████▎                       | 352/500 [00:13<00:05, 28.29it/s]"
     ]
    },
    {
     "name": "stdout",
     "output_type": "stream",
     "text": [
      "Validation loss decreased (0.139541 --> 0.139541).  Saving model ...\n",
      "Validation loss decreased (0.139482 --> 0.139482).  Saving model ...\n"
     ]
    },
    {
     "name": "stderr",
     "output_type": "stream",
     "text": [
      " 91%|████████████████████████████████████████████████████████████████████████▋       | 454/500 [00:16<00:01, 29.05it/s]"
     ]
    },
    {
     "name": "stdout",
     "output_type": "stream",
     "text": [
      "Validation loss decreased (0.139443 --> 0.139443).  Saving model ...\n"
     ]
    },
    {
     "name": "stderr",
     "output_type": "stream",
     "text": [
      " 95%|███████████████████████████████████████████████████████████████████████████▋    | 473/500 [00:17<00:00, 28.08it/s]"
     ]
    },
    {
     "name": "stdout",
     "output_type": "stream",
     "text": [
      "Validation loss decreased (0.139417 --> 0.139417).  Saving model ...\n",
      "Validation loss decreased (0.139358 --> 0.139358).  Saving model ...\n"
     ]
    },
    {
     "name": "stderr",
     "output_type": "stream",
     "text": [
      " 98%|██████████████████████████████████████████████████████████████████████████████▏ | 489/500 [00:17<00:00, 29.04it/s]"
     ]
    },
    {
     "name": "stdout",
     "output_type": "stream",
     "text": [
      "Validation loss decreased (0.139350 --> 0.139350).  Saving model ...\n"
     ]
    },
    {
     "name": "stderr",
     "output_type": "stream",
     "text": [
      "100%|███████████████████████████████████████████████████████████████████████████████▋| 498/500 [00:18<00:00, 27.36it/s]"
     ]
    },
    {
     "name": "stdout",
     "output_type": "stream",
     "text": [
      "Validation loss decreased (0.139222 --> 0.139222).  Saving model ...\n",
      "Validation loss decreased (0.139106 --> 0.139106).  Saving model ...\n",
      "Validation loss decreased (0.139055 --> 0.139055).  Saving model ...\n"
     ]
    },
    {
     "name": "stderr",
     "output_type": "stream",
     "text": [
      "100%|████████████████████████████████████████████████████████████████████████████████| 500/500 [00:18<00:00, 27.50it/s]\n",
      "  1%|▍                                                                                | 6/1000 [00:00<00:38, 25.62it/s]"
     ]
    },
    {
     "name": "stdout",
     "output_type": "stream",
     "text": [
      "Validation loss decreased (0.667003 --> 0.667003).  Saving model ...\n",
      "Validation loss decreased (0.661042 --> 0.661042).  Saving model ...\n",
      "Validation loss decreased (0.655210 --> 0.655210).  Saving model ...\n",
      "Validation loss decreased (0.649458 --> 0.649458).  Saving model ...\n",
      "Validation loss decreased (0.643645 --> 0.643645).  Saving model ...\n",
      "Validation loss decreased (0.637969 --> 0.637969).  Saving model ...\n"
     ]
    },
    {
     "name": "stderr",
     "output_type": "stream",
     "text": [
      "  1%|▋                                                                                | 9/1000 [00:00<00:38, 25.58it/s]"
     ]
    },
    {
     "name": "stdout",
     "output_type": "stream",
     "text": [
      "Validation loss decreased (0.632280 --> 0.632280).  Saving model ...\n",
      "Validation loss decreased (0.626551 --> 0.626551).  Saving model ...\n",
      "Validation loss decreased (0.620773 --> 0.620773).  Saving model ...\n",
      "Validation loss decreased (0.614880 --> 0.614880).  Saving model ...\n",
      "Validation loss decreased (0.608926 --> 0.608926).  Saving model ...\n"
     ]
    },
    {
     "name": "stderr",
     "output_type": "stream",
     "text": [
      "  2%|█▏                                                                              | 15/1000 [00:00<00:40, 24.60it/s]"
     ]
    },
    {
     "name": "stdout",
     "output_type": "stream",
     "text": [
      "Validation loss decreased (0.602933 --> 0.602933).  Saving model ...\n",
      "Validation loss decreased (0.596869 --> 0.596869).  Saving model ...\n",
      "Validation loss decreased (0.590751 --> 0.590751).  Saving model ...\n",
      "Validation loss decreased (0.584481 --> 0.584481).  Saving model ...\n",
      "Validation loss decreased (0.578014 --> 0.578014).  Saving model ...\n",
      "Validation loss decreased (0.571388 --> 0.571388).  Saving model ...\n"
     ]
    },
    {
     "name": "stderr",
     "output_type": "stream",
     "text": [
      "  2%|█▋                                                                              | 21/1000 [00:00<00:39, 25.02it/s]"
     ]
    },
    {
     "name": "stdout",
     "output_type": "stream",
     "text": [
      "Validation loss decreased (0.564758 --> 0.564758).  Saving model ...\n",
      "Validation loss decreased (0.558065 --> 0.558065).  Saving model ...\n",
      "Validation loss decreased (0.551250 --> 0.551250).  Saving model ...\n",
      "Validation loss decreased (0.544314 --> 0.544314).  Saving model ...\n",
      "Validation loss decreased (0.537149 --> 0.537149).  Saving model ...\n",
      "Validation loss decreased (0.529746 --> 0.529746).  Saving model ...\n"
     ]
    },
    {
     "name": "stderr",
     "output_type": "stream",
     "text": [
      "  3%|██▏                                                                             | 27/1000 [00:01<00:38, 25.32it/s]"
     ]
    },
    {
     "name": "stdout",
     "output_type": "stream",
     "text": [
      "Validation loss decreased (0.522330 --> 0.522330).  Saving model ...\n",
      "Validation loss decreased (0.514716 --> 0.514716).  Saving model ...\n",
      "Validation loss decreased (0.507031 --> 0.507031).  Saving model ...\n",
      "Validation loss decreased (0.499065 --> 0.499065).  Saving model ...\n",
      "Validation loss decreased (0.490990 --> 0.490990).  Saving model ...\n",
      "Validation loss decreased (0.482945 --> 0.482945).  Saving model ...\n"
     ]
    },
    {
     "name": "stderr",
     "output_type": "stream",
     "text": [
      "  3%|██▋                                                                             | 33/1000 [00:01<00:38, 25.14it/s]"
     ]
    },
    {
     "name": "stdout",
     "output_type": "stream",
     "text": [
      "Validation loss decreased (0.474714 --> 0.474714).  Saving model ...\n",
      "Validation loss decreased (0.466560 --> 0.466560).  Saving model ...\n",
      "Validation loss decreased (0.458312 --> 0.458312).  Saving model ...\n",
      "Validation loss decreased (0.449990 --> 0.449990).  Saving model ...\n",
      "Validation loss decreased (0.441927 --> 0.441927).  Saving model ...\n",
      "Validation loss decreased (0.433593 --> 0.433593).  Saving model ...\n"
     ]
    },
    {
     "name": "stderr",
     "output_type": "stream",
     "text": [
      "  4%|███                                                                             | 39/1000 [00:01<00:38, 25.20it/s]"
     ]
    },
    {
     "name": "stdout",
     "output_type": "stream",
     "text": [
      "Validation loss decreased (0.425709 --> 0.425709).  Saving model ...\n",
      "Validation loss decreased (0.417866 --> 0.417866).  Saving model ...\n",
      "Validation loss decreased (0.409811 --> 0.409811).  Saving model ...\n",
      "Validation loss decreased (0.401619 --> 0.401619).  Saving model ...\n",
      "Validation loss decreased (0.393578 --> 0.393578).  Saving model ...\n",
      "Validation loss decreased (0.385804 --> 0.385804).  Saving model ...\n"
     ]
    },
    {
     "name": "stderr",
     "output_type": "stream",
     "text": [
      "  4%|███▌                                                                            | 45/1000 [00:01<00:38, 24.63it/s]"
     ]
    },
    {
     "name": "stdout",
     "output_type": "stream",
     "text": [
      "Validation loss decreased (0.378082 --> 0.378082).  Saving model ...\n",
      "Validation loss decreased (0.370529 --> 0.370529).  Saving model ...\n",
      "Validation loss decreased (0.363070 --> 0.363070).  Saving model ...\n",
      "Validation loss decreased (0.355531 --> 0.355531).  Saving model ...\n",
      "Validation loss decreased (0.348388 --> 0.348388).  Saving model ...\n"
     ]
    },
    {
     "name": "stderr",
     "output_type": "stream",
     "text": [
      "  5%|████                                                                            | 51/1000 [00:02<00:40, 23.20it/s]"
     ]
    },
    {
     "name": "stdout",
     "output_type": "stream",
     "text": [
      "Validation loss decreased (0.341511 --> 0.341511).  Saving model ...\n",
      "Validation loss decreased (0.334905 --> 0.334905).  Saving model ...\n",
      "Validation loss decreased (0.328801 --> 0.328801).  Saving model ...\n",
      "Validation loss decreased (0.322317 --> 0.322317).  Saving model ...\n",
      "Validation loss decreased (0.316459 --> 0.316459).  Saving model ...\n",
      "Validation loss decreased (0.311110 --> 0.311110).  Saving model ...\n"
     ]
    },
    {
     "name": "stderr",
     "output_type": "stream",
     "text": [
      "  6%|████▌                                                                           | 57/1000 [00:02<00:38, 24.47it/s]"
     ]
    },
    {
     "name": "stdout",
     "output_type": "stream",
     "text": [
      "Validation loss decreased (0.305674 --> 0.305674).  Saving model ...\n",
      "Validation loss decreased (0.300097 --> 0.300097).  Saving model ...\n",
      "Validation loss decreased (0.294299 --> 0.294299).  Saving model ...\n",
      "Validation loss decreased (0.289126 --> 0.289126).  Saving model ...\n",
      "Validation loss decreased (0.284527 --> 0.284527).  Saving model ...\n",
      "Validation loss decreased (0.279800 --> 0.279800).  Saving model ...\n"
     ]
    },
    {
     "name": "stderr",
     "output_type": "stream",
     "text": [
      "  6%|█████                                                                           | 63/1000 [00:02<00:37, 24.69it/s]"
     ]
    },
    {
     "name": "stdout",
     "output_type": "stream",
     "text": [
      "Validation loss decreased (0.275228 --> 0.275228).  Saving model ...\n",
      "Validation loss decreased (0.270630 --> 0.270630).  Saving model ...\n",
      "Validation loss decreased (0.266652 --> 0.266652).  Saving model ...\n",
      "Validation loss decreased (0.262814 --> 0.262814).  Saving model ...\n",
      "Validation loss decreased (0.258891 --> 0.258891).  Saving model ...\n",
      "Validation loss decreased (0.255029 --> 0.255029).  Saving model ...\n"
     ]
    },
    {
     "name": "stderr",
     "output_type": "stream",
     "text": [
      "  7%|█████▌                                                                          | 69/1000 [00:02<00:37, 24.58it/s]"
     ]
    },
    {
     "name": "stdout",
     "output_type": "stream",
     "text": [
      "Validation loss decreased (0.251530 --> 0.251530).  Saving model ...\n",
      "Validation loss decreased (0.248287 --> 0.248287).  Saving model ...\n",
      "Validation loss decreased (0.245230 --> 0.245230).  Saving model ...\n",
      "Validation loss decreased (0.242323 --> 0.242323).  Saving model ...\n",
      "Validation loss decreased (0.239277 --> 0.239277).  Saving model ...\n"
     ]
    },
    {
     "name": "stderr",
     "output_type": "stream",
     "text": [
      "  7%|█████▊                                                                          | 72/1000 [00:02<00:37, 24.42it/s]"
     ]
    },
    {
     "name": "stdout",
     "output_type": "stream",
     "text": [
      "Validation loss decreased (0.236638 --> 0.236638).  Saving model ...\n",
      "Validation loss decreased (0.234043 --> 0.234043).  Saving model ...\n",
      "Validation loss decreased (0.231396 --> 0.231396).  Saving model ...\n",
      "Validation loss decreased (0.228874 --> 0.228874).  Saving model ...\n",
      "Validation loss decreased (0.226379 --> 0.226379).  Saving model ...\n"
     ]
    },
    {
     "name": "stderr",
     "output_type": "stream",
     "text": [
      "  8%|██████▏                                                                         | 78/1000 [00:03<00:36, 25.18it/s]"
     ]
    },
    {
     "name": "stdout",
     "output_type": "stream",
     "text": [
      "Validation loss decreased (0.224368 --> 0.224368).  Saving model ...\n",
      "Validation loss decreased (0.222557 --> 0.222557).  Saving model ...\n",
      "Validation loss decreased (0.220395 --> 0.220395).  Saving model ...\n",
      "Validation loss decreased (0.218475 --> 0.218475).  Saving model ...\n",
      "Validation loss decreased (0.216438 --> 0.216438).  Saving model ...\n",
      "Validation loss decreased (0.214142 --> 0.214142).  Saving model ...\n"
     ]
    },
    {
     "name": "stderr",
     "output_type": "stream",
     "text": [
      "  8%|██████▋                                                                         | 84/1000 [00:03<00:36, 25.02it/s]"
     ]
    },
    {
     "name": "stdout",
     "output_type": "stream",
     "text": [
      "Validation loss decreased (0.212159 --> 0.212159).  Saving model ...\n",
      "Validation loss decreased (0.210243 --> 0.210243).  Saving model ...\n",
      "Validation loss decreased (0.208685 --> 0.208685).  Saving model ...\n",
      "Validation loss decreased (0.207240 --> 0.207240).  Saving model ...\n",
      "Validation loss decreased (0.205990 --> 0.205990).  Saving model ...\n"
     ]
    },
    {
     "name": "stderr",
     "output_type": "stream",
     "text": [
      "  9%|███████▏                                                                        | 90/1000 [00:03<00:34, 26.41it/s]"
     ]
    },
    {
     "name": "stdout",
     "output_type": "stream",
     "text": [
      "Validation loss decreased (0.204884 --> 0.204884).  Saving model ...\n",
      "Validation loss decreased (0.203236 --> 0.203236).  Saving model ...\n",
      "Validation loss decreased (0.201805 --> 0.201805).  Saving model ...\n",
      "Validation loss decreased (0.200698 --> 0.200698).  Saving model ...\n",
      "Validation loss decreased (0.199286 --> 0.199286).  Saving model ...\n",
      "Validation loss decreased (0.197867 --> 0.197867).  Saving model ...\n"
     ]
    },
    {
     "name": "stderr",
     "output_type": "stream",
     "text": [
      " 10%|███████▋                                                                        | 96/1000 [00:03<00:33, 26.86it/s]"
     ]
    },
    {
     "name": "stdout",
     "output_type": "stream",
     "text": [
      "Validation loss decreased (0.196462 --> 0.196462).  Saving model ...\n",
      "Validation loss decreased (0.195213 --> 0.195213).  Saving model ...\n",
      "Validation loss decreased (0.194042 --> 0.194042).  Saving model ...\n",
      "Validation loss decreased (0.192984 --> 0.192984).  Saving model ...\n",
      "Validation loss decreased (0.191874 --> 0.191874).  Saving model ...\n",
      "Validation loss decreased (0.190733 --> 0.190733).  Saving model ...\n",
      "Validation loss decreased (0.189861 --> 0.189861).  Saving model ...\n"
     ]
    },
    {
     "name": "stderr",
     "output_type": "stream",
     "text": [
      " 10%|████████                                                                       | 102/1000 [00:04<00:33, 26.43it/s]"
     ]
    },
    {
     "name": "stdout",
     "output_type": "stream",
     "text": [
      "Validation loss decreased (0.188947 --> 0.188947).  Saving model ...\n",
      "Validation loss decreased (0.188190 --> 0.188190).  Saving model ...\n",
      "Validation loss decreased (0.187340 --> 0.187340).  Saving model ...\n",
      "Validation loss decreased (0.186288 --> 0.186288).  Saving model ...\n",
      "Validation loss decreased (0.185237 --> 0.185237).  Saving model ...\n",
      "Validation loss decreased (0.184345 --> 0.184345).  Saving model ...\n"
     ]
    },
    {
     "name": "stderr",
     "output_type": "stream",
     "text": [
      " 11%|████████▌                                                                      | 108/1000 [00:04<00:35, 25.48it/s]"
     ]
    },
    {
     "name": "stdout",
     "output_type": "stream",
     "text": [
      "Validation loss decreased (0.183473 --> 0.183473).  Saving model ...\n",
      "Validation loss decreased (0.182598 --> 0.182598).  Saving model ...\n",
      "Validation loss decreased (0.181624 --> 0.181624).  Saving model ...\n",
      "Validation loss decreased (0.180754 --> 0.180754).  Saving model ...\n",
      "Validation loss decreased (0.180152 --> 0.180152).  Saving model ...\n"
     ]
    },
    {
     "name": "stderr",
     "output_type": "stream",
     "text": [
      " 11%|█████████                                                                      | 114/1000 [00:04<00:33, 26.29it/s]"
     ]
    },
    {
     "name": "stdout",
     "output_type": "stream",
     "text": [
      "Validation loss decreased (0.179451 --> 0.179451).  Saving model ...\n",
      "Validation loss decreased (0.178531 --> 0.178531).  Saving model ...\n",
      "Validation loss decreased (0.177591 --> 0.177591).  Saving model ...\n",
      "Validation loss decreased (0.176828 --> 0.176828).  Saving model ...\n",
      "Validation loss decreased (0.176176 --> 0.176176).  Saving model ...\n",
      "Validation loss decreased (0.175508 --> 0.175508).  Saving model ...\n",
      "Validation loss decreased (0.174909 --> 0.174909).  Saving model ...\n"
     ]
    },
    {
     "name": "stderr",
     "output_type": "stream",
     "text": [
      " 12%|█████████▍                                                                     | 120/1000 [00:04<00:32, 26.92it/s]"
     ]
    },
    {
     "name": "stdout",
     "output_type": "stream",
     "text": [
      "Validation loss decreased (0.174306 --> 0.174306).  Saving model ...\n",
      "Validation loss decreased (0.173664 --> 0.173664).  Saving model ...\n",
      "Validation loss decreased (0.173182 --> 0.173182).  Saving model ...\n",
      "Validation loss decreased (0.172741 --> 0.172741).  Saving model ...\n",
      "Validation loss decreased (0.172311 --> 0.172311).  Saving model ...\n",
      "Validation loss decreased (0.171629 --> 0.171629).  Saving model ...\n"
     ]
    },
    {
     "name": "stderr",
     "output_type": "stream",
     "text": [
      " 13%|█████████▉                                                                     | 126/1000 [00:05<00:37, 23.07it/s]"
     ]
    },
    {
     "name": "stdout",
     "output_type": "stream",
     "text": [
      "Validation loss decreased (0.171191 --> 0.171191).  Saving model ...\n",
      "Validation loss decreased (0.170358 --> 0.170358).  Saving model ...\n",
      "Validation loss decreased (0.169690 --> 0.169690).  Saving model ...\n",
      "Validation loss decreased (0.168755 --> 0.168755).  Saving model ...\n",
      "Validation loss decreased (0.168134 --> 0.168134).  Saving model ...\n"
     ]
    },
    {
     "name": "stderr",
     "output_type": "stream",
     "text": [
      " 13%|██████████▍                                                                    | 132/1000 [00:05<00:35, 24.60it/s]"
     ]
    },
    {
     "name": "stdout",
     "output_type": "stream",
     "text": [
      "Validation loss decreased (0.167733 --> 0.167733).  Saving model ...\n",
      "Validation loss decreased (0.167332 --> 0.167332).  Saving model ...\n",
      "Validation loss decreased (0.166926 --> 0.166926).  Saving model ...\n",
      "Validation loss decreased (0.166003 --> 0.166003).  Saving model ...\n",
      "Validation loss decreased (0.165351 --> 0.165351).  Saving model ...\n",
      "Validation loss decreased (0.164884 --> 0.164884).  Saving model ...\n"
     ]
    },
    {
     "name": "stderr",
     "output_type": "stream",
     "text": [
      " 14%|██████████▉                                                                    | 138/1000 [00:05<00:34, 24.86it/s]"
     ]
    },
    {
     "name": "stdout",
     "output_type": "stream",
     "text": [
      "Validation loss decreased (0.164419 --> 0.164419).  Saving model ...\n",
      "Validation loss decreased (0.163935 --> 0.163935).  Saving model ...\n",
      "Validation loss decreased (0.163484 --> 0.163484).  Saving model ...\n",
      "Validation loss decreased (0.162980 --> 0.162980).  Saving model ...\n",
      "Validation loss decreased (0.162722 --> 0.162722).  Saving model ...\n",
      "Validation loss decreased (0.162702 --> 0.162702).  Saving model ...\n"
     ]
    },
    {
     "name": "stderr",
     "output_type": "stream",
     "text": [
      " 14%|███████████▍                                                                   | 144/1000 [00:05<00:34, 25.05it/s]"
     ]
    },
    {
     "name": "stdout",
     "output_type": "stream",
     "text": [
      "Validation loss decreased (0.162335 --> 0.162335).  Saving model ...\n",
      "Validation loss decreased (0.161988 --> 0.161988).  Saving model ...\n",
      "Validation loss decreased (0.161442 --> 0.161442).  Saving model ...\n",
      "Validation loss decreased (0.160895 --> 0.160895).  Saving model ...\n",
      "Validation loss decreased (0.160281 --> 0.160281).  Saving model ...\n",
      "Validation loss decreased (0.160001 --> 0.160001).  Saving model ...\n"
     ]
    },
    {
     "name": "stderr",
     "output_type": "stream",
     "text": [
      " 15%|███████████▊                                                                   | 150/1000 [00:05<00:34, 24.67it/s]"
     ]
    },
    {
     "name": "stdout",
     "output_type": "stream",
     "text": [
      "Validation loss decreased (0.159529 --> 0.159529).  Saving model ...\n",
      "Validation loss decreased (0.159139 --> 0.159139).  Saving model ...\n",
      "Validation loss decreased (0.158728 --> 0.158728).  Saving model ...\n",
      "Validation loss decreased (0.158347 --> 0.158347).  Saving model ...\n",
      "Validation loss decreased (0.157941 --> 0.157941).  Saving model ...\n",
      "Validation loss decreased (0.157625 --> 0.157625).  Saving model ...\n"
     ]
    },
    {
     "name": "stderr",
     "output_type": "stream",
     "text": [
      " 16%|████████████▎                                                                  | 156/1000 [00:06<00:33, 25.37it/s]"
     ]
    },
    {
     "name": "stdout",
     "output_type": "stream",
     "text": [
      "Validation loss decreased (0.157260 --> 0.157260).  Saving model ...\n",
      "Validation loss decreased (0.156974 --> 0.156974).  Saving model ...\n",
      "Validation loss decreased (0.156730 --> 0.156730).  Saving model ...\n",
      "Validation loss decreased (0.156426 --> 0.156426).  Saving model ...\n",
      "Validation loss decreased (0.156183 --> 0.156183).  Saving model ...\n",
      "Validation loss decreased (0.155980 --> 0.155980).  Saving model ...\n"
     ]
    },
    {
     "name": "stderr",
     "output_type": "stream",
     "text": [
      " 16%|████████████▊                                                                  | 162/1000 [00:06<00:32, 26.18it/s]"
     ]
    },
    {
     "name": "stdout",
     "output_type": "stream",
     "text": [
      "Validation loss decreased (0.155585 --> 0.155585).  Saving model ...\n",
      "Validation loss decreased (0.155317 --> 0.155317).  Saving model ...\n",
      "Validation loss decreased (0.154938 --> 0.154938).  Saving model ...\n",
      "Validation loss decreased (0.154701 --> 0.154701).  Saving model ...\n",
      "Validation loss decreased (0.154392 --> 0.154392).  Saving model ...\n",
      "Validation loss decreased (0.154079 --> 0.154079).  Saving model ...\n"
     ]
    },
    {
     "name": "stderr",
     "output_type": "stream",
     "text": [
      " 17%|█████████████▎                                                                 | 168/1000 [00:06<00:30, 26.89it/s]"
     ]
    },
    {
     "name": "stdout",
     "output_type": "stream",
     "text": [
      "Validation loss decreased (0.154055 --> 0.154055).  Saving model ...\n",
      "Validation loss decreased (0.153806 --> 0.153806).  Saving model ...\n",
      "Validation loss decreased (0.153165 --> 0.153165).  Saving model ...\n",
      "Validation loss decreased (0.152834 --> 0.152834).  Saving model ...\n",
      "Validation loss decreased (0.152534 --> 0.152534).  Saving model ...\n",
      "Validation loss decreased (0.152341 --> 0.152341).  Saving model ...\n"
     ]
    },
    {
     "name": "stderr",
     "output_type": "stream",
     "text": [
      " 17%|█████████████▋                                                                 | 174/1000 [00:06<00:29, 27.91it/s]"
     ]
    },
    {
     "name": "stdout",
     "output_type": "stream",
     "text": [
      "Validation loss decreased (0.152228 --> 0.152228).  Saving model ...\n",
      "Validation loss decreased (0.151876 --> 0.151876).  Saving model ...\n",
      "Validation loss decreased (0.151498 --> 0.151498).  Saving model ...\n",
      "Validation loss decreased (0.151291 --> 0.151291).  Saving model ...\n",
      "Validation loss decreased (0.151116 --> 0.151116).  Saving model ...\n",
      "Validation loss decreased (0.150883 --> 0.150883).  Saving model ...\n",
      "Validation loss decreased (0.150797 --> 0.150797).  Saving model ...\n"
     ]
    },
    {
     "name": "stderr",
     "output_type": "stream",
     "text": [
      " 18%|██████████████▏                                                                | 180/1000 [00:07<00:29, 28.08it/s]"
     ]
    },
    {
     "name": "stdout",
     "output_type": "stream",
     "text": [
      "Validation loss decreased (0.150715 --> 0.150715).  Saving model ...\n",
      "Validation loss decreased (0.150262 --> 0.150262).  Saving model ...\n",
      "Validation loss decreased (0.150060 --> 0.150060).  Saving model ...\n",
      "Validation loss decreased (0.149828 --> 0.149828).  Saving model ...\n"
     ]
    },
    {
     "name": "stderr",
     "output_type": "stream",
     "text": [
      " 19%|██████████████▋                                                                | 186/1000 [00:07<00:30, 26.97it/s]"
     ]
    },
    {
     "name": "stdout",
     "output_type": "stream",
     "text": [
      "Validation loss decreased (0.149485 --> 0.149485).  Saving model ...\n",
      "Validation loss decreased (0.149126 --> 0.149126).  Saving model ...\n",
      "Validation loss decreased (0.149030 --> 0.149030).  Saving model ...\n",
      "Validation loss decreased (0.148831 --> 0.148831).  Saving model ...\n",
      "Validation loss decreased (0.148645 --> 0.148645).  Saving model ...\n"
     ]
    },
    {
     "name": "stderr",
     "output_type": "stream",
     "text": [
      " 19%|███████████████▏                                                               | 192/1000 [00:07<00:30, 26.27it/s]"
     ]
    },
    {
     "name": "stdout",
     "output_type": "stream",
     "text": [
      "Validation loss decreased (0.148643 --> 0.148643).  Saving model ...\n",
      "Validation loss decreased (0.148059 --> 0.148059).  Saving model ...\n",
      "Validation loss decreased (0.147649 --> 0.147649).  Saving model ...\n",
      "Validation loss decreased (0.147479 --> 0.147479).  Saving model ...\n",
      "Validation loss decreased (0.147306 --> 0.147306).  Saving model ...\n",
      "Validation loss decreased (0.147115 --> 0.147115).  Saving model ...\n"
     ]
    },
    {
     "name": "stderr",
     "output_type": "stream",
     "text": [
      " 20%|███████████████▋                                                               | 198/1000 [00:07<00:30, 26.05it/s]"
     ]
    },
    {
     "name": "stdout",
     "output_type": "stream",
     "text": [
      "Validation loss decreased (0.146951 --> 0.146951).  Saving model ...\n",
      "Validation loss decreased (0.146722 --> 0.146722).  Saving model ...\n",
      "Validation loss decreased (0.146627 --> 0.146627).  Saving model ...\n",
      "Validation loss decreased (0.146443 --> 0.146443).  Saving model ...\n",
      "Validation loss decreased (0.146255 --> 0.146255).  Saving model ...\n"
     ]
    },
    {
     "name": "stderr",
     "output_type": "stream",
     "text": [
      " 20%|████████████████                                                               | 204/1000 [00:08<00:31, 25.61it/s]"
     ]
    },
    {
     "name": "stdout",
     "output_type": "stream",
     "text": [
      "Validation loss decreased (0.146125 --> 0.146125).  Saving model ...\n",
      "Validation loss decreased (0.145919 --> 0.145919).  Saving model ...\n",
      "Validation loss decreased (0.145902 --> 0.145902).  Saving model ...\n",
      "Validation loss decreased (0.145623 --> 0.145623).  Saving model ...\n",
      "Validation loss decreased (0.145353 --> 0.145353).  Saving model ...\n"
     ]
    },
    {
     "name": "stderr",
     "output_type": "stream",
     "text": [
      " 21%|████████████████▌                                                              | 210/1000 [00:08<00:32, 24.37it/s]"
     ]
    },
    {
     "name": "stdout",
     "output_type": "stream",
     "text": [
      "Validation loss decreased (0.145317 --> 0.145317).  Saving model ...\n",
      "Validation loss decreased (0.144743 --> 0.144743).  Saving model ...\n",
      "Validation loss decreased (0.144341 --> 0.144341).  Saving model ...\n",
      "Validation loss decreased (0.144209 --> 0.144209).  Saving model ...\n",
      "Validation loss decreased (0.144073 --> 0.144073).  Saving model ...\n"
     ]
    },
    {
     "name": "stderr",
     "output_type": "stream",
     "text": [
      " 22%|█████████████████                                                              | 216/1000 [00:08<00:31, 24.64it/s]"
     ]
    },
    {
     "name": "stdout",
     "output_type": "stream",
     "text": [
      "Validation loss decreased (0.143902 --> 0.143902).  Saving model ...\n",
      "Validation loss decreased (0.143681 --> 0.143681).  Saving model ...\n",
      "Validation loss decreased (0.143476 --> 0.143476).  Saving model ...\n",
      "Validation loss decreased (0.143201 --> 0.143201).  Saving model ...\n"
     ]
    },
    {
     "name": "stderr",
     "output_type": "stream",
     "text": [
      " 22%|█████████████████▌                                                             | 222/1000 [00:08<00:29, 25.94it/s]"
     ]
    },
    {
     "name": "stdout",
     "output_type": "stream",
     "text": [
      "Validation loss decreased (0.143065 --> 0.143065).  Saving model ...\n",
      "Validation loss decreased (0.142931 --> 0.142931).  Saving model ...\n"
     ]
    },
    {
     "name": "stderr",
     "output_type": "stream",
     "text": [
      " 23%|██████████████████                                                             | 228/1000 [00:08<00:28, 27.27it/s]"
     ]
    },
    {
     "name": "stdout",
     "output_type": "stream",
     "text": [
      "Validation loss decreased (0.142422 --> 0.142422).  Saving model ...\n",
      "Validation loss decreased (0.142338 --> 0.142338).  Saving model ...\n",
      "Validation loss decreased (0.142236 --> 0.142236).  Saving model ...\n",
      "Validation loss decreased (0.142074 --> 0.142074).  Saving model ...\n"
     ]
    },
    {
     "name": "stderr",
     "output_type": "stream",
     "text": [
      " 24%|██████████████████▌                                                            | 235/1000 [00:09<00:26, 28.49it/s]"
     ]
    },
    {
     "name": "stdout",
     "output_type": "stream",
     "text": [
      "Validation loss decreased (0.141727 --> 0.141727).  Saving model ...\n",
      "Validation loss decreased (0.141408 --> 0.141408).  Saving model ...\n"
     ]
    },
    {
     "name": "stderr",
     "output_type": "stream",
     "text": [
      " 24%|███████████████████                                                            | 241/1000 [00:09<00:28, 26.91it/s]"
     ]
    },
    {
     "name": "stdout",
     "output_type": "stream",
     "text": [
      "Validation loss decreased (0.141083 --> 0.141083).  Saving model ...\n",
      "Validation loss decreased (0.140935 --> 0.140935).  Saving model ...\n",
      "Validation loss decreased (0.140696 --> 0.140696).  Saving model ...\n",
      "Validation loss decreased (0.140634 --> 0.140634).  Saving model ...\n",
      "Validation loss decreased (0.140488 --> 0.140488).  Saving model ...\n"
     ]
    },
    {
     "name": "stderr",
     "output_type": "stream",
     "text": [
      " 25%|███████████████████▉                                                           | 253/1000 [00:09<00:29, 25.67it/s]"
     ]
    },
    {
     "name": "stdout",
     "output_type": "stream",
     "text": [
      "Validation loss decreased (0.140331 --> 0.140331).  Saving model ...\n",
      "Validation loss decreased (0.140030 --> 0.140030).  Saving model ...\n",
      "Validation loss decreased (0.139930 --> 0.139930).  Saving model ...\n",
      "Validation loss decreased (0.139687 --> 0.139687).  Saving model ...\n",
      "Validation loss decreased (0.139491 --> 0.139491).  Saving model ...\n"
     ]
    },
    {
     "name": "stderr",
     "output_type": "stream",
     "text": [
      " 26%|████████████████████▍                                                          | 259/1000 [00:10<00:29, 25.21it/s]"
     ]
    },
    {
     "name": "stdout",
     "output_type": "stream",
     "text": [
      "Validation loss decreased (0.139234 --> 0.139234).  Saving model ...\n",
      "Validation loss decreased (0.139102 --> 0.139102).  Saving model ...\n",
      "Validation loss decreased (0.138999 --> 0.138999).  Saving model ...\n",
      "Validation loss decreased (0.138896 --> 0.138896).  Saving model ...\n"
     ]
    },
    {
     "name": "stderr",
     "output_type": "stream",
     "text": [
      " 26%|████████████████████▉                                                          | 265/1000 [00:10<00:27, 26.74it/s]"
     ]
    },
    {
     "name": "stdout",
     "output_type": "stream",
     "text": [
      "Validation loss decreased (0.138870 --> 0.138870).  Saving model ...\n",
      "Validation loss decreased (0.138635 --> 0.138635).  Saving model ...\n",
      "Validation loss decreased (0.138335 --> 0.138335).  Saving model ...\n",
      "Validation loss decreased (0.138298 --> 0.138298).  Saving model ...\n"
     ]
    },
    {
     "name": "stderr",
     "output_type": "stream",
     "text": [
      " 28%|█████████████████████▋                                                         | 275/1000 [00:10<00:25, 28.51it/s]"
     ]
    },
    {
     "name": "stdout",
     "output_type": "stream",
     "text": [
      "Validation loss decreased (0.138173 --> 0.138173).  Saving model ...\n",
      "Validation loss decreased (0.138019 --> 0.138019).  Saving model ...\n",
      "Validation loss decreased (0.137949 --> 0.137949).  Saving model ...\n",
      "Validation loss decreased (0.137695 --> 0.137695).  Saving model ...\n",
      "Validation loss decreased (0.137565 --> 0.137565).  Saving model ...\n",
      "Validation loss decreased (0.137443 --> 0.137443).  Saving model ...\n"
     ]
    },
    {
     "name": "stderr",
     "output_type": "stream",
     "text": [
      " 29%|██████████████████████▌                                                        | 286/1000 [00:11<00:24, 29.53it/s]"
     ]
    },
    {
     "name": "stdout",
     "output_type": "stream",
     "text": [
      "Validation loss decreased (0.137437 --> 0.137437).  Saving model ...\n",
      "Validation loss decreased (0.137381 --> 0.137381).  Saving model ...\n"
     ]
    },
    {
     "name": "stderr",
     "output_type": "stream",
     "text": [
      " 30%|███████████████████████▎                                                       | 295/1000 [00:11<00:25, 27.37it/s]"
     ]
    },
    {
     "name": "stdout",
     "output_type": "stream",
     "text": [
      "Validation loss decreased (0.137251 --> 0.137251).  Saving model ...\n",
      "Validation loss decreased (0.137193 --> 0.137193).  Saving model ...\n",
      "Validation loss decreased (0.136971 --> 0.136971).  Saving model ...\n",
      "Validation loss decreased (0.136945 --> 0.136945).  Saving model ...\n"
     ]
    },
    {
     "name": "stderr",
     "output_type": "stream",
     "text": [
      " 30%|████████████████████████                                                       | 304/1000 [00:11<00:24, 28.06it/s]"
     ]
    },
    {
     "name": "stdout",
     "output_type": "stream",
     "text": [
      "Validation loss decreased (0.136905 --> 0.136905).  Saving model ...\n",
      "Validation loss decreased (0.136847 --> 0.136847).  Saving model ...\n"
     ]
    },
    {
     "name": "stderr",
     "output_type": "stream",
     "text": [
      " 31%|████████████████████████▋                                                      | 313/1000 [00:12<00:24, 27.92it/s]"
     ]
    },
    {
     "name": "stdout",
     "output_type": "stream",
     "text": [
      "Validation loss decreased (0.136814 --> 0.136814).  Saving model ...\n",
      "Validation loss decreased (0.136733 --> 0.136733).  Saving model ...\n",
      "Validation loss decreased (0.136692 --> 0.136692).  Saving model ...\n"
     ]
    },
    {
     "name": "stderr",
     "output_type": "stream",
     "text": [
      " 32%|█████████████████████████▍                                                     | 322/1000 [00:12<00:23, 28.60it/s]"
     ]
    },
    {
     "name": "stdout",
     "output_type": "stream",
     "text": [
      "Validation loss decreased (0.136669 --> 0.136669).  Saving model ...\n"
     ]
    },
    {
     "name": "stderr",
     "output_type": "stream",
     "text": [
      " 34%|███████████████████████████                                                    | 342/1000 [00:13<00:22, 29.28it/s]"
     ]
    },
    {
     "name": "stdout",
     "output_type": "stream",
     "text": [
      "Validation loss decreased (0.136511 --> 0.136511).  Saving model ...\n",
      "Validation loss decreased (0.136357 --> 0.136357).  Saving model ...\n",
      "Validation loss decreased (0.136136 --> 0.136136).  Saving model ...\n"
     ]
    },
    {
     "name": "stderr",
     "output_type": "stream",
     "text": [
      " 35%|███████████████████████████▌                                                   | 349/1000 [00:13<00:22, 29.43it/s]"
     ]
    },
    {
     "name": "stdout",
     "output_type": "stream",
     "text": [
      "Validation loss decreased (0.136075 --> 0.136075).  Saving model ...\n"
     ]
    },
    {
     "name": "stderr",
     "output_type": "stream",
     "text": [
      " 36%|████████████████████████████▌                                                  | 361/1000 [00:13<00:21, 29.21it/s]"
     ]
    },
    {
     "name": "stdout",
     "output_type": "stream",
     "text": [
      "Validation loss decreased (0.135962 --> 0.135962).  Saving model ...\n",
      "Validation loss decreased (0.135861 --> 0.135861).  Saving model ...\n"
     ]
    },
    {
     "name": "stderr",
     "output_type": "stream",
     "text": [
      "100%|██████████████████████████████████████████████████████████████████████████████| 1000/1000 [00:36<00:00, 27.10it/s]\n",
      "  1%|▌                                                                                 | 4/600 [00:00<00:33, 17.78it/s]"
     ]
    },
    {
     "name": "stdout",
     "output_type": "stream",
     "text": [
      "Validation loss decreased (0.688068 --> 0.688068).  Saving model ...\n",
      "Validation loss decreased (0.679171 --> 0.679171).  Saving model ...\n",
      "Validation loss decreased (0.670689 --> 0.670689).  Saving model ...\n",
      "Validation loss decreased (0.662552 --> 0.662552).  Saving model ...\n"
     ]
    },
    {
     "name": "stderr",
     "output_type": "stream",
     "text": [
      "  1%|█                                                                                 | 8/600 [00:00<00:32, 17.96it/s]"
     ]
    },
    {
     "name": "stdout",
     "output_type": "stream",
     "text": [
      "Validation loss decreased (0.654540 --> 0.654540).  Saving model ...\n",
      "Validation loss decreased (0.646730 --> 0.646730).  Saving model ...\n",
      "Validation loss decreased (0.638858 --> 0.638858).  Saving model ...\n",
      "Validation loss decreased (0.631100 --> 0.631100).  Saving model ...\n"
     ]
    },
    {
     "name": "stderr",
     "output_type": "stream",
     "text": [
      "  2%|█▌                                                                               | 12/600 [00:00<00:32, 18.37it/s]"
     ]
    },
    {
     "name": "stdout",
     "output_type": "stream",
     "text": [
      "Validation loss decreased (0.623120 --> 0.623120).  Saving model ...\n",
      "Validation loss decreased (0.615146 --> 0.615146).  Saving model ...\n",
      "Validation loss decreased (0.606872 --> 0.606872).  Saving model ...\n",
      "Validation loss decreased (0.598465 --> 0.598465).  Saving model ...\n"
     ]
    },
    {
     "name": "stderr",
     "output_type": "stream",
     "text": [
      "  3%|██▏                                                                              | 16/600 [00:00<00:33, 17.33it/s]"
     ]
    },
    {
     "name": "stdout",
     "output_type": "stream",
     "text": [
      "Validation loss decreased (0.590003 --> 0.590003).  Saving model ...\n",
      "Validation loss decreased (0.581529 --> 0.581529).  Saving model ...\n",
      "Validation loss decreased (0.572581 --> 0.572581).  Saving model ...\n",
      "Validation loss decreased (0.563559 --> 0.563559).  Saving model ...\n"
     ]
    },
    {
     "name": "stderr",
     "output_type": "stream",
     "text": [
      "  3%|██▋                                                                              | 20/600 [00:01<00:34, 16.82it/s]"
     ]
    },
    {
     "name": "stdout",
     "output_type": "stream",
     "text": [
      "Validation loss decreased (0.554515 --> 0.554515).  Saving model ...\n",
      "Validation loss decreased (0.545039 --> 0.545039).  Saving model ...\n",
      "Validation loss decreased (0.535412 --> 0.535412).  Saving model ...\n",
      "Validation loss decreased (0.525759 --> 0.525759).  Saving model ...\n"
     ]
    },
    {
     "name": "stderr",
     "output_type": "stream",
     "text": [
      "  4%|███▏                                                                             | 24/600 [00:01<00:33, 17.10it/s]"
     ]
    },
    {
     "name": "stdout",
     "output_type": "stream",
     "text": [
      "Validation loss decreased (0.515830 --> 0.515830).  Saving model ...\n",
      "Validation loss decreased (0.506289 --> 0.506289).  Saving model ...\n",
      "Validation loss decreased (0.496401 --> 0.496401).  Saving model ...\n",
      "Validation loss decreased (0.486221 --> 0.486221).  Saving model ...\n"
     ]
    },
    {
     "name": "stderr",
     "output_type": "stream",
     "text": [
      "  5%|███▊                                                                             | 28/600 [00:01<00:33, 17.27it/s]"
     ]
    },
    {
     "name": "stdout",
     "output_type": "stream",
     "text": [
      "Validation loss decreased (0.475969 --> 0.475969).  Saving model ...\n",
      "Validation loss decreased (0.466157 --> 0.466157).  Saving model ...\n",
      "Validation loss decreased (0.455883 --> 0.455883).  Saving model ...\n",
      "Validation loss decreased (0.445526 --> 0.445526).  Saving model ...\n"
     ]
    },
    {
     "name": "stderr",
     "output_type": "stream",
     "text": [
      "  5%|████▎                                                                            | 32/600 [00:01<00:32, 17.37it/s]"
     ]
    },
    {
     "name": "stdout",
     "output_type": "stream",
     "text": [
      "Validation loss decreased (0.435508 --> 0.435508).  Saving model ...\n",
      "Validation loss decreased (0.425573 --> 0.425573).  Saving model ...\n",
      "Validation loss decreased (0.415531 --> 0.415531).  Saving model ...\n",
      "Validation loss decreased (0.406082 --> 0.406082).  Saving model ...\n"
     ]
    },
    {
     "name": "stderr",
     "output_type": "stream",
     "text": [
      "  6%|████▊                                                                            | 36/600 [00:02<00:33, 16.88it/s]"
     ]
    },
    {
     "name": "stdout",
     "output_type": "stream",
     "text": [
      "Validation loss decreased (0.396518 --> 0.396518).  Saving model ...\n",
      "Validation loss decreased (0.387289 --> 0.387289).  Saving model ...\n",
      "Validation loss decreased (0.377794 --> 0.377794).  Saving model ...\n",
      "Validation loss decreased (0.368575 --> 0.368575).  Saving model ...\n"
     ]
    },
    {
     "name": "stderr",
     "output_type": "stream",
     "text": [
      "  7%|█████▍                                                                           | 40/600 [00:02<00:34, 16.21it/s]"
     ]
    },
    {
     "name": "stdout",
     "output_type": "stream",
     "text": [
      "Validation loss decreased (0.360389 --> 0.360389).  Saving model ...\n",
      "Validation loss decreased (0.352998 --> 0.352998).  Saving model ...\n",
      "Validation loss decreased (0.345861 --> 0.345861).  Saving model ...\n",
      "Validation loss decreased (0.339012 --> 0.339012).  Saving model ...\n"
     ]
    },
    {
     "name": "stderr",
     "output_type": "stream",
     "text": [
      "  7%|█████▉                                                                           | 44/600 [00:02<00:34, 16.10it/s]"
     ]
    },
    {
     "name": "stdout",
     "output_type": "stream",
     "text": [
      "Validation loss decreased (0.331718 --> 0.331718).  Saving model ...\n",
      "Validation loss decreased (0.324978 --> 0.324978).  Saving model ...\n",
      "Validation loss decreased (0.317629 --> 0.317629).  Saving model ...\n",
      "Validation loss decreased (0.310836 --> 0.310836).  Saving model ...\n"
     ]
    },
    {
     "name": "stderr",
     "output_type": "stream",
     "text": [
      "  8%|██████▍                                                                          | 48/600 [00:02<00:34, 16.09it/s]"
     ]
    },
    {
     "name": "stdout",
     "output_type": "stream",
     "text": [
      "Validation loss decreased (0.305413 --> 0.305413).  Saving model ...\n",
      "Validation loss decreased (0.299489 --> 0.299489).  Saving model ...\n",
      "Validation loss decreased (0.293824 --> 0.293824).  Saving model ...\n",
      "Validation loss decreased (0.288752 --> 0.288752).  Saving model ...\n"
     ]
    },
    {
     "name": "stderr",
     "output_type": "stream",
     "text": [
      "  9%|███████                                                                          | 52/600 [00:03<00:33, 16.51it/s]"
     ]
    },
    {
     "name": "stdout",
     "output_type": "stream",
     "text": [
      "Validation loss decreased (0.283233 --> 0.283233).  Saving model ...\n",
      "Validation loss decreased (0.277794 --> 0.277794).  Saving model ...\n",
      "Validation loss decreased (0.271903 --> 0.271903).  Saving model ...\n",
      "Validation loss decreased (0.267804 --> 0.267804).  Saving model ...\n"
     ]
    },
    {
     "name": "stderr",
     "output_type": "stream",
     "text": [
      "  9%|███████▌                                                                         | 56/600 [00:03<00:33, 16.29it/s]"
     ]
    },
    {
     "name": "stdout",
     "output_type": "stream",
     "text": [
      "Validation loss decreased (0.263709 --> 0.263709).  Saving model ...\n",
      "Validation loss decreased (0.259572 --> 0.259572).  Saving model ...\n",
      "Validation loss decreased (0.255413 --> 0.255413).  Saving model ...\n",
      "Validation loss decreased (0.251440 --> 0.251440).  Saving model ...\n"
     ]
    },
    {
     "name": "stderr",
     "output_type": "stream",
     "text": [
      " 10%|████████                                                                         | 60/600 [00:03<00:30, 17.46it/s]"
     ]
    },
    {
     "name": "stdout",
     "output_type": "stream",
     "text": [
      "Validation loss decreased (0.247829 --> 0.247829).  Saving model ...\n",
      "Validation loss decreased (0.244621 --> 0.244621).  Saving model ...\n",
      "Validation loss decreased (0.240959 --> 0.240959).  Saving model ...\n",
      "Validation loss decreased (0.237559 --> 0.237559).  Saving model ...\n",
      "Validation loss decreased (0.234494 --> 0.234494).  Saving model ...\n"
     ]
    },
    {
     "name": "stderr",
     "output_type": "stream",
     "text": [
      " 11%|████████▋                                                                        | 64/600 [00:03<00:29, 18.15it/s]"
     ]
    },
    {
     "name": "stdout",
     "output_type": "stream",
     "text": [
      "Validation loss decreased (0.231348 --> 0.231348).  Saving model ...\n",
      "Validation loss decreased (0.228494 --> 0.228494).  Saving model ...\n",
      "Validation loss decreased (0.225966 --> 0.225966).  Saving model ...\n",
      "Validation loss decreased (0.223524 --> 0.223524).  Saving model ...\n"
     ]
    },
    {
     "name": "stderr",
     "output_type": "stream",
     "text": [
      " 11%|█████████▏                                                                       | 68/600 [00:03<00:29, 18.26it/s]"
     ]
    },
    {
     "name": "stdout",
     "output_type": "stream",
     "text": [
      "Validation loss decreased (0.220878 --> 0.220878).  Saving model ...\n",
      "Validation loss decreased (0.218467 --> 0.218467).  Saving model ...\n",
      "Validation loss decreased (0.216359 --> 0.216359).  Saving model ...\n",
      "Validation loss decreased (0.214042 --> 0.214042).  Saving model ...\n"
     ]
    },
    {
     "name": "stderr",
     "output_type": "stream",
     "text": [
      " 12%|█████████▉                                                                       | 74/600 [00:04<00:28, 18.74it/s]"
     ]
    },
    {
     "name": "stdout",
     "output_type": "stream",
     "text": [
      "Validation loss decreased (0.211969 --> 0.211969).  Saving model ...\n",
      "Validation loss decreased (0.209970 --> 0.209970).  Saving model ...\n",
      "Validation loss decreased (0.208236 --> 0.208236).  Saving model ...\n",
      "Validation loss decreased (0.205982 --> 0.205982).  Saving model ...\n",
      "Validation loss decreased (0.203984 --> 0.203984).  Saving model ...\n"
     ]
    },
    {
     "name": "stderr",
     "output_type": "stream",
     "text": [
      " 13%|██████████▌                                                                      | 78/600 [00:04<00:28, 18.34it/s]"
     ]
    },
    {
     "name": "stdout",
     "output_type": "stream",
     "text": [
      "Validation loss decreased (0.202160 --> 0.202160).  Saving model ...\n",
      "Validation loss decreased (0.200318 --> 0.200318).  Saving model ...\n",
      "Validation loss decreased (0.198594 --> 0.198594).  Saving model ...\n",
      "Validation loss decreased (0.196981 --> 0.196981).  Saving model ...\n"
     ]
    },
    {
     "name": "stderr",
     "output_type": "stream",
     "text": [
      " 14%|███████████                                                                      | 82/600 [00:04<00:28, 18.36it/s]"
     ]
    },
    {
     "name": "stdout",
     "output_type": "stream",
     "text": [
      "Validation loss decreased (0.195326 --> 0.195326).  Saving model ...\n",
      "Validation loss decreased (0.193723 --> 0.193723).  Saving model ...\n",
      "Validation loss decreased (0.192189 --> 0.192189).  Saving model ...\n",
      "Validation loss decreased (0.190709 --> 0.190709).  Saving model ...\n"
     ]
    },
    {
     "name": "stderr",
     "output_type": "stream",
     "text": [
      " 14%|███████████▌                                                                     | 86/600 [00:04<00:29, 17.69it/s]"
     ]
    },
    {
     "name": "stdout",
     "output_type": "stream",
     "text": [
      "Validation loss decreased (0.189614 --> 0.189614).  Saving model ...\n",
      "Validation loss decreased (0.188204 --> 0.188204).  Saving model ...\n",
      "Validation loss decreased (0.186771 --> 0.186771).  Saving model ...\n",
      "Validation loss decreased (0.185425 --> 0.185425).  Saving model ...\n"
     ]
    },
    {
     "name": "stderr",
     "output_type": "stream",
     "text": [
      " 15%|████████████▏                                                                    | 90/600 [00:05<00:30, 16.97it/s]"
     ]
    },
    {
     "name": "stdout",
     "output_type": "stream",
     "text": [
      "Validation loss decreased (0.184212 --> 0.184212).  Saving model ...\n",
      "Validation loss decreased (0.183006 --> 0.183006).  Saving model ...\n",
      "Validation loss decreased (0.181861 --> 0.181861).  Saving model ...\n",
      "Validation loss decreased (0.180695 --> 0.180695).  Saving model ...\n"
     ]
    },
    {
     "name": "stderr",
     "output_type": "stream",
     "text": [
      " 16%|████████████▋                                                                    | 94/600 [00:05<00:29, 17.15it/s]"
     ]
    },
    {
     "name": "stdout",
     "output_type": "stream",
     "text": [
      "Validation loss decreased (0.179522 --> 0.179522).  Saving model ...\n",
      "Validation loss decreased (0.178359 --> 0.178359).  Saving model ...\n",
      "Validation loss decreased (0.177369 --> 0.177369).  Saving model ...\n",
      "Validation loss decreased (0.176351 --> 0.176351).  Saving model ...\n"
     ]
    },
    {
     "name": "stderr",
     "output_type": "stream",
     "text": [
      " 16%|█████████████▏                                                                   | 98/600 [00:05<00:29, 17.16it/s]"
     ]
    },
    {
     "name": "stdout",
     "output_type": "stream",
     "text": [
      "Validation loss decreased (0.175330 --> 0.175330).  Saving model ...\n",
      "Validation loss decreased (0.174511 --> 0.174511).  Saving model ...\n",
      "Validation loss decreased (0.173391 --> 0.173391).  Saving model ...\n",
      "Validation loss decreased (0.172452 --> 0.172452).  Saving model ...\n"
     ]
    },
    {
     "name": "stderr",
     "output_type": "stream",
     "text": [
      " 17%|█████████████▌                                                                  | 102/600 [00:05<00:30, 16.57it/s]"
     ]
    },
    {
     "name": "stdout",
     "output_type": "stream",
     "text": [
      "Validation loss decreased (0.171452 --> 0.171452).  Saving model ...\n",
      "Validation loss decreased (0.170789 --> 0.170789).  Saving model ...\n",
      "Validation loss decreased (0.169723 --> 0.169723).  Saving model ...\n",
      "Validation loss decreased (0.169013 --> 0.169013).  Saving model ...\n"
     ]
    },
    {
     "name": "stderr",
     "output_type": "stream",
     "text": [
      " 18%|██████████████▏                                                                 | 106/600 [00:06<00:28, 17.11it/s]"
     ]
    },
    {
     "name": "stdout",
     "output_type": "stream",
     "text": [
      "Validation loss decreased (0.168076 --> 0.168076).  Saving model ...\n",
      "Validation loss decreased (0.167522 --> 0.167522).  Saving model ...\n",
      "Validation loss decreased (0.166408 --> 0.166408).  Saving model ...\n",
      "Validation loss decreased (0.166079 --> 0.166079).  Saving model ...\n"
     ]
    },
    {
     "name": "stderr",
     "output_type": "stream",
     "text": [
      " 18%|██████████████▋                                                                 | 110/600 [00:06<00:29, 16.71it/s]"
     ]
    },
    {
     "name": "stdout",
     "output_type": "stream",
     "text": [
      "Validation loss decreased (0.164996 --> 0.164996).  Saving model ...\n",
      "Validation loss decreased (0.164264 --> 0.164264).  Saving model ...\n",
      "Validation loss decreased (0.163418 --> 0.163418).  Saving model ...\n",
      "Validation loss decreased (0.162948 --> 0.162948).  Saving model ...\n"
     ]
    },
    {
     "name": "stderr",
     "output_type": "stream",
     "text": [
      " 19%|███████████████▏                                                                | 114/600 [00:06<00:30, 16.17it/s]"
     ]
    },
    {
     "name": "stdout",
     "output_type": "stream",
     "text": [
      "Validation loss decreased (0.162169 --> 0.162169).  Saving model ...\n",
      "Validation loss decreased (0.161320 --> 0.161320).  Saving model ...\n",
      "Validation loss decreased (0.160608 --> 0.160608).  Saving model ...\n",
      "Validation loss decreased (0.159993 --> 0.159993).  Saving model ...\n"
     ]
    },
    {
     "name": "stderr",
     "output_type": "stream",
     "text": [
      " 20%|███████████████▋                                                                | 118/600 [00:06<00:29, 16.40it/s]"
     ]
    },
    {
     "name": "stdout",
     "output_type": "stream",
     "text": [
      "Validation loss decreased (0.159488 --> 0.159488).  Saving model ...\n",
      "Validation loss decreased (0.158709 --> 0.158709).  Saving model ...\n",
      "Validation loss decreased (0.158063 --> 0.158063).  Saving model ...\n",
      "Validation loss decreased (0.157437 --> 0.157437).  Saving model ...\n"
     ]
    },
    {
     "name": "stderr",
     "output_type": "stream",
     "text": [
      " 20%|████████████████▎                                                               | 122/600 [00:07<00:28, 16.65it/s]"
     ]
    },
    {
     "name": "stdout",
     "output_type": "stream",
     "text": [
      "Validation loss decreased (0.156987 --> 0.156987).  Saving model ...\n",
      "Validation loss decreased (0.156564 --> 0.156564).  Saving model ...\n",
      "Validation loss decreased (0.155728 --> 0.155728).  Saving model ...\n",
      "Validation loss decreased (0.155183 --> 0.155183).  Saving model ...\n"
     ]
    },
    {
     "name": "stderr",
     "output_type": "stream",
     "text": [
      " 21%|████████████████▊                                                               | 126/600 [00:07<00:29, 16.26it/s]"
     ]
    },
    {
     "name": "stdout",
     "output_type": "stream",
     "text": [
      "Validation loss decreased (0.154089 --> 0.154089).  Saving model ...\n",
      "Validation loss decreased (0.153370 --> 0.153370).  Saving model ...\n",
      "Validation loss decreased (0.153021 --> 0.153021).  Saving model ...\n",
      "Validation loss decreased (0.152225 --> 0.152225).  Saving model ...\n"
     ]
    },
    {
     "name": "stderr",
     "output_type": "stream",
     "text": [
      " 22%|█████████████████▎                                                              | 130/600 [00:07<00:29, 16.14it/s]"
     ]
    },
    {
     "name": "stdout",
     "output_type": "stream",
     "text": [
      "Validation loss decreased (0.151628 --> 0.151628).  Saving model ...\n",
      "Validation loss decreased (0.151371 --> 0.151371).  Saving model ...\n",
      "Validation loss decreased (0.150996 --> 0.150996).  Saving model ...\n",
      "Validation loss decreased (0.150102 --> 0.150102).  Saving model ...\n"
     ]
    },
    {
     "name": "stderr",
     "output_type": "stream",
     "text": [
      " 22%|█████████████████▊                                                              | 134/600 [00:07<00:28, 16.22it/s]"
     ]
    },
    {
     "name": "stdout",
     "output_type": "stream",
     "text": [
      "Validation loss decreased (0.150032 --> 0.150032).  Saving model ...\n",
      "Validation loss decreased (0.149106 --> 0.149106).  Saving model ...\n",
      "Validation loss decreased (0.148597 --> 0.148597).  Saving model ...\n",
      "Validation loss decreased (0.148154 --> 0.148154).  Saving model ...\n"
     ]
    },
    {
     "name": "stderr",
     "output_type": "stream",
     "text": [
      " 23%|██████████████████▍                                                             | 138/600 [00:08<00:27, 16.77it/s]"
     ]
    },
    {
     "name": "stdout",
     "output_type": "stream",
     "text": [
      "Validation loss decreased (0.147669 --> 0.147669).  Saving model ...\n",
      "Validation loss decreased (0.147569 --> 0.147569).  Saving model ...\n",
      "Validation loss decreased (0.147120 --> 0.147120).  Saving model ...\n",
      "Validation loss decreased (0.146493 --> 0.146493).  Saving model ...\n"
     ]
    },
    {
     "name": "stderr",
     "output_type": "stream",
     "text": [
      " 24%|██████████████████▉                                                             | 142/600 [00:08<00:27, 16.51it/s]"
     ]
    },
    {
     "name": "stdout",
     "output_type": "stream",
     "text": [
      "Validation loss decreased (0.146201 --> 0.146201).  Saving model ...\n",
      "Validation loss decreased (0.145895 --> 0.145895).  Saving model ...\n",
      "Validation loss decreased (0.145803 --> 0.145803).  Saving model ...\n",
      "Validation loss decreased (0.145334 --> 0.145334).  Saving model ...\n"
     ]
    },
    {
     "name": "stderr",
     "output_type": "stream",
     "text": [
      " 24%|███████████████████▍                                                            | 146/600 [00:08<00:27, 16.59it/s]"
     ]
    },
    {
     "name": "stdout",
     "output_type": "stream",
     "text": [
      "Validation loss decreased (0.144584 --> 0.144584).  Saving model ...\n",
      "Validation loss decreased (0.144047 --> 0.144047).  Saving model ...\n",
      "Validation loss decreased (0.143786 --> 0.143786).  Saving model ...\n",
      "Validation loss decreased (0.143697 --> 0.143697).  Saving model ...\n"
     ]
    },
    {
     "name": "stderr",
     "output_type": "stream",
     "text": [
      " 25%|████████████████████                                                            | 150/600 [00:08<00:26, 16.79it/s]"
     ]
    },
    {
     "name": "stdout",
     "output_type": "stream",
     "text": [
      "Validation loss decreased (0.143395 --> 0.143395).  Saving model ...\n",
      "Validation loss decreased (0.142555 --> 0.142555).  Saving model ...\n"
     ]
    },
    {
     "name": "stderr",
     "output_type": "stream",
     "text": [
      " 26%|████████████████████▌                                                           | 154/600 [00:09<00:26, 17.05it/s]"
     ]
    },
    {
     "name": "stdout",
     "output_type": "stream",
     "text": [
      "Validation loss decreased (0.141682 --> 0.141682).  Saving model ...\n",
      "Validation loss decreased (0.141443 --> 0.141443).  Saving model ...\n",
      "Validation loss decreased (0.141152 --> 0.141152).  Saving model ...\n",
      "Validation loss decreased (0.140773 --> 0.140773).  Saving model ...\n"
     ]
    },
    {
     "name": "stderr",
     "output_type": "stream",
     "text": [
      " 26%|█████████████████████                                                           | 158/600 [00:09<00:25, 17.11it/s]"
     ]
    },
    {
     "name": "stdout",
     "output_type": "stream",
     "text": [
      "Validation loss decreased (0.140500 --> 0.140500).  Saving model ...\n",
      "Validation loss decreased (0.140143 --> 0.140143).  Saving model ...\n",
      "Validation loss decreased (0.139853 --> 0.139853).  Saving model ...\n",
      "Validation loss decreased (0.139706 --> 0.139706).  Saving model ...\n"
     ]
    },
    {
     "name": "stderr",
     "output_type": "stream",
     "text": [
      " 27%|█████████████████████▌                                                          | 162/600 [00:09<00:26, 16.48it/s]"
     ]
    },
    {
     "name": "stdout",
     "output_type": "stream",
     "text": [
      "Validation loss decreased (0.139650 --> 0.139650).  Saving model ...\n",
      "Validation loss decreased (0.139055 --> 0.139055).  Saving model ...\n",
      "Validation loss decreased (0.138988 --> 0.138988).  Saving model ...\n",
      "Validation loss decreased (0.138258 --> 0.138258).  Saving model ...\n"
     ]
    },
    {
     "name": "stderr",
     "output_type": "stream",
     "text": [
      " 28%|██████████████████████▍                                                         | 168/600 [00:09<00:25, 16.70it/s]"
     ]
    },
    {
     "name": "stdout",
     "output_type": "stream",
     "text": [
      "Validation loss decreased (0.138113 --> 0.138113).  Saving model ...\n",
      "Validation loss decreased (0.137153 --> 0.137153).  Saving model ...\n",
      "Validation loss decreased (0.136192 --> 0.136192).  Saving model ...\n"
     ]
    },
    {
     "name": "stderr",
     "output_type": "stream",
     "text": [
      " 29%|██████████████████████▉                                                         | 172/600 [00:10<00:25, 16.47it/s]"
     ]
    },
    {
     "name": "stdout",
     "output_type": "stream",
     "text": [
      "Validation loss decreased (0.135785 --> 0.135785).  Saving model ...\n",
      "Validation loss decreased (0.135565 --> 0.135565).  Saving model ...\n",
      "Validation loss decreased (0.135373 --> 0.135373).  Saving model ...\n",
      "Validation loss decreased (0.135088 --> 0.135088).  Saving model ...\n"
     ]
    },
    {
     "name": "stderr",
     "output_type": "stream",
     "text": [
      " 29%|███████████████████████▍                                                        | 176/600 [00:10<00:25, 16.44it/s]"
     ]
    },
    {
     "name": "stdout",
     "output_type": "stream",
     "text": [
      "Validation loss decreased (0.134902 --> 0.134902).  Saving model ...\n",
      "Validation loss decreased (0.134091 --> 0.134091).  Saving model ...\n"
     ]
    },
    {
     "name": "stderr",
     "output_type": "stream",
     "text": [
      " 30%|████████████████████████                                                        | 180/600 [00:10<00:25, 16.48it/s]"
     ]
    },
    {
     "name": "stdout",
     "output_type": "stream",
     "text": [
      "Validation loss decreased (0.133899 --> 0.133899).  Saving model ...\n",
      "Validation loss decreased (0.133799 --> 0.133799).  Saving model ...\n",
      "Validation loss decreased (0.133618 --> 0.133618).  Saving model ...\n",
      "Validation loss decreased (0.133134 --> 0.133134).  Saving model ...\n"
     ]
    },
    {
     "name": "stderr",
     "output_type": "stream",
     "text": [
      " 31%|████████████████████████▌                                                       | 184/600 [00:10<00:24, 16.85it/s]"
     ]
    },
    {
     "name": "stdout",
     "output_type": "stream",
     "text": [
      "Validation loss decreased (0.133020 --> 0.133020).  Saving model ...\n",
      "Validation loss decreased (0.132751 --> 0.132751).  Saving model ...\n",
      "Validation loss decreased (0.132322 --> 0.132322).  Saving model ...\n",
      "Validation loss decreased (0.131944 --> 0.131944).  Saving model ...\n"
     ]
    },
    {
     "name": "stderr",
     "output_type": "stream",
     "text": [
      " 31%|█████████████████████████                                                       | 188/600 [00:11<00:23, 17.30it/s]"
     ]
    },
    {
     "name": "stdout",
     "output_type": "stream",
     "text": [
      "Validation loss decreased (0.131846 --> 0.131846).  Saving model ...\n",
      "Validation loss decreased (0.131682 --> 0.131682).  Saving model ...\n",
      "Validation loss decreased (0.131466 --> 0.131466).  Saving model ...\n"
     ]
    },
    {
     "name": "stderr",
     "output_type": "stream",
     "text": [
      " 32%|█████████████████████████▌                                                      | 192/600 [00:11<00:23, 17.09it/s]"
     ]
    },
    {
     "name": "stdout",
     "output_type": "stream",
     "text": [
      "Validation loss decreased (0.131012 --> 0.131012).  Saving model ...\n",
      "Validation loss decreased (0.130641 --> 0.130641).  Saving model ...\n",
      "Validation loss decreased (0.130539 --> 0.130539).  Saving model ...\n",
      "Validation loss decreased (0.130158 --> 0.130158).  Saving model ...\n"
     ]
    },
    {
     "name": "stderr",
     "output_type": "stream",
     "text": [
      " 33%|██████████████████████████▏                                                     | 196/600 [00:11<00:23, 17.14it/s]"
     ]
    },
    {
     "name": "stdout",
     "output_type": "stream",
     "text": [
      "Validation loss decreased (0.130110 --> 0.130110).  Saving model ...\n",
      "Validation loss decreased (0.129599 --> 0.129599).  Saving model ...\n"
     ]
    },
    {
     "name": "stderr",
     "output_type": "stream",
     "text": [
      " 33%|██████████████████████████▋                                                     | 200/600 [00:11<00:22, 17.45it/s]"
     ]
    },
    {
     "name": "stdout",
     "output_type": "stream",
     "text": [
      "Validation loss decreased (0.129461 --> 0.129461).  Saving model ...\n",
      "Validation loss decreased (0.128699 --> 0.128699).  Saving model ...\n",
      "Validation loss decreased (0.128429 --> 0.128429).  Saving model ...\n",
      "Validation loss decreased (0.128405 --> 0.128405).  Saving model ...\n"
     ]
    },
    {
     "name": "stderr",
     "output_type": "stream",
     "text": [
      " 34%|███████████████████████████▍                                                    | 206/600 [00:12<00:23, 16.85it/s]"
     ]
    },
    {
     "name": "stdout",
     "output_type": "stream",
     "text": [
      "Validation loss decreased (0.128253 --> 0.128253).  Saving model ...\n",
      "Validation loss decreased (0.127585 --> 0.127585).  Saving model ...\n",
      "Validation loss decreased (0.127204 --> 0.127204).  Saving model ...\n",
      "Validation loss decreased (0.127116 --> 0.127116).  Saving model ...\n"
     ]
    },
    {
     "name": "stderr",
     "output_type": "stream",
     "text": [
      " 35%|████████████████████████████▎                                                   | 212/600 [00:12<00:23, 16.86it/s]"
     ]
    },
    {
     "name": "stdout",
     "output_type": "stream",
     "text": [
      "Validation loss decreased (0.126659 --> 0.126659).  Saving model ...\n",
      "Validation loss decreased (0.126541 --> 0.126541).  Saving model ...\n",
      "Validation loss decreased (0.126458 --> 0.126458).  Saving model ...\n",
      "Validation loss decreased (0.126316 --> 0.126316).  Saving model ...\n"
     ]
    },
    {
     "name": "stderr",
     "output_type": "stream",
     "text": [
      " 36%|████████████████████████████▌                                                   | 214/600 [00:12<00:23, 16.69it/s]"
     ]
    },
    {
     "name": "stdout",
     "output_type": "stream",
     "text": [
      "Validation loss decreased (0.126147 --> 0.126147).  Saving model ...\n",
      "Validation loss decreased (0.126081 --> 0.126081).  Saving model ...\n"
     ]
    },
    {
     "name": "stderr",
     "output_type": "stream",
     "text": [
      " 37%|█████████████████████████████▌                                                  | 222/600 [00:13<00:22, 16.92it/s]"
     ]
    },
    {
     "name": "stdout",
     "output_type": "stream",
     "text": [
      "Validation loss decreased (0.125998 --> 0.125998).  Saving model ...\n",
      "Validation loss decreased (0.125526 --> 0.125526).  Saving model ...\n",
      "Validation loss decreased (0.125317 --> 0.125317).  Saving model ...\n"
     ]
    },
    {
     "name": "stderr",
     "output_type": "stream",
     "text": [
      " 38%|██████████████████████████████▏                                                 | 226/600 [00:13<00:21, 17.18it/s]"
     ]
    },
    {
     "name": "stdout",
     "output_type": "stream",
     "text": [
      "Validation loss decreased (0.125194 --> 0.125194).  Saving model ...\n",
      "Validation loss decreased (0.125072 --> 0.125072).  Saving model ...\n",
      "Validation loss decreased (0.124835 --> 0.124835).  Saving model ...\n",
      "Validation loss decreased (0.124658 --> 0.124658).  Saving model ...\n"
     ]
    },
    {
     "name": "stderr",
     "output_type": "stream",
     "text": [
      " 39%|██████████████████████████████▉                                                 | 232/600 [00:13<00:21, 16.79it/s]"
     ]
    },
    {
     "name": "stdout",
     "output_type": "stream",
     "text": [
      "Validation loss decreased (0.124481 --> 0.124481).  Saving model ...\n",
      "Validation loss decreased (0.124248 --> 0.124248).  Saving model ...\n",
      "Validation loss decreased (0.124237 --> 0.124237).  Saving model ...\n"
     ]
    },
    {
     "name": "stderr",
     "output_type": "stream",
     "text": [
      " 39%|███████████████████████████████▍                                                | 236/600 [00:13<00:21, 16.63it/s]"
     ]
    },
    {
     "name": "stdout",
     "output_type": "stream",
     "text": [
      "Validation loss decreased (0.123814 --> 0.123814).  Saving model ...\n"
     ]
    },
    {
     "name": "stderr",
     "output_type": "stream",
     "text": [
      " 40%|████████████████████████████████                                                | 240/600 [00:14<00:21, 16.77it/s]"
     ]
    },
    {
     "name": "stdout",
     "output_type": "stream",
     "text": [
      "Validation loss decreased (0.123655 --> 0.123655).  Saving model ...\n",
      "Validation loss decreased (0.123570 --> 0.123570).  Saving model ...\n",
      "Validation loss decreased (0.123444 --> 0.123444).  Saving model ...\n",
      "Validation loss decreased (0.123333 --> 0.123333).  Saving model ...\n"
     ]
    },
    {
     "name": "stderr",
     "output_type": "stream",
     "text": [
      " 41%|████████████████████████████████▊                                               | 246/600 [00:14<00:21, 16.67it/s]"
     ]
    },
    {
     "name": "stdout",
     "output_type": "stream",
     "text": [
      "Validation loss decreased (0.123249 --> 0.123249).  Saving model ...\n",
      "Validation loss decreased (0.123197 --> 0.123197).  Saving model ...\n",
      "Validation loss decreased (0.123163 --> 0.123163).  Saving model ...\n"
     ]
    },
    {
     "name": "stderr",
     "output_type": "stream",
     "text": [
      " 42%|█████████████████████████████████▎                                              | 250/600 [00:14<00:20, 16.77it/s]"
     ]
    },
    {
     "name": "stdout",
     "output_type": "stream",
     "text": [
      "Validation loss decreased (0.122941 --> 0.122941).  Saving model ...\n",
      "Validation loss decreased (0.122787 --> 0.122787).  Saving model ...\n",
      "Validation loss decreased (0.122673 --> 0.122673).  Saving model ...\n"
     ]
    },
    {
     "name": "stderr",
     "output_type": "stream",
     "text": [
      " 42%|█████████████████████████████████▊                                              | 254/600 [00:15<00:20, 16.64it/s]"
     ]
    },
    {
     "name": "stdout",
     "output_type": "stream",
     "text": [
      "Validation loss decreased (0.122359 --> 0.122359).  Saving model ...\n",
      "Validation loss decreased (0.121818 --> 0.121818).  Saving model ...\n",
      "Validation loss decreased (0.121816 --> 0.121816).  Saving model ...\n"
     ]
    },
    {
     "name": "stderr",
     "output_type": "stream",
     "text": [
      " 43%|██████████████████████████████████▋                                             | 260/600 [00:15<00:19, 17.52it/s]"
     ]
    },
    {
     "name": "stdout",
     "output_type": "stream",
     "text": [
      "Validation loss decreased (0.121783 --> 0.121783).  Saving model ...\n"
     ]
    },
    {
     "name": "stderr",
     "output_type": "stream",
     "text": [
      " 44%|███████████████████████████████████▏                                            | 264/600 [00:15<00:20, 16.78it/s]"
     ]
    },
    {
     "name": "stdout",
     "output_type": "stream",
     "text": [
      "Validation loss decreased (0.121683 --> 0.121683).  Saving model ...\n",
      "Validation loss decreased (0.121510 --> 0.121510).  Saving model ...\n"
     ]
    },
    {
     "name": "stderr",
     "output_type": "stream",
     "text": [
      " 45%|████████████████████████████████████                                            | 270/600 [00:15<00:19, 16.55it/s]"
     ]
    },
    {
     "name": "stdout",
     "output_type": "stream",
     "text": [
      "Validation loss decreased (0.121410 --> 0.121410).  Saving model ...\n",
      "Validation loss decreased (0.121285 --> 0.121285).  Saving model ...\n",
      "Validation loss decreased (0.121260 --> 0.121260).  Saving model ...\n",
      "Validation loss decreased (0.121237 --> 0.121237).  Saving model ...\n"
     ]
    },
    {
     "name": "stderr",
     "output_type": "stream",
     "text": [
      " 46%|████████████████████████████████████▊                                           | 276/600 [00:16<00:19, 16.65it/s]"
     ]
    },
    {
     "name": "stdout",
     "output_type": "stream",
     "text": [
      "Validation loss decreased (0.121204 --> 0.121204).  Saving model ...\n",
      "Validation loss decreased (0.120748 --> 0.120748).  Saving model ...\n",
      "Validation loss decreased (0.120665 --> 0.120665).  Saving model ...\n"
     ]
    },
    {
     "name": "stderr",
     "output_type": "stream",
     "text": [
      " 47%|█████████████████████████████████████▎                                          | 280/600 [00:16<00:19, 16.53it/s]"
     ]
    },
    {
     "name": "stdout",
     "output_type": "stream",
     "text": [
      "Validation loss decreased (0.120498 --> 0.120498).  Saving model ...\n",
      "Validation loss decreased (0.120365 --> 0.120365).  Saving model ...\n"
     ]
    },
    {
     "name": "stderr",
     "output_type": "stream",
     "text": [
      " 47%|█████████████████████████████████████▊                                          | 284/600 [00:16<00:18, 17.00it/s]"
     ]
    },
    {
     "name": "stdout",
     "output_type": "stream",
     "text": [
      "Validation loss decreased (0.120308 --> 0.120308).  Saving model ...\n",
      "Validation loss decreased (0.120141 --> 0.120141).  Saving model ...\n"
     ]
    },
    {
     "name": "stderr",
     "output_type": "stream",
     "text": [
      " 48%|██████████████████████████████████████▋                                         | 290/600 [00:17<00:17, 17.23it/s]"
     ]
    },
    {
     "name": "stdout",
     "output_type": "stream",
     "text": [
      "Validation loss decreased (0.119751 --> 0.119751).  Saving model ...\n"
     ]
    },
    {
     "name": "stderr",
     "output_type": "stream",
     "text": [
      " 51%|████████████████████████████████████████▌                                       | 304/600 [00:17<00:16, 17.90it/s]"
     ]
    },
    {
     "name": "stdout",
     "output_type": "stream",
     "text": [
      "Validation loss decreased (0.119723 --> 0.119723).  Saving model ...\n",
      "Validation loss decreased (0.119506 --> 0.119506).  Saving model ...\n",
      "Validation loss decreased (0.119384 --> 0.119384).  Saving model ...\n"
     ]
    },
    {
     "name": "stderr",
     "output_type": "stream",
     "text": [
      " 52%|█████████████████████████████████████████▊                                      | 314/600 [00:18<00:16, 17.69it/s]"
     ]
    },
    {
     "name": "stdout",
     "output_type": "stream",
     "text": [
      "Validation loss decreased (0.119383 --> 0.119383).  Saving model ...\n"
     ]
    },
    {
     "name": "stderr",
     "output_type": "stream",
     "text": [
      " 53%|██████████████████████████████████████████▍                                     | 318/600 [00:18<00:16, 17.31it/s]"
     ]
    },
    {
     "name": "stdout",
     "output_type": "stream",
     "text": [
      "Validation loss decreased (0.119030 --> 0.119030).  Saving model ...\n",
      "Validation loss decreased (0.118924 --> 0.118924).  Saving model ...\n"
     ]
    },
    {
     "name": "stderr",
     "output_type": "stream",
     "text": [
      " 54%|██████████████████████████████████████████▉                                     | 322/600 [00:18<00:16, 17.13it/s]"
     ]
    },
    {
     "name": "stdout",
     "output_type": "stream",
     "text": [
      "Validation loss decreased (0.118841 --> 0.118841).  Saving model ...\n",
      "Validation loss decreased (0.118684 --> 0.118684).  Saving model ...\n"
     ]
    },
    {
     "name": "stderr",
     "output_type": "stream",
     "text": [
      " 56%|████████████████████████████████████████████▊                                   | 336/600 [00:19<00:14, 18.31it/s]"
     ]
    },
    {
     "name": "stdout",
     "output_type": "stream",
     "text": [
      "Validation loss decreased (0.118678 --> 0.118678).  Saving model ...\n",
      "Validation loss decreased (0.118605 --> 0.118605).  Saving model ...\n",
      "Validation loss decreased (0.118566 --> 0.118566).  Saving model ...\n"
     ]
    },
    {
     "name": "stderr",
     "output_type": "stream",
     "text": [
      " 57%|█████████████████████████████████████████████▌                                  | 342/600 [00:20<00:14, 17.93it/s]"
     ]
    },
    {
     "name": "stdout",
     "output_type": "stream",
     "text": [
      "Validation loss decreased (0.118560 --> 0.118560).  Saving model ...\n",
      "Validation loss decreased (0.118509 --> 0.118509).  Saving model ...\n",
      "Validation loss decreased (0.118343 --> 0.118343).  Saving model ...\n"
     ]
    },
    {
     "name": "stderr",
     "output_type": "stream",
     "text": [
      "100%|████████████████████████████████████████████████████████████████████████████████| 600/600 [00:33<00:00, 17.89it/s]\n",
      "  1%|▌                                                                                 | 4/600 [00:00<00:19, 30.92it/s]"
     ]
    },
    {
     "name": "stdout",
     "output_type": "stream",
     "text": [
      "Validation loss decreased (0.696750 --> 0.696750).  Saving model ...\n",
      "Validation loss decreased (0.694156 --> 0.694156).  Saving model ...\n",
      "Validation loss decreased (0.691662 --> 0.691662).  Saving model ...\n",
      "Validation loss decreased (0.689287 --> 0.689287).  Saving model ...\n",
      "Validation loss decreased (0.687002 --> 0.687002).  Saving model ...\n",
      "Validation loss decreased (0.684855 --> 0.684855).  Saving model ...\n",
      "Validation loss decreased (0.682748 --> 0.682748).  Saving model ...\n"
     ]
    },
    {
     "name": "stderr",
     "output_type": "stream",
     "text": [
      "  2%|█▍                                                                               | 11/600 [00:00<00:21, 27.27it/s]"
     ]
    },
    {
     "name": "stdout",
     "output_type": "stream",
     "text": [
      "Validation loss decreased (0.680632 --> 0.680632).  Saving model ...\n",
      "Validation loss decreased (0.678488 --> 0.678488).  Saving model ...\n",
      "Validation loss decreased (0.676405 --> 0.676405).  Saving model ...\n",
      "Validation loss decreased (0.674310 --> 0.674310).  Saving model ...\n",
      "Validation loss decreased (0.672203 --> 0.672203).  Saving model ...\n",
      "Validation loss decreased (0.670086 --> 0.670086).  Saving model ...\n"
     ]
    },
    {
     "name": "stderr",
     "output_type": "stream",
     "text": [
      "  3%|██▎                                                                              | 17/600 [00:00<00:21, 26.77it/s]"
     ]
    },
    {
     "name": "stdout",
     "output_type": "stream",
     "text": [
      "Validation loss decreased (0.667903 --> 0.667903).  Saving model ...\n",
      "Validation loss decreased (0.665583 --> 0.665583).  Saving model ...\n",
      "Validation loss decreased (0.663146 --> 0.663146).  Saving model ...\n",
      "Validation loss decreased (0.660518 --> 0.660518).  Saving model ...\n",
      "Validation loss decreased (0.657738 --> 0.657738).  Saving model ...\n",
      "Validation loss decreased (0.654876 --> 0.654876).  Saving model ...\n"
     ]
    },
    {
     "name": "stderr",
     "output_type": "stream",
     "text": [
      "  4%|███                                                                              | 23/600 [00:00<00:21, 26.65it/s]"
     ]
    },
    {
     "name": "stdout",
     "output_type": "stream",
     "text": [
      "Validation loss decreased (0.651955 --> 0.651955).  Saving model ...\n",
      "Validation loss decreased (0.648880 --> 0.648880).  Saving model ...\n",
      "Validation loss decreased (0.645698 --> 0.645698).  Saving model ...\n",
      "Validation loss decreased (0.642458 --> 0.642458).  Saving model ...\n",
      "Validation loss decreased (0.639206 --> 0.639206).  Saving model ...\n",
      "Validation loss decreased (0.635912 --> 0.635912).  Saving model ...\n"
     ]
    },
    {
     "name": "stderr",
     "output_type": "stream",
     "text": [
      "  5%|███▉                                                                             | 29/600 [00:01<00:21, 26.32it/s]"
     ]
    },
    {
     "name": "stdout",
     "output_type": "stream",
     "text": [
      "Validation loss decreased (0.632608 --> 0.632608).  Saving model ...\n",
      "Validation loss decreased (0.629330 --> 0.629330).  Saving model ...\n",
      "Validation loss decreased (0.625907 --> 0.625907).  Saving model ...\n",
      "Validation loss decreased (0.622362 --> 0.622362).  Saving model ...\n",
      "Validation loss decreased (0.618807 --> 0.618807).  Saving model ...\n",
      "Validation loss decreased (0.615187 --> 0.615187).  Saving model ...\n"
     ]
    },
    {
     "name": "stderr",
     "output_type": "stream",
     "text": [
      "  6%|████▋                                                                            | 35/600 [00:01<00:21, 26.37it/s]"
     ]
    },
    {
     "name": "stdout",
     "output_type": "stream",
     "text": [
      "Validation loss decreased (0.611513 --> 0.611513).  Saving model ...\n",
      "Validation loss decreased (0.607818 --> 0.607818).  Saving model ...\n",
      "Validation loss decreased (0.603962 --> 0.603962).  Saving model ...\n",
      "Validation loss decreased (0.599917 --> 0.599917).  Saving model ...\n",
      "Validation loss decreased (0.595851 --> 0.595851).  Saving model ...\n",
      "Validation loss decreased (0.591516 --> 0.591516).  Saving model ...\n"
     ]
    },
    {
     "name": "stderr",
     "output_type": "stream",
     "text": [
      "  7%|█████▌                                                                           | 41/600 [00:01<00:21, 25.86it/s]"
     ]
    },
    {
     "name": "stdout",
     "output_type": "stream",
     "text": [
      "Validation loss decreased (0.587104 --> 0.587104).  Saving model ...\n",
      "Validation loss decreased (0.582521 --> 0.582521).  Saving model ...\n",
      "Validation loss decreased (0.577796 --> 0.577796).  Saving model ...\n",
      "Validation loss decreased (0.572969 --> 0.572969).  Saving model ...\n",
      "Validation loss decreased (0.568091 --> 0.568091).  Saving model ...\n",
      "Validation loss decreased (0.563091 --> 0.563091).  Saving model ...\n"
     ]
    },
    {
     "name": "stderr",
     "output_type": "stream",
     "text": [
      "  8%|██████▎                                                                          | 47/600 [00:01<00:20, 26.61it/s]"
     ]
    },
    {
     "name": "stdout",
     "output_type": "stream",
     "text": [
      "Validation loss decreased (0.558085 --> 0.558085).  Saving model ...\n",
      "Validation loss decreased (0.552942 --> 0.552942).  Saving model ...\n",
      "Validation loss decreased (0.547621 --> 0.547621).  Saving model ...\n",
      "Validation loss decreased (0.542221 --> 0.542221).  Saving model ...\n",
      "Validation loss decreased (0.536463 --> 0.536463).  Saving model ...\n",
      "Validation loss decreased (0.530631 --> 0.530631).  Saving model ...\n"
     ]
    },
    {
     "name": "stderr",
     "output_type": "stream",
     "text": [
      "  9%|███████▏                                                                         | 53/600 [00:01<00:20, 26.62it/s]"
     ]
    },
    {
     "name": "stdout",
     "output_type": "stream",
     "text": [
      "Validation loss decreased (0.524729 --> 0.524729).  Saving model ...\n",
      "Validation loss decreased (0.518670 --> 0.518670).  Saving model ...\n",
      "Validation loss decreased (0.512414 --> 0.512414).  Saving model ...\n",
      "Validation loss decreased (0.506091 --> 0.506091).  Saving model ...\n",
      "Validation loss decreased (0.499874 --> 0.499874).  Saving model ...\n",
      "Validation loss decreased (0.493378 --> 0.493378).  Saving model ...\n"
     ]
    },
    {
     "name": "stderr",
     "output_type": "stream",
     "text": [
      " 10%|███████▉                                                                         | 59/600 [00:02<00:20, 27.03it/s]"
     ]
    },
    {
     "name": "stdout",
     "output_type": "stream",
     "text": [
      "Validation loss decreased (0.486894 --> 0.486894).  Saving model ...\n",
      "Validation loss decreased (0.480435 --> 0.480435).  Saving model ...\n",
      "Validation loss decreased (0.474075 --> 0.474075).  Saving model ...\n",
      "Validation loss decreased (0.467631 --> 0.467631).  Saving model ...\n",
      "Validation loss decreased (0.461068 --> 0.461068).  Saving model ...\n",
      "Validation loss decreased (0.453964 --> 0.453964).  Saving model ...\n"
     ]
    },
    {
     "name": "stderr",
     "output_type": "stream",
     "text": [
      " 11%|████████▊                                                                        | 65/600 [00:02<00:20, 26.72it/s]"
     ]
    },
    {
     "name": "stdout",
     "output_type": "stream",
     "text": [
      "Validation loss decreased (0.446960 --> 0.446960).  Saving model ...\n",
      "Validation loss decreased (0.440167 --> 0.440167).  Saving model ...\n",
      "Validation loss decreased (0.433393 --> 0.433393).  Saving model ...\n",
      "Validation loss decreased (0.426949 --> 0.426949).  Saving model ...\n",
      "Validation loss decreased (0.420580 --> 0.420580).  Saving model ...\n",
      "Validation loss decreased (0.414066 --> 0.414066).  Saving model ...\n"
     ]
    },
    {
     "name": "stderr",
     "output_type": "stream",
     "text": [
      " 12%|█████████▌                                                                       | 71/600 [00:02<00:20, 25.85it/s]"
     ]
    },
    {
     "name": "stdout",
     "output_type": "stream",
     "text": [
      "Validation loss decreased (0.406782 --> 0.406782).  Saving model ...\n",
      "Validation loss decreased (0.399396 --> 0.399396).  Saving model ...\n",
      "Validation loss decreased (0.392709 --> 0.392709).  Saving model ...\n",
      "Validation loss decreased (0.386140 --> 0.386140).  Saving model ...\n",
      "Validation loss decreased (0.379448 --> 0.379448).  Saving model ...\n",
      "Validation loss decreased (0.372776 --> 0.372776).  Saving model ...\n"
     ]
    },
    {
     "name": "stderr",
     "output_type": "stream",
     "text": [
      " 13%|██████████▍                                                                      | 77/600 [00:02<00:20, 26.06it/s]"
     ]
    },
    {
     "name": "stdout",
     "output_type": "stream",
     "text": [
      "Validation loss decreased (0.366094 --> 0.366094).  Saving model ...\n",
      "Validation loss decreased (0.359836 --> 0.359836).  Saving model ...\n",
      "Validation loss decreased (0.353624 --> 0.353624).  Saving model ...\n",
      "Validation loss decreased (0.347226 --> 0.347226).  Saving model ...\n",
      "Validation loss decreased (0.341215 --> 0.341215).  Saving model ...\n",
      "Validation loss decreased (0.335482 --> 0.335482).  Saving model ...\n"
     ]
    },
    {
     "name": "stderr",
     "output_type": "stream",
     "text": [
      " 14%|███████████▏                                                                     | 83/600 [00:03<00:19, 26.49it/s]"
     ]
    },
    {
     "name": "stdout",
     "output_type": "stream",
     "text": [
      "Validation loss decreased (0.329680 --> 0.329680).  Saving model ...\n",
      "Validation loss decreased (0.324359 --> 0.324359).  Saving model ...\n",
      "Validation loss decreased (0.319158 --> 0.319158).  Saving model ...\n",
      "Validation loss decreased (0.314126 --> 0.314126).  Saving model ...\n",
      "Validation loss decreased (0.309048 --> 0.309048).  Saving model ...\n",
      "Validation loss decreased (0.303998 --> 0.303998).  Saving model ...\n"
     ]
    },
    {
     "name": "stderr",
     "output_type": "stream",
     "text": [
      " 15%|████████████                                                                     | 89/600 [00:03<00:19, 26.03it/s]"
     ]
    },
    {
     "name": "stdout",
     "output_type": "stream",
     "text": [
      "Validation loss decreased (0.299264 --> 0.299264).  Saving model ...\n",
      "Validation loss decreased (0.294754 --> 0.294754).  Saving model ...\n",
      "Validation loss decreased (0.290257 --> 0.290257).  Saving model ...\n",
      "Validation loss decreased (0.285821 --> 0.285821).  Saving model ...\n",
      "Validation loss decreased (0.281819 --> 0.281819).  Saving model ...\n",
      "Validation loss decreased (0.277883 --> 0.277883).  Saving model ...\n"
     ]
    },
    {
     "name": "stderr",
     "output_type": "stream",
     "text": [
      " 16%|█████████████▏                                                                   | 98/600 [00:03<00:18, 26.95it/s]"
     ]
    },
    {
     "name": "stdout",
     "output_type": "stream",
     "text": [
      "Validation loss decreased (0.273592 --> 0.273592).  Saving model ...\n",
      "Validation loss decreased (0.269518 --> 0.269518).  Saving model ...\n",
      "Validation loss decreased (0.265656 --> 0.265656).  Saving model ...\n",
      "Validation loss decreased (0.261974 --> 0.261974).  Saving model ...\n",
      "Validation loss decreased (0.258272 --> 0.258272).  Saving model ...\n",
      "Validation loss decreased (0.254596 --> 0.254596).  Saving model ...\n",
      "Validation loss decreased (0.250992 --> 0.250992).  Saving model ...\n"
     ]
    },
    {
     "name": "stderr",
     "output_type": "stream",
     "text": [
      " 17%|█████████████▍                                                                  | 101/600 [00:03<00:20, 23.96it/s]"
     ]
    },
    {
     "name": "stdout",
     "output_type": "stream",
     "text": [
      "Validation loss decreased (0.247667 --> 0.247667).  Saving model ...\n",
      "Validation loss decreased (0.244548 --> 0.244548).  Saving model ...\n",
      "Validation loss decreased (0.241678 --> 0.241678).  Saving model ...\n",
      "Validation loss decreased (0.238842 --> 0.238842).  Saving model ...\n",
      "Validation loss decreased (0.236039 --> 0.236039).  Saving model ...\n"
     ]
    },
    {
     "name": "stderr",
     "output_type": "stream",
     "text": [
      " 18%|██████████████▎                                                                 | 107/600 [00:04<00:20, 24.59it/s]"
     ]
    },
    {
     "name": "stdout",
     "output_type": "stream",
     "text": [
      "Validation loss decreased (0.233275 --> 0.233275).  Saving model ...\n",
      "Validation loss decreased (0.230504 --> 0.230504).  Saving model ...\n",
      "Validation loss decreased (0.228068 --> 0.228068).  Saving model ...\n",
      "Validation loss decreased (0.225666 --> 0.225666).  Saving model ...\n",
      "Validation loss decreased (0.223187 --> 0.223187).  Saving model ...\n",
      "Validation loss decreased (0.220961 --> 0.220961).  Saving model ...\n"
     ]
    },
    {
     "name": "stderr",
     "output_type": "stream",
     "text": [
      " 19%|███████████████                                                                 | 113/600 [00:04<00:19, 24.49it/s]"
     ]
    },
    {
     "name": "stdout",
     "output_type": "stream",
     "text": [
      "Validation loss decreased (0.218999 --> 0.218999).  Saving model ...\n",
      "Validation loss decreased (0.216735 --> 0.216735).  Saving model ...\n",
      "Validation loss decreased (0.214572 --> 0.214572).  Saving model ...\n",
      "Validation loss decreased (0.212311 --> 0.212311).  Saving model ...\n",
      "Validation loss decreased (0.210326 --> 0.210326).  Saving model ...\n"
     ]
    },
    {
     "name": "stderr",
     "output_type": "stream",
     "text": [
      " 20%|███████████████▊                                                                | 119/600 [00:04<00:19, 24.94it/s]"
     ]
    },
    {
     "name": "stdout",
     "output_type": "stream",
     "text": [
      "Validation loss decreased (0.208367 --> 0.208367).  Saving model ...\n",
      "Validation loss decreased (0.206462 --> 0.206462).  Saving model ...\n",
      "Validation loss decreased (0.204640 --> 0.204640).  Saving model ...\n",
      "Validation loss decreased (0.202894 --> 0.202894).  Saving model ...\n",
      "Validation loss decreased (0.201259 --> 0.201259).  Saving model ...\n",
      "Validation loss decreased (0.199725 --> 0.199725).  Saving model ...\n"
     ]
    },
    {
     "name": "stderr",
     "output_type": "stream",
     "text": [
      " 21%|████████████████▋                                                               | 125/600 [00:04<00:18, 25.93it/s]"
     ]
    },
    {
     "name": "stdout",
     "output_type": "stream",
     "text": [
      "Validation loss decreased (0.198245 --> 0.198245).  Saving model ...\n",
      "Validation loss decreased (0.196773 --> 0.196773).  Saving model ...\n",
      "Validation loss decreased (0.195340 --> 0.195340).  Saving model ...\n",
      "Validation loss decreased (0.193992 --> 0.193992).  Saving model ...\n",
      "Validation loss decreased (0.192528 --> 0.192528).  Saving model ...\n",
      "Validation loss decreased (0.191159 --> 0.191159).  Saving model ...\n"
     ]
    },
    {
     "name": "stderr",
     "output_type": "stream",
     "text": [
      " 22%|█████████████████▍                                                              | 131/600 [00:05<00:17, 26.11it/s]"
     ]
    },
    {
     "name": "stdout",
     "output_type": "stream",
     "text": [
      "Validation loss decreased (0.189925 --> 0.189925).  Saving model ...\n",
      "Validation loss decreased (0.188628 --> 0.188628).  Saving model ...\n",
      "Validation loss decreased (0.187387 --> 0.187387).  Saving model ...\n",
      "Validation loss decreased (0.186083 --> 0.186083).  Saving model ...\n",
      "Validation loss decreased (0.184917 --> 0.184917).  Saving model ...\n",
      "Validation loss decreased (0.183845 --> 0.183845).  Saving model ...\n"
     ]
    },
    {
     "name": "stderr",
     "output_type": "stream",
     "text": [
      " 23%|██████████████████▎                                                             | 137/600 [00:05<00:17, 26.98it/s]"
     ]
    },
    {
     "name": "stdout",
     "output_type": "stream",
     "text": [
      "Validation loss decreased (0.183273 --> 0.183273).  Saving model ...\n",
      "Validation loss decreased (0.182717 --> 0.182717).  Saving model ...\n",
      "Validation loss decreased (0.181548 --> 0.181548).  Saving model ...\n",
      "Validation loss decreased (0.180247 --> 0.180247).  Saving model ...\n",
      "Validation loss decreased (0.179092 --> 0.179092).  Saving model ...\n",
      "Validation loss decreased (0.177836 --> 0.177836).  Saving model ...\n"
     ]
    },
    {
     "name": "stderr",
     "output_type": "stream",
     "text": [
      " 24%|███████████████████                                                             | 143/600 [00:05<00:16, 27.11it/s]"
     ]
    },
    {
     "name": "stdout",
     "output_type": "stream",
     "text": [
      "Validation loss decreased (0.176472 --> 0.176472).  Saving model ...\n",
      "Validation loss decreased (0.175446 --> 0.175446).  Saving model ...\n",
      "Validation loss decreased (0.174438 --> 0.174438).  Saving model ...\n",
      "Validation loss decreased (0.173498 --> 0.173498).  Saving model ...\n",
      "Validation loss decreased (0.172623 --> 0.172623).  Saving model ...\n",
      "Validation loss decreased (0.171698 --> 0.171698).  Saving model ...\n"
     ]
    },
    {
     "name": "stderr",
     "output_type": "stream",
     "text": [
      " 25%|███████████████████▊                                                            | 149/600 [00:05<00:17, 26.26it/s]"
     ]
    },
    {
     "name": "stdout",
     "output_type": "stream",
     "text": [
      "Validation loss decreased (0.170787 --> 0.170787).  Saving model ...\n",
      "Validation loss decreased (0.169869 --> 0.169869).  Saving model ...\n",
      "Validation loss decreased (0.168933 --> 0.168933).  Saving model ...\n",
      "Validation loss decreased (0.168163 --> 0.168163).  Saving model ...\n",
      "Validation loss decreased (0.167296 --> 0.167296).  Saving model ...\n",
      "Validation loss decreased (0.166640 --> 0.166640).  Saving model ...\n"
     ]
    },
    {
     "name": "stderr",
     "output_type": "stream",
     "text": [
      " 26%|████████████████████▋                                                           | 155/600 [00:05<00:16, 26.26it/s]"
     ]
    },
    {
     "name": "stdout",
     "output_type": "stream",
     "text": [
      "Validation loss decreased (0.166046 --> 0.166046).  Saving model ...\n",
      "Validation loss decreased (0.165366 --> 0.165366).  Saving model ...\n",
      "Validation loss decreased (0.164762 --> 0.164762).  Saving model ...\n",
      "Validation loss decreased (0.164207 --> 0.164207).  Saving model ...\n",
      "Validation loss decreased (0.163600 --> 0.163600).  Saving model ...\n",
      "Validation loss decreased (0.163128 --> 0.163128).  Saving model ...\n"
     ]
    },
    {
     "name": "stderr",
     "output_type": "stream",
     "text": [
      " 27%|█████████████████████▍                                                          | 161/600 [00:06<00:16, 26.33it/s]"
     ]
    },
    {
     "name": "stdout",
     "output_type": "stream",
     "text": [
      "Validation loss decreased (0.162496 --> 0.162496).  Saving model ...\n",
      "Validation loss decreased (0.162236 --> 0.162236).  Saving model ...\n",
      "Validation loss decreased (0.161547 --> 0.161547).  Saving model ...\n",
      "Validation loss decreased (0.160814 --> 0.160814).  Saving model ...\n",
      "Validation loss decreased (0.160103 --> 0.160103).  Saving model ...\n",
      "Validation loss decreased (0.159748 --> 0.159748).  Saving model ...\n"
     ]
    },
    {
     "name": "stderr",
     "output_type": "stream",
     "text": [
      " 28%|██████████████████████▎                                                         | 167/600 [00:06<00:16, 25.71it/s]"
     ]
    },
    {
     "name": "stdout",
     "output_type": "stream",
     "text": [
      "Validation loss decreased (0.159255 --> 0.159255).  Saving model ...\n",
      "Validation loss decreased (0.158594 --> 0.158594).  Saving model ...\n",
      "Validation loss decreased (0.157953 --> 0.157953).  Saving model ...\n",
      "Validation loss decreased (0.157402 --> 0.157402).  Saving model ...\n",
      "Validation loss decreased (0.157017 --> 0.157017).  Saving model ...\n",
      "Validation loss decreased (0.156709 --> 0.156709).  Saving model ...\n"
     ]
    },
    {
     "name": "stderr",
     "output_type": "stream",
     "text": [
      " 29%|███████████████████████                                                         | 173/600 [00:06<00:16, 26.04it/s]"
     ]
    },
    {
     "name": "stdout",
     "output_type": "stream",
     "text": [
      "Validation loss decreased (0.156159 --> 0.156159).  Saving model ...\n",
      "Validation loss decreased (0.155738 --> 0.155738).  Saving model ...\n",
      "Validation loss decreased (0.155320 --> 0.155320).  Saving model ...\n",
      "Validation loss decreased (0.154835 --> 0.154835).  Saving model ...\n",
      "Validation loss decreased (0.154499 --> 0.154499).  Saving model ...\n",
      "Validation loss decreased (0.153831 --> 0.153831).  Saving model ...\n"
     ]
    },
    {
     "name": "stderr",
     "output_type": "stream",
     "text": [
      " 30%|███████████████████████▊                                                        | 179/600 [00:06<00:16, 25.87it/s]"
     ]
    },
    {
     "name": "stdout",
     "output_type": "stream",
     "text": [
      "Validation loss decreased (0.153289 --> 0.153289).  Saving model ...\n",
      "Validation loss decreased (0.152880 --> 0.152880).  Saving model ...\n",
      "Validation loss decreased (0.152486 --> 0.152486).  Saving model ...\n",
      "Validation loss decreased (0.152100 --> 0.152100).  Saving model ...\n",
      "Validation loss decreased (0.151671 --> 0.151671).  Saving model ...\n"
     ]
    },
    {
     "name": "stderr",
     "output_type": "stream",
     "text": [
      " 31%|████████████████████████▋                                                       | 185/600 [00:07<00:15, 26.12it/s]"
     ]
    },
    {
     "name": "stdout",
     "output_type": "stream",
     "text": [
      "Validation loss decreased (0.151233 --> 0.151233).  Saving model ...\n",
      "Validation loss decreased (0.150848 --> 0.150848).  Saving model ...\n",
      "Validation loss decreased (0.150633 --> 0.150633).  Saving model ...\n",
      "Validation loss decreased (0.150314 --> 0.150314).  Saving model ...\n",
      "Validation loss decreased (0.149903 --> 0.149903).  Saving model ...\n",
      "Validation loss decreased (0.149573 --> 0.149573).  Saving model ...\n"
     ]
    },
    {
     "name": "stderr",
     "output_type": "stream",
     "text": [
      " 31%|█████████████████████████                                                       | 188/600 [00:07<00:15, 26.13it/s]"
     ]
    },
    {
     "name": "stdout",
     "output_type": "stream",
     "text": [
      "Validation loss decreased (0.149292 --> 0.149292).  Saving model ...\n",
      "Validation loss decreased (0.149042 --> 0.149042).  Saving model ...\n",
      "Validation loss decreased (0.148780 --> 0.148780).  Saving model ...\n",
      "Validation loss decreased (0.148448 --> 0.148448).  Saving model ...\n",
      "Validation loss decreased (0.148045 --> 0.148045).  Saving model ...\n"
     ]
    },
    {
     "name": "stderr",
     "output_type": "stream",
     "text": [
      " 32%|█████████████████████████▊                                                      | 194/600 [00:07<00:16, 24.73it/s]"
     ]
    },
    {
     "name": "stdout",
     "output_type": "stream",
     "text": [
      "Validation loss decreased (0.147622 --> 0.147622).  Saving model ...\n",
      "Validation loss decreased (0.147167 --> 0.147167).  Saving model ...\n",
      "Validation loss decreased (0.146724 --> 0.146724).  Saving model ...\n",
      "Validation loss decreased (0.146452 --> 0.146452).  Saving model ...\n",
      "Validation loss decreased (0.146130 --> 0.146130).  Saving model ...\n",
      "Validation loss decreased (0.145988 --> 0.145988).  Saving model ...\n"
     ]
    },
    {
     "name": "stderr",
     "output_type": "stream",
     "text": [
      " 33%|██████████████████████████▋                                                     | 200/600 [00:07<00:15, 25.79it/s]"
     ]
    },
    {
     "name": "stdout",
     "output_type": "stream",
     "text": [
      "Validation loss decreased (0.145394 --> 0.145394).  Saving model ...\n",
      "Validation loss decreased (0.144916 --> 0.144916).  Saving model ...\n",
      "Validation loss decreased (0.144723 --> 0.144723).  Saving model ...\n",
      "Validation loss decreased (0.144429 --> 0.144429).  Saving model ...\n",
      "Validation loss decreased (0.144144 --> 0.144144).  Saving model ...\n",
      "Validation loss decreased (0.143868 --> 0.143868).  Saving model ...\n"
     ]
    },
    {
     "name": "stderr",
     "output_type": "stream",
     "text": [
      " 34%|███████████████████████████▍                                                    | 206/600 [00:07<00:15, 26.00it/s]"
     ]
    },
    {
     "name": "stdout",
     "output_type": "stream",
     "text": [
      "Validation loss decreased (0.143749 --> 0.143749).  Saving model ...\n",
      "Validation loss decreased (0.143445 --> 0.143445).  Saving model ...\n",
      "Validation loss decreased (0.143066 --> 0.143066).  Saving model ...\n",
      "Validation loss decreased (0.142857 --> 0.142857).  Saving model ...\n",
      "Validation loss decreased (0.142529 --> 0.142529).  Saving model ...\n",
      "Validation loss decreased (0.142119 --> 0.142119).  Saving model ...\n"
     ]
    },
    {
     "name": "stderr",
     "output_type": "stream",
     "text": [
      " 35%|████████████████████████████▎                                                   | 212/600 [00:08<00:15, 25.67it/s]"
     ]
    },
    {
     "name": "stdout",
     "output_type": "stream",
     "text": [
      "Validation loss decreased (0.141878 --> 0.141878).  Saving model ...\n",
      "Validation loss decreased (0.141670 --> 0.141670).  Saving model ...\n",
      "Validation loss decreased (0.141455 --> 0.141455).  Saving model ...\n",
      "Validation loss decreased (0.141281 --> 0.141281).  Saving model ...\n",
      "Validation loss decreased (0.141115 --> 0.141115).  Saving model ...\n",
      "Validation loss decreased (0.141001 --> 0.141001).  Saving model ...\n"
     ]
    },
    {
     "name": "stderr",
     "output_type": "stream",
     "text": [
      " 36%|█████████████████████████████                                                   | 218/600 [00:08<00:15, 25.42it/s]"
     ]
    },
    {
     "name": "stdout",
     "output_type": "stream",
     "text": [
      "Validation loss decreased (0.140884 --> 0.140884).  Saving model ...\n",
      "Validation loss decreased (0.140653 --> 0.140653).  Saving model ...\n",
      "Validation loss decreased (0.140641 --> 0.140641).  Saving model ...\n",
      "Validation loss decreased (0.140478 --> 0.140478).  Saving model ...\n",
      "Validation loss decreased (0.140125 --> 0.140125).  Saving model ...\n"
     ]
    },
    {
     "name": "stderr",
     "output_type": "stream",
     "text": [
      " 37%|█████████████████████████████▊                                                  | 224/600 [00:08<00:14, 25.21it/s]"
     ]
    },
    {
     "name": "stdout",
     "output_type": "stream",
     "text": [
      "Validation loss decreased (0.139916 --> 0.139916).  Saving model ...\n",
      "Validation loss decreased (0.139726 --> 0.139726).  Saving model ...\n",
      "Validation loss decreased (0.139533 --> 0.139533).  Saving model ...\n",
      "Validation loss decreased (0.139437 --> 0.139437).  Saving model ...\n",
      "Validation loss decreased (0.139334 --> 0.139334).  Saving model ...\n",
      "Validation loss decreased (0.139289 --> 0.139289).  Saving model ...\n"
     ]
    },
    {
     "name": "stderr",
     "output_type": "stream",
     "text": [
      " 38%|██████████████████████████████▋                                                 | 230/600 [00:08<00:14, 26.22it/s]"
     ]
    },
    {
     "name": "stdout",
     "output_type": "stream",
     "text": [
      "Validation loss decreased (0.139276 --> 0.139276).  Saving model ...\n",
      "Validation loss decreased (0.138839 --> 0.138839).  Saving model ...\n",
      "Validation loss decreased (0.138634 --> 0.138634).  Saving model ...\n",
      "Validation loss decreased (0.138340 --> 0.138340).  Saving model ...\n",
      "Validation loss decreased (0.138186 --> 0.138186).  Saving model ...\n"
     ]
    },
    {
     "name": "stderr",
     "output_type": "stream",
     "text": [
      " 40%|████████████████████████████████▎                                               | 242/600 [00:09<00:13, 27.01it/s]"
     ]
    },
    {
     "name": "stdout",
     "output_type": "stream",
     "text": [
      "Validation loss decreased (0.137939 --> 0.137939).  Saving model ...\n",
      "Validation loss decreased (0.136981 --> 0.136981).  Saving model ...\n",
      "Validation loss decreased (0.136814 --> 0.136814).  Saving model ...\n",
      "Validation loss decreased (0.136434 --> 0.136434).  Saving model ...\n"
     ]
    },
    {
     "name": "stderr",
     "output_type": "stream",
     "text": [
      " 41%|█████████████████████████████████                                               | 248/600 [00:09<00:13, 26.69it/s]"
     ]
    },
    {
     "name": "stdout",
     "output_type": "stream",
     "text": [
      "Validation loss decreased (0.136341 --> 0.136341).  Saving model ...\n",
      "Validation loss decreased (0.136246 --> 0.136246).  Saving model ...\n",
      "Validation loss decreased (0.136044 --> 0.136044).  Saving model ...\n",
      "Validation loss decreased (0.135760 --> 0.135760).  Saving model ...\n",
      "Validation loss decreased (0.135572 --> 0.135572).  Saving model ...\n"
     ]
    },
    {
     "name": "stderr",
     "output_type": "stream",
     "text": [
      " 43%|██████████████████████████████████▎                                             | 257/600 [00:09<00:12, 27.52it/s]"
     ]
    },
    {
     "name": "stdout",
     "output_type": "stream",
     "text": [
      "Validation loss decreased (0.135316 --> 0.135316).  Saving model ...\n",
      "Validation loss decreased (0.135182 --> 0.135182).  Saving model ...\n",
      "Validation loss decreased (0.135067 --> 0.135067).  Saving model ...\n",
      "Validation loss decreased (0.135064 --> 0.135064).  Saving model ...\n",
      "Validation loss decreased (0.134904 --> 0.134904).  Saving model ...\n",
      "Validation loss decreased (0.134593 --> 0.134593).  Saving model ...\n"
     ]
    },
    {
     "name": "stderr",
     "output_type": "stream",
     "text": [
      " 44%|███████████████████████████████████▍                                            | 266/600 [00:10<00:12, 27.51it/s]"
     ]
    },
    {
     "name": "stdout",
     "output_type": "stream",
     "text": [
      "Validation loss decreased (0.134279 --> 0.134279).  Saving model ...\n",
      "Validation loss decreased (0.133986 --> 0.133986).  Saving model ...\n",
      "Validation loss decreased (0.133894 --> 0.133894).  Saving model ...\n",
      "Validation loss decreased (0.133736 --> 0.133736).  Saving model ...\n",
      "Validation loss decreased (0.133620 --> 0.133620).  Saving model ...\n"
     ]
    },
    {
     "name": "stderr",
     "output_type": "stream",
     "text": [
      " 45%|████████████████████████████████████▎                                           | 272/600 [00:10<00:11, 27.54it/s]"
     ]
    },
    {
     "name": "stdout",
     "output_type": "stream",
     "text": [
      "Validation loss decreased (0.133401 --> 0.133401).  Saving model ...\n",
      "Validation loss decreased (0.133164 --> 0.133164).  Saving model ...\n",
      "Validation loss decreased (0.133111 --> 0.133111).  Saving model ...\n",
      "Validation loss decreased (0.132934 --> 0.132934).  Saving model ...\n"
     ]
    },
    {
     "name": "stderr",
     "output_type": "stream",
     "text": [
      " 47%|█████████████████████████████████████▊                                          | 284/600 [00:10<00:12, 25.78it/s]"
     ]
    },
    {
     "name": "stdout",
     "output_type": "stream",
     "text": [
      "Validation loss decreased (0.132870 --> 0.132870).  Saving model ...\n",
      "Validation loss decreased (0.132279 --> 0.132279).  Saving model ...\n",
      "Validation loss decreased (0.131974 --> 0.131974).  Saving model ...\n",
      "Validation loss decreased (0.131858 --> 0.131858).  Saving model ...\n",
      "Validation loss decreased (0.131742 --> 0.131742).  Saving model ...\n",
      "Validation loss decreased (0.131646 --> 0.131646).  Saving model ...\n"
     ]
    },
    {
     "name": "stderr",
     "output_type": "stream",
     "text": [
      " 48%|██████████████████████████████████████▋                                         | 290/600 [00:11<00:11, 26.14it/s]"
     ]
    },
    {
     "name": "stdout",
     "output_type": "stream",
     "text": [
      "Validation loss decreased (0.131540 --> 0.131540).  Saving model ...\n",
      "Validation loss decreased (0.131411 --> 0.131411).  Saving model ...\n",
      "Validation loss decreased (0.131291 --> 0.131291).  Saving model ...\n"
     ]
    },
    {
     "name": "stderr",
     "output_type": "stream",
     "text": [
      " 49%|███████████████████████████████████████▍                                        | 296/600 [00:11<00:11, 26.42it/s]"
     ]
    },
    {
     "name": "stdout",
     "output_type": "stream",
     "text": [
      "Validation loss decreased (0.131251 --> 0.131251).  Saving model ...\n",
      "Validation loss decreased (0.131044 --> 0.131044).  Saving model ...\n",
      "Validation loss decreased (0.130960 --> 0.130960).  Saving model ...\n"
     ]
    },
    {
     "name": "stderr",
     "output_type": "stream",
     "text": [
      " 51%|█████████████████████████████████████████                                       | 308/600 [00:11<00:10, 26.90it/s]"
     ]
    },
    {
     "name": "stdout",
     "output_type": "stream",
     "text": [
      "Validation loss decreased (0.130838 --> 0.130838).  Saving model ...\n",
      "Validation loss decreased (0.130797 --> 0.130797).  Saving model ...\n",
      "Validation loss decreased (0.130719 --> 0.130719).  Saving model ...\n"
     ]
    },
    {
     "name": "stderr",
     "output_type": "stream",
     "text": [
      " 52%|█████████████████████████████████████████▊                                      | 314/600 [00:11<00:10, 27.18it/s]"
     ]
    },
    {
     "name": "stdout",
     "output_type": "stream",
     "text": [
      "Validation loss decreased (0.130549 --> 0.130549).  Saving model ...\n",
      "Validation loss decreased (0.130435 --> 0.130435).  Saving model ...\n",
      "Validation loss decreased (0.130370 --> 0.130370).  Saving model ...\n",
      "Validation loss decreased (0.130361 --> 0.130361).  Saving model ...\n",
      "Validation loss decreased (0.130360 --> 0.130360).  Saving model ...\n",
      "Validation loss decreased (0.130344 --> 0.130344).  Saving model ...\n"
     ]
    },
    {
     "name": "stderr",
     "output_type": "stream",
     "text": [
      " 54%|███████████████████████████████████████████                                     | 323/600 [00:12<00:10, 26.31it/s]"
     ]
    },
    {
     "name": "stdout",
     "output_type": "stream",
     "text": [
      "Validation loss decreased (0.130271 --> 0.130271).  Saving model ...\n",
      "Validation loss decreased (0.130209 --> 0.130209).  Saving model ...\n"
     ]
    },
    {
     "name": "stderr",
     "output_type": "stream",
     "text": [
      " 56%|████████████████████████████████████████████▋                                   | 335/600 [00:12<00:09, 27.19it/s]"
     ]
    },
    {
     "name": "stdout",
     "output_type": "stream",
     "text": [
      "Validation loss decreased (0.130130 --> 0.130130).  Saving model ...\n",
      "Validation loss decreased (0.129921 --> 0.129921).  Saving model ...\n",
      "Validation loss decreased (0.129908 --> 0.129908).  Saving model ...\n",
      "Validation loss decreased (0.129889 --> 0.129889).  Saving model ...\n"
     ]
    },
    {
     "name": "stderr",
     "output_type": "stream",
     "text": [
      " 57%|█████████████████████████████████████████████▌                                  | 342/600 [00:12<00:09, 27.01it/s]"
     ]
    },
    {
     "name": "stdout",
     "output_type": "stream",
     "text": [
      "Validation loss decreased (0.129870 --> 0.129870).  Saving model ...\n",
      "Validation loss decreased (0.129770 --> 0.129770).  Saving model ...\n",
      "Validation loss decreased (0.129755 --> 0.129755).  Saving model ...\n",
      "Validation loss decreased (0.129704 --> 0.129704).  Saving model ...\n",
      "Validation loss decreased (0.129619 --> 0.129619).  Saving model ...\n"
     ]
    },
    {
     "name": "stderr",
     "output_type": "stream",
     "text": [
      " 58%|██████████████████████████████████████████████▍                                 | 348/600 [00:13<00:09, 26.37it/s]"
     ]
    },
    {
     "name": "stdout",
     "output_type": "stream",
     "text": [
      "Validation loss decreased (0.129575 --> 0.129575).  Saving model ...\n",
      "Validation loss decreased (0.129515 --> 0.129515).  Saving model ...\n",
      "Validation loss decreased (0.129492 --> 0.129492).  Saving model ...\n",
      "Validation loss decreased (0.129457 --> 0.129457).  Saving model ...\n",
      "Validation loss decreased (0.129429 --> 0.129429).  Saving model ...\n"
     ]
    },
    {
     "name": "stderr",
     "output_type": "stream",
     "text": [
      " 60%|███████████████████████████████████████████████▌                                | 357/600 [00:13<00:09, 26.50it/s]"
     ]
    },
    {
     "name": "stdout",
     "output_type": "stream",
     "text": [
      "Validation loss decreased (0.129388 --> 0.129388).  Saving model ...\n",
      "Validation loss decreased (0.129309 --> 0.129309).  Saving model ...\n",
      "Validation loss decreased (0.129262 --> 0.129262).  Saving model ...\n"
     ]
    },
    {
     "name": "stderr",
     "output_type": "stream",
     "text": [
      " 61%|████████████████████████████████████████████████▊                               | 366/600 [00:13<00:08, 26.08it/s]"
     ]
    },
    {
     "name": "stdout",
     "output_type": "stream",
     "text": [
      "Validation loss decreased (0.129130 --> 0.129130).  Saving model ...\n",
      "Validation loss decreased (0.129033 --> 0.129033).  Saving model ...\n",
      "Validation loss decreased (0.128925 --> 0.128925).  Saving model ...\n",
      "Validation loss decreased (0.128828 --> 0.128828).  Saving model ...\n",
      "Validation loss decreased (0.128781 --> 0.128781).  Saving model ...\n",
      "Validation loss decreased (0.128759 --> 0.128759).  Saving model ...\n"
     ]
    },
    {
     "name": "stderr",
     "output_type": "stream",
     "text": [
      " 62%|█████████████████████████████████████████████████▌                              | 372/600 [00:14<00:09, 24.29it/s]"
     ]
    },
    {
     "name": "stdout",
     "output_type": "stream",
     "text": [
      "Validation loss decreased (0.128591 --> 0.128591).  Saving model ...\n",
      "Validation loss decreased (0.128470 --> 0.128470).  Saving model ...\n",
      "Validation loss decreased (0.128335 --> 0.128335).  Saving model ...\n",
      "Validation loss decreased (0.128248 --> 0.128248).  Saving model ...\n",
      "Validation loss decreased (0.128193 --> 0.128193).  Saving model ...\n",
      "Validation loss decreased (0.128152 --> 0.128152).  Saving model ...\n"
     ]
    },
    {
     "name": "stderr",
     "output_type": "stream",
     "text": [
      " 64%|███████████████████████████████████████████████████▏                            | 384/600 [00:14<00:08, 25.99it/s]"
     ]
    },
    {
     "name": "stdout",
     "output_type": "stream",
     "text": [
      "Validation loss decreased (0.128063 --> 0.128063).  Saving model ...\n"
     ]
    },
    {
     "name": "stderr",
     "output_type": "stream",
     "text": [
      " 76%|████████████████████████████████████████████████████████████▉                   | 457/600 [00:17<00:04, 30.69it/s]"
     ]
    },
    {
     "name": "stdout",
     "output_type": "stream",
     "text": [
      "Validation loss decreased (0.127986 --> 0.127986).  Saving model ...\n",
      "Validation loss decreased (0.127829 --> 0.127829).  Saving model ...\n",
      "Validation loss decreased (0.127716 --> 0.127716).  Saving model ...\n",
      "Validation loss decreased (0.127590 --> 0.127590).  Saving model ...\n",
      "Validation loss decreased (0.127583 --> 0.127583).  Saving model ...\n",
      "Validation loss decreased (0.127500 --> 0.127500).  Saving model ...\n"
     ]
    },
    {
     "name": "stderr",
     "output_type": "stream",
     "text": [
      "100%|████████████████████████████████████████████████████████████████████████████████| 600/600 [00:21<00:00, 27.53it/s]\n",
      "  1%|▊                                                                                 | 4/400 [00:00<00:21, 18.81it/s]"
     ]
    },
    {
     "name": "stdout",
     "output_type": "stream",
     "text": [
      "Validation loss decreased (0.729115 --> 0.729115).  Saving model ...\n",
      "Validation loss decreased (0.723437 --> 0.723437).  Saving model ...\n",
      "Validation loss decreased (0.717597 --> 0.717597).  Saving model ...\n",
      "Validation loss decreased (0.711151 --> 0.711151).  Saving model ...\n"
     ]
    },
    {
     "name": "stderr",
     "output_type": "stream",
     "text": [
      "  2%|█▋                                                                                | 8/400 [00:00<00:21, 18.31it/s]"
     ]
    },
    {
     "name": "stdout",
     "output_type": "stream",
     "text": [
      "Validation loss decreased (0.704166 --> 0.704166).  Saving model ...\n",
      "Validation loss decreased (0.696414 --> 0.696414).  Saving model ...\n",
      "Validation loss decreased (0.688319 --> 0.688319).  Saving model ...\n",
      "Validation loss decreased (0.679861 --> 0.679861).  Saving model ...\n"
     ]
    },
    {
     "name": "stderr",
     "output_type": "stream",
     "text": [
      "  3%|██▍                                                                              | 12/400 [00:00<00:22, 16.99it/s]"
     ]
    },
    {
     "name": "stdout",
     "output_type": "stream",
     "text": [
      "Validation loss decreased (0.670900 --> 0.670900).  Saving model ...\n",
      "Validation loss decreased (0.661674 --> 0.661674).  Saving model ...\n",
      "Validation loss decreased (0.652098 --> 0.652098).  Saving model ...\n",
      "Validation loss decreased (0.642244 --> 0.642244).  Saving model ...\n"
     ]
    },
    {
     "name": "stderr",
     "output_type": "stream",
     "text": [
      "  4%|███▏                                                                             | 16/400 [00:00<00:22, 16.79it/s]"
     ]
    },
    {
     "name": "stdout",
     "output_type": "stream",
     "text": [
      "Validation loss decreased (0.632422 --> 0.632422).  Saving model ...\n",
      "Validation loss decreased (0.622390 --> 0.622390).  Saving model ...\n",
      "Validation loss decreased (0.611924 --> 0.611924).  Saving model ...\n",
      "Validation loss decreased (0.601224 --> 0.601224).  Saving model ...\n"
     ]
    },
    {
     "name": "stderr",
     "output_type": "stream",
     "text": [
      "  5%|████                                                                             | 20/400 [00:01<00:22, 16.94it/s]"
     ]
    },
    {
     "name": "stdout",
     "output_type": "stream",
     "text": [
      "Validation loss decreased (0.590383 --> 0.590383).  Saving model ...\n",
      "Validation loss decreased (0.579377 --> 0.579377).  Saving model ...\n",
      "Validation loss decreased (0.568019 --> 0.568019).  Saving model ...\n",
      "Validation loss decreased (0.556690 --> 0.556690).  Saving model ...\n"
     ]
    },
    {
     "name": "stderr",
     "output_type": "stream",
     "text": [
      "  6%|████▊                                                                            | 24/400 [00:01<00:22, 16.54it/s]"
     ]
    },
    {
     "name": "stdout",
     "output_type": "stream",
     "text": [
      "Validation loss decreased (0.544792 --> 0.544792).  Saving model ...\n",
      "Validation loss decreased (0.532853 --> 0.532853).  Saving model ...\n",
      "Validation loss decreased (0.520597 --> 0.520597).  Saving model ...\n",
      "Validation loss decreased (0.508241 --> 0.508241).  Saving model ...\n"
     ]
    },
    {
     "name": "stderr",
     "output_type": "stream",
     "text": [
      "  7%|█████▋                                                                           | 28/400 [00:01<00:23, 16.00it/s]"
     ]
    },
    {
     "name": "stdout",
     "output_type": "stream",
     "text": [
      "Validation loss decreased (0.495366 --> 0.495366).  Saving model ...\n",
      "Validation loss decreased (0.482709 --> 0.482709).  Saving model ...\n",
      "Validation loss decreased (0.470374 --> 0.470374).  Saving model ...\n",
      "Validation loss decreased (0.457889 --> 0.457889).  Saving model ...\n"
     ]
    },
    {
     "name": "stderr",
     "output_type": "stream",
     "text": [
      "  8%|██████▍                                                                          | 32/400 [00:01<00:22, 16.05it/s]"
     ]
    },
    {
     "name": "stdout",
     "output_type": "stream",
     "text": [
      "Validation loss decreased (0.445372 --> 0.445372).  Saving model ...\n",
      "Validation loss decreased (0.433305 --> 0.433305).  Saving model ...\n",
      "Validation loss decreased (0.421399 --> 0.421399).  Saving model ...\n",
      "Validation loss decreased (0.409941 --> 0.409941).  Saving model ...\n"
     ]
    },
    {
     "name": "stderr",
     "output_type": "stream",
     "text": [
      "  9%|███████▎                                                                         | 36/400 [00:02<00:22, 15.89it/s]"
     ]
    },
    {
     "name": "stdout",
     "output_type": "stream",
     "text": [
      "Validation loss decreased (0.398815 --> 0.398815).  Saving model ...\n",
      "Validation loss decreased (0.387633 --> 0.387633).  Saving model ...\n",
      "Validation loss decreased (0.376910 --> 0.376910).  Saving model ...\n",
      "Validation loss decreased (0.366551 --> 0.366551).  Saving model ...\n"
     ]
    },
    {
     "name": "stderr",
     "output_type": "stream",
     "text": [
      " 10%|████████                                                                         | 40/400 [00:02<00:22, 15.92it/s]"
     ]
    },
    {
     "name": "stdout",
     "output_type": "stream",
     "text": [
      "Validation loss decreased (0.356714 --> 0.356714).  Saving model ...\n",
      "Validation loss decreased (0.347230 --> 0.347230).  Saving model ...\n",
      "Validation loss decreased (0.338185 --> 0.338185).  Saving model ...\n",
      "Validation loss decreased (0.329308 --> 0.329308).  Saving model ...\n"
     ]
    },
    {
     "name": "stderr",
     "output_type": "stream",
     "text": [
      " 11%|████████▉                                                                        | 44/400 [00:02<00:21, 16.27it/s]"
     ]
    },
    {
     "name": "stdout",
     "output_type": "stream",
     "text": [
      "Validation loss decreased (0.321102 --> 0.321102).  Saving model ...\n",
      "Validation loss decreased (0.312931 --> 0.312931).  Saving model ...\n",
      "Validation loss decreased (0.305642 --> 0.305642).  Saving model ...\n",
      "Validation loss decreased (0.298511 --> 0.298511).  Saving model ...\n"
     ]
    },
    {
     "name": "stderr",
     "output_type": "stream",
     "text": [
      " 12%|█████████▋                                                                       | 48/400 [00:02<00:22, 15.97it/s]"
     ]
    },
    {
     "name": "stdout",
     "output_type": "stream",
     "text": [
      "Validation loss decreased (0.291174 --> 0.291174).  Saving model ...\n",
      "Validation loss decreased (0.284056 --> 0.284056).  Saving model ...\n",
      "Validation loss decreased (0.277116 --> 0.277116).  Saving model ...\n",
      "Validation loss decreased (0.270679 --> 0.270679).  Saving model ...\n"
     ]
    },
    {
     "name": "stderr",
     "output_type": "stream",
     "text": [
      " 13%|██████████▌                                                                      | 52/400 [00:03<00:21, 16.23it/s]"
     ]
    },
    {
     "name": "stdout",
     "output_type": "stream",
     "text": [
      "Validation loss decreased (0.264680 --> 0.264680).  Saving model ...\n",
      "Validation loss decreased (0.258561 --> 0.258561).  Saving model ...\n",
      "Validation loss decreased (0.253002 --> 0.253002).  Saving model ...\n",
      "Validation loss decreased (0.247703 --> 0.247703).  Saving model ...\n"
     ]
    },
    {
     "name": "stderr",
     "output_type": "stream",
     "text": [
      " 14%|███████████▎                                                                     | 56/400 [00:03<00:21, 16.25it/s]"
     ]
    },
    {
     "name": "stdout",
     "output_type": "stream",
     "text": [
      "Validation loss decreased (0.243444 --> 0.243444).  Saving model ...\n",
      "Validation loss decreased (0.236948 --> 0.236948).  Saving model ...\n",
      "Validation loss decreased (0.232220 --> 0.232220).  Saving model ...\n",
      "Validation loss decreased (0.227333 --> 0.227333).  Saving model ...\n"
     ]
    },
    {
     "name": "stderr",
     "output_type": "stream",
     "text": [
      " 15%|████████████▏                                                                    | 60/400 [00:03<00:20, 16.39it/s]"
     ]
    },
    {
     "name": "stdout",
     "output_type": "stream",
     "text": [
      "Validation loss decreased (0.223626 --> 0.223626).  Saving model ...\n",
      "Validation loss decreased (0.219556 --> 0.219556).  Saving model ...\n",
      "Validation loss decreased (0.215526 --> 0.215526).  Saving model ...\n",
      "Validation loss decreased (0.211522 --> 0.211522).  Saving model ...\n"
     ]
    },
    {
     "name": "stderr",
     "output_type": "stream",
     "text": [
      " 16%|████████████▉                                                                    | 64/400 [00:03<00:20, 16.44it/s]"
     ]
    },
    {
     "name": "stdout",
     "output_type": "stream",
     "text": [
      "Validation loss decreased (0.208010 --> 0.208010).  Saving model ...\n",
      "Validation loss decreased (0.204973 --> 0.204973).  Saving model ...\n",
      "Validation loss decreased (0.200685 --> 0.200685).  Saving model ...\n",
      "Validation loss decreased (0.196924 --> 0.196924).  Saving model ...\n"
     ]
    },
    {
     "name": "stderr",
     "output_type": "stream",
     "text": [
      " 17%|█████████████▊                                                                   | 68/400 [00:04<00:20, 16.58it/s]"
     ]
    },
    {
     "name": "stdout",
     "output_type": "stream",
     "text": [
      "Validation loss decreased (0.193654 --> 0.193654).  Saving model ...\n",
      "Validation loss decreased (0.190523 --> 0.190523).  Saving model ...\n",
      "Validation loss decreased (0.187903 --> 0.187903).  Saving model ...\n",
      "Validation loss decreased (0.185199 --> 0.185199).  Saving model ...\n"
     ]
    },
    {
     "name": "stderr",
     "output_type": "stream",
     "text": [
      " 18%|██████████████▌                                                                  | 72/400 [00:04<00:19, 16.65it/s]"
     ]
    },
    {
     "name": "stdout",
     "output_type": "stream",
     "text": [
      "Validation loss decreased (0.182609 --> 0.182609).  Saving model ...\n",
      "Validation loss decreased (0.179278 --> 0.179278).  Saving model ...\n",
      "Validation loss decreased (0.177508 --> 0.177508).  Saving model ...\n",
      "Validation loss decreased (0.175776 --> 0.175776).  Saving model ...\n"
     ]
    },
    {
     "name": "stderr",
     "output_type": "stream",
     "text": [
      " 19%|███████████████▍                                                                 | 76/400 [00:04<00:19, 16.63it/s]"
     ]
    },
    {
     "name": "stdout",
     "output_type": "stream",
     "text": [
      "Validation loss decreased (0.172376 --> 0.172376).  Saving model ...\n",
      "Validation loss decreased (0.170253 --> 0.170253).  Saving model ...\n",
      "Validation loss decreased (0.167993 --> 0.167993).  Saving model ...\n",
      "Validation loss decreased (0.165832 --> 0.165832).  Saving model ...\n"
     ]
    },
    {
     "name": "stderr",
     "output_type": "stream",
     "text": [
      " 20%|████████████████▏                                                                | 80/400 [00:04<00:18, 16.95it/s]"
     ]
    },
    {
     "name": "stdout",
     "output_type": "stream",
     "text": [
      "Validation loss decreased (0.164421 --> 0.164421).  Saving model ...\n",
      "Validation loss decreased (0.161632 --> 0.161632).  Saving model ...\n",
      "Validation loss decreased (0.159726 --> 0.159726).  Saving model ...\n",
      "Validation loss decreased (0.157981 --> 0.157981).  Saving model ...\n"
     ]
    },
    {
     "name": "stderr",
     "output_type": "stream",
     "text": [
      " 21%|█████████████████                                                                | 84/400 [00:05<00:19, 16.16it/s]"
     ]
    },
    {
     "name": "stdout",
     "output_type": "stream",
     "text": [
      "Validation loss decreased (0.156587 --> 0.156587).  Saving model ...\n",
      "Validation loss decreased (0.154998 --> 0.154998).  Saving model ...\n",
      "Validation loss decreased (0.153995 --> 0.153995).  Saving model ...\n",
      "Validation loss decreased (0.151908 --> 0.151908).  Saving model ...\n"
     ]
    },
    {
     "name": "stderr",
     "output_type": "stream",
     "text": [
      " 22%|█████████████████▊                                                               | 88/400 [00:05<00:19, 16.05it/s]"
     ]
    },
    {
     "name": "stdout",
     "output_type": "stream",
     "text": [
      "Validation loss decreased (0.151125 --> 0.151125).  Saving model ...\n",
      "Validation loss decreased (0.148920 --> 0.148920).  Saving model ...\n",
      "Validation loss decreased (0.147477 --> 0.147477).  Saving model ...\n",
      "Validation loss decreased (0.146161 --> 0.146161).  Saving model ...\n"
     ]
    },
    {
     "name": "stderr",
     "output_type": "stream",
     "text": [
      " 23%|██████████████████▋                                                              | 92/400 [00:05<00:19, 16.13it/s]"
     ]
    },
    {
     "name": "stdout",
     "output_type": "stream",
     "text": [
      "Validation loss decreased (0.145134 --> 0.145134).  Saving model ...\n",
      "Validation loss decreased (0.143826 --> 0.143826).  Saving model ...\n",
      "Validation loss decreased (0.143193 --> 0.143193).  Saving model ...\n",
      "Validation loss decreased (0.142322 --> 0.142322).  Saving model ...\n"
     ]
    },
    {
     "name": "stderr",
     "output_type": "stream",
     "text": [
      " 24%|███████████████████▍                                                             | 96/400 [00:05<00:18, 16.43it/s]"
     ]
    },
    {
     "name": "stdout",
     "output_type": "stream",
     "text": [
      "Validation loss decreased (0.140567 --> 0.140567).  Saving model ...\n",
      "Validation loss decreased (0.139539 --> 0.139539).  Saving model ...\n",
      "Validation loss decreased (0.138733 --> 0.138733).  Saving model ...\n",
      "Validation loss decreased (0.137686 --> 0.137686).  Saving model ...\n"
     ]
    },
    {
     "name": "stderr",
     "output_type": "stream",
     "text": [
      " 25%|████████████████████                                                            | 100/400 [00:06<00:18, 16.11it/s]"
     ]
    },
    {
     "name": "stdout",
     "output_type": "stream",
     "text": [
      "Validation loss decreased (0.136986 --> 0.136986).  Saving model ...\n",
      "Validation loss decreased (0.135867 --> 0.135867).  Saving model ...\n",
      "Validation loss decreased (0.135039 --> 0.135039).  Saving model ...\n",
      "Validation loss decreased (0.134187 --> 0.134187).  Saving model ...\n"
     ]
    },
    {
     "name": "stderr",
     "output_type": "stream",
     "text": [
      " 26%|████████████████████▊                                                           | 104/400 [00:06<00:18, 15.95it/s]"
     ]
    },
    {
     "name": "stdout",
     "output_type": "stream",
     "text": [
      "Validation loss decreased (0.133711 --> 0.133711).  Saving model ...\n",
      "Validation loss decreased (0.132608 --> 0.132608).  Saving model ...\n",
      "Validation loss decreased (0.131441 --> 0.131441).  Saving model ...\n",
      "Validation loss decreased (0.130663 --> 0.130663).  Saving model ...\n"
     ]
    },
    {
     "name": "stderr",
     "output_type": "stream",
     "text": [
      " 27%|█████████████████████▌                                                          | 108/400 [00:06<00:17, 16.38it/s]"
     ]
    },
    {
     "name": "stdout",
     "output_type": "stream",
     "text": [
      "Validation loss decreased (0.129936 --> 0.129936).  Saving model ...\n",
      "Validation loss decreased (0.128687 --> 0.128687).  Saving model ...\n",
      "Validation loss decreased (0.127907 --> 0.127907).  Saving model ...\n"
     ]
    },
    {
     "name": "stderr",
     "output_type": "stream",
     "text": [
      " 28%|██████████████████████▍                                                         | 112/400 [00:06<00:17, 16.42it/s]"
     ]
    },
    {
     "name": "stdout",
     "output_type": "stream",
     "text": [
      "Validation loss decreased (0.127078 --> 0.127078).  Saving model ...\n",
      "Validation loss decreased (0.126554 --> 0.126554).  Saving model ...\n",
      "Validation loss decreased (0.126019 --> 0.126019).  Saving model ...\n",
      "Validation loss decreased (0.125545 --> 0.125545).  Saving model ...\n"
     ]
    },
    {
     "name": "stderr",
     "output_type": "stream",
     "text": [
      " 29%|███████████████████████▏                                                        | 116/400 [00:07<00:17, 15.87it/s]"
     ]
    },
    {
     "name": "stdout",
     "output_type": "stream",
     "text": [
      "Validation loss decreased (0.125152 --> 0.125152).  Saving model ...\n",
      "Validation loss decreased (0.124254 --> 0.124254).  Saving model ...\n",
      "Validation loss decreased (0.123792 --> 0.123792).  Saving model ...\n",
      "Validation loss decreased (0.123276 --> 0.123276).  Saving model ...\n"
     ]
    },
    {
     "name": "stderr",
     "output_type": "stream",
     "text": [
      " 30%|███████████████████████▌                                                        | 118/400 [00:07<00:18, 15.66it/s]"
     ]
    },
    {
     "name": "stdout",
     "output_type": "stream",
     "text": [
      "Validation loss decreased (0.122982 --> 0.122982).  Saving model ...\n",
      "Validation loss decreased (0.122692 --> 0.122692).  Saving model ...\n",
      "Validation loss decreased (0.121633 --> 0.121633).  Saving model ...\n"
     ]
    },
    {
     "name": "stderr",
     "output_type": "stream",
     "text": [
      " 30%|████████████████████████▍                                                       | 122/400 [00:07<00:17, 15.52it/s]"
     ]
    },
    {
     "name": "stdout",
     "output_type": "stream",
     "text": [
      "Validation loss decreased (0.121050 --> 0.121050).  Saving model ...\n",
      "Validation loss decreased (0.120656 --> 0.120656).  Saving model ...\n",
      "Validation loss decreased (0.120323 --> 0.120323).  Saving model ...\n",
      "Validation loss decreased (0.119918 --> 0.119918).  Saving model ...\n"
     ]
    },
    {
     "name": "stderr",
     "output_type": "stream",
     "text": [
      " 32%|█████████████████████████▏                                                      | 126/400 [00:07<00:17, 16.03it/s]"
     ]
    },
    {
     "name": "stdout",
     "output_type": "stream",
     "text": [
      "Validation loss decreased (0.119380 --> 0.119380).  Saving model ...\n",
      "Validation loss decreased (0.118997 --> 0.118997).  Saving model ...\n",
      "Validation loss decreased (0.118646 --> 0.118646).  Saving model ...\n",
      "Validation loss decreased (0.118143 --> 0.118143).  Saving model ...\n"
     ]
    },
    {
     "name": "stderr",
     "output_type": "stream",
     "text": [
      " 32%|██████████████████████████                                                      | 130/400 [00:07<00:16, 15.97it/s]"
     ]
    },
    {
     "name": "stdout",
     "output_type": "stream",
     "text": [
      "Validation loss decreased (0.118102 --> 0.118102).  Saving model ...\n",
      "Validation loss decreased (0.117330 --> 0.117330).  Saving model ...\n",
      "Validation loss decreased (0.117125 --> 0.117125).  Saving model ...\n",
      "Validation loss decreased (0.116887 --> 0.116887).  Saving model ...\n"
     ]
    },
    {
     "name": "stderr",
     "output_type": "stream",
     "text": [
      " 34%|██████████████████████████▊                                                     | 134/400 [00:08<00:16, 16.12it/s]"
     ]
    },
    {
     "name": "stdout",
     "output_type": "stream",
     "text": [
      "Validation loss decreased (0.116339 --> 0.116339).  Saving model ...\n",
      "Validation loss decreased (0.115877 --> 0.115877).  Saving model ...\n",
      "Validation loss decreased (0.115495 --> 0.115495).  Saving model ...\n",
      "Validation loss decreased (0.115292 --> 0.115292).  Saving model ...\n"
     ]
    },
    {
     "name": "stderr",
     "output_type": "stream",
     "text": [
      " 34%|███████████████████████████▌                                                    | 138/400 [00:08<00:16, 16.26it/s]"
     ]
    },
    {
     "name": "stdout",
     "output_type": "stream",
     "text": [
      "Validation loss decreased (0.115143 --> 0.115143).  Saving model ...\n",
      "Validation loss decreased (0.114817 --> 0.114817).  Saving model ...\n",
      "Validation loss decreased (0.114404 --> 0.114404).  Saving model ...\n"
     ]
    },
    {
     "name": "stderr",
     "output_type": "stream",
     "text": [
      " 36%|████████████████████████████▍                                                   | 142/400 [00:08<00:15, 16.88it/s]"
     ]
    },
    {
     "name": "stdout",
     "output_type": "stream",
     "text": [
      "Validation loss decreased (0.113832 --> 0.113832).  Saving model ...\n",
      "Validation loss decreased (0.113551 --> 0.113551).  Saving model ...\n",
      "Validation loss decreased (0.113095 --> 0.113095).  Saving model ...\n",
      "Validation loss decreased (0.112785 --> 0.112785).  Saving model ...\n"
     ]
    },
    {
     "name": "stderr",
     "output_type": "stream",
     "text": [
      " 36%|█████████████████████████████▏                                                  | 146/400 [00:08<00:15, 16.56it/s]"
     ]
    },
    {
     "name": "stdout",
     "output_type": "stream",
     "text": [
      "Validation loss decreased (0.112547 --> 0.112547).  Saving model ...\n",
      "Validation loss decreased (0.112453 --> 0.112453).  Saving model ...\n",
      "Validation loss decreased (0.112192 --> 0.112192).  Saving model ...\n",
      "Validation loss decreased (0.111814 --> 0.111814).  Saving model ...\n"
     ]
    },
    {
     "name": "stderr",
     "output_type": "stream",
     "text": [
      " 38%|██████████████████████████████                                                  | 150/400 [00:09<00:15, 16.12it/s]"
     ]
    },
    {
     "name": "stdout",
     "output_type": "stream",
     "text": [
      "Validation loss decreased (0.111613 --> 0.111613).  Saving model ...\n",
      "Validation loss decreased (0.111491 --> 0.111491).  Saving model ...\n",
      "Validation loss decreased (0.111081 --> 0.111081).  Saving model ...\n",
      "Validation loss decreased (0.110952 --> 0.110952).  Saving model ...\n"
     ]
    },
    {
     "name": "stderr",
     "output_type": "stream",
     "text": [
      " 38%|██████████████████████████████▊                                                 | 154/400 [00:09<00:14, 16.64it/s]"
     ]
    },
    {
     "name": "stdout",
     "output_type": "stream",
     "text": [
      "Validation loss decreased (0.110647 --> 0.110647).  Saving model ...\n",
      "Validation loss decreased (0.110484 --> 0.110484).  Saving model ...\n",
      "Validation loss decreased (0.110209 --> 0.110209).  Saving model ...\n"
     ]
    },
    {
     "name": "stderr",
     "output_type": "stream",
     "text": [
      " 40%|███████████████████████████████▌                                                | 158/400 [00:09<00:14, 16.82it/s]"
     ]
    },
    {
     "name": "stdout",
     "output_type": "stream",
     "text": [
      "Validation loss decreased (0.109659 --> 0.109659).  Saving model ...\n",
      "Validation loss decreased (0.109589 --> 0.109589).  Saving model ...\n",
      "Validation loss decreased (0.109380 --> 0.109380).  Saving model ...\n",
      "Validation loss decreased (0.109271 --> 0.109271).  Saving model ...\n"
     ]
    },
    {
     "name": "stderr",
     "output_type": "stream",
     "text": [
      " 40%|████████████████████████████████▍                                               | 162/400 [00:09<00:14, 16.48it/s]"
     ]
    },
    {
     "name": "stdout",
     "output_type": "stream",
     "text": [
      "Validation loss decreased (0.109052 --> 0.109052).  Saving model ...\n",
      "Validation loss decreased (0.108751 --> 0.108751).  Saving model ...\n",
      "Validation loss decreased (0.108346 --> 0.108346).  Saving model ...\n",
      "Validation loss decreased (0.108231 --> 0.108231).  Saving model ...\n"
     ]
    },
    {
     "name": "stderr",
     "output_type": "stream",
     "text": [
      " 42%|█████████████████████████████████▏                                              | 166/400 [00:10<00:14, 16.14it/s]"
     ]
    },
    {
     "name": "stdout",
     "output_type": "stream",
     "text": [
      "Validation loss decreased (0.107822 --> 0.107822).  Saving model ...\n",
      "Validation loss decreased (0.107595 --> 0.107595).  Saving model ...\n",
      "Validation loss decreased (0.107408 --> 0.107408).  Saving model ...\n",
      "Validation loss decreased (0.107334 --> 0.107334).  Saving model ...\n"
     ]
    },
    {
     "name": "stderr",
     "output_type": "stream",
     "text": [
      " 42%|██████████████████████████████████                                              | 170/400 [00:10<00:14, 15.85it/s]"
     ]
    },
    {
     "name": "stdout",
     "output_type": "stream",
     "text": [
      "Validation loss decreased (0.107311 --> 0.107311).  Saving model ...\n",
      "Validation loss decreased (0.107239 --> 0.107239).  Saving model ...\n",
      "Validation loss decreased (0.106927 --> 0.106927).  Saving model ...\n",
      "Validation loss decreased (0.106506 --> 0.106506).  Saving model ...\n"
     ]
    },
    {
     "name": "stderr",
     "output_type": "stream",
     "text": [
      " 44%|██████████████████████████████████▊                                             | 174/400 [00:10<00:14, 16.13it/s]"
     ]
    },
    {
     "name": "stdout",
     "output_type": "stream",
     "text": [
      "Validation loss decreased (0.106289 --> 0.106289).  Saving model ...\n",
      "Validation loss decreased (0.106080 --> 0.106080).  Saving model ...\n",
      "Validation loss decreased (0.105916 --> 0.105916).  Saving model ...\n"
     ]
    },
    {
     "name": "stderr",
     "output_type": "stream",
     "text": [
      " 44%|███████████████████████████████████▌                                            | 178/400 [00:10<00:13, 16.21it/s]"
     ]
    },
    {
     "name": "stdout",
     "output_type": "stream",
     "text": [
      "Validation loss decreased (0.105750 --> 0.105750).  Saving model ...\n",
      "Validation loss decreased (0.105632 --> 0.105632).  Saving model ...\n",
      "Validation loss decreased (0.105458 --> 0.105458).  Saving model ...\n"
     ]
    },
    {
     "name": "stderr",
     "output_type": "stream",
     "text": [
      " 46%|████████████████████████████████████▍                                           | 182/400 [00:11<00:13, 16.05it/s]"
     ]
    },
    {
     "name": "stdout",
     "output_type": "stream",
     "text": [
      "Validation loss decreased (0.105299 --> 0.105299).  Saving model ...\n",
      "Validation loss decreased (0.104860 --> 0.104860).  Saving model ...\n"
     ]
    },
    {
     "name": "stderr",
     "output_type": "stream",
     "text": [
      " 46%|█████████████████████████████████████▏                                          | 186/400 [00:11<00:13, 16.08it/s]"
     ]
    },
    {
     "name": "stdout",
     "output_type": "stream",
     "text": [
      "Validation loss decreased (0.104604 --> 0.104604).  Saving model ...\n",
      "Validation loss decreased (0.104439 --> 0.104439).  Saving model ...\n",
      "Validation loss decreased (0.104218 --> 0.104218).  Saving model ...\n",
      "Validation loss decreased (0.104059 --> 0.104059).  Saving model ...\n"
     ]
    },
    {
     "name": "stderr",
     "output_type": "stream",
     "text": [
      " 48%|██████████████████████████████████████                                          | 190/400 [00:11<00:13, 16.03it/s]"
     ]
    },
    {
     "name": "stdout",
     "output_type": "stream",
     "text": [
      "Validation loss decreased (0.103942 --> 0.103942).  Saving model ...\n",
      "Validation loss decreased (0.103837 --> 0.103837).  Saving model ...\n",
      "Validation loss decreased (0.103636 --> 0.103636).  Saving model ...\n",
      "Validation loss decreased (0.103452 --> 0.103452).  Saving model ...\n"
     ]
    },
    {
     "name": "stderr",
     "output_type": "stream",
     "text": [
      " 48%|██████████████████████████████████████▊                                         | 194/400 [00:11<00:12, 15.98it/s]"
     ]
    },
    {
     "name": "stdout",
     "output_type": "stream",
     "text": [
      "Validation loss decreased (0.103323 --> 0.103323).  Saving model ...\n",
      "Validation loss decreased (0.103167 --> 0.103167).  Saving model ...\n",
      "Validation loss decreased (0.103056 --> 0.103056).  Saving model ...\n"
     ]
    },
    {
     "name": "stderr",
     "output_type": "stream",
     "text": [
      " 50%|████████████████████████████████████████                                        | 200/400 [00:12<00:12, 16.38it/s]"
     ]
    },
    {
     "name": "stdout",
     "output_type": "stream",
     "text": [
      "Validation loss decreased (0.102714 --> 0.102714).  Saving model ...\n",
      "Validation loss decreased (0.102501 --> 0.102501).  Saving model ...\n",
      "Validation loss decreased (0.102395 --> 0.102395).  Saving model ...\n"
     ]
    },
    {
     "name": "stderr",
     "output_type": "stream",
     "text": [
      " 51%|████████████████████████████████████████▊                                       | 204/400 [00:12<00:12, 16.06it/s]"
     ]
    },
    {
     "name": "stdout",
     "output_type": "stream",
     "text": [
      "Validation loss decreased (0.102381 --> 0.102381).  Saving model ...\n",
      "Validation loss decreased (0.102216 --> 0.102216).  Saving model ...\n",
      "Validation loss decreased (0.102072 --> 0.102072).  Saving model ...\n",
      "Validation loss decreased (0.102031 --> 0.102031).  Saving model ...\n"
     ]
    },
    {
     "name": "stderr",
     "output_type": "stream",
     "text": [
      " 53%|██████████████████████████████████████████▍                                     | 212/400 [00:12<00:11, 16.96it/s]"
     ]
    },
    {
     "name": "stdout",
     "output_type": "stream",
     "text": [
      "Validation loss decreased (0.101874 --> 0.101874).  Saving model ...\n",
      "Validation loss decreased (0.101809 --> 0.101809).  Saving model ...\n",
      "Validation loss decreased (0.101804 --> 0.101804).  Saving model ...\n"
     ]
    },
    {
     "name": "stderr",
     "output_type": "stream",
     "text": [
      " 54%|███████████████████████████████████████████▏                                    | 216/400 [00:13<00:11, 16.59it/s]"
     ]
    },
    {
     "name": "stdout",
     "output_type": "stream",
     "text": [
      "Validation loss decreased (0.101772 --> 0.101772).  Saving model ...\n",
      "Validation loss decreased (0.101691 --> 0.101691).  Saving model ...\n",
      "Validation loss decreased (0.101664 --> 0.101664).  Saving model ...\n",
      "Validation loss decreased (0.101585 --> 0.101585).  Saving model ...\n"
     ]
    },
    {
     "name": "stderr",
     "output_type": "stream",
     "text": [
      " 56%|████████████████████████████████████████████▊                                   | 224/400 [00:13<00:10, 16.62it/s]"
     ]
    },
    {
     "name": "stdout",
     "output_type": "stream",
     "text": [
      "Validation loss decreased (0.101495 --> 0.101495).  Saving model ...\n"
     ]
    },
    {
     "name": "stderr",
     "output_type": "stream",
     "text": [
      " 57%|█████████████████████████████████████████████▌                                  | 228/400 [00:13<00:10, 16.44it/s]"
     ]
    },
    {
     "name": "stdout",
     "output_type": "stream",
     "text": [
      "Validation loss decreased (0.101400 --> 0.101400).  Saving model ...\n",
      "Validation loss decreased (0.101330 --> 0.101330).  Saving model ...\n",
      "Validation loss decreased (0.101280 --> 0.101280).  Saving model ...\n"
     ]
    },
    {
     "name": "stderr",
     "output_type": "stream",
     "text": [
      " 58%|██████████████████████████████████████████████▊                                 | 234/400 [00:14<00:10, 16.22it/s]"
     ]
    },
    {
     "name": "stdout",
     "output_type": "stream",
     "text": [
      "Validation loss decreased (0.101164 --> 0.101164).  Saving model ...\n",
      "Validation loss decreased (0.101071 --> 0.101071).  Saving model ...\n"
     ]
    },
    {
     "name": "stderr",
     "output_type": "stream",
     "text": [
      " 60%|███████████████████████████████████████████████▌                                | 238/400 [00:14<00:09, 16.33it/s]"
     ]
    },
    {
     "name": "stdout",
     "output_type": "stream",
     "text": [
      "Validation loss decreased (0.101012 --> 0.101012).  Saving model ...\n",
      "Validation loss decreased (0.100964 --> 0.100964).  Saving model ...\n",
      "Validation loss decreased (0.100953 --> 0.100953).  Saving model ...\n"
     ]
    },
    {
     "name": "stderr",
     "output_type": "stream",
     "text": [
      " 60%|████████████████████████████████████████████████▍                               | 242/400 [00:14<00:09, 16.45it/s]"
     ]
    },
    {
     "name": "stdout",
     "output_type": "stream",
     "text": [
      "Validation loss decreased (0.100809 --> 0.100809).  Saving model ...\n"
     ]
    },
    {
     "name": "stderr",
     "output_type": "stream",
     "text": [
      " 62%|█████████████████████████████████████████████████▏                              | 246/400 [00:15<00:09, 16.22it/s]"
     ]
    },
    {
     "name": "stdout",
     "output_type": "stream",
     "text": [
      "Validation loss decreased (0.100678 --> 0.100678).  Saving model ...\n",
      "Validation loss decreased (0.100643 --> 0.100643).  Saving model ...\n",
      "Validation loss decreased (0.100570 --> 0.100570).  Saving model ...\n"
     ]
    },
    {
     "name": "stderr",
     "output_type": "stream",
     "text": [
      " 62%|██████████████████████████████████████████████████                              | 250/400 [00:15<00:09, 16.19it/s]"
     ]
    },
    {
     "name": "stdout",
     "output_type": "stream",
     "text": [
      "Validation loss decreased (0.100467 --> 0.100467).  Saving model ...\n",
      "Validation loss decreased (0.100389 --> 0.100389).  Saving model ...\n",
      "Validation loss decreased (0.100296 --> 0.100296).  Saving model ...\n"
     ]
    },
    {
     "name": "stderr",
     "output_type": "stream",
     "text": [
      " 64%|███████████████████████████████████████████████████▏                            | 256/400 [00:15<00:08, 16.87it/s]"
     ]
    },
    {
     "name": "stdout",
     "output_type": "stream",
     "text": [
      "Validation loss decreased (0.100265 --> 0.100265).  Saving model ...\n"
     ]
    },
    {
     "name": "stderr",
     "output_type": "stream",
     "text": [
      " 66%|████████████████████████████████████████████████████▍                           | 262/400 [00:16<00:08, 16.80it/s]"
     ]
    },
    {
     "name": "stdout",
     "output_type": "stream",
     "text": [
      "Validation loss decreased (0.100214 --> 0.100214).  Saving model ...\n",
      "Validation loss decreased (0.100145 --> 0.100145).  Saving model ...\n",
      "Validation loss decreased (0.100011 --> 0.100011).  Saving model ...\n"
     ]
    },
    {
     "name": "stderr",
     "output_type": "stream",
     "text": [
      " 66%|█████████████████████████████████████████████████████▏                          | 266/400 [00:16<00:07, 16.80it/s]"
     ]
    },
    {
     "name": "stdout",
     "output_type": "stream",
     "text": [
      "Validation loss decreased (0.099984 --> 0.099984).  Saving model ...\n",
      "Validation loss decreased (0.099928 --> 0.099928).  Saving model ...\n"
     ]
    },
    {
     "name": "stderr",
     "output_type": "stream",
     "text": [
      " 70%|████████████████████████████████████████████████████████▍                       | 282/400 [00:17<00:06, 18.00it/s]"
     ]
    },
    {
     "name": "stdout",
     "output_type": "stream",
     "text": [
      "Validation loss decreased (0.099894 --> 0.099894).  Saving model ...\n",
      "Validation loss decreased (0.099861 --> 0.099861).  Saving model ...\n"
     ]
    },
    {
     "name": "stderr",
     "output_type": "stream",
     "text": [
      " 72%|█████████████████████████████████████████████████████████▏                      | 286/400 [00:17<00:06, 17.59it/s]"
     ]
    },
    {
     "name": "stdout",
     "output_type": "stream",
     "text": [
      "Validation loss decreased (0.099795 --> 0.099795).  Saving model ...\n",
      "Validation loss decreased (0.099723 --> 0.099723).  Saving model ...\n"
     ]
    },
    {
     "name": "stderr",
     "output_type": "stream",
     "text": [
      " 72%|██████████████████████████████████████████████████████████                      | 290/400 [00:17<00:06, 17.40it/s]"
     ]
    },
    {
     "name": "stdout",
     "output_type": "stream",
     "text": [
      "Validation loss decreased (0.099722 --> 0.099722).  Saving model ...\n"
     ]
    },
    {
     "name": "stderr",
     "output_type": "stream",
     "text": [
      " 75%|████████████████████████████████████████████████████████████                    | 300/400 [00:18<00:05, 17.67it/s]"
     ]
    },
    {
     "name": "stdout",
     "output_type": "stream",
     "text": [
      "Validation loss decreased (0.099700 --> 0.099700).  Saving model ...\n",
      "Validation loss decreased (0.099628 --> 0.099628).  Saving model ...\n"
     ]
    },
    {
     "name": "stderr",
     "output_type": "stream",
     "text": [
      " 76%|████████████████████████████████████████████████████████████▊                   | 304/400 [00:18<00:05, 17.58it/s]"
     ]
    },
    {
     "name": "stdout",
     "output_type": "stream",
     "text": [
      "Validation loss decreased (0.099592 --> 0.099592).  Saving model ...\n",
      "Validation loss decreased (0.099480 --> 0.099480).  Saving model ...\n"
     ]
    },
    {
     "name": "stderr",
     "output_type": "stream",
     "text": [
      " 78%|██████████████████████████████████████████████████████████████                  | 310/400 [00:18<00:05, 17.29it/s]"
     ]
    },
    {
     "name": "stdout",
     "output_type": "stream",
     "text": [
      "Validation loss decreased (0.099465 --> 0.099465).  Saving model ...\n",
      "Validation loss decreased (0.099461 --> 0.099461).  Saving model ...\n"
     ]
    },
    {
     "name": "stderr",
     "output_type": "stream",
     "text": [
      " 79%|███████████████████████████████████████████████████████████████▏                | 316/400 [00:19<00:04, 18.44it/s]"
     ]
    },
    {
     "name": "stdout",
     "output_type": "stream",
     "text": [
      "Validation loss decreased (0.099425 --> 0.099425).  Saving model ...\n",
      "Validation loss decreased (0.099410 --> 0.099410).  Saving model ...\n"
     ]
    },
    {
     "name": "stderr",
     "output_type": "stream",
     "text": [
      " 80%|████████████████████████████████████████████████████████████████                | 320/400 [00:19<00:04, 18.67it/s]"
     ]
    },
    {
     "name": "stdout",
     "output_type": "stream",
     "text": [
      "Validation loss decreased (0.099278 --> 0.099278).  Saving model ...\n"
     ]
    },
    {
     "name": "stderr",
     "output_type": "stream",
     "text": [
      " 82%|█████████████████████████████████████████████████████████████████▌              | 328/400 [00:19<00:03, 18.95it/s]"
     ]
    },
    {
     "name": "stdout",
     "output_type": "stream",
     "text": [
      "Validation loss decreased (0.099210 --> 0.099210).  Saving model ...\n",
      "Validation loss decreased (0.099174 --> 0.099174).  Saving model ...\n"
     ]
    },
    {
     "name": "stderr",
     "output_type": "stream",
     "text": [
      " 83%|██████████████████████████████████████████████████████████████████▍             | 332/400 [00:19<00:03, 18.54it/s]"
     ]
    },
    {
     "name": "stdout",
     "output_type": "stream",
     "text": [
      "Validation loss decreased (0.099172 --> 0.099172).  Saving model ...\n"
     ]
    },
    {
     "name": "stderr",
     "output_type": "stream",
     "text": [
      " 84%|███████████████████████████████████████████████████████████████████▌            | 338/400 [00:20<00:03, 17.77it/s]"
     ]
    },
    {
     "name": "stdout",
     "output_type": "stream",
     "text": [
      "Validation loss decreased (0.099103 --> 0.099103).  Saving model ...\n",
      "Validation loss decreased (0.099005 --> 0.099005).  Saving model ...\n"
     ]
    },
    {
     "name": "stderr",
     "output_type": "stream",
     "text": [
      " 86%|████████████████████████████████████████████████████████████████████▍           | 342/400 [00:20<00:03, 16.57it/s]"
     ]
    },
    {
     "name": "stdout",
     "output_type": "stream",
     "text": [
      "Validation loss decreased (0.098997 --> 0.098997).  Saving model ...\n"
     ]
    },
    {
     "name": "stderr",
     "output_type": "stream",
     "text": [
      " 88%|██████████████████████████████████████████████████████████████████████          | 350/400 [00:21<00:03, 16.57it/s]"
     ]
    },
    {
     "name": "stdout",
     "output_type": "stream",
     "text": [
      "Validation loss decreased (0.098966 --> 0.098966).  Saving model ...\n",
      "Validation loss decreased (0.098885 --> 0.098885).  Saving model ...\n"
     ]
    },
    {
     "name": "stderr",
     "output_type": "stream",
     "text": [
      " 88%|██████████████████████████████████████████████████████████████████████▊         | 354/400 [00:21<00:02, 16.84it/s]"
     ]
    },
    {
     "name": "stdout",
     "output_type": "stream",
     "text": [
      "Validation loss decreased (0.098779 --> 0.098779).  Saving model ...\n"
     ]
    },
    {
     "name": "stderr",
     "output_type": "stream",
     "text": [
      " 90%|████████████████████████████████████████████████████████████████████████▍       | 362/400 [00:21<00:02, 17.02it/s]"
     ]
    },
    {
     "name": "stdout",
     "output_type": "stream",
     "text": [
      "Validation loss decreased (0.098737 --> 0.098737).  Saving model ...\n",
      "Validation loss decreased (0.098603 --> 0.098603).  Saving model ...\n"
     ]
    },
    {
     "name": "stderr",
     "output_type": "stream",
     "text": [
      " 92%|█████████████████████████████████████████████████████████████████████████▌      | 368/400 [00:22<00:01, 17.08it/s]"
     ]
    },
    {
     "name": "stdout",
     "output_type": "stream",
     "text": [
      "Validation loss decreased (0.098603 --> 0.098603).  Saving model ...\n"
     ]
    },
    {
     "name": "stderr",
     "output_type": "stream",
     "text": [
      " 97%|█████████████████████████████████████████████████████████████████████████████▌  | 388/400 [00:23<00:00, 17.68it/s]"
     ]
    },
    {
     "name": "stdout",
     "output_type": "stream",
     "text": [
      "Validation loss decreased (0.098566 --> 0.098566).  Saving model ...\n"
     ]
    },
    {
     "name": "stderr",
     "output_type": "stream",
     "text": [
      "100%|████████████████████████████████████████████████████████████████████████████████| 400/400 [00:23<00:00, 16.71it/s]\n",
      "  0%|                                                                                          | 0/400 [00:00<?, ?it/s]"
     ]
    },
    {
     "name": "stdout",
     "output_type": "stream",
     "text": [
      "Validation loss decreased (0.098550 --> 0.098550).  Saving model ...\n",
      "Validation loss decreased (0.697399 --> 0.697399).  Saving model ...\n",
      "Validation loss decreased (0.679705 --> 0.679705).  Saving model ...\n"
     ]
    },
    {
     "name": "stderr",
     "output_type": "stream",
     "text": [
      "  2%|█▏                                                                                | 6/400 [00:00<00:17, 22.16it/s]"
     ]
    },
    {
     "name": "stdout",
     "output_type": "stream",
     "text": [
      "Validation loss decreased (0.661142 --> 0.661142).  Saving model ...\n",
      "Validation loss decreased (0.642339 --> 0.642339).  Saving model ...\n",
      "Validation loss decreased (0.622676 --> 0.622676).  Saving model ...\n",
      "Validation loss decreased (0.601932 --> 0.601932).  Saving model ...\n",
      "Validation loss decreased (0.580387 --> 0.580387).  Saving model ...\n"
     ]
    },
    {
     "name": "stderr",
     "output_type": "stream",
     "text": [
      "  3%|██▍                                                                              | 12/400 [00:00<00:17, 22.63it/s]"
     ]
    },
    {
     "name": "stdout",
     "output_type": "stream",
     "text": [
      "Validation loss decreased (0.557972 --> 0.557972).  Saving model ...\n",
      "Validation loss decreased (0.534629 --> 0.534629).  Saving model ...\n",
      "Validation loss decreased (0.509765 --> 0.509765).  Saving model ...\n",
      "Validation loss decreased (0.484296 --> 0.484296).  Saving model ...\n",
      "Validation loss decreased (0.458629 --> 0.458629).  Saving model ...\n"
     ]
    },
    {
     "name": "stderr",
     "output_type": "stream",
     "text": [
      "  4%|███                                                                              | 15/400 [00:00<00:17, 22.57it/s]"
     ]
    },
    {
     "name": "stdout",
     "output_type": "stream",
     "text": [
      "Validation loss decreased (0.432042 --> 0.432042).  Saving model ...\n",
      "Validation loss decreased (0.405588 --> 0.405588).  Saving model ...\n",
      "Validation loss decreased (0.378860 --> 0.378860).  Saving model ...\n",
      "Validation loss decreased (0.352764 --> 0.352764).  Saving model ...\n",
      "Validation loss decreased (0.327577 --> 0.327577).  Saving model ...\n"
     ]
    },
    {
     "name": "stderr",
     "output_type": "stream",
     "text": [
      "  5%|████▎                                                                            | 21/400 [00:00<00:16, 22.32it/s]"
     ]
    },
    {
     "name": "stdout",
     "output_type": "stream",
     "text": [
      "Validation loss decreased (0.303951 --> 0.303951).  Saving model ...\n",
      "Validation loss decreased (0.282410 --> 0.282410).  Saving model ...\n",
      "Validation loss decreased (0.262136 --> 0.262136).  Saving model ...\n",
      "Validation loss decreased (0.243861 --> 0.243861).  Saving model ...\n",
      "Validation loss decreased (0.227446 --> 0.227446).  Saving model ...\n"
     ]
    },
    {
     "name": "stderr",
     "output_type": "stream",
     "text": [
      "  7%|█████▍                                                                           | 27/400 [00:01<00:16, 22.99it/s]"
     ]
    },
    {
     "name": "stdout",
     "output_type": "stream",
     "text": [
      "Validation loss decreased (0.212991 --> 0.212991).  Saving model ...\n",
      "Validation loss decreased (0.200063 --> 0.200063).  Saving model ...\n",
      "Validation loss decreased (0.189035 --> 0.189035).  Saving model ...\n",
      "Validation loss decreased (0.178732 --> 0.178732).  Saving model ...\n",
      "Validation loss decreased (0.169549 --> 0.169549).  Saving model ...\n"
     ]
    },
    {
     "name": "stderr",
     "output_type": "stream",
     "text": [
      "  8%|██████▋                                                                          | 33/400 [00:01<00:15, 23.51it/s]"
     ]
    },
    {
     "name": "stdout",
     "output_type": "stream",
     "text": [
      "Validation loss decreased (0.161763 --> 0.161763).  Saving model ...\n",
      "Validation loss decreased (0.154917 --> 0.154917).  Saving model ...\n",
      "Validation loss decreased (0.148483 --> 0.148483).  Saving model ...\n",
      "Validation loss decreased (0.142986 --> 0.142986).  Saving model ...\n",
      "Validation loss decreased (0.136853 --> 0.136853).  Saving model ...\n",
      "Validation loss decreased (0.132028 --> 0.132028).  Saving model ...\n"
     ]
    },
    {
     "name": "stderr",
     "output_type": "stream",
     "text": [
      " 10%|███████▉                                                                         | 39/400 [00:01<00:14, 24.10it/s]"
     ]
    },
    {
     "name": "stdout",
     "output_type": "stream",
     "text": [
      "Validation loss decreased (0.127885 --> 0.127885).  Saving model ...\n",
      "Validation loss decreased (0.124091 --> 0.124091).  Saving model ...\n",
      "Validation loss decreased (0.120739 --> 0.120739).  Saving model ...\n",
      "Validation loss decreased (0.117831 --> 0.117831).  Saving model ...\n",
      "Validation loss decreased (0.115253 --> 0.115253).  Saving model ...\n",
      "Validation loss decreased (0.112697 --> 0.112697).  Saving model ...\n"
     ]
    },
    {
     "name": "stderr",
     "output_type": "stream",
     "text": [
      " 11%|█████████                                                                        | 45/400 [00:01<00:14, 24.80it/s]"
     ]
    },
    {
     "name": "stdout",
     "output_type": "stream",
     "text": [
      "Validation loss decreased (0.110281 --> 0.110281).  Saving model ...\n",
      "Validation loss decreased (0.107988 --> 0.107988).  Saving model ...\n",
      "Validation loss decreased (0.106658 --> 0.106658).  Saving model ...\n",
      "Validation loss decreased (0.104012 --> 0.104012).  Saving model ...\n",
      "Validation loss decreased (0.102475 --> 0.102475).  Saving model ...\n",
      "Validation loss decreased (0.102395 --> 0.102395).  Saving model ...\n"
     ]
    },
    {
     "name": "stderr",
     "output_type": "stream",
     "text": [
      " 13%|██████████▎                                                                      | 51/400 [00:02<00:14, 23.81it/s]"
     ]
    },
    {
     "name": "stdout",
     "output_type": "stream",
     "text": [
      "Validation loss decreased (0.099777 --> 0.099777).  Saving model ...\n",
      "Validation loss decreased (0.098700 --> 0.098700).  Saving model ...\n",
      "Validation loss decreased (0.096747 --> 0.096747).  Saving model ...\n",
      "Validation loss decreased (0.094458 --> 0.094458).  Saving model ...\n",
      "Validation loss decreased (0.093364 --> 0.093364).  Saving model ...\n"
     ]
    },
    {
     "name": "stderr",
     "output_type": "stream",
     "text": [
      " 14%|███████████▌                                                                     | 57/400 [00:02<00:14, 22.87it/s]"
     ]
    },
    {
     "name": "stdout",
     "output_type": "stream",
     "text": [
      "Validation loss decreased (0.092784 --> 0.092784).  Saving model ...\n",
      "Validation loss decreased (0.090335 --> 0.090335).  Saving model ...\n",
      "Validation loss decreased (0.089501 --> 0.089501).  Saving model ...\n",
      "Validation loss decreased (0.089040 --> 0.089040).  Saving model ...\n",
      "Validation loss decreased (0.087911 --> 0.087911).  Saving model ...\n"
     ]
    },
    {
     "name": "stderr",
     "output_type": "stream",
     "text": [
      " 15%|████████████▏                                                                    | 60/400 [00:02<00:15, 22.17it/s]"
     ]
    },
    {
     "name": "stdout",
     "output_type": "stream",
     "text": [
      "Validation loss decreased (0.087246 --> 0.087246).  Saving model ...\n",
      "Validation loss decreased (0.086783 --> 0.086783).  Saving model ...\n",
      "Validation loss decreased (0.085709 --> 0.085709).  Saving model ...\n",
      "Validation loss decreased (0.085372 --> 0.085372).  Saving model ...\n",
      "Validation loss decreased (0.084828 --> 0.084828).  Saving model ...\n"
     ]
    },
    {
     "name": "stderr",
     "output_type": "stream",
     "text": [
      " 16%|█████████████▎                                                                   | 66/400 [00:02<00:14, 22.67it/s]"
     ]
    },
    {
     "name": "stdout",
     "output_type": "stream",
     "text": [
      "Validation loss decreased (0.083793 --> 0.083793).  Saving model ...\n",
      "Validation loss decreased (0.083075 --> 0.083075).  Saving model ...\n",
      "Validation loss decreased (0.082529 --> 0.082529).  Saving model ...\n",
      "Validation loss decreased (0.082082 --> 0.082082).  Saving model ...\n",
      "Validation loss decreased (0.081309 --> 0.081309).  Saving model ...\n"
     ]
    },
    {
     "name": "stderr",
     "output_type": "stream",
     "text": [
      " 18%|██████████████▌                                                                  | 72/400 [00:03<00:14, 22.04it/s]"
     ]
    },
    {
     "name": "stdout",
     "output_type": "stream",
     "text": [
      "Validation loss decreased (0.080752 --> 0.080752).  Saving model ...\n",
      "Validation loss decreased (0.080401 --> 0.080401).  Saving model ...\n",
      "Validation loss decreased (0.079991 --> 0.079991).  Saving model ...\n",
      "Validation loss decreased (0.079335 --> 0.079335).  Saving model ...\n",
      "Validation loss decreased (0.078669 --> 0.078669).  Saving model ...\n"
     ]
    },
    {
     "name": "stderr",
     "output_type": "stream",
     "text": [
      " 20%|███████████████▊                                                                 | 78/400 [00:03<00:14, 22.54it/s]"
     ]
    },
    {
     "name": "stdout",
     "output_type": "stream",
     "text": [
      "Validation loss decreased (0.078240 --> 0.078240).  Saving model ...\n",
      "Validation loss decreased (0.076790 --> 0.076790).  Saving model ...\n",
      "Validation loss decreased (0.076267 --> 0.076267).  Saving model ...\n"
     ]
    },
    {
     "name": "stderr",
     "output_type": "stream",
     "text": [
      " 20%|████████████████▍                                                                | 81/400 [00:03<00:14, 22.41it/s]"
     ]
    },
    {
     "name": "stdout",
     "output_type": "stream",
     "text": [
      "Validation loss decreased (0.075885 --> 0.075885).  Saving model ...\n",
      "Validation loss decreased (0.075402 --> 0.075402).  Saving model ...\n",
      "Validation loss decreased (0.074803 --> 0.074803).  Saving model ...\n",
      "Validation loss decreased (0.074536 --> 0.074536).  Saving model ...\n"
     ]
    },
    {
     "name": "stderr",
     "output_type": "stream",
     "text": [
      " 22%|██████████████████▏                                                              | 90/400 [00:03<00:13, 22.52it/s]"
     ]
    },
    {
     "name": "stdout",
     "output_type": "stream",
     "text": [
      "Validation loss decreased (0.073016 --> 0.073016).  Saving model ...\n",
      "Validation loss decreased (0.072848 --> 0.072848).  Saving model ...\n",
      "Validation loss decreased (0.071850 --> 0.071850).  Saving model ...\n",
      "Validation loss decreased (0.071582 --> 0.071582).  Saving model ...\n"
     ]
    },
    {
     "name": "stderr",
     "output_type": "stream",
     "text": [
      " 24%|███████████████████▍                                                             | 96/400 [00:04<00:13, 22.30it/s]"
     ]
    },
    {
     "name": "stdout",
     "output_type": "stream",
     "text": [
      "Validation loss decreased (0.070923 --> 0.070923).  Saving model ...\n",
      "Validation loss decreased (0.070176 --> 0.070176).  Saving model ...\n",
      "Validation loss decreased (0.069865 --> 0.069865).  Saving model ...\n",
      "Validation loss decreased (0.069510 --> 0.069510).  Saving model ...\n"
     ]
    },
    {
     "name": "stderr",
     "output_type": "stream",
     "text": [
      " 25%|████████████████████                                                             | 99/400 [00:04<00:13, 22.24it/s]"
     ]
    },
    {
     "name": "stdout",
     "output_type": "stream",
     "text": [
      "Validation loss decreased (0.069257 --> 0.069257).  Saving model ...\n",
      "Validation loss decreased (0.068596 --> 0.068596).  Saving model ...\n",
      "Validation loss decreased (0.068114 --> 0.068114).  Saving model ...\n"
     ]
    },
    {
     "name": "stderr",
     "output_type": "stream",
     "text": [
      " 27%|█████████████████████▌                                                          | 108/400 [00:04<00:12, 22.68it/s]"
     ]
    },
    {
     "name": "stdout",
     "output_type": "stream",
     "text": [
      "Validation loss decreased (0.067118 --> 0.067118).  Saving model ...\n",
      "Validation loss decreased (0.066223 --> 0.066223).  Saving model ...\n",
      "Validation loss decreased (0.065977 --> 0.065977).  Saving model ...\n",
      "Validation loss decreased (0.065809 --> 0.065809).  Saving model ...\n",
      "Validation loss decreased (0.065673 --> 0.065673).  Saving model ...\n"
     ]
    },
    {
     "name": "stderr",
     "output_type": "stream",
     "text": [
      " 28%|██████████████████████▊                                                         | 114/400 [00:04<00:12, 23.24it/s]"
     ]
    },
    {
     "name": "stdout",
     "output_type": "stream",
     "text": [
      "Validation loss decreased (0.064959 --> 0.064959).  Saving model ...\n",
      "Validation loss decreased (0.064780 --> 0.064780).  Saving model ...\n",
      "Validation loss decreased (0.064012 --> 0.064012).  Saving model ...\n",
      "Validation loss decreased (0.063740 --> 0.063740).  Saving model ...\n"
     ]
    },
    {
     "name": "stderr",
     "output_type": "stream",
     "text": [
      " 30%|████████████████████████                                                        | 120/400 [00:05<00:12, 23.21it/s]"
     ]
    },
    {
     "name": "stdout",
     "output_type": "stream",
     "text": [
      "Validation loss decreased (0.063451 --> 0.063451).  Saving model ...\n",
      "Validation loss decreased (0.063358 --> 0.063358).  Saving model ...\n",
      "Validation loss decreased (0.062874 --> 0.062874).  Saving model ...\n",
      "Validation loss decreased (0.062667 --> 0.062667).  Saving model ...\n",
      "Validation loss decreased (0.062465 --> 0.062465).  Saving model ...\n"
     ]
    },
    {
     "name": "stderr",
     "output_type": "stream",
     "text": [
      " 31%|████████████████████████▌                                                       | 123/400 [00:05<00:12, 22.61it/s]"
     ]
    },
    {
     "name": "stdout",
     "output_type": "stream",
     "text": [
      "Validation loss decreased (0.062435 --> 0.062435).  Saving model ...\n",
      "Validation loss decreased (0.061727 --> 0.061727).  Saving model ...\n",
      "Validation loss decreased (0.061535 --> 0.061535).  Saving model ...\n",
      "Validation loss decreased (0.061132 --> 0.061132).  Saving model ...\n"
     ]
    },
    {
     "name": "stderr",
     "output_type": "stream",
     "text": [
      " 32%|█████████████████████████▊                                                      | 129/400 [00:05<00:12, 22.42it/s]"
     ]
    },
    {
     "name": "stdout",
     "output_type": "stream",
     "text": [
      "Validation loss decreased (0.060856 --> 0.060856).  Saving model ...\n",
      "Validation loss decreased (0.060297 --> 0.060297).  Saving model ...\n",
      "Validation loss decreased (0.059919 --> 0.059919).  Saving model ...\n"
     ]
    },
    {
     "name": "stderr",
     "output_type": "stream",
     "text": [
      " 34%|███████████████████████████                                                     | 135/400 [00:05<00:11, 22.22it/s]"
     ]
    },
    {
     "name": "stdout",
     "output_type": "stream",
     "text": [
      "Validation loss decreased (0.059511 --> 0.059511).  Saving model ...\n",
      "Validation loss decreased (0.059284 --> 0.059284).  Saving model ...\n",
      "Validation loss decreased (0.058831 --> 0.058831).  Saving model ...\n"
     ]
    },
    {
     "name": "stderr",
     "output_type": "stream",
     "text": [
      " 35%|████████████████████████████▏                                                   | 141/400 [00:06<00:11, 22.36it/s]"
     ]
    },
    {
     "name": "stdout",
     "output_type": "stream",
     "text": [
      "Validation loss decreased (0.058256 --> 0.058256).  Saving model ...\n",
      "Validation loss decreased (0.057797 --> 0.057797).  Saving model ...\n",
      "Validation loss decreased (0.057560 --> 0.057560).  Saving model ...\n",
      "Validation loss decreased (0.057357 --> 0.057357).  Saving model ...\n"
     ]
    },
    {
     "name": "stderr",
     "output_type": "stream",
     "text": [
      " 37%|█████████████████████████████▍                                                  | 147/400 [00:06<00:11, 22.74it/s]"
     ]
    },
    {
     "name": "stdout",
     "output_type": "stream",
     "text": [
      "Validation loss decreased (0.056844 --> 0.056844).  Saving model ...\n",
      "Validation loss decreased (0.056564 --> 0.056564).  Saving model ...\n",
      "Validation loss decreased (0.056178 --> 0.056178).  Saving model ...\n"
     ]
    },
    {
     "name": "stderr",
     "output_type": "stream",
     "text": [
      " 38%|██████████████████████████████▌                                                 | 153/400 [00:06<00:11, 22.41it/s]"
     ]
    },
    {
     "name": "stdout",
     "output_type": "stream",
     "text": [
      "Validation loss decreased (0.056117 --> 0.056117).  Saving model ...\n",
      "Validation loss decreased (0.055440 --> 0.055440).  Saving model ...\n",
      "Validation loss decreased (0.055409 --> 0.055409).  Saving model ...\n"
     ]
    },
    {
     "name": "stderr",
     "output_type": "stream",
     "text": [
      " 39%|███████████████████████████████▏                                                | 156/400 [00:06<00:10, 22.57it/s]"
     ]
    },
    {
     "name": "stdout",
     "output_type": "stream",
     "text": [
      "Validation loss decreased (0.054984 --> 0.054984).  Saving model ...\n",
      "Validation loss decreased (0.054735 --> 0.054735).  Saving model ...\n",
      "Validation loss decreased (0.054526 --> 0.054526).  Saving model ...\n",
      "Validation loss decreased (0.054365 --> 0.054365).  Saving model ...\n"
     ]
    },
    {
     "name": "stderr",
     "output_type": "stream",
     "text": [
      " 40%|████████████████████████████████▍                                               | 162/400 [00:07<00:10, 22.50it/s]"
     ]
    },
    {
     "name": "stdout",
     "output_type": "stream",
     "text": [
      "Validation loss decreased (0.053581 --> 0.053581).  Saving model ...\n",
      "Validation loss decreased (0.053314 --> 0.053314).  Saving model ...\n",
      "Validation loss decreased (0.053196 --> 0.053196).  Saving model ...\n",
      "Validation loss decreased (0.052907 --> 0.052907).  Saving model ...\n"
     ]
    },
    {
     "name": "stderr",
     "output_type": "stream",
     "text": [
      " 42%|█████████████████████████████████▌                                              | 168/400 [00:07<00:10, 22.32it/s]"
     ]
    },
    {
     "name": "stdout",
     "output_type": "stream",
     "text": [
      "Validation loss decreased (0.052796 --> 0.052796).  Saving model ...\n",
      "Validation loss decreased (0.052400 --> 0.052400).  Saving model ...\n"
     ]
    },
    {
     "name": "stderr",
     "output_type": "stream",
     "text": [
      " 44%|██████████████████████████████████▊                                             | 174/400 [00:07<00:09, 23.30it/s]"
     ]
    },
    {
     "name": "stdout",
     "output_type": "stream",
     "text": [
      "Validation loss decreased (0.051961 --> 0.051961).  Saving model ...\n",
      "Validation loss decreased (0.051829 --> 0.051829).  Saving model ...\n",
      "Validation loss decreased (0.051745 --> 0.051745).  Saving model ...\n",
      "Validation loss decreased (0.051397 --> 0.051397).  Saving model ...\n"
     ]
    },
    {
     "name": "stderr",
     "output_type": "stream",
     "text": [
      " 46%|████████████████████████████████████▌                                           | 183/400 [00:08<00:09, 23.12it/s]"
     ]
    },
    {
     "name": "stdout",
     "output_type": "stream",
     "text": [
      "Validation loss decreased (0.051396 --> 0.051396).  Saving model ...\n",
      "Validation loss decreased (0.050810 --> 0.050810).  Saving model ...\n",
      "Validation loss decreased (0.050804 --> 0.050804).  Saving model ...\n"
     ]
    },
    {
     "name": "stderr",
     "output_type": "stream",
     "text": [
      " 46%|█████████████████████████████████████▏                                          | 186/400 [00:08<00:09, 22.74it/s]"
     ]
    },
    {
     "name": "stdout",
     "output_type": "stream",
     "text": [
      "Validation loss decreased (0.050610 --> 0.050610).  Saving model ...\n",
      "Validation loss decreased (0.050491 --> 0.050491).  Saving model ...\n"
     ]
    },
    {
     "name": "stderr",
     "output_type": "stream",
     "text": [
      " 48%|██████████████████████████████████████▍                                         | 192/400 [00:08<00:09, 22.28it/s]"
     ]
    },
    {
     "name": "stdout",
     "output_type": "stream",
     "text": [
      "Validation loss decreased (0.050321 --> 0.050321).  Saving model ...\n",
      "Validation loss decreased (0.050081 --> 0.050081).  Saving model ...\n"
     ]
    },
    {
     "name": "stderr",
     "output_type": "stream",
     "text": [
      " 50%|███████████████████████████████████████▌                                        | 198/400 [00:08<00:08, 22.84it/s]"
     ]
    },
    {
     "name": "stdout",
     "output_type": "stream",
     "text": [
      "Validation loss decreased (0.049877 --> 0.049877).  Saving model ...\n",
      "Validation loss decreased (0.049826 --> 0.049826).  Saving model ...\n",
      "Validation loss decreased (0.049756 --> 0.049756).  Saving model ...\n",
      "Validation loss decreased (0.049543 --> 0.049543).  Saving model ...\n"
     ]
    },
    {
     "name": "stderr",
     "output_type": "stream",
     "text": [
      " 51%|████████████████████████████████████████▊                                       | 204/400 [00:08<00:08, 22.91it/s]"
     ]
    },
    {
     "name": "stdout",
     "output_type": "stream",
     "text": [
      "Validation loss decreased (0.049302 --> 0.049302).  Saving model ...\n",
      "Validation loss decreased (0.049270 --> 0.049270).  Saving model ...\n",
      "Validation loss decreased (0.049229 --> 0.049229).  Saving model ...\n",
      "Validation loss decreased (0.049129 --> 0.049129).  Saving model ...\n"
     ]
    },
    {
     "name": "stderr",
     "output_type": "stream",
     "text": [
      " 53%|██████████████████████████████████████████▌                                     | 213/400 [00:09<00:08, 22.92it/s]"
     ]
    },
    {
     "name": "stdout",
     "output_type": "stream",
     "text": [
      "Validation loss decreased (0.048889 --> 0.048889).  Saving model ...\n",
      "Validation loss decreased (0.048798 --> 0.048798).  Saving model ...\n",
      "Validation loss decreased (0.048759 --> 0.048759).  Saving model ..."
     ]
    },
    {
     "name": "stderr",
     "output_type": "stream",
     "text": [
      " 54%|███████████████████████████████████████████▏                                    | 216/400 [00:09<00:08, 22.76it/s]"
     ]
    },
    {
     "name": "stdout",
     "output_type": "stream",
     "text": [
      "\n",
      "Validation loss decreased (0.048667 --> 0.048667).  Saving model ...\n",
      "Validation loss decreased (0.048614 --> 0.048614).  Saving model ...\n",
      "Validation loss decreased (0.048418 --> 0.048418).  Saving model ...\n"
     ]
    },
    {
     "name": "stderr",
     "output_type": "stream",
     "text": [
      " 56%|████████████████████████████████████████████▍                                   | 222/400 [00:09<00:07, 22.85it/s]"
     ]
    },
    {
     "name": "stdout",
     "output_type": "stream",
     "text": [
      "Validation loss decreased (0.048332 --> 0.048332).  Saving model ...\n"
     ]
    },
    {
     "name": "stderr",
     "output_type": "stream",
     "text": [
      " 58%|██████████████████████████████████████████████▏                                 | 231/400 [00:10<00:07, 22.91it/s]"
     ]
    },
    {
     "name": "stdout",
     "output_type": "stream",
     "text": [
      "Validation loss decreased (0.048052 --> 0.048052).  Saving model ...\n",
      "Validation loss decreased (0.047981 --> 0.047981).  Saving model ...\n",
      "Validation loss decreased (0.047971 --> 0.047971).  Saving model ...\n"
     ]
    },
    {
     "name": "stderr",
     "output_type": "stream",
     "text": [
      " 58%|██████████████████████████████████████████████▊                                 | 234/400 [00:10<00:07, 22.98it/s]"
     ]
    },
    {
     "name": "stdout",
     "output_type": "stream",
     "text": [
      "Validation loss decreased (0.047810 --> 0.047810).  Saving model ...\n",
      "Validation loss decreased (0.047708 --> 0.047708).  Saving model ...\n"
     ]
    },
    {
     "name": "stderr",
     "output_type": "stream",
     "text": [
      " 60%|████████████████████████████████████████████████                                | 240/400 [00:10<00:06, 23.10it/s]"
     ]
    },
    {
     "name": "stdout",
     "output_type": "stream",
     "text": [
      "Validation loss decreased (0.047608 --> 0.047608).  Saving model ...\n",
      "Validation loss decreased (0.047547 --> 0.047547).  Saving model ...\n"
     ]
    },
    {
     "name": "stderr",
     "output_type": "stream",
     "text": [
      " 62%|█████████████████████████████████████████████████▏                              | 246/400 [00:10<00:06, 23.12it/s]"
     ]
    },
    {
     "name": "stdout",
     "output_type": "stream",
     "text": [
      "Validation loss decreased (0.047532 --> 0.047532).  Saving model ...\n",
      "Validation loss decreased (0.047283 --> 0.047283).  Saving model ...\n"
     ]
    },
    {
     "name": "stderr",
     "output_type": "stream",
     "text": [
      " 63%|██████████████████████████████████████████████████▍                             | 252/400 [00:11<00:06, 22.56it/s]"
     ]
    },
    {
     "name": "stdout",
     "output_type": "stream",
     "text": [
      "Validation loss decreased (0.047270 --> 0.047270).  Saving model ...\n",
      "Validation loss decreased (0.047257 --> 0.047257).  Saving model ...\n",
      "Validation loss decreased (0.047091 --> 0.047091).  Saving model ...\n"
     ]
    },
    {
     "name": "stderr",
     "output_type": "stream",
     "text": [
      " 64%|███████████████████████████████████████████████████▌                            | 258/400 [00:11<00:06, 22.81it/s]"
     ]
    },
    {
     "name": "stdout",
     "output_type": "stream",
     "text": [
      "Validation loss decreased (0.046965 --> 0.046965).  Saving model ...\n",
      "Validation loss decreased (0.046900 --> 0.046900).  Saving model ...\n"
     ]
    },
    {
     "name": "stderr",
     "output_type": "stream",
     "text": [
      " 68%|██████████████████████████████████████████████████████                          | 270/400 [00:11<00:05, 23.66it/s]"
     ]
    },
    {
     "name": "stdout",
     "output_type": "stream",
     "text": [
      "Validation loss decreased (0.046889 --> 0.046889).  Saving model ...\n",
      "Validation loss decreased (0.046707 --> 0.046707).  Saving model ...\n"
     ]
    },
    {
     "name": "stderr",
     "output_type": "stream",
     "text": [
      " 74%|██████████████████████████████████████████████████████████▊                     | 294/400 [00:12<00:04, 24.46it/s]"
     ]
    },
    {
     "name": "stdout",
     "output_type": "stream",
     "text": [
      "Validation loss decreased (0.046630 --> 0.046630).  Saving model ...\n",
      "Validation loss decreased (0.046482 --> 0.046482).  Saving model ...\n"
     ]
    },
    {
     "name": "stderr",
     "output_type": "stream",
     "text": [
      " 75%|████████████████████████████████████████████████████████████                    | 300/400 [00:13<00:04, 23.33it/s]"
     ]
    },
    {
     "name": "stdout",
     "output_type": "stream",
     "text": [
      "Validation loss decreased (0.046428 --> 0.046428).  Saving model ...\n",
      "Validation loss decreased (0.046372 --> 0.046372).  Saving model ...\n",
      "Validation loss decreased (0.046368 --> 0.046368).  Saving model ...\n"
     ]
    },
    {
     "name": "stderr",
     "output_type": "stream",
     "text": [
      " 76%|█████████████████████████████████████████████████████████████▏                  | 306/400 [00:13<00:04, 22.61it/s]"
     ]
    },
    {
     "name": "stdout",
     "output_type": "stream",
     "text": [
      "Validation loss decreased (0.046338 --> 0.046338).  Saving model ...\n",
      "Validation loss decreased (0.046229 --> 0.046229).  Saving model ...\n"
     ]
    },
    {
     "name": "stderr",
     "output_type": "stream",
     "text": [
      " 78%|██████████████████████████████████████████████████████████████▍                 | 312/400 [00:13<00:03, 22.50it/s]"
     ]
    },
    {
     "name": "stdout",
     "output_type": "stream",
     "text": [
      "Validation loss decreased (0.046171 --> 0.046171).  Saving model ...\n",
      "Validation loss decreased (0.046002 --> 0.046002).  Saving model ...\n",
      "Validation loss decreased (0.045916 --> 0.045916).  Saving model ...\n"
     ]
    },
    {
     "name": "stderr",
     "output_type": "stream",
     "text": [
      " 79%|███████████████████████████████████████████████████████████████                 | 315/400 [00:13<00:03, 22.63it/s]"
     ]
    },
    {
     "name": "stdout",
     "output_type": "stream",
     "text": [
      "Validation loss decreased (0.045745 --> 0.045745).  Saving model ...\n"
     ]
    },
    {
     "name": "stderr",
     "output_type": "stream",
     "text": [
      " 80%|████████████████████████████████████████████████████████████████▏               | 321/400 [00:14<00:03, 22.61it/s]"
     ]
    },
    {
     "name": "stdout",
     "output_type": "stream",
     "text": [
      "Validation loss decreased (0.045689 --> 0.045689).  Saving model ...\n",
      "Validation loss decreased (0.045634 --> 0.045634).  Saving model ...\n"
     ]
    },
    {
     "name": "stderr",
     "output_type": "stream",
     "text": [
      " 82%|██████████████████████████████████████████████████████████████████              | 330/400 [00:14<00:03, 22.24it/s]"
     ]
    },
    {
     "name": "stdout",
     "output_type": "stream",
     "text": [
      "Validation loss decreased (0.045549 --> 0.045549).  Saving model ...\n",
      "Validation loss decreased (0.045539 --> 0.045539).  Saving model ...\n",
      "Validation loss decreased (0.045451 --> 0.045451).  Saving model ...\n",
      "Validation loss decreased (0.045422 --> 0.045422).  Saving model ...\n"
     ]
    },
    {
     "name": "stderr",
     "output_type": "stream",
     "text": [
      " 83%|██████████████████████████████████████████████████████████████████▌             | 333/400 [00:14<00:02, 22.61it/s]"
     ]
    },
    {
     "name": "stdout",
     "output_type": "stream",
     "text": [
      "Validation loss decreased (0.045352 --> 0.045352).  Saving model ...\n",
      "Validation loss decreased (0.045337 --> 0.045337).  Saving model ...\n"
     ]
    },
    {
     "name": "stderr",
     "output_type": "stream",
     "text": [
      " 86%|████████████████████████████████████████████████████████████████████▍           | 342/400 [00:14<00:02, 22.58it/s]"
     ]
    },
    {
     "name": "stdout",
     "output_type": "stream",
     "text": [
      "Validation loss decreased (0.045261 --> 0.045261).  Saving model ...\n",
      "Validation loss decreased (0.045217 --> 0.045217).  Saving model ...\n",
      "Validation loss decreased (0.045160 --> 0.045160).  Saving model ...\n"
     ]
    },
    {
     "name": "stderr",
     "output_type": "stream",
     "text": [
      " 88%|██████████████████████████████████████████████████████████████████████▊         | 354/400 [00:15<00:01, 23.07it/s]"
     ]
    },
    {
     "name": "stdout",
     "output_type": "stream",
     "text": [
      "Validation loss decreased (0.045031 --> 0.045031).  Saving model ...\n"
     ]
    },
    {
     "name": "stderr",
     "output_type": "stream",
     "text": [
      " 90%|████████████████████████████████████████████████████████████████████████        | 360/400 [00:15<00:01, 22.54it/s]"
     ]
    },
    {
     "name": "stdout",
     "output_type": "stream",
     "text": [
      "Validation loss decreased (0.044951 --> 0.044951).  Saving model ...\n",
      "Validation loss decreased (0.044855 --> 0.044855).  Saving model ...\n",
      "Validation loss decreased (0.044812 --> 0.044812).  Saving model ...\n"
     ]
    },
    {
     "name": "stderr",
     "output_type": "stream",
     "text": [
      " 94%|███████████████████████████████████████████████████████████████████████████▌    | 378/400 [00:16<00:00, 23.77it/s]"
     ]
    },
    {
     "name": "stdout",
     "output_type": "stream",
     "text": [
      "Validation loss decreased (0.044799 --> 0.044799).  Saving model ...\n",
      "Validation loss decreased (0.044793 --> 0.044793).  Saving model ...\n"
     ]
    },
    {
     "name": "stderr",
     "output_type": "stream",
     "text": [
      " 98%|██████████████████████████████████████████████████████████████████████████████  | 390/400 [00:17<00:00, 23.18it/s]"
     ]
    },
    {
     "name": "stdout",
     "output_type": "stream",
     "text": [
      "Validation loss decreased (0.044786 --> 0.044786).  Saving model ...\n",
      "Validation loss decreased (0.044771 --> 0.044771).  Saving model ...\n"
     ]
    },
    {
     "name": "stderr",
     "output_type": "stream",
     "text": [
      "100%|███████████████████████████████████████████████████████████████████████████████▊| 399/400 [00:17<00:00, 23.15it/s]"
     ]
    },
    {
     "name": "stdout",
     "output_type": "stream",
     "text": [
      "Validation loss decreased (0.044759 --> 0.044759).  Saving model ...\n",
      "Validation loss decreased (0.044735 --> 0.044735).  Saving model ...\n"
     ]
    },
    {
     "name": "stderr",
     "output_type": "stream",
     "text": [
      "100%|████████████████████████████████████████████████████████████████████████████████| 400/400 [00:17<00:00, 22.90it/s]\n",
      "  1%|▌                                                                                 | 3/400 [00:00<00:17, 23.32it/s]"
     ]
    },
    {
     "name": "stdout",
     "output_type": "stream",
     "text": [
      "Validation loss decreased (0.667925 --> 0.667925).  Saving model ...\n",
      "Validation loss decreased (0.656252 --> 0.656252).  Saving model ...\n",
      "Validation loss decreased (0.642775 --> 0.642775).  Saving model ...\n",
      "Validation loss decreased (0.628195 --> 0.628195).  Saving model ...\n",
      "Validation loss decreased (0.613158 --> 0.613158).  Saving model ...\n"
     ]
    },
    {
     "name": "stderr",
     "output_type": "stream",
     "text": [
      "  2%|█▊                                                                                | 9/400 [00:00<00:16, 24.21it/s]"
     ]
    },
    {
     "name": "stdout",
     "output_type": "stream",
     "text": [
      "Validation loss decreased (0.598181 --> 0.598181).  Saving model ...\n",
      "Validation loss decreased (0.582286 --> 0.582286).  Saving model ...\n",
      "Validation loss decreased (0.565167 --> 0.565167).  Saving model ...\n",
      "Validation loss decreased (0.547303 --> 0.547303).  Saving model ...\n",
      "Validation loss decreased (0.528607 --> 0.528607).  Saving model ...\n"
     ]
    },
    {
     "name": "stderr",
     "output_type": "stream",
     "text": [
      "  4%|███                                                                              | 15/400 [00:00<00:15, 24.48it/s]"
     ]
    },
    {
     "name": "stdout",
     "output_type": "stream",
     "text": [
      "Validation loss decreased (0.509212 --> 0.509212).  Saving model ...\n",
      "Validation loss decreased (0.489182 --> 0.489182).  Saving model ...\n",
      "Validation loss decreased (0.468187 --> 0.468187).  Saving model ...\n",
      "Validation loss decreased (0.447268 --> 0.447268).  Saving model ...\n",
      "Validation loss decreased (0.425637 --> 0.425637).  Saving model ...\n"
     ]
    },
    {
     "name": "stderr",
     "output_type": "stream",
     "text": [
      "  4%|███▋                                                                             | 18/400 [00:00<00:15, 24.61it/s]"
     ]
    },
    {
     "name": "stdout",
     "output_type": "stream",
     "text": [
      "Validation loss decreased (0.404907 --> 0.404907).  Saving model ...\n",
      "Validation loss decreased (0.383482 --> 0.383482).  Saving model ...\n",
      "Validation loss decreased (0.361991 --> 0.361991).  Saving model ...\n",
      "Validation loss decreased (0.341468 --> 0.341468).  Saving model ...\n",
      "Validation loss decreased (0.321964 --> 0.321964).  Saving model ...\n"
     ]
    },
    {
     "name": "stderr",
     "output_type": "stream",
     "text": [
      "  6%|████▊                                                                            | 24/400 [00:00<00:15, 24.35it/s]"
     ]
    },
    {
     "name": "stdout",
     "output_type": "stream",
     "text": [
      "Validation loss decreased (0.302441 --> 0.302441).  Saving model ...\n",
      "Validation loss decreased (0.283207 --> 0.283207).  Saving model ...\n",
      "Validation loss decreased (0.265568 --> 0.265568).  Saving model ...\n",
      "Validation loss decreased (0.248342 --> 0.248342).  Saving model ...\n",
      "Validation loss decreased (0.233011 --> 0.233011).  Saving model ...\n",
      "Validation loss decreased (0.220543 --> 0.220543).  Saving model ...\n"
     ]
    },
    {
     "name": "stderr",
     "output_type": "stream",
     "text": [
      "  8%|██████                                                                           | 30/400 [00:01<00:15, 24.45it/s]"
     ]
    },
    {
     "name": "stdout",
     "output_type": "stream",
     "text": [
      "Validation loss decreased (0.208912 --> 0.208912).  Saving model ...\n",
      "Validation loss decreased (0.199534 --> 0.199534).  Saving model ...\n",
      "Validation loss decreased (0.190972 --> 0.190972).  Saving model ...\n",
      "Validation loss decreased (0.183557 --> 0.183557).  Saving model ...\n",
      "Validation loss decreased (0.177557 --> 0.177557).  Saving model ...\n"
     ]
    },
    {
     "name": "stderr",
     "output_type": "stream",
     "text": [
      "  9%|███████▎                                                                         | 36/400 [00:01<00:15, 24.14it/s]"
     ]
    },
    {
     "name": "stdout",
     "output_type": "stream",
     "text": [
      "Validation loss decreased (0.170392 --> 0.170392).  Saving model ...\n",
      "Validation loss decreased (0.164612 --> 0.164612).  Saving model ...\n",
      "Validation loss decreased (0.159718 --> 0.159718).  Saving model ...\n",
      "Validation loss decreased (0.155770 --> 0.155770).  Saving model ...\n",
      "Validation loss decreased (0.150879 --> 0.150879).  Saving model ...\n"
     ]
    },
    {
     "name": "stderr",
     "output_type": "stream",
     "text": [
      " 10%|███████▉                                                                         | 39/400 [00:01<00:15, 23.71it/s]"
     ]
    },
    {
     "name": "stdout",
     "output_type": "stream",
     "text": [
      "Validation loss decreased (0.147181 --> 0.147181).  Saving model ...\n",
      "Validation loss decreased (0.143916 --> 0.143916).  Saving model ...\n",
      "Validation loss decreased (0.141236 --> 0.141236).  Saving model ...\n",
      "Validation loss decreased (0.138261 --> 0.138261).  Saving model ...\n",
      "Validation loss decreased (0.135108 --> 0.135108).  Saving model ...\n"
     ]
    },
    {
     "name": "stderr",
     "output_type": "stream",
     "text": [
      " 11%|█████████                                                                        | 45/400 [00:01<00:14, 24.04it/s]"
     ]
    },
    {
     "name": "stdout",
     "output_type": "stream",
     "text": [
      "Validation loss decreased (0.132217 --> 0.132217).  Saving model ...\n",
      "Validation loss decreased (0.129745 --> 0.129745).  Saving model ...\n",
      "Validation loss decreased (0.127896 --> 0.127896).  Saving model ...\n",
      "Validation loss decreased (0.127108 --> 0.127108).  Saving model ...\n",
      "Validation loss decreased (0.123788 --> 0.123788).  Saving model ...\n"
     ]
    },
    {
     "name": "stderr",
     "output_type": "stream",
     "text": [
      " 13%|██████████▎                                                                      | 51/400 [00:02<00:14, 23.56it/s]"
     ]
    },
    {
     "name": "stdout",
     "output_type": "stream",
     "text": [
      "Validation loss decreased (0.121591 --> 0.121591).  Saving model ...\n",
      "Validation loss decreased (0.120119 --> 0.120119).  Saving model ...\n",
      "Validation loss decreased (0.118610 --> 0.118610).  Saving model ...\n",
      "Validation loss decreased (0.117153 --> 0.117153).  Saving model ...\n",
      "Validation loss decreased (0.115921 --> 0.115921).  Saving model ...\n"
     ]
    },
    {
     "name": "stderr",
     "output_type": "stream",
     "text": [
      " 14%|██████████▉                                                                      | 54/400 [00:02<00:14, 23.71it/s]"
     ]
    },
    {
     "name": "stdout",
     "output_type": "stream",
     "text": [
      "Validation loss decreased (0.114475 --> 0.114475).  Saving model ...\n",
      "Validation loss decreased (0.113173 --> 0.113173).  Saving model ...\n",
      "Validation loss decreased (0.112975 --> 0.112975).  Saving model ...\n",
      "Validation loss decreased (0.111195 --> 0.111195).  Saving model ...\n",
      "Validation loss decreased (0.109853 --> 0.109853).  Saving model ...\n"
     ]
    },
    {
     "name": "stderr",
     "output_type": "stream",
     "text": [
      " 15%|████████████▏                                                                    | 60/400 [00:02<00:14, 24.16it/s]"
     ]
    },
    {
     "name": "stdout",
     "output_type": "stream",
     "text": [
      "Validation loss decreased (0.108746 --> 0.108746).  Saving model ...\n",
      "Validation loss decreased (0.107716 --> 0.107716).  Saving model ...\n",
      "Validation loss decreased (0.106234 --> 0.106234).  Saving model ...\n"
     ]
    },
    {
     "name": "stderr",
     "output_type": "stream",
     "text": [
      " 16%|█████████████▎                                                                   | 66/400 [00:02<00:13, 24.50it/s]"
     ]
    },
    {
     "name": "stdout",
     "output_type": "stream",
     "text": [
      "Validation loss decreased (0.105276 --> 0.105276).  Saving model ...\n",
      "Validation loss decreased (0.103441 --> 0.103441).  Saving model ...\n",
      "Validation loss decreased (0.102917 --> 0.102917).  Saving model ...\n",
      "Validation loss decreased (0.101729 --> 0.101729).  Saving model ...\n"
     ]
    },
    {
     "name": "stderr",
     "output_type": "stream",
     "text": [
      " 18%|██████████████▌                                                                  | 72/400 [00:02<00:13, 24.26it/s]"
     ]
    },
    {
     "name": "stdout",
     "output_type": "stream",
     "text": [
      "Validation loss decreased (0.101009 --> 0.101009).  Saving model ...\n",
      "Validation loss decreased (0.100462 --> 0.100462).  Saving model ...\n",
      "Validation loss decreased (0.100400 --> 0.100400).  Saving model ...\n",
      "Validation loss decreased (0.098897 --> 0.098897).  Saving model ...\n",
      "Validation loss decreased (0.098049 --> 0.098049).  Saving model ...\n"
     ]
    },
    {
     "name": "stderr",
     "output_type": "stream",
     "text": [
      " 20%|███████████████▊                                                                 | 78/400 [00:03<00:13, 24.24it/s]"
     ]
    },
    {
     "name": "stdout",
     "output_type": "stream",
     "text": [
      "Validation loss decreased (0.097835 --> 0.097835).  Saving model ...\n",
      "Validation loss decreased (0.096323 --> 0.096323).  Saving model ...\n",
      "Validation loss decreased (0.095929 --> 0.095929).  Saving model ...\n",
      "Validation loss decreased (0.095425 --> 0.095425).  Saving model ...\n"
     ]
    },
    {
     "name": "stderr",
     "output_type": "stream",
     "text": [
      " 21%|█████████████████                                                                | 84/400 [00:03<00:13, 23.84it/s]"
     ]
    },
    {
     "name": "stdout",
     "output_type": "stream",
     "text": [
      "Validation loss decreased (0.094538 --> 0.094538).  Saving model ...\n",
      "Validation loss decreased (0.094167 --> 0.094167).  Saving model ...\n",
      "Validation loss decreased (0.094030 --> 0.094030).  Saving model ...\n",
      "Validation loss decreased (0.093726 --> 0.093726).  Saving model ...\n",
      "Validation loss decreased (0.093242 --> 0.093242).  Saving model ...\n"
     ]
    },
    {
     "name": "stderr",
     "output_type": "stream",
     "text": [
      " 22%|██████████████████▏                                                              | 90/400 [00:03<00:12, 24.66it/s]"
     ]
    },
    {
     "name": "stdout",
     "output_type": "stream",
     "text": [
      "Validation loss decreased (0.092901 --> 0.092901).  Saving model ...\n",
      "Validation loss decreased (0.091667 --> 0.091667).  Saving model ...\n"
     ]
    },
    {
     "name": "stderr",
     "output_type": "stream",
     "text": [
      " 24%|███████████████████▍                                                             | 96/400 [00:03<00:12, 24.05it/s]"
     ]
    },
    {
     "name": "stdout",
     "output_type": "stream",
     "text": [
      "Validation loss decreased (0.090498 --> 0.090498).  Saving model ...\n",
      "Validation loss decreased (0.090474 --> 0.090474).  Saving model ...\n",
      "Validation loss decreased (0.089905 --> 0.089905).  Saving model ...\n",
      "Validation loss decreased (0.089756 --> 0.089756).  Saving model ...\n"
     ]
    },
    {
     "name": "stderr",
     "output_type": "stream",
     "text": [
      " 26%|████████████████████▍                                                           | 102/400 [00:04<00:11, 25.01it/s]"
     ]
    },
    {
     "name": "stdout",
     "output_type": "stream",
     "text": [
      "Validation loss decreased (0.088983 --> 0.088983).  Saving model ...\n",
      "Validation loss decreased (0.088377 --> 0.088377).  Saving model ...\n"
     ]
    },
    {
     "name": "stderr",
     "output_type": "stream",
     "text": [
      " 27%|█████████████████████▌                                                          | 108/400 [00:04<00:11, 25.29it/s]"
     ]
    },
    {
     "name": "stdout",
     "output_type": "stream",
     "text": [
      "Validation loss decreased (0.088050 --> 0.088050).  Saving model ...\n",
      "Validation loss decreased (0.087969 --> 0.087969).  Saving model ...\n",
      "Validation loss decreased (0.087637 --> 0.087637).  Saving model ...\n",
      "Validation loss decreased (0.087484 --> 0.087484).  Saving model ...\n"
     ]
    },
    {
     "name": "stderr",
     "output_type": "stream",
     "text": [
      " 28%|██████████████████████▊                                                         | 114/400 [00:04<00:11, 24.69it/s]"
     ]
    },
    {
     "name": "stdout",
     "output_type": "stream",
     "text": [
      "Validation loss decreased (0.087289 --> 0.087289).  Saving model ...\n",
      "Validation loss decreased (0.087090 --> 0.087090).  Saving model ...\n",
      "Validation loss decreased (0.086976 --> 0.086976).  Saving model ...\n",
      "Validation loss decreased (0.086775 --> 0.086775).  Saving model ...\n"
     ]
    },
    {
     "name": "stderr",
     "output_type": "stream",
     "text": [
      " 30%|████████████████████████                                                        | 120/400 [00:04<00:11, 25.13it/s]"
     ]
    },
    {
     "name": "stdout",
     "output_type": "stream",
     "text": [
      "Validation loss decreased (0.086482 --> 0.086482).  Saving model ...\n",
      "Validation loss decreased (0.086083 --> 0.086083).  Saving model ...\n",
      "Validation loss decreased (0.085970 --> 0.085970).  Saving model ...\n"
     ]
    },
    {
     "name": "stderr",
     "output_type": "stream",
     "text": [
      " 32%|█████████████████████████▏                                                      | 126/400 [00:05<00:10, 24.96it/s]"
     ]
    },
    {
     "name": "stdout",
     "output_type": "stream",
     "text": [
      "Validation loss decreased (0.085898 --> 0.085898).  Saving model ...\n",
      "Validation loss decreased (0.085286 --> 0.085286).  Saving model ...\n",
      "Validation loss decreased (0.084902 --> 0.084902).  Saving model ...\n",
      "Validation loss decreased (0.084815 --> 0.084815).  Saving model ...\n"
     ]
    },
    {
     "name": "stderr",
     "output_type": "stream",
     "text": [
      " 34%|███████████████████████████▌                                                    | 138/400 [00:05<00:10, 25.32it/s]"
     ]
    },
    {
     "name": "stdout",
     "output_type": "stream",
     "text": [
      "Validation loss decreased (0.084227 --> 0.084227).  Saving model ...\n",
      "Validation loss decreased (0.083822 --> 0.083822).  Saving model ...\n",
      "Validation loss decreased (0.083806 --> 0.083806).  Saving model ...\n"
     ]
    },
    {
     "name": "stderr",
     "output_type": "stream",
     "text": [
      " 36%|████████████████████████████▊                                                   | 144/400 [00:05<00:09, 25.94it/s]"
     ]
    },
    {
     "name": "stdout",
     "output_type": "stream",
     "text": [
      "Validation loss decreased (0.083595 --> 0.083595).  Saving model ...\n",
      "Validation loss decreased (0.083392 --> 0.083392).  Saving model ...\n"
     ]
    },
    {
     "name": "stderr",
     "output_type": "stream",
     "text": [
      " 38%|██████████████████████████████▌                                                 | 153/400 [00:06<00:09, 26.18it/s]"
     ]
    },
    {
     "name": "stdout",
     "output_type": "stream",
     "text": [
      "Validation loss decreased (0.082851 --> 0.082851).  Saving model ...\n"
     ]
    },
    {
     "name": "stderr",
     "output_type": "stream",
     "text": [
      " 40%|███████████████████████████████▊                                                | 159/400 [00:06<00:09, 25.35it/s]"
     ]
    },
    {
     "name": "stdout",
     "output_type": "stream",
     "text": [
      "Validation loss decreased (0.082622 --> 0.082622).  Saving model ...\n",
      "Validation loss decreased (0.082523 --> 0.082523).  Saving model ...\n",
      "Validation loss decreased (0.082130 --> 0.082130).  Saving model ...\n",
      "Validation loss decreased (0.082048 --> 0.082048).  Saving model ...\n"
     ]
    },
    {
     "name": "stderr",
     "output_type": "stream",
     "text": [
      " 45%|████████████████████████████████████                                            | 180/400 [00:07<00:08, 25.39it/s]"
     ]
    },
    {
     "name": "stdout",
     "output_type": "stream",
     "text": [
      "Validation loss decreased (0.082031 --> 0.082031).  Saving model ...\n",
      "Validation loss decreased (0.081059 --> 0.081059).  Saving model ...\n"
     ]
    },
    {
     "name": "stderr",
     "output_type": "stream",
     "text": [
      " 50%|███████████████████████████████████████▌                                        | 198/400 [00:07<00:08, 25.08it/s]"
     ]
    },
    {
     "name": "stdout",
     "output_type": "stream",
     "text": [
      "Validation loss decreased (0.080916 --> 0.080916).  Saving model ...\n",
      "Validation loss decreased (0.080498 --> 0.080498).  Saving model ...\n",
      "Validation loss decreased (0.080454 --> 0.080454).  Saving model ...\n"
     ]
    },
    {
     "name": "stderr",
     "output_type": "stream",
     "text": [
      " 51%|████████████████████████████████████████▊                                       | 204/400 [00:08<00:07, 25.34it/s]"
     ]
    },
    {
     "name": "stdout",
     "output_type": "stream",
     "text": [
      "Validation loss decreased (0.080423 --> 0.080423).  Saving model ...\n",
      "Validation loss decreased (0.079891 --> 0.079891).  Saving model ...\n"
     ]
    },
    {
     "name": "stderr",
     "output_type": "stream",
     "text": [
      " 55%|███████████████████████████████████████████▊                                    | 219/400 [00:08<00:06, 25.89it/s]"
     ]
    },
    {
     "name": "stdout",
     "output_type": "stream",
     "text": [
      "Validation loss decreased (0.079874 --> 0.079874).  Saving model ...\n"
     ]
    },
    {
     "name": "stderr",
     "output_type": "stream",
     "text": [
      " 64%|███████████████████████████████████████████████████▌                            | 258/400 [00:10<00:05, 27.67it/s]"
     ]
    },
    {
     "name": "stdout",
     "output_type": "stream",
     "text": [
      "Validation loss decreased (0.079806 --> 0.079806).  Saving model ...\n",
      "Validation loss decreased (0.079780 --> 0.079780).  Saving model ...\n"
     ]
    },
    {
     "name": "stderr",
     "output_type": "stream",
     "text": [
      " 67%|█████████████████████████████████████████████████████▍                          | 267/400 [00:10<00:04, 26.86it/s]"
     ]
    },
    {
     "name": "stdout",
     "output_type": "stream",
     "text": [
      "Validation loss decreased (0.079624 --> 0.079624).  Saving model ...\n",
      "Validation loss decreased (0.079588 --> 0.079588).  Saving model ...\n",
      "Validation loss decreased (0.079044 --> 0.079044).  Saving model ...\n",
      "Validation loss decreased (0.078976 --> 0.078976).  Saving model ...\n",
      "Validation loss decreased (0.078868 --> 0.078868).  Saving model ...\n"
     ]
    },
    {
     "name": "stderr",
     "output_type": "stream",
     "text": [
      " 70%|████████████████████████████████████████████████████████▍                       | 282/400 [00:11<00:04, 26.56it/s]"
     ]
    },
    {
     "name": "stdout",
     "output_type": "stream",
     "text": [
      "Validation loss decreased (0.078845 --> 0.078845).  Saving model ...\n",
      "Validation loss decreased (0.078579 --> 0.078579).  Saving model ...\n"
     ]
    },
    {
     "name": "stderr",
     "output_type": "stream",
     "text": [
      " 73%|██████████████████████████████████████████████████████████▏                     | 291/400 [00:11<00:04, 26.16it/s]"
     ]
    },
    {
     "name": "stdout",
     "output_type": "stream",
     "text": [
      "Validation loss decreased (0.078486 --> 0.078486).  Saving model ...\n",
      "Validation loss decreased (0.078320 --> 0.078320).  Saving model ...\n"
     ]
    },
    {
     "name": "stderr",
     "output_type": "stream",
     "text": [
      " 76%|████████████████████████████████████████████████████████████▌                   | 303/400 [00:11<00:03, 27.16it/s]"
     ]
    },
    {
     "name": "stdout",
     "output_type": "stream",
     "text": [
      "Validation loss decreased (0.078090 --> 0.078090).  Saving model ...\n",
      "Validation loss decreased (0.077902 --> 0.077902).  Saving model ...\n"
     ]
    },
    {
     "name": "stderr",
     "output_type": "stream",
     "text": [
      " 78%|██████████████████████████████████████████████████████████████▍                 | 312/400 [00:12<00:03, 28.22it/s]"
     ]
    },
    {
     "name": "stdout",
     "output_type": "stream",
     "text": [
      "Validation loss decreased (0.077898 --> 0.077898).  Saving model ...\n"
     ]
    },
    {
     "name": "stderr",
     "output_type": "stream",
     "text": [
      " 80%|████████████████████████████████████████████████████████████████▍               | 322/400 [00:12<00:02, 28.61it/s]"
     ]
    },
    {
     "name": "stdout",
     "output_type": "stream",
     "text": [
      "Validation loss decreased (0.077757 --> 0.077757).  Saving model ...\n",
      "Validation loss decreased (0.077326 --> 0.077326).  Saving model ...\n"
     ]
    },
    {
     "name": "stderr",
     "output_type": "stream",
     "text": [
      " 82%|█████████████████████████████████████████████████████████████████▌              | 328/400 [00:12<00:02, 28.75it/s]"
     ]
    },
    {
     "name": "stdout",
     "output_type": "stream",
     "text": [
      "Validation loss decreased (0.077305 --> 0.077305).  Saving model ...\n"
     ]
    },
    {
     "name": "stderr",
     "output_type": "stream",
     "text": [
      " 84%|███████████████████████████████████████████████████████████████████▍            | 337/400 [00:13<00:02, 27.66it/s]"
     ]
    },
    {
     "name": "stdout",
     "output_type": "stream",
     "text": [
      "Validation loss decreased (0.077196 --> 0.077196).  Saving model ...\n",
      "Validation loss decreased (0.076984 --> 0.076984).  Saving model ...\n",
      "Validation loss decreased (0.076622 --> 0.076622).  Saving model ...\n",
      "Validation loss decreased (0.076568 --> 0.076568).  Saving model ...\n"
     ]
    },
    {
     "name": "stderr",
     "output_type": "stream",
     "text": [
      " 86%|████████████████████████████████████████████████████████████████████▌           | 343/400 [00:13<00:02, 27.04it/s]"
     ]
    },
    {
     "name": "stdout",
     "output_type": "stream",
     "text": [
      "Validation loss decreased (0.076383 --> 0.076383).  Saving model ...\n",
      "Validation loss decreased (0.076270 --> 0.076270).  Saving model ...\n",
      "Validation loss decreased (0.076205 --> 0.076205).  Saving model ...\n"
     ]
    },
    {
     "name": "stderr",
     "output_type": "stream",
     "text": [
      "100%|████████████████████████████████████████████████████████████████████████████████| 400/400 [00:15<00:00, 26.15it/s]\n"
     ]
    },
    {
     "data": {
      "text/plain": [
       "<All keys matched successfully>"
      ]
     },
     "execution_count": 24,
     "metadata": {},
     "output_type": "execute_result"
    }
   ],
   "source": [
    "epochs = 500\n",
    "model_path_iron = Path(\"models/iron\").expanduser()\n",
    "save_path_iron = model_path_iron.joinpath(\"model_try_{}.pt\".format(count))\n",
    "# model_scratch 학습하기\n",
    "model_iron, train_losses_iron, valid_losses_iron = train(epochs, iron_train, iron_valid, net_iron, optimizer_iron, scheduler_iron, criterion_iron, use_cuda, save_path_iron)\n",
    "# validation이 가장 좋았던 모델 parameter 불러와서 저장하기\n",
    "model_iron.load_state_dict(torch.load(save_path_iron))\n",
    "\n",
    "\n",
    "epochs = 1000\n",
    "model_path_bronze = Path(\"models/bronze\").expanduser()\n",
    "save_path_bronze = model_path_bronze.joinpath(\"model_try_{}.pt\".format(count))\n",
    "# model_scratch 학습하기\n",
    "model_bronze, train_losses_bronze, valid_losses_bronze = train(epochs, bronze_train, bronze_valid, net_bronze, optimizer_bronze, scheduler_bronze, criterion_bronze, use_cuda, save_path_bronze)\n",
    "# validation이 가장 좋았던 모델 parameter 불러와서 저장하기\n",
    "model_bronze.load_state_dict(torch.load(save_path_bronze))\n",
    "\n",
    "\n",
    "epochs = 600\n",
    "model_path_silver = Path(\"models/silver\").expanduser()\n",
    "save_path_silver = model_path_silver.joinpath(\"model_try_{}.pt\".format(count))\n",
    "# model_scratch 학습하기\n",
    "model_silver, train_losses_silver, valid_losses_silver = train(epochs, silver_train, silver_valid, net_silver, optimizer_silver, scheduler_silver, criterion_silver, use_cuda, save_path_silver)\n",
    "# validation이 가장 좋았던 모델 parameter 불러와서 저장하기\n",
    "model_silver.load_state_dict(torch.load(save_path_silver))\n",
    "\n",
    "\n",
    "epochs = 600\n",
    "model_path_gold = Path(\"models/gold\").expanduser()\n",
    "save_path_gold = model_path_gold.joinpath(\"model_try_{}.pt\".format(count))\n",
    "# model_scratch 학습하기\n",
    "model_gold, train_losses_gold, valid_losses_gold = train(epochs, gold_train, gold_valid, net_gold, optimizer_gold, scheduler_gold, criterion_gold, use_cuda, save_path_gold)\n",
    "# validation이 가장 좋았던 모델 parameter 불러와서 저장하기\n",
    "model_gold.load_state_dict(torch.load(save_path_gold))\n",
    "\n",
    "\n",
    "epochs = 400\n",
    "model_path_platinum = Path(\"models/platinum\").expanduser()\n",
    "save_path_platinum = model_path_platinum.joinpath(\"model_try_{}.pt\".format(count))\n",
    "# model_scratch 학습하기\n",
    "model_platinum, train_losses_platinum, valid_losses_platinum = train(epochs, platinum_train, platinum_valid, net_platinum, optimizer_platinum, scheduler_platinum, criterion_platinum, use_cuda, save_path_platinum)\n",
    "# validation이 가장 좋았던 모델 parameter 불러와서 저장하기\n",
    "model_platinum.load_state_dict(torch.load(save_path_platinum))\n",
    "\n",
    "\n",
    "epochs = 400\n",
    "model_path_diamond = Path(\"models/diamond\").expanduser()\n",
    "save_path_diamond = model_path_diamond.joinpath(\"model_try_{}.pt\".format(count))\n",
    "# model_scratch 학습하기\n",
    "model_diamond, train_losses_diamond, valid_losses_diamond = train(epochs, diamond_train, diamond_valid, net_diamond, optimizer_diamond, scheduler_diamond, criterion_diamond, use_cuda, save_path_diamond)\n",
    "# validation이 가장 좋았던 모델 parameter 불러와서 저장하기\n",
    "model_diamond.load_state_dict(torch.load(save_path_diamond))\n",
    "\n",
    "\n",
    "epochs = 400\n",
    "model_path_over_diamond = Path(\"models/over_diamond\").expanduser()\n",
    "save_path_over_diamond = model_path_over_diamond.joinpath(\"model_try_{}.pt\".format(count))\n",
    "# model_scratch 학습하기\n",
    "model_over_diamond, train_losses_over_diamond, valid_losses_over_diamond = train(epochs, over_diamond_train, over_diamond_valid, net_over_diamond, optimizer_over_diamond, scheduler_over_diamond, criterion_over_diamond, use_cuda, save_path_over_diamond)\n",
    "# validation이 가장 좋았던 모델 parameter 불러와서 저장하기\n",
    "model_over_diamond.load_state_dict(torch.load(save_path_over_diamond))"
   ]
  },
  {
   "cell_type": "code",
   "execution_count": 25,
   "metadata": {},
   "outputs": [
    {
     "name": "stderr",
     "output_type": "stream",
     "text": [
      "C:\\Users\\hyuk6\\anaconda3\\envs\\pytorch\\lib\\site-packages\\ipykernel_launcher.py:58: MatplotlibDeprecationWarning: savefig() got unexpected keyword argument \"papertype\" which is no longer supported as of 3.3 and will become an error two minor releases later\n",
      "C:\\Users\\hyuk6\\anaconda3\\envs\\pytorch\\lib\\site-packages\\ipykernel_launcher.py:58: MatplotlibDeprecationWarning: savefig() got unexpected keyword argument \"frameon\" which is no longer supported as of 3.3 and will become an error two minor releases later\n"
     ]
    },
    {
     "data": {
      "image/png": "[encoded data removed]",
      "text/plain": [
       "<Figure size 2880x1440 with 7 Axes>"
      ]
     },
     "metadata": {
      "needs_background": "light"
     },
     "output_type": "display_data"
    }
   ],
   "source": [
    "plt.figure(figsize = (40,20))\n",
    "plt.subplot(2,4,1)\n",
    "plt.plot(train_losses_iron, label='Training loss')\n",
    "plt.plot(valid_losses_iron, label='Validation loss')\n",
    "plt.ylim(0, 0.75)\n",
    "plt.legend(frameon=False)\n",
    "plt.title(\"Iron\")\n",
    "plt.grid(True)\n",
    "\n",
    "plt.subplot(2,4,2)\n",
    "plt.plot(train_losses_bronze, label='Training loss')\n",
    "plt.plot(valid_losses_bronze, label='Validation loss')\n",
    "plt.ylim(0, 0.75)\n",
    "plt.legend(frameon=False)\n",
    "plt.title(\"Bronze\")\n",
    "plt.grid(True)\n",
    "\n",
    "plt.subplot(2,4,3)\n",
    "plt.plot(train_losses_silver, label='Training loss')\n",
    "plt.plot(valid_losses_silver, label='Validation loss')\n",
    "plt.ylim(0, 0.75)\n",
    "plt.legend(frameon=False)\n",
    "plt.title(\"Silver\")\n",
    "plt.grid(True)\n",
    "\n",
    "plt.subplot(2,4,4)\n",
    "plt.plot(train_losses_gold, label='Training loss')\n",
    "plt.plot(valid_losses_gold, label='Validation loss')\n",
    "plt.ylim(0, 0.75)\n",
    "plt.legend(frameon=False)\n",
    "plt.title(\"Gold\")\n",
    "plt.grid(True)\n",
    "\n",
    "plt.subplot(2,4,5)\n",
    "plt.plot(train_losses_platinum, label='Training loss')\n",
    "plt.plot(valid_losses_platinum, label='Validation loss')\n",
    "plt.ylim(0, 0.75)\n",
    "plt.legend(frameon=False)\n",
    "plt.title(\"Platinum\")\n",
    "plt.grid(True)\n",
    "\n",
    "plt.subplot(2,4,6)\n",
    "plt.plot(train_losses_diamond, label='Training loss')\n",
    "plt.plot(valid_losses_diamond, label='Validation loss')\n",
    "plt.ylim(0, 0.75)\n",
    "plt.legend(frameon=False)\n",
    "plt.title(\"Diamond\")\n",
    "plt.grid(True)\n",
    "\n",
    "plt.subplot(2,4,7)\n",
    "plt.plot(train_losses_over_diamond, label='Training loss')\n",
    "plt.plot(valid_losses_over_diamond, label='Validation loss')\n",
    "plt.ylim(0, 0.75)\n",
    "plt.legend(frameon=False)\n",
    "plt.title(\"Diamond and over\")\n",
    "plt.grid(True)\n",
    "\n",
    "plt.savefig('try-17.png', dpi=300, facecolor='w', edgecolor='w', orientation='portrait', papertype=None, format=None, transparent=False, bbox_inches=None, pad_inches=0.1, frameon=None, metadata=None)"
   ]
  },
  {
   "cell_type": "code",
   "execution_count": 26,
   "metadata": {},
   "outputs": [
    {
     "name": "stdout",
     "output_type": "stream",
     "text": [
      "-------------------------------------------------------------------\n",
      "Iron\n",
      "Test Loss: 0.126809\n",
      "\n",
      "\n",
      "Test Accuracy (Overall): 94% (535/568)\n",
      "-------------------------------------------------------------------\n",
      "Bronze\n",
      "Test Loss: 0.211397\n",
      "\n",
      "\n",
      "Test Accuracy (Overall): 92% (561/606)\n",
      "-------------------------------------------------------------------\n",
      "Silver\n",
      "Test Loss: 0.130010\n",
      "\n",
      "\n",
      "Test Accuracy (Overall): 93% (557/598)\n",
      "-------------------------------------------------------------------\n",
      "Gold\n",
      "Test Loss: 0.122419\n",
      "\n",
      "\n",
      "Test Accuracy (Overall): 94% (510/538)\n",
      "-------------------------------------------------------------------\n",
      "Platinum\n",
      "Test Loss: 0.117813\n",
      "\n",
      "\n",
      "Test Accuracy (Overall): 94% (555/588)\n",
      "-------------------------------------------------------------------\n",
      "Diamond\n",
      "Test Loss: 0.225865\n",
      "\n",
      "\n",
      "Test Accuracy (Overall): 94% (400/424)\n",
      "-------------------------------------------------------------------\n",
      "Over Diamond\n",
      "Test Loss: 0.208161\n",
      "\n",
      "\n",
      "Test Accuracy (Overall): 92% (357/384)\n"
     ]
    }
   ],
   "source": [
    "print('-------------------------------------------------------------------')\n",
    "print('Iron')\n",
    "test(iron_test, net_iron, criterion_iron, use_cuda)\n",
    "print('-------------------------------------------------------------------')\n",
    "print('Bronze')\n",
    "test(bronze_test, net_bronze, criterion_bronze, use_cuda)\n",
    "print('-------------------------------------------------------------------')\n",
    "print('Silver')\n",
    "test(silver_test, net_silver, criterion_silver, use_cuda)\n",
    "print('-------------------------------------------------------------------')\n",
    "print('Gold')\n",
    "test(gold_test, net_gold, criterion_gold, use_cuda)\n",
    "print('-------------------------------------------------------------------')\n",
    "print('Platinum')\n",
    "test(platinum_test, net_platinum, criterion_platinum, use_cuda)\n",
    "print('-------------------------------------------------------------------')\n",
    "print('Diamond')\n",
    "test(diamond_test, net_diamond, criterion_diamond, use_cuda)\n",
    "print('-------------------------------------------------------------------')\n",
    "print('Over Diamond')\n",
    "test(over_diamond_test, net_over_diamond, criterion_over_diamond, use_cuda)\n"
   ]
  },
  {
   "cell_type": "code",
   "execution_count": 27,
   "metadata": {},
   "outputs": [],
   "source": [
    "device = torch.device(\"cuda:0\" if torch.cuda.is_available() else \"cpu\")\n",
    "\n",
    "def predict(tensor, model, save_path, mean, std):\n",
    "    model.load_state_dict(torch.load(save_path)) \n",
    "    tensor = tensor - (torch.tensor(mean)[1:])        \n",
    "    tensor = tensor / (torch.tensor(std)[1:])\n",
    "    if use_cuda:\n",
    "        tensor = tensor.to(device)\n",
    "    with torch.no_grad():\n",
    "        output = F.log_softmax(model(tensor), dim=0)\n",
    "    ps = torch.exp(output)\n",
    "    top_p, top_class = ps.topk(1, dim=0)\n",
    "    ans = ['패배', '승리']\n",
    "    print(ans[top_class]+ '확률 : {0:.2f}'.format(float(ps[top_class]*100)))\n",
    "    "
   ]
  },
  {
   "cell_type": "code",
   "execution_count": 28,
   "metadata": {},
   "outputs": [
    {
     "name": "stdout",
     "output_type": "stream",
     "text": [
      "Iron - mean\n",
      "승리확률 : 76.85\n",
      "Bronze - mean\n",
      "승리확률 : 66.20\n",
      "Silver - mean\n",
      "승리확률 : 70.64\n",
      "Gold - mean\n",
      "승리확률 : 64.83\n",
      "Platinum - mean\n",
      "승리확률 : 67.64\n",
      "Diamond - mean\n",
      "패배확률 : 50.95\n",
      "Over_Diamond - mean\n",
      "승리확률 : 57.94\n"
     ]
    }
   ],
   "source": [
    "print('Iron - mean')\n",
    "predict(torch.tensor(iron_mean)[1:], model_iron, save_path_iron, iron_mean, iron_std)\n",
    "print('Bronze - mean')\n",
    "predict(torch.tensor(bronze_mean)[1:], model_bronze, save_path_bronze, bronze_mean, bronze_std)\n",
    "print('Silver - mean')\n",
    "predict(torch.tensor(silver_mean)[1:], model_silver, save_path_silver, silver_mean, silver_std)\n",
    "print('Gold - mean')\n",
    "predict(torch.tensor(gold_mean)[1:], model_gold, save_path_gold, gold_mean, gold_std)\n",
    "print('Platinum - mean')\n",
    "predict(torch.tensor(platinum_mean)[1:], model_platinum, save_path_platinum, platinum_mean, platinum_std)\n",
    "print('Diamond - mean')\n",
    "predict(torch.tensor(diamond_mean)[1:], model_diamond, save_path_diamond, diamond_mean, diamond_std)\n",
    "print('Over_Diamond - mean')\n",
    "predict(torch.tensor(over_diamond_mean)[1:], model_over_diamond, save_path_over_diamond, over_diamond_mean, over_diamond_std)\n"
   ]
  },
  {
   "cell_type": "code",
   "execution_count": 29,
   "metadata": {},
   "outputs": [
    {
     "name": "stdout",
     "output_type": "stream",
     "text": [
      "패배확률 : 50.68\n",
      "승리확률 : 52.61\n",
      "패배확률 : 51.25\n",
      "패배확률 : 51.82\n",
      "패배확률 : 55.43\n",
      "패배확률 : 50.78\n",
      "승리확률 : 53.17\n"
     ]
    }
   ],
   "source": [
    "inputdata = torch.zeros(53)\n",
    "\n",
    "predict(inputdata, model_iron, save_path_iron, iron_mean, iron_std)\n",
    "predict(inputdata, model_bronze, save_path_bronze, bronze_mean, bronze_std)\n",
    "predict(inputdata, model_silver, save_path_silver, silver_mean, silver_std)\n",
    "predict(inputdata, model_gold, save_path_gold, gold_mean, gold_std)\n",
    "predict(inputdata, model_platinum, save_path_platinum, platinum_mean, platinum_std)\n",
    "predict(inputdata, model_diamond, save_path_diamond, diamond_mean, diamond_std)\n",
    "predict(inputdata, model_over_diamond, save_path_over_diamond, over_diamond_mean, over_diamond_std)\n"
   ]
  },
  {
   "cell_type": "code",
   "execution_count": null,
   "metadata": {},
   "outputs": [],
   "source": []
  }
 ],
 "metadata": {
  "kernelspec": {
   "display_name": "Python 3",
   "language": "python",
   "name": "python3"
  },
  "language_info": {
   "codemirror_mode": {
    "name": "ipython",
    "version": 3
   },
   "file_extension": ".py",
   "mimetype": "text/x-python",
   "name": "python",
   "nbconvert_exporter": "python",
   "pygments_lexer": "ipython3",
   "version": "3.6.6"
  }
 },
 "nbformat": 4,
 "nbformat_minor": 4
}
