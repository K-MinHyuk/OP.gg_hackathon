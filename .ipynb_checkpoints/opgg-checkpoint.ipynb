{
 "cells": [
  {
   "cell_type": "markdown",
   "metadata": {},
   "source": [
    "OP.GG Game Big Data Hackathon\n",
    "=============\n",
    "\n",
    "프로젝트 진행 순서\n",
    "-------------\n",
    "* API를 이용, Game Data를 수집.\n",
    "* 수집한 Data를 분석, 방향성을 확립.\n",
    "* 진행하게될 분석방향에 맞추어 Data preprocessing.\n",
    "* Data analysis\n",
    "* 결과 도출, 활용 방안 제시\n"
   ]
  },
  {
   "cell_type": "code",
   "execution_count": 799,
   "metadata": {},
   "outputs": [],
   "source": [
    "# 필요한 라이브러리를 import\n",
    "\n",
    "import sys\n",
    "import requests\n",
    "import json\n",
    "import pandas as pd\n",
    "import itertools\n",
    "import time\n",
    "import math\n",
    "import numpy as np\n",
    "from flatten_dict import flatten\n",
    "from flatten_dict.reducer import make_reducer\n",
    "import matplotlib.pyplot as plt \n",
    "import seaborn as sns    \n",
    "import torch\n",
    "from torch.utils.data import  TensorDataset, DataLoader\n",
    "from torch import nn, optim\n",
    "import random\n",
    "from glob import glob\n",
    "import torch.optim as optimizer\n",
    "from torch.optim.lr_scheduler import StepLR\n",
    "from pathlib import Path\n",
    "from tqdm import tqdm\n",
    "import torch.nn.functional as F\n",
    "import dataframe_image as dfi\n",
    "\n",
    "# pandas - DataFrame의 크기를 모두 표시하도록 설정\n",
    "\n",
    "pd.options.display.max_columns = None\n",
    "pd.options.display.max_rows = None\n",
    "\n",
    "use_cuda = torch.cuda.is_available()"
   ]
  },
  {
   "cell_type": "code",
   "execution_count": 2,
   "metadata": {},
   "outputs": [
    {
     "data": {
      "text/plain": [
       "'GeForce RTX 2080 SUPER'"
      ]
     },
     "execution_count": 2,
     "metadata": {},
     "output_type": "execute_result"
    }
   ],
   "source": [
    "torch.cuda.get_device_name(0)"
   ]
  },
  {
   "cell_type": "code",
   "execution_count": 798,
   "metadata": {
    "collapsed": true,
    "jupyter": {
     "outputs_hidden": true
    }
   },
   "outputs": [
    {
     "name": "stdout",
     "output_type": "stream",
     "text": [
      "Collecting dataframe_image\n",
      "  Downloading dataframe_image-0.1.1-py3-none-any.whl (32 kB)\n",
      "Requirement already satisfied: matplotlib>=3.1 in c:\\users\\hyuk6\\anaconda3\\envs\\pytorch\\lib\\site-packages (from dataframe_image) (3.3.4)\n",
      "Requirement already satisfied: nbconvert>=5 in c:\\users\\hyuk6\\anaconda3\\envs\\pytorch\\lib\\site-packages (from dataframe_image) (6.0.7)\n",
      "Requirement already satisfied: requests in c:\\users\\hyuk6\\anaconda3\\envs\\pytorch\\lib\\site-packages (from dataframe_image) (2.25.1)\n",
      "Requirement already satisfied: pandas>=0.24 in c:\\users\\hyuk6\\anaconda3\\envs\\pytorch\\lib\\site-packages (from dataframe_image) (1.1.5)\n",
      "Requirement already satisfied: cycler>=0.10 in c:\\users\\hyuk6\\anaconda3\\envs\\pytorch\\lib\\site-packages (from matplotlib>=3.1->dataframe_image) (0.10.0)\n",
      "Requirement already satisfied: pyparsing!=2.0.4,!=2.1.2,!=2.1.6,>=2.0.3 in c:\\users\\hyuk6\\anaconda3\\envs\\pytorch\\lib\\site-packages (from matplotlib>=3.1->dataframe_image) (2.4.7)\n",
      "Requirement already satisfied: pillow>=6.2.0 in c:\\users\\hyuk6\\anaconda3\\envs\\pytorch\\lib\\site-packages (from matplotlib>=3.1->dataframe_image) (8.1.0)\n",
      "Requirement already satisfied: kiwisolver>=1.0.1 in c:\\users\\hyuk6\\anaconda3\\envs\\pytorch\\lib\\site-packages (from matplotlib>=3.1->dataframe_image) (1.3.1)\n",
      "Requirement already satisfied: numpy>=1.15 in c:\\users\\hyuk6\\anaconda3\\envs\\pytorch\\lib\\site-packages (from matplotlib>=3.1->dataframe_image) (1.19.2)\n",
      "Requirement already satisfied: python-dateutil>=2.1 in c:\\users\\hyuk6\\anaconda3\\envs\\pytorch\\lib\\site-packages (from matplotlib>=3.1->dataframe_image) (2.8.1)\n",
      "Requirement already satisfied: six in c:\\users\\hyuk6\\anaconda3\\envs\\pytorch\\lib\\site-packages (from cycler>=0.10->matplotlib>=3.1->dataframe_image) (1.15.0)\n",
      "Requirement already satisfied: testpath in c:\\users\\hyuk6\\anaconda3\\envs\\pytorch\\lib\\site-packages (from nbconvert>=5->dataframe_image) (0.4.4)\n",
      "Requirement already satisfied: nbformat>=4.4 in c:\\users\\hyuk6\\anaconda3\\envs\\pytorch\\lib\\site-packages (from nbconvert>=5->dataframe_image) (5.1.2)\n",
      "Requirement already satisfied: mistune<2,>=0.8.1 in c:\\users\\hyuk6\\anaconda3\\envs\\pytorch\\lib\\site-packages (from nbconvert>=5->dataframe_image) (0.8.4)\n",
      "Requirement already satisfied: jupyterlab-pygments in c:\\users\\hyuk6\\anaconda3\\envs\\pytorch\\lib\\site-packages (from nbconvert>=5->dataframe_image) (0.1.2)\n",
      "Requirement already satisfied: defusedxml in c:\\users\\hyuk6\\anaconda3\\envs\\pytorch\\lib\\site-packages (from nbconvert>=5->dataframe_image) (0.6.0)\n",
      "Requirement already satisfied: bleach in c:\\users\\hyuk6\\anaconda3\\envs\\pytorch\\lib\\site-packages (from nbconvert>=5->dataframe_image) (3.3.0)\n",
      "Requirement already satisfied: traitlets>=4.2 in c:\\users\\hyuk6\\anaconda3\\envs\\pytorch\\lib\\site-packages (from nbconvert>=5->dataframe_image) (4.3.3)\n",
      "Requirement already satisfied: pandocfilters>=1.4.1 in c:\\users\\hyuk6\\anaconda3\\envs\\pytorch\\lib\\site-packages (from nbconvert>=5->dataframe_image) (1.4.3)\n",
      "Requirement already satisfied: jinja2>=2.4 in c:\\users\\hyuk6\\anaconda3\\envs\\pytorch\\lib\\site-packages (from nbconvert>=5->dataframe_image) (2.11.3)\n",
      "Requirement already satisfied: nbclient<0.6.0,>=0.5.0 in c:\\users\\hyuk6\\anaconda3\\envs\\pytorch\\lib\\site-packages (from nbconvert>=5->dataframe_image) (0.5.1)\n",
      "Requirement already satisfied: pygments>=2.4.1 in c:\\users\\hyuk6\\anaconda3\\envs\\pytorch\\lib\\site-packages (from nbconvert>=5->dataframe_image) (2.7.4)\n",
      "Requirement already satisfied: entrypoints>=0.2.2 in c:\\users\\hyuk6\\anaconda3\\envs\\pytorch\\lib\\site-packages (from nbconvert>=5->dataframe_image) (0.3)\n",
      "Requirement already satisfied: jupyter-core in c:\\users\\hyuk6\\anaconda3\\envs\\pytorch\\lib\\site-packages (from nbconvert>=5->dataframe_image) (4.7.1)\n",
      "Requirement already satisfied: MarkupSafe>=0.23 in c:\\users\\hyuk6\\anaconda3\\envs\\pytorch\\lib\\site-packages (from jinja2>=2.4->nbconvert>=5->dataframe_image) (1.1.1)\n",
      "Requirement already satisfied: nest-asyncio in c:\\users\\hyuk6\\anaconda3\\envs\\pytorch\\lib\\site-packages (from nbclient<0.6.0,>=0.5.0->nbconvert>=5->dataframe_image) (1.4.3)\n",
      "Requirement already satisfied: jupyter-client>=6.1.5 in c:\\users\\hyuk6\\anaconda3\\envs\\pytorch\\lib\\site-packages (from nbclient<0.6.0,>=0.5.0->nbconvert>=5->dataframe_image) (6.1.7)\n",
      "Requirement already satisfied: async-generator in c:\\users\\hyuk6\\anaconda3\\envs\\pytorch\\lib\\site-packages (from nbclient<0.6.0,>=0.5.0->nbconvert>=5->dataframe_image) (1.10)\n",
      "Requirement already satisfied: pyzmq>=13 in c:\\users\\hyuk6\\anaconda3\\envs\\pytorch\\lib\\site-packages (from jupyter-client>=6.1.5->nbclient<0.6.0,>=0.5.0->nbconvert>=5->dataframe_image) (20.0.0)\n",
      "Requirement already satisfied: tornado>=4.1 in c:\\users\\hyuk6\\anaconda3\\envs\\pytorch\\lib\\site-packages (from jupyter-client>=6.1.5->nbclient<0.6.0,>=0.5.0->nbconvert>=5->dataframe_image) (6.1)\n",
      "Requirement already satisfied: pywin32>=1.0 in c:\\users\\hyuk6\\anaconda3\\envs\\pytorch\\lib\\site-packages (from jupyter-core->nbconvert>=5->dataframe_image) (227)\n",
      "Requirement already satisfied: ipython-genutils in c:\\users\\hyuk6\\anaconda3\\envs\\pytorch\\lib\\site-packages (from nbformat>=4.4->nbconvert>=5->dataframe_image) (0.2.0)\n",
      "Requirement already satisfied: jsonschema!=2.5.0,>=2.4 in c:\\users\\hyuk6\\anaconda3\\envs\\pytorch\\lib\\site-packages (from nbformat>=4.4->nbconvert>=5->dataframe_image) (3.2.0)\n",
      "Requirement already satisfied: importlib-metadata in c:\\users\\hyuk6\\anaconda3\\envs\\pytorch\\lib\\site-packages (from jsonschema!=2.5.0,>=2.4->nbformat>=4.4->nbconvert>=5->dataframe_image) (2.0.0)\n",
      "Requirement already satisfied: attrs>=17.4.0 in c:\\users\\hyuk6\\anaconda3\\envs\\pytorch\\lib\\site-packages (from jsonschema!=2.5.0,>=2.4->nbformat>=4.4->nbconvert>=5->dataframe_image) (20.3.0)\n",
      "Requirement already satisfied: setuptools in c:\\users\\hyuk6\\anaconda3\\envs\\pytorch\\lib\\site-packages (from jsonschema!=2.5.0,>=2.4->nbformat>=4.4->nbconvert>=5->dataframe_image) (52.0.0.post20210125)\n",
      "Requirement already satisfied: pyrsistent>=0.14.0 in c:\\users\\hyuk6\\anaconda3\\envs\\pytorch\\lib\\site-packages (from jsonschema!=2.5.0,>=2.4->nbformat>=4.4->nbconvert>=5->dataframe_image) (0.17.3)\n",
      "Requirement already satisfied: pytz>=2017.2 in c:\\users\\hyuk6\\anaconda3\\envs\\pytorch\\lib\\site-packages (from pandas>=0.24->dataframe_image) (2021.1)\n",
      "Requirement already satisfied: decorator in c:\\users\\hyuk6\\anaconda3\\envs\\pytorch\\lib\\site-packages (from traitlets>=4.2->nbconvert>=5->dataframe_image) (4.4.2)\n",
      "Collecting aiohttp\n",
      "  Downloading aiohttp-3.7.3-cp36-cp36m-win_amd64.whl (629 kB)\n",
      "Collecting async-timeout<4.0,>=3.0\n",
      "  Downloading async_timeout-3.0.1-py3-none-any.whl (8.2 kB)\n",
      "Collecting chardet<4.0,>=2.0\n",
      "  Downloading chardet-3.0.4-py2.py3-none-any.whl (133 kB)\n",
      "Collecting idna-ssl>=1.0\n",
      "  Downloading idna-ssl-1.1.0.tar.gz (3.4 kB)\n",
      "Requirement already satisfied: idna>=2.0 in c:\\users\\hyuk6\\anaconda3\\envs\\pytorch\\lib\\site-packages (from idna-ssl>=1.0->aiohttp->dataframe_image) (2.10)\n",
      "Collecting multidict<7.0,>=4.5\n",
      "  Downloading multidict-5.1.0-cp36-cp36m-win_amd64.whl (48 kB)\n",
      "Collecting typing-extensions>=3.6.5\n",
      "  Using cached typing_extensions-3.7.4.3-py3-none-any.whl (22 kB)\n",
      "Collecting yarl<2.0,>=1.0\n",
      "  Downloading yarl-1.6.3-cp36-cp36m-win_amd64.whl (124 kB)\n",
      "Collecting beautifulsoup4\n",
      "  Using cached beautifulsoup4-4.9.3-py3-none-any.whl (115 kB)\n",
      "Collecting soupsieve>1.2\n",
      "  Downloading soupsieve-2.1-py3-none-any.whl (32 kB)\n",
      "Requirement already satisfied: webencodings in c:\\users\\hyuk6\\anaconda3\\envs\\pytorch\\lib\\site-packages (from bleach->nbconvert>=5->dataframe_image) (0.5.1)\n",
      "Requirement already satisfied: packaging in c:\\users\\hyuk6\\anaconda3\\envs\\pytorch\\lib\\site-packages (from bleach->nbconvert>=5->dataframe_image) (20.9)\n",
      "Requirement already satisfied: zipp>=0.5 in c:\\users\\hyuk6\\anaconda3\\envs\\pytorch\\lib\\site-packages (from importlib-metadata->jsonschema!=2.5.0,>=2.4->nbformat>=4.4->nbconvert>=5->dataframe_image) (3.4.0)\n",
      "Requirement already satisfied: urllib3<1.27,>=1.21.1 in c:\\users\\hyuk6\\anaconda3\\envs\\pytorch\\lib\\site-packages (from requests->dataframe_image) (1.26.3)\n",
      "Requirement already satisfied: certifi>=2017.4.17 in c:\\users\\hyuk6\\anaconda3\\envs\\pytorch\\lib\\site-packages (from requests->dataframe_image) (2020.12.5)\n",
      "Building wheels for collected packages: idna-ssl\n",
      "  Building wheel for idna-ssl (setup.py): started\n",
      "  Building wheel for idna-ssl (setup.py): finished with status 'done'\n",
      "  Created wheel for idna-ssl: filename=idna_ssl-1.1.0-py3-none-any.whl size=3160 sha256=768d3a08481bbe0b914ed26ece05e11217a5be8c51ee44bd22a0f52628f7e9f3\n",
      "  Stored in directory: c:\\users\\hyuk6\\appdata\\local\\pip\\cache\\wheels\\6a\\f5\\9c\\f8331a854f7a8739cf0e74c13854e4dd7b1af11b04fe1dde13\n",
      "Successfully built idna-ssl\n",
      "Installing collected packages: typing-extensions, multidict, yarl, soupsieve, idna-ssl, chardet, async-timeout, beautifulsoup4, aiohttp, dataframe-image\n",
      "  Attempting uninstall: chardet\n",
      "    Found existing installation: chardet 4.0.0\n",
      "    Uninstalling chardet-4.0.0:\n",
      "      Successfully uninstalled chardet-4.0.0\n",
      "Successfully installed aiohttp-3.7.3 async-timeout-3.0.1 beautifulsoup4-4.9.3 chardet-3.0.4 dataframe-image-0.1.1 idna-ssl-1.1.0 multidict-5.1.0 soupsieve-2.1 typing-extensions-3.7.4.3 yarl-1.6.3\n"
     ]
    }
   ],
   "source": [
    "# 필요한 package들을 install\n",
    "# !pip install dataframe_image\n",
    "# !pip install pandas\n",
    "# !pip install flatten_dict\n",
    "# !pip install matplotlib\n",
    "# !pip install seaborn\n",
    "# !pip install torch\n",
    "# !pip install tqdm"
   ]
  },
  {
   "cell_type": "code",
   "execution_count": 4,
   "metadata": {},
   "outputs": [],
   "source": [
    "# riot-API 이용을 위한 api-key값\n",
    "\n",
    "api_key = 'RGAPI-ea3bb857-9843-4a9f-bf87-a1b2973727d8'"
   ]
  },
  {
   "cell_type": "code",
   "execution_count": 5,
   "metadata": {},
   "outputs": [],
   "source": [
    "# 각 tier별 game id를 가져오기 위해 url 저장\n",
    "\n",
    "IRON_URL4='https://kr.api.riotgames.com/lol/league-exp/v4/entries/RANKED_SOLO_5x5/IRON/IV?page='\n",
    "IRON_URL3='https://kr.api.riotgames.com/lol/league-exp/v4/entries/RANKED_SOLO_5x5/IRON/III?page='\n",
    "IRON_URL2='https://kr.api.riotgames.com/lol/league-exp/v4/entries/RANKED_SOLO_5x5/IRON/II?page='\n",
    "IRON_URL1='https://kr.api.riotgames.com/lol/league-exp/v4/entries/RANKED_SOLO_5x5/IRON/I?page='\n",
    "BRONZE_URL4='https://kr.api.riotgames.com/lol/league-exp/v4/entries/RANKED_SOLO_5x5/BRONZE/IV?page='\n",
    "BRONZE_URL3='https://kr.api.riotgames.com/lol/league-exp/v4/entries/RANKED_SOLO_5x5/BRONZE/III?page='\n",
    "BRONZE_URL2='https://kr.api.riotgames.com/lol/league-exp/v4/entries/RANKED_SOLO_5x5/BRONZE/II?page='\n",
    "BRONZE_URL1='https://kr.api.riotgames.com/lol/league-exp/v4/entries/RANKED_SOLO_5x5/BRONZE/I?page='\n",
    "SILVER_URL4='https://kr.api.riotgames.com/lol/league-exp/v4/entries/RANKED_SOLO_5x5/SILVER/IV?page='\n",
    "SILVER_URL3='https://kr.api.riotgames.com/lol/league-exp/v4/entries/RANKED_SOLO_5x5/SILVER/III?page='\n",
    "SILVER_URL2='https://kr.api.riotgames.com/lol/league-exp/v4/entries/RANKED_SOLO_5x5/SILVER/II?page='\n",
    "SILVER_URL1='https://kr.api.riotgames.com/lol/league-exp/v4/entries/RANKED_SOLO_5x5/SILVER/I?page='\n",
    "GOLD_URL4='https://kr.api.riotgames.com/lol/league-exp/v4/entries/RANKED_SOLO_5x5/GOLD/IV?page='\n",
    "GOLD_URL3='https://kr.api.riotgames.com/lol/league-exp/v4/entries/RANKED_SOLO_5x5/GOLD/III?page='\n",
    "GOLD_URL2='https://kr.api.riotgames.com/lol/league-exp/v4/entries/RANKED_SOLO_5x5/GOLD/II?page='\n",
    "GOLD_URL1='https://kr.api.riotgames.com/lol/league-exp/v4/entries/RANKED_SOLO_5x5/GOLD/I?page='\n",
    "PLATINUM_URL4='https://kr.api.riotgames.com/lol/league-exp/v4/entries/RANKED_SOLO_5x5/PLATINUM/IV?page='\n",
    "PLATINUM_URL3='https://kr.api.riotgames.com/lol/league-exp/v4/entries/RANKED_SOLO_5x5/PLATINUM/III?page='\n",
    "PLATINUM_URL2='https://kr.api.riotgames.com/lol/league-exp/v4/entries/RANKED_SOLO_5x5/PLATINUM/II?page='\n",
    "PLATINUM_URL1='https://kr.api.riotgames.com/lol/league-exp/v4/entries/RANKED_SOLO_5x5/PLATINUM/I?page='\n",
    "DIAMOND_URL4='https://kr.api.riotgames.com/lol/league-exp/v4/entries/RANKED_SOLO_5x5/DIAMOND/IV?page='\n",
    "DIAMOND_URL3='https://kr.api.riotgames.com/lol/league-exp/v4/entries/RANKED_SOLO_5x5/DIAMOND/III?page='\n",
    "DIAMOND_URL2='https://kr.api.riotgames.com/lol/league-exp/v4/entries/RANKED_SOLO_5x5/DIAMOND/II?page='\n",
    "DIAMOND_URL1='https://kr.api.riotgames.com/lol/league-exp/v4/entries/RANKED_SOLO_5x5/DIAMOND/I?page='\n",
    "MASTER_URL1='https://kr.api.riotgames.com/lol/league-exp/v4/entries/RANKED_SOLO_5x5/MASTER/I?page='\n",
    "GRANDMASTER_URL1='https://kr.api.riotgames.com/lol/league-exp/v4/entries/RANKED_SOLO_5x5/GRANDMASTER/I?page='\n",
    "CHALLENGER_URL1='https://kr.api.riotgames.com/lol/league-exp/v4/entries/RANKED_SOLO_5x5/CHALLENGER/I?page='\n",
    "\n",
    "# match의 정보를 가져오기 위한 url저장\n",
    "MATCH_URL = 'https://kr.api.riotgames.com/lol/match/v4/matches/'"
   ]
  },
  {
   "cell_type": "code",
   "execution_count": 7,
   "metadata": {},
   "outputs": [],
   "source": [
    "# tier의 urel과 api-key를 입력하여 summonerId를 반환받음 return - array\n",
    "\n",
    "def summonersT(tier_url, api_key):\n",
    "    print('Summoners start-----')\n",
    "    summoners = []\n",
    "    tmpl = []\n",
    "    try:\n",
    "        for i in range(1,5):\n",
    "            now = time.gmtime(time.time())\n",
    "            print('min:',now.tm_min,'sec:',now.tm_sec)\n",
    "            print('Waiting for summoners {}00 end...'.format(i))\n",
    "            # request limit( 20 requests every 1 seconds(s) , 100 requests every 2 minutes(s) )에 대한 해결 방안으로 time.sleep 을 120이상으로 설정\n",
    "            time.sleep(125)\n",
    "            \n",
    "            res = requests.get(tier_url+str(i), headers={\"X-Riot-Token\": api_key})\n",
    "            tmp = json.loads(res.text)[5:105]\n",
    "            tmpl.append(tmp)\n",
    "            summoners.append(tmp)\n",
    "            \n",
    "        print('Summoners done-----')\n",
    "    except:\n",
    "        print('Errer in : ', tmpl)\n",
    "        \n",
    "    return pd.DataFrame(list(itertools.chain(*summoners)))['summonerId'].values\n",
    "\n",
    "\n",
    "#  summoners(iterable)와 api-key를 입력받아 accountId를 반환 return - array\n",
    "\n",
    "def getAccountId(summoners, api_key):\n",
    "    \n",
    "    print('\\nAccounts start-----')\n",
    "    now = time.gmtime(time.time())\n",
    "    print('min:',now.tm_min,'sec:',now.tm_sec)\n",
    "    \n",
    "    accountS = []\n",
    "    time.sleep(2)\n",
    "    a = 0\n",
    "    for i  in tqdm(summoners):\n",
    "        # request limit( 20 requests every 1 seconds(s) , 100 requests every 2 minutes(s) )에 대한 해결 방안으로 time.sleep 을 120이상으로 설정\n",
    "        if a % 20 == 0:\n",
    "            time.sleep(1)\n",
    "        if a % 100 == 0:\n",
    "            time.sleep(122)\n",
    "            \n",
    "        togetSummonerId = 'https://kr.api.riotgames.com/lol/summoner/v4/summoners/'+str(i)\n",
    "        res = requests.get(togetSummonerId, headers={\"X-Riot-Token\": api_key})\n",
    "        accountS.append(json.loads(res.text))\n",
    "        \n",
    "        a += 1\n",
    "        \n",
    "    print('\\nAccounts done-----')   \n",
    "    \n",
    "    return pd.DataFrame(accountS)['accountId'].values\n",
    "\n",
    "\n",
    "# accountId(iterable)와 api-key를 입력받아 gameId를 반환 return - list\n",
    "\n",
    "def getMatch(encryptedAccountId, api_key):\n",
    "    print('\\nMatchId start-----')\n",
    "    a = 0\n",
    "    now = time.gmtime(time.time())\n",
    "    print('min:',now.tm_min,'sec:',now.tm_sec)\n",
    "    objects = []\n",
    "    matchIds = []\n",
    "    time.sleep(2)\n",
    "    for i in tqdm(encryptedAccountId):\n",
    "        # request limit( 20 requests every 1 seconds(s) , 100 requests every 2 minutes(s) )에 대한 해결 방안으로 time.sleep 을 120이상으로 설정\n",
    "        if a % 20 == 0:\n",
    "            time.sleep(1)\n",
    "        if a % 100 == 0:\n",
    "            time.sleep(122)\n",
    "            \n",
    "        togetMatchOb = 'https://kr.api.riotgames.com/lol/match/v4/matchlists/by-account/{}?endIndex=1&beginIndex=0'.format(str(i))\n",
    "        res = requests.get(togetMatchOb, headers={\"X-Riot-Token\": api_key})\n",
    "        ob = pd.DataFrame(json.loads(res.text))\n",
    "        \n",
    "        # data의 양이 많아서 인지, Gateway timeout의 오류를 받아오는 경우 시간을 주어, 다시 받아올 수 있도록 설정\n",
    "        if 'matches' in list(ob):\n",
    "            objects.append(pd.DataFrame(ob)['matches'].values[0])\n",
    "        else:\n",
    "            print(ob)\n",
    "            print(\"-Error recovery time-\")\n",
    "            time.sleep(90)\n",
    "            rest=getMatchRe([i], api_key)\n",
    "            matchIds.append(rest)\n",
    "            print(\"-Error fixed-\")\n",
    "        a += 1\n",
    "    matchIds = matchIds + list(pd.DataFrame(objects)['gameId'].values)\n",
    "    \n",
    "    print('\\nMatchId done-----')   \n",
    "    return matchIds\n",
    "\n",
    "\n",
    "# getMatch중 timeout 오류발생시 다시 request를받기위해 시간간격을 두고 다시 request하도록 함.\n",
    "\n",
    "def getMatchRe(encryptedAccountId, api_key):\n",
    "    now = time.gmtime(time.time())\n",
    "    print('min:',now.tm_min,'sec:',now.tm_sec)\n",
    "    objects = []\n",
    "    matchIds = []\n",
    "    time.sleep(2)\n",
    "    \n",
    "    for i in tqdm(encryptedAccountId):\n",
    "        togetMatchOb = 'https://kr.api.riotgames.com/lol/match/v4/matchlists/by-account/{}?endIndex=1&beginIndex=0'.format(str(i))\n",
    "        res = requests.get(togetMatchOb, headers={\"X-Riot-Token\": api_key})\n",
    "        ob = pd.DataFrame(json.loads(res.text))\n",
    "        \n",
    "        if 'matches' in list(ob):\n",
    "            objects.append(pd.DataFrame(ob)['matches'].values[0])\n",
    "        else:\n",
    "            print(ob)\n",
    "            print(\"----Error recovery time----\")\n",
    "            time.sleep(90)\n",
    "            rest=getMatchRe([i], api_key)\n",
    "            matchIds.append(rest)\n",
    "    matchIds = matchIds + list(pd.DataFrame(objects)['gameId'].values)\n",
    "    \n",
    "    return matchIds[0]\n",
    "\n",
    "\n",
    "# tier와 api-key를 입력하면 gameId를 반환하는 함수\n",
    "\n",
    "def getMatchId(tier, api_key):\n",
    "    summoners = summonersT(tier, api_key)\n",
    "    accountId = getAccountId(summoners, api_key)\n",
    "    gameId = getMatch(accountId, api_key)\n",
    "    print(\"Done !!\")\n",
    "    return gameId"
   ]
  },
  {
   "cell_type": "markdown",
   "metadata": {},
   "source": [
    "### Get Iron games - save in gameId folder"
   ]
  },
  {
   "cell_type": "code",
   "execution_count": 14,
   "metadata": {
    "collapsed": true,
    "jupyter": {
     "outputs_hidden": true
    },
    "scrolled": true
   },
   "outputs": [
    {
     "name": "stdout",
     "output_type": "stream",
     "text": [
      "Summoners start-----\n",
      "min: 43 sec: 14\n",
      "Waiting for summoners end...\n",
      "Summoners done-----\n",
      "\n",
      "Accounts start-----\n",
      "min: 45 sec: 19\n"
     ]
    },
    {
     "data": {
      "application/vnd.jupyter.widget-view+json": {
       "model_id": "ef5036584cb54c0d8a0d7d64c7df5bb4",
       "version_major": 2,
       "version_minor": 0
      },
      "text/plain": [
       "  0%|          | 0/400 [00:00<?, ?it/s]"
      ]
     },
     "metadata": {},
     "output_type": "display_data"
    },
    {
     "name": "stdout",
     "output_type": "stream",
     "text": [
      "\n",
      "Accounts done-----\n",
      "\n",
      "MatchId start-----\n",
      "min: 55 sec: 15\n"
     ]
    },
    {
     "data": {
      "application/vnd.jupyter.widget-view+json": {
       "model_id": "52627ebdde0f4987a84882647bc2bdb6",
       "version_major": 2,
       "version_minor": 0
      },
      "text/plain": [
       "  0%|          | 0/400 [00:00<?, ?it/s]"
      ]
     },
     "metadata": {},
     "output_type": "display_data"
    },
    {
     "name": "stdout",
     "output_type": "stream",
     "text": [
      "                      status\n",
      "message      Gateway timeout\n",
      "status_code              504\n",
      "-Error recovery time-\n",
      "min: 4 sec: 42\n"
     ]
    },
    {
     "data": {
      "application/vnd.jupyter.widget-view+json": {
       "model_id": "b871448d11084ac681c9b4e5e9f8f545",
       "version_major": 2,
       "version_minor": 0
      },
      "text/plain": [
       "  0%|          | 0/1 [00:00<?, ?it/s]"
      ]
     },
     "metadata": {},
     "output_type": "display_data"
    },
    {
     "name": "stdout",
     "output_type": "stream",
     "text": [
      "-Error fixed-\n",
      "                      status\n",
      "message      Gateway timeout\n",
      "status_code              504\n",
      "-Error recovery time-\n",
      "min: 8 sec: 56\n"
     ]
    },
    {
     "data": {
      "application/vnd.jupyter.widget-view+json": {
       "model_id": "3b4e939d1f164004802968c4da79ebeb",
       "version_major": 2,
       "version_minor": 0
      },
      "text/plain": [
       "  0%|          | 0/1 [00:00<?, ?it/s]"
      ]
     },
     "metadata": {},
     "output_type": "display_data"
    },
    {
     "name": "stdout",
     "output_type": "stream",
     "text": [
      "-Error fixed-\n",
      "\n",
      "MatchId done-----\n",
      "Done !!\n"
     ]
    }
   ],
   "source": [
    "iron_4_gameId = getMatchId(IRON_URL4, api_key)\n",
    "np.save('gameId/iron/iron_4_gameId_1', iron_4_gameId)\n",
    "iron_3_gameId = getMatchId(IRON_URL3, api_key)\n",
    "np.save('gameId/iron/iron_3_gameId_1', iron_3_gameId)\n",
    "iron_2_gameId = getMatchId(IRON_URL2, api_key)\n",
    "np.save('gameId/iron/iron_2_gameId_1', iron_2_gameId)\n",
    "iron_1_gameId = getMatchId(IRON_URL1, api_key)\n",
    "np.save('gameId/iron/iron_1_gameId_1', iron_1_gameId)"
   ]
  },
  {
   "cell_type": "markdown",
   "metadata": {},
   "source": [
    "### Get Bronze games - save in gameId folder"
   ]
  },
  {
   "cell_type": "code",
   "execution_count": null,
   "metadata": {
    "scrolled": true
   },
   "outputs": [],
   "source": [
    "bronze_4_gameId = getMatchId(BRONZE_URL4, api_key)\n",
    "np.save('gameId/bronze/bronze_4_gameId_1', bronze_4_gameId)\n",
    "bronze_3_gameId = getMatchId(BRONZE_URL3, api_key)\n",
    "np.save('gameId/bronze/bronze_3_gameId_1', bronze_3_gameId)\n",
    "bronze_2_gameId = getMatchId(BRONZE_URL2, api_key)\n",
    "np.save('gameId/bronze/bronze_2_gameId_1', bronze_2_gameId)\n",
    "bronze_1_gameId = getMatchId(BRONZE_URL1, api_key)\n",
    "np.save('gameId/bronze/bronze_1_gameId_1', bronze_1_gameId)"
   ]
  },
  {
   "cell_type": "markdown",
   "metadata": {},
   "source": [
    "### Get Silver games - save in gameId folder"
   ]
  },
  {
   "cell_type": "code",
   "execution_count": null,
   "metadata": {
    "scrolled": true
   },
   "outputs": [],
   "source": [
    "silver_4_gameId = getMatchId(SILVER_URL4, api_key)\n",
    "np.save('gameId/silver/silver_4_gameId_1', silver_4_gameId)\n",
    "silver_3_gameId = getMatchId(SILVER_URL3, api_key)\n",
    "np.save('gameId/silver/silver_3_gameId_1', silver_3_gameId)\n",
    "silver_2_gameId = getMatchId(SILVER_URL2, api_key)\n",
    "np.save('gameId/silver/silver_2_gameId_1', silver_2_gameId)\n",
    "silver_1_gameId = getMatchId(SILVER_URL1, api_key)\n",
    "np.save('gameId/silver/silver_1_gameId_1', silver_1_gameId)"
   ]
  },
  {
   "cell_type": "markdown",
   "metadata": {},
   "source": [
    "### Get Gold games - save in gameId folder"
   ]
  },
  {
   "cell_type": "code",
   "execution_count": null,
   "metadata": {
    "scrolled": true
   },
   "outputs": [],
   "source": [
    "gold_4_gameId = getMatchId(GOLD_URL4, api_key)\n",
    "np.save('gameId/gold/gold_4_gameId_1', gold_4_gameId)\n",
    "gold_3_gameId = getMatchId(GOLD_URL3, api_key)\n",
    "np.save('gameId/gold/gold_3_gameId_1', gold_3_gameId)\n",
    "gold_2_gameId = getMatchId(GOLD_URL2, api_key)\n",
    "np.save('gameId/gold/gold_2_gameId_1', gold_2_gameId)\n",
    "gold_1_gameId = getMatchId(GOLD_URL1, api_key)\n",
    "np.save('gameId/gold/gold_1_gameId_1', gold_1_gameId)\n"
   ]
  },
  {
   "cell_type": "markdown",
   "metadata": {},
   "source": [
    "### Get platinum games - save in gameId folder"
   ]
  },
  {
   "cell_type": "code",
   "execution_count": null,
   "metadata": {
    "scrolled": true
   },
   "outputs": [],
   "source": [
    "platinum_4_gameId = getMatchId(PLATINUM_URL4, api_key)\n",
    "np.save('gameId/platinum/platinum_4_gameId_1', platinum_4_gameId)\n",
    "platinum_3_gameId = getMatchId(PLATINUM_URL3, api_key)\n",
    "np.save('gameId/platinum/platinum_3_gameId_1', platinum_3_gameId)\n",
    "platinum_2_gameId = getMatchId(PLATINUM_URL2, api_key)\n",
    "np.save('gameId/platinum/platinum_2_gameId_1', platinum_2_gameId)\n",
    "platinum_1_gameId = getMatchId(PLATINUM_URL1, api_key)\n",
    "np.save('gameId/platinum/platinum_1_gameId_1', platinum_1_gameId)"
   ]
  },
  {
   "cell_type": "markdown",
   "metadata": {},
   "source": [
    "### Get diamond, Master, GrandMaster, challenger games - save in gameId folder"
   ]
  },
  {
   "cell_type": "code",
   "execution_count": null,
   "metadata": {
    "scrolled": true
   },
   "outputs": [],
   "source": [
    "diamond_4_gameId = getMatchId(DIAMOND_URL4, api_key)\n",
    "np.save('gameId/diamond/diamond_4_gameId_1', diamond_4_gameId)\n",
    "diamond_3_gameId = getMatchId(DIAMOND_URL3, api_key)\n",
    "np.save('gameId/diamond/diamond_3_gameId_1', diamond_3_gameId)\n",
    "diamond_2_gameId = getMatchId(DIAMOND_URL2, api_key)\n",
    "np.save('gameId/diamond/diamond_2_gameId_1', diamond_2_gameId)\n",
    "diamond_1_gameId = getMatchId(DIAMOND_URL1, api_key)\n",
    "np.save('gameId/diamond/diamond_1_gameId_1', diamond_1_gameId)\n",
    "master_gameId = getMatchId(MASTER_URL1, api_key)\n",
    "np.save('gameId/master/master_gameId_1', master_gameId)\n",
    "grandmaster_gameId = getMatchId(GRANDMASTER_URL1, api_key)\n",
    "np.save('gameId/grandmaster/grandmaster_gameId_1', grandmaster_gameId)\n",
    "challenger_gameId = getMatchId(CHALLENGER_URL1, api_key)\n",
    "np.save('gameId/challenger/challenger_gameId_1', challenger_gameId)"
   ]
  },
  {
   "cell_type": "markdown",
   "metadata": {},
   "source": [
    "# Make DataFrame"
   ]
  },
  {
   "cell_type": "code",
   "execution_count": null,
   "metadata": {},
   "outputs": [],
   "source": [
    "# game data를 matchId를 통해 가져옴 - GAME MOD : CLASIIC\n",
    "\n",
    "def gameIdLoader(path, api_key):\n",
    "    gameIds = np.load(path)\n",
    "    matches=[]\n",
    "    a = 0\n",
    "    for i in tqdm(gameIds):\n",
    "        # request limit( 20 requests every 1 seconds(s) , 100 requests every 2 minutes(s) )에 대한 해결 방안으로 time.sleep 을 120이상으로 설정\n",
    "        if a % 20 == 0:\n",
    "            time.sleep(2)\n",
    "        if a % 100 == 0:\n",
    "            time.sleep(125)\n",
    "        load_url = MATCH_URL + str(i)\n",
    "        res = requests.get(load_url, headers={\"X-Riot-Token\": api_key})\n",
    "        ob=json.loads(res.text)\n",
    "        if 'gameDuration' in ob:\n",
    "            if ob['gameMode'] != 'CLASSIC':\n",
    "                a += 1\n",
    "                continue\n",
    "            matches.append(ob)\n",
    "        else:\n",
    "            print(ob)\n",
    "            print(\"-Error recovery time-\")\n",
    "            time.sleep(90)\n",
    "            rest=gameIdLoaderRe([i], api_key)\n",
    "            matches.append(rest[0])\n",
    "            print(\"-Error fixed-\")\n",
    "        a += 1\n",
    "    return matches\n",
    "    \n",
    "\n",
    "# gameIdLoader중 timeout 오류발생시 다시 request를받기위해 시간간격을 두고 다시 request하도록 함.\n",
    "\n",
    "def gameIdLoaderRe(gameIds, api_key):\n",
    "    matches=[]\n",
    "    for i in tqdm(gameIds):\n",
    "        load_url = MATCH_URL + str(i)\n",
    "        res = requests.get(load_url, headers={\"X-Riot-Token\": api_key})\n",
    "        ob=json.loads(res.text)\n",
    "        if 'gameDuration' in ob:\n",
    "            matches.append(ob)\n",
    "        else:\n",
    "            print(ob)\n",
    "            print(\"-Error recovery time-\")\n",
    "            time.sleep(90)\n",
    "            rest=gameIdLoaderRe([i], api_key)\n",
    "            matches.append(rest[0])\n",
    "            print(\"-Error fixed-\")\n",
    "    return matches\n",
    "    \n",
    "    \n",
    "# gamedata를 list형식으로 펴기위해 사용\n",
    "\n",
    "def flatter(matches):\n",
    "    matchlist = []\n",
    "    for i in matches:\n",
    "        matchlist.append(flatten(i, enumerate_types=(list,), reducer=make_reducer(delimiter='_')))\n",
    "    \n",
    "    return matchlist\n",
    "\n",
    "\n",
    "# 사용하지 않을 column을 삭제하기 위해 key의 내용을 가지고 있는 입력 d에 대한 dictionary를 반환\n",
    "\n",
    "def filter_dict(d, f):\n",
    "    ''' Filters dictionary d by function f. '''\n",
    "    newDict = dict()\n",
    "    # Iterate over all (k,v) pairs in names\n",
    "    for key, value in d.items():\n",
    "        # Is condition satisfied?\n",
    "        if f(key, value):\n",
    "            newDict[key] = value\n",
    "    return newDict\n",
    "\n",
    "# 사용하지 않을 column을 삭제하기 위해 key의 내용을 가지고 있는 입력 d에 대한 dictionary를 반환 - team data를 filter 할 때 사용\n",
    "def filter_team_dict(d, f):\n",
    "    ''' Filters dictionary d by function f. '''\n",
    "    newDict = dict()\n",
    "    # Iterate over all (k,v) pairs in names\n",
    "    ind = -1\n",
    "    kl = ['teams_win', 'teams_firstBlood', 'teams_firstTower', 'teams_firstInhibitor', 'teams_firstBaron', 'teams_firstDragon', 'teams_firstRiftHerald', 'teams_towerKills', 'teams_inhibitorKills', 'teams_baronKills', 'teams_dragonKills', 'teams_riftHeraldKills']\n",
    "    for key, value in d.items():\n",
    "        # Is condition satisfied?\n",
    "        if f(key, value):\n",
    "            ind += 1\n",
    "            newDict[kl[ind]] = value\n",
    "    return newDict\n",
    "\n",
    "# 사용하지 않을 column을 삭제하기 위해 key의 내용을 가지고 있는 입력 d에 대한 dictionary를 반환 - participant data를 filter 할 때 사용\n",
    "\n",
    "def filter_participant_dict(d, f):\n",
    "    ''' Filters dictionary d by function f. '''\n",
    "    newDict = dict()\n",
    "    # Iterate over all (k,v) pairs in names\n",
    "    for key, value in d.items():\n",
    "        # Is condition satisfied?\n",
    "        if f(key, value):\n",
    "            pkey = 'total_'+key[14:]\n",
    "            newDict[pkey] = value\n",
    "    return newDict\n",
    "\n",
    "\n",
    "# 한개의 gamedata를 승리팀, 패배팀으로 나누기 위해 사용 return - list: index = 0 = win , index = 1 = lose (team_0이 win인 경우)\n",
    "\n",
    "def winTeams_0(match):\n",
    "    matchtemp = match\n",
    "    \n",
    "    for delstring in ['item', 'Id', 'playerScore', 'perk', 'Perk', 'bans', 'PlayerScore', 'timeline_csDiffPerMinDeltas_0-10', 'stats_totalScoreRank', 'dominionVictoryScore', 'stats_win', 'stats_unrealKills', 'stats_sightWardsBoughtInGame', 'timeline', 'vilemawKills', 'dominionVictoryScore','stats_firstInhibitorAssist','stats_firstInhibitorKill', 'stats_firstTowerAssist', 'stats_firstTowerKill', 'stats_firstBloodAssist', 'stats_firstBloodKill','turretKills','towerKills', 'damageDealtToTurrets']: \n",
    "        temp = list(filter_dict(match, lambda k,v: delstring in k).keys())\n",
    "        for i in temp:\n",
    "            del(matchtemp[i])\n",
    "    \n",
    "    \n",
    "    avg_data = (np.array(list(filter_participant_dict(matchtemp, lambda k,v: 'participants_0' in k).values())) \n",
    "    + np.array(list(filter_participant_dict(matchtemp, lambda k,v: 'participants_1' in k).values())) \n",
    "    + np.array(list(filter_participant_dict(matchtemp, lambda k,v: 'participants_2' in k).values())) \n",
    "    + np.array(list(filter_participant_dict(matchtemp, lambda k,v: 'participants_3' in k).values()))\n",
    "    + np.array(list(filter_participant_dict(matchtemp, lambda k,v: 'participants_4' in k).values())))\n",
    "    avg_label = list(filter_participant_dict(matchtemp, lambda k,v: 'participants_0' in k).keys())\n",
    "    win = {avg_label[i]: avg_data[i] for i in range(len(avg_label))}\n",
    "    \n",
    "    \n",
    "    avg_data = (np.array(list(filter_participant_dict(matchtemp, lambda k,v: 'participants_5' in k).values())) \n",
    "    + np.array(list(filter_participant_dict(matchtemp, lambda k,v: 'participants_6' in k).values())) \n",
    "    + np.array(list(filter_participant_dict(matchtemp, lambda k,v: 'participants_7' in k).values())) \n",
    "    + np.array(list(filter_participant_dict(matchtemp, lambda k,v: 'participants_8' in k).values()))\n",
    "    + np.array(list(filter_participant_dict(matchtemp, lambda k,v: 'participants_9' in k).values())))\n",
    "    lose = {avg_label[i]: avg_data[i] for i in range(len(avg_label))}\n",
    "    \n",
    "    win.update(filter_team_dict(matchtemp, lambda k,v: 'teams_0' in k))\n",
    "    lose.update(filter_team_dict(matchtemp, lambda k,v: 'teams_1' in k))\n",
    "    \n",
    "    return [win, lose]\n",
    "\n",
    "\n",
    "# (team_1이 win인 경우)\n",
    "\n",
    "def winTeams_1(match):\n",
    "    temp = winTeams_0(match)\n",
    "    return [temp[1], temp[0]]\n",
    "\n",
    "\n",
    "# 한개의 gamedata를 승리팀, 패배팀으로 나누기 위해 사용\n",
    "\n",
    "def divideTeams(matches):\n",
    "    resultList = list()\n",
    "    for i in matches:\n",
    "        loseDict = dict()\n",
    "        winDict = dict()\n",
    "        loseDict.update({'gameDuration':i['gameDuration']})\n",
    "        winDict.update({'gameDuration':i['gameDuration']})\n",
    "        loseDict.update({'gameMode':i['gameMode']})\n",
    "        winDict.update({'gameMode':i['gameMode']})\n",
    "        \n",
    "        if i['teams_0_win'] == 'Win':\n",
    "            winDict.update(winTeams_0(i)[0])\n",
    "            loseDict.update(winTeams_0(i)[1])\n",
    "        else:\n",
    "            winDict.update(winTeams_1(i)[0])\n",
    "            loseDict.update(winTeams_1(i)[1])\n",
    "        resultList.append(winDict)\n",
    "        resultList.append(loseDict)\n",
    "    return resultList   \n",
    "\n",
    "\n",
    "# 필요없는 data 삭제\n",
    "\n",
    "def preprocessing(matches):\n",
    "    df = pd.DataFrame(divideTeams(flatter(matches)))\n",
    "    df[\"teams_firstBlood\"] = df[\"teams_firstBlood\"].astype(int)\n",
    "    df[\"teams_firstTower\"] = df[\"teams_firstTower\"].astype(int)\n",
    "    df[\"teams_firstInhibitor\"] = df[\"teams_firstInhibitor\"].astype(int)\n",
    "    df[\"teams_firstBaron\"] = df[\"teams_firstBaron\"].astype(int)\n",
    "    df[\"teams_firstDragon\"] = df[\"teams_firstDragon\"].astype(int)\n",
    "    df[\"teams_firstRiftHerald\"] = df[\"teams_firstRiftHerald\"].astype(int)\n",
    "    df.insert(0, 'team_win', df.teams_win)\n",
    "    df = df.drop(columns=['teams_win', 'gameMode'])\n",
    "    df['team_win'] = df['team_win'].replace(['Win','Fail'],[10000,-500])\n",
    "    return df\n",
    "\n",
    "\n",
    "# DataFrame으로 전처리가 된 data를 반환\n",
    "\n",
    "def getDataFrame(path, api_key):\n",
    "    return preprocessing(gameIdLoader(path, api_key))\n"
   ]
  },
  {
   "cell_type": "markdown",
   "metadata": {},
   "source": [
    "### Save DataFrame Iron"
   ]
  },
  {
   "cell_type": "code",
   "execution_count": null,
   "metadata": {
    "collapsed": true,
    "jupyter": {
     "outputs_hidden": true
    },
    "scrolled": true
   },
   "outputs": [
    {
     "name": "stderr",
     "output_type": "stream",
     "text": [
      "  0%|                                                                                          | 0/400 [00:00<?, ?it/s]"
     ]
    }
   ],
   "source": [
    "df = getDataFrame('gameId/iron/iron_1_gameId_1.npy', api_key)\n",
    "df1 = getDataFrame('gameId/iron/iron_2_gameId_1.npy', api_key)\n",
    "df2 = getDataFrame('gameId/iron/iron_3_gameId_1.npy', api_key)\n",
    "df3 = getDataFrame('gameId/iron/iron_4_gameId_1.npy', api_key)\n",
    "\n",
    "df = df.append(df1)\n",
    "df = df.append(df2)\n",
    "df = df.append(df3)\n",
    "df.to_csv(\"dataFrame/iron.csv\")"
   ]
  },
  {
   "cell_type": "markdown",
   "metadata": {},
   "source": [
    "#### Data Frame Check"
   ]
  },
  {
   "cell_type": "code",
   "execution_count": 369,
   "metadata": {},
   "outputs": [
    {
     "data": {
      "text/html": [
       "<div>\n",
       "<style scoped>\n",
       "    .dataframe tbody tr th:only-of-type {\n",
       "        vertical-align: middle;\n",
       "    }\n",
       "\n",
       "    .dataframe tbody tr th {\n",
       "        vertical-align: top;\n",
       "    }\n",
       "\n",
       "    .dataframe thead th {\n",
       "        text-align: right;\n",
       "    }\n",
       "</style>\n",
       "<table border=\"1\" class=\"dataframe\">\n",
       "  <thead>\n",
       "    <tr style=\"text-align: right;\">\n",
       "      <th></th>\n",
       "      <th>Unnamed: 0</th>\n",
       "      <th>team_win</th>\n",
       "      <th>gameDuration</th>\n",
       "      <th>total__stats_kills</th>\n",
       "      <th>total__stats_deaths</th>\n",
       "      <th>total__stats_assists</th>\n",
       "      <th>total__stats_largestKillingSpree</th>\n",
       "      <th>total__stats_largestMultiKill</th>\n",
       "      <th>total__stats_killingSprees</th>\n",
       "      <th>total__stats_longestTimeSpentLiving</th>\n",
       "      <th>total__stats_doubleKills</th>\n",
       "      <th>total__stats_tripleKills</th>\n",
       "      <th>total__stats_quadraKills</th>\n",
       "      <th>total__stats_pentaKills</th>\n",
       "      <th>total__stats_totalDamageDealt</th>\n",
       "      <th>total__stats_magicDamageDealt</th>\n",
       "      <th>total__stats_physicalDamageDealt</th>\n",
       "      <th>total__stats_trueDamageDealt</th>\n",
       "      <th>total__stats_largestCriticalStrike</th>\n",
       "      <th>total__stats_totalDamageDealtToChampions</th>\n",
       "      <th>total__stats_magicDamageDealtToChampions</th>\n",
       "      <th>total__stats_physicalDamageDealtToChampions</th>\n",
       "      <th>total__stats_trueDamageDealtToChampions</th>\n",
       "      <th>total__stats_totalHeal</th>\n",
       "      <th>total__stats_totalUnitsHealed</th>\n",
       "      <th>total__stats_damageSelfMitigated</th>\n",
       "      <th>total__stats_damageDealtToObjectives</th>\n",
       "      <th>total__stats_visionScore</th>\n",
       "      <th>total__stats_timeCCingOthers</th>\n",
       "      <th>total__stats_totalDamageTaken</th>\n",
       "      <th>total__stats_magicalDamageTaken</th>\n",
       "      <th>total__stats_physicalDamageTaken</th>\n",
       "      <th>total__stats_trueDamageTaken</th>\n",
       "      <th>total__stats_goldEarned</th>\n",
       "      <th>total__stats_goldSpent</th>\n",
       "      <th>total__stats_inhibitorKills</th>\n",
       "      <th>total__stats_totalMinionsKilled</th>\n",
       "      <th>total__stats_neutralMinionsKilled</th>\n",
       "      <th>total__stats_neutralMinionsKilledTeamJungle</th>\n",
       "      <th>total__stats_neutralMinionsKilledEnemyJungle</th>\n",
       "      <th>total__stats_totalTimeCrowdControlDealt</th>\n",
       "      <th>total__stats_champLevel</th>\n",
       "      <th>total__stats_visionWardsBoughtInGame</th>\n",
       "      <th>total__stats_wardsPlaced</th>\n",
       "      <th>total__stats_wardsKilled</th>\n",
       "      <th>teams_firstBlood</th>\n",
       "      <th>teams_firstTower</th>\n",
       "      <th>teams_firstInhibitor</th>\n",
       "      <th>teams_firstBaron</th>\n",
       "      <th>teams_firstDragon</th>\n",
       "      <th>teams_firstRiftHerald</th>\n",
       "      <th>teams_towerKills</th>\n",
       "      <th>teams_inhibitorKills</th>\n",
       "      <th>teams_baronKills</th>\n",
       "      <th>teams_dragonKills</th>\n",
       "    </tr>\n",
       "  </thead>\n",
       "  <tbody>\n",
       "    <tr>\n",
       "      <th>0</th>\n",
       "      <td>0</td>\n",
       "      <td>10000</td>\n",
       "      <td>1432</td>\n",
       "      <td>29</td>\n",
       "      <td>10</td>\n",
       "      <td>32</td>\n",
       "      <td>15</td>\n",
       "      <td>9</td>\n",
       "      <td>6</td>\n",
       "      <td>2151</td>\n",
       "      <td>4</td>\n",
       "      <td>1</td>\n",
       "      <td>0</td>\n",
       "      <td>0</td>\n",
       "      <td>356585</td>\n",
       "      <td>61255</td>\n",
       "      <td>268728</td>\n",
       "      <td>26599</td>\n",
       "      <td>397</td>\n",
       "      <td>53482</td>\n",
       "      <td>12124</td>\n",
       "      <td>38042</td>\n",
       "      <td>3314</td>\n",
       "      <td>17731</td>\n",
       "      <td>11</td>\n",
       "      <td>34668</td>\n",
       "      <td>19988</td>\n",
       "      <td>72</td>\n",
       "      <td>108</td>\n",
       "      <td>52386</td>\n",
       "      <td>3422</td>\n",
       "      <td>47639</td>\n",
       "      <td>1322</td>\n",
       "      <td>41310</td>\n",
       "      <td>36260</td>\n",
       "      <td>0</td>\n",
       "      <td>421</td>\n",
       "      <td>123</td>\n",
       "      <td>67</td>\n",
       "      <td>22</td>\n",
       "      <td>537</td>\n",
       "      <td>61</td>\n",
       "      <td>2</td>\n",
       "      <td>34</td>\n",
       "      <td>3</td>\n",
       "      <td>0</td>\n",
       "      <td>1</td>\n",
       "      <td>0</td>\n",
       "      <td>0</td>\n",
       "      <td>0</td>\n",
       "      <td>0</td>\n",
       "      <td>0</td>\n",
       "      <td>0</td>\n",
       "      <td>1</td>\n",
       "      <td>0</td>\n",
       "    </tr>\n",
       "    <tr>\n",
       "      <th>1</th>\n",
       "      <td>1</td>\n",
       "      <td>-500</td>\n",
       "      <td>1432</td>\n",
       "      <td>10</td>\n",
       "      <td>29</td>\n",
       "      <td>6</td>\n",
       "      <td>3</td>\n",
       "      <td>5</td>\n",
       "      <td>1</td>\n",
       "      <td>2714</td>\n",
       "      <td>1</td>\n",
       "      <td>0</td>\n",
       "      <td>0</td>\n",
       "      <td>0</td>\n",
       "      <td>233158</td>\n",
       "      <td>35101</td>\n",
       "      <td>179330</td>\n",
       "      <td>18725</td>\n",
       "      <td>886</td>\n",
       "      <td>32841</td>\n",
       "      <td>2507</td>\n",
       "      <td>29009</td>\n",
       "      <td>1322</td>\n",
       "      <td>15081</td>\n",
       "      <td>7</td>\n",
       "      <td>43932</td>\n",
       "      <td>10744</td>\n",
       "      <td>35</td>\n",
       "      <td>46</td>\n",
       "      <td>70093</td>\n",
       "      <td>12889</td>\n",
       "      <td>53886</td>\n",
       "      <td>3313</td>\n",
       "      <td>31458</td>\n",
       "      <td>29100</td>\n",
       "      <td>0</td>\n",
       "      <td>311</td>\n",
       "      <td>76</td>\n",
       "      <td>64</td>\n",
       "      <td>0</td>\n",
       "      <td>289</td>\n",
       "      <td>51</td>\n",
       "      <td>1</td>\n",
       "      <td>21</td>\n",
       "      <td>1</td>\n",
       "      <td>1</td>\n",
       "      <td>0</td>\n",
       "      <td>0</td>\n",
       "      <td>0</td>\n",
       "      <td>1</td>\n",
       "      <td>0</td>\n",
       "      <td>0</td>\n",
       "      <td>0</td>\n",
       "      <td>2</td>\n",
       "      <td>0</td>\n",
       "    </tr>\n",
       "    <tr>\n",
       "      <th>2</th>\n",
       "      <td>2</td>\n",
       "      <td>10000</td>\n",
       "      <td>1344</td>\n",
       "      <td>23</td>\n",
       "      <td>7</td>\n",
       "      <td>17</td>\n",
       "      <td>16</td>\n",
       "      <td>5</td>\n",
       "      <td>6</td>\n",
       "      <td>2335</td>\n",
       "      <td>1</td>\n",
       "      <td>0</td>\n",
       "      <td>0</td>\n",
       "      <td>0</td>\n",
       "      <td>341109</td>\n",
       "      <td>74286</td>\n",
       "      <td>234456</td>\n",
       "      <td>32363</td>\n",
       "      <td>298</td>\n",
       "      <td>52570</td>\n",
       "      <td>13611</td>\n",
       "      <td>36349</td>\n",
       "      <td>2605</td>\n",
       "      <td>16353</td>\n",
       "      <td>6</td>\n",
       "      <td>32357</td>\n",
       "      <td>25683</td>\n",
       "      <td>47</td>\n",
       "      <td>58</td>\n",
       "      <td>55740</td>\n",
       "      <td>20258</td>\n",
       "      <td>33728</td>\n",
       "      <td>1749</td>\n",
       "      <td>36343</td>\n",
       "      <td>33000</td>\n",
       "      <td>0</td>\n",
       "      <td>409</td>\n",
       "      <td>100</td>\n",
       "      <td>53</td>\n",
       "      <td>16</td>\n",
       "      <td>481</td>\n",
       "      <td>59</td>\n",
       "      <td>1</td>\n",
       "      <td>27</td>\n",
       "      <td>1</td>\n",
       "      <td>1</td>\n",
       "      <td>1</td>\n",
       "      <td>0</td>\n",
       "      <td>0</td>\n",
       "      <td>1</td>\n",
       "      <td>1</td>\n",
       "      <td>0</td>\n",
       "      <td>0</td>\n",
       "      <td>2</td>\n",
       "      <td>1</td>\n",
       "    </tr>\n",
       "    <tr>\n",
       "      <th>3</th>\n",
       "      <td>3</td>\n",
       "      <td>-500</td>\n",
       "      <td>1344</td>\n",
       "      <td>7</td>\n",
       "      <td>23</td>\n",
       "      <td>4</td>\n",
       "      <td>2</td>\n",
       "      <td>3</td>\n",
       "      <td>1</td>\n",
       "      <td>2724</td>\n",
       "      <td>0</td>\n",
       "      <td>0</td>\n",
       "      <td>0</td>\n",
       "      <td>0</td>\n",
       "      <td>240747</td>\n",
       "      <td>78312</td>\n",
       "      <td>139218</td>\n",
       "      <td>23215</td>\n",
       "      <td>495</td>\n",
       "      <td>33999</td>\n",
       "      <td>18699</td>\n",
       "      <td>13547</td>\n",
       "      <td>1750</td>\n",
       "      <td>11416</td>\n",
       "      <td>4</td>\n",
       "      <td>27859</td>\n",
       "      <td>10349</td>\n",
       "      <td>48</td>\n",
       "      <td>87</td>\n",
       "      <td>69065</td>\n",
       "      <td>14655</td>\n",
       "      <td>51802</td>\n",
       "      <td>2604</td>\n",
       "      <td>28105</td>\n",
       "      <td>25825</td>\n",
       "      <td>0</td>\n",
       "      <td>315</td>\n",
       "      <td>75</td>\n",
       "      <td>58</td>\n",
       "      <td>4</td>\n",
       "      <td>1040</td>\n",
       "      <td>54</td>\n",
       "      <td>0</td>\n",
       "      <td>27</td>\n",
       "      <td>2</td>\n",
       "      <td>0</td>\n",
       "      <td>0</td>\n",
       "      <td>0</td>\n",
       "      <td>0</td>\n",
       "      <td>0</td>\n",
       "      <td>0</td>\n",
       "      <td>0</td>\n",
       "      <td>0</td>\n",
       "      <td>0</td>\n",
       "      <td>0</td>\n",
       "    </tr>\n",
       "    <tr>\n",
       "      <th>4</th>\n",
       "      <td>4</td>\n",
       "      <td>10000</td>\n",
       "      <td>1555</td>\n",
       "      <td>25</td>\n",
       "      <td>14</td>\n",
       "      <td>32</td>\n",
       "      <td>13</td>\n",
       "      <td>7</td>\n",
       "      <td>7</td>\n",
       "      <td>4096</td>\n",
       "      <td>4</td>\n",
       "      <td>1</td>\n",
       "      <td>0</td>\n",
       "      <td>0</td>\n",
       "      <td>465485</td>\n",
       "      <td>119149</td>\n",
       "      <td>297222</td>\n",
       "      <td>49110</td>\n",
       "      <td>811</td>\n",
       "      <td>50166</td>\n",
       "      <td>25177</td>\n",
       "      <td>20491</td>\n",
       "      <td>4496</td>\n",
       "      <td>20155</td>\n",
       "      <td>9</td>\n",
       "      <td>50690</td>\n",
       "      <td>68201</td>\n",
       "      <td>114</td>\n",
       "      <td>66</td>\n",
       "      <td>76013</td>\n",
       "      <td>33283</td>\n",
       "      <td>40263</td>\n",
       "      <td>2463</td>\n",
       "      <td>48762</td>\n",
       "      <td>45460</td>\n",
       "      <td>1</td>\n",
       "      <td>484</td>\n",
       "      <td>176</td>\n",
       "      <td>106</td>\n",
       "      <td>12</td>\n",
       "      <td>546</td>\n",
       "      <td>66</td>\n",
       "      <td>18</td>\n",
       "      <td>56</td>\n",
       "      <td>11</td>\n",
       "      <td>1</td>\n",
       "      <td>1</td>\n",
       "      <td>1</td>\n",
       "      <td>1</td>\n",
       "      <td>1</td>\n",
       "      <td>1</td>\n",
       "      <td>1</td>\n",
       "      <td>1</td>\n",
       "      <td>3</td>\n",
       "      <td>2</td>\n",
       "    </tr>\n",
       "  </tbody>\n",
       "</table>\n",
       "</div>"
      ],
      "text/plain": [
       "   Unnamed: 0  team_win  gameDuration  total__stats_kills  \\\n",
       "0           0     10000          1432                  29   \n",
       "1           1      -500          1432                  10   \n",
       "2           2     10000          1344                  23   \n",
       "3           3      -500          1344                   7   \n",
       "4           4     10000          1555                  25   \n",
       "\n",
       "   total__stats_deaths  total__stats_assists  \\\n",
       "0                   10                    32   \n",
       "1                   29                     6   \n",
       "2                    7                    17   \n",
       "3                   23                     4   \n",
       "4                   14                    32   \n",
       "\n",
       "   total__stats_largestKillingSpree  total__stats_largestMultiKill  \\\n",
       "0                                15                              9   \n",
       "1                                 3                              5   \n",
       "2                                16                              5   \n",
       "3                                 2                              3   \n",
       "4                                13                              7   \n",
       "\n",
       "   total__stats_killingSprees  total__stats_longestTimeSpentLiving  \\\n",
       "0                           6                                 2151   \n",
       "1                           1                                 2714   \n",
       "2                           6                                 2335   \n",
       "3                           1                                 2724   \n",
       "4                           7                                 4096   \n",
       "\n",
       "   total__stats_doubleKills  total__stats_tripleKills  \\\n",
       "0                         4                         1   \n",
       "1                         1                         0   \n",
       "2                         1                         0   \n",
       "3                         0                         0   \n",
       "4                         4                         1   \n",
       "\n",
       "   total__stats_quadraKills  total__stats_pentaKills  \\\n",
       "0                         0                        0   \n",
       "1                         0                        0   \n",
       "2                         0                        0   \n",
       "3                         0                        0   \n",
       "4                         0                        0   \n",
       "\n",
       "   total__stats_totalDamageDealt  total__stats_magicDamageDealt  \\\n",
       "0                         356585                          61255   \n",
       "1                         233158                          35101   \n",
       "2                         341109                          74286   \n",
       "3                         240747                          78312   \n",
       "4                         465485                         119149   \n",
       "\n",
       "   total__stats_physicalDamageDealt  total__stats_trueDamageDealt  \\\n",
       "0                            268728                         26599   \n",
       "1                            179330                         18725   \n",
       "2                            234456                         32363   \n",
       "3                            139218                         23215   \n",
       "4                            297222                         49110   \n",
       "\n",
       "   total__stats_largestCriticalStrike  \\\n",
       "0                                 397   \n",
       "1                                 886   \n",
       "2                                 298   \n",
       "3                                 495   \n",
       "4                                 811   \n",
       "\n",
       "   total__stats_totalDamageDealtToChampions  \\\n",
       "0                                     53482   \n",
       "1                                     32841   \n",
       "2                                     52570   \n",
       "3                                     33999   \n",
       "4                                     50166   \n",
       "\n",
       "   total__stats_magicDamageDealtToChampions  \\\n",
       "0                                     12124   \n",
       "1                                      2507   \n",
       "2                                     13611   \n",
       "3                                     18699   \n",
       "4                                     25177   \n",
       "\n",
       "   total__stats_physicalDamageDealtToChampions  \\\n",
       "0                                        38042   \n",
       "1                                        29009   \n",
       "2                                        36349   \n",
       "3                                        13547   \n",
       "4                                        20491   \n",
       "\n",
       "   total__stats_trueDamageDealtToChampions  total__stats_totalHeal  \\\n",
       "0                                     3314                   17731   \n",
       "1                                     1322                   15081   \n",
       "2                                     2605                   16353   \n",
       "3                                     1750                   11416   \n",
       "4                                     4496                   20155   \n",
       "\n",
       "   total__stats_totalUnitsHealed  total__stats_damageSelfMitigated  \\\n",
       "0                             11                             34668   \n",
       "1                              7                             43932   \n",
       "2                              6                             32357   \n",
       "3                              4                             27859   \n",
       "4                              9                             50690   \n",
       "\n",
       "   total__stats_damageDealtToObjectives  total__stats_visionScore  \\\n",
       "0                                 19988                        72   \n",
       "1                                 10744                        35   \n",
       "2                                 25683                        47   \n",
       "3                                 10349                        48   \n",
       "4                                 68201                       114   \n",
       "\n",
       "   total__stats_timeCCingOthers  total__stats_totalDamageTaken  \\\n",
       "0                           108                          52386   \n",
       "1                            46                          70093   \n",
       "2                            58                          55740   \n",
       "3                            87                          69065   \n",
       "4                            66                          76013   \n",
       "\n",
       "   total__stats_magicalDamageTaken  total__stats_physicalDamageTaken  \\\n",
       "0                             3422                             47639   \n",
       "1                            12889                             53886   \n",
       "2                            20258                             33728   \n",
       "3                            14655                             51802   \n",
       "4                            33283                             40263   \n",
       "\n",
       "   total__stats_trueDamageTaken  total__stats_goldEarned  \\\n",
       "0                          1322                    41310   \n",
       "1                          3313                    31458   \n",
       "2                          1749                    36343   \n",
       "3                          2604                    28105   \n",
       "4                          2463                    48762   \n",
       "\n",
       "   total__stats_goldSpent  total__stats_inhibitorKills  \\\n",
       "0                   36260                            0   \n",
       "1                   29100                            0   \n",
       "2                   33000                            0   \n",
       "3                   25825                            0   \n",
       "4                   45460                            1   \n",
       "\n",
       "   total__stats_totalMinionsKilled  total__stats_neutralMinionsKilled  \\\n",
       "0                              421                                123   \n",
       "1                              311                                 76   \n",
       "2                              409                                100   \n",
       "3                              315                                 75   \n",
       "4                              484                                176   \n",
       "\n",
       "   total__stats_neutralMinionsKilledTeamJungle  \\\n",
       "0                                           67   \n",
       "1                                           64   \n",
       "2                                           53   \n",
       "3                                           58   \n",
       "4                                          106   \n",
       "\n",
       "   total__stats_neutralMinionsKilledEnemyJungle  \\\n",
       "0                                            22   \n",
       "1                                             0   \n",
       "2                                            16   \n",
       "3                                             4   \n",
       "4                                            12   \n",
       "\n",
       "   total__stats_totalTimeCrowdControlDealt  total__stats_champLevel  \\\n",
       "0                                      537                       61   \n",
       "1                                      289                       51   \n",
       "2                                      481                       59   \n",
       "3                                     1040                       54   \n",
       "4                                      546                       66   \n",
       "\n",
       "   total__stats_visionWardsBoughtInGame  total__stats_wardsPlaced  \\\n",
       "0                                     2                        34   \n",
       "1                                     1                        21   \n",
       "2                                     1                        27   \n",
       "3                                     0                        27   \n",
       "4                                    18                        56   \n",
       "\n",
       "   total__stats_wardsKilled  teams_firstBlood  teams_firstTower  \\\n",
       "0                         3                 0                 1   \n",
       "1                         1                 1                 0   \n",
       "2                         1                 1                 1   \n",
       "3                         2                 0                 0   \n",
       "4                        11                 1                 1   \n",
       "\n",
       "   teams_firstInhibitor  teams_firstBaron  teams_firstDragon  \\\n",
       "0                     0                 0                  0   \n",
       "1                     0                 0                  1   \n",
       "2                     0                 0                  1   \n",
       "3                     0                 0                  0   \n",
       "4                     1                 1                  1   \n",
       "\n",
       "   teams_firstRiftHerald  teams_towerKills  teams_inhibitorKills  \\\n",
       "0                      0                 0                     0   \n",
       "1                      0                 0                     0   \n",
       "2                      1                 0                     0   \n",
       "3                      0                 0                     0   \n",
       "4                      1                 1                     1   \n",
       "\n",
       "   teams_baronKills  teams_dragonKills  \n",
       "0                 1                  0  \n",
       "1                 2                  0  \n",
       "2                 2                  1  \n",
       "3                 0                  0  \n",
       "4                 3                  2  "
      ]
     },
     "execution_count": 369,
     "metadata": {},
     "output_type": "execute_result"
    }
   ],
   "source": [
    "df_iron = pd.read_csv('dataFrame/iron.csv')\n",
    "df_iron.head()"
   ]
  },
  {
   "cell_type": "markdown",
   "metadata": {},
   "source": [
    "### Save DataFrame Bronze"
   ]
  },
  {
   "cell_type": "code",
   "execution_count": null,
   "metadata": {},
   "outputs": [],
   "source": [
    "df_bronze = getDataFrame('gameId/bronze/bronze_1_gameId_1.npy', api_key)\n",
    "df1 = getDataFrame('gameId/bronze/bronze_2_gameId_1.npy', api_key)\n",
    "df2 = getDataFrame('gameId/bronze/bronze_3_gameId_1.npy', api_key)\n",
    "df3 = getDataFrame('gameId/bronze/bronze_4_gameId_1.npy', api_key)\n",
    "\n",
    "df_bronze = df_bronze.append(df1)\n",
    "df_bronze = df_bronze.append(df2)\n",
    "df_bronze = df_bronze.append(df3)\n",
    "df_bronze.to_csv(\"dataFrame/bronze.csv\")"
   ]
  },
  {
   "cell_type": "markdown",
   "metadata": {},
   "source": [
    "#### Check corr"
   ]
  },
  {
   "cell_type": "code",
   "execution_count": 12,
   "metadata": {},
   "outputs": [
    {
     "data": {
      "text/plain": [
       "Unnamed: 0                                     -0.002359\n",
       "team_win                                        1.000000\n",
       "gameDuration                                    0.000000\n",
       "total__stats_kills                              0.463172\n",
       "total__stats_deaths                            -0.461522\n",
       "total__stats_assists                            0.378639\n",
       "total__stats_largestKillingSpree                0.615208\n",
       "total__stats_largestMultiKill                   0.422129\n",
       "total__stats_killingSprees                      0.420435\n",
       "total__stats_longestTimeSpentLiving             0.130406\n",
       "total__stats_doubleKills                        0.418660\n",
       "total__stats_tripleKills                        0.278756\n",
       "total__stats_quadraKills                        0.155063\n",
       "total__stats_pentaKills                         0.096791\n",
       "total__stats_totalDamageDealt                   0.190049\n",
       "total__stats_magicDamageDealt                   0.104656\n",
       "total__stats_physicalDamageDealt                0.186112\n",
       "total__stats_trueDamageDealt                    0.118681\n",
       "total__stats_largestCriticalStrike              0.132728\n",
       "total__stats_totalDamageDealtToChampions        0.182984\n",
       "total__stats_magicDamageDealtToChampions        0.105787\n",
       "total__stats_physicalDamageDealtToChampions     0.188516\n",
       "total__stats_trueDamageDealtToChampions         0.111594\n",
       "total__stats_totalHeal                          0.221164\n",
       "total__stats_totalUnitsHealed                   0.028404\n",
       "total__stats_damageSelfMitigated                0.001934\n",
       "total__stats_damageDealtToObjectives            0.545864\n",
       "total__stats_visionScore                        0.153661\n",
       "total__stats_timeCCingOthers                    0.063496\n",
       "total__stats_totalDamageTaken                  -0.081489\n",
       "total__stats_magicalDamageTaken                -0.092302\n",
       "total__stats_physicalDamageTaken               -0.049457\n",
       "total__stats_trueDamageTaken                   -0.069868\n",
       "total__stats_goldEarned                         0.261107\n",
       "total__stats_goldSpent                          0.154146\n",
       "total__stats_inhibitorKills                     0.539729\n",
       "total__stats_totalMinionsKilled                 0.105008\n",
       "total__stats_neutralMinionsKilled               0.310225\n",
       "total__stats_neutralMinionsKilledTeamJungle     0.101069\n",
       "total__stats_neutralMinionsKilledEnemyJungle    0.459094\n",
       "total__stats_totalTimeCrowdControlDealt         0.066426\n",
       "total__stats_champLevel                         0.210721\n",
       "total__stats_visionWardsBoughtInGame            0.071003\n",
       "total__stats_wardsPlaced                        0.086539\n",
       "total__stats_wardsKilled                        0.061428\n",
       "teams_firstBlood                                0.159727\n",
       "teams_firstTower                                0.471759\n",
       "teams_firstInhibitor                            0.632714\n",
       "teams_firstBaron                                0.330827\n",
       "teams_firstDragon                               0.254024\n",
       "teams_firstRiftHerald                           0.258275\n",
       "teams_towerKills                                0.539629\n",
       "teams_inhibitorKills                            0.318658\n",
       "teams_baronKills                                0.493682\n",
       "teams_dragonKills                               0.276882\n",
       "Name: team_win, dtype: float64"
      ]
     },
     "execution_count": 12,
     "metadata": {},
     "output_type": "execute_result"
    }
   ],
   "source": [
    "df_bronze = pd.read_csv('dataFrame/bronze.csv')\n",
    "df_bronze.corr().team_win"
   ]
  },
  {
   "cell_type": "markdown",
   "metadata": {},
   "source": [
    "### Save DataFrame Silver"
   ]
  },
  {
   "cell_type": "code",
   "execution_count": null,
   "metadata": {},
   "outputs": [],
   "source": [
    "df_silver = getDataFrame('gameId/silver/silver_1_gameId_1.npy', api_key)\n",
    "df1 = getDataFrame('gameId/silver/silver_2_gameId_1.npy', api_key)\n",
    "df2 = getDataFrame('gameId/silver/silver_3_gameId_1.npy', api_key)\n",
    "df3 = getDataFrame('gameId/silver/silver_4_gameId_1.npy', api_key)\n",
    "\n",
    "df_silver = df_silver.append(df1)\n",
    "df_silver = df_silver.append(df2)\n",
    "df_silver = df_silver.append(df3)\n",
    "df_silver.to_csv(\"dataFrame/silver.csv\")"
   ]
  },
  {
   "cell_type": "markdown",
   "metadata": {},
   "source": [
    "#### Check corr"
   ]
  },
  {
   "cell_type": "code",
   "execution_count": 13,
   "metadata": {
    "collapsed": true,
    "jupyter": {
     "outputs_hidden": true
    }
   },
   "outputs": [
    {
     "data": {
      "text/plain": [
       "Unnamed: 0                                     -0.002419\n",
       "team_win                                        1.000000\n",
       "gameDuration                                    0.000000\n",
       "total__stats_kills                              0.495628\n",
       "total__stats_deaths                            -0.494100\n",
       "total__stats_assists                            0.406924\n",
       "total__stats_largestKillingSpree                0.644412\n",
       "total__stats_largestMultiKill                   0.427643\n",
       "total__stats_killingSprees                      0.451219\n",
       "total__stats_longestTimeSpentLiving             0.161896\n",
       "total__stats_doubleKills                        0.437478\n",
       "total__stats_tripleKills                        0.269764\n",
       "total__stats_quadraKills                        0.159882\n",
       "total__stats_pentaKills                         0.050876\n",
       "total__stats_totalDamageDealt                   0.196837\n",
       "total__stats_magicDamageDealt                   0.128617\n",
       "total__stats_physicalDamageDealt                0.180434\n",
       "total__stats_trueDamageDealt                    0.070230\n",
       "total__stats_largestCriticalStrike              0.154977\n",
       "total__stats_totalDamageDealtToChampions        0.199460\n",
       "total__stats_magicDamageDealtToChampions        0.127863\n",
       "total__stats_physicalDamageDealtToChampions     0.191697\n",
       "total__stats_trueDamageDealtToChampions         0.123664\n",
       "total__stats_totalHeal                          0.227599\n",
       "total__stats_totalUnitsHealed                   0.048819\n",
       "total__stats_damageSelfMitigated                0.026787\n",
       "total__stats_damageDealtToObjectives            0.588059\n",
       "total__stats_visionScore                        0.159342\n",
       "total__stats_timeCCingOthers                    0.087322\n",
       "total__stats_totalDamageTaken                  -0.091612\n",
       "total__stats_magicalDamageTaken                -0.112806\n",
       "total__stats_physicalDamageTaken               -0.047363\n",
       "total__stats_trueDamageTaken                   -0.069795\n",
       "total__stats_goldEarned                         0.282282\n",
       "total__stats_goldSpent                          0.167565\n",
       "total__stats_inhibitorKills                     0.585134\n",
       "total__stats_totalMinionsKilled                 0.081608\n",
       "total__stats_neutralMinionsKilled               0.325778\n",
       "total__stats_neutralMinionsKilledTeamJungle     0.083982\n",
       "total__stats_neutralMinionsKilledEnemyJungle    0.471702\n",
       "total__stats_totalTimeCrowdControlDealt         0.096321\n",
       "total__stats_champLevel                         0.230979\n",
       "total__stats_visionWardsBoughtInGame            0.078250\n",
       "total__stats_wardsPlaced                        0.065644\n",
       "total__stats_wardsKilled                        0.089997\n",
       "teams_firstBlood                                0.221834\n",
       "teams_firstTower                                0.424799\n",
       "teams_firstInhibitor                            0.658203\n",
       "teams_firstBaron                                0.398184\n",
       "teams_firstDragon                               0.223247\n",
       "teams_firstRiftHerald                           0.222673\n",
       "teams_towerKills                                0.583078\n",
       "teams_inhibitorKills                            0.377701\n",
       "teams_baronKills                                0.530603\n",
       "teams_dragonKills                               0.262880\n",
       "Name: team_win, dtype: float64"
      ]
     },
     "execution_count": 13,
     "metadata": {},
     "output_type": "execute_result"
    }
   ],
   "source": [
    "df_silver = pd.read_csv('dataFrame/silver.csv')\n",
    "df_silver.corr().team_win"
   ]
  },
  {
   "cell_type": "markdown",
   "metadata": {},
   "source": [
    "### Save DataFrame Gold"
   ]
  },
  {
   "cell_type": "code",
   "execution_count": null,
   "metadata": {},
   "outputs": [],
   "source": [
    "df_gold = getDataFrame('gameId/gold/gold_1_gameId_1.npy', api_key)\n",
    "df1 = getDataFrame('gameId/gold/gold_2_gameId_1.npy', api_key)\n",
    "df2 = getDataFrame('gameId/gold/gold_3_gameId_1.npy', api_key)\n",
    "df3 = getDataFrame('gameId/gold/gold_4_gameId_1.npy', api_key)\n",
    "\n",
    "df_gold = df_gold.append(df1)\n",
    "df_gold = df_gold.append(df2)\n",
    "df_gold = df_gold.append(df3)\n",
    "df_gold.to_csv(\"dataFrame/gold.csv\")"
   ]
  },
  {
   "cell_type": "markdown",
   "metadata": {},
   "source": [
    "#### Check corr"
   ]
  },
  {
   "cell_type": "code",
   "execution_count": 14,
   "metadata": {
    "collapsed": true,
    "jupyter": {
     "outputs_hidden": true
    }
   },
   "outputs": [
    {
     "data": {
      "text/plain": [
       "Unnamed: 0                                     -0.002682\n",
       "team_win                                        1.000000\n",
       "gameDuration                                    0.000000\n",
       "total__stats_kills                              0.514884\n",
       "total__stats_deaths                            -0.513480\n",
       "total__stats_assists                            0.455093\n",
       "total__stats_largestKillingSpree                0.640875\n",
       "total__stats_largestMultiKill                   0.453300\n",
       "total__stats_killingSprees                      0.466783\n",
       "total__stats_longestTimeSpentLiving             0.149126\n",
       "total__stats_doubleKills                        0.443095\n",
       "total__stats_tripleKills                        0.290195\n",
       "total__stats_quadraKills                        0.142252\n",
       "total__stats_pentaKills                         0.073648\n",
       "total__stats_totalDamageDealt                   0.210460\n",
       "total__stats_magicDamageDealt                   0.171294\n",
       "total__stats_physicalDamageDealt                0.174599\n",
       "total__stats_trueDamageDealt                    0.067540\n",
       "total__stats_largestCriticalStrike              0.135771\n",
       "total__stats_totalDamageDealtToChampions        0.200042\n",
       "total__stats_magicDamageDealtToChampions        0.159748\n",
       "total__stats_physicalDamageDealtToChampions     0.180391\n",
       "total__stats_trueDamageDealtToChampions         0.090311\n",
       "total__stats_totalHeal                          0.245952\n",
       "total__stats_totalUnitsHealed                   0.063363\n",
       "total__stats_damageSelfMitigated                0.017277\n",
       "total__stats_damageDealtToObjectives            0.612267\n",
       "total__stats_visionScore                        0.148924\n",
       "total__stats_timeCCingOthers                    0.069094\n",
       "total__stats_totalDamageTaken                  -0.090215\n",
       "total__stats_magicalDamageTaken                -0.142124\n",
       "total__stats_physicalDamageTaken               -0.034611\n",
       "total__stats_trueDamageTaken                   -0.037234\n",
       "total__stats_goldEarned                         0.302530\n",
       "total__stats_goldSpent                          0.184631\n",
       "total__stats_inhibitorKills                     0.613012\n",
       "total__stats_totalMinionsKilled                 0.099935\n",
       "total__stats_neutralMinionsKilled               0.317943\n",
       "total__stats_neutralMinionsKilledTeamJungle     0.063219\n",
       "total__stats_neutralMinionsKilledEnemyJungle    0.496372\n",
       "total__stats_totalTimeCrowdControlDealt         0.094294\n",
       "total__stats_champLevel                         0.238580\n",
       "total__stats_visionWardsBoughtInGame            0.067101\n",
       "total__stats_wardsPlaced                        0.068589\n",
       "total__stats_wardsKilled                        0.102543\n",
       "teams_firstBlood                                0.194423\n",
       "teams_firstTower                                0.443895\n",
       "teams_firstInhibitor                            0.675672\n",
       "teams_firstBaron                                0.437870\n",
       "teams_firstDragon                               0.282775\n",
       "teams_firstRiftHerald                           0.203567\n",
       "teams_towerKills                                0.615838\n",
       "teams_inhibitorKills                            0.426847\n",
       "teams_baronKills                                0.535846\n",
       "teams_dragonKills                               0.275804\n",
       "Name: team_win, dtype: float64"
      ]
     },
     "execution_count": 14,
     "metadata": {},
     "output_type": "execute_result"
    }
   ],
   "source": [
    "df_gold = pd.read_csv('dataFrame/gold.csv')\n",
    "df_gold.corr().team_win"
   ]
  },
  {
   "cell_type": "markdown",
   "metadata": {},
   "source": [
    "### Save DataFrame Platinum"
   ]
  },
  {
   "cell_type": "code",
   "execution_count": null,
   "metadata": {},
   "outputs": [],
   "source": [
    "df_platinum = getDataFrame('gameId/platinum/platinum_1_gameId_1.npy', api_key)\n",
    "df1 = getDataFrame('gameId/platinum/platinum_2_gameId_1.npy', api_key)\n",
    "df2 = getDataFrame('gameId/platinum/platinum_3_gameId_1.npy', api_key)\n",
    "df3 = getDataFrame('gameId/platinum/platinum_4_gameId_1.npy', api_key)\n",
    "\n",
    "df_platinum = df_platinum.append(df1)\n",
    "df_platinum = df_platinum.append(df2)\n",
    "df_platinum = df_platinum.append(df3)\n",
    "df_platinum.to_csv(\"dataFrame/platinum.csv\")"
   ]
  },
  {
   "cell_type": "markdown",
   "metadata": {},
   "source": [
    "#### Check corr"
   ]
  },
  {
   "cell_type": "code",
   "execution_count": 8,
   "metadata": {
    "collapsed": true,
    "jupyter": {
     "outputs_hidden": true
    }
   },
   "outputs": [
    {
     "data": {
      "text/plain": [
       "Unnamed: 0                                     -0.002443\n",
       "team_win                                        1.000000\n",
       "gameDuration                                    0.000000\n",
       "total__stats_kills                              0.507661\n",
       "total__stats_deaths                            -0.506838\n",
       "total__stats_assists                            0.450013\n",
       "total__stats_largestKillingSpree                0.675370\n",
       "total__stats_largestMultiKill                   0.468123\n",
       "total__stats_killingSprees                      0.467092\n",
       "total__stats_longestTimeSpentLiving             0.119070\n",
       "total__stats_doubleKills                        0.473167\n",
       "total__stats_tripleKills                        0.284312\n",
       "total__stats_quadraKills                        0.132611\n",
       "total__stats_pentaKills                         0.057102\n",
       "total__stats_totalDamageDealt                   0.208308\n",
       "total__stats_magicDamageDealt                   0.159175\n",
       "total__stats_physicalDamageDealt                0.171298\n",
       "total__stats_trueDamageDealt                    0.105439\n",
       "total__stats_largestCriticalStrike              0.124379\n",
       "total__stats_totalDamageDealtToChampions        0.186241\n",
       "total__stats_magicDamageDealtToChampions        0.141612\n",
       "total__stats_physicalDamageDealtToChampions     0.170816\n",
       "total__stats_trueDamageDealtToChampions         0.124129\n",
       "total__stats_totalHeal                          0.248232\n",
       "total__stats_totalUnitsHealed                   0.086819\n",
       "total__stats_damageSelfMitigated                0.013708\n",
       "total__stats_damageDealtToObjectives            0.617001\n",
       "total__stats_visionScore                        0.156191\n",
       "total__stats_timeCCingOthers                    0.056708\n",
       "total__stats_totalDamageTaken                  -0.073712\n",
       "total__stats_magicalDamageTaken                -0.122632\n",
       "total__stats_physicalDamageTaken               -0.017526\n",
       "total__stats_trueDamageTaken                   -0.068252\n",
       "total__stats_goldEarned                         0.302149\n",
       "total__stats_goldSpent                          0.184933\n",
       "total__stats_inhibitorKills                     0.599659\n",
       "total__stats_totalMinionsKilled                 0.095558\n",
       "total__stats_neutralMinionsKilled               0.311604\n",
       "total__stats_neutralMinionsKilledTeamJungle     0.049342\n",
       "total__stats_neutralMinionsKilledEnemyJungle    0.500973\n",
       "total__stats_totalTimeCrowdControlDealt         0.094336\n",
       "total__stats_champLevel                         0.248653\n",
       "total__stats_visionWardsBoughtInGame            0.093098\n",
       "total__stats_wardsPlaced                        0.055546\n",
       "total__stats_wardsKilled                        0.110302\n",
       "teams_firstBlood                                0.180791\n",
       "teams_firstTower                                0.435748\n",
       "teams_firstInhibitor                            0.676817\n",
       "teams_firstBaron                                0.492622\n",
       "teams_firstDragon                               0.229550\n",
       "teams_firstRiftHerald                           0.244570\n",
       "teams_towerKills                                0.596656\n",
       "teams_inhibitorKills                            0.467107\n",
       "teams_baronKills                                0.527245\n",
       "teams_dragonKills                               0.338618\n",
       "Name: team_win, dtype: float64"
      ]
     },
     "execution_count": 8,
     "metadata": {},
     "output_type": "execute_result"
    }
   ],
   "source": [
    "df_platinum = pd.read_csv('dataFrame/platinum.csv')\n",
    "df_platinum.corr().team_win"
   ]
  },
  {
   "cell_type": "markdown",
   "metadata": {},
   "source": [
    "### Save DataFrame Dimond - and Over"
   ]
  },
  {
   "cell_type": "code",
   "execution_count": 8,
   "metadata": {
    "collapsed": true,
    "jupyter": {
     "outputs_hidden": true
    }
   },
   "outputs": [
    {
     "name": "stderr",
     "output_type": "stream",
     "text": [
      " 61%|████████████████████████████████████████████████▌                               | 243/400 [08:05<01:38,  1.59it/s]"
     ]
    },
    {
     "name": "stdout",
     "output_type": "stream",
     "text": [
      "{'status': {'message': 'Gateway timeout', 'status_code': 504}}\n",
      "-Error recovery time-\n"
     ]
    },
    {
     "name": "stderr",
     "output_type": "stream",
     "text": [
      "\n",
      "  0%|                                                                                            | 0/1 [00:00<?, ?it/s]\u001b[A\n",
      "100%|████████████████████████████████████████████████████████████████████████████████████| 1/1 [00:00<00:00,  2.41it/s]\u001b[A\n",
      " 61%|███████████████████████████████████████████████▌                              | 244/400 [09:35<1:11:55, 27.66s/it]"
     ]
    },
    {
     "name": "stdout",
     "output_type": "stream",
     "text": [
      "-Error fixed-\n"
     ]
    },
    {
     "name": "stderr",
     "output_type": "stream",
     "text": [
      "100%|████████████████████████████████████████████████████████████████████████████████| 400/400 [12:47<00:00,  1.92s/it]\n",
      " 17%|█████████████▉                                                                   | 69/400 [02:39<02:04,  2.65it/s]"
     ]
    },
    {
     "name": "stdout",
     "output_type": "stream",
     "text": [
      "{'status': {'message': 'Gateway timeout', 'status_code': 504}}\n",
      "-Error recovery time-\n"
     ]
    },
    {
     "name": "stderr",
     "output_type": "stream",
     "text": [
      "\n",
      "  0%|                                                                                            | 0/1 [00:00<?, ?it/s]\u001b[A\n",
      "100%|████████████████████████████████████████████████████████████████████████████████████| 1/1 [00:00<00:00,  2.48it/s]\u001b[A\n",
      " 18%|█████████████▊                                                                 | 70/400 [04:09<2:31:12, 27.49s/it]"
     ]
    },
    {
     "name": "stdout",
     "output_type": "stream",
     "text": [
      "-Error fixed-\n"
     ]
    },
    {
     "name": "stderr",
     "output_type": "stream",
     "text": [
      " 75%|████████████████████████████████████████████████████████████                    | 300/400 [10:03<00:34,  2.93it/s]"
     ]
    },
    {
     "name": "stdout",
     "output_type": "stream",
     "text": [
      "{'status': {'message': 'Gateway timeout', 'status_code': 504}}\n",
      "-Error recovery time-\n"
     ]
    },
    {
     "name": "stderr",
     "output_type": "stream",
     "text": [
      "\n",
      "  0%|                                                                                            | 0/1 [00:00<?, ?it/s]\u001b[A\n",
      "100%|████████████████████████████████████████████████████████████████████████████████████| 1/1 [00:00<00:00,  2.33it/s]\u001b[A\n",
      " 75%|██████████████████████████████████████████████████████████▋                   | 301/400 [13:41<1:48:14, 65.60s/it]"
     ]
    },
    {
     "name": "stdout",
     "output_type": "stream",
     "text": [
      "-Error fixed-\n"
     ]
    },
    {
     "name": "stderr",
     "output_type": "stream",
     "text": [
      " 96%|█████████████████████████████████████████████████████████████████████████████   | 385/400 [14:18<00:07,  2.01it/s]"
     ]
    },
    {
     "name": "stdout",
     "output_type": "stream",
     "text": [
      "{'status': {'message': 'Gateway timeout', 'status_code': 504}}\n",
      "-Error recovery time-\n"
     ]
    },
    {
     "name": "stderr",
     "output_type": "stream",
     "text": [
      "\n",
      "  0%|                                                                                            | 0/1 [00:00<?, ?it/s]\u001b[A\n",
      "100%|████████████████████████████████████████████████████████████████████████████████████| 1/1 [00:00<00:00,  2.61it/s]\u001b[A\n",
      " 96%|█████████████████████████████████████████████████████████████████████████████▏  | 386/400 [15:49<06:25, 27.56s/it]"
     ]
    },
    {
     "name": "stdout",
     "output_type": "stream",
     "text": [
      "-Error fixed-\n"
     ]
    },
    {
     "name": "stderr",
     "output_type": "stream",
     "text": [
      "100%|████████████████████████████████████████████████████████████████████████████████| 400/400 [15:54<00:00,  2.39s/it]\n",
      " 78%|██████████████████████████████████████████████████████████████▌                 | 313/400 [10:39<01:16,  1.14it/s]"
     ]
    },
    {
     "name": "stdout",
     "output_type": "stream",
     "text": [
      "{'status': {'message': 'Gateway timeout', 'status_code': 504}}\n",
      "-Error recovery time-\n"
     ]
    },
    {
     "name": "stderr",
     "output_type": "stream",
     "text": [
      "\n",
      "  0%|                                                                                            | 0/1 [00:00<?, ?it/s]\u001b[A\n",
      "100%|████████████████████████████████████████████████████████████████████████████████████| 1/1 [00:00<00:00,  2.58it/s]\u001b[A\n",
      " 78%|██████████████████████████████████████████████████████████████▊                 | 314/400 [12:10<39:52, 27.82s/it]"
     ]
    },
    {
     "name": "stdout",
     "output_type": "stream",
     "text": [
      "-Error fixed-\n"
     ]
    },
    {
     "name": "stderr",
     "output_type": "stream",
     "text": [
      "100%|████████████████████████████████████████████████████████████████████████████████| 400/400 [12:48<00:00,  1.92s/it]\n"
     ]
    }
   ],
   "source": [
    "df_diamond = getDataFrame('gameId/diamond/diamond_3_gameId_1.npy', api_key)\n",
    "df3 = getDataFrame('gameId/diamond/diamond_2_gameId_1.npy', api_key)\n",
    "df4 = getDataFrame('gameId/diamond/diamond_4_gameId_1.npy', api_key)\n",
    "\n",
    "df_over_diamond = getDataFrame('gameId/diamond/diamond_1_gameId_1.npy', api_key)\n",
    "df2 = getDataFrame('gameId/master/master_gameId_1.npy', api_key)\n",
    "df1 = getDataFrame('gameId/grandmaster/grandmaster_gameId_1.npy', api_key)\n",
    "df0 = getDataFrame('gameId/challenger/challenger_gameId_1.npy', api_key)\n",
    "\n",
    "\n",
    "df_over_diamond = df_over_diamond.append(df0)\n",
    "df_over_diamond = df_over_diamond.append(df1)\n",
    "df_over_diamond = df_over_diamond.append(df2)\n",
    "\n",
    "\n",
    "df_diamond = df_diamond.append(df3)\n",
    "df_diamond = df_diamond.append(df4)\n",
    "\n",
    "df_over_diamond.to_csv(\"dataFrame/over_diamond.csv\")\n",
    "df_diamond.to_csv(\"dataFrame/diamond.csv\")"
   ]
  },
  {
   "cell_type": "markdown",
   "metadata": {},
   "source": [
    "#### Check corr"
   ]
  },
  {
   "cell_type": "code",
   "execution_count": 5,
   "metadata": {
    "collapsed": true,
    "jupyter": {
     "outputs_hidden": true
    }
   },
   "outputs": [
    {
     "data": {
      "text/plain": [
       "Unnamed: 0                                     -0.002562\n",
       "team_win                                        1.000000\n",
       "gameDuration                                    0.000000\n",
       "total__stats_kills                              0.511407\n",
       "total__stats_deaths                            -0.511052\n",
       "total__stats_assists                            0.450335\n",
       "total__stats_largestKillingSpree                0.668448\n",
       "total__stats_largestMultiKill                   0.474543\n",
       "total__stats_killingSprees                      0.472840\n",
       "total__stats_longestTimeSpentLiving             0.108053\n",
       "total__stats_doubleKills                        0.469813\n",
       "total__stats_tripleKills                        0.292903\n",
       "total__stats_quadraKills                        0.161590\n",
       "total__stats_pentaKills                         0.092734\n",
       "total__stats_totalDamageDealt                   0.212904\n",
       "total__stats_magicDamageDealt                   0.160555\n",
       "total__stats_physicalDamageDealt                0.182994\n",
       "total__stats_trueDamageDealt                    0.114924\n",
       "total__stats_largestCriticalStrike              0.169735\n",
       "total__stats_totalDamageDealtToChampions        0.180672\n",
       "total__stats_magicDamageDealtToChampions        0.128621\n",
       "total__stats_physicalDamageDealtToChampions     0.181408\n",
       "total__stats_trueDamageDealtToChampions         0.124900\n",
       "total__stats_totalHeal                          0.245962\n",
       "total__stats_totalUnitsHealed                   0.088384\n",
       "total__stats_damageSelfMitigated                0.025877\n",
       "total__stats_damageDealtToObjectives            0.612666\n",
       "total__stats_visionScore                        0.151787\n",
       "total__stats_timeCCingOthers                    0.058345\n",
       "total__stats_totalDamageTaken                  -0.069262\n",
       "total__stats_magicalDamageTaken                -0.112109\n",
       "total__stats_physicalDamageTaken               -0.019813\n",
       "total__stats_trueDamageTaken                   -0.067834\n",
       "total__stats_goldEarned                         0.301430\n",
       "total__stats_goldSpent                          0.184566\n",
       "total__stats_inhibitorKills                     0.595267\n",
       "total__stats_totalMinionsKilled                 0.105223\n",
       "total__stats_neutralMinionsKilled               0.314325\n",
       "total__stats_neutralMinionsKilledTeamJungle     0.058154\n",
       "total__stats_neutralMinionsKilledEnemyJungle    0.515239\n",
       "total__stats_totalTimeCrowdControlDealt         0.097345\n",
       "total__stats_champLevel                         0.241294\n",
       "total__stats_visionWardsBoughtInGame            0.093597\n",
       "total__stats_wardsPlaced                        0.068552\n",
       "total__stats_wardsKilled                        0.093695\n",
       "teams_firstBlood                                0.244555\n",
       "teams_firstTower                                0.483229\n",
       "teams_firstInhibitor                            0.687367\n",
       "teams_firstBaron                                0.439138\n",
       "teams_firstDragon                               0.331769\n",
       "teams_firstRiftHerald                           0.302254\n",
       "teams_towerKills                                0.596503\n",
       "teams_inhibitorKills                            0.418758\n",
       "teams_baronKills                                0.570714\n",
       "teams_dragonKills                               0.374793\n",
       "Name: team_win, dtype: float64"
      ]
     },
     "execution_count": 5,
     "metadata": {},
     "output_type": "execute_result"
    }
   ],
   "source": [
    "df_diamond = pd.read_csv('dataFrame/diamond.csv')\n",
    "df_diamond.corr().team_win"
   ]
  },
  {
   "cell_type": "markdown",
   "metadata": {},
   "source": [
    "#### Check corr"
   ]
  },
  {
   "cell_type": "code",
   "execution_count": 4,
   "metadata": {
    "collapsed": true,
    "jupyter": {
     "outputs_hidden": true
    }
   },
   "outputs": [
    {
     "data": {
      "text/plain": [
       "Unnamed: 0                                     -0.002664\n",
       "team_win                                        1.000000\n",
       "gameDuration                                    0.000000\n",
       "total__stats_kills                              0.572255\n",
       "total__stats_deaths                            -0.571152\n",
       "total__stats_assists                            0.502283\n",
       "total__stats_largestKillingSpree                0.706303\n",
       "total__stats_largestMultiKill                   0.520754\n",
       "total__stats_killingSprees                      0.527051\n",
       "total__stats_longestTimeSpentLiving             0.100834\n",
       "total__stats_doubleKills                        0.513954\n",
       "total__stats_tripleKills                        0.323562\n",
       "total__stats_quadraKills                        0.164878\n",
       "total__stats_pentaKills                         0.079276\n",
       "total__stats_totalDamageDealt                   0.202735\n",
       "total__stats_magicDamageDealt                   0.137698\n",
       "total__stats_physicalDamageDealt                0.197055\n",
       "total__stats_trueDamageDealt                    0.054503\n",
       "total__stats_largestCriticalStrike              0.167399\n",
       "total__stats_totalDamageDealtToChampions        0.208536\n",
       "total__stats_magicDamageDealtToChampions        0.143312\n",
       "total__stats_physicalDamageDealtToChampions     0.215733\n",
       "total__stats_trueDamageDealtToChampions         0.137488\n",
       "total__stats_totalHeal                          0.267043\n",
       "total__stats_totalUnitsHealed                   0.031735\n",
       "total__stats_damageSelfMitigated                0.021901\n",
       "total__stats_damageDealtToObjectives            0.595158\n",
       "total__stats_visionScore                        0.132034\n",
       "total__stats_timeCCingOthers                    0.062723\n",
       "total__stats_totalDamageTaken                  -0.078535\n",
       "total__stats_magicalDamageTaken                -0.125720\n",
       "total__stats_physicalDamageTaken               -0.023241\n",
       "total__stats_trueDamageTaken                   -0.078623\n",
       "total__stats_goldEarned                         0.318645\n",
       "total__stats_goldSpent                          0.195056\n",
       "total__stats_inhibitorKills                     0.535647\n",
       "total__stats_totalMinionsKilled                 0.096514\n",
       "total__stats_neutralMinionsKilled               0.268705\n",
       "total__stats_neutralMinionsKilledTeamJungle     0.031380\n",
       "total__stats_neutralMinionsKilledEnemyJungle    0.449898\n",
       "total__stats_totalTimeCrowdControlDealt         0.091200\n",
       "total__stats_champLevel                         0.266228\n",
       "total__stats_visionWardsBoughtInGame            0.070439\n",
       "total__stats_wardsPlaced                        0.060130\n",
       "total__stats_wardsKilled                        0.087594\n",
       "teams_firstBlood                                0.180710\n",
       "teams_firstTower                                0.431270\n",
       "teams_firstInhibitor                            0.583062\n",
       "teams_firstBaron                                0.479397\n",
       "teams_firstDragon                               0.269421\n",
       "teams_firstRiftHerald                           0.242860\n",
       "teams_towerKills                                0.532559\n",
       "teams_inhibitorKills                            0.445672\n",
       "teams_baronKills                                0.502108\n",
       "teams_dragonKills                               0.334560\n",
       "Name: team_win, dtype: float64"
      ]
     },
     "execution_count": 4,
     "metadata": {},
     "output_type": "execute_result"
    }
   ],
   "source": [
    "df_over_diamond = pd.read_csv('dataFrame/over_diamond.csv')\n",
    "df_over_diamond.corr().team_win"
   ]
  },
  {
   "cell_type": "markdown",
   "metadata": {},
   "source": [
    "## Check linear Relationship"
   ]
  },
  {
   "cell_type": "code",
   "execution_count": 758,
   "metadata": {},
   "outputs": [
    {
     "name": "stdout",
     "output_type": "stream",
     "text": [
      "                                                                                       Over_diamond                                                Iron\n",
      "team_win                                                                                      1.000                                               1.000\n",
      "gameDuration                                                                                  0.000                                               0.000\n",
      "total__stats_kills                                                                            0.572                                               0.446\n",
      "total__stats_deaths                                                                          -0.571                                              -0.445\n",
      "total__stats_assists                                                                          0.502                                               0.356\n",
      "total__stats_largestKillingSpree                                                              0.706                                               0.624\n",
      "total__stats_largestMultiKill                                                                 0.521                                               0.423\n",
      "total__stats_killingSprees                                                                    0.527                                               0.398\n",
      "total__stats_longestTimeSpentLiving                                                           0.101                                               0.128\n",
      "total__stats_doubleKills                                                                      0.514                                               0.403\n",
      "total__stats_tripleKills                                                                      0.324                                               0.267\n",
      "total__stats_quadraKills                                                                      0.165                                               0.149\n",
      "total__stats_pentaKills                                                                       0.079                                               0.074\n",
      "total__stats_totalDamageDealt                                                                 0.203                                               0.180\n",
      "total__stats_magicDamageDealt                                                                 0.138                                               0.118\n",
      "total__stats_physicalDamageDealt                                                              0.197                                               0.166\n",
      "total__stats_trueDamageDealt                                                                  0.055                                               0.118\n",
      "total__stats_largestCriticalStrike                                                            0.167                                               0.106\n",
      "total__stats_totalDamageDealtToChampions                                                      0.209                                               0.173\n",
      "total__stats_magicDamageDealtToChampions                                                      0.143                                               0.114\n",
      "total__stats_physicalDamageDealtToChampions                                                   0.216                                               0.166\n",
      "total__stats_trueDamageDealtToChampions                                                       0.137                                               0.111\n",
      "total__stats_totalHeal                                                                        0.267                                               0.207\n",
      "total__stats_totalUnitsHealed                                                                 0.032                                               0.049\n",
      "total__stats_damageSelfMitigated                                                              0.022                                               0.005\n",
      "total__stats_damageDealtToObjectives                                                          0.595                                               0.518\n",
      "total__stats_visionScore                                                                      0.132                                               0.139\n",
      "total__stats_timeCCingOthers                                                                  0.063                                               0.054\n",
      "total__stats_totalDamageTaken                                                                -0.079                                              -0.079\n",
      "total__stats_magicalDamageTaken                                                              -0.126                                              -0.102\n",
      "total__stats_physicalDamageTaken                                                             -0.023                                              -0.040\n",
      "total__stats_trueDamageTaken                                                                 -0.079                                              -0.078\n",
      "total__stats_goldEarned                                                                       0.319                                               0.247\n",
      "total__stats_goldSpent                                                                        0.195                                               0.162\n",
      "total__stats_inhibitorKills                                                                   0.536                                               0.525\n",
      "total__stats_totalMinionsKilled                                                               0.097                                               0.117\n",
      "total__stats_neutralMinionsKilled                                                             0.269                                               0.290\n",
      "total__stats_neutralMinionsKilledTeamJungle                                                   0.031                                               0.088\n",
      "total__stats_neutralMinionsKilledEnemyJungle                                                  0.450                                               0.413\n",
      "total__stats_totalTimeCrowdControlDealt                                                       0.091                                               0.081\n",
      "total__stats_champLevel                                                                       0.266                                               0.202\n",
      "total__stats_visionWardsBoughtInGame                                                          0.070                                               0.079\n",
      "total__stats_wardsPlaced                                                                      0.060                                               0.086\n",
      "total__stats_wardsKilled                                                                      0.088                                               0.058\n",
      "teams_firstBlood                                                                              0.181                                               0.191\n",
      "teams_firstTower                                                                              0.431                                               0.451\n",
      "teams_firstInhibitor                                                                          0.583                                               0.600\n",
      "teams_firstBaron                                                                              0.479                                               0.268\n",
      "teams_firstDragon                                                                             0.269                                               0.330\n",
      "teams_firstRiftHerald                                                                         0.243                                               0.268\n",
      "teams_towerKills                                                                              0.533                                               0.524\n",
      "teams_inhibitorKills                                                                          0.446                                               0.252\n",
      "teams_baronKills                                                                              0.502                                               0.499\n",
      "teams_dragonKills                                                                             0.335                                               0.280\n"
     ]
    }
   ],
   "source": [
    "df_over_diamond = pd.read_csv('dataFrame/over_diamond.csv')\n",
    "over = df_over_diamond.corr().team_win\n",
    "df_iron = pd.read_csv('dataFrame/iron.csv')\n",
    "under = df_iron.corr().team_win\n",
    "print('{0:>99} {1:>51}'.format('Over_diamond', 'Iron'))\n",
    "for i in range(1,len(over.keys())):\n",
    "    print('{0:<48} {1:>50.3f}  {2:>50.3f}'.format(over.keys()[i] , over[i], under[i]))"
   ]
  },
  {
   "cell_type": "markdown",
   "metadata": {},
   "source": [
    "### TO Visualize"
   ]
  },
  {
   "cell_type": "code",
   "execution_count": 776,
   "metadata": {},
   "outputs": [],
   "source": [
    "def visualdf(df, tier):\n",
    "    plt.figure(figsize = (15,15))\n",
    "    plt.title('{}'.format(tier),fontsize=100)\n",
    "    sns.heatmap(data =pd.DataFrame(df.corr().team_win), annot=True, fmt = '.2f', linewidths=.5, cmap='BrBG', vmin = -0.8, vmax = 0.8)\n",
    "    plt.savefig(tier+'.png', \n",
    "        dpi=300, \n",
    "        facecolor='w', \n",
    "        edgecolor='w',\n",
    "        orientation='portrait', \n",
    "        papertype=None, \n",
    "        format=None,\n",
    "        transparent=False, \n",
    "        bbox_inches='tight', \n",
    "        pad_inches=0.3,\n",
    "        frameon=None, \n",
    "        metadata=None)"
   ]
  },
  {
   "cell_type": "markdown",
   "metadata": {},
   "source": [
    "### Visualizing..."
   ]
  },
  {
   "cell_type": "code",
   "execution_count": null,
   "metadata": {},
   "outputs": [],
   "source": [
    "df = pd.read_csv('dataFrame/over_diamond.csv')\n",
    "visualdf(df, 'Over_Diamond')"
   ]
  },
  {
   "cell_type": "markdown",
   "metadata": {},
   "source": [
    "<img src=\"visual.gif\" width=\"900\" height=\"600\"/>"
   ]
  },
  {
   "cell_type": "markdown",
   "metadata": {},
   "source": [
    "## Convert to Dataset"
   ]
  },
  {
   "cell_type": "code",
   "execution_count": 15,
   "metadata": {},
   "outputs": [],
   "source": [
    "# 저장된 DataFrame을 train, validation, test를 위한 dataset로 분할 - 비율 6:2:2\n",
    "\n",
    "def divide_dataset():\n",
    "    csvlist = np.array(glob(\"dataFrame/*\"))\n",
    "    print(csvlist)\n",
    "    for i in csvlist:\n",
    "        tier = i.split('\\\\')[-1].split('.')[-2]\n",
    "        print(tier)\n",
    "        df = pd.read_csv(i).drop(columns=['Unnamed: 0'])\n",
    "        df['team_win'] = df['team_win'].replace([10000, -500],[1,0])\n",
    "        dl = df.to_dict('records')\n",
    "        tr = 6*(len(dl)//10)\n",
    "        vr = 2*(len(dl)//10) + tr\n",
    "        train = dl[0:tr]\n",
    "        valid = dl[tr: vr]\n",
    "        test = dl[vr:]\n",
    "        train = pd.DataFrame(train)\n",
    "        valid = pd.DataFrame(valid)\n",
    "        test = pd.DataFrame(test)\n",
    "        train.to_csv('dataset/'+tier+'/train/train.csv')\n",
    "        valid.to_csv('dataset/'+tier+'/valid/valid.csv')\n",
    "        test.to_csv('dataset/'+tier+'/test/test.csv')\n",
    "    return"
   ]
  },
  {
   "cell_type": "code",
   "execution_count": 16,
   "metadata": {},
   "outputs": [
    {
     "name": "stdout",
     "output_type": "stream",
     "text": [
      "['dataFrame\\\\bronze.csv' 'dataFrame\\\\diamond.csv' 'dataFrame\\\\gold.csv'\n",
      " 'dataFrame\\\\iron.csv' 'dataFrame\\\\over_diamond.csv'\n",
      " 'dataFrame\\\\platinum.csv' 'dataFrame\\\\silver.csv']\n",
      "bronze\n",
      "diamond\n",
      "gold\n",
      "iron\n",
      "over_diamond\n",
      "platinum\n",
      "silver\n"
     ]
    }
   ],
   "source": [
    "divide_dataset()"
   ]
  },
  {
   "cell_type": "markdown",
   "metadata": {},
   "source": [
    "## Learning"
   ]
  },
  {
   "cell_type": "code",
   "execution_count": 693,
   "metadata": {},
   "outputs": [],
   "source": [
    "# dataset을 normalize한 뒤 load하고, loader, dataset의 mean, std값을 반환 (trian용)\n",
    "def to_train_Loder(csv_url, batch_size):\n",
    "    df = pd.read_csv(csv_url)\n",
    "    df = df.drop(columns=['Unnamed: 0'])\n",
    "    \n",
    "    # 게임의 초기값을 승률예측에서 50:50으로 data를 넣어줌. \n",
    "    temp_dict_fail = dict()\n",
    "    temp_dict_win = dict()\n",
    "    \n",
    "    for i in df.keys():\n",
    "        temp_dict_fail[i] = 0\n",
    "        temp_dict_win[i] = 0\n",
    "    temp_dict_win['team_win'] = 1\n",
    "    \n",
    "    for i in range(4):\n",
    "        df.loc[len(df.index)] = temp_dict_fail \n",
    "        df.loc[len(df.index)] = temp_dict_win\n",
    "        \n",
    "    label = torch.tensor(df['team_win'].values , dtype=torch.int64)\n",
    "    mean = df.mean()\n",
    "    std = df.std()\n",
    "    df = df - mean\n",
    "    df = df/std\n",
    "    dd = torch.tensor(np.array(df.drop(columns=['team_win'])), dtype=torch.float32)\n",
    "    ds = TensorDataset(dd, label)\n",
    "    tmepLoader = DataLoader(ds, batch_size=batch_size, shuffle=True)\n",
    "    Loader = DataLoader(ds, batch_size=batch_size, shuffle=True)\n",
    "    return Loader , mean, std\n",
    "\n",
    "\n",
    "# validationset, testset을 normalize한 뒤 load\n",
    "def to_Loder(csv_url, batch_size, mean, std):\n",
    "    df = pd.read_csv(csv_url)\n",
    "    df = df.drop(columns=['Unnamed: 0'])\n",
    "    \n",
    "    # 게임의 초기값을 승률예측에서 50:50으로 data를 넣어줌. \n",
    "    temp_dict_fail = dict()\n",
    "    temp_dict_win = dict()\n",
    "    \n",
    "    for i in df.keys():\n",
    "        temp_dict_fail[i] = 0\n",
    "        temp_dict_win[i] = 0\n",
    "    temp_dict_win['team_win'] = 1\n",
    "    \n",
    "    for i in range(4):\n",
    "        df.loc[len(df.index)] = temp_dict_fail \n",
    "        df.loc[len(df.index)] = temp_dict_win\n",
    "        \n",
    "    label = torch.tensor(df['team_win'].values , dtype=torch.int64)\n",
    "    df = df - mean\n",
    "    df = df/std\n",
    "    dd = torch.tensor(np.array(df.drop(columns=['team_win'])), dtype=torch.float32)\n",
    "    ds = TensorDataset(dd, label)\n",
    "    tmepLoader = DataLoader(ds, batch_size=batch_size, shuffle=True)\n",
    "    Loader = DataLoader(ds, batch_size=batch_size, shuffle=True)\n",
    "    return Loader "
   ]
  },
  {
   "cell_type": "markdown",
   "metadata": {},
   "source": [
    "# Learning"
   ]
  },
  {
   "cell_type": "code",
   "execution_count": 846,
   "metadata": {},
   "outputs": [],
   "source": [
    "iron_train, iron_mean, iron_std= to_train_Loder('dataset/iron/train/train.csv', 256)\n",
    "iron_valid = to_Loder('dataset/iron/valid/valid.csv', 256, iron_mean, iron_std)\n",
    "iron_test = to_Loder('dataset/iron/test/test.csv', 256, iron_mean, iron_std)\n",
    "\n",
    "bronze_train, bronze_mean, bronze_std = to_train_Loder('dataset/bronze/train/train.csv', 128)\n",
    "bronze_valid = to_Loder('dataset/bronze/valid/valid.csv', 128, bronze_mean, bronze_std)\n",
    "bronze_test = to_Loder('dataset/bronze/test/test.csv', 128, bronze_mean, bronze_std)\n",
    "\n",
    "silver_train, silver_mean, silver_std = to_train_Loder('dataset/silver/train/train.csv', 128)\n",
    "silver_valid = to_Loder('dataset/silver/valid/valid.csv', 128, silver_mean, silver_std)\n",
    "silver_test = to_Loder('dataset/silver/test/test.csv', 128, silver_mean, silver_std)\n",
    "\n",
    "gold_train, gold_mean, gold_std = to_train_Loder('dataset/gold/train/train.csv', 256)\n",
    "gold_valid = to_Loder('dataset/gold/valid/valid.csv', 256, gold_mean, gold_std)\n",
    "gold_test = to_Loder('dataset/gold/test/test.csv', 256, gold_mean, gold_std)\n",
    "\n",
    "platinum_train, platinum_mean, platinum_std = to_train_Loder('dataset/platinum/train/train.csv', 128)\n",
    "platinum_valid = to_Loder('dataset/platinum/valid/valid.csv', 128, platinum_mean, platinum_std)\n",
    "platinum_test = to_Loder('dataset/platinum/test/test.csv', 128, platinum_mean, platinum_std)\n",
    "\n",
    "diamond_train, diamond_mean, diamond_std = to_train_Loder('dataset/diamond/train/train.csv', 128)\n",
    "diamond_valid = to_Loder('dataset/diamond/valid/valid.csv', 128, diamond_mean, diamond_std)\n",
    "diamond_test = to_Loder('dataset/diamond/test/test.csv', 128, diamond_mean, diamond_std)\n",
    "\n",
    "over_diamond_train, over_diamond_mean, over_diamond_std = to_train_Loder('dataset/over_diamond/train/train.csv', 128)\n",
    "over_diamond_valid = to_Loder('dataset/over_diamond/valid/valid.csv', 128, over_diamond_mean, over_diamond_std)\n",
    "over_diamond_test = to_Loder('dataset/over_diamond/test/test.csv', 128, over_diamond_mean, over_diamond_std)\n"
   ]
  },
  {
   "cell_type": "code",
   "execution_count": 701,
   "metadata": {},
   "outputs": [],
   "source": [
    "# cuda사용가능 여부 확인\n",
    "use_cuda = torch.cuda.is_available()"
   ]
  },
  {
   "cell_type": "code",
   "execution_count": 695,
   "metadata": {},
   "outputs": [],
   "source": [
    "def train(n_epochs, train_loader, valid_loader, model, optimizer, scheduler, criterion, use_cuda, save_path):\n",
    "    \n",
    "    # 매개변수로 전해 받은 n_epochs를 n_epoch에 저장\n",
    "    n_epoch = n_epochs\n",
    "    \n",
    "    #plot해서 결과를 확인하기 위해 train loss와 valid loss를 저장할 list를 만듦\n",
    "    train_losses = []\n",
    "    valid_losses = []\n",
    "\n",
    "    #가장 작은 validation loss 값을 저장하기위한 변수를 생성\n",
    "    valid_loss_min = np.Inf \n",
    "\n",
    "    \n",
    "    #training을 진행하고, validation loss 구함\n",
    "    for epoch in tqdm(range(1, n_epoch+1)):\n",
    "        # 확인할 train loss와 validation loss 를 생성\n",
    "        train_loss = 0.0\n",
    "        valid_loss = 0.0\n",
    "    \n",
    "        ###################\n",
    "        # train the model #\n",
    "        ###################\n",
    "\n",
    "        #parameter들을 update 해야하므로, model.train()을 켜기\n",
    "        model.train()\n",
    "\n",
    "        #train_loader에서 data와 label을 가져옴\n",
    "        for data, target in train_loader:\n",
    "            # CUDA 가 사용 가능하다면 data와 label을 GPU로 옮김\n",
    "            if use_cuda:\n",
    "                data, target = data.cuda(), target.cuda()\n",
    "            # gradients 값을 초기화\n",
    "            optimizer.zero_grad()\n",
    "            # forward pass: train_loader를 통해 가져온 batch를 model에 forward pass \n",
    "            output = model(data)\n",
    "            # batch loss를 계산\n",
    "            loss = criterion(output, target)\n",
    "          \n",
    "            # backward pass: gradient 값을 구함\n",
    "            loss.backward()\n",
    "          \n",
    "            # Optimizer를 돌려서 parameter들을 update\n",
    "            optimizer.step()\n",
    "          \n",
    "            # batch별 train_loss를 더함\n",
    "            train_loss += loss.item()*data.size(0)\n",
    "        ######################    \n",
    "        # validate the model #\n",
    "        ######################\n",
    "        \n",
    "        #parameter들을 update하지 않으므로, model.eval()을 켜 줌\n",
    "        model.eval()\n",
    "        \n",
    "        #valid_loader에서 data와 labe을 가져옴\n",
    "        for data, target in valid_loader:\n",
    "            \n",
    "            # CUDA가 사용 가능 하다면 data와 label을 GPU로 옮김\n",
    "            if use_cuda:\n",
    "                data, target = data.cuda(), target.cuda()\n",
    "            \n",
    "            # forward pass: valid_loader를 통해 가져온 batch를 model에 forward pass 시킴\n",
    "            output = model(data)\n",
    "            # Validation loss를 계산\n",
    "            loss = criterion(output, target)\n",
    "            # batch별 Validation loss를 더함\n",
    "            valid_loss += loss.item()*data.size(0)\n",
    "    \n",
    "        scheduler.step()\n",
    "        # 각 loss 들(모두 더한값) 을 평균을 만들어 줌\n",
    "        train_loss = train_loss/len(train_loader.sampler)\n",
    "        valid_loss = valid_loss/len(valid_loader.sampler)\n",
    "        \n",
    "        # train_loss와 valid_loss를 위에서 생성한 losses list에 저장\n",
    "        train_losses.append(train_loss)\n",
    "        valid_losses.append(valid_loss)\n",
    "    \n",
    "        # validation loss가 가장 작은 parameter를 저장\n",
    "        if valid_loss <= valid_loss_min:\n",
    "            torch.save(model.state_dict(), save_path)\n",
    "            valid_loss_min = valid_loss\n",
    "            print('Validation loss decreased ({:.6f} --> {:.6f}).  Saving model ...'.format(valid_loss_min, valid_loss))\n",
    "        \n",
    "    #학습된 model, 성능을 확인할 train_losses, valid_losses를 반환     \n",
    "    return model, train_losses, valid_losses"
   ]
  },
  {
   "cell_type": "code",
   "execution_count": 698,
   "metadata": {},
   "outputs": [],
   "source": [
    "def test(test_loader, model, criterion, use_cuda):\n",
    "\n",
    "    # test loss 를 만듦\n",
    "    test_loss = 0.0\n",
    "\n",
    "    # 분류를 성공한 개수를 알려줄 class_correct를 만듦\n",
    "    class_correct = list(0. for i in range(2))\n",
    "    \n",
    "    # image의 개수를 count하기위해 class_total을 만듦\n",
    "    class_total = list(0. for i in range(2))\n",
    "\n",
    "    # parameter들을 업데이트 하지 않기 때문에 model.eval()\n",
    "    model.eval()\n",
    "    \n",
    "    # testloader에서 data와 label을 가져 옴\n",
    "    for data, target in test_loader:\n",
    "    \n",
    "        # CUDA가 사용 가능하다면, GPU로 가져온 data를 옮김\n",
    "        if use_cuda:\n",
    "            data, target = data.cuda(), target.cuda()\n",
    "    \n",
    "        # forward pass: model에 data 를 넣고, 결과값을 output에 저장 \n",
    "        output = model(data)\n",
    "    \n",
    "        # batch의 loss를 계산\n",
    "        loss = criterion(output, target)\n",
    "    \n",
    "        # batch의 loss를 통해 test loss를 update\n",
    "        test_loss += loss.item()*data.size(0)\n",
    "    \n",
    "        # batch 단위로 output의 값의 index를 pred에 저장 (class에 해당)\n",
    "        _, pred = torch.max(output, 1)  \n",
    "        \n",
    "        # pred의 값이 목적값이랑 같다면 true를, 아니라면 false를 correct_tensor에 저장\n",
    "        correct_tensor = pred.eq(target.data.view_as(pred))\n",
    "        \n",
    "        # tensor -> numpy\n",
    "        correct = np.squeeze(correct_tensor.numpy()) if not use_cuda else np.squeeze(correct_tensor.cpu().numpy())\n",
    "        \n",
    "        # test set의 정확도를 계산\n",
    "        batch_size = len(target.data)\n",
    "        for i in range(batch_size):\n",
    "            label = target.data[i]\n",
    "            class_correct[label] += correct[i].item()\n",
    "            class_total[label] += 1\n",
    "\n",
    "    # 지금까지 더해왔던 test loss의 평균\n",
    "    test_loss = test_loss/len(test_loader.dataset)\n",
    "    print('Test Loss: {:.6f}\\n'.format(test_loss))\n",
    "    \n",
    "    # test 결과 출력\n",
    "    print('\\nTest Accuracy (Overall): %2d%% (%2d/%2d)' % (100. * np.sum(class_correct) / np.sum(class_total), np.sum(class_correct), np.sum(class_total)))"
   ]
  },
  {
   "cell_type": "code",
   "execution_count": 695,
   "metadata": {},
   "outputs": [],
   "source": [
    "# 53 -> 30 -> 10 -> 2의 layer로 network구성\n",
    "class Network(nn.ModuleList):\n",
    "    \n",
    "    def __init__(self,drop):\n",
    "        super(Network, self).__init__()\n",
    "        self.l1 = nn.Linear(53, 30)\n",
    "        self.relu = nn.ReLU()\n",
    "        self.drop = nn.Dropout(p=drop)\n",
    "        self.l2 = nn.Linear(30, 10)\n",
    "        self.l3 = nn.Linear(10, 2)\n",
    "        \n",
    "    def forward(self, x):\n",
    "        x = self.l1(x)\n",
    "        x = self.relu(x)\n",
    "        x = self.drop(x)\n",
    "        x = self.l2(x)\n",
    "        x = self.relu(x)\n",
    "        x = self.l3(x)\n",
    "        return x"
   ]
  },
  {
   "cell_type": "code",
   "execution_count": 699,
   "metadata": {},
   "outputs": [
    {
     "name": "stdout",
     "output_type": "stream",
     "text": [
      "try -  20\n"
     ]
    }
   ],
   "source": [
    "count = 20\n",
    "# count = count + 1\n",
    "print('try - ',count)"
   ]
  },
  {
   "cell_type": "code",
   "execution_count": 696,
   "metadata": {},
   "outputs": [],
   "source": [
    "# model 구성\n",
    "net_iron = Network(0.1)\n",
    "net_bronze = Network(0.37)\n",
    "net_silver = Network(0.3)\n",
    "net_gold = Network(0.3)\n",
    "net_platinum = Network(0.1)\n",
    "net_diamond = Network(0.1)\n",
    "net_over_diamond = Network(0.1)\n",
    "\n",
    "\n",
    "if use_cuda:\n",
    "    net_iron = net_iron.cuda()    \n",
    "    net_bronze = net_bronze.cuda()    \n",
    "    net_silver = net_silver.cuda()    \n",
    "    net_gold = net_gold.cuda()    \n",
    "    net_platinum = net_platinum.cuda()    \n",
    "    net_diamond = net_diamond.cuda()    \n",
    "    net_over_diamond = net_over_diamond.cuda()    \n"
   ]
  },
  {
   "cell_type": "code",
   "execution_count": 700,
   "metadata": {},
   "outputs": [],
   "source": [
    "# criterion, optimizer, scheduler 구성\n",
    "criterion_iron = torch.nn.CrossEntropyLoss()\n",
    "optimizer_iron = optimizer.Adam(net_iron.parameters(), lr=4e-3)\n",
    "scheduler_iron = StepLR(optimizer=optimizer_iron ,step_size=20, gamma=0.2)\n",
    "\n",
    "criterion_bronze = torch.nn.CrossEntropyLoss()\n",
    "optimizer_bronze = optimizer.Adam(net_bronze.parameters(), lr=15e-5)\n",
    "scheduler_bronze = StepLR(optimizer=optimizer_bronze ,step_size=300, gamma=0.65)\n",
    "\n",
    "\n",
    "criterion_silver = torch.nn.CrossEntropyLoss()\n",
    "optimizer_silver = optimizer.Adam(net_silver.parameters(), lr=1e-4) # 1\n",
    "scheduler_silver = StepLR(optimizer=optimizer_silver ,step_size=500, gamma=0.35) # 500\n",
    "\n",
    "criterion_gold = torch.nn.CrossEntropyLoss()\n",
    "optimizer_gold = optimizer.Adam(net_gold.parameters(), lr=1e-4)\n",
    "scheduler_gold = StepLR(optimizer=optimizer_gold ,step_size=300, gamma=0.5)\n",
    "\n",
    "#\n",
    "criterion_platinum = torch.nn.CrossEntropyLoss()\n",
    "optimizer_platinum = optimizer.Adam(net_platinum.parameters(), lr=3e-4)\n",
    "scheduler_platinum = StepLR(optimizer=optimizer_platinum ,step_size=200, gamma=0.6)\n",
    "\n",
    "#\n",
    "criterion_diamond = torch.nn.CrossEntropyLoss()\n",
    "optimizer_diamond = optimizer.Adam(net_diamond.parameters(), lr=3e-4)\n",
    "scheduler_diamond = StepLR(optimizer=optimizer_diamond ,step_size=200, gamma=0.5)\n",
    "\n",
    "#\n",
    "criterion_over_diamond = torch.nn.CrossEntropyLoss()\n",
    "optimizer_over_diamond = optimizer.Adam(net_over_diamond.parameters(), lr=3e-4)\n",
    "scheduler_over_diamond = StepLR(optimizer=optimizer_over_diamond ,step_size=200, gamma=0.5)"
   ]
  },
  {
   "cell_type": "code",
   "execution_count": 702,
   "metadata": {
    "scrolled": true
   },
   "outputs": [
    {
     "name": "stderr",
     "output_type": "stream",
     "text": [
      "  3%|██▍                                                                               | 6/200 [00:00<00:06, 28.24it/s]"
     ]
    },
    {
     "name": "stdout",
     "output_type": "stream",
     "text": [
      "Validation loss decreased (0.514097 --> 0.514097).  Saving model ...\n",
      "Validation loss decreased (0.334010 --> 0.334010).  Saving model ...\n",
      "Validation loss decreased (0.237393 --> 0.237393).  Saving model ...\n",
      "Validation loss decreased (0.200048 --> 0.200048).  Saving model ...\n",
      "Validation loss decreased (0.177909 --> 0.177909).  Saving model ...\n",
      "Validation loss decreased (0.165982 --> 0.165982).  Saving model ...\n"
     ]
    },
    {
     "name": "stderr",
     "output_type": "stream",
     "text": [
      "  6%|████▊                                                                            | 12/200 [00:00<00:06, 29.14it/s]"
     ]
    },
    {
     "name": "stdout",
     "output_type": "stream",
     "text": [
      "Validation loss decreased (0.157489 --> 0.157489).  Saving model ...\n",
      "Validation loss decreased (0.149487 --> 0.149487).  Saving model ...\n",
      "Validation loss decreased (0.140779 --> 0.140779).  Saving model ...\n",
      "Validation loss decreased (0.139068 --> 0.139068).  Saving model ...\n"
     ]
    },
    {
     "name": "stderr",
     "output_type": "stream",
     "text": [
      "  8%|██████▍                                                                          | 16/200 [00:00<00:06, 29.95it/s]"
     ]
    },
    {
     "name": "stdout",
     "output_type": "stream",
     "text": [
      "Validation loss decreased (0.137679 --> 0.137679).  Saving model ...\n",
      "Validation loss decreased (0.134566 --> 0.134566).  Saving model ...\n",
      "Validation loss decreased (0.130448 --> 0.130448).  Saving model ...\n"
     ]
    },
    {
     "name": "stderr",
     "output_type": "stream",
     "text": [
      "100%|████████████████████████████████████████████████████████████████████████████████| 200/200 [00:06<00:00, 31.01it/s]\n",
      "  1%|▍                                                                                 | 4/700 [00:00<00:41, 16.75it/s]"
     ]
    },
    {
     "name": "stdout",
     "output_type": "stream",
     "text": [
      "Validation loss decreased (0.682640 --> 0.682640).  Saving model ...\n",
      "Validation loss decreased (0.674531 --> 0.674531).  Saving model ...\n",
      "Validation loss decreased (0.665874 --> 0.665874).  Saving model ...\n",
      "Validation loss decreased (0.656245 --> 0.656245).  Saving model ...\n"
     ]
    },
    {
     "name": "stderr",
     "output_type": "stream",
     "text": [
      "  1%|▉                                                                                 | 8/700 [00:00<00:38, 17.91it/s]"
     ]
    },
    {
     "name": "stdout",
     "output_type": "stream",
     "text": [
      "Validation loss decreased (0.645797 --> 0.645797).  Saving model ...\n",
      "Validation loss decreased (0.634486 --> 0.634486).  Saving model ...\n",
      "Validation loss decreased (0.622647 --> 0.622647).  Saving model ...\n",
      "Validation loss decreased (0.610524 --> 0.610524).  Saving model ...\n",
      "Validation loss decreased (0.597924 --> 0.597924).  Saving model ...\n"
     ]
    },
    {
     "name": "stderr",
     "output_type": "stream",
     "text": [
      "  2%|█▍                                                                               | 12/700 [00:00<00:38, 17.93it/s]"
     ]
    },
    {
     "name": "stdout",
     "output_type": "stream",
     "text": [
      "Validation loss decreased (0.584760 --> 0.584760).  Saving model ...\n",
      "Validation loss decreased (0.570972 --> 0.570972).  Saving model ...\n",
      "Validation loss decreased (0.556415 --> 0.556415).  Saving model ...\n",
      "Validation loss decreased (0.541392 --> 0.541392).  Saving model ...\n"
     ]
    },
    {
     "name": "stderr",
     "output_type": "stream",
     "text": [
      "  2%|█▊                                                                               | 16/700 [00:00<00:38, 17.64it/s]"
     ]
    },
    {
     "name": "stdout",
     "output_type": "stream",
     "text": [
      "Validation loss decreased (0.525846 --> 0.525846).  Saving model ...\n",
      "Validation loss decreased (0.509805 --> 0.509805).  Saving model ...\n",
      "Validation loss decreased (0.493468 --> 0.493468).  Saving model ...\n",
      "Validation loss decreased (0.476675 --> 0.476675).  Saving model ...\n"
     ]
    },
    {
     "name": "stderr",
     "output_type": "stream",
     "text": [
      "  3%|██▎                                                                              | 20/700 [00:01<00:38, 17.54it/s]"
     ]
    },
    {
     "name": "stdout",
     "output_type": "stream",
     "text": [
      "Validation loss decreased (0.459474 --> 0.459474).  Saving model ...\n",
      "Validation loss decreased (0.442273 --> 0.442273).  Saving model ...\n",
      "Validation loss decreased (0.425699 --> 0.425699).  Saving model ...\n",
      "Validation loss decreased (0.408834 --> 0.408834).  Saving model ...\n"
     ]
    },
    {
     "name": "stderr",
     "output_type": "stream",
     "text": [
      "  4%|███                                                                              | 26/700 [00:01<00:37, 17.85it/s]"
     ]
    },
    {
     "name": "stdout",
     "output_type": "stream",
     "text": [
      "Validation loss decreased (0.392273 --> 0.392273).  Saving model ...\n",
      "Validation loss decreased (0.376116 --> 0.376116).  Saving model ...\n",
      "Validation loss decreased (0.361072 --> 0.361072).  Saving model ...\n",
      "Validation loss decreased (0.346809 --> 0.346809).  Saving model ...\n",
      "Validation loss decreased (0.332757 --> 0.332757).  Saving model ...\n"
     ]
    },
    {
     "name": "stderr",
     "output_type": "stream",
     "text": [
      "  4%|███▍                                                                             | 30/700 [00:01<00:39, 17.14it/s]"
     ]
    },
    {
     "name": "stdout",
     "output_type": "stream",
     "text": [
      "Validation loss decreased (0.319860 --> 0.319860).  Saving model ...\n",
      "Validation loss decreased (0.307977 --> 0.307977).  Saving model ...\n",
      "Validation loss decreased (0.297262 --> 0.297262).  Saving model ...\n",
      "Validation loss decreased (0.287543 --> 0.287543).  Saving model ...\n"
     ]
    },
    {
     "name": "stderr",
     "output_type": "stream",
     "text": [
      "  5%|███▉                                                                             | 34/700 [00:01<00:39, 17.00it/s]"
     ]
    },
    {
     "name": "stdout",
     "output_type": "stream",
     "text": [
      "Validation loss decreased (0.278139 --> 0.278139).  Saving model ...\n",
      "Validation loss decreased (0.269390 --> 0.269390).  Saving model ...\n",
      "Validation loss decreased (0.261085 --> 0.261085).  Saving model ...\n",
      "Validation loss decreased (0.253902 --> 0.253902).  Saving model ...\n"
     ]
    },
    {
     "name": "stderr",
     "output_type": "stream",
     "text": [
      "  5%|████▍                                                                            | 38/700 [00:02<00:39, 16.89it/s]"
     ]
    },
    {
     "name": "stdout",
     "output_type": "stream",
     "text": [
      "Validation loss decreased (0.247090 --> 0.247090).  Saving model ...\n",
      "Validation loss decreased (0.240539 --> 0.240539).  Saving model ...\n",
      "Validation loss decreased (0.235011 --> 0.235011).  Saving model ...\n",
      "Validation loss decreased (0.229954 --> 0.229954).  Saving model ...\n"
     ]
    },
    {
     "name": "stderr",
     "output_type": "stream",
     "text": [
      "  6%|████▊                                                                            | 42/700 [00:02<00:38, 17.12it/s]"
     ]
    },
    {
     "name": "stdout",
     "output_type": "stream",
     "text": [
      "Validation loss decreased (0.225189 --> 0.225189).  Saving model ...\n",
      "Validation loss decreased (0.220502 --> 0.220502).  Saving model ...\n",
      "Validation loss decreased (0.216376 --> 0.216376).  Saving model ...\n",
      "Validation loss decreased (0.213031 --> 0.213031).  Saving model ...\n"
     ]
    },
    {
     "name": "stderr",
     "output_type": "stream",
     "text": [
      "  7%|█████▎                                                                           | 46/700 [00:02<00:38, 16.93it/s]"
     ]
    },
    {
     "name": "stdout",
     "output_type": "stream",
     "text": [
      "Validation loss decreased (0.209484 --> 0.209484).  Saving model ...\n",
      "Validation loss decreased (0.205961 --> 0.205961).  Saving model ...\n",
      "Validation loss decreased (0.202596 --> 0.202596).  Saving model ...\n",
      "Validation loss decreased (0.199688 --> 0.199688).  Saving model ...\n"
     ]
    },
    {
     "name": "stderr",
     "output_type": "stream",
     "text": [
      "  7%|█████▊                                                                           | 50/700 [00:02<00:39, 16.57it/s]"
     ]
    },
    {
     "name": "stdout",
     "output_type": "stream",
     "text": [
      "Validation loss decreased (0.197251 --> 0.197251).  Saving model ...\n",
      "Validation loss decreased (0.194672 --> 0.194672).  Saving model ...\n",
      "Validation loss decreased (0.192283 --> 0.192283).  Saving model ...\n",
      "Validation loss decreased (0.190642 --> 0.190642).  Saving model ...\n"
     ]
    },
    {
     "name": "stderr",
     "output_type": "stream",
     "text": [
      "  8%|██████▏                                                                          | 54/700 [00:03<00:38, 16.72it/s]"
     ]
    },
    {
     "name": "stdout",
     "output_type": "stream",
     "text": [
      "Validation loss decreased (0.188775 --> 0.188775).  Saving model ...\n",
      "Validation loss decreased (0.186527 --> 0.186527).  Saving model ...\n",
      "Validation loss decreased (0.184770 --> 0.184770).  Saving model ...\n",
      "Validation loss decreased (0.181926 --> 0.181926).  Saving model ...\n"
     ]
    },
    {
     "name": "stderr",
     "output_type": "stream",
     "text": [
      "  8%|██████▋                                                                          | 58/700 [00:03<00:38, 16.60it/s]"
     ]
    },
    {
     "name": "stdout",
     "output_type": "stream",
     "text": [
      "Validation loss decreased (0.180255 --> 0.180255).  Saving model ...\n",
      "Validation loss decreased (0.178324 --> 0.178324).  Saving model ...\n",
      "Validation loss decreased (0.177158 --> 0.177158).  Saving model ...\n",
      "Validation loss decreased (0.175421 --> 0.175421).  Saving model ...\n"
     ]
    },
    {
     "name": "stderr",
     "output_type": "stream",
     "text": [
      "  9%|███████▏                                                                         | 62/700 [00:03<00:38, 16.69it/s]"
     ]
    },
    {
     "name": "stdout",
     "output_type": "stream",
     "text": [
      "Validation loss decreased (0.173906 --> 0.173906).  Saving model ...\n",
      "Validation loss decreased (0.173172 --> 0.173172).  Saving model ...\n",
      "Validation loss decreased (0.172033 --> 0.172033).  Saving model ...\n",
      "Validation loss decreased (0.170850 --> 0.170850).  Saving model ...\n"
     ]
    },
    {
     "name": "stderr",
     "output_type": "stream",
     "text": [
      "  9%|███████▋                                                                         | 66/700 [00:03<00:38, 16.54it/s]"
     ]
    },
    {
     "name": "stdout",
     "output_type": "stream",
     "text": [
      "Validation loss decreased (0.169134 --> 0.169134).  Saving model ...\n",
      "Validation loss decreased (0.167949 --> 0.167949).  Saving model ...\n",
      "Validation loss decreased (0.166856 --> 0.166856).  Saving model ...\n",
      "Validation loss decreased (0.165908 --> 0.165908).  Saving model ...\n"
     ]
    },
    {
     "name": "stderr",
     "output_type": "stream",
     "text": [
      " 10%|████████                                                                         | 70/700 [00:04<00:37, 16.80it/s]"
     ]
    },
    {
     "name": "stdout",
     "output_type": "stream",
     "text": [
      "Validation loss decreased (0.164909 --> 0.164909).  Saving model ...\n",
      "Validation loss decreased (0.164017 --> 0.164017).  Saving model ...\n",
      "Validation loss decreased (0.162954 --> 0.162954).  Saving model ...\n",
      "Validation loss decreased (0.162061 --> 0.162061).  Saving model ...\n"
     ]
    },
    {
     "name": "stderr",
     "output_type": "stream",
     "text": [
      " 11%|████████▌                                                                        | 74/700 [00:04<00:37, 16.70it/s]"
     ]
    },
    {
     "name": "stdout",
     "output_type": "stream",
     "text": [
      "Validation loss decreased (0.161270 --> 0.161270).  Saving model ...\n",
      "Validation loss decreased (0.160500 --> 0.160500).  Saving model ...\n",
      "Validation loss decreased (0.159693 --> 0.159693).  Saving model ...\n",
      "Validation loss decreased (0.158707 --> 0.158707).  Saving model ...\n"
     ]
    },
    {
     "name": "stderr",
     "output_type": "stream",
     "text": [
      " 11%|█████████                                                                        | 78/700 [00:04<00:37, 16.71it/s]"
     ]
    },
    {
     "name": "stdout",
     "output_type": "stream",
     "text": [
      "Validation loss decreased (0.157928 --> 0.157928).  Saving model ...\n",
      "Validation loss decreased (0.157453 --> 0.157453).  Saving model ...\n",
      "Validation loss decreased (0.156755 --> 0.156755).  Saving model ...\n",
      "Validation loss decreased (0.156142 --> 0.156142).  Saving model ...\n"
     ]
    },
    {
     "name": "stderr",
     "output_type": "stream",
     "text": [
      " 12%|█████████▍                                                                       | 82/700 [00:04<00:36, 16.85it/s]"
     ]
    },
    {
     "name": "stdout",
     "output_type": "stream",
     "text": [
      "Validation loss decreased (0.155234 --> 0.155234).  Saving model ...\n",
      "Validation loss decreased (0.154622 --> 0.154622).  Saving model ...\n",
      "Validation loss decreased (0.153856 --> 0.153856).  Saving model ...\n",
      "Validation loss decreased (0.153104 --> 0.153104).  Saving model ...\n"
     ]
    },
    {
     "name": "stderr",
     "output_type": "stream",
     "text": [
      " 12%|█████████▉                                                                       | 86/700 [00:05<00:36, 16.75it/s]"
     ]
    },
    {
     "name": "stdout",
     "output_type": "stream",
     "text": [
      "Validation loss decreased (0.152584 --> 0.152584).  Saving model ...\n",
      "Validation loss decreased (0.152055 --> 0.152055).  Saving model ...\n",
      "Validation loss decreased (0.151849 --> 0.151849).  Saving model ...\n",
      "Validation loss decreased (0.151254 --> 0.151254).  Saving model ...\n"
     ]
    },
    {
     "name": "stderr",
     "output_type": "stream",
     "text": [
      " 13%|██████████▍                                                                      | 90/700 [00:05<00:37, 16.26it/s]"
     ]
    },
    {
     "name": "stdout",
     "output_type": "stream",
     "text": [
      "Validation loss decreased (0.150235 --> 0.150235).  Saving model ...\n",
      "Validation loss decreased (0.149711 --> 0.149711).  Saving model ...\n",
      "Validation loss decreased (0.149343 --> 0.149343).  Saving model ...\n",
      "Validation loss decreased (0.148928 --> 0.148928).  Saving model ...\n"
     ]
    },
    {
     "name": "stderr",
     "output_type": "stream",
     "text": [
      " 13%|██████████▉                                                                      | 94/700 [00:05<00:37, 16.05it/s]"
     ]
    },
    {
     "name": "stdout",
     "output_type": "stream",
     "text": [
      "Validation loss decreased (0.148315 --> 0.148315).  Saving model ...\n",
      "Validation loss decreased (0.147901 --> 0.147901).  Saving model ...\n",
      "Validation loss decreased (0.147890 --> 0.147890).  Saving model ...\n",
      "Validation loss decreased (0.147213 --> 0.147213).  Saving model ...\n"
     ]
    },
    {
     "name": "stderr",
     "output_type": "stream",
     "text": [
      " 14%|███████████▎                                                                     | 98/700 [00:05<00:37, 16.15it/s]"
     ]
    },
    {
     "name": "stdout",
     "output_type": "stream",
     "text": [
      "Validation loss decreased (0.146750 --> 0.146750).  Saving model ...\n",
      "Validation loss decreased (0.146401 --> 0.146401).  Saving model ...\n",
      "Validation loss decreased (0.145956 --> 0.145956).  Saving model ...\n",
      "Validation loss decreased (0.145543 --> 0.145543).  Saving model ...\n"
     ]
    },
    {
     "name": "stderr",
     "output_type": "stream",
     "text": [
      " 15%|███████████▋                                                                    | 102/700 [00:06<00:36, 16.56it/s]"
     ]
    },
    {
     "name": "stdout",
     "output_type": "stream",
     "text": [
      "Validation loss decreased (0.145128 --> 0.145128).  Saving model ...\n",
      "Validation loss decreased (0.145059 --> 0.145059).  Saving model ...\n",
      "Validation loss decreased (0.144617 --> 0.144617).  Saving model ...\n",
      "Validation loss decreased (0.144388 --> 0.144388).  Saving model ...\n"
     ]
    },
    {
     "name": "stderr",
     "output_type": "stream",
     "text": [
      " 15%|████████████                                                                    | 106/700 [00:06<00:35, 16.54it/s]"
     ]
    },
    {
     "name": "stdout",
     "output_type": "stream",
     "text": [
      "Validation loss decreased (0.143845 --> 0.143845).  Saving model ...\n",
      "Validation loss decreased (0.143036 --> 0.143036).  Saving model ...\n",
      "Validation loss decreased (0.142492 --> 0.142492).  Saving model ...\n",
      "Validation loss decreased (0.142183 --> 0.142183).  Saving model ...\n"
     ]
    },
    {
     "name": "stderr",
     "output_type": "stream",
     "text": [
      " 16%|████████████▌                                                                   | 110/700 [00:06<00:35, 16.76it/s]"
     ]
    },
    {
     "name": "stdout",
     "output_type": "stream",
     "text": [
      "Validation loss decreased (0.141828 --> 0.141828).  Saving model ...\n",
      "Validation loss decreased (0.141286 --> 0.141286).  Saving model ...\n",
      "Validation loss decreased (0.140862 --> 0.140862).  Saving model ...\n",
      "Validation loss decreased (0.140498 --> 0.140498).  Saving model ...\n"
     ]
    },
    {
     "name": "stderr",
     "output_type": "stream",
     "text": [
      " 16%|█████████████                                                                   | 114/700 [00:06<00:34, 16.90it/s]"
     ]
    },
    {
     "name": "stdout",
     "output_type": "stream",
     "text": [
      "Validation loss decreased (0.140268 --> 0.140268).  Saving model ...\n",
      "Validation loss decreased (0.140123 --> 0.140123).  Saving model ...\n",
      "Validation loss decreased (0.140031 --> 0.140031).  Saving model ...\n",
      "Validation loss decreased (0.139489 --> 0.139489).  Saving model ...\n"
     ]
    },
    {
     "name": "stderr",
     "output_type": "stream",
     "text": [
      " 17%|█████████████▍                                                                  | 118/700 [00:07<00:34, 16.64it/s]"
     ]
    },
    {
     "name": "stdout",
     "output_type": "stream",
     "text": [
      "Validation loss decreased (0.138782 --> 0.138782).  Saving model ...\n",
      "Validation loss decreased (0.138580 --> 0.138580).  Saving model ...\n",
      "Validation loss decreased (0.138429 --> 0.138429).  Saving model ...\n",
      "Validation loss decreased (0.138029 --> 0.138029).  Saving model ...\n"
     ]
    },
    {
     "name": "stderr",
     "output_type": "stream",
     "text": [
      " 17%|█████████████▉                                                                  | 122/700 [00:07<00:34, 16.69it/s]"
     ]
    },
    {
     "name": "stdout",
     "output_type": "stream",
     "text": [
      "Validation loss decreased (0.137861 --> 0.137861).  Saving model ...\n",
      "Validation loss decreased (0.137643 --> 0.137643).  Saving model ...\n",
      "Validation loss decreased (0.137275 --> 0.137275).  Saving model ...\n"
     ]
    },
    {
     "name": "stderr",
     "output_type": "stream",
     "text": [
      " 18%|██████████████▍                                                                 | 126/700 [00:07<00:33, 17.20it/s]"
     ]
    },
    {
     "name": "stdout",
     "output_type": "stream",
     "text": [
      "Validation loss decreased (0.137168 --> 0.137168).  Saving model ...\n",
      "Validation loss decreased (0.136870 --> 0.136870).  Saving model ...\n",
      "Validation loss decreased (0.136732 --> 0.136732).  Saving model ...\n",
      "Validation loss decreased (0.136668 --> 0.136668).  Saving model ...\n"
     ]
    },
    {
     "name": "stderr",
     "output_type": "stream",
     "text": [
      " 19%|███████████████                                                                 | 132/700 [00:07<00:30, 18.39it/s]"
     ]
    },
    {
     "name": "stdout",
     "output_type": "stream",
     "text": [
      "Validation loss decreased (0.136328 --> 0.136328).  Saving model ...\n",
      "Validation loss decreased (0.135917 --> 0.135917).  Saving model ...\n",
      "Validation loss decreased (0.135705 --> 0.135705).  Saving model ...\n",
      "Validation loss decreased (0.135414 --> 0.135414).  Saving model ...\n"
     ]
    },
    {
     "name": "stderr",
     "output_type": "stream",
     "text": [
      " 20%|███████████████▊                                                                | 138/700 [00:08<00:30, 18.70it/s]"
     ]
    },
    {
     "name": "stdout",
     "output_type": "stream",
     "text": [
      "Validation loss decreased (0.135226 --> 0.135226).  Saving model ...\n",
      "Validation loss decreased (0.134747 --> 0.134747).  Saving model ...\n",
      "Validation loss decreased (0.134677 --> 0.134677).  Saving model ...\n"
     ]
    },
    {
     "name": "stderr",
     "output_type": "stream",
     "text": [
      " 20%|████████████████▎                                                               | 143/700 [00:08<00:28, 19.51it/s]"
     ]
    },
    {
     "name": "stdout",
     "output_type": "stream",
     "text": [
      "Validation loss decreased (0.134157 --> 0.134157).  Saving model ...\n"
     ]
    },
    {
     "name": "stderr",
     "output_type": "stream",
     "text": [
      " 21%|████████████████▊                                                               | 147/700 [00:08<00:28, 19.10it/s]"
     ]
    },
    {
     "name": "stdout",
     "output_type": "stream",
     "text": [
      "Validation loss decreased (0.133622 --> 0.133622).  Saving model ...\n",
      "Validation loss decreased (0.133311 --> 0.133311).  Saving model ...\n",
      "Validation loss decreased (0.132990 --> 0.132990).  Saving model ...\n"
     ]
    },
    {
     "name": "stderr",
     "output_type": "stream",
     "text": [
      " 22%|█████████████████▍                                                              | 153/700 [00:08<00:28, 19.16it/s]"
     ]
    },
    {
     "name": "stdout",
     "output_type": "stream",
     "text": [
      "Validation loss decreased (0.132585 --> 0.132585).  Saving model ...\n",
      "Validation loss decreased (0.132482 --> 0.132482).  Saving model ...\n",
      "Validation loss decreased (0.132470 --> 0.132470).  Saving model ...\n"
     ]
    },
    {
     "name": "stderr",
     "output_type": "stream",
     "text": [
      " 22%|█████████████████▉                                                              | 157/700 [00:09<00:28, 19.10it/s]"
     ]
    },
    {
     "name": "stdout",
     "output_type": "stream",
     "text": [
      "Validation loss decreased (0.131917 --> 0.131917).  Saving model ...\n"
     ]
    },
    {
     "name": "stderr",
     "output_type": "stream",
     "text": [
      " 23%|██████████████████▋                                                             | 163/700 [00:09<00:29, 17.98it/s]"
     ]
    },
    {
     "name": "stdout",
     "output_type": "stream",
     "text": [
      "Validation loss decreased (0.131636 --> 0.131636).  Saving model ...\n",
      "Validation loss decreased (0.131408 --> 0.131408).  Saving model ...\n"
     ]
    },
    {
     "name": "stderr",
     "output_type": "stream",
     "text": [
      " 24%|███████████████████▎                                                            | 169/700 [00:09<00:30, 17.41it/s]"
     ]
    },
    {
     "name": "stdout",
     "output_type": "stream",
     "text": [
      "Validation loss decreased (0.130924 --> 0.130924).  Saving model ...\n"
     ]
    },
    {
     "name": "stderr",
     "output_type": "stream",
     "text": [
      " 25%|███████████████████▊                                                            | 173/700 [00:10<00:30, 17.01it/s]"
     ]
    },
    {
     "name": "stdout",
     "output_type": "stream",
     "text": [
      "Validation loss decreased (0.130860 --> 0.130860).  Saving model ...\n",
      "Validation loss decreased (0.130856 --> 0.130856).  Saving model ...\n",
      "Validation loss decreased (0.130788 --> 0.130788).  Saving model ...\n",
      "Validation loss decreased (0.130153 --> 0.130153).  Saving model ...\n"
     ]
    },
    {
     "name": "stderr",
     "output_type": "stream",
     "text": [
      " 25%|████████████████████▏                                                           | 177/700 [00:10<00:31, 16.77it/s]"
     ]
    },
    {
     "name": "stdout",
     "output_type": "stream",
     "text": [
      "Validation loss decreased (0.130119 --> 0.130119).  Saving model ...\n",
      "Validation loss decreased (0.130036 --> 0.130036).  Saving model ...\n"
     ]
    },
    {
     "name": "stderr",
     "output_type": "stream",
     "text": [
      " 26%|████████████████████▋                                                           | 181/700 [00:10<00:30, 16.96it/s]"
     ]
    },
    {
     "name": "stdout",
     "output_type": "stream",
     "text": [
      "Validation loss decreased (0.129962 --> 0.129962).  Saving model ...\n",
      "Validation loss decreased (0.129713 --> 0.129713).  Saving model ...\n",
      "Validation loss decreased (0.129635 --> 0.129635).  Saving model ...\n",
      "Validation loss decreased (0.129312 --> 0.129312).  Saving model ...\n"
     ]
    },
    {
     "name": "stderr",
     "output_type": "stream",
     "text": [
      " 27%|█████████████████████▎                                                          | 187/700 [00:10<00:29, 17.48it/s]"
     ]
    },
    {
     "name": "stdout",
     "output_type": "stream",
     "text": [
      "Validation loss decreased (0.129154 --> 0.129154).  Saving model ...\n"
     ]
    },
    {
     "name": "stderr",
     "output_type": "stream",
     "text": [
      " 27%|█████████████████████▊                                                          | 191/700 [00:11<00:29, 17.39it/s]"
     ]
    },
    {
     "name": "stdout",
     "output_type": "stream",
     "text": [
      "Validation loss decreased (0.129015 --> 0.129015).  Saving model ...\n",
      "Validation loss decreased (0.128693 --> 0.128693).  Saving model ...\n",
      "Validation loss decreased (0.128520 --> 0.128520).  Saving model ...\n",
      "Validation loss decreased (0.128408 --> 0.128408).  Saving model ...\n"
     ]
    },
    {
     "name": "stderr",
     "output_type": "stream",
     "text": [
      " 29%|███████████████████████▍                                                        | 205/700 [00:11<00:26, 18.65it/s]"
     ]
    },
    {
     "name": "stdout",
     "output_type": "stream",
     "text": [
      "Validation loss decreased (0.128302 --> 0.128302).  Saving model ...\n",
      "Validation loss decreased (0.128206 --> 0.128206).  Saving model ...\n"
     ]
    },
    {
     "name": "stderr",
     "output_type": "stream",
     "text": [
      " 30%|████████████████████████▎                                                       | 213/700 [00:12<00:27, 17.86it/s]"
     ]
    },
    {
     "name": "stdout",
     "output_type": "stream",
     "text": [
      "Validation loss decreased (0.128102 --> 0.128102).  Saving model ...\n",
      "Validation loss decreased (0.127894 --> 0.127894).  Saving model ...\n",
      "Validation loss decreased (0.127772 --> 0.127772).  Saving model ...\n",
      "Validation loss decreased (0.127447 --> 0.127447).  Saving model ...\n"
     ]
    },
    {
     "name": "stderr",
     "output_type": "stream",
     "text": [
      " 35%|███████████████████████████▊                                                    | 243/700 [00:13<00:24, 18.84it/s]"
     ]
    },
    {
     "name": "stdout",
     "output_type": "stream",
     "text": [
      "Validation loss decreased (0.126971 --> 0.126971).  Saving model ...\n",
      "Validation loss decreased (0.126788 --> 0.126788).  Saving model ...\n"
     ]
    },
    {
     "name": "stderr",
     "output_type": "stream",
     "text": [
      " 36%|████████████████████████████▍                                                   | 249/700 [00:14<00:24, 18.40it/s]"
     ]
    },
    {
     "name": "stdout",
     "output_type": "stream",
     "text": [
      "Validation loss decreased (0.126486 --> 0.126486).  Saving model ...\n"
     ]
    },
    {
     "name": "stderr",
     "output_type": "stream",
     "text": [
      " 38%|██████████████████████████████▎                                                 | 265/700 [00:15<00:22, 18.96it/s]"
     ]
    },
    {
     "name": "stdout",
     "output_type": "stream",
     "text": [
      "Validation loss decreased (0.126284 --> 0.126284).  Saving model ...\n"
     ]
    },
    {
     "name": "stderr",
     "output_type": "stream",
     "text": [
      " 39%|███████████████████████████████▍                                                | 275/700 [00:15<00:22, 18.71it/s]"
     ]
    },
    {
     "name": "stdout",
     "output_type": "stream",
     "text": [
      "Validation loss decreased (0.126283 --> 0.126283).  Saving model ...\n",
      "Validation loss decreased (0.126184 --> 0.126184).  Saving model ...\n"
     ]
    },
    {
     "name": "stderr",
     "output_type": "stream",
     "text": [
      "100%|████████████████████████████████████████████████████████████████████████████████| 700/700 [00:37<00:00, 18.85it/s]\n",
      "  1%|▌                                                                                 | 4/600 [00:00<00:31, 19.10it/s]"
     ]
    },
    {
     "name": "stdout",
     "output_type": "stream",
     "text": [
      "Validation loss decreased (0.690133 --> 0.690133).  Saving model ...\n",
      "Validation loss decreased (0.685515 --> 0.685515).  Saving model ...\n",
      "Validation loss decreased (0.680986 --> 0.680986).  Saving model ...\n",
      "Validation loss decreased (0.676412 --> 0.676412).  Saving model ...\n",
      "Validation loss decreased (0.671490 --> 0.671490).  Saving model ...\n"
     ]
    },
    {
     "name": "stderr",
     "output_type": "stream",
     "text": [
      "  2%|█▎                                                                               | 10/600 [00:00<00:30, 19.42it/s]"
     ]
    },
    {
     "name": "stdout",
     "output_type": "stream",
     "text": [
      "Validation loss decreased (0.666348 --> 0.666348).  Saving model ...\n",
      "Validation loss decreased (0.660600 --> 0.660600).  Saving model ...\n",
      "Validation loss decreased (0.654469 --> 0.654469).  Saving model ...\n",
      "Validation loss decreased (0.647966 --> 0.647966).  Saving model ...\n",
      "Validation loss decreased (0.641164 --> 0.641164).  Saving model ...\n"
     ]
    },
    {
     "name": "stderr",
     "output_type": "stream",
     "text": [
      "  2%|█▉                                                                               | 14/600 [00:00<00:30, 18.93it/s]"
     ]
    },
    {
     "name": "stdout",
     "output_type": "stream",
     "text": [
      "Validation loss decreased (0.634169 --> 0.634169).  Saving model ...\n",
      "Validation loss decreased (0.626751 --> 0.626751).  Saving model ...\n",
      "Validation loss decreased (0.619188 --> 0.619188).  Saving model ...\n",
      "Validation loss decreased (0.611359 --> 0.611359).  Saving model ...\n",
      "Validation loss decreased (0.603248 --> 0.603248).  Saving model ...\n"
     ]
    },
    {
     "name": "stderr",
     "output_type": "stream",
     "text": [
      "  3%|██▋                                                                              | 20/600 [00:01<00:30, 19.06it/s]"
     ]
    },
    {
     "name": "stdout",
     "output_type": "stream",
     "text": [
      "Validation loss decreased (0.594885 --> 0.594885).  Saving model ...\n",
      "Validation loss decreased (0.586340 --> 0.586340).  Saving model ...\n",
      "Validation loss decreased (0.577404 --> 0.577404).  Saving model ...\n",
      "Validation loss decreased (0.567862 --> 0.567862).  Saving model ...\n",
      "Validation loss decreased (0.558162 --> 0.558162).  Saving model ...\n"
     ]
    },
    {
     "name": "stderr",
     "output_type": "stream",
     "text": [
      "  4%|███▏                                                                             | 24/600 [00:01<00:30, 19.04it/s]"
     ]
    },
    {
     "name": "stdout",
     "output_type": "stream",
     "text": [
      "Validation loss decreased (0.547746 --> 0.547746).  Saving model ...\n",
      "Validation loss decreased (0.537201 --> 0.537201).  Saving model ...\n",
      "Validation loss decreased (0.526303 --> 0.526303).  Saving model ...\n",
      "Validation loss decreased (0.515057 --> 0.515057).  Saving model ...\n"
     ]
    },
    {
     "name": "stderr",
     "output_type": "stream",
     "text": [
      "  5%|███▊                                                                             | 28/600 [00:01<00:29, 19.20it/s]"
     ]
    },
    {
     "name": "stdout",
     "output_type": "stream",
     "text": [
      "Validation loss decreased (0.503704 --> 0.503704).  Saving model ...\n",
      "Validation loss decreased (0.492004 --> 0.492004).  Saving model ...\n",
      "Validation loss decreased (0.480572 --> 0.480572).  Saving model ...\n",
      "Validation loss decreased (0.469154 --> 0.469154).  Saving model ...\n"
     ]
    },
    {
     "name": "stderr",
     "output_type": "stream",
     "text": [
      "  5%|████▎                                                                            | 32/600 [00:01<00:30, 18.57it/s]"
     ]
    },
    {
     "name": "stdout",
     "output_type": "stream",
     "text": [
      "Validation loss decreased (0.458184 --> 0.458184).  Saving model ...\n",
      "Validation loss decreased (0.447169 --> 0.447169).  Saving model ...\n",
      "Validation loss decreased (0.436661 --> 0.436661).  Saving model ...\n",
      "Validation loss decreased (0.426708 --> 0.426708).  Saving model ...\n"
     ]
    },
    {
     "name": "stderr",
     "output_type": "stream",
     "text": [
      "  6%|████▊                                                                            | 36/600 [00:01<00:30, 18.27it/s]"
     ]
    },
    {
     "name": "stdout",
     "output_type": "stream",
     "text": [
      "Validation loss decreased (0.416518 --> 0.416518).  Saving model ...\n",
      "Validation loss decreased (0.407223 --> 0.407223).  Saving model ...\n",
      "Validation loss decreased (0.397370 --> 0.397370).  Saving model ...\n",
      "Validation loss decreased (0.388159 --> 0.388159).  Saving model ...\n"
     ]
    },
    {
     "name": "stderr",
     "output_type": "stream",
     "text": [
      "  7%|█████▍                                                                           | 40/600 [00:02<00:30, 18.12it/s]"
     ]
    },
    {
     "name": "stdout",
     "output_type": "stream",
     "text": [
      "Validation loss decreased (0.377607 --> 0.377607).  Saving model ...\n",
      "Validation loss decreased (0.368895 --> 0.368895).  Saving model ...\n",
      "Validation loss decreased (0.360349 --> 0.360349).  Saving model ...\n",
      "Validation loss decreased (0.351931 --> 0.351931).  Saving model ...\n"
     ]
    },
    {
     "name": "stderr",
     "output_type": "stream",
     "text": [
      "  7%|█████▉                                                                           | 44/600 [00:02<00:32, 17.17it/s]"
     ]
    },
    {
     "name": "stdout",
     "output_type": "stream",
     "text": [
      "Validation loss decreased (0.344372 --> 0.344372).  Saving model ...\n",
      "Validation loss decreased (0.336837 --> 0.336837).  Saving model ...\n",
      "Validation loss decreased (0.329305 --> 0.329305).  Saving model ...\n",
      "Validation loss decreased (0.321579 --> 0.321579).  Saving model ...\n"
     ]
    },
    {
     "name": "stderr",
     "output_type": "stream",
     "text": [
      "  8%|██████▍                                                                          | 48/600 [00:02<00:31, 17.35it/s]"
     ]
    },
    {
     "name": "stdout",
     "output_type": "stream",
     "text": [
      "Validation loss decreased (0.314409 --> 0.314409).  Saving model ...\n",
      "Validation loss decreased (0.308212 --> 0.308212).  Saving model ...\n",
      "Validation loss decreased (0.301422 --> 0.301422).  Saving model ...\n",
      "Validation loss decreased (0.294804 --> 0.294804).  Saving model ...\n"
     ]
    },
    {
     "name": "stderr",
     "output_type": "stream",
     "text": [
      "  9%|███████                                                                          | 52/600 [00:02<00:30, 17.93it/s]"
     ]
    },
    {
     "name": "stdout",
     "output_type": "stream",
     "text": [
      "Validation loss decreased (0.289535 --> 0.289535).  Saving model ...\n",
      "Validation loss decreased (0.283872 --> 0.283872).  Saving model ...\n",
      "Validation loss decreased (0.278760 --> 0.278760).  Saving model ...\n",
      "Validation loss decreased (0.273307 --> 0.273307).  Saving model ...\n",
      "Validation loss decreased (0.267922 --> 0.267922).  Saving model ...\n"
     ]
    },
    {
     "name": "stderr",
     "output_type": "stream",
     "text": [
      "  9%|███████▌                                                                         | 56/600 [00:03<00:30, 17.70it/s]"
     ]
    },
    {
     "name": "stdout",
     "output_type": "stream",
     "text": [
      "Validation loss decreased (0.262958 --> 0.262958).  Saving model ...\n",
      "Validation loss decreased (0.258880 --> 0.258880).  Saving model ...\n",
      "Validation loss decreased (0.255032 --> 0.255032).  Saving model ...\n",
      "Validation loss decreased (0.250689 --> 0.250689).  Saving model ...\n"
     ]
    },
    {
     "name": "stderr",
     "output_type": "stream",
     "text": [
      " 10%|████████                                                                         | 60/600 [00:03<00:31, 17.30it/s]"
     ]
    },
    {
     "name": "stdout",
     "output_type": "stream",
     "text": [
      "Validation loss decreased (0.246680 --> 0.246680).  Saving model ...\n",
      "Validation loss decreased (0.242667 --> 0.242667).  Saving model ...\n",
      "Validation loss decreased (0.238873 --> 0.238873).  Saving model ...\n",
      "Validation loss decreased (0.235391 --> 0.235391).  Saving model ...\n"
     ]
    },
    {
     "name": "stderr",
     "output_type": "stream",
     "text": [
      " 11%|████████▋                                                                        | 64/600 [00:03<00:31, 16.81it/s]"
     ]
    },
    {
     "name": "stdout",
     "output_type": "stream",
     "text": [
      "Validation loss decreased (0.231924 --> 0.231924).  Saving model ...\n",
      "Validation loss decreased (0.228607 --> 0.228607).  Saving model ...\n",
      "Validation loss decreased (0.225163 --> 0.225163).  Saving model ...\n",
      "Validation loss decreased (0.221960 --> 0.221960).  Saving model ...\n"
     ]
    },
    {
     "name": "stderr",
     "output_type": "stream",
     "text": [
      " 11%|█████████▏                                                                       | 68/600 [00:03<00:31, 16.65it/s]"
     ]
    },
    {
     "name": "stdout",
     "output_type": "stream",
     "text": [
      "Validation loss decreased (0.219115 --> 0.219115).  Saving model ...\n",
      "Validation loss decreased (0.216559 --> 0.216559).  Saving model ...\n",
      "Validation loss decreased (0.213717 --> 0.213717).  Saving model ...\n",
      "Validation loss decreased (0.211000 --> 0.211000).  Saving model ...\n"
     ]
    },
    {
     "name": "stderr",
     "output_type": "stream",
     "text": [
      " 12%|█████████▋                                                                       | 72/600 [00:04<00:31, 16.57it/s]"
     ]
    },
    {
     "name": "stdout",
     "output_type": "stream",
     "text": [
      "Validation loss decreased (0.208445 --> 0.208445).  Saving model ...\n",
      "Validation loss decreased (0.206077 --> 0.206077).  Saving model ...\n",
      "Validation loss decreased (0.203808 --> 0.203808).  Saving model ...\n",
      "Validation loss decreased (0.201688 --> 0.201688).  Saving model ...\n"
     ]
    },
    {
     "name": "stderr",
     "output_type": "stream",
     "text": [
      " 13%|██████████▎                                                                      | 76/600 [00:04<00:31, 16.47it/s]"
     ]
    },
    {
     "name": "stdout",
     "output_type": "stream",
     "text": [
      "Validation loss decreased (0.199318 --> 0.199318).  Saving model ...\n",
      "Validation loss decreased (0.197367 --> 0.197367).  Saving model ...\n",
      "Validation loss decreased (0.195379 --> 0.195379).  Saving model ...\n",
      "Validation loss decreased (0.193194 --> 0.193194).  Saving model ...\n"
     ]
    },
    {
     "name": "stderr",
     "output_type": "stream",
     "text": [
      " 13%|██████████▊                                                                      | 80/600 [00:04<00:30, 16.90it/s]"
     ]
    },
    {
     "name": "stdout",
     "output_type": "stream",
     "text": [
      "Validation loss decreased (0.191229 --> 0.191229).  Saving model ...\n",
      "Validation loss decreased (0.189343 --> 0.189343).  Saving model ...\n",
      "Validation loss decreased (0.187379 --> 0.187379).  Saving model ...\n",
      "Validation loss decreased (0.185572 --> 0.185572).  Saving model ...\n"
     ]
    },
    {
     "name": "stderr",
     "output_type": "stream",
     "text": [
      " 14%|███████████▎                                                                     | 84/600 [00:04<00:29, 17.45it/s]"
     ]
    },
    {
     "name": "stdout",
     "output_type": "stream",
     "text": [
      "Validation loss decreased (0.183824 --> 0.183824).  Saving model ...\n",
      "Validation loss decreased (0.182149 --> 0.182149).  Saving model ...\n",
      "Validation loss decreased (0.180187 --> 0.180187).  Saving model ...\n",
      "Validation loss decreased (0.178598 --> 0.178598).  Saving model ...\n"
     ]
    },
    {
     "name": "stderr",
     "output_type": "stream",
     "text": [
      " 15%|███████████▉                                                                     | 88/600 [00:04<00:29, 17.31it/s]"
     ]
    },
    {
     "name": "stdout",
     "output_type": "stream",
     "text": [
      "Validation loss decreased (0.176810 --> 0.176810).  Saving model ...\n",
      "Validation loss decreased (0.175443 --> 0.175443).  Saving model ...\n",
      "Validation loss decreased (0.173917 --> 0.173917).  Saving model ...\n",
      "Validation loss decreased (0.172088 --> 0.172088).  Saving model ...\n"
     ]
    },
    {
     "name": "stderr",
     "output_type": "stream",
     "text": [
      " 15%|████████████▍                                                                    | 92/600 [00:05<00:27, 18.14it/s]"
     ]
    },
    {
     "name": "stdout",
     "output_type": "stream",
     "text": [
      "Validation loss decreased (0.170671 --> 0.170671).  Saving model ...\n",
      "Validation loss decreased (0.169261 --> 0.169261).  Saving model ...\n",
      "Validation loss decreased (0.167902 --> 0.167902).  Saving model ...\n",
      "Validation loss decreased (0.166608 --> 0.166608).  Saving model ...\n"
     ]
    },
    {
     "name": "stderr",
     "output_type": "stream",
     "text": [
      " 16%|████████████▉                                                                    | 96/600 [00:05<00:27, 18.65it/s]"
     ]
    },
    {
     "name": "stdout",
     "output_type": "stream",
     "text": [
      "Validation loss decreased (0.165431 --> 0.165431).  Saving model ...\n",
      "Validation loss decreased (0.164252 --> 0.164252).  Saving model ...\n",
      "Validation loss decreased (0.163247 --> 0.163247).  Saving model ...\n",
      "Validation loss decreased (0.161913 --> 0.161913).  Saving model ...\n"
     ]
    },
    {
     "name": "stderr",
     "output_type": "stream",
     "text": [
      " 17%|█████████████▎                                                                  | 100/600 [00:05<00:27, 17.87it/s]"
     ]
    },
    {
     "name": "stdout",
     "output_type": "stream",
     "text": [
      "Validation loss decreased (0.160737 --> 0.160737).  Saving model ...\n",
      "Validation loss decreased (0.159601 --> 0.159601).  Saving model ...\n",
      "Validation loss decreased (0.158481 --> 0.158481).  Saving model ...\n",
      "Validation loss decreased (0.157451 --> 0.157451).  Saving model ...\n"
     ]
    },
    {
     "name": "stderr",
     "output_type": "stream",
     "text": [
      " 17%|█████████████▊                                                                  | 104/600 [00:05<00:28, 17.49it/s]"
     ]
    },
    {
     "name": "stdout",
     "output_type": "stream",
     "text": [
      "Validation loss decreased (0.156590 --> 0.156590).  Saving model ...\n",
      "Validation loss decreased (0.155504 --> 0.155504).  Saving model ...\n",
      "Validation loss decreased (0.154791 --> 0.154791).  Saving model ...\n",
      "Validation loss decreased (0.154248 --> 0.154248).  Saving model ...\n"
     ]
    },
    {
     "name": "stderr",
     "output_type": "stream",
     "text": [
      " 18%|██████████████▍                                                                 | 108/600 [00:06<00:28, 17.06it/s]"
     ]
    },
    {
     "name": "stdout",
     "output_type": "stream",
     "text": [
      "Validation loss decreased (0.153669 --> 0.153669).  Saving model ...\n",
      "Validation loss decreased (0.152476 --> 0.152476).  Saving model ...\n",
      "Validation loss decreased (0.151800 --> 0.151800).  Saving model ...\n",
      "Validation loss decreased (0.151107 --> 0.151107).  Saving model ...\n"
     ]
    },
    {
     "name": "stderr",
     "output_type": "stream",
     "text": [
      " 19%|██████████████▉                                                                 | 112/600 [00:06<00:28, 16.85it/s]"
     ]
    },
    {
     "name": "stdout",
     "output_type": "stream",
     "text": [
      "Validation loss decreased (0.150545 --> 0.150545).  Saving model ...\n",
      "Validation loss decreased (0.149855 --> 0.149855).  Saving model ...\n",
      "Validation loss decreased (0.149090 --> 0.149090).  Saving model ...\n",
      "Validation loss decreased (0.148403 --> 0.148403).  Saving model ...\n"
     ]
    },
    {
     "name": "stderr",
     "output_type": "stream",
     "text": [
      " 19%|███████████████▍                                                                | 116/600 [00:06<00:28, 16.72it/s]"
     ]
    },
    {
     "name": "stdout",
     "output_type": "stream",
     "text": [
      "Validation loss decreased (0.148012 --> 0.148012).  Saving model ...\n",
      "Validation loss decreased (0.147209 --> 0.147209).  Saving model ...\n",
      "Validation loss decreased (0.146436 --> 0.146436).  Saving model ...\n",
      "Validation loss decreased (0.145936 --> 0.145936).  Saving model ...\n"
     ]
    },
    {
     "name": "stderr",
     "output_type": "stream",
     "text": [
      " 20%|████████████████                                                                | 120/600 [00:06<00:28, 16.96it/s]"
     ]
    },
    {
     "name": "stdout",
     "output_type": "stream",
     "text": [
      "Validation loss decreased (0.145226 --> 0.145226).  Saving model ...\n",
      "Validation loss decreased (0.144765 --> 0.144765).  Saving model ...\n",
      "Validation loss decreased (0.144293 --> 0.144293).  Saving model ...\n",
      "Validation loss decreased (0.143667 --> 0.143667).  Saving model ...\n"
     ]
    },
    {
     "name": "stderr",
     "output_type": "stream",
     "text": [
      " 21%|████████████████▌                                                               | 124/600 [00:07<00:28, 16.78it/s]"
     ]
    },
    {
     "name": "stdout",
     "output_type": "stream",
     "text": [
      "Validation loss decreased (0.143064 --> 0.143064).  Saving model ...\n",
      "Validation loss decreased (0.142481 --> 0.142481).  Saving model ...\n",
      "Validation loss decreased (0.142129 --> 0.142129).  Saving model ...\n",
      "Validation loss decreased (0.141661 --> 0.141661).  Saving model ...\n"
     ]
    },
    {
     "name": "stderr",
     "output_type": "stream",
     "text": [
      " 21%|█████████████████                                                               | 128/600 [00:07<00:27, 16.88it/s]"
     ]
    },
    {
     "name": "stdout",
     "output_type": "stream",
     "text": [
      "Validation loss decreased (0.141124 --> 0.141124).  Saving model ...\n",
      "Validation loss decreased (0.140889 --> 0.140889).  Saving model ...\n",
      "Validation loss decreased (0.140440 --> 0.140440).  Saving model ...\n",
      "Validation loss decreased (0.139953 --> 0.139953).  Saving model ...\n"
     ]
    },
    {
     "name": "stderr",
     "output_type": "stream",
     "text": [
      " 22%|█████████████████▌                                                              | 132/600 [00:07<00:28, 16.71it/s]"
     ]
    },
    {
     "name": "stdout",
     "output_type": "stream",
     "text": [
      "Validation loss decreased (0.139481 --> 0.139481).  Saving model ...\n",
      "Validation loss decreased (0.139025 --> 0.139025).  Saving model ...\n",
      "Validation loss decreased (0.138671 --> 0.138671).  Saving model ...\n",
      "Validation loss decreased (0.138192 --> 0.138192).  Saving model ...\n"
     ]
    },
    {
     "name": "stderr",
     "output_type": "stream",
     "text": [
      " 23%|██████████████████▍                                                             | 138/600 [00:07<00:27, 16.72it/s]"
     ]
    },
    {
     "name": "stdout",
     "output_type": "stream",
     "text": [
      "Validation loss decreased (0.137898 --> 0.137898).  Saving model ...\n",
      "Validation loss decreased (0.137074 --> 0.137074).  Saving model ...\n",
      "Validation loss decreased (0.136494 --> 0.136494).  Saving model ...\n",
      "Validation loss decreased (0.136201 --> 0.136201).  Saving model ...\n"
     ]
    },
    {
     "name": "stderr",
     "output_type": "stream",
     "text": [
      " 24%|██████████████████▉                                                             | 142/600 [00:08<00:27, 16.96it/s]"
     ]
    },
    {
     "name": "stdout",
     "output_type": "stream",
     "text": [
      "Validation loss decreased (0.136171 --> 0.136171).  Saving model ...\n",
      "Validation loss decreased (0.135626 --> 0.135626).  Saving model ...\n",
      "Validation loss decreased (0.134986 --> 0.134986).  Saving model ...\n",
      "Validation loss decreased (0.134693 --> 0.134693).  Saving model ...\n"
     ]
    },
    {
     "name": "stderr",
     "output_type": "stream",
     "text": [
      " 24%|███████████████████▍                                                            | 146/600 [00:08<00:26, 16.96it/s]"
     ]
    },
    {
     "name": "stdout",
     "output_type": "stream",
     "text": [
      "Validation loss decreased (0.134328 --> 0.134328).  Saving model ...\n",
      "Validation loss decreased (0.134086 --> 0.134086).  Saving model ...\n",
      "Validation loss decreased (0.133692 --> 0.133692).  Saving model ...\n",
      "Validation loss decreased (0.133385 --> 0.133385).  Saving model ...\n"
     ]
    },
    {
     "name": "stderr",
     "output_type": "stream",
     "text": [
      " 25%|████████████████████                                                            | 150/600 [00:08<00:26, 17.08it/s]"
     ]
    },
    {
     "name": "stdout",
     "output_type": "stream",
     "text": [
      "Validation loss decreased (0.133254 --> 0.133254).  Saving model ...\n",
      "Validation loss decreased (0.132872 --> 0.132872).  Saving model ...\n",
      "Validation loss decreased (0.132389 --> 0.132389).  Saving model ...\n",
      "Validation loss decreased (0.131981 --> 0.131981).  Saving model ...\n"
     ]
    },
    {
     "name": "stderr",
     "output_type": "stream",
     "text": [
      " 26%|████████████████████▊                                                           | 156/600 [00:08<00:24, 17.77it/s]"
     ]
    },
    {
     "name": "stdout",
     "output_type": "stream",
     "text": [
      "Validation loss decreased (0.131631 --> 0.131631).  Saving model ...\n",
      "Validation loss decreased (0.131280 --> 0.131280).  Saving model ...\n",
      "Validation loss decreased (0.130741 --> 0.130741).  Saving model ...\n",
      "Validation loss decreased (0.130562 --> 0.130562).  Saving model ...\n"
     ]
    },
    {
     "name": "stderr",
     "output_type": "stream",
     "text": [
      " 27%|█████████████████████▎                                                          | 160/600 [00:09<00:24, 17.78it/s]"
     ]
    },
    {
     "name": "stdout",
     "output_type": "stream",
     "text": [
      "Validation loss decreased (0.130337 --> 0.130337).  Saving model ...\n",
      "Validation loss decreased (0.129718 --> 0.129718).  Saving model ...\n",
      "Validation loss decreased (0.128836 --> 0.128836).  Saving model ...\n"
     ]
    },
    {
     "name": "stderr",
     "output_type": "stream",
     "text": [
      " 27%|█████████████████████▊                                                          | 164/600 [00:09<00:24, 17.47it/s]"
     ]
    },
    {
     "name": "stdout",
     "output_type": "stream",
     "text": [
      "Validation loss decreased (0.128643 --> 0.128643).  Saving model ...\n",
      "Validation loss decreased (0.128464 --> 0.128464).  Saving model ...\n",
      "Validation loss decreased (0.128104 --> 0.128104).  Saving model ...\n"
     ]
    },
    {
     "name": "stderr",
     "output_type": "stream",
     "text": [
      " 28%|██████████████████████▋                                                         | 170/600 [00:09<00:25, 16.93it/s]"
     ]
    },
    {
     "name": "stdout",
     "output_type": "stream",
     "text": [
      "Validation loss decreased (0.127822 --> 0.127822).  Saving model ...\n",
      "Validation loss decreased (0.127683 --> 0.127683).  Saving model ...\n"
     ]
    },
    {
     "name": "stderr",
     "output_type": "stream",
     "text": [
      " 29%|███████████████████████▏                                                        | 174/600 [00:09<00:24, 17.12it/s]"
     ]
    },
    {
     "name": "stdout",
     "output_type": "stream",
     "text": [
      "Validation loss decreased (0.127610 --> 0.127610).  Saving model ...\n",
      "Validation loss decreased (0.126230 --> 0.126230).  Saving model ...\n",
      "Validation loss decreased (0.125872 --> 0.125872).  Saving model ...\n",
      "Validation loss decreased (0.125698 --> 0.125698).  Saving model ...\n"
     ]
    },
    {
     "name": "stderr",
     "output_type": "stream",
     "text": [
      " 30%|███████████████████████▋                                                        | 178/600 [00:10<00:25, 16.58it/s]"
     ]
    },
    {
     "name": "stdout",
     "output_type": "stream",
     "text": [
      "Validation loss decreased (0.125266 --> 0.125266).  Saving model ...\n",
      "Validation loss decreased (0.125193 --> 0.125193).  Saving model ...\n",
      "Validation loss decreased (0.125093 --> 0.125093).  Saving model ...\n",
      "Validation loss decreased (0.124385 --> 0.124385).  Saving model ...\n"
     ]
    },
    {
     "name": "stderr",
     "output_type": "stream",
     "text": [
      " 30%|████████████████████████▎                                                       | 182/600 [00:10<00:24, 16.85it/s]"
     ]
    },
    {
     "name": "stdout",
     "output_type": "stream",
     "text": [
      "Validation loss decreased (0.124316 --> 0.124316).  Saving model ...\n",
      "Validation loss decreased (0.124099 --> 0.124099).  Saving model ...\n",
      "Validation loss decreased (0.123983 --> 0.123983).  Saving model ...\n"
     ]
    },
    {
     "name": "stderr",
     "output_type": "stream",
     "text": [
      " 31%|████████████████████████▊                                                       | 186/600 [00:10<00:24, 17.24it/s]"
     ]
    },
    {
     "name": "stdout",
     "output_type": "stream",
     "text": [
      "Validation loss decreased (0.123839 --> 0.123839).  Saving model ...\n",
      "Validation loss decreased (0.123482 --> 0.123482).  Saving model ...\n"
     ]
    },
    {
     "name": "stderr",
     "output_type": "stream",
     "text": [
      " 32%|█████████████████████████▎                                                      | 190/600 [00:10<00:23, 17.33it/s]"
     ]
    },
    {
     "name": "stdout",
     "output_type": "stream",
     "text": [
      "Validation loss decreased (0.123354 --> 0.123354).  Saving model ...\n",
      "Validation loss decreased (0.122992 --> 0.122992).  Saving model ...\n",
      "Validation loss decreased (0.122387 --> 0.122387).  Saving model ...\n",
      "Validation loss decreased (0.122282 --> 0.122282).  Saving model ...\n"
     ]
    },
    {
     "name": "stderr",
     "output_type": "stream",
     "text": [
      " 32%|█████████████████████████▊                                                      | 194/600 [00:11<00:24, 16.81it/s]"
     ]
    },
    {
     "name": "stdout",
     "output_type": "stream",
     "text": [
      "Validation loss decreased (0.122232 --> 0.122232).  Saving model ...\n",
      "Validation loss decreased (0.122115 --> 0.122115).  Saving model ...\n",
      "Validation loss decreased (0.121965 --> 0.121965).  Saving model ...\n"
     ]
    },
    {
     "name": "stderr",
     "output_type": "stream",
     "text": [
      " 33%|██████████████████████████▍                                                     | 198/600 [00:11<00:23, 16.90it/s]"
     ]
    },
    {
     "name": "stdout",
     "output_type": "stream",
     "text": [
      "Validation loss decreased (0.121957 --> 0.121957).  Saving model ...\n",
      "Validation loss decreased (0.121907 --> 0.121907).  Saving model ...\n",
      "Validation loss decreased (0.121248 --> 0.121248).  Saving model ...\n",
      "Validation loss decreased (0.121113 --> 0.121113).  Saving model ...\n"
     ]
    },
    {
     "name": "stderr",
     "output_type": "stream",
     "text": [
      " 34%|██████████████████████████▉                                                     | 202/600 [00:11<00:23, 16.81it/s]"
     ]
    },
    {
     "name": "stdout",
     "output_type": "stream",
     "text": [
      "Validation loss decreased (0.121016 --> 0.121016).  Saving model ...\n",
      "Validation loss decreased (0.120720 --> 0.120720).  Saving model ...\n"
     ]
    },
    {
     "name": "stderr",
     "output_type": "stream",
     "text": [
      " 34%|███████████████████████████▍                                                    | 206/600 [00:11<00:23, 17.00it/s]"
     ]
    },
    {
     "name": "stdout",
     "output_type": "stream",
     "text": [
      "Validation loss decreased (0.120260 --> 0.120260).  Saving model ...\n",
      "Validation loss decreased (0.120056 --> 0.120056).  Saving model ...\n",
      "Validation loss decreased (0.119874 --> 0.119874).  Saving model ...\n",
      "Validation loss decreased (0.119624 --> 0.119624).  Saving model ...\n"
     ]
    },
    {
     "name": "stderr",
     "output_type": "stream",
     "text": [
      " 35%|████████████████████████████                                                    | 210/600 [00:12<00:22, 17.00it/s]"
     ]
    },
    {
     "name": "stdout",
     "output_type": "stream",
     "text": [
      "Validation loss decreased (0.119540 --> 0.119540).  Saving model ...\n",
      "Validation loss decreased (0.119316 --> 0.119316).  Saving model ...\n",
      "Validation loss decreased (0.119263 --> 0.119263).  Saving model ...\n"
     ]
    },
    {
     "name": "stderr",
     "output_type": "stream",
     "text": [
      " 36%|████████████████████████████▊                                                   | 216/600 [00:12<00:22, 17.23it/s]"
     ]
    },
    {
     "name": "stdout",
     "output_type": "stream",
     "text": [
      "Validation loss decreased (0.119007 --> 0.119007).  Saving model ...\n",
      "Validation loss decreased (0.118749 --> 0.118749).  Saving model ...\n",
      "Validation loss decreased (0.118478 --> 0.118478).  Saving model ...\n",
      "Validation loss decreased (0.118268 --> 0.118268).  Saving model ...\n"
     ]
    },
    {
     "name": "stderr",
     "output_type": "stream",
     "text": [
      " 37%|█████████████████████████████▎                                                  | 220/600 [00:12<00:21, 17.32it/s]"
     ]
    },
    {
     "name": "stdout",
     "output_type": "stream",
     "text": [
      "Validation loss decreased (0.118255 --> 0.118255).  Saving model ...\n",
      "Validation loss decreased (0.117927 --> 0.117927).  Saving model ...\n"
     ]
    },
    {
     "name": "stderr",
     "output_type": "stream",
     "text": [
      " 37%|█████████████████████████████▊                                                  | 224/600 [00:12<00:21, 17.88it/s]"
     ]
    },
    {
     "name": "stdout",
     "output_type": "stream",
     "text": [
      "Validation loss decreased (0.117574 --> 0.117574).  Saving model ...\n"
     ]
    },
    {
     "name": "stderr",
     "output_type": "stream",
     "text": [
      " 38%|██████████████████████████████▍                                                 | 228/600 [00:13<00:21, 17.25it/s]"
     ]
    },
    {
     "name": "stdout",
     "output_type": "stream",
     "text": [
      "Validation loss decreased (0.117310 --> 0.117310).  Saving model ...\n",
      "Validation loss decreased (0.117004 --> 0.117004).  Saving model ...\n",
      "Validation loss decreased (0.116700 --> 0.116700).  Saving model ...\n"
     ]
    },
    {
     "name": "stderr",
     "output_type": "stream",
     "text": [
      " 39%|██████████████████████████████▉                                                 | 232/600 [00:13<00:21, 16.84it/s]"
     ]
    },
    {
     "name": "stdout",
     "output_type": "stream",
     "text": [
      "Validation loss decreased (0.116598 --> 0.116598).  Saving model ...\n"
     ]
    },
    {
     "name": "stderr",
     "output_type": "stream",
     "text": [
      " 39%|███████████████████████████████▍                                                | 236/600 [00:13<00:21, 17.02it/s]"
     ]
    },
    {
     "name": "stdout",
     "output_type": "stream",
     "text": [
      "Validation loss decreased (0.115873 --> 0.115873).  Saving model ...\n",
      "Validation loss decreased (0.115864 --> 0.115864).  Saving model ...\n"
     ]
    },
    {
     "name": "stderr",
     "output_type": "stream",
     "text": [
      " 40%|████████████████████████████████▎                                               | 242/600 [00:13<00:21, 16.89it/s]"
     ]
    },
    {
     "name": "stdout",
     "output_type": "stream",
     "text": [
      "Validation loss decreased (0.115825 --> 0.115825).  Saving model ...\n",
      "Validation loss decreased (0.115801 --> 0.115801).  Saving model ...\n",
      "Validation loss decreased (0.115431 --> 0.115431).  Saving model ...\n"
     ]
    },
    {
     "name": "stderr",
     "output_type": "stream",
     "text": [
      " 41%|████████████████████████████████▊                                               | 246/600 [00:14<00:20, 17.55it/s]"
     ]
    },
    {
     "name": "stdout",
     "output_type": "stream",
     "text": [
      "Validation loss decreased (0.115239 --> 0.115239).  Saving model ...\n",
      "Validation loss decreased (0.114988 --> 0.114988).  Saving model ...\n",
      "Validation loss decreased (0.114775 --> 0.114775).  Saving model ...\n"
     ]
    },
    {
     "name": "stderr",
     "output_type": "stream",
     "text": [
      " 43%|██████████████████████████████████▏                                             | 256/600 [00:14<00:19, 17.27it/s]"
     ]
    },
    {
     "name": "stdout",
     "output_type": "stream",
     "text": [
      "Validation loss decreased (0.114734 --> 0.114734).  Saving model ...\n",
      "Validation loss decreased (0.113911 --> 0.113911).  Saving model ...\n",
      "Validation loss decreased (0.113731 --> 0.113731).  Saving model ...\n"
     ]
    },
    {
     "name": "stderr",
     "output_type": "stream",
     "text": [
      " 43%|██████████████████████████████████▋                                             | 260/600 [00:14<00:19, 17.15it/s]"
     ]
    },
    {
     "name": "stdout",
     "output_type": "stream",
     "text": [
      "Validation loss decreased (0.113730 --> 0.113730).  Saving model ...\n",
      "Validation loss decreased (0.113713 --> 0.113713).  Saving model ...\n",
      "Validation loss decreased (0.113444 --> 0.113444).  Saving model ...\n",
      "Validation loss decreased (0.113441 --> 0.113441).  Saving model ...\n"
     ]
    },
    {
     "name": "stderr",
     "output_type": "stream",
     "text": [
      " 44%|███████████████████████████████████▏                                            | 264/600 [00:15<00:19, 17.35it/s]"
     ]
    },
    {
     "name": "stdout",
     "output_type": "stream",
     "text": [
      "Validation loss decreased (0.113209 --> 0.113209).  Saving model ...\n",
      "Validation loss decreased (0.113068 --> 0.113068).  Saving model ...\n"
     ]
    },
    {
     "name": "stderr",
     "output_type": "stream",
     "text": [
      " 46%|████████████████████████████████████▊                                           | 276/600 [00:15<00:17, 18.32it/s]"
     ]
    },
    {
     "name": "stdout",
     "output_type": "stream",
     "text": [
      "Validation loss decreased (0.112803 --> 0.112803).  Saving model ...\n",
      "Validation loss decreased (0.112354 --> 0.112354).  Saving model ...\n",
      "Validation loss decreased (0.112321 --> 0.112321).  Saving model ...\n"
     ]
    },
    {
     "name": "stderr",
     "output_type": "stream",
     "text": [
      " 47%|█████████████████████████████████████▊                                          | 284/600 [00:16<00:17, 18.10it/s]"
     ]
    },
    {
     "name": "stdout",
     "output_type": "stream",
     "text": [
      "Validation loss decreased (0.111974 --> 0.111974).  Saving model ...\n",
      "Validation loss decreased (0.111759 --> 0.111759).  Saving model ...\n"
     ]
    },
    {
     "name": "stderr",
     "output_type": "stream",
     "text": [
      " 48%|██████████████████████████████████████▍                                         | 288/600 [00:16<00:17, 17.69it/s]"
     ]
    },
    {
     "name": "stdout",
     "output_type": "stream",
     "text": [
      "Validation loss decreased (0.111746 --> 0.111746).  Saving model ...\n",
      "Validation loss decreased (0.111431 --> 0.111431).  Saving model ...\n"
     ]
    },
    {
     "name": "stderr",
     "output_type": "stream",
     "text": [
      " 49%|██████████████████████████████████████▉                                         | 292/600 [00:16<00:17, 17.45it/s]"
     ]
    },
    {
     "name": "stdout",
     "output_type": "stream",
     "text": [
      "Validation loss decreased (0.111160 --> 0.111160).  Saving model ...\n"
     ]
    },
    {
     "name": "stderr",
     "output_type": "stream",
     "text": [
      " 49%|███████████████████████████████████████▍                                        | 296/600 [00:17<00:17, 17.27it/s]"
     ]
    },
    {
     "name": "stdout",
     "output_type": "stream",
     "text": [
      "Validation loss decreased (0.110905 --> 0.110905).  Saving model ...\n",
      "Validation loss decreased (0.110651 --> 0.110651).  Saving model ...\n"
     ]
    },
    {
     "name": "stderr",
     "output_type": "stream",
     "text": [
      " 51%|████████████████████████████████████████▊                                       | 306/600 [00:17<00:16, 17.36it/s]"
     ]
    },
    {
     "name": "stdout",
     "output_type": "stream",
     "text": [
      "Validation loss decreased (0.110374 --> 0.110374).  Saving model ...\n",
      "Validation loss decreased (0.110192 --> 0.110192).  Saving model ...\n"
     ]
    },
    {
     "name": "stderr",
     "output_type": "stream",
     "text": [
      " 52%|█████████████████████████████████████████▎                                      | 310/600 [00:17<00:16, 17.51it/s]"
     ]
    },
    {
     "name": "stdout",
     "output_type": "stream",
     "text": [
      "Validation loss decreased (0.109966 --> 0.109966).  Saving model ...\n"
     ]
    },
    {
     "name": "stderr",
     "output_type": "stream",
     "text": [
      " 53%|██████████████████████████████████████████▋                                     | 320/600 [00:18<00:16, 17.23it/s]"
     ]
    },
    {
     "name": "stdout",
     "output_type": "stream",
     "text": [
      "Validation loss decreased (0.109752 --> 0.109752).  Saving model ...\n",
      "Validation loss decreased (0.109717 --> 0.109717).  Saving model ...\n"
     ]
    },
    {
     "name": "stderr",
     "output_type": "stream",
     "text": [
      " 54%|███████████████████████████████████████████▍                                    | 326/600 [00:18<00:16, 16.66it/s]"
     ]
    },
    {
     "name": "stdout",
     "output_type": "stream",
     "text": [
      "Validation loss decreased (0.109474 --> 0.109474).  Saving model ...\n",
      "Validation loss decreased (0.109432 --> 0.109432).  Saving model ...\n",
      "Validation loss decreased (0.109384 --> 0.109384).  Saving model ...\n",
      "Validation loss decreased (0.108985 --> 0.108985).  Saving model ...\n"
     ]
    },
    {
     "name": "stderr",
     "output_type": "stream",
     "text": [
      " 55%|████████████████████████████████████████████                                    | 330/600 [00:18<00:16, 16.46it/s]"
     ]
    },
    {
     "name": "stdout",
     "output_type": "stream",
     "text": [
      "Validation loss decreased (0.108977 --> 0.108977).  Saving model ...\n",
      "Validation loss decreased (0.108967 --> 0.108967).  Saving model ...\n"
     ]
    },
    {
     "name": "stderr",
     "output_type": "stream",
     "text": [
      " 56%|████████████████████████████████████████████▌                                   | 334/600 [00:19<00:16, 16.11it/s]"
     ]
    },
    {
     "name": "stdout",
     "output_type": "stream",
     "text": [
      "Validation loss decreased (0.108937 --> 0.108937).  Saving model ...\n",
      "Validation loss decreased (0.108827 --> 0.108827).  Saving model ...\n"
     ]
    },
    {
     "name": "stderr",
     "output_type": "stream",
     "text": [
      " 58%|██████████████████████████████████████████████▏                                 | 346/600 [00:19<00:14, 17.75it/s]"
     ]
    },
    {
     "name": "stdout",
     "output_type": "stream",
     "text": [
      "Validation loss decreased (0.108723 --> 0.108723).  Saving model ...\n",
      "Validation loss decreased (0.108469 --> 0.108469).  Saving model ...\n",
      "Validation loss decreased (0.108404 --> 0.108404).  Saving model ...\n"
     ]
    },
    {
     "name": "stderr",
     "output_type": "stream",
     "text": [
      " 59%|███████████████████████████████████████████████▍                                | 356/600 [00:20<00:13, 17.87it/s]"
     ]
    },
    {
     "name": "stdout",
     "output_type": "stream",
     "text": [
      "Validation loss decreased (0.108368 --> 0.108368).  Saving model ...\n"
     ]
    },
    {
     "name": "stderr",
     "output_type": "stream",
     "text": [
      " 61%|████████████████████████████████████████████████▌                               | 364/600 [00:20<00:13, 17.47it/s]"
     ]
    },
    {
     "name": "stdout",
     "output_type": "stream",
     "text": [
      "Validation loss decreased (0.108358 --> 0.108358).  Saving model ...\n",
      "Validation loss decreased (0.108295 --> 0.108295).  Saving model ...\n"
     ]
    },
    {
     "name": "stderr",
     "output_type": "stream",
     "text": [
      " 63%|██████████████████████████████████████████████████▏                             | 376/600 [00:21<00:13, 17.19it/s]"
     ]
    },
    {
     "name": "stdout",
     "output_type": "stream",
     "text": [
      "Validation loss decreased (0.107940 --> 0.107940).  Saving model ...\n",
      "Validation loss decreased (0.107774 --> 0.107774).  Saving model ...\n"
     ]
    },
    {
     "name": "stderr",
     "output_type": "stream",
     "text": [
      " 64%|██████████████████████████████████████████████████▉                             | 382/600 [00:21<00:12, 16.90it/s]"
     ]
    },
    {
     "name": "stdout",
     "output_type": "stream",
     "text": [
      "Validation loss decreased (0.107662 --> 0.107662).  Saving model ...\n"
     ]
    },
    {
     "name": "stderr",
     "output_type": "stream",
     "text": [
      " 67%|█████████████████████████████████████████████████████▌                          | 402/600 [00:23<00:10, 18.51it/s]"
     ]
    },
    {
     "name": "stdout",
     "output_type": "stream",
     "text": [
      "Validation loss decreased (0.107348 --> 0.107348).  Saving model ...\n"
     ]
    },
    {
     "name": "stderr",
     "output_type": "stream",
     "text": [
      " 69%|███████████████████████████████████████████████████████▍                        | 416/600 [00:23<00:09, 18.74it/s]"
     ]
    },
    {
     "name": "stdout",
     "output_type": "stream",
     "text": [
      "Validation loss decreased (0.107072 --> 0.107072).  Saving model ...\n",
      "Validation loss decreased (0.106977 --> 0.106977).  Saving model ...\n"
     ]
    },
    {
     "name": "stderr",
     "output_type": "stream",
     "text": [
      " 71%|████████████████████████████████████████████████████████▊                       | 426/600 [00:24<00:09, 17.87it/s]"
     ]
    },
    {
     "name": "stdout",
     "output_type": "stream",
     "text": [
      "Validation loss decreased (0.106887 --> 0.106887).  Saving model ...\n"
     ]
    },
    {
     "name": "stderr",
     "output_type": "stream",
     "text": [
      " 72%|█████████████████████████████████████████████████████████▊                      | 434/600 [00:24<00:09, 17.61it/s]"
     ]
    },
    {
     "name": "stdout",
     "output_type": "stream",
     "text": [
      "Validation loss decreased (0.106696 --> 0.106696).  Saving model ...\n",
      "Validation loss decreased (0.106593 --> 0.106593).  Saving model ...\n"
     ]
    },
    {
     "name": "stderr",
     "output_type": "stream",
     "text": [
      " 74%|██████████████████████████████████████████████████████████▉                     | 442/600 [00:25<00:08, 17.70it/s]"
     ]
    },
    {
     "name": "stdout",
     "output_type": "stream",
     "text": [
      "Validation loss decreased (0.106440 --> 0.106440).  Saving model ...\n"
     ]
    },
    {
     "name": "stderr",
     "output_type": "stream",
     "text": [
      " 77%|█████████████████████████████████████████████████████████████▌                  | 462/600 [00:26<00:08, 16.46it/s]"
     ]
    },
    {
     "name": "stdout",
     "output_type": "stream",
     "text": [
      "Validation loss decreased (0.106178 --> 0.106178).  Saving model ...\n",
      "Validation loss decreased (0.106040 --> 0.106040).  Saving model ...\n"
     ]
    },
    {
     "name": "stderr",
     "output_type": "stream",
     "text": [
      " 79%|███████████████████████████████████████████████████████████████▏                | 474/600 [00:27<00:07, 16.63it/s]"
     ]
    },
    {
     "name": "stdout",
     "output_type": "stream",
     "text": [
      "Validation loss decreased (0.106003 --> 0.106003).  Saving model ...\n",
      "Validation loss decreased (0.105976 --> 0.105976).  Saving model ...\n",
      "Validation loss decreased (0.105971 --> 0.105971).  Saving model ...\n"
     ]
    },
    {
     "name": "stderr",
     "output_type": "stream",
     "text": [
      " 80%|████████████████████████████████████████████████████████████████▎               | 482/600 [00:27<00:06, 16.90it/s]"
     ]
    },
    {
     "name": "stdout",
     "output_type": "stream",
     "text": [
      "Validation loss decreased (0.105903 --> 0.105903).  Saving model ...\n",
      "Validation loss decreased (0.105752 --> 0.105752).  Saving model ...\n"
     ]
    },
    {
     "name": "stderr",
     "output_type": "stream",
     "text": [
      "100%|████████████████████████████████████████████████████████████████████████████████| 600/600 [00:33<00:00, 17.70it/s]\n",
      "  0%|▍                                                                                 | 3/600 [00:00<00:26, 22.22it/s]"
     ]
    },
    {
     "name": "stdout",
     "output_type": "stream",
     "text": [
      "Validation loss decreased (0.706708 --> 0.706708).  Saving model ...\n",
      "Validation loss decreased (0.702776 --> 0.702776).  Saving model ...\n",
      "Validation loss decreased (0.699107 --> 0.699107).  Saving model ...\n",
      "Validation loss decreased (0.695668 --> 0.695668).  Saving model ...\n",
      "Validation loss decreased (0.692325 --> 0.692325).  Saving model ...\n",
      "Validation loss decreased (0.688972 --> 0.688972).  Saving model ...\n"
     ]
    },
    {
     "name": "stderr",
     "output_type": "stream",
     "text": [
      "  2%|█▎                                                                               | 10/600 [00:00<00:22, 26.30it/s]"
     ]
    },
    {
     "name": "stdout",
     "output_type": "stream",
     "text": [
      "Validation loss decreased (0.685682 --> 0.685682).  Saving model ...\n",
      "Validation loss decreased (0.682418 --> 0.682418).  Saving model ...\n",
      "Validation loss decreased (0.679174 --> 0.679174).  Saving model ...\n",
      "Validation loss decreased (0.675916 --> 0.675916).  Saving model ...\n",
      "Validation loss decreased (0.672739 --> 0.672739).  Saving model ...\n",
      "Validation loss decreased (0.669639 --> 0.669639).  Saving model ...\n"
     ]
    },
    {
     "name": "stderr",
     "output_type": "stream",
     "text": [
      "  3%|██▏                                                                              | 16/600 [00:00<00:22, 26.39it/s]"
     ]
    },
    {
     "name": "stdout",
     "output_type": "stream",
     "text": [
      "Validation loss decreased (0.666596 --> 0.666596).  Saving model ...\n",
      "Validation loss decreased (0.663714 --> 0.663714).  Saving model ...\n",
      "Validation loss decreased (0.660853 --> 0.660853).  Saving model ...\n",
      "Validation loss decreased (0.658009 --> 0.658009).  Saving model ...\n",
      "Validation loss decreased (0.655188 --> 0.655188).  Saving model ...\n",
      "Validation loss decreased (0.652241 --> 0.652241).  Saving model ...\n"
     ]
    },
    {
     "name": "stderr",
     "output_type": "stream",
     "text": [
      "  4%|██▉                                                                              | 22/600 [00:00<00:21, 27.19it/s]"
     ]
    },
    {
     "name": "stdout",
     "output_type": "stream",
     "text": [
      "Validation loss decreased (0.649341 --> 0.649341).  Saving model ...\n",
      "Validation loss decreased (0.646288 --> 0.646288).  Saving model ...\n",
      "Validation loss decreased (0.643196 --> 0.643196).  Saving model ...\n",
      "Validation loss decreased (0.640041 --> 0.640041).  Saving model ...\n",
      "Validation loss decreased (0.636895 --> 0.636895).  Saving model ...\n",
      "Validation loss decreased (0.633735 --> 0.633735).  Saving model ...\n"
     ]
    },
    {
     "name": "stderr",
     "output_type": "stream",
     "text": [
      "  5%|███▊                                                                             | 28/600 [00:01<00:20, 27.37it/s]"
     ]
    },
    {
     "name": "stdout",
     "output_type": "stream",
     "text": [
      "Validation loss decreased (0.630492 --> 0.630492).  Saving model ...\n",
      "Validation loss decreased (0.627194 --> 0.627194).  Saving model ...\n",
      "Validation loss decreased (0.623737 --> 0.623737).  Saving model ...\n",
      "Validation loss decreased (0.620205 --> 0.620205).  Saving model ...\n",
      "Validation loss decreased (0.616632 --> 0.616632).  Saving model ...\n",
      "Validation loss decreased (0.612995 --> 0.612995).  Saving model ...\n"
     ]
    },
    {
     "name": "stderr",
     "output_type": "stream",
     "text": [
      "  6%|████▌                                                                            | 34/600 [00:01<00:21, 26.51it/s]"
     ]
    },
    {
     "name": "stdout",
     "output_type": "stream",
     "text": [
      "Validation loss decreased (0.609240 --> 0.609240).  Saving model ...\n",
      "Validation loss decreased (0.605472 --> 0.605472).  Saving model ...\n",
      "Validation loss decreased (0.601600 --> 0.601600).  Saving model ...\n",
      "Validation loss decreased (0.597690 --> 0.597690).  Saving model ...\n",
      "Validation loss decreased (0.593586 --> 0.593586).  Saving model ...\n",
      "Validation loss decreased (0.589437 --> 0.589437).  Saving model ...\n"
     ]
    },
    {
     "name": "stderr",
     "output_type": "stream",
     "text": [
      "  7%|█████▊                                                                           | 43/600 [00:01<00:20, 27.00it/s]"
     ]
    },
    {
     "name": "stdout",
     "output_type": "stream",
     "text": [
      "Validation loss decreased (0.585205 --> 0.585205).  Saving model ...\n",
      "Validation loss decreased (0.580927 --> 0.580927).  Saving model ...\n",
      "Validation loss decreased (0.576519 --> 0.576519).  Saving model ...\n",
      "Validation loss decreased (0.572058 --> 0.572058).  Saving model ...\n",
      "Validation loss decreased (0.567459 --> 0.567459).  Saving model ...\n",
      "Validation loss decreased (0.562825 --> 0.562825).  Saving model ...\n",
      "Validation loss decreased (0.558069 --> 0.558069).  Saving model ...\n"
     ]
    },
    {
     "name": "stderr",
     "output_type": "stream",
     "text": [
      "  8%|██████▌                                                                          | 49/600 [00:01<00:20, 27.27it/s]"
     ]
    },
    {
     "name": "stdout",
     "output_type": "stream",
     "text": [
      "Validation loss decreased (0.553244 --> 0.553244).  Saving model ...\n",
      "Validation loss decreased (0.548386 --> 0.548386).  Saving model ...\n",
      "Validation loss decreased (0.543476 --> 0.543476).  Saving model ...\n",
      "Validation loss decreased (0.538459 --> 0.538459).  Saving model ...\n",
      "Validation loss decreased (0.533431 --> 0.533431).  Saving model ...\n",
      "Validation loss decreased (0.528271 --> 0.528271).  Saving model ...\n"
     ]
    },
    {
     "name": "stderr",
     "output_type": "stream",
     "text": [
      "  9%|███████▍                                                                         | 55/600 [00:02<00:20, 26.56it/s]"
     ]
    },
    {
     "name": "stdout",
     "output_type": "stream",
     "text": [
      "Validation loss decreased (0.522954 --> 0.522954).  Saving model ...\n",
      "Validation loss decreased (0.517463 --> 0.517463).  Saving model ...\n",
      "Validation loss decreased (0.511918 --> 0.511918).  Saving model ...\n",
      "Validation loss decreased (0.506514 --> 0.506514).  Saving model ...\n",
      "Validation loss decreased (0.501127 --> 0.501127).  Saving model ...\n",
      "Validation loss decreased (0.495694 --> 0.495694).  Saving model ...\n"
     ]
    },
    {
     "name": "stderr",
     "output_type": "stream",
     "text": [
      " 10%|████████▏                                                                        | 61/600 [00:02<00:20, 26.81it/s]"
     ]
    },
    {
     "name": "stdout",
     "output_type": "stream",
     "text": [
      "Validation loss decreased (0.490168 --> 0.490168).  Saving model ...\n",
      "Validation loss decreased (0.484426 --> 0.484426).  Saving model ...\n",
      "Validation loss decreased (0.478729 --> 0.478729).  Saving model ...\n",
      "Validation loss decreased (0.473124 --> 0.473124).  Saving model ...\n",
      "Validation loss decreased (0.467362 --> 0.467362).  Saving model ...\n",
      "Validation loss decreased (0.461469 --> 0.461469).  Saving model ...\n"
     ]
    },
    {
     "name": "stderr",
     "output_type": "stream",
     "text": [
      " 11%|█████████                                                                        | 67/600 [00:02<00:20, 26.30it/s]"
     ]
    },
    {
     "name": "stdout",
     "output_type": "stream",
     "text": [
      "Validation loss decreased (0.455534 --> 0.455534).  Saving model ...\n",
      "Validation loss decreased (0.449608 --> 0.449608).  Saving model ...\n",
      "Validation loss decreased (0.443803 --> 0.443803).  Saving model ...\n",
      "Validation loss decreased (0.438087 --> 0.438087).  Saving model ...\n",
      "Validation loss decreased (0.432409 --> 0.432409).  Saving model ...\n",
      "Validation loss decreased (0.426660 --> 0.426660).  Saving model ...\n"
     ]
    },
    {
     "name": "stderr",
     "output_type": "stream",
     "text": [
      " 12%|█████████▉                                                                       | 74/600 [00:02<00:18, 27.94it/s]"
     ]
    },
    {
     "name": "stdout",
     "output_type": "stream",
     "text": [
      "Validation loss decreased (0.420992 --> 0.420992).  Saving model ...\n",
      "Validation loss decreased (0.415236 --> 0.415236).  Saving model ...\n",
      "Validation loss decreased (0.409552 --> 0.409552).  Saving model ...\n",
      "Validation loss decreased (0.404024 --> 0.404024).  Saving model ...\n",
      "Validation loss decreased (0.398572 --> 0.398572).  Saving model ...\n",
      "Validation loss decreased (0.393335 --> 0.393335).  Saving model ...\n",
      "Validation loss decreased (0.388049 --> 0.388049).  Saving model ...\n"
     ]
    },
    {
     "name": "stderr",
     "output_type": "stream",
     "text": [
      " 13%|██████████▊                                                                      | 80/600 [00:02<00:18, 27.95it/s]"
     ]
    },
    {
     "name": "stdout",
     "output_type": "stream",
     "text": [
      "Validation loss decreased (0.382661 --> 0.382661).  Saving model ...\n",
      "Validation loss decreased (0.377416 --> 0.377416).  Saving model ...\n",
      "Validation loss decreased (0.372211 --> 0.372211).  Saving model ...\n",
      "Validation loss decreased (0.367049 --> 0.367049).  Saving model ...\n",
      "Validation loss decreased (0.361818 --> 0.361818).  Saving model ...\n",
      "Validation loss decreased (0.356566 --> 0.356566).  Saving model ...\n"
     ]
    },
    {
     "name": "stderr",
     "output_type": "stream",
     "text": [
      " 14%|███████████▌                                                                     | 86/600 [00:03<00:18, 27.28it/s]"
     ]
    },
    {
     "name": "stdout",
     "output_type": "stream",
     "text": [
      "Validation loss decreased (0.351474 --> 0.351474).  Saving model ...\n",
      "Validation loss decreased (0.346503 --> 0.346503).  Saving model ...\n",
      "Validation loss decreased (0.341748 --> 0.341748).  Saving model ...\n",
      "Validation loss decreased (0.337135 --> 0.337135).  Saving model ...\n",
      "Validation loss decreased (0.332549 --> 0.332549).  Saving model ...\n",
      "Validation loss decreased (0.327958 --> 0.327958).  Saving model ...\n"
     ]
    },
    {
     "name": "stderr",
     "output_type": "stream",
     "text": [
      " 15%|████████████▍                                                                    | 92/600 [00:03<00:19, 26.15it/s]"
     ]
    },
    {
     "name": "stdout",
     "output_type": "stream",
     "text": [
      "Validation loss decreased (0.323368 --> 0.323368).  Saving model ...\n",
      "Validation loss decreased (0.318781 --> 0.318781).  Saving model ...\n",
      "Validation loss decreased (0.314553 --> 0.314553).  Saving model ...\n",
      "Validation loss decreased (0.310406 --> 0.310406).  Saving model ...\n",
      "Validation loss decreased (0.306430 --> 0.306430).  Saving model ...\n",
      "Validation loss decreased (0.302201 --> 0.302201).  Saving model ...\n"
     ]
    },
    {
     "name": "stderr",
     "output_type": "stream",
     "text": [
      " 16%|████████████▊                                                                    | 95/600 [00:03<00:20, 24.09it/s]"
     ]
    },
    {
     "name": "stdout",
     "output_type": "stream",
     "text": [
      "Validation loss decreased (0.298185 --> 0.298185).  Saving model ...\n",
      "Validation loss decreased (0.294471 --> 0.294471).  Saving model ...\n",
      "Validation loss decreased (0.290731 --> 0.290731).  Saving model ...\n",
      "Validation loss decreased (0.287181 --> 0.287181).  Saving model ...\n",
      "Validation loss decreased (0.283669 --> 0.283669).  Saving model ...\n"
     ]
    },
    {
     "name": "stderr",
     "output_type": "stream",
     "text": [
      " 17%|█████████████▍                                                                  | 101/600 [00:03<00:20, 24.74it/s]"
     ]
    },
    {
     "name": "stdout",
     "output_type": "stream",
     "text": [
      "Validation loss decreased (0.280118 --> 0.280118).  Saving model ...\n",
      "Validation loss decreased (0.276686 --> 0.276686).  Saving model ...\n",
      "Validation loss decreased (0.273396 --> 0.273396).  Saving model ...\n",
      "Validation loss decreased (0.270129 --> 0.270129).  Saving model ...\n",
      "Validation loss decreased (0.266900 --> 0.266900).  Saving model ...\n",
      "Validation loss decreased (0.263755 --> 0.263755).  Saving model ...\n"
     ]
    },
    {
     "name": "stderr",
     "output_type": "stream",
     "text": [
      " 18%|██████████████▎                                                                 | 107/600 [00:04<00:19, 25.60it/s]"
     ]
    },
    {
     "name": "stdout",
     "output_type": "stream",
     "text": [
      "Validation loss decreased (0.260912 --> 0.260912).  Saving model ...\n",
      "Validation loss decreased (0.257998 --> 0.257998).  Saving model ...\n",
      "Validation loss decreased (0.255177 --> 0.255177).  Saving model ...\n",
      "Validation loss decreased (0.252179 --> 0.252179).  Saving model ...\n",
      "Validation loss decreased (0.249445 --> 0.249445).  Saving model ...\n",
      "Validation loss decreased (0.246734 --> 0.246734).  Saving model ...\n"
     ]
    },
    {
     "name": "stderr",
     "output_type": "stream",
     "text": [
      " 19%|███████████████                                                                 | 113/600 [00:04<00:18, 26.06it/s]"
     ]
    },
    {
     "name": "stdout",
     "output_type": "stream",
     "text": [
      "Validation loss decreased (0.244245 --> 0.244245).  Saving model ...\n",
      "Validation loss decreased (0.241700 --> 0.241700).  Saving model ...\n",
      "Validation loss decreased (0.239131 --> 0.239131).  Saving model ...\n",
      "Validation loss decreased (0.236728 --> 0.236728).  Saving model ...\n",
      "Validation loss decreased (0.234302 --> 0.234302).  Saving model ...\n",
      "Validation loss decreased (0.231990 --> 0.231990).  Saving model ...\n"
     ]
    },
    {
     "name": "stderr",
     "output_type": "stream",
     "text": [
      " 20%|███████████████▊                                                                | 119/600 [00:04<00:18, 26.17it/s]"
     ]
    },
    {
     "name": "stdout",
     "output_type": "stream",
     "text": [
      "Validation loss decreased (0.229699 --> 0.229699).  Saving model ...\n",
      "Validation loss decreased (0.227780 --> 0.227780).  Saving model ...\n",
      "Validation loss decreased (0.225873 --> 0.225873).  Saving model ...\n",
      "Validation loss decreased (0.223816 --> 0.223816).  Saving model ...\n",
      "Validation loss decreased (0.221581 --> 0.221581).  Saving model ...\n",
      "Validation loss decreased (0.219456 --> 0.219456).  Saving model ...\n"
     ]
    },
    {
     "name": "stderr",
     "output_type": "stream",
     "text": [
      " 21%|████████████████▋                                                               | 125/600 [00:04<00:17, 26.53it/s]"
     ]
    },
    {
     "name": "stdout",
     "output_type": "stream",
     "text": [
      "Validation loss decreased (0.217392 --> 0.217392).  Saving model ...\n",
      "Validation loss decreased (0.215500 --> 0.215500).  Saving model ...\n",
      "Validation loss decreased (0.213810 --> 0.213810).  Saving model ...\n",
      "Validation loss decreased (0.212060 --> 0.212060).  Saving model ...\n",
      "Validation loss decreased (0.210425 --> 0.210425).  Saving model ...\n",
      "Validation loss decreased (0.209019 --> 0.209019).  Saving model ...\n"
     ]
    },
    {
     "name": "stderr",
     "output_type": "stream",
     "text": [
      " 22%|█████████████████▍                                                              | 131/600 [00:04<00:17, 26.62it/s]"
     ]
    },
    {
     "name": "stdout",
     "output_type": "stream",
     "text": [
      "Validation loss decreased (0.207467 --> 0.207467).  Saving model ...\n",
      "Validation loss decreased (0.205738 --> 0.205738).  Saving model ...\n",
      "Validation loss decreased (0.204014 --> 0.204014).  Saving model ...\n",
      "Validation loss decreased (0.202522 --> 0.202522).  Saving model ...\n",
      "Validation loss decreased (0.201116 --> 0.201116).  Saving model ...\n",
      "Validation loss decreased (0.199824 --> 0.199824).  Saving model ...\n"
     ]
    },
    {
     "name": "stderr",
     "output_type": "stream",
     "text": [
      " 23%|██████████████████▎                                                             | 137/600 [00:05<00:16, 27.24it/s]"
     ]
    },
    {
     "name": "stdout",
     "output_type": "stream",
     "text": [
      "Validation loss decreased (0.198460 --> 0.198460).  Saving model ...\n",
      "Validation loss decreased (0.197062 --> 0.197062).  Saving model ...\n",
      "Validation loss decreased (0.195767 --> 0.195767).  Saving model ...\n",
      "Validation loss decreased (0.194380 --> 0.194380).  Saving model ...\n",
      "Validation loss decreased (0.193109 --> 0.193109).  Saving model ...\n",
      "Validation loss decreased (0.191881 --> 0.191881).  Saving model ...\n",
      "Validation loss decreased (0.190528 --> 0.190528).  Saving model ...\n"
     ]
    },
    {
     "name": "stderr",
     "output_type": "stream",
     "text": [
      " 24%|███████████████████▎                                                            | 145/600 [00:05<00:15, 29.17it/s]"
     ]
    },
    {
     "name": "stdout",
     "output_type": "stream",
     "text": [
      "Validation loss decreased (0.189043 --> 0.189043).  Saving model ...\n",
      "Validation loss decreased (0.187849 --> 0.187849).  Saving model ...\n",
      "Validation loss decreased (0.186623 --> 0.186623).  Saving model ...\n",
      "Validation loss decreased (0.185468 --> 0.185468).  Saving model ...\n",
      "Validation loss decreased (0.184332 --> 0.184332).  Saving model ...\n",
      "Validation loss decreased (0.182910 --> 0.182910).  Saving model ...\n",
      "Validation loss decreased (0.181828 --> 0.181828).  Saving model ...\n"
     ]
    },
    {
     "name": "stderr",
     "output_type": "stream",
     "text": [
      " 26%|████████████████████▍                                                           | 153/600 [00:05<00:14, 30.00it/s]"
     ]
    },
    {
     "name": "stdout",
     "output_type": "stream",
     "text": [
      "Validation loss decreased (0.180789 --> 0.180789).  Saving model ...\n",
      "Validation loss decreased (0.179858 --> 0.179858).  Saving model ...\n",
      "Validation loss decreased (0.179063 --> 0.179063).  Saving model ...\n",
      "Validation loss decreased (0.178159 --> 0.178159).  Saving model ...\n",
      "Validation loss decreased (0.177083 --> 0.177083).  Saving model ...\n",
      "Validation loss decreased (0.176200 --> 0.176200).  Saving model ...\n",
      "Validation loss decreased (0.175365 --> 0.175365).  Saving model ...\n"
     ]
    },
    {
     "name": "stderr",
     "output_type": "stream",
     "text": [
      " 27%|█████████████████████▍                                                          | 161/600 [00:05<00:14, 30.25it/s]"
     ]
    },
    {
     "name": "stdout",
     "output_type": "stream",
     "text": [
      "Validation loss decreased (0.174498 --> 0.174498).  Saving model ...\n",
      "Validation loss decreased (0.173729 --> 0.173729).  Saving model ...\n",
      "Validation loss decreased (0.172974 --> 0.172974).  Saving model ...\n",
      "Validation loss decreased (0.172262 --> 0.172262).  Saving model ...\n",
      "Validation loss decreased (0.171478 --> 0.171478).  Saving model ...\n",
      "Validation loss decreased (0.170769 --> 0.170769).  Saving model ...\n",
      "Validation loss decreased (0.170287 --> 0.170287).  Saving model ...\n"
     ]
    },
    {
     "name": "stderr",
     "output_type": "stream",
     "text": [
      " 28%|██████████████████████                                                          | 165/600 [00:06<00:14, 30.14it/s]"
     ]
    },
    {
     "name": "stdout",
     "output_type": "stream",
     "text": [
      "Validation loss decreased (0.169650 --> 0.169650).  Saving model ...\n",
      "Validation loss decreased (0.168979 --> 0.168979).  Saving model ...\n",
      "Validation loss decreased (0.168239 --> 0.168239).  Saving model ...\n",
      "Validation loss decreased (0.167631 --> 0.167631).  Saving model ...\n",
      "Validation loss decreased (0.167014 --> 0.167014).  Saving model ...\n",
      "Validation loss decreased (0.166342 --> 0.166342).  Saving model ...\n"
     ]
    },
    {
     "name": "stderr",
     "output_type": "stream",
     "text": [
      " 29%|██████████████████████▉                                                         | 172/600 [00:06<00:14, 29.68it/s]"
     ]
    },
    {
     "name": "stdout",
     "output_type": "stream",
     "text": [
      "Validation loss decreased (0.165569 --> 0.165569).  Saving model ...\n",
      "Validation loss decreased (0.164767 --> 0.164767).  Saving model ...\n",
      "Validation loss decreased (0.163871 --> 0.163871).  Saving model ...\n",
      "Validation loss decreased (0.162993 --> 0.162993).  Saving model ...\n",
      "Validation loss decreased (0.162574 --> 0.162574).  Saving model ...\n",
      "Validation loss decreased (0.162173 --> 0.162173).  Saving model ...\n",
      "Validation loss decreased (0.161625 --> 0.161625).  Saving model ...\n"
     ]
    },
    {
     "name": "stderr",
     "output_type": "stream",
     "text": [
      " 30%|███████████████████████▋                                                        | 178/600 [00:06<00:14, 28.36it/s]"
     ]
    },
    {
     "name": "stdout",
     "output_type": "stream",
     "text": [
      "Validation loss decreased (0.161150 --> 0.161150).  Saving model ...\n",
      "Validation loss decreased (0.160550 --> 0.160550).  Saving model ...\n",
      "Validation loss decreased (0.160232 --> 0.160232).  Saving model ...\n",
      "Validation loss decreased (0.159605 --> 0.159605).  Saving model ...\n",
      "Validation loss decreased (0.159027 --> 0.159027).  Saving model ...\n",
      "Validation loss decreased (0.158517 --> 0.158517).  Saving model ...\n"
     ]
    },
    {
     "name": "stderr",
     "output_type": "stream",
     "text": [
      " 31%|████████████████████████▌                                                       | 184/600 [00:06<00:16, 24.57it/s]"
     ]
    },
    {
     "name": "stdout",
     "output_type": "stream",
     "text": [
      "Validation loss decreased (0.157968 --> 0.157968).  Saving model ...\n",
      "Validation loss decreased (0.157394 --> 0.157394).  Saving model ...\n",
      "Validation loss decreased (0.156476 --> 0.156476).  Saving model ...\n",
      "Validation loss decreased (0.155752 --> 0.155752).  Saving model ...\n",
      "Validation loss decreased (0.155036 --> 0.155036).  Saving model ...\n"
     ]
    },
    {
     "name": "stderr",
     "output_type": "stream",
     "text": [
      " 32%|█████████████████████████▎                                                      | 190/600 [00:07<00:16, 25.16it/s]"
     ]
    },
    {
     "name": "stdout",
     "output_type": "stream",
     "text": [
      "Validation loss decreased (0.154338 --> 0.154338).  Saving model ...\n",
      "Validation loss decreased (0.153688 --> 0.153688).  Saving model ...\n",
      "Validation loss decreased (0.153260 --> 0.153260).  Saving model ...\n",
      "Validation loss decreased (0.152846 --> 0.152846).  Saving model ...\n",
      "Validation loss decreased (0.152624 --> 0.152624).  Saving model ...\n",
      "Validation loss decreased (0.152309 --> 0.152309).  Saving model ...\n"
     ]
    },
    {
     "name": "stderr",
     "output_type": "stream",
     "text": [
      " 33%|██████████████████████████▏                                                     | 196/600 [00:07<00:15, 25.59it/s]"
     ]
    },
    {
     "name": "stdout",
     "output_type": "stream",
     "text": [
      "Validation loss decreased (0.152045 --> 0.152045).  Saving model ...\n",
      "Validation loss decreased (0.151445 --> 0.151445).  Saving model ...\n",
      "Validation loss decreased (0.150924 --> 0.150924).  Saving model ...\n",
      "Validation loss decreased (0.150606 --> 0.150606).  Saving model ...\n",
      "Validation loss decreased (0.150165 --> 0.150165).  Saving model ...\n",
      "Validation loss decreased (0.149807 --> 0.149807).  Saving model ...\n"
     ]
    },
    {
     "name": "stderr",
     "output_type": "stream",
     "text": [
      " 34%|██████████████████████████▉                                                     | 202/600 [00:07<00:15, 26.45it/s]"
     ]
    },
    {
     "name": "stdout",
     "output_type": "stream",
     "text": [
      "Validation loss decreased (0.149363 --> 0.149363).  Saving model ...\n",
      "Validation loss decreased (0.148865 --> 0.148865).  Saving model ...\n",
      "Validation loss decreased (0.148281 --> 0.148281).  Saving model ...\n",
      "Validation loss decreased (0.147712 --> 0.147712).  Saving model ...\n",
      "Validation loss decreased (0.147187 --> 0.147187).  Saving model ...\n",
      "Validation loss decreased (0.146771 --> 0.146771).  Saving model ...\n"
     ]
    },
    {
     "name": "stderr",
     "output_type": "stream",
     "text": [
      " 35%|███████████████████████████▋                                                    | 208/600 [00:07<00:14, 26.75it/s]"
     ]
    },
    {
     "name": "stdout",
     "output_type": "stream",
     "text": [
      "Validation loss decreased (0.146432 --> 0.146432).  Saving model ...\n",
      "Validation loss decreased (0.145992 --> 0.145992).  Saving model ...\n",
      "Validation loss decreased (0.145612 --> 0.145612).  Saving model ...\n",
      "Validation loss decreased (0.145378 --> 0.145378).  Saving model ...\n",
      "Validation loss decreased (0.145118 --> 0.145118).  Saving model ...\n",
      "Validation loss decreased (0.144626 --> 0.144626).  Saving model ...\n"
     ]
    },
    {
     "name": "stderr",
     "output_type": "stream",
     "text": [
      " 36%|████████████████████████████▌                                                   | 214/600 [00:07<00:14, 27.07it/s]"
     ]
    },
    {
     "name": "stdout",
     "output_type": "stream",
     "text": [
      "Validation loss decreased (0.144119 --> 0.144119).  Saving model ...\n",
      "Validation loss decreased (0.143530 --> 0.143530).  Saving model ...\n",
      "Validation loss decreased (0.143106 --> 0.143106).  Saving model ...\n",
      "Validation loss decreased (0.142800 --> 0.142800).  Saving model ...\n",
      "Validation loss decreased (0.142399 --> 0.142399).  Saving model ...\n",
      "Validation loss decreased (0.142012 --> 0.142012).  Saving model ...\n"
     ]
    },
    {
     "name": "stderr",
     "output_type": "stream",
     "text": [
      " 37%|█████████████████████████████▎                                                  | 220/600 [00:08<00:13, 27.71it/s]"
     ]
    },
    {
     "name": "stdout",
     "output_type": "stream",
     "text": [
      "Validation loss decreased (0.141941 --> 0.141941).  Saving model ...\n",
      "Validation loss decreased (0.141786 --> 0.141786).  Saving model ...\n",
      "Validation loss decreased (0.141480 --> 0.141480).  Saving model ...\n",
      "Validation loss decreased (0.140889 --> 0.140889).  Saving model ...\n",
      "Validation loss decreased (0.140674 --> 0.140674).  Saving model ...\n"
     ]
    },
    {
     "name": "stderr",
     "output_type": "stream",
     "text": [
      " 38%|██████████████████████████████▌                                                 | 229/600 [00:08<00:13, 27.73it/s]"
     ]
    },
    {
     "name": "stdout",
     "output_type": "stream",
     "text": [
      "Validation loss decreased (0.140531 --> 0.140531).  Saving model ...\n",
      "Validation loss decreased (0.140090 --> 0.140090).  Saving model ...\n",
      "Validation loss decreased (0.139409 --> 0.139409).  Saving model ...\n",
      "Validation loss decreased (0.139065 --> 0.139065).  Saving model ...\n",
      "Validation loss decreased (0.138627 --> 0.138627).  Saving model ...\n",
      "Validation loss decreased (0.137875 --> 0.137875).  Saving model ...\n"
     ]
    },
    {
     "name": "stderr",
     "output_type": "stream",
     "text": [
      " 39%|███████████████████████████████▎                                                | 235/600 [00:08<00:13, 27.06it/s]"
     ]
    },
    {
     "name": "stdout",
     "output_type": "stream",
     "text": [
      "Validation loss decreased (0.137423 --> 0.137423).  Saving model ...\n",
      "Validation loss decreased (0.137298 --> 0.137298).  Saving model ...\n",
      "Validation loss decreased (0.137007 --> 0.137007).  Saving model ...\n",
      "Validation loss decreased (0.136805 --> 0.136805).  Saving model ...\n",
      "Validation loss decreased (0.136790 --> 0.136790).  Saving model ...\n"
     ]
    },
    {
     "name": "stderr",
     "output_type": "stream",
     "text": [
      " 40%|████████████████████████████████▎                                               | 242/600 [00:08<00:12, 28.49it/s]"
     ]
    },
    {
     "name": "stdout",
     "output_type": "stream",
     "text": [
      "Validation loss decreased (0.136579 --> 0.136579).  Saving model ...\n",
      "Validation loss decreased (0.136196 --> 0.136196).  Saving model ...\n",
      "Validation loss decreased (0.135936 --> 0.135936).  Saving model ...\n",
      "Validation loss decreased (0.135673 --> 0.135673).  Saving model ...\n",
      "Validation loss decreased (0.135565 --> 0.135565).  Saving model ...\n"
     ]
    },
    {
     "name": "stderr",
     "output_type": "stream",
     "text": [
      " 41%|█████████████████████████████████                                               | 248/600 [00:09<00:12, 28.42it/s]"
     ]
    },
    {
     "name": "stdout",
     "output_type": "stream",
     "text": [
      "Validation loss decreased (0.135364 --> 0.135364).  Saving model ...\n",
      "Validation loss decreased (0.134976 --> 0.134976).  Saving model ...\n",
      "Validation loss decreased (0.134697 --> 0.134697).  Saving model ...\n",
      "Validation loss decreased (0.134404 --> 0.134404).  Saving model ...\n",
      "Validation loss decreased (0.134065 --> 0.134065).  Saving model ...\n",
      "Validation loss decreased (0.133876 --> 0.133876).  Saving model ...\n"
     ]
    },
    {
     "name": "stderr",
     "output_type": "stream",
     "text": [
      " 43%|██████████████████████████████████▋                                             | 260/600 [00:09<00:11, 30.19it/s]"
     ]
    },
    {
     "name": "stdout",
     "output_type": "stream",
     "text": [
      "Validation loss decreased (0.133579 --> 0.133579).  Saving model ...\n",
      "Validation loss decreased (0.133094 --> 0.133094).  Saving model ...\n",
      "Validation loss decreased (0.132562 --> 0.132562).  Saving model ...\n",
      "Validation loss decreased (0.132057 --> 0.132057).  Saving model ...\n",
      "Validation loss decreased (0.131676 --> 0.131676).  Saving model ...\n",
      "Validation loss decreased (0.131673 --> 0.131673).  Saving model ...\n",
      "Validation loss decreased (0.131410 --> 0.131410).  Saving model ...\n"
     ]
    },
    {
     "name": "stderr",
     "output_type": "stream",
     "text": [
      " 45%|███████████████████████████████████▋                                            | 268/600 [00:09<00:10, 30.95it/s]"
     ]
    },
    {
     "name": "stdout",
     "output_type": "stream",
     "text": [
      "Validation loss decreased (0.130907 --> 0.130907).  Saving model ...\n",
      "Validation loss decreased (0.130701 --> 0.130701).  Saving model ...\n",
      "Validation loss decreased (0.130518 --> 0.130518).  Saving model ...\n"
     ]
    },
    {
     "name": "stderr",
     "output_type": "stream",
     "text": [
      " 45%|████████████████████████████████████▎                                           | 272/600 [00:09<00:10, 30.84it/s]"
     ]
    },
    {
     "name": "stdout",
     "output_type": "stream",
     "text": [
      "Validation loss decreased (0.130502 --> 0.130502).  Saving model ...\n",
      "Validation loss decreased (0.130425 --> 0.130425).  Saving model ...\n"
     ]
    },
    {
     "name": "stderr",
     "output_type": "stream",
     "text": [
      " 46%|█████████████████████████████████████▏                                          | 279/600 [00:10<00:11, 28.21it/s]"
     ]
    },
    {
     "name": "stdout",
     "output_type": "stream",
     "text": [
      "Validation loss decreased (0.130302 --> 0.130302).  Saving model ...\n",
      "Validation loss decreased (0.130135 --> 0.130135).  Saving model ...\n",
      "Validation loss decreased (0.129875 --> 0.129875).  Saving model ...\n",
      "Validation loss decreased (0.129719 --> 0.129719).  Saving model ...\n",
      "Validation loss decreased (0.129420 --> 0.129420).  Saving model ...\n"
     ]
    },
    {
     "name": "stderr",
     "output_type": "stream",
     "text": [
      " 48%|██████████████████████████████████████                                          | 285/600 [00:10<00:11, 28.07it/s]"
     ]
    },
    {
     "name": "stdout",
     "output_type": "stream",
     "text": [
      "Validation loss decreased (0.129200 --> 0.129200).  Saving model ...\n",
      "Validation loss decreased (0.128921 --> 0.128921).  Saving model ...\n",
      "Validation loss decreased (0.128865 --> 0.128865).  Saving model ...\n",
      "Validation loss decreased (0.128785 --> 0.128785).  Saving model ...\n",
      "Validation loss decreased (0.128783 --> 0.128783).  Saving model ...\n",
      "Validation loss decreased (0.128677 --> 0.128677).  Saving model ...\n"
     ]
    },
    {
     "name": "stderr",
     "output_type": "stream",
     "text": [
      " 50%|███████████████████████████████████████▌                                        | 297/600 [00:10<00:10, 30.02it/s]"
     ]
    },
    {
     "name": "stdout",
     "output_type": "stream",
     "text": [
      "Validation loss decreased (0.128527 --> 0.128527).  Saving model ...\n",
      "Validation loss decreased (0.128230 --> 0.128230).  Saving model ...\n",
      "Validation loss decreased (0.128064 --> 0.128064).  Saving model ...\n",
      "Validation loss decreased (0.127996 --> 0.127996).  Saving model ...\n",
      "Validation loss decreased (0.127626 --> 0.127626).  Saving model ...\n",
      "Validation loss decreased (0.127178 --> 0.127178).  Saving model ...\n"
     ]
    },
    {
     "name": "stderr",
     "output_type": "stream",
     "text": [
      " 50%|████████████████████████████████████████▍                                       | 303/600 [00:11<00:10, 28.54it/s]"
     ]
    },
    {
     "name": "stdout",
     "output_type": "stream",
     "text": [
      "Validation loss decreased (0.126877 --> 0.126877).  Saving model ...\n",
      "Validation loss decreased (0.126843 --> 0.126843).  Saving model ...\n",
      "Validation loss decreased (0.126837 --> 0.126837).  Saving model ...\n",
      "Validation loss decreased (0.126806 --> 0.126806).  Saving model ...\n",
      "Validation loss decreased (0.126750 --> 0.126750).  Saving model ...\n"
     ]
    },
    {
     "name": "stderr",
     "output_type": "stream",
     "text": [
      " 52%|█████████████████████████████████████████▊                                      | 314/600 [00:11<00:09, 30.11it/s]"
     ]
    },
    {
     "name": "stdout",
     "output_type": "stream",
     "text": [
      "Validation loss decreased (0.126692 --> 0.126692).  Saving model ...\n",
      "Validation loss decreased (0.126385 --> 0.126385).  Saving model ...\n",
      "Validation loss decreased (0.126230 --> 0.126230).  Saving model ...\n",
      "Validation loss decreased (0.126179 --> 0.126179).  Saving model ...\n"
     ]
    },
    {
     "name": "stderr",
     "output_type": "stream",
     "text": [
      " 54%|██████████████████████████████████████████▉                                     | 322/600 [00:11<00:09, 30.85it/s]"
     ]
    },
    {
     "name": "stdout",
     "output_type": "stream",
     "text": [
      "Validation loss decreased (0.126098 --> 0.126098).  Saving model ...\n",
      "Validation loss decreased (0.126048 --> 0.126048).  Saving model ...\n"
     ]
    },
    {
     "name": "stderr",
     "output_type": "stream",
     "text": [
      " 55%|████████████████████████████████████████████                                    | 330/600 [00:11<00:08, 30.86it/s]"
     ]
    },
    {
     "name": "stdout",
     "output_type": "stream",
     "text": [
      "Validation loss decreased (0.125623 --> 0.125623).  Saving model ...\n",
      "Validation loss decreased (0.125366 --> 0.125366).  Saving model ...\n",
      "Validation loss decreased (0.125239 --> 0.125239).  Saving model ...\n",
      "Validation loss decreased (0.125172 --> 0.125172).  Saving model ...\n"
     ]
    },
    {
     "name": "stderr",
     "output_type": "stream",
     "text": [
      " 58%|██████████████████████████████████████████████▋                                 | 350/600 [00:12<00:07, 31.90it/s]"
     ]
    },
    {
     "name": "stdout",
     "output_type": "stream",
     "text": [
      "Validation loss decreased (0.125121 --> 0.125121).  Saving model ...\n",
      "Validation loss decreased (0.125001 --> 0.125001).  Saving model ...\n",
      "Validation loss decreased (0.124943 --> 0.124943).  Saving model ...\n"
     ]
    },
    {
     "name": "stderr",
     "output_type": "stream",
     "text": [
      " 60%|███████████████████████████████████████████████▋                                | 358/600 [00:12<00:07, 31.24it/s]"
     ]
    },
    {
     "name": "stdout",
     "output_type": "stream",
     "text": [
      "Validation loss decreased (0.124898 --> 0.124898).  Saving model ...\n",
      "Validation loss decreased (0.124863 --> 0.124863).  Saving model ...\n",
      "Validation loss decreased (0.124817 --> 0.124817).  Saving model ...\n",
      "Validation loss decreased (0.124634 --> 0.124634).  Saving model ...\n"
     ]
    },
    {
     "name": "stderr",
     "output_type": "stream",
     "text": [
      " 60%|████████████████████████████████████████████████▎                               | 362/600 [00:12<00:07, 30.48it/s]"
     ]
    },
    {
     "name": "stdout",
     "output_type": "stream",
     "text": [
      "Validation loss decreased (0.124527 --> 0.124527).  Saving model ...\n",
      "Validation loss decreased (0.124444 --> 0.124444).  Saving model ...\n",
      "Validation loss decreased (0.124231 --> 0.124231).  Saving model ...\n",
      "Validation loss decreased (0.124104 --> 0.124104).  Saving model ...\n",
      "Validation loss decreased (0.124009 --> 0.124009).  Saving model ...\n",
      "Validation loss decreased (0.123984 --> 0.123984).  Saving model ...\n"
     ]
    },
    {
     "name": "stderr",
     "output_type": "stream",
     "text": [
      " 62%|█████████████████████████████████████████████████▎                              | 370/600 [00:13<00:08, 28.72it/s]"
     ]
    },
    {
     "name": "stdout",
     "output_type": "stream",
     "text": [
      "Validation loss decreased (0.123925 --> 0.123925).  Saving model ...\n",
      "Validation loss decreased (0.123905 --> 0.123905).  Saving model ...\n"
     ]
    },
    {
     "name": "stderr",
     "output_type": "stream",
     "text": [
      " 63%|██████████████████████████████████████████████████▍                             | 378/600 [00:13<00:07, 30.19it/s]"
     ]
    },
    {
     "name": "stdout",
     "output_type": "stream",
     "text": [
      "Validation loss decreased (0.123845 --> 0.123845).  Saving model ...\n",
      "Validation loss decreased (0.123744 --> 0.123744).  Saving model ...\n",
      "Validation loss decreased (0.123731 --> 0.123731).  Saving model ...\n",
      "Validation loss decreased (0.123696 --> 0.123696).  Saving model ...\n",
      "Validation loss decreased (0.123599 --> 0.123599).  Saving model ...\n"
     ]
    },
    {
     "name": "stderr",
     "output_type": "stream",
     "text": [
      " 64%|███████████████████████████████████████████████████▍                            | 386/600 [00:13<00:07, 30.34it/s]"
     ]
    },
    {
     "name": "stdout",
     "output_type": "stream",
     "text": [
      "Validation loss decreased (0.123555 --> 0.123555).  Saving model ...\n",
      "Validation loss decreased (0.123546 --> 0.123546).  Saving model ...\n"
     ]
    },
    {
     "name": "stderr",
     "output_type": "stream",
     "text": [
      " 69%|███████████████████████████████████████████████████████▏                        | 414/600 [00:14<00:05, 31.32it/s]"
     ]
    },
    {
     "name": "stdout",
     "output_type": "stream",
     "text": [
      "Validation loss decreased (0.123066 --> 0.123066).  Saving model ...\n",
      "Validation loss decreased (0.122770 --> 0.122770).  Saving model ...\n",
      "Validation loss decreased (0.122599 --> 0.122599).  Saving model ...\n",
      "Validation loss decreased (0.122497 --> 0.122497).  Saving model ...\n",
      "Validation loss decreased (0.122463 --> 0.122463).  Saving model ...\n"
     ]
    },
    {
     "name": "stderr",
     "output_type": "stream",
     "text": [
      " 70%|████████████████████████████████████████████████████████▎                       | 422/600 [00:14<00:05, 31.05it/s]"
     ]
    },
    {
     "name": "stdout",
     "output_type": "stream",
     "text": [
      "Validation loss decreased (0.122412 --> 0.122412).  Saving model ...\n",
      "Validation loss decreased (0.122222 --> 0.122222).  Saving model ...\n",
      "Validation loss decreased (0.121949 --> 0.121949).  Saving model ...\n",
      "Validation loss decreased (0.121861 --> 0.121861).  Saving model ...\n",
      "Validation loss decreased (0.121838 --> 0.121838).  Saving model ...\n"
     ]
    },
    {
     "name": "stderr",
     "output_type": "stream",
     "text": [
      " 74%|███████████████████████████████████████████████████████████▍                    | 446/600 [00:15<00:04, 31.88it/s]"
     ]
    },
    {
     "name": "stdout",
     "output_type": "stream",
     "text": [
      "Validation loss decreased (0.121795 --> 0.121795).  Saving model ...\n",
      "Validation loss decreased (0.121522 --> 0.121522).  Saving model ...\n",
      "Validation loss decreased (0.121304 --> 0.121304).  Saving model ...\n",
      "Validation loss decreased (0.121118 --> 0.121118).  Saving model ...\n",
      "Validation loss decreased (0.121029 --> 0.121029).  Saving model ...\n",
      "Validation loss decreased (0.121024 --> 0.121024).  Saving model ...\n"
     ]
    },
    {
     "name": "stderr",
     "output_type": "stream",
     "text": [
      " 79%|███████████████████████████████████████████████████████████████▏                | 474/600 [00:16<00:04, 31.39it/s]"
     ]
    },
    {
     "name": "stdout",
     "output_type": "stream",
     "text": [
      "Validation loss decreased (0.120857 --> 0.120857).  Saving model ...\n",
      "Validation loss decreased (0.120787 --> 0.120787).  Saving model ...\n",
      "Validation loss decreased (0.120734 --> 0.120734).  Saving model ...\n",
      "Validation loss decreased (0.120727 --> 0.120727).  Saving model ...\n"
     ]
    },
    {
     "name": "stderr",
     "output_type": "stream",
     "text": [
      " 82%|█████████████████████████████████████████████████████████████████▊              | 494/600 [00:17<00:03, 32.12it/s]"
     ]
    },
    {
     "name": "stdout",
     "output_type": "stream",
     "text": [
      "Validation loss decreased (0.120699 --> 0.120699).  Saving model ...\n",
      "Validation loss decreased (0.120589 --> 0.120589).  Saving model ...\n",
      "Validation loss decreased (0.120568 --> 0.120568).  Saving model ...\n"
     ]
    },
    {
     "name": "stderr",
     "output_type": "stream",
     "text": [
      " 86%|████████████████████████████████████████████████████████████████████▌           | 514/600 [00:17<00:02, 32.61it/s]"
     ]
    },
    {
     "name": "stdout",
     "output_type": "stream",
     "text": [
      "Validation loss decreased (0.120532 --> 0.120532).  Saving model ...\n"
     ]
    },
    {
     "name": "stderr",
     "output_type": "stream",
     "text": [
      " 87%|█████████████████████████████████████████████████████████████████████▌          | 522/600 [00:18<00:02, 31.45it/s]"
     ]
    },
    {
     "name": "stdout",
     "output_type": "stream",
     "text": [
      "Validation loss decreased (0.120517 --> 0.120517).  Saving model ...\n",
      "Validation loss decreased (0.120334 --> 0.120334).  Saving model ...\n",
      "Validation loss decreased (0.120194 --> 0.120194).  Saving model ...\n",
      "Validation loss decreased (0.120094 --> 0.120094).  Saving model ...\n",
      "Validation loss decreased (0.120025 --> 0.120025).  Saving model ...\n",
      "Validation loss decreased (0.119771 --> 0.119771).  Saving model ...\n",
      "Validation loss decreased (0.119617 --> 0.119617).  Saving model ...\n"
     ]
    },
    {
     "name": "stderr",
     "output_type": "stream",
     "text": [
      " 88%|██████████████████████████████████████████████████████████████████████▏         | 526/600 [00:18<00:02, 31.34it/s]"
     ]
    },
    {
     "name": "stdout",
     "output_type": "stream",
     "text": [
      "Validation loss decreased (0.119395 --> 0.119395).  Saving model ...\n",
      "Validation loss decreased (0.119294 --> 0.119294).  Saving model ...\n"
     ]
    },
    {
     "name": "stderr",
     "output_type": "stream",
     "text": [
      " 90%|███████████████████████████████████████████████████████████████████████▋        | 538/600 [00:18<00:01, 31.93it/s]"
     ]
    },
    {
     "name": "stdout",
     "output_type": "stream",
     "text": [
      "Validation loss decreased (0.119213 --> 0.119213).  Saving model ...\n",
      "Validation loss decreased (0.119100 --> 0.119100).  Saving model ...\n",
      "Validation loss decreased (0.118906 --> 0.118906).  Saving model ...\n",
      "Validation loss decreased (0.118815 --> 0.118815).  Saving model ...\n"
     ]
    },
    {
     "name": "stderr",
     "output_type": "stream",
     "text": [
      " 91%|████████████████████████████████████████████████████████████████████████▊       | 546/600 [00:18<00:01, 31.26it/s]"
     ]
    },
    {
     "name": "stdout",
     "output_type": "stream",
     "text": [
      "Validation loss decreased (0.118769 --> 0.118769).  Saving model ...\n"
     ]
    },
    {
     "name": "stderr",
     "output_type": "stream",
     "text": [
      " 93%|██████████████████████████████████████████████████████████████████████████▍     | 558/600 [00:19<00:01, 30.69it/s]"
     ]
    },
    {
     "name": "stdout",
     "output_type": "stream",
     "text": [
      "Validation loss decreased (0.118764 --> 0.118764).  Saving model ...\n",
      "Validation loss decreased (0.118754 --> 0.118754).  Saving model ...\n"
     ]
    },
    {
     "name": "stderr",
     "output_type": "stream",
     "text": [
      " 98%|██████████████████████████████████████████████████████████████████████████████▏ | 586/600 [00:20<00:00, 31.10it/s]"
     ]
    },
    {
     "name": "stdout",
     "output_type": "stream",
     "text": [
      "Validation loss decreased (0.118554 --> 0.118554).  Saving model ...\n",
      "Validation loss decreased (0.118402 --> 0.118402).  Saving model ...\n",
      "Validation loss decreased (0.118361 --> 0.118361).  Saving model ...\n",
      "Validation loss decreased (0.118296 --> 0.118296).  Saving model ...\n"
     ]
    },
    {
     "name": "stderr",
     "output_type": "stream",
     "text": [
      " 99%|███████████████████████████████████████████████████████████████████████████████▏| 594/600 [00:20<00:00, 31.17it/s]"
     ]
    },
    {
     "name": "stdout",
     "output_type": "stream",
     "text": [
      "Validation loss decreased (0.118218 --> 0.118218).  Saving model ...\n",
      "Validation loss decreased (0.118156 --> 0.118156).  Saving model ...\n",
      "Validation loss decreased (0.118138 --> 0.118138).  Saving model ...\n"
     ]
    },
    {
     "name": "stderr",
     "output_type": "stream",
     "text": [
      "100%|████████████████████████████████████████████████████████████████████████████████| 600/600 [00:20<00:00, 29.22it/s]\n",
      "  0%|▍                                                                                 | 2/400 [00:00<00:20, 19.28it/s]"
     ]
    },
    {
     "name": "stdout",
     "output_type": "stream",
     "text": [
      "Validation loss decreased (0.118062 --> 0.118062).  Saving model ...\n",
      "Validation loss decreased (0.673089 --> 0.673089).  Saving model ...\n",
      "Validation loss decreased (0.658856 --> 0.658856).  Saving model ...\n",
      "Validation loss decreased (0.642846 --> 0.642846).  Saving model ...\n"
     ]
    },
    {
     "name": "stderr",
     "output_type": "stream",
     "text": [
      "  2%|█▋                                                                                | 8/400 [00:00<00:20, 18.97it/s]"
     ]
    },
    {
     "name": "stdout",
     "output_type": "stream",
     "text": [
      "Validation loss decreased (0.624300 --> 0.624300).  Saving model ...\n",
      "Validation loss decreased (0.603158 --> 0.603158).  Saving model ...\n",
      "Validation loss decreased (0.578301 --> 0.578301).  Saving model ...\n",
      "Validation loss decreased (0.550729 --> 0.550729).  Saving model ...\n",
      "Validation loss decreased (0.520908 --> 0.520908).  Saving model ...\n"
     ]
    },
    {
     "name": "stderr",
     "output_type": "stream",
     "text": [
      "  3%|██▍                                                                              | 12/400 [00:00<00:20, 18.67it/s]"
     ]
    },
    {
     "name": "stdout",
     "output_type": "stream",
     "text": [
      "Validation loss decreased (0.488789 --> 0.488789).  Saving model ...\n",
      "Validation loss decreased (0.454862 --> 0.454862).  Saving model ...\n",
      "Validation loss decreased (0.421083 --> 0.421083).  Saving model ...\n",
      "Validation loss decreased (0.387819 --> 0.387819).  Saving model ...\n",
      "Validation loss decreased (0.356731 --> 0.356731).  Saving model ...\n"
     ]
    },
    {
     "name": "stderr",
     "output_type": "stream",
     "text": [
      "  4%|███▏                                                                             | 16/400 [00:00<00:21, 18.10it/s]"
     ]
    },
    {
     "name": "stdout",
     "output_type": "stream",
     "text": [
      "Validation loss decreased (0.328473 --> 0.328473).  Saving model ...\n",
      "Validation loss decreased (0.302534 --> 0.302534).  Saving model ...\n",
      "Validation loss decreased (0.280197 --> 0.280197).  Saving model ...\n",
      "Validation loss decreased (0.261362 --> 0.261362).  Saving model ...\n"
     ]
    },
    {
     "name": "stderr",
     "output_type": "stream",
     "text": [
      "  5%|████                                                                             | 20/400 [00:01<00:20, 18.17it/s]"
     ]
    },
    {
     "name": "stdout",
     "output_type": "stream",
     "text": [
      "Validation loss decreased (0.244257 --> 0.244257).  Saving model ...\n",
      "Validation loss decreased (0.228829 --> 0.228829).  Saving model ...\n",
      "Validation loss decreased (0.214523 --> 0.214523).  Saving model ...\n",
      "Validation loss decreased (0.201834 --> 0.201834).  Saving model ...\n"
     ]
    },
    {
     "name": "stderr",
     "output_type": "stream",
     "text": [
      "  6%|████▊                                                                            | 24/400 [00:01<00:20, 18.44it/s]"
     ]
    },
    {
     "name": "stdout",
     "output_type": "stream",
     "text": [
      "Validation loss decreased (0.190426 --> 0.190426).  Saving model ...\n",
      "Validation loss decreased (0.179712 --> 0.179712).  Saving model ...\n",
      "Validation loss decreased (0.171100 --> 0.171100).  Saving model ...\n",
      "Validation loss decreased (0.163820 --> 0.163820).  Saving model ...\n"
     ]
    },
    {
     "name": "stderr",
     "output_type": "stream",
     "text": [
      "  7%|█████▋                                                                           | 28/400 [00:01<00:20, 18.12it/s]"
     ]
    },
    {
     "name": "stdout",
     "output_type": "stream",
     "text": [
      "Validation loss decreased (0.156640 --> 0.156640).  Saving model ...\n",
      "Validation loss decreased (0.150916 --> 0.150916).  Saving model ...\n",
      "Validation loss decreased (0.146347 --> 0.146347).  Saving model ...\n",
      "Validation loss decreased (0.141682 --> 0.141682).  Saving model ...\n"
     ]
    },
    {
     "name": "stderr",
     "output_type": "stream",
     "text": [
      "  8%|██████▍                                                                          | 32/400 [00:01<00:20, 18.14it/s]"
     ]
    },
    {
     "name": "stdout",
     "output_type": "stream",
     "text": [
      "Validation loss decreased (0.137114 --> 0.137114).  Saving model ...\n",
      "Validation loss decreased (0.132937 --> 0.132937).  Saving model ...\n",
      "Validation loss decreased (0.129453 --> 0.129453).  Saving model ...\n",
      "Validation loss decreased (0.126505 --> 0.126505).  Saving model ...\n"
     ]
    },
    {
     "name": "stderr",
     "output_type": "stream",
     "text": [
      " 10%|███████▋                                                                         | 38/400 [00:02<00:19, 18.18it/s]"
     ]
    },
    {
     "name": "stdout",
     "output_type": "stream",
     "text": [
      "Validation loss decreased (0.123785 --> 0.123785).  Saving model ...\n",
      "Validation loss decreased (0.120783 --> 0.120783).  Saving model ...\n",
      "Validation loss decreased (0.118043 --> 0.118043).  Saving model ...\n",
      "Validation loss decreased (0.117270 --> 0.117270).  Saving model ...\n",
      "Validation loss decreased (0.113835 --> 0.113835).  Saving model ...\n"
     ]
    },
    {
     "name": "stderr",
     "output_type": "stream",
     "text": [
      " 10%|████████▌                                                                        | 42/400 [00:02<00:19, 18.54it/s]"
     ]
    },
    {
     "name": "stdout",
     "output_type": "stream",
     "text": [
      "Validation loss decreased (0.111821 --> 0.111821).  Saving model ...\n",
      "Validation loss decreased (0.109638 --> 0.109638).  Saving model ...\n",
      "Validation loss decreased (0.108387 --> 0.108387).  Saving model ...\n",
      "Validation loss decreased (0.106783 --> 0.106783).  Saving model ...\n",
      "Validation loss decreased (0.105264 --> 0.105264).  Saving model ...\n"
     ]
    },
    {
     "name": "stderr",
     "output_type": "stream",
     "text": [
      " 12%|█████████▎                                                                       | 46/400 [00:02<00:19, 18.33it/s]"
     ]
    },
    {
     "name": "stdout",
     "output_type": "stream",
     "text": [
      "Validation loss decreased (0.103400 --> 0.103400).  Saving model ...\n",
      "Validation loss decreased (0.102826 --> 0.102826).  Saving model ...\n",
      "Validation loss decreased (0.100843 --> 0.100843).  Saving model ...\n",
      "Validation loss decreased (0.099740 --> 0.099740).  Saving model ...\n"
     ]
    },
    {
     "name": "stderr",
     "output_type": "stream",
     "text": [
      " 12%|██████████▏                                                                      | 50/400 [00:02<00:18, 18.78it/s]"
     ]
    },
    {
     "name": "stdout",
     "output_type": "stream",
     "text": [
      "Validation loss decreased (0.098453 --> 0.098453).  Saving model ...\n",
      "Validation loss decreased (0.097233 --> 0.097233).  Saving model ...\n",
      "Validation loss decreased (0.095211 --> 0.095211).  Saving model ...\n"
     ]
    },
    {
     "name": "stderr",
     "output_type": "stream",
     "text": [
      " 14%|██████████▉                                                                      | 54/400 [00:02<00:18, 19.00it/s]"
     ]
    },
    {
     "name": "stdout",
     "output_type": "stream",
     "text": [
      "Validation loss decreased (0.093840 --> 0.093840).  Saving model ...\n",
      "Validation loss decreased (0.093171 --> 0.093171).  Saving model ...\n",
      "Validation loss decreased (0.092293 --> 0.092293).  Saving model ...\n",
      "Validation loss decreased (0.091577 --> 0.091577).  Saving model ...\n"
     ]
    },
    {
     "name": "stderr",
     "output_type": "stream",
     "text": [
      " 14%|███████████▋                                                                     | 58/400 [00:03<00:18, 18.66it/s]"
     ]
    },
    {
     "name": "stdout",
     "output_type": "stream",
     "text": [
      "Validation loss decreased (0.090927 --> 0.090927).  Saving model ...\n",
      "Validation loss decreased (0.090231 --> 0.090231).  Saving model ...\n",
      "Validation loss decreased (0.089577 --> 0.089577).  Saving model ...\n",
      "Validation loss decreased (0.088421 --> 0.088421).  Saving model ...\n"
     ]
    },
    {
     "name": "stderr",
     "output_type": "stream",
     "text": [
      " 16%|█████████████▏                                                                   | 65/400 [00:03<00:17, 18.90it/s]"
     ]
    },
    {
     "name": "stdout",
     "output_type": "stream",
     "text": [
      "Validation loss decreased (0.087257 --> 0.087257).  Saving model ...\n",
      "Validation loss decreased (0.087182 --> 0.087182).  Saving model ...\n",
      "Validation loss decreased (0.086006 --> 0.086006).  Saving model ...\n",
      "Validation loss decreased (0.085585 --> 0.085585).  Saving model ...\n"
     ]
    },
    {
     "name": "stderr",
     "output_type": "stream",
     "text": [
      " 17%|█████████████▉                                                                   | 69/400 [00:03<00:17, 18.86it/s]"
     ]
    },
    {
     "name": "stdout",
     "output_type": "stream",
     "text": [
      "Validation loss decreased (0.085367 --> 0.085367).  Saving model ...\n",
      "Validation loss decreased (0.084660 --> 0.084660).  Saving model ...\n",
      "Validation loss decreased (0.084373 --> 0.084373).  Saving model ...\n",
      "Validation loss decreased (0.083946 --> 0.083946).  Saving model ...\n"
     ]
    },
    {
     "name": "stderr",
     "output_type": "stream",
     "text": [
      " 18%|██████████████▉                                                                  | 74/400 [00:03<00:16, 19.51it/s]"
     ]
    },
    {
     "name": "stdout",
     "output_type": "stream",
     "text": [
      "Validation loss decreased (0.083172 --> 0.083172).  Saving model ...\n",
      "Validation loss decreased (0.082570 --> 0.082570).  Saving model ...\n",
      "Validation loss decreased (0.082248 --> 0.082248).  Saving model ...\n"
     ]
    },
    {
     "name": "stderr",
     "output_type": "stream",
     "text": [
      " 20%|███████████████▊                                                                 | 78/400 [00:04<00:16, 19.41it/s]"
     ]
    },
    {
     "name": "stdout",
     "output_type": "stream",
     "text": [
      "Validation loss decreased (0.081960 --> 0.081960).  Saving model ...\n",
      "Validation loss decreased (0.081557 --> 0.081557).  Saving model ...\n",
      "Validation loss decreased (0.081300 --> 0.081300).  Saving model ...\n",
      "Validation loss decreased (0.080995 --> 0.080995).  Saving model ...\n"
     ]
    },
    {
     "name": "stderr",
     "output_type": "stream",
     "text": [
      " 21%|█████████████████▏                                                               | 85/400 [00:04<00:16, 19.55it/s]"
     ]
    },
    {
     "name": "stdout",
     "output_type": "stream",
     "text": [
      "Validation loss decreased (0.080648 --> 0.080648).  Saving model ...\n",
      "Validation loss decreased (0.079861 --> 0.079861).  Saving model ...\n",
      "Validation loss decreased (0.079726 --> 0.079726).  Saving model ...\n"
     ]
    },
    {
     "name": "stderr",
     "output_type": "stream",
     "text": [
      " 22%|██████████████████▏                                                              | 90/400 [00:04<00:15, 19.64it/s]"
     ]
    },
    {
     "name": "stdout",
     "output_type": "stream",
     "text": [
      "Validation loss decreased (0.079630 --> 0.079630).  Saving model ...\n",
      "Validation loss decreased (0.079234 --> 0.079234).  Saving model ...\n",
      "Validation loss decreased (0.079118 --> 0.079118).  Saving model ...\n"
     ]
    },
    {
     "name": "stderr",
     "output_type": "stream",
     "text": [
      " 24%|███████████████████                                                              | 94/400 [00:04<00:15, 19.20it/s]"
     ]
    },
    {
     "name": "stdout",
     "output_type": "stream",
     "text": [
      "Validation loss decreased (0.078990 --> 0.078990).  Saving model ...\n",
      "Validation loss decreased (0.078854 --> 0.078854).  Saving model ...\n",
      "Validation loss decreased (0.078564 --> 0.078564).  Saving model ...\n"
     ]
    },
    {
     "name": "stderr",
     "output_type": "stream",
     "text": [
      " 24%|███████████████████▊                                                             | 98/400 [00:05<00:15, 19.07it/s]"
     ]
    },
    {
     "name": "stdout",
     "output_type": "stream",
     "text": [
      "Validation loss decreased (0.077910 --> 0.077910).  Saving model ...\n"
     ]
    },
    {
     "name": "stderr",
     "output_type": "stream",
     "text": [
      " 26%|████████████████████▍                                                           | 102/400 [00:05<00:15, 19.25it/s]"
     ]
    },
    {
     "name": "stdout",
     "output_type": "stream",
     "text": [
      "Validation loss decreased (0.077853 --> 0.077853).  Saving model ...\n",
      "Validation loss decreased (0.077848 --> 0.077848).  Saving model ...\n"
     ]
    },
    {
     "name": "stderr",
     "output_type": "stream",
     "text": [
      " 26%|█████████████████████▏                                                          | 106/400 [00:05<00:15, 19.16it/s]"
     ]
    },
    {
     "name": "stdout",
     "output_type": "stream",
     "text": [
      "Validation loss decreased (0.077471 --> 0.077471).  Saving model ...\n"
     ]
    },
    {
     "name": "stderr",
     "output_type": "stream",
     "text": [
      " 28%|██████████████████████▊                                                         | 114/400 [00:06<00:14, 19.61it/s]"
     ]
    },
    {
     "name": "stdout",
     "output_type": "stream",
     "text": [
      "Validation loss decreased (0.076723 --> 0.076723).  Saving model ...\n"
     ]
    },
    {
     "name": "stderr",
     "output_type": "stream",
     "text": [
      " 32%|██████████████████████████                                                      | 130/400 [00:06<00:14, 19.18it/s]"
     ]
    },
    {
     "name": "stdout",
     "output_type": "stream",
     "text": [
      "Validation loss decreased (0.076353 --> 0.076353).  Saving model ...\n",
      "Validation loss decreased (0.076192 --> 0.076192).  Saving model ...\n"
     ]
    },
    {
     "name": "stderr",
     "output_type": "stream",
     "text": [
      "100%|████████████████████████████████████████████████████████████████████████████████| 400/400 [00:20<00:00, 19.80it/s]\n",
      "  2%|█▏                                                                                | 6/400 [00:00<00:15, 25.29it/s]"
     ]
    },
    {
     "name": "stdout",
     "output_type": "stream",
     "text": [
      "Validation loss decreased (0.689007 --> 0.689007).  Saving model ...\n",
      "Validation loss decreased (0.680898 --> 0.680898).  Saving model ...\n",
      "Validation loss decreased (0.671904 --> 0.671904).  Saving model ...\n",
      "Validation loss decreased (0.661297 --> 0.661297).  Saving model ...\n",
      "Validation loss decreased (0.650223 --> 0.650223).  Saving model ...\n",
      "Validation loss decreased (0.638612 --> 0.638612).  Saving model ...\n"
     ]
    },
    {
     "name": "stderr",
     "output_type": "stream",
     "text": [
      "  3%|██▍                                                                              | 12/400 [00:00<00:15, 24.83it/s]"
     ]
    },
    {
     "name": "stdout",
     "output_type": "stream",
     "text": [
      "Validation loss decreased (0.625981 --> 0.625981).  Saving model ...\n",
      "Validation loss decreased (0.612156 --> 0.612156).  Saving model ...\n",
      "Validation loss decreased (0.596822 --> 0.596822).  Saving model ...\n",
      "Validation loss decreased (0.580093 --> 0.580093).  Saving model ...\n",
      "Validation loss decreased (0.561844 --> 0.561844).  Saving model ...\n",
      "Validation loss decreased (0.541453 --> 0.541453).  Saving model ...\n"
     ]
    },
    {
     "name": "stderr",
     "output_type": "stream",
     "text": [
      "  4%|███▋                                                                             | 18/400 [00:00<00:15, 25.22it/s]"
     ]
    },
    {
     "name": "stdout",
     "output_type": "stream",
     "text": [
      "Validation loss decreased (0.518919 --> 0.518919).  Saving model ...\n",
      "Validation loss decreased (0.494538 --> 0.494538).  Saving model ...\n",
      "Validation loss decreased (0.468987 --> 0.468987).  Saving model ...\n",
      "Validation loss decreased (0.441641 --> 0.441641).  Saving model ...\n",
      "Validation loss decreased (0.414232 --> 0.414232).  Saving model ...\n",
      "Validation loss decreased (0.386572 --> 0.386572).  Saving model ...\n"
     ]
    },
    {
     "name": "stderr",
     "output_type": "stream",
     "text": [
      "  6%|████▊                                                                            | 24/400 [00:00<00:14, 25.10it/s]"
     ]
    },
    {
     "name": "stdout",
     "output_type": "stream",
     "text": [
      "Validation loss decreased (0.358193 --> 0.358193).  Saving model ...\n",
      "Validation loss decreased (0.330165 --> 0.330165).  Saving model ...\n",
      "Validation loss decreased (0.303044 --> 0.303044).  Saving model ...\n",
      "Validation loss decreased (0.277816 --> 0.277816).  Saving model ...\n",
      "Validation loss decreased (0.254631 --> 0.254631).  Saving model ...\n",
      "Validation loss decreased (0.233600 --> 0.233600).  Saving model ...\n"
     ]
    },
    {
     "name": "stderr",
     "output_type": "stream",
     "text": [
      "  8%|██████                                                                           | 30/400 [00:01<00:14, 25.43it/s]"
     ]
    },
    {
     "name": "stdout",
     "output_type": "stream",
     "text": [
      "Validation loss decreased (0.214517 --> 0.214517).  Saving model ...\n",
      "Validation loss decreased (0.198544 --> 0.198544).  Saving model ...\n",
      "Validation loss decreased (0.183955 --> 0.183955).  Saving model ...\n",
      "Validation loss decreased (0.171823 --> 0.171823).  Saving model ...\n",
      "Validation loss decreased (0.160739 --> 0.160739).  Saving model ...\n",
      "Validation loss decreased (0.151405 --> 0.151405).  Saving model ...\n"
     ]
    },
    {
     "name": "stderr",
     "output_type": "stream",
     "text": [
      "  9%|███████▎                                                                         | 36/400 [00:01<00:14, 25.37it/s]"
     ]
    },
    {
     "name": "stdout",
     "output_type": "stream",
     "text": [
      "Validation loss decreased (0.143220 --> 0.143220).  Saving model ...\n",
      "Validation loss decreased (0.135785 --> 0.135785).  Saving model ...\n",
      "Validation loss decreased (0.129780 --> 0.129780).  Saving model ...\n",
      "Validation loss decreased (0.125215 --> 0.125215).  Saving model ...\n",
      "Validation loss decreased (0.120242 --> 0.120242).  Saving model ...\n",
      "Validation loss decreased (0.115505 --> 0.115505).  Saving model ...\n"
     ]
    },
    {
     "name": "stderr",
     "output_type": "stream",
     "text": [
      " 10%|████████▌                                                                        | 42/400 [00:01<00:14, 25.53it/s]"
     ]
    },
    {
     "name": "stdout",
     "output_type": "stream",
     "text": [
      "Validation loss decreased (0.111221 --> 0.111221).  Saving model ...\n",
      "Validation loss decreased (0.107196 --> 0.107196).  Saving model ...\n",
      "Validation loss decreased (0.104559 --> 0.104559).  Saving model ...\n",
      "Validation loss decreased (0.102157 --> 0.102157).  Saving model ...\n",
      "Validation loss decreased (0.098647 --> 0.098647).  Saving model ...\n",
      "Validation loss decreased (0.096277 --> 0.096277).  Saving model ...\n"
     ]
    },
    {
     "name": "stderr",
     "output_type": "stream",
     "text": [
      " 12%|█████████▋                                                                       | 48/400 [00:01<00:13, 25.54it/s]"
     ]
    },
    {
     "name": "stdout",
     "output_type": "stream",
     "text": [
      "Validation loss decreased (0.094215 --> 0.094215).  Saving model ...\n",
      "Validation loss decreased (0.092189 --> 0.092189).  Saving model ...\n",
      "Validation loss decreased (0.090325 --> 0.090325).  Saving model ...\n",
      "Validation loss decreased (0.088846 --> 0.088846).  Saving model ...\n",
      "Validation loss decreased (0.087130 --> 0.087130).  Saving model ...\n",
      "Validation loss decreased (0.085380 --> 0.085380).  Saving model ...\n"
     ]
    },
    {
     "name": "stderr",
     "output_type": "stream",
     "text": [
      " 13%|██████████▎                                                                      | 51/400 [00:02<00:14, 24.91it/s]"
     ]
    },
    {
     "name": "stdout",
     "output_type": "stream",
     "text": [
      "Validation loss decreased (0.084942 --> 0.084942).  Saving model ...\n",
      "Validation loss decreased (0.084134 --> 0.084134).  Saving model ...\n",
      "Validation loss decreased (0.081585 --> 0.081585).  Saving model ...\n",
      "Validation loss decreased (0.080447 --> 0.080447).  Saving model ...\n",
      "Validation loss decreased (0.079874 --> 0.079874).  Saving model ...\n"
     ]
    },
    {
     "name": "stderr",
     "output_type": "stream",
     "text": [
      " 14%|███████████▌                                                                     | 57/400 [00:02<00:13, 24.88it/s]"
     ]
    },
    {
     "name": "stdout",
     "output_type": "stream",
     "text": [
      "Validation loss decreased (0.079402 --> 0.079402).  Saving model ...\n",
      "Validation loss decreased (0.077216 --> 0.077216).  Saving model ...\n",
      "Validation loss decreased (0.076004 --> 0.076004).  Saving model ...\n",
      "Validation loss decreased (0.075208 --> 0.075208).  Saving model ...\n",
      "Validation loss decreased (0.075143 --> 0.075143).  Saving model ...\n",
      "Validation loss decreased (0.074201 --> 0.074201).  Saving model ...\n"
     ]
    },
    {
     "name": "stderr",
     "output_type": "stream",
     "text": [
      " 16%|████████████▊                                                                    | 63/400 [00:02<00:13, 25.48it/s]"
     ]
    },
    {
     "name": "stdout",
     "output_type": "stream",
     "text": [
      "Validation loss decreased (0.074014 --> 0.074014).  Saving model ...\n",
      "Validation loss decreased (0.072538 --> 0.072538).  Saving model ...\n",
      "Validation loss decreased (0.071588 --> 0.071588).  Saving model ...\n",
      "Validation loss decreased (0.071241 --> 0.071241).  Saving model ...\n",
      "Validation loss decreased (0.070655 --> 0.070655).  Saving model ...\n",
      "Validation loss decreased (0.070041 --> 0.070041).  Saving model ...\n"
     ]
    },
    {
     "name": "stderr",
     "output_type": "stream",
     "text": [
      " 17%|█████████████▉                                                                   | 69/400 [00:02<00:12, 26.00it/s]"
     ]
    },
    {
     "name": "stdout",
     "output_type": "stream",
     "text": [
      "Validation loss decreased (0.068996 --> 0.068996).  Saving model ...\n",
      "Validation loss decreased (0.068333 --> 0.068333).  Saving model ...\n",
      "Validation loss decreased (0.067866 --> 0.067866).  Saving model ...\n",
      "Validation loss decreased (0.067192 --> 0.067192).  Saving model ...\n",
      "Validation loss decreased (0.066751 --> 0.066751).  Saving model ...\n",
      "Validation loss decreased (0.066290 --> 0.066290).  Saving model ...\n"
     ]
    },
    {
     "name": "stderr",
     "output_type": "stream",
     "text": [
      " 20%|███████████████▊                                                                 | 78/400 [00:03<00:12, 26.22it/s]"
     ]
    },
    {
     "name": "stdout",
     "output_type": "stream",
     "text": [
      "Validation loss decreased (0.065713 --> 0.065713).  Saving model ...\n",
      "Validation loss decreased (0.064692 --> 0.064692).  Saving model ...\n",
      "Validation loss decreased (0.064321 --> 0.064321).  Saving model ...\n",
      "Validation loss decreased (0.063597 --> 0.063597).  Saving model ...\n",
      "Validation loss decreased (0.063079 --> 0.063079).  Saving model ...\n"
     ]
    },
    {
     "name": "stderr",
     "output_type": "stream",
     "text": [
      " 21%|█████████████████                                                                | 84/400 [00:03<00:12, 25.20it/s]"
     ]
    },
    {
     "name": "stdout",
     "output_type": "stream",
     "text": [
      "Validation loss decreased (0.062777 --> 0.062777).  Saving model ...\n",
      "Validation loss decreased (0.062101 --> 0.062101).  Saving model ...\n",
      "Validation loss decreased (0.061746 --> 0.061746).  Saving model ...\n",
      "Validation loss decreased (0.061473 --> 0.061473).  Saving model ...\n",
      "Validation loss decreased (0.060881 --> 0.060881).  Saving model ...\n",
      "Validation loss decreased (0.060504 --> 0.060504).  Saving model ...\n"
     ]
    },
    {
     "name": "stderr",
     "output_type": "stream",
     "text": [
      " 22%|██████████████████▏                                                              | 90/400 [00:03<00:12, 25.01it/s]"
     ]
    },
    {
     "name": "stdout",
     "output_type": "stream",
     "text": [
      "Validation loss decreased (0.060097 --> 0.060097).  Saving model ...\n",
      "Validation loss decreased (0.059629 --> 0.059629).  Saving model ...\n",
      "Validation loss decreased (0.059291 --> 0.059291).  Saving model ...\n",
      "Validation loss decreased (0.058949 --> 0.058949).  Saving model ...\n",
      "Validation loss decreased (0.058344 --> 0.058344).  Saving model ...\n",
      "Validation loss decreased (0.058030 --> 0.058030).  Saving model ...\n"
     ]
    },
    {
     "name": "stderr",
     "output_type": "stream",
     "text": [
      " 24%|███████████████████▍                                                             | 96/400 [00:03<00:12, 24.68it/s]"
     ]
    },
    {
     "name": "stdout",
     "output_type": "stream",
     "text": [
      "Validation loss decreased (0.057908 --> 0.057908).  Saving model ...\n",
      "Validation loss decreased (0.057803 --> 0.057803).  Saving model ...\n",
      "Validation loss decreased (0.056771 --> 0.056771).  Saving model ...\n",
      "Validation loss decreased (0.056564 --> 0.056564).  Saving model ...\n",
      "Validation loss decreased (0.056480 --> 0.056480).  Saving model ...\n"
     ]
    },
    {
     "name": "stderr",
     "output_type": "stream",
     "text": [
      " 26%|████████████████████▍                                                           | 102/400 [00:04<00:11, 25.29it/s]"
     ]
    },
    {
     "name": "stdout",
     "output_type": "stream",
     "text": [
      "Validation loss decreased (0.056391 --> 0.056391).  Saving model ...\n",
      "Validation loss decreased (0.055921 --> 0.055921).  Saving model ...\n",
      "Validation loss decreased (0.054914 --> 0.054914).  Saving model ...\n",
      "Validation loss decreased (0.054675 --> 0.054675).  Saving model ...\n",
      "Validation loss decreased (0.054213 --> 0.054213).  Saving model ...\n"
     ]
    },
    {
     "name": "stderr",
     "output_type": "stream",
     "text": [
      " 27%|█████████████████████▌                                                          | 108/400 [00:04<00:11, 25.82it/s]"
     ]
    },
    {
     "name": "stdout",
     "output_type": "stream",
     "text": [
      "Validation loss decreased (0.053534 --> 0.053534).  Saving model ...\n",
      "Validation loss decreased (0.053075 --> 0.053075).  Saving model ...\n",
      "Validation loss decreased (0.053007 --> 0.053007).  Saving model ...\n",
      "Validation loss decreased (0.051958 --> 0.051958).  Saving model ...\n",
      "Validation loss decreased (0.051776 --> 0.051776).  Saving model ...\n"
     ]
    },
    {
     "name": "stderr",
     "output_type": "stream",
     "text": [
      " 28%|██████████████████████▊                                                         | 114/400 [00:04<00:11, 25.96it/s]"
     ]
    },
    {
     "name": "stdout",
     "output_type": "stream",
     "text": [
      "Validation loss decreased (0.051511 --> 0.051511).  Saving model ...\n",
      "Validation loss decreased (0.051251 --> 0.051251).  Saving model ...\n",
      "Validation loss decreased (0.050762 --> 0.050762).  Saving model ...\n",
      "Validation loss decreased (0.050571 --> 0.050571).  Saving model ...\n",
      "Validation loss decreased (0.050248 --> 0.050248).  Saving model ...\n"
     ]
    },
    {
     "name": "stderr",
     "output_type": "stream",
     "text": [
      " 30%|████████████████████████                                                        | 120/400 [00:04<00:11, 24.46it/s]"
     ]
    },
    {
     "name": "stdout",
     "output_type": "stream",
     "text": [
      "Validation loss decreased (0.049954 --> 0.049954).  Saving model ...\n",
      "Validation loss decreased (0.049609 --> 0.049609).  Saving model ...\n",
      "Validation loss decreased (0.049362 --> 0.049362).  Saving model ...\n",
      "Validation loss decreased (0.048813 --> 0.048813).  Saving model ...\n"
     ]
    },
    {
     "name": "stderr",
     "output_type": "stream",
     "text": [
      " 31%|████████████████████████▌                                                       | 123/400 [00:04<00:11, 24.52it/s]"
     ]
    },
    {
     "name": "stdout",
     "output_type": "stream",
     "text": [
      "Validation loss decreased (0.048500 --> 0.048500).  Saving model ...\n",
      "Validation loss decreased (0.048251 --> 0.048251).  Saving model ...\n",
      "Validation loss decreased (0.048022 --> 0.048022).  Saving model ...\n",
      "Validation loss decreased (0.047463 --> 0.047463).  Saving model ...\n",
      "Validation loss decreased (0.047340 --> 0.047340).  Saving model ...\n"
     ]
    },
    {
     "name": "stderr",
     "output_type": "stream",
     "text": [
      " 32%|█████████████████████████▊                                                      | 129/400 [00:05<00:10, 25.15it/s]"
     ]
    },
    {
     "name": "stdout",
     "output_type": "stream",
     "text": [
      "Validation loss decreased (0.046952 --> 0.046952).  Saving model ...\n",
      "Validation loss decreased (0.046296 --> 0.046296).  Saving model ...\n",
      "Validation loss decreased (0.046051 --> 0.046051).  Saving model ...\n"
     ]
    },
    {
     "name": "stderr",
     "output_type": "stream",
     "text": [
      " 34%|███████████████████████████                                                     | 135/400 [00:05<00:10, 25.64it/s]"
     ]
    },
    {
     "name": "stdout",
     "output_type": "stream",
     "text": [
      "Validation loss decreased (0.045407 --> 0.045407).  Saving model ...\n",
      "Validation loss decreased (0.045115 --> 0.045115).  Saving model ...\n",
      "Validation loss decreased (0.044854 --> 0.044854).  Saving model ...\n",
      "Validation loss decreased (0.044656 --> 0.044656).  Saving model ...\n"
     ]
    },
    {
     "name": "stderr",
     "output_type": "stream",
     "text": [
      " 35%|████████████████████████████▏                                                   | 141/400 [00:05<00:10, 25.31it/s]"
     ]
    },
    {
     "name": "stdout",
     "output_type": "stream",
     "text": [
      "Validation loss decreased (0.044314 --> 0.044314).  Saving model ...\n",
      "Validation loss decreased (0.043689 --> 0.043689).  Saving model ...\n",
      "Validation loss decreased (0.043234 --> 0.043234).  Saving model ...\n"
     ]
    },
    {
     "name": "stderr",
     "output_type": "stream",
     "text": [
      " 38%|██████████████████████████████                                                  | 150/400 [00:05<00:09, 25.49it/s]"
     ]
    },
    {
     "name": "stdout",
     "output_type": "stream",
     "text": [
      "Validation loss decreased (0.043060 --> 0.043060).  Saving model ...\n",
      "Validation loss decreased (0.042556 --> 0.042556).  Saving model ...\n",
      "Validation loss decreased (0.042395 --> 0.042395).  Saving model ...\n",
      "Validation loss decreased (0.042087 --> 0.042087).  Saving model ...\n",
      "Validation loss decreased (0.041888 --> 0.041888).  Saving model ...\n",
      "Validation loss decreased (0.041387 --> 0.041387).  Saving model ...\n"
     ]
    },
    {
     "name": "stderr",
     "output_type": "stream",
     "text": [
      " 39%|███████████████████████████████▏                                                | 156/400 [00:06<00:09, 25.87it/s]"
     ]
    },
    {
     "name": "stdout",
     "output_type": "stream",
     "text": [
      "Validation loss decreased (0.041074 --> 0.041074).  Saving model ...\n",
      "Validation loss decreased (0.040408 --> 0.040408).  Saving model ...\n",
      "Validation loss decreased (0.040214 --> 0.040214).  Saving model ...\n",
      "Validation loss decreased (0.040172 --> 0.040172).  Saving model ...\n",
      "Validation loss decreased (0.039897 --> 0.039897).  Saving model ...\n"
     ]
    },
    {
     "name": "stderr",
     "output_type": "stream",
     "text": [
      " 41%|█████████████████████████████████                                               | 165/400 [00:06<00:08, 26.40it/s]"
     ]
    },
    {
     "name": "stdout",
     "output_type": "stream",
     "text": [
      "Validation loss decreased (0.039708 --> 0.039708).  Saving model ...\n",
      "Validation loss decreased (0.039308 --> 0.039308).  Saving model ...\n",
      "Validation loss decreased (0.039148 --> 0.039148).  Saving model ...\n",
      "Validation loss decreased (0.038690 --> 0.038690).  Saving model ...\n"
     ]
    },
    {
     "name": "stderr",
     "output_type": "stream",
     "text": [
      " 42%|█████████████████████████████████▌                                              | 168/400 [00:06<00:08, 25.89it/s]"
     ]
    },
    {
     "name": "stdout",
     "output_type": "stream",
     "text": [
      "Validation loss decreased (0.038504 --> 0.038504).  Saving model ...\n",
      "Validation loss decreased (0.038022 --> 0.038022).  Saving model ...\n",
      "Validation loss decreased (0.037502 --> 0.037502).  Saving model ...\n"
     ]
    },
    {
     "name": "stderr",
     "output_type": "stream",
     "text": [
      " 44%|██████████████████████████████████▊                                             | 174/400 [00:06<00:09, 25.02it/s]"
     ]
    },
    {
     "name": "stdout",
     "output_type": "stream",
     "text": [
      "Validation loss decreased (0.037479 --> 0.037479).  Saving model ...\n",
      "Validation loss decreased (0.037166 --> 0.037166).  Saving model ...\n",
      "Validation loss decreased (0.036921 --> 0.036921).  Saving model ...\n",
      "Validation loss decreased (0.036627 --> 0.036627).  Saving model ...\n"
     ]
    },
    {
     "name": "stderr",
     "output_type": "stream",
     "text": [
      " 45%|████████████████████████████████████                                            | 180/400 [00:07<00:08, 24.80it/s]"
     ]
    },
    {
     "name": "stdout",
     "output_type": "stream",
     "text": [
      "Validation loss decreased (0.036569 --> 0.036569).  Saving model ...\n",
      "Validation loss decreased (0.036180 --> 0.036180).  Saving model ...\n",
      "Validation loss decreased (0.036132 --> 0.036132).  Saving model ...\n",
      "Validation loss decreased (0.035100 --> 0.035100).  Saving model ...\n"
     ]
    },
    {
     "name": "stderr",
     "output_type": "stream",
     "text": [
      " 48%|██████████████████████████████████████▍                                         | 192/400 [00:07<00:08, 25.37it/s]"
     ]
    },
    {
     "name": "stdout",
     "output_type": "stream",
     "text": [
      "Validation loss decreased (0.034874 --> 0.034874).  Saving model ...\n",
      "Validation loss decreased (0.034760 --> 0.034760).  Saving model ...\n",
      "Validation loss decreased (0.034635 --> 0.034635).  Saving model ...\n",
      "Validation loss decreased (0.034287 --> 0.034287).  Saving model ...\n"
     ]
    },
    {
     "name": "stderr",
     "output_type": "stream",
     "text": [
      " 50%|███████████████████████████████████████▌                                        | 198/400 [00:07<00:07, 25.55it/s]"
     ]
    },
    {
     "name": "stdout",
     "output_type": "stream",
     "text": [
      "Validation loss decreased (0.033940 --> 0.033940).  Saving model ...\n",
      "Validation loss decreased (0.033836 --> 0.033836).  Saving model ...\n",
      "Validation loss decreased (0.033654 --> 0.033654).  Saving model ...\n",
      "Validation loss decreased (0.033540 --> 0.033540).  Saving model ...\n",
      "Validation loss decreased (0.033474 --> 0.033474).  Saving model ...\n"
     ]
    },
    {
     "name": "stderr",
     "output_type": "stream",
     "text": [
      " 51%|████████████████████████████████████████▊                                       | 204/400 [00:08<00:07, 25.47it/s]"
     ]
    },
    {
     "name": "stdout",
     "output_type": "stream",
     "text": [
      "Validation loss decreased (0.033442 --> 0.033442).  Saving model ...\n",
      "Validation loss decreased (0.033147 --> 0.033147).  Saving model ...\n",
      "Validation loss decreased (0.033078 --> 0.033078).  Saving model ...\n",
      "Validation loss decreased (0.032954 --> 0.032954).  Saving model ...\n"
     ]
    },
    {
     "name": "stderr",
     "output_type": "stream",
     "text": [
      " 52%|██████████████████████████████████████████                                      | 210/400 [00:08<00:07, 25.24it/s]"
     ]
    },
    {
     "name": "stdout",
     "output_type": "stream",
     "text": [
      "Validation loss decreased (0.032909 --> 0.032909).  Saving model ...\n",
      "Validation loss decreased (0.032827 --> 0.032827).  Saving model ...\n",
      "Validation loss decreased (0.032651 --> 0.032651).  Saving model ...\n"
     ]
    },
    {
     "name": "stderr",
     "output_type": "stream",
     "text": [
      " 55%|███████████████████████████████████████████▊                                    | 219/400 [00:08<00:06, 26.01it/s]"
     ]
    },
    {
     "name": "stdout",
     "output_type": "stream",
     "text": [
      "Validation loss decreased (0.032561 --> 0.032561).  Saving model ...\n",
      "Validation loss decreased (0.032400 --> 0.032400).  Saving model ...\n",
      "Validation loss decreased (0.032314 --> 0.032314).  Saving model ...\n",
      "Validation loss decreased (0.032168 --> 0.032168).  Saving model ...\n",
      "Validation loss decreased (0.032113 --> 0.032113).  Saving model ...\n",
      "Validation loss decreased (0.032033 --> 0.032033).  Saving model ...\n"
     ]
    },
    {
     "name": "stderr",
     "output_type": "stream",
     "text": [
      " 56%|█████████████████████████████████████████████                                   | 225/400 [00:08<00:06, 26.38it/s]"
     ]
    },
    {
     "name": "stdout",
     "output_type": "stream",
     "text": [
      "Validation loss decreased (0.031989 --> 0.031989).  Saving model ...\n",
      "Validation loss decreased (0.031867 --> 0.031867).  Saving model ...\n",
      "Validation loss decreased (0.031800 --> 0.031800).  Saving model ...\n"
     ]
    },
    {
     "name": "stderr",
     "output_type": "stream",
     "text": [
      " 58%|██████████████████████████████████████████████▏                                 | 231/400 [00:09<00:06, 26.57it/s]"
     ]
    },
    {
     "name": "stdout",
     "output_type": "stream",
     "text": [
      "Validation loss decreased (0.031712 --> 0.031712).  Saving model ...\n",
      "Validation loss decreased (0.031666 --> 0.031666).  Saving model ...\n",
      "Validation loss decreased (0.031505 --> 0.031505).  Saving model ...\n",
      "Validation loss decreased (0.031464 --> 0.031464).  Saving model ...\n",
      "Validation loss decreased (0.031311 --> 0.031311).  Saving model ...\n"
     ]
    },
    {
     "name": "stderr",
     "output_type": "stream",
     "text": [
      " 59%|███████████████████████████████████████████████▍                                | 237/400 [00:09<00:06, 26.34it/s]"
     ]
    },
    {
     "name": "stdout",
     "output_type": "stream",
     "text": [
      "Validation loss decreased (0.031251 --> 0.031251).  Saving model ...\n",
      "Validation loss decreased (0.031181 --> 0.031181).  Saving model ...\n",
      "Validation loss decreased (0.030917 --> 0.030917).  Saving model ...\n",
      "Validation loss decreased (0.030814 --> 0.030814).  Saving model ...\n"
     ]
    },
    {
     "name": "stderr",
     "output_type": "stream",
     "text": [
      " 62%|█████████████████████████████████████████████████▏                              | 246/400 [00:09<00:06, 25.52it/s]"
     ]
    },
    {
     "name": "stdout",
     "output_type": "stream",
     "text": [
      "Validation loss decreased (0.030539 --> 0.030539).  Saving model ...\n",
      "Validation loss decreased (0.030517 --> 0.030517).  Saving model ...\n"
     ]
    },
    {
     "name": "stderr",
     "output_type": "stream",
     "text": [
      " 64%|███████████████████████████████████████████████████                             | 255/400 [00:10<00:05, 24.74it/s]"
     ]
    },
    {
     "name": "stdout",
     "output_type": "stream",
     "text": [
      "Validation loss decreased (0.030432 --> 0.030432).  Saving model ...\n",
      "Validation loss decreased (0.030339 --> 0.030339).  Saving model ...\n"
     ]
    },
    {
     "name": "stderr",
     "output_type": "stream",
     "text": [
      " 65%|████████████████████████████████████████████████████▏                           | 261/400 [00:10<00:05, 25.47it/s]"
     ]
    },
    {
     "name": "stdout",
     "output_type": "stream",
     "text": [
      "Validation loss decreased (0.030073 --> 0.030073).  Saving model ...\n",
      "Validation loss decreased (0.029882 --> 0.029882).  Saving model ...\n",
      "Validation loss decreased (0.029789 --> 0.029789).  Saving model ...\n"
     ]
    },
    {
     "name": "stderr",
     "output_type": "stream",
     "text": [
      " 67%|█████████████████████████████████████████████████████▍                          | 267/400 [00:10<00:05, 24.99it/s]"
     ]
    },
    {
     "name": "stdout",
     "output_type": "stream",
     "text": [
      "Validation loss decreased (0.029743 --> 0.029743).  Saving model ...\n",
      "Validation loss decreased (0.029587 --> 0.029587).  Saving model ...\n",
      "Validation loss decreased (0.029392 --> 0.029392).  Saving model ...\n"
     ]
    },
    {
     "name": "stderr",
     "output_type": "stream",
     "text": [
      " 69%|███████████████████████████████████████████████████████▏                        | 276/400 [00:10<00:04, 26.22it/s]"
     ]
    },
    {
     "name": "stdout",
     "output_type": "stream",
     "text": [
      "Validation loss decreased (0.029230 --> 0.029230).  Saving model ...\n",
      "Validation loss decreased (0.029110 --> 0.029110).  Saving model ...\n"
     ]
    },
    {
     "name": "stderr",
     "output_type": "stream",
     "text": [
      " 70%|████████████████████████████████████████████████████████▍                       | 282/400 [00:11<00:04, 26.84it/s]"
     ]
    },
    {
     "name": "stdout",
     "output_type": "stream",
     "text": [
      "Validation loss decreased (0.029106 --> 0.029106).  Saving model ...\n",
      "Validation loss decreased (0.028923 --> 0.028923).  Saving model ...\n"
     ]
    },
    {
     "name": "stderr",
     "output_type": "stream",
     "text": [
      " 72%|█████████████████████████████████████████████████████████▌                      | 288/400 [00:11<00:04, 26.35it/s]"
     ]
    },
    {
     "name": "stdout",
     "output_type": "stream",
     "text": [
      "Validation loss decreased (0.028662 --> 0.028662).  Saving model ...\n"
     ]
    },
    {
     "name": "stderr",
     "output_type": "stream",
     "text": [
      " 74%|███████████████████████████████████████████████████████████▍                    | 297/400 [00:11<00:03, 25.85it/s]"
     ]
    },
    {
     "name": "stdout",
     "output_type": "stream",
     "text": [
      "Validation loss decreased (0.028573 --> 0.028573).  Saving model ...\n",
      "Validation loss decreased (0.028467 --> 0.028467).  Saving model ...\n",
      "Validation loss decreased (0.028406 --> 0.028406).  Saving model ...\n",
      "Validation loss decreased (0.028290 --> 0.028290).  Saving model ...\n"
     ]
    },
    {
     "name": "stderr",
     "output_type": "stream",
     "text": [
      " 76%|█████████████████████████████████████████████████████████████▏                  | 306/400 [00:12<00:03, 25.93it/s]"
     ]
    },
    {
     "name": "stdout",
     "output_type": "stream",
     "text": [
      "Validation loss decreased (0.028252 --> 0.028252).  Saving model ...\n",
      "Validation loss decreased (0.028207 --> 0.028207).  Saving model ...\n",
      "Validation loss decreased (0.028074 --> 0.028074).  Saving model ...\n",
      "Validation loss decreased (0.028007 --> 0.028007).  Saving model ...\n"
     ]
    },
    {
     "name": "stderr",
     "output_type": "stream",
     "text": [
      " 79%|███████████████████████████████████████████████████████████████                 | 315/400 [00:12<00:03, 25.52it/s]"
     ]
    },
    {
     "name": "stdout",
     "output_type": "stream",
     "text": [
      "Validation loss decreased (0.027974 --> 0.027974).  Saving model ...\n",
      "Validation loss decreased (0.027813 --> 0.027813).  Saving model ...\n",
      "Validation loss decreased (0.027650 --> 0.027650).  Saving model ...\n",
      "Validation loss decreased (0.027588 --> 0.027588).  Saving model ...\n"
     ]
    },
    {
     "name": "stderr",
     "output_type": "stream",
     "text": [
      " 80%|████████████████████████████████████████████████████████████████▏               | 321/400 [00:12<00:03, 25.42it/s]"
     ]
    },
    {
     "name": "stdout",
     "output_type": "stream",
     "text": [
      "Validation loss decreased (0.027392 --> 0.027392).  Saving model ...\n",
      "Validation loss decreased (0.027207 --> 0.027207).  Saving model ...\n"
     ]
    },
    {
     "name": "stderr",
     "output_type": "stream",
     "text": [
      " 82%|██████████████████████████████████████████████████████████████████              | 330/400 [00:12<00:02, 25.85it/s]"
     ]
    },
    {
     "name": "stdout",
     "output_type": "stream",
     "text": [
      "Validation loss decreased (0.027149 --> 0.027149).  Saving model ...\n",
      "Validation loss decreased (0.027135 --> 0.027135).  Saving model ...\n"
     ]
    },
    {
     "name": "stderr",
     "output_type": "stream",
     "text": [
      " 84%|███████████████████████████████████████████████████████████████████▏            | 336/400 [00:13<00:02, 26.14it/s]"
     ]
    },
    {
     "name": "stdout",
     "output_type": "stream",
     "text": [
      "Validation loss decreased (0.027000 --> 0.027000).  Saving model ...\n",
      "Validation loss decreased (0.026919 --> 0.026919).  Saving model ...\n",
      "Validation loss decreased (0.026874 --> 0.026874).  Saving model ...\n"
     ]
    },
    {
     "name": "stderr",
     "output_type": "stream",
     "text": [
      " 86%|████████████████████████████████████████████████████████████████████▍           | 342/400 [00:13<00:02, 23.96it/s]"
     ]
    },
    {
     "name": "stdout",
     "output_type": "stream",
     "text": [
      "Validation loss decreased (0.026773 --> 0.026773).  Saving model ...\n",
      "Validation loss decreased (0.026554 --> 0.026554).  Saving model ...\n"
     ]
    },
    {
     "name": "stderr",
     "output_type": "stream",
     "text": [
      " 88%|██████████████████████████████████████████████████████████████████████▏         | 351/400 [00:13<00:01, 25.48it/s]"
     ]
    },
    {
     "name": "stdout",
     "output_type": "stream",
     "text": [
      "Validation loss decreased (0.026510 --> 0.026510).  Saving model ...\n",
      "Validation loss decreased (0.026477 --> 0.026477).  Saving model ...\n",
      "Validation loss decreased (0.026255 --> 0.026255).  Saving model ...\n"
     ]
    },
    {
     "name": "stderr",
     "output_type": "stream",
     "text": [
      " 89%|███████████████████████████████████████████████████████████████████████▍        | 357/400 [00:14<00:01, 24.47it/s]"
     ]
    },
    {
     "name": "stdout",
     "output_type": "stream",
     "text": [
      "Validation loss decreased (0.026051 --> 0.026051).  Saving model ...\n",
      "Validation loss decreased (0.025910 --> 0.025910).  Saving model ...\n"
     ]
    },
    {
     "name": "stderr",
     "output_type": "stream",
     "text": [
      " 92%|█████████████████████████████████████████████████████████████████████████▏      | 366/400 [00:14<00:01, 24.39it/s]"
     ]
    },
    {
     "name": "stdout",
     "output_type": "stream",
     "text": [
      "Validation loss decreased (0.025781 --> 0.025781).  Saving model ...\n",
      "Validation loss decreased (0.025734 --> 0.025734).  Saving model ...\n",
      "Validation loss decreased (0.025649 --> 0.025649).  Saving model ...\n",
      "Validation loss decreased (0.025586 --> 0.025586).  Saving model ...\n"
     ]
    },
    {
     "name": "stderr",
     "output_type": "stream",
     "text": [
      " 94%|███████████████████████████████████████████████████████████████████████████▌    | 378/400 [00:14<00:00, 24.27it/s]"
     ]
    },
    {
     "name": "stdout",
     "output_type": "stream",
     "text": [
      "Validation loss decreased (0.025575 --> 0.025575).  Saving model ...\n"
     ]
    },
    {
     "name": "stderr",
     "output_type": "stream",
     "text": [
      " 98%|██████████████████████████████████████████████████████████████████████████████  | 390/400 [00:15<00:00, 23.41it/s]"
     ]
    },
    {
     "name": "stdout",
     "output_type": "stream",
     "text": [
      "Validation loss decreased (0.025339 --> 0.025339).  Saving model ...\n",
      "Validation loss decreased (0.025236 --> 0.025236).  Saving model ...\n",
      "Validation loss decreased (0.025189 --> 0.025189).  Saving model ...\n",
      "Validation loss decreased (0.025088 --> 0.025088).  Saving model ...\n"
     ]
    },
    {
     "name": "stderr",
     "output_type": "stream",
     "text": [
      "100%|███████████████████████████████████████████████████████████████████████████████▊| 399/400 [00:15<00:00, 23.67it/s]"
     ]
    },
    {
     "name": "stdout",
     "output_type": "stream",
     "text": [
      "Validation loss decreased (0.025038 --> 0.025038).  Saving model ...\n",
      "Validation loss decreased (0.024984 --> 0.024984).  Saving model ...\n"
     ]
    },
    {
     "name": "stderr",
     "output_type": "stream",
     "text": [
      "100%|████████████████████████████████████████████████████████████████████████████████| 400/400 [00:15<00:00, 25.21it/s]\n",
      "  2%|█▏                                                                                | 6/400 [00:00<00:15, 25.72it/s]"
     ]
    },
    {
     "name": "stdout",
     "output_type": "stream",
     "text": [
      "Validation loss decreased (0.689326 --> 0.689326).  Saving model ...\n",
      "Validation loss decreased (0.680574 --> 0.680574).  Saving model ...\n",
      "Validation loss decreased (0.671881 --> 0.671881).  Saving model ...\n",
      "Validation loss decreased (0.662463 --> 0.662463).  Saving model ...\n",
      "Validation loss decreased (0.651818 --> 0.651818).  Saving model ...\n",
      "Validation loss decreased (0.639525 --> 0.639525).  Saving model ...\n"
     ]
    },
    {
     "name": "stderr",
     "output_type": "stream",
     "text": [
      "  3%|██▍                                                                              | 12/400 [00:00<00:14, 26.48it/s]"
     ]
    },
    {
     "name": "stdout",
     "output_type": "stream",
     "text": [
      "Validation loss decreased (0.625688 --> 0.625688).  Saving model ...\n",
      "Validation loss decreased (0.610391 --> 0.610391).  Saving model ...\n",
      "Validation loss decreased (0.593607 --> 0.593607).  Saving model ...\n",
      "Validation loss decreased (0.574971 --> 0.574971).  Saving model ...\n",
      "Validation loss decreased (0.554843 --> 0.554843).  Saving model ...\n",
      "Validation loss decreased (0.533395 --> 0.533395).  Saving model ...\n"
     ]
    },
    {
     "name": "stderr",
     "output_type": "stream",
     "text": [
      "  4%|███▋                                                                             | 18/400 [00:00<00:14, 26.26it/s]"
     ]
    },
    {
     "name": "stdout",
     "output_type": "stream",
     "text": [
      "Validation loss decreased (0.510832 --> 0.510832).  Saving model ...\n",
      "Validation loss decreased (0.487208 --> 0.487208).  Saving model ...\n",
      "Validation loss decreased (0.462982 --> 0.462982).  Saving model ...\n",
      "Validation loss decreased (0.438178 --> 0.438178).  Saving model ...\n",
      "Validation loss decreased (0.412917 --> 0.412917).  Saving model ...\n",
      "Validation loss decreased (0.388165 --> 0.388165).  Saving model ...\n"
     ]
    },
    {
     "name": "stderr",
     "output_type": "stream",
     "text": [
      "  6%|████▊                                                                            | 24/400 [00:00<00:14, 26.27it/s]"
     ]
    },
    {
     "name": "stdout",
     "output_type": "stream",
     "text": [
      "Validation loss decreased (0.363759 --> 0.363759).  Saving model ...\n",
      "Validation loss decreased (0.340085 --> 0.340085).  Saving model ...\n",
      "Validation loss decreased (0.317954 --> 0.317954).  Saving model ...\n",
      "Validation loss decreased (0.296489 --> 0.296489).  Saving model ...\n",
      "Validation loss decreased (0.276577 --> 0.276577).  Saving model ...\n",
      "Validation loss decreased (0.258461 --> 0.258461).  Saving model ...\n"
     ]
    },
    {
     "name": "stderr",
     "output_type": "stream",
     "text": [
      "  8%|██████                                                                           | 30/400 [00:01<00:13, 26.66it/s]"
     ]
    },
    {
     "name": "stdout",
     "output_type": "stream",
     "text": [
      "Validation loss decreased (0.240892 --> 0.240892).  Saving model ...\n",
      "Validation loss decreased (0.225722 --> 0.225722).  Saving model ...\n",
      "Validation loss decreased (0.212281 --> 0.212281).  Saving model ...\n",
      "Validation loss decreased (0.199882 --> 0.199882).  Saving model ...\n",
      "Validation loss decreased (0.187935 --> 0.187935).  Saving model ...\n",
      "Validation loss decreased (0.176861 --> 0.176861).  Saving model ...\n"
     ]
    },
    {
     "name": "stderr",
     "output_type": "stream",
     "text": [
      "  9%|███████▎                                                                         | 36/400 [00:01<00:14, 25.71it/s]"
     ]
    },
    {
     "name": "stdout",
     "output_type": "stream",
     "text": [
      "Validation loss decreased (0.166988 --> 0.166988).  Saving model ...\n",
      "Validation loss decreased (0.158307 --> 0.158307).  Saving model ...\n",
      "Validation loss decreased (0.151173 --> 0.151173).  Saving model ...\n",
      "Validation loss decreased (0.145380 --> 0.145380).  Saving model ...\n",
      "Validation loss decreased (0.138231 --> 0.138231).  Saving model ...\n",
      "Validation loss decreased (0.132765 --> 0.132765).  Saving model ...\n"
     ]
    },
    {
     "name": "stderr",
     "output_type": "stream",
     "text": [
      " 10%|████████▌                                                                        | 42/400 [00:01<00:13, 26.57it/s]"
     ]
    },
    {
     "name": "stdout",
     "output_type": "stream",
     "text": [
      "Validation loss decreased (0.128346 --> 0.128346).  Saving model ...\n",
      "Validation loss decreased (0.125109 --> 0.125109).  Saving model ...\n",
      "Validation loss decreased (0.121745 --> 0.121745).  Saving model ...\n",
      "Validation loss decreased (0.117841 --> 0.117841).  Saving model ...\n",
      "Validation loss decreased (0.115134 --> 0.115134).  Saving model ...\n",
      "Validation loss decreased (0.111074 --> 0.111074).  Saving model ...\n"
     ]
    },
    {
     "name": "stderr",
     "output_type": "stream",
     "text": [
      " 12%|█████████▋                                                                       | 48/400 [00:01<00:13, 26.31it/s]"
     ]
    },
    {
     "name": "stdout",
     "output_type": "stream",
     "text": [
      "Validation loss decreased (0.107511 --> 0.107511).  Saving model ...\n",
      "Validation loss decreased (0.104921 --> 0.104921).  Saving model ...\n",
      "Validation loss decreased (0.102578 --> 0.102578).  Saving model ...\n",
      "Validation loss decreased (0.101185 --> 0.101185).  Saving model ...\n",
      "Validation loss decreased (0.098071 --> 0.098071).  Saving model ...\n",
      "Validation loss decreased (0.095849 --> 0.095849).  Saving model ...\n"
     ]
    },
    {
     "name": "stderr",
     "output_type": "stream",
     "text": [
      " 14%|██████████▉                                                                      | 54/400 [00:02<00:12, 26.97it/s]"
     ]
    },
    {
     "name": "stdout",
     "output_type": "stream",
     "text": [
      "Validation loss decreased (0.093709 --> 0.093709).  Saving model ...\n",
      "Validation loss decreased (0.092841 --> 0.092841).  Saving model ...\n",
      "Validation loss decreased (0.090990 --> 0.090990).  Saving model ...\n",
      "Validation loss decreased (0.088921 --> 0.088921).  Saving model ...\n",
      "Validation loss decreased (0.087425 --> 0.087425).  Saving model ...\n"
     ]
    },
    {
     "name": "stderr",
     "output_type": "stream",
     "text": [
      " 15%|████████████▏                                                                    | 60/400 [00:02<00:12, 27.89it/s]"
     ]
    },
    {
     "name": "stdout",
     "output_type": "stream",
     "text": [
      "Validation loss decreased (0.085476 --> 0.085476).  Saving model ...\n",
      "Validation loss decreased (0.084212 --> 0.084212).  Saving model ...\n",
      "Validation loss decreased (0.083060 --> 0.083060).  Saving model ...\n",
      "Validation loss decreased (0.082086 --> 0.082086).  Saving model ...\n",
      "Validation loss decreased (0.081215 --> 0.081215).  Saving model ...\n"
     ]
    },
    {
     "name": "stderr",
     "output_type": "stream",
     "text": [
      " 16%|█████████████▎                                                                   | 66/400 [00:02<00:12, 26.40it/s]"
     ]
    },
    {
     "name": "stdout",
     "output_type": "stream",
     "text": [
      "Validation loss decreased (0.080743 --> 0.080743).  Saving model ...\n",
      "Validation loss decreased (0.079540 --> 0.079540).  Saving model ...\n",
      "Validation loss decreased (0.079467 --> 0.079467).  Saving model ...\n",
      "Validation loss decreased (0.077252 --> 0.077252).  Saving model ...\n",
      "Validation loss decreased (0.076761 --> 0.076761).  Saving model ...\n",
      "Validation loss decreased (0.075315 --> 0.075315).  Saving model ...\n"
     ]
    },
    {
     "name": "stderr",
     "output_type": "stream",
     "text": [
      " 18%|██████████████▊                                                                  | 73/400 [00:02<00:11, 27.56it/s]"
     ]
    },
    {
     "name": "stdout",
     "output_type": "stream",
     "text": [
      "Validation loss decreased (0.074447 --> 0.074447).  Saving model ...\n",
      "Validation loss decreased (0.073762 --> 0.073762).  Saving model ...\n",
      "Validation loss decreased (0.072822 --> 0.072822).  Saving model ...\n",
      "Validation loss decreased (0.071337 --> 0.071337).  Saving model ...\n",
      "Validation loss decreased (0.069676 --> 0.069676).  Saving model ...\n"
     ]
    },
    {
     "name": "stderr",
     "output_type": "stream",
     "text": [
      " 20%|███████████████▉                                                                 | 79/400 [00:02<00:11, 27.42it/s]"
     ]
    },
    {
     "name": "stdout",
     "output_type": "stream",
     "text": [
      "Validation loss decreased (0.069067 --> 0.069067).  Saving model ...\n",
      "Validation loss decreased (0.068832 --> 0.068832).  Saving model ...\n",
      "Validation loss decreased (0.068221 --> 0.068221).  Saving model ...\n",
      "Validation loss decreased (0.067977 --> 0.067977).  Saving model ...\n",
      "Validation loss decreased (0.067323 --> 0.067323).  Saving model ...\n",
      "Validation loss decreased (0.066295 --> 0.066295).  Saving model ...\n"
     ]
    },
    {
     "name": "stderr",
     "output_type": "stream",
     "text": [
      " 21%|█████████████████▏                                                               | 85/400 [00:03<00:11, 26.25it/s]"
     ]
    },
    {
     "name": "stdout",
     "output_type": "stream",
     "text": [
      "Validation loss decreased (0.065902 --> 0.065902).  Saving model ...\n",
      "Validation loss decreased (0.065623 --> 0.065623).  Saving model ...\n",
      "Validation loss decreased (0.064929 --> 0.064929).  Saving model ...\n",
      "Validation loss decreased (0.064317 --> 0.064317).  Saving model ...\n",
      "Validation loss decreased (0.063842 --> 0.063842).  Saving model ...\n",
      "Validation loss decreased (0.063299 --> 0.063299).  Saving model ...\n"
     ]
    },
    {
     "name": "stderr",
     "output_type": "stream",
     "text": [
      " 23%|██████████████████▍                                                              | 91/400 [00:03<00:12, 25.70it/s]"
     ]
    },
    {
     "name": "stdout",
     "output_type": "stream",
     "text": [
      "Validation loss decreased (0.062760 --> 0.062760).  Saving model ...\n",
      "Validation loss decreased (0.062444 --> 0.062444).  Saving model ...\n",
      "Validation loss decreased (0.061893 --> 0.061893).  Saving model ...\n",
      "Validation loss decreased (0.061594 --> 0.061594).  Saving model ...\n",
      "Validation loss decreased (0.061264 --> 0.061264).  Saving model ...\n"
     ]
    },
    {
     "name": "stderr",
     "output_type": "stream",
     "text": [
      " 24%|███████████████████▋                                                             | 97/400 [00:03<00:11, 26.45it/s]"
     ]
    },
    {
     "name": "stdout",
     "output_type": "stream",
     "text": [
      "Validation loss decreased (0.061074 --> 0.061074).  Saving model ...\n",
      "Validation loss decreased (0.060078 --> 0.060078).  Saving model ...\n",
      "Validation loss decreased (0.059585 --> 0.059585).  Saving model ...\n",
      "Validation loss decreased (0.059126 --> 0.059126).  Saving model ...\n",
      "Validation loss decreased (0.058489 --> 0.058489).  Saving model ...\n"
     ]
    },
    {
     "name": "stderr",
     "output_type": "stream",
     "text": [
      " 26%|████████████████████▊                                                           | 104/400 [00:03<00:10, 28.05it/s]"
     ]
    },
    {
     "name": "stdout",
     "output_type": "stream",
     "text": [
      "Validation loss decreased (0.057764 --> 0.057764).  Saving model ...\n",
      "Validation loss decreased (0.057329 --> 0.057329).  Saving model ...\n",
      "Validation loss decreased (0.057019 --> 0.057019).  Saving model ...\n",
      "Validation loss decreased (0.056989 --> 0.056989).  Saving model ...\n",
      "Validation loss decreased (0.056872 --> 0.056872).  Saving model ...\n"
     ]
    },
    {
     "name": "stderr",
     "output_type": "stream",
     "text": [
      " 28%|██████████████████████                                                          | 110/400 [00:04<00:10, 28.18it/s]"
     ]
    },
    {
     "name": "stdout",
     "output_type": "stream",
     "text": [
      "Validation loss decreased (0.055804 --> 0.055804).  Saving model ...\n",
      "Validation loss decreased (0.055359 --> 0.055359).  Saving model ...\n",
      "Validation loss decreased (0.055128 --> 0.055128).  Saving model ...\n",
      "Validation loss decreased (0.054685 --> 0.054685).  Saving model ...\n",
      "Validation loss decreased (0.053945 --> 0.053945).  Saving model ...\n"
     ]
    },
    {
     "name": "stderr",
     "output_type": "stream",
     "text": [
      " 29%|███████████████████████▏                                                        | 116/400 [00:04<00:10, 27.70it/s]"
     ]
    },
    {
     "name": "stdout",
     "output_type": "stream",
     "text": [
      "Validation loss decreased (0.053562 --> 0.053562).  Saving model ...\n",
      "Validation loss decreased (0.052983 --> 0.052983).  Saving model ...\n"
     ]
    },
    {
     "name": "stderr",
     "output_type": "stream",
     "text": [
      " 30%|████████████████████████▍                                                       | 122/400 [00:04<00:10, 27.63it/s]"
     ]
    },
    {
     "name": "stdout",
     "output_type": "stream",
     "text": [
      "Validation loss decreased (0.052183 --> 0.052183).  Saving model ...\n",
      "Validation loss decreased (0.052164 --> 0.052164).  Saving model ...\n",
      "Validation loss decreased (0.051834 --> 0.051834).  Saving model ...\n",
      "Validation loss decreased (0.051261 --> 0.051261).  Saving model ...\n"
     ]
    },
    {
     "name": "stderr",
     "output_type": "stream",
     "text": [
      " 32%|█████████████████████████▌                                                      | 128/400 [00:04<00:10, 27.03it/s]"
     ]
    },
    {
     "name": "stdout",
     "output_type": "stream",
     "text": [
      "Validation loss decreased (0.050431 --> 0.050431).  Saving model ...\n",
      "Validation loss decreased (0.050049 --> 0.050049).  Saving model ...\n",
      "Validation loss decreased (0.049671 --> 0.049671).  Saving model ...\n",
      "Validation loss decreased (0.049535 --> 0.049535).  Saving model ...\n"
     ]
    },
    {
     "name": "stderr",
     "output_type": "stream",
     "text": [
      " 34%|██████████████████████████▊                                                     | 134/400 [00:05<00:10, 25.63it/s]"
     ]
    },
    {
     "name": "stdout",
     "output_type": "stream",
     "text": [
      "Validation loss decreased (0.049160 --> 0.049160).  Saving model ...\n",
      "Validation loss decreased (0.049140 --> 0.049140).  Saving model ...\n",
      "Validation loss decreased (0.048522 --> 0.048522).  Saving model ...\n",
      "Validation loss decreased (0.048244 --> 0.048244).  Saving model ...\n"
     ]
    },
    {
     "name": "stderr",
     "output_type": "stream",
     "text": [
      " 36%|████████████████████████████▌                                                   | 143/400 [00:05<00:09, 27.28it/s]"
     ]
    },
    {
     "name": "stdout",
     "output_type": "stream",
     "text": [
      "Validation loss decreased (0.048071 --> 0.048071).  Saving model ...\n",
      "Validation loss decreased (0.047930 --> 0.047930).  Saving model ...\n",
      "Validation loss decreased (0.047829 --> 0.047829).  Saving model ...\n",
      "Validation loss decreased (0.047625 --> 0.047625).  Saving model ...\n"
     ]
    },
    {
     "name": "stderr",
     "output_type": "stream",
     "text": [
      " 38%|██████████████████████████████                                                  | 150/400 [00:05<00:08, 28.90it/s]"
     ]
    },
    {
     "name": "stdout",
     "output_type": "stream",
     "text": [
      "Validation loss decreased (0.047359 --> 0.047359).  Saving model ...\n",
      "Validation loss decreased (0.047141 --> 0.047141).  Saving model ...\n"
     ]
    },
    {
     "name": "stderr",
     "output_type": "stream",
     "text": [
      " 39%|███████████████████████████████▏                                                | 156/400 [00:05<00:09, 27.11it/s]"
     ]
    },
    {
     "name": "stdout",
     "output_type": "stream",
     "text": [
      "Validation loss decreased (0.046685 --> 0.046685).  Saving model ...\n",
      "Validation loss decreased (0.046449 --> 0.046449).  Saving model ...\n",
      "Validation loss decreased (0.046106 --> 0.046106).  Saving model ...\n"
     ]
    },
    {
     "name": "stderr",
     "output_type": "stream",
     "text": [
      " 40%|████████████████████████████████▍                                               | 162/400 [00:06<00:08, 27.71it/s]"
     ]
    },
    {
     "name": "stdout",
     "output_type": "stream",
     "text": [
      "Validation loss decreased (0.045864 --> 0.045864).  Saving model ...\n",
      "Validation loss decreased (0.045683 --> 0.045683).  Saving model ...\n",
      "Validation loss decreased (0.045326 --> 0.045326).  Saving model ...\n"
     ]
    },
    {
     "name": "stderr",
     "output_type": "stream",
     "text": [
      " 42%|█████████████████████████████████▌                                              | 168/400 [00:06<00:08, 28.15it/s]"
     ]
    },
    {
     "name": "stdout",
     "output_type": "stream",
     "text": [
      "Validation loss decreased (0.044945 --> 0.044945).  Saving model ...\n"
     ]
    },
    {
     "name": "stderr",
     "output_type": "stream",
     "text": [
      " 44%|██████████████████████████████████▊                                             | 174/400 [00:06<00:08, 27.58it/s]"
     ]
    },
    {
     "name": "stdout",
     "output_type": "stream",
     "text": [
      "Validation loss decreased (0.044936 --> 0.044936).  Saving model ...\n",
      "Validation loss decreased (0.044131 --> 0.044131).  Saving model ...\n",
      "Validation loss decreased (0.043957 --> 0.043957).  Saving model ...\n"
     ]
    },
    {
     "name": "stderr",
     "output_type": "stream",
     "text": [
      " 46%|████████████████████████████████████▊                                           | 184/400 [00:06<00:07, 29.25it/s]"
     ]
    },
    {
     "name": "stdout",
     "output_type": "stream",
     "text": [
      "Validation loss decreased (0.043741 --> 0.043741).  Saving model ...\n",
      "Validation loss decreased (0.043586 --> 0.043586).  Saving model ...\n"
     ]
    },
    {
     "name": "stderr",
     "output_type": "stream",
     "text": [
      " 48%|██████████████████████████████████████▍                                         | 192/400 [00:07<00:06, 29.97it/s]"
     ]
    },
    {
     "name": "stdout",
     "output_type": "stream",
     "text": [
      "Validation loss decreased (0.043420 --> 0.043420).  Saving model ...\n",
      "Validation loss decreased (0.043268 --> 0.043268).  Saving model ...\n",
      "Validation loss decreased (0.042994 --> 0.042994).  Saving model ...\n"
     ]
    },
    {
     "name": "stderr",
     "output_type": "stream",
     "text": [
      " 50%|███████████████████████████████████████▌                                        | 198/400 [00:07<00:06, 29.32it/s]"
     ]
    },
    {
     "name": "stdout",
     "output_type": "stream",
     "text": [
      "Validation loss decreased (0.042868 --> 0.042868).  Saving model ...\n",
      "Validation loss decreased (0.042836 --> 0.042836).  Saving model ...\n"
     ]
    },
    {
     "name": "stderr",
     "output_type": "stream",
     "text": [
      " 54%|███████████████████████████████████████████                                     | 215/400 [00:07<00:06, 30.09it/s]"
     ]
    },
    {
     "name": "stdout",
     "output_type": "stream",
     "text": [
      "Validation loss decreased (0.042667 --> 0.042667).  Saving model ...\n"
     ]
    },
    {
     "name": "stderr",
     "output_type": "stream",
     "text": [
      " 57%|█████████████████████████████████████████████▊                                  | 229/400 [00:08<00:06, 28.44it/s]"
     ]
    },
    {
     "name": "stdout",
     "output_type": "stream",
     "text": [
      "Validation loss decreased (0.042636 --> 0.042636).  Saving model ...\n",
      "Validation loss decreased (0.042591 --> 0.042591).  Saving model ...\n",
      "Validation loss decreased (0.042524 --> 0.042524).  Saving model ...\n"
     ]
    },
    {
     "name": "stderr",
     "output_type": "stream",
     "text": [
      " 61%|████████████████████████████████████████████████▌                               | 243/400 [00:08<00:05, 29.62it/s]"
     ]
    },
    {
     "name": "stdout",
     "output_type": "stream",
     "text": [
      "Validation loss decreased (0.042358 --> 0.042358).  Saving model ...\n",
      "Validation loss decreased (0.042177 --> 0.042177).  Saving model ...\n"
     ]
    },
    {
     "name": "stderr",
     "output_type": "stream",
     "text": [
      " 64%|███████████████████████████████████████████████████                             | 255/400 [00:09<00:05, 28.37it/s]"
     ]
    },
    {
     "name": "stdout",
     "output_type": "stream",
     "text": [
      "Validation loss decreased (0.042130 --> 0.042130).  Saving model ...\n",
      "Validation loss decreased (0.042123 --> 0.042123).  Saving model ...\n"
     ]
    },
    {
     "name": "stderr",
     "output_type": "stream",
     "text": [
      " 84%|██████████████████████████████████████████████████████████████████▊             | 334/400 [00:11<00:02, 30.48it/s]"
     ]
    },
    {
     "name": "stdout",
     "output_type": "stream",
     "text": [
      "Validation loss decreased (0.042078 --> 0.042078).  Saving model ...\n"
     ]
    },
    {
     "name": "stderr",
     "output_type": "stream",
     "text": [
      "100%|████████████████████████████████████████████████████████████████████████████████| 400/400 [00:13<00:00, 28.72it/s]\n"
     ]
    },
    {
     "data": {
      "text/plain": [
       "<All keys matched successfully>"
      ]
     },
     "execution_count": 702,
     "metadata": {},
     "output_type": "execute_result"
    }
   ],
   "source": [
    "# learning\n",
    "\n",
    "epochs = 200\n",
    "model_path_iron = Path(\"models/iron\").expanduser()\n",
    "save_path_iron = model_path_iron.joinpath(\"model_try_{}.pt\".format(count))\n",
    "# model_scratch 학습하기\n",
    "model_iron, train_losses_iron, valid_losses_iron = train(epochs, iron_train, iron_valid, net_iron, optimizer_iron, scheduler_iron, criterion_iron, use_cuda, save_path_iron)\n",
    "# validation이 가장 좋았던 모델 parameter 불러와서 저장하기\n",
    "model_iron.load_state_dict(torch.load(save_path_iron))\n",
    "\n",
    "\n",
    "epochs = 700\n",
    "model_path_bronze = Path(\"models/bronze\").expanduser()\n",
    "save_path_bronze = model_path_bronze.joinpath(\"model_try_{}.pt\".format(count))\n",
    "# model_scratch 학습하기\n",
    "model_bronze, train_losses_bronze, valid_losses_bronze = train(epochs, bronze_train, bronze_valid, net_bronze, optimizer_bronze, scheduler_bronze, criterion_bronze, use_cuda, save_path_bronze)\n",
    "# validation이 가장 좋았던 모델 parameter 불러와서 저장하기\n",
    "model_bronze.load_state_dict(torch.load(save_path_bronze))\n",
    "\n",
    "\n",
    "epochs = 600\n",
    "model_path_silver = Path(\"models/silver\").expanduser()\n",
    "save_path_silver = model_path_silver.joinpath(\"model_try_{}.pt\".format(count))\n",
    "# model_scratch 학습하기\n",
    "model_silver, train_losses_silver, valid_losses_silver = train(epochs, silver_train, silver_valid, net_silver, optimizer_silver, scheduler_silver, criterion_silver, use_cuda, save_path_silver)\n",
    "# validation이 가장 좋았던 모델 parameter 불러와서 저장하기\n",
    "model_silver.load_state_dict(torch.load(save_path_silver))\n",
    "\n",
    "\n",
    "epochs = 600\n",
    "model_path_gold = Path(\"models/gold\").expanduser()\n",
    "save_path_gold = model_path_gold.joinpath(\"model_try_{}.pt\".format(count))\n",
    "# model_scratch 학습하기\n",
    "model_gold, train_losses_gold, valid_losses_gold = train(epochs, gold_train, gold_valid, net_gold, optimizer_gold, scheduler_gold, criterion_gold, use_cuda, save_path_gold)\n",
    "# validation이 가장 좋았던 모델 parameter 불러와서 저장하기\n",
    "model_gold.load_state_dict(torch.load(save_path_gold))\n",
    "\n",
    "\n",
    "epochs = 400\n",
    "model_path_platinum = Path(\"models/platinum\").expanduser()\n",
    "save_path_platinum = model_path_platinum.joinpath(\"model_try_{}.pt\".format(count))\n",
    "# model_scratch 학습하기\n",
    "model_platinum, train_losses_platinum, valid_losses_platinum = train(epochs, platinum_train, platinum_valid, net_platinum, optimizer_platinum, scheduler_platinum, criterion_platinum, use_cuda, save_path_platinum)\n",
    "# validation이 가장 좋았던 모델 parameter 불러와서 저장하기\n",
    "model_platinum.load_state_dict(torch.load(save_path_platinum))\n",
    "\n",
    "\n",
    "epochs = 400\n",
    "model_path_diamond = Path(\"models/diamond\").expanduser()\n",
    "save_path_diamond = model_path_diamond.joinpath(\"model_try_{}.pt\".format(count))\n",
    "# model_scratch 학습하기\n",
    "model_diamond, train_losses_diamond, valid_losses_diamond = train(epochs, diamond_train, diamond_valid, net_diamond, optimizer_diamond, scheduler_diamond, criterion_diamond, use_cuda, save_path_diamond)\n",
    "# validation이 가장 좋았던 모델 parameter 불러와서 저장하기\n",
    "model_diamond.load_state_dict(torch.load(save_path_diamond))\n",
    "\n",
    "\n",
    "epochs = 400\n",
    "model_path_over_diamond = Path(\"models/over_diamond\").expanduser()\n",
    "save_path_over_diamond = model_path_over_diamond.joinpath(\"model_try_{}.pt\".format(count))\n",
    "# model_scratch 학습하기\n",
    "model_over_diamond, train_losses_over_diamond, valid_losses_over_diamond = train(epochs, over_diamond_train, over_diamond_valid, net_over_diamond, optimizer_over_diamond, scheduler_over_diamond, criterion_over_diamond, use_cuda, save_path_over_diamond)\n",
    "# validation이 가장 좋았던 모델 parameter 불러와서 저장하기\n",
    "model_over_diamond.load_state_dict(torch.load(save_path_over_diamond))"
   ]
  },
  {
   "cell_type": "code",
   "execution_count": 703,
   "metadata": {},
   "outputs": [
    {
     "name": "stderr",
     "output_type": "stream",
     "text": [
      "C:\\Users\\hyuk6\\anaconda3\\envs\\pytorch\\lib\\site-packages\\ipykernel_launcher.py:58: MatplotlibDeprecationWarning: savefig() got unexpected keyword argument \"papertype\" which is no longer supported as of 3.3 and will become an error two minor releases later\n",
      "C:\\Users\\hyuk6\\anaconda3\\envs\\pytorch\\lib\\site-packages\\ipykernel_launcher.py:58: MatplotlibDeprecationWarning: savefig() got unexpected keyword argument \"frameon\" which is no longer supported as of 3.3 and will become an error two minor releases later\n"
     ]
    },
    {
     "data": {
      "image/png": "[encoded data removed]",
      "text/plain": [
       "<Figure size 2880x1440 with 7 Axes>"
      ]
     },
     "metadata": {
      "needs_background": "light"
     },
     "output_type": "display_data"
    }
   ],
   "source": [
    "# loss plot\n",
    "\n",
    "plt.figure(figsize = (40,20))\n",
    "plt.subplot(2,4,1)\n",
    "plt.plot(train_losses_iron, label='Training loss')\n",
    "plt.plot(valid_losses_iron, label='Validation loss')\n",
    "plt.ylim(0, 0.75)\n",
    "plt.legend(frameon=False)\n",
    "plt.title(\"Iron\")\n",
    "plt.grid(True)\n",
    "\n",
    "plt.subplot(2,4,2)\n",
    "plt.plot(train_losses_bronze, label='Training loss')\n",
    "plt.plot(valid_losses_bronze, label='Validation loss')\n",
    "plt.ylim(0, 0.75)\n",
    "plt.legend(frameon=False)\n",
    "plt.title(\"Bronze\")\n",
    "plt.grid(True)\n",
    "\n",
    "plt.subplot(2,4,3)\n",
    "plt.plot(train_losses_silver, label='Training loss')\n",
    "plt.plot(valid_losses_silver, label='Validation loss')\n",
    "plt.ylim(0, 0.75)\n",
    "plt.legend(frameon=False)\n",
    "plt.title(\"Silver\")\n",
    "plt.grid(True)\n",
    "\n",
    "plt.subplot(2,4,4)\n",
    "plt.plot(train_losses_gold, label='Training loss')\n",
    "plt.plot(valid_losses_gold, label='Validation loss')\n",
    "plt.ylim(0, 0.75)\n",
    "plt.legend(frameon=False)\n",
    "plt.title(\"Gold\")\n",
    "plt.grid(True)\n",
    "\n",
    "plt.subplot(2,4,5)\n",
    "plt.plot(train_losses_platinum, label='Training loss')\n",
    "plt.plot(valid_losses_platinum, label='Validation loss')\n",
    "plt.ylim(0, 0.75)\n",
    "plt.legend(frameon=False)\n",
    "plt.title(\"Platinum\")\n",
    "plt.grid(True)\n",
    "\n",
    "plt.subplot(2,4,6)\n",
    "plt.plot(train_losses_diamond, label='Training loss')\n",
    "plt.plot(valid_losses_diamond, label='Validation loss')\n",
    "plt.ylim(0, 0.75)\n",
    "plt.legend(frameon=False)\n",
    "plt.title(\"Diamond\")\n",
    "plt.grid(True)\n",
    "\n",
    "plt.subplot(2,4,7)\n",
    "plt.plot(train_losses_over_diamond, label='Training loss')\n",
    "plt.plot(valid_losses_over_diamond, label='Validation loss')\n",
    "plt.ylim(0, 0.75)\n",
    "plt.legend(frameon=False)\n",
    "plt.title(\"Diamond and over\")\n",
    "plt.grid(True)\n",
    "\n",
    "# save plot\n",
    "plt.savefig('try-19.png', dpi=300, facecolor='w', edgecolor='w', orientation='portrait', papertype=None, format=None, transparent=False, bbox_inches=None, pad_inches=0.1, frameon=None, metadata=None)"
   ]
  },
  {
   "cell_type": "markdown",
   "metadata": {},
   "source": [
    "# Test"
   ]
  },
  {
   "cell_type": "code",
   "execution_count": 704,
   "metadata": {},
   "outputs": [
    {
     "name": "stdout",
     "output_type": "stream",
     "text": [
      "-------------------------------------------------------------------\n",
      "Iron\n",
      "Test Loss: 0.108250\n",
      "\n",
      "\n",
      "Test Accuracy (Overall): 95% (530/556)\n",
      "-------------------------------------------------------------------\n",
      "Bronze\n",
      "Test Loss: 0.218471\n",
      "\n",
      "\n",
      "Test Accuracy (Overall): 93% (555/594)\n",
      "-------------------------------------------------------------------\n",
      "Silver\n",
      "Test Loss: 0.106019\n",
      "\n",
      "\n",
      "Test Accuracy (Overall): 95% (558/586)\n",
      "-------------------------------------------------------------------\n",
      "Gold\n",
      "Test Loss: 0.113942\n",
      "\n",
      "\n",
      "Test Accuracy (Overall): 95% (501/526)\n",
      "-------------------------------------------------------------------\n",
      "Platinum\n",
      "Test Loss: 0.109842\n",
      "\n",
      "\n",
      "Test Accuracy (Overall): 95% (552/576)\n",
      "-------------------------------------------------------------------\n",
      "Diamond\n",
      "Test Loss: 0.218600\n",
      "\n",
      "\n",
      "Test Accuracy (Overall): 95% (393/412)\n",
      "-------------------------------------------------------------------\n",
      "Over Diamond\n",
      "Test Loss: 0.188270\n",
      "\n",
      "\n",
      "Test Accuracy (Overall): 94% (353/372)\n"
     ]
    }
   ],
   "source": [
    "# test\n",
    "print('-------------------------------------------------------------------')\n",
    "print('Iron')\n",
    "test(iron_test, net_iron, criterion_iron, use_cuda)\n",
    "print('-------------------------------------------------------------------')\n",
    "print('Bronze')\n",
    "test(bronze_test, net_bronze, criterion_bronze, use_cuda)\n",
    "print('-------------------------------------------------------------------')\n",
    "print('Silver')\n",
    "test(silver_test, net_silver, criterion_silver, use_cuda)\n",
    "print('-------------------------------------------------------------------')\n",
    "print('Gold')\n",
    "test(gold_test, net_gold, criterion_gold, use_cuda)\n",
    "print('-------------------------------------------------------------------')\n",
    "print('Platinum')\n",
    "test(platinum_test, net_platinum, criterion_platinum, use_cuda)\n",
    "print('-------------------------------------------------------------------')\n",
    "print('Diamond')\n",
    "test(diamond_test, net_diamond, criterion_diamond, use_cuda)\n",
    "print('-------------------------------------------------------------------')\n",
    "print('Over Diamond')\n",
    "test(over_diamond_test, net_over_diamond, criterion_over_diamond, use_cuda)\n"
   ]
  },
  {
   "cell_type": "markdown",
   "metadata": {},
   "source": [
    "# Drive Result"
   ]
  },
  {
   "cell_type": "code",
   "execution_count": 835,
   "metadata": {},
   "outputs": [],
   "source": [
    "# device check\n",
    "device = torch.device(\"cuda:0\" if torch.cuda.is_available() else \"cpu\")\n",
    "    \n",
    "# to predict\n",
    "def get_predict(tensor, model, tier, mean, std):\n",
    "    model.load_state_dict(torch.load('models/'+tier+'/model_try_20.pt')) \n",
    "    tensor = tensor - (torch.tensor(mean)[1:])        \n",
    "    tensor = tensor / (torch.tensor(std)[1:])\n",
    "    if use_cuda:\n",
    "        tensor = tensor.to(device)\n",
    "    with torch.no_grad():\n",
    "        output = F.log_softmax(model(tensor), dim=0)\n",
    "    ps = torch.exp(output)\n",
    "    top_p, top_class = ps.topk(1, dim=0)\n",
    "    return float(ps[1]*100)"
   ]
  },
  {
   "cell_type": "code",
   "execution_count": 847,
   "metadata": {},
   "outputs": [],
   "source": [
    "iron_train, iron_mean, iron_std= to_train_Loder('dataset/iron/train/train.csv', 256)\n",
    "\n",
    "bronze_train, bronze_mean, bronze_std = to_train_Loder('dataset/bronze/train/train.csv', 128)\n",
    "\n",
    "silver_train, silver_mean, silver_std = to_train_Loder('dataset/silver/train/train.csv', 128)\n",
    "\n",
    "gold_train, gold_mean, gold_std = to_train_Loder('dataset/gold/train/train.csv', 256)\n",
    "\n",
    "platinum_train, platinum_mean, platinum_std = to_train_Loder('dataset/platinum/train/train.csv', 128)\n",
    "\n",
    "diamond_train, diamond_mean, diamond_std = to_train_Loder('dataset/diamond/train/train.csv', 128)\n",
    "\n",
    "over_diamond_train, over_diamond_mean, over_diamond_std = to_train_Loder('dataset/over_diamond/train/train.csv', 128)\n"
   ]
  },
  {
   "cell_type": "code",
   "execution_count": 850,
   "metadata": {},
   "outputs": [],
   "source": [
    "# total game mean\n",
    "\n",
    "iron_meanlist = [0,0,0]\n",
    "iron_train, iron_meanlist[0], iron_std= to_train_Loder('dataset/iron/train/train.csv', 256)\n",
    "iron_valid, iron_meanlist[1], iron_std= to_train_Loder('dataset/iron/valid/valid.csv', 256)\n",
    "iron_test, iron_meanlist[2], iron_std= to_train_Loder('dataset/iron/test/test.csv', 256)\n",
    "\n",
    "bronze_meanlist = [0,0,0]\n",
    "bronze_train, bronze_meanlist[0], bronze_std = to_train_Loder('dataset/bronze/train/train.csv', 128)\n",
    "bronze_valid, bronze_meanlist[1], bronze_std = to_train_Loder('dataset/bronze/valid/valid.csv', 128)\n",
    "bronze_test, bronze_meanlist[2], bronze_std = to_train_Loder('dataset/bronze/test/test.csv', 128)\n",
    "\n",
    "silver_meanlist = [0,0,0]\n",
    "silver_train, silver_meanlist[0], silver_std = to_train_Loder('dataset/silver/train/train.csv', 128)\n",
    "silver_valid, silver_meanlist[1], silver_std = to_train_Loder('dataset/silver/valid/valid.csv', 128)\n",
    "silver_test, silver_meanlist[2], silver_std = to_train_Loder('dataset/silver/test/test.csv', 128)\n",
    "\n",
    "gold_meanlist = [0,0,0]\n",
    "gold_train, gold_meanlist[0], gold_std = to_train_Loder('dataset/gold/train/train.csv', 256)\n",
    "gold_valid, gold_meanlist[1], gold_std = to_train_Loder('dataset/gold/valid/valid.csv', 256)\n",
    "gold_test, gold_meanlist[2], gold_std = to_train_Loder('dataset/gold/test/test.csv', 256)\n",
    "\n",
    "platinum_meanlist = [0,0,0]\n",
    "platinum_train, platinum_meanlist[0], platinum_std = to_train_Loder('dataset/platinum/train/train.csv', 128)\n",
    "platinum_valid, platinum_meanlist[1], platinum_std = to_train_Loder('dataset/platinum/valid/valid.csv', 128)\n",
    "platinum_test, platinum_meanlist[2], platinum_std = to_train_Loder('dataset/platinum/test/test.csv', 128)\n",
    "\n",
    "diamond_meanlist = [0,0,0]\n",
    "diamond_train, diamond_meanlist[0], diamond_std = to_train_Loder('dataset/diamond/train/train.csv', 128)\n",
    "diamond_valid, diamond_meanlist[1], diamond_std = to_train_Loder('dataset/diamond/valid/valid.csv', 128)\n",
    "diamond_test, diamond_meanlist[2], diamond_std = to_train_Loder('dataset/diamond/test/test.csv', 128)\n",
    "\n",
    "over_diamond_meanlist = [0,0,0]\n",
    "over_diamond_train, over_diamond_meanlist[0], over_diamond_std = to_train_Loder('dataset/over_diamond/train/train.csv', 128)\n",
    "over_diamond_valid, over_diamond_meanlist[1], over_diamond_std = to_train_Loder('dataset/over_diamond/valid/valid.csv', 128)\n",
    "over_diamond_test, over_diamond_meanlist[2], over_diamond_std = to_train_Loder('dataset/over_diamond/test/test.csv', 128)\n",
    "\n",
    "total_iron_mean = np.array(iron_meanlist).sum(axis=0)/3\n",
    "total_bronze_mean = np.array(bronze_meanlist).sum(axis=0)/3\n",
    "total_silver_mean = np.array(silver_meanlist).sum(axis=0)/3\n",
    "total_gold_mean = np.array(gold_meanlist).sum(axis=0)/3\n",
    "total_platinum_mean = np.array(platinum_meanlist).sum(axis=0)/3\n",
    "total_diamond_mean = np.array(diamond_meanlist).sum(axis=0)/3\n",
    "total_over_diamond_mean = np.array(over_diamond_meanlist).sum(axis=0)/3\n"
   ]
  },
  {
   "cell_type": "code",
   "execution_count": 851,
   "metadata": {},
   "outputs": [],
   "source": [
    "# 정규화된 data로 (Tier별 전체 game의 meanlist) 게임요소의 승률영향 확인\n",
    "\n",
    "def get_total_data():\n",
    "    df = pd.read_csv('dataFrame/iron.csv')\n",
    "    key = df.keys()[2:]\n",
    "    iron = dict()\n",
    "    bronze = dict()\n",
    "    silver = dict()\n",
    "    gold = dict()\n",
    "    platinum = dict()\n",
    "    diamond = dict()\n",
    "    over_diamond = dict()\n",
    "\n",
    "    for i in range(len(key)):\n",
    "        inputdata = torch.zeros(53)\n",
    "        inputdata[i] = 1\n",
    "        iron[key[i]] = str(round(get_predict(torch.tensor(total_iron_mean, dtype=torch.float32)[1:]+inputdata, model_iron, 'iron', iron_mean, iron_std) - get_predict(torch.tensor(total_iron_mean, dtype=torch.float32)[1:], model_iron, 'iron', iron_mean, iron_std),2)) + '%'\n",
    "        bronze[key[i]] = str(round(get_predict(torch.tensor(total_bronze_mean, dtype=torch.float32)[1:]+inputdata, model_bronze, 'bronze', bronze_mean, bronze_std) - get_predict(torch.tensor(total_bronze_mean, dtype=torch.float32)[1:], model_bronze, 'bronze', bronze_mean, bronze_std),2))+ '%'\n",
    "        silver[key[i]] = str(round(get_predict(torch.tensor(total_silver_mean, dtype=torch.float32)[1:]+inputdata, model_silver, 'silver', silver_mean, silver_std) - get_predict(torch.tensor(total_silver_mean, dtype=torch.float32)[1:], model_silver, 'silver', silver_mean, silver_std),2))+ '%'\n",
    "        gold[key[i]] = str(round(get_predict(torch.tensor(total_gold_mean, dtype=torch.float32)[1:]+inputdata, model_gold, 'gold', gold_mean, gold_std) - get_predict(torch.tensor(total_gold_mean, dtype=torch.float32)[1:], model_gold, 'gold', gold_mean, gold_std),2))+ '%'\n",
    "        platinum[key[i]] = str(round(get_predict(torch.tensor(total_platinum_mean, dtype=torch.float32)[1:]+inputdata, model_platinum, 'platinum', platinum_mean, platinum_std) -  get_predict(torch.tensor(total_platinum_mean, dtype=torch.float32)[1:], model_platinum, 'platinum', platinum_mean, platinum_std),2))+ '%'\n",
    "        diamond[key[i]] = str(round(get_predict(torch.tensor(total_diamond_mean, dtype=torch.float32)[1:]+inputdata, model_diamond, 'diamond', diamond_mean, diamond_std) - get_predict(torch.tensor(total_diamond_mean, dtype=torch.float32)[1:], model_diamond, 'diamond', diamond_mean, diamond_std),2))+ '%'\n",
    "        over_diamond[key[i]] = str(round(get_predict(torch.tensor(total_over_diamond_mean, dtype=torch.float32)[1:]+inputdata, model_over_diamond, 'over_diamond', over_diamond_mean, over_diamond_std) - get_predict(torch.tensor(total_over_diamond_mean, dtype=torch.float32)[1:], model_over_diamond, 'over_diamond', over_diamond_mean, over_diamond_std),2))+ '%'\n",
    "    dlist = list()\n",
    "    dlist.append(iron)\n",
    "    dlist.append(bronze)\n",
    "    dlist.append(silver)\n",
    "    dlist.append(gold)\n",
    "    dlist.append(platinum)\n",
    "    dlist.append(diamond)\n",
    "    dlist.append(over_diamond)\n",
    "    df = pd.DataFrame(dlist)\n",
    "    df.rename(index={0:'Iron',1:'Bronze',2:'Silver',3:'Gold',4:'Platinum',5:'Diamond',6:'Over_diamond'}, inplace=True)\n",
    "    df = df.drop(columns=['gameDuration'])\n",
    "    df = df.drop(['total__stats_longestTimeSpentLiving', 'total__stats_totalDamageDealt', 'total__stats_magicDamageDealt','total__stats_physicalDamageDealt',\t'total__stats_trueDamageDealt',\t'total__stats_largestCriticalStrike', 'total__stats_totalDamageDealtToChampions', 'total__stats_magicDamageDealtToChampions', 'total__stats_physicalDamageDealtToChampions', 'total__stats_trueDamageDealtToChampions', 'total__stats_totalHeal', 'total__stats_totalUnitsHealed', 'total__stats_damageSelfMitigated', 'total__stats_damageDealtToObjectives', 'total__stats_visionScore', 'total__stats_timeCCingOthers', 'total__stats_totalDamageTaken', 'total__stats_magicalDamageTaken', 'total__stats_physicalDamageTaken', 'total__stats_trueDamageTaken', 'total__stats_goldEarned', 'total__stats_goldSpent', 'total__stats_totalTimeCrowdControlDealt'],axis=1)   \n",
    "    df =df.transpose()\n",
    "\n",
    "    return df\n"
   ]
  },
  {
   "cell_type": "code",
   "execution_count": 852,
   "metadata": {},
   "outputs": [
    {
     "data": {
      "text/html": [
       "<div>\n",
       "<style scoped>\n",
       "    .dataframe tbody tr th:only-of-type {\n",
       "        vertical-align: middle;\n",
       "    }\n",
       "\n",
       "    .dataframe tbody tr th {\n",
       "        vertical-align: top;\n",
       "    }\n",
       "\n",
       "    .dataframe thead th {\n",
       "        text-align: right;\n",
       "    }\n",
       "</style>\n",
       "<table border=\"1\" class=\"dataframe\">\n",
       "  <thead>\n",
       "    <tr style=\"text-align: right;\">\n",
       "      <th></th>\n",
       "      <th>Iron</th>\n",
       "      <th>Bronze</th>\n",
       "      <th>Silver</th>\n",
       "      <th>Gold</th>\n",
       "      <th>Platinum</th>\n",
       "      <th>Diamond</th>\n",
       "      <th>Over_diamond</th>\n",
       "    </tr>\n",
       "  </thead>\n",
       "  <tbody>\n",
       "    <tr>\n",
       "      <th>total__stats_kills</th>\n",
       "      <td>2.3%</td>\n",
       "      <td>2.35%</td>\n",
       "      <td>3.38%</td>\n",
       "      <td>3.04%</td>\n",
       "      <td>2.17%</td>\n",
       "      <td>6.85%</td>\n",
       "      <td>7.6%</td>\n",
       "    </tr>\n",
       "    <tr>\n",
       "      <th>total__stats_deaths</th>\n",
       "      <td>-4.93%</td>\n",
       "      <td>-4.25%</td>\n",
       "      <td>-5.93%</td>\n",
       "      <td>-5.16%</td>\n",
       "      <td>-5.31%</td>\n",
       "      <td>-12.33%</td>\n",
       "      <td>-15.4%</td>\n",
       "    </tr>\n",
       "    <tr>\n",
       "      <th>total__stats_assists</th>\n",
       "      <td>1.49%</td>\n",
       "      <td>1.8%</td>\n",
       "      <td>1.63%</td>\n",
       "      <td>2.29%</td>\n",
       "      <td>1.59%</td>\n",
       "      <td>4.24%</td>\n",
       "      <td>2.63%</td>\n",
       "    </tr>\n",
       "    <tr>\n",
       "      <th>total__stats_largestKillingSpree</th>\n",
       "      <td>4.9%</td>\n",
       "      <td>4.62%</td>\n",
       "      <td>2.11%</td>\n",
       "      <td>5.21%</td>\n",
       "      <td>4.53%</td>\n",
       "      <td>3.64%</td>\n",
       "      <td>6.33%</td>\n",
       "    </tr>\n",
       "    <tr>\n",
       "      <th>total__stats_largestMultiKill</th>\n",
       "      <td>6.63%</td>\n",
       "      <td>4.54%</td>\n",
       "      <td>-1.07%</td>\n",
       "      <td>5.83%</td>\n",
       "      <td>1.05%</td>\n",
       "      <td>15.1%</td>\n",
       "      <td>7.28%</td>\n",
       "    </tr>\n",
       "    <tr>\n",
       "      <th>total__stats_killingSprees</th>\n",
       "      <td>4.18%</td>\n",
       "      <td>7.31%</td>\n",
       "      <td>7.87%</td>\n",
       "      <td>10.53%</td>\n",
       "      <td>5.16%</td>\n",
       "      <td>17.14%</td>\n",
       "      <td>14.08%</td>\n",
       "    </tr>\n",
       "    <tr>\n",
       "      <th>total__stats_doubleKills</th>\n",
       "      <td>5.47%</td>\n",
       "      <td>0.47%</td>\n",
       "      <td>5.02%</td>\n",
       "      <td>1.61%</td>\n",
       "      <td>3.44%</td>\n",
       "      <td>25.74%</td>\n",
       "      <td>18.16%</td>\n",
       "    </tr>\n",
       "    <tr>\n",
       "      <th>total__stats_tripleKills</th>\n",
       "      <td>11.19%</td>\n",
       "      <td>10.44%</td>\n",
       "      <td>-12.32%</td>\n",
       "      <td>10.87%</td>\n",
       "      <td>0.27%</td>\n",
       "      <td>-5.68%</td>\n",
       "      <td>-21.97%</td>\n",
       "    </tr>\n",
       "    <tr>\n",
       "      <th>total__stats_quadraKills</th>\n",
       "      <td>-18.27%</td>\n",
       "      <td>18.31%</td>\n",
       "      <td>20.39%</td>\n",
       "      <td>3.66%</td>\n",
       "      <td>-27.81%</td>\n",
       "      <td>-23.3%</td>\n",
       "      <td>29.2%</td>\n",
       "    </tr>\n",
       "    <tr>\n",
       "      <th>total__stats_pentaKills</th>\n",
       "      <td>-69.13%</td>\n",
       "      <td>43.06%</td>\n",
       "      <td>12.29%</td>\n",
       "      <td>33.09%</td>\n",
       "      <td>11.07%</td>\n",
       "      <td>55.83%</td>\n",
       "      <td>29.85%</td>\n",
       "    </tr>\n",
       "    <tr>\n",
       "      <th>total__stats_inhibitorKills</th>\n",
       "      <td>14.49%</td>\n",
       "      <td>25.81%</td>\n",
       "      <td>19.95%</td>\n",
       "      <td>24.82%</td>\n",
       "      <td>13.06%</td>\n",
       "      <td>40.14%</td>\n",
       "      <td>21.88%</td>\n",
       "    </tr>\n",
       "    <tr>\n",
       "      <th>total__stats_totalMinionsKilled</th>\n",
       "      <td>0.08%</td>\n",
       "      <td>0.08%</td>\n",
       "      <td>0.07%</td>\n",
       "      <td>0.09%</td>\n",
       "      <td>0.06%</td>\n",
       "      <td>0.32%</td>\n",
       "      <td>0.16%</td>\n",
       "    </tr>\n",
       "    <tr>\n",
       "      <th>total__stats_neutralMinionsKilled</th>\n",
       "      <td>0.02%</td>\n",
       "      <td>-0.02%</td>\n",
       "      <td>-0.13%</td>\n",
       "      <td>-0.06%</td>\n",
       "      <td>0.16%</td>\n",
       "      <td>-0.02%</td>\n",
       "      <td>0.36%</td>\n",
       "    </tr>\n",
       "    <tr>\n",
       "      <th>total__stats_neutralMinionsKilledTeamJungle</th>\n",
       "      <td>-0.29%</td>\n",
       "      <td>0.15%</td>\n",
       "      <td>-0.37%</td>\n",
       "      <td>-0.24%</td>\n",
       "      <td>-0.02%</td>\n",
       "      <td>0.04%</td>\n",
       "      <td>-0.88%</td>\n",
       "    </tr>\n",
       "    <tr>\n",
       "      <th>total__stats_neutralMinionsKilledEnemyJungle</th>\n",
       "      <td>0.25%</td>\n",
       "      <td>0.43%</td>\n",
       "      <td>-0.41%</td>\n",
       "      <td>0.45%</td>\n",
       "      <td>0.6%</td>\n",
       "      <td>2.63%</td>\n",
       "      <td>-0.08%</td>\n",
       "    </tr>\n",
       "    <tr>\n",
       "      <th>total__stats_champLevel</th>\n",
       "      <td>1.12%</td>\n",
       "      <td>1.23%</td>\n",
       "      <td>2.39%</td>\n",
       "      <td>1.31%</td>\n",
       "      <td>1.28%</td>\n",
       "      <td>2.5%</td>\n",
       "      <td>1.96%</td>\n",
       "    </tr>\n",
       "    <tr>\n",
       "      <th>total__stats_visionWardsBoughtInGame</th>\n",
       "      <td>-1.4%</td>\n",
       "      <td>-1.97%</td>\n",
       "      <td>-1.12%</td>\n",
       "      <td>1.43%</td>\n",
       "      <td>-0.6%</td>\n",
       "      <td>-2.06%</td>\n",
       "      <td>-2.18%</td>\n",
       "    </tr>\n",
       "    <tr>\n",
       "      <th>total__stats_wardsPlaced</th>\n",
       "      <td>-0.19%</td>\n",
       "      <td>0.07%</td>\n",
       "      <td>-0.23%</td>\n",
       "      <td>-0.19%</td>\n",
       "      <td>-0.57%</td>\n",
       "      <td>-0.14%</td>\n",
       "      <td>-0.09%</td>\n",
       "    </tr>\n",
       "    <tr>\n",
       "      <th>total__stats_wardsKilled</th>\n",
       "      <td>0.2%</td>\n",
       "      <td>-1.69%</td>\n",
       "      <td>1.17%</td>\n",
       "      <td>-0.21%</td>\n",
       "      <td>0.38%</td>\n",
       "      <td>-0.06%</td>\n",
       "      <td>-0.75%</td>\n",
       "    </tr>\n",
       "    <tr>\n",
       "      <th>teams_firstBlood</th>\n",
       "      <td>7.69%</td>\n",
       "      <td>0.72%</td>\n",
       "      <td>-8.4%</td>\n",
       "      <td>-0.12%</td>\n",
       "      <td>1.8%</td>\n",
       "      <td>-12.63%</td>\n",
       "      <td>23.25%</td>\n",
       "    </tr>\n",
       "    <tr>\n",
       "      <th>teams_firstTower</th>\n",
       "      <td>14.08%</td>\n",
       "      <td>34.52%</td>\n",
       "      <td>22.83%</td>\n",
       "      <td>26.33%</td>\n",
       "      <td>-13.73%</td>\n",
       "      <td>47.91%</td>\n",
       "      <td>26.88%</td>\n",
       "    </tr>\n",
       "    <tr>\n",
       "      <th>teams_firstInhibitor</th>\n",
       "      <td>20.33%</td>\n",
       "      <td>29.31%</td>\n",
       "      <td>-1.18%</td>\n",
       "      <td>29.2%</td>\n",
       "      <td>12.53%</td>\n",
       "      <td>42.94%</td>\n",
       "      <td>28.64%</td>\n",
       "    </tr>\n",
       "    <tr>\n",
       "      <th>teams_firstBaron</th>\n",
       "      <td>1.48%</td>\n",
       "      <td>23.48%</td>\n",
       "      <td>12.72%</td>\n",
       "      <td>3.34%</td>\n",
       "      <td>8.17%</td>\n",
       "      <td>47.75%</td>\n",
       "      <td>28.39%</td>\n",
       "    </tr>\n",
       "    <tr>\n",
       "      <th>teams_firstDragon</th>\n",
       "      <td>13.75%</td>\n",
       "      <td>-14.5%</td>\n",
       "      <td>-13.56%</td>\n",
       "      <td>17.54%</td>\n",
       "      <td>-0.11%</td>\n",
       "      <td>46.19%</td>\n",
       "      <td>22.58%</td>\n",
       "    </tr>\n",
       "    <tr>\n",
       "      <th>teams_firstRiftHerald</th>\n",
       "      <td>-19.95%</td>\n",
       "      <td>15.78%</td>\n",
       "      <td>-3.66%</td>\n",
       "      <td>-2.17%</td>\n",
       "      <td>4.3%</td>\n",
       "      <td>-9.09%</td>\n",
       "      <td>-1.21%</td>\n",
       "    </tr>\n",
       "    <tr>\n",
       "      <th>teams_towerKills</th>\n",
       "      <td>12.12%</td>\n",
       "      <td>26.61%</td>\n",
       "      <td>20.84%</td>\n",
       "      <td>26.15%</td>\n",
       "      <td>11.59%</td>\n",
       "      <td>39.51%</td>\n",
       "      <td>22.09%</td>\n",
       "    </tr>\n",
       "    <tr>\n",
       "      <th>teams_inhibitorKills</th>\n",
       "      <td>6.17%</td>\n",
       "      <td>-4.79%</td>\n",
       "      <td>21.21%</td>\n",
       "      <td>18.56%</td>\n",
       "      <td>10.2%</td>\n",
       "      <td>47.33%</td>\n",
       "      <td>28.61%</td>\n",
       "    </tr>\n",
       "    <tr>\n",
       "      <th>teams_baronKills</th>\n",
       "      <td>12.54%</td>\n",
       "      <td>18.25%</td>\n",
       "      <td>11.82%</td>\n",
       "      <td>19.22%</td>\n",
       "      <td>9.21%</td>\n",
       "      <td>26.76%</td>\n",
       "      <td>27.34%</td>\n",
       "    </tr>\n",
       "    <tr>\n",
       "      <th>teams_dragonKills</th>\n",
       "      <td>1.93%</td>\n",
       "      <td>-17.66%</td>\n",
       "      <td>-30.76%</td>\n",
       "      <td>-0.99%</td>\n",
       "      <td>-0.96%</td>\n",
       "      <td>18.06%</td>\n",
       "      <td>9.83%</td>\n",
       "    </tr>\n",
       "  </tbody>\n",
       "</table>\n",
       "</div>"
      ],
      "text/plain": [
       "                                                 Iron   Bronze   Silver  \\\n",
       "total__stats_kills                               2.3%    2.35%    3.38%   \n",
       "total__stats_deaths                            -4.93%   -4.25%   -5.93%   \n",
       "total__stats_assists                            1.49%     1.8%    1.63%   \n",
       "total__stats_largestKillingSpree                 4.9%    4.62%    2.11%   \n",
       "total__stats_largestMultiKill                   6.63%    4.54%   -1.07%   \n",
       "total__stats_killingSprees                      4.18%    7.31%    7.87%   \n",
       "total__stats_doubleKills                        5.47%    0.47%    5.02%   \n",
       "total__stats_tripleKills                       11.19%   10.44%  -12.32%   \n",
       "total__stats_quadraKills                      -18.27%   18.31%   20.39%   \n",
       "total__stats_pentaKills                       -69.13%   43.06%   12.29%   \n",
       "total__stats_inhibitorKills                    14.49%   25.81%   19.95%   \n",
       "total__stats_totalMinionsKilled                 0.08%    0.08%    0.07%   \n",
       "total__stats_neutralMinionsKilled               0.02%   -0.02%   -0.13%   \n",
       "total__stats_neutralMinionsKilledTeamJungle    -0.29%    0.15%   -0.37%   \n",
       "total__stats_neutralMinionsKilledEnemyJungle    0.25%    0.43%   -0.41%   \n",
       "total__stats_champLevel                         1.12%    1.23%    2.39%   \n",
       "total__stats_visionWardsBoughtInGame            -1.4%   -1.97%   -1.12%   \n",
       "total__stats_wardsPlaced                       -0.19%    0.07%   -0.23%   \n",
       "total__stats_wardsKilled                         0.2%   -1.69%    1.17%   \n",
       "teams_firstBlood                                7.69%    0.72%    -8.4%   \n",
       "teams_firstTower                               14.08%   34.52%   22.83%   \n",
       "teams_firstInhibitor                           20.33%   29.31%   -1.18%   \n",
       "teams_firstBaron                                1.48%   23.48%   12.72%   \n",
       "teams_firstDragon                              13.75%   -14.5%  -13.56%   \n",
       "teams_firstRiftHerald                         -19.95%   15.78%   -3.66%   \n",
       "teams_towerKills                               12.12%   26.61%   20.84%   \n",
       "teams_inhibitorKills                            6.17%   -4.79%   21.21%   \n",
       "teams_baronKills                               12.54%   18.25%   11.82%   \n",
       "teams_dragonKills                               1.93%  -17.66%  -30.76%   \n",
       "\n",
       "                                                Gold Platinum  Diamond  \\\n",
       "total__stats_kills                             3.04%    2.17%    6.85%   \n",
       "total__stats_deaths                           -5.16%   -5.31%  -12.33%   \n",
       "total__stats_assists                           2.29%    1.59%    4.24%   \n",
       "total__stats_largestKillingSpree               5.21%    4.53%    3.64%   \n",
       "total__stats_largestMultiKill                  5.83%    1.05%    15.1%   \n",
       "total__stats_killingSprees                    10.53%    5.16%   17.14%   \n",
       "total__stats_doubleKills                       1.61%    3.44%   25.74%   \n",
       "total__stats_tripleKills                      10.87%    0.27%   -5.68%   \n",
       "total__stats_quadraKills                       3.66%  -27.81%   -23.3%   \n",
       "total__stats_pentaKills                       33.09%   11.07%   55.83%   \n",
       "total__stats_inhibitorKills                   24.82%   13.06%   40.14%   \n",
       "total__stats_totalMinionsKilled                0.09%    0.06%    0.32%   \n",
       "total__stats_neutralMinionsKilled             -0.06%    0.16%   -0.02%   \n",
       "total__stats_neutralMinionsKilledTeamJungle   -0.24%   -0.02%    0.04%   \n",
       "total__stats_neutralMinionsKilledEnemyJungle   0.45%     0.6%    2.63%   \n",
       "total__stats_champLevel                        1.31%    1.28%     2.5%   \n",
       "total__stats_visionWardsBoughtInGame           1.43%    -0.6%   -2.06%   \n",
       "total__stats_wardsPlaced                      -0.19%   -0.57%   -0.14%   \n",
       "total__stats_wardsKilled                      -0.21%    0.38%   -0.06%   \n",
       "teams_firstBlood                              -0.12%     1.8%  -12.63%   \n",
       "teams_firstTower                              26.33%  -13.73%   47.91%   \n",
       "teams_firstInhibitor                           29.2%   12.53%   42.94%   \n",
       "teams_firstBaron                               3.34%    8.17%   47.75%   \n",
       "teams_firstDragon                             17.54%   -0.11%   46.19%   \n",
       "teams_firstRiftHerald                         -2.17%     4.3%   -9.09%   \n",
       "teams_towerKills                              26.15%   11.59%   39.51%   \n",
       "teams_inhibitorKills                          18.56%    10.2%   47.33%   \n",
       "teams_baronKills                              19.22%    9.21%   26.76%   \n",
       "teams_dragonKills                             -0.99%   -0.96%   18.06%   \n",
       "\n",
       "                                             Over_diamond  \n",
       "total__stats_kills                                   7.6%  \n",
       "total__stats_deaths                                -15.4%  \n",
       "total__stats_assists                                2.63%  \n",
       "total__stats_largestKillingSpree                    6.33%  \n",
       "total__stats_largestMultiKill                       7.28%  \n",
       "total__stats_killingSprees                         14.08%  \n",
       "total__stats_doubleKills                           18.16%  \n",
       "total__stats_tripleKills                          -21.97%  \n",
       "total__stats_quadraKills                            29.2%  \n",
       "total__stats_pentaKills                            29.85%  \n",
       "total__stats_inhibitorKills                        21.88%  \n",
       "total__stats_totalMinionsKilled                     0.16%  \n",
       "total__stats_neutralMinionsKilled                   0.36%  \n",
       "total__stats_neutralMinionsKilledTeamJungle        -0.88%  \n",
       "total__stats_neutralMinionsKilledEnemyJungle       -0.08%  \n",
       "total__stats_champLevel                             1.96%  \n",
       "total__stats_visionWardsBoughtInGame               -2.18%  \n",
       "total__stats_wardsPlaced                           -0.09%  \n",
       "total__stats_wardsKilled                           -0.75%  \n",
       "teams_firstBlood                                   23.25%  \n",
       "teams_firstTower                                   26.88%  \n",
       "teams_firstInhibitor                               28.64%  \n",
       "teams_firstBaron                                   28.39%  \n",
       "teams_firstDragon                                  22.58%  \n",
       "teams_firstRiftHerald                              -1.21%  \n",
       "teams_towerKills                                   22.09%  \n",
       "teams_inhibitorKills                               28.61%  \n",
       "teams_baronKills                                   27.34%  \n",
       "teams_dragonKills                                   9.83%  "
      ]
     },
     "execution_count": 852,
     "metadata": {},
     "output_type": "execute_result"
    }
   ],
   "source": [
    "df = get_total_data()\n",
    "df.dfi.export('total_result_DataFrame.png')\n",
    "df"
   ]
  },
  {
   "cell_type": "code",
   "execution_count": null,
   "metadata": {},
   "outputs": [],
   "source": []
  }
 ],
 "metadata": {
  "kernelspec": {
   "display_name": "Python 3",
   "language": "python",
   "name": "python3"
  },
  "language_info": {
   "codemirror_mode": {
    "name": "ipython",
    "version": 3
   },
   "file_extension": ".py",
   "mimetype": "text/x-python",
   "name": "python",
   "nbconvert_exporter": "python",
   "pygments_lexer": "ipython3",
   "version": "3.6.6"
  }
 },
 "nbformat": 4,
 "nbformat_minor": 4
}
