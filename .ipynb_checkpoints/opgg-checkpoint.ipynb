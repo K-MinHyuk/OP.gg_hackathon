{
 "cells": [
  {
   "cell_type": "markdown",
   "metadata": {},
   "source": [
    "OP.GG Game Big Data Hackathon\n",
    "=============\n",
    "\n",
    "프로젝트 진행 순서\n",
    "-------------\n",
    "* API를 이용, Game Data를 수집.\n",
    "* 수집한 Data를 분석, 방향성을 확립.\n",
    "* 진행하게될 분석방향에 맞추어 Data preprocessing.\n",
    "* Data analysis\n",
    "* 결과 도출, 활용 방안 제시\n"
   ]
  },
  {
   "cell_type": "code",
   "execution_count": 3,
   "metadata": {},
   "outputs": [],
   "source": [
    "# 필요한 라이브러리를 import\n",
    "\n",
    "import sys\n",
    "import requests\n",
    "import json\n",
    "import pandas as pd\n",
    "import itertools\n",
    "import time\n",
    "import math\n",
    "import numpy as np\n",
    "from flatten_dict import flatten\n",
    "from flatten_dict.reducer import make_reducer\n",
    "import matplotlib.pyplot as plt \n",
    "import seaborn as sns    \n",
    "import torch\n",
    "from torch.utils.data import  TensorDataset, DataLoader\n",
    "from torch import nn, optim\n",
    "import random\n",
    "from glob import glob\n",
    "import torch.optim as optimizer\n",
    "from torch.optim.lr_scheduler import StepLR\n",
    "from pathlib import Path\n",
    "from tqdm import tqdm\n",
    "import torch.nn.functional as F\n",
    "\n",
    "# pandas - DataFrame의 크기를 모두 표시하도록 설정\n",
    "\n",
    "pd.options.display.max_columns = None\n",
    "pd.options.display.max_rows = None\n",
    "\n",
    "use_cuda = torch.cuda.is_available()"
   ]
  },
  {
   "cell_type": "code",
   "execution_count": 2,
   "metadata": {},
   "outputs": [
    {
     "data": {
      "text/plain": [
       "'GeForce RTX 2080 SUPER'"
      ]
     },
     "execution_count": 2,
     "metadata": {},
     "output_type": "execute_result"
    }
   ],
   "source": [
    "torch.cuda.get_device_name(0)"
   ]
  },
  {
   "cell_type": "code",
   "execution_count": 3,
   "metadata": {},
   "outputs": [],
   "source": [
    "# 필요한 package들을 install\n",
    "\n",
    "# !pip install pandas\n",
    "# !pip install flatten_dict\n",
    "# !pip install matplotlib\n",
    "# !pip install seaborn\n",
    "# !pip install torch\n",
    "# !pip install tqdm"
   ]
  },
  {
   "cell_type": "code",
   "execution_count": 4,
   "metadata": {},
   "outputs": [],
   "source": [
    "# riot-API 이용을 위한 api-key값\n",
    "\n",
    "api_key = 'RGAPI-ea3bb857-9843-4a9f-bf87-a1b2973727d8'"
   ]
  },
  {
   "cell_type": "code",
   "execution_count": 5,
   "metadata": {},
   "outputs": [],
   "source": [
    "# 각 tier별 game id를 가져오기 위해 url 저장\n",
    "\n",
    "IRON_URL4='https://kr.api.riotgames.com/lol/league-exp/v4/entries/RANKED_SOLO_5x5/IRON/IV?page='\n",
    "IRON_URL3='https://kr.api.riotgames.com/lol/league-exp/v4/entries/RANKED_SOLO_5x5/IRON/III?page='\n",
    "IRON_URL2='https://kr.api.riotgames.com/lol/league-exp/v4/entries/RANKED_SOLO_5x5/IRON/II?page='\n",
    "IRON_URL1='https://kr.api.riotgames.com/lol/league-exp/v4/entries/RANKED_SOLO_5x5/IRON/I?page='\n",
    "BRONZE_URL4='https://kr.api.riotgames.com/lol/league-exp/v4/entries/RANKED_SOLO_5x5/BRONZE/IV?page='\n",
    "BRONZE_URL3='https://kr.api.riotgames.com/lol/league-exp/v4/entries/RANKED_SOLO_5x5/BRONZE/III?page='\n",
    "BRONZE_URL2='https://kr.api.riotgames.com/lol/league-exp/v4/entries/RANKED_SOLO_5x5/BRONZE/II?page='\n",
    "BRONZE_URL1='https://kr.api.riotgames.com/lol/league-exp/v4/entries/RANKED_SOLO_5x5/BRONZE/I?page='\n",
    "SILVER_URL4='https://kr.api.riotgames.com/lol/league-exp/v4/entries/RANKED_SOLO_5x5/SILVER/IV?page='\n",
    "SILVER_URL3='https://kr.api.riotgames.com/lol/league-exp/v4/entries/RANKED_SOLO_5x5/SILVER/III?page='\n",
    "SILVER_URL2='https://kr.api.riotgames.com/lol/league-exp/v4/entries/RANKED_SOLO_5x5/SILVER/II?page='\n",
    "SILVER_URL1='https://kr.api.riotgames.com/lol/league-exp/v4/entries/RANKED_SOLO_5x5/SILVER/I?page='\n",
    "GOLD_URL4='https://kr.api.riotgames.com/lol/league-exp/v4/entries/RANKED_SOLO_5x5/GOLD/IV?page='\n",
    "GOLD_URL3='https://kr.api.riotgames.com/lol/league-exp/v4/entries/RANKED_SOLO_5x5/GOLD/III?page='\n",
    "GOLD_URL2='https://kr.api.riotgames.com/lol/league-exp/v4/entries/RANKED_SOLO_5x5/GOLD/II?page='\n",
    "GOLD_URL1='https://kr.api.riotgames.com/lol/league-exp/v4/entries/RANKED_SOLO_5x5/GOLD/I?page='\n",
    "PLATINUM_URL4='https://kr.api.riotgames.com/lol/league-exp/v4/entries/RANKED_SOLO_5x5/PLATINUM/IV?page='\n",
    "PLATINUM_URL3='https://kr.api.riotgames.com/lol/league-exp/v4/entries/RANKED_SOLO_5x5/PLATINUM/III?page='\n",
    "PLATINUM_URL2='https://kr.api.riotgames.com/lol/league-exp/v4/entries/RANKED_SOLO_5x5/PLATINUM/II?page='\n",
    "PLATINUM_URL1='https://kr.api.riotgames.com/lol/league-exp/v4/entries/RANKED_SOLO_5x5/PLATINUM/I?page='\n",
    "DIAMOND_URL4='https://kr.api.riotgames.com/lol/league-exp/v4/entries/RANKED_SOLO_5x5/DIAMOND/IV?page='\n",
    "DIAMOND_URL3='https://kr.api.riotgames.com/lol/league-exp/v4/entries/RANKED_SOLO_5x5/DIAMOND/III?page='\n",
    "DIAMOND_URL2='https://kr.api.riotgames.com/lol/league-exp/v4/entries/RANKED_SOLO_5x5/DIAMOND/II?page='\n",
    "DIAMOND_URL1='https://kr.api.riotgames.com/lol/league-exp/v4/entries/RANKED_SOLO_5x5/DIAMOND/I?page='\n",
    "MASTER_URL1='https://kr.api.riotgames.com/lol/league-exp/v4/entries/RANKED_SOLO_5x5/MASTER/I?page='\n",
    "GRANDMASTER_URL1='https://kr.api.riotgames.com/lol/league-exp/v4/entries/RANKED_SOLO_5x5/GRANDMASTER/I?page='\n",
    "CHALLENGER_URL1='https://kr.api.riotgames.com/lol/league-exp/v4/entries/RANKED_SOLO_5x5/CHALLENGER/I?page='\n",
    "\n",
    "# match의 정보를 가져오기 위한 url저장\n",
    "MATCH_URL = 'https://kr.api.riotgames.com/lol/match/v4/matches/'"
   ]
  },
  {
   "cell_type": "code",
   "execution_count": 7,
   "metadata": {},
   "outputs": [],
   "source": [
    "# tier의 urel과 api-key를 입력하여 summonerId를 반환받음 return - array\n",
    "\n",
    "def summonersT(tier_url, api_key):\n",
    "    print('Summoners start-----')\n",
    "    summoners = []\n",
    "    tmpl = []\n",
    "    try:\n",
    "        for i in range(1,5):\n",
    "            now = time.gmtime(time.time())\n",
    "            print('min:',now.tm_min,'sec:',now.tm_sec)\n",
    "            print('Waiting for summoners {}00 end...'.format(i))\n",
    "            # request limit( 20 requests every 1 seconds(s) , 100 requests every 2 minutes(s) )에 대한 해결 방안으로 time.sleep 을 120이상으로 설정\n",
    "            time.sleep(125)\n",
    "            \n",
    "            res = requests.get(tier_url+str(i), headers={\"X-Riot-Token\": api_key})\n",
    "            tmp = json.loads(res.text)[5:105]\n",
    "            tmpl.append(tmp)\n",
    "            summoners.append(tmp)\n",
    "            \n",
    "        print('Summoners done-----')\n",
    "    except:\n",
    "        print('Errer in : ', tmpl)\n",
    "        \n",
    "    return pd.DataFrame(list(itertools.chain(*summoners)))['summonerId'].values\n",
    "\n",
    "\n",
    "#  summoners(iterable)와 api-key를 입력받아 accountId를 반환 return - array\n",
    "\n",
    "def getAccountId(summoners, api_key):\n",
    "    \n",
    "    print('\\nAccounts start-----')\n",
    "    now = time.gmtime(time.time())\n",
    "    print('min:',now.tm_min,'sec:',now.tm_sec)\n",
    "    \n",
    "    accountS = []\n",
    "    time.sleep(2)\n",
    "    a = 0\n",
    "    for i  in tqdm(summoners):\n",
    "        # request limit( 20 requests every 1 seconds(s) , 100 requests every 2 minutes(s) )에 대한 해결 방안으로 time.sleep 을 120이상으로 설정\n",
    "        if a % 20 == 0:\n",
    "            time.sleep(1)\n",
    "        if a % 100 == 0:\n",
    "            time.sleep(122)\n",
    "            \n",
    "        togetSummonerId = 'https://kr.api.riotgames.com/lol/summoner/v4/summoners/'+str(i)\n",
    "        res = requests.get(togetSummonerId, headers={\"X-Riot-Token\": api_key})\n",
    "        accountS.append(json.loads(res.text))\n",
    "        \n",
    "        a += 1\n",
    "        \n",
    "    print('\\nAccounts done-----')   \n",
    "    \n",
    "    return pd.DataFrame(accountS)['accountId'].values\n",
    "\n",
    "\n",
    "# accountId(iterable)와 api-key를 입력받아 gameId를 반환 return - list\n",
    "\n",
    "def getMatch(encryptedAccountId, api_key):\n",
    "    print('\\nMatchId start-----')\n",
    "    a = 0\n",
    "    now = time.gmtime(time.time())\n",
    "    print('min:',now.tm_min,'sec:',now.tm_sec)\n",
    "    objects = []\n",
    "    matchIds = []\n",
    "    time.sleep(2)\n",
    "    for i in tqdm(encryptedAccountId):\n",
    "        # request limit( 20 requests every 1 seconds(s) , 100 requests every 2 minutes(s) )에 대한 해결 방안으로 time.sleep 을 120이상으로 설정\n",
    "        if a % 20 == 0:\n",
    "            time.sleep(1)\n",
    "        if a % 100 == 0:\n",
    "            time.sleep(122)\n",
    "            \n",
    "        togetMatchOb = 'https://kr.api.riotgames.com/lol/match/v4/matchlists/by-account/{}?endIndex=1&beginIndex=0'.format(str(i))\n",
    "        res = requests.get(togetMatchOb, headers={\"X-Riot-Token\": api_key})\n",
    "        ob = pd.DataFrame(json.loads(res.text))\n",
    "        \n",
    "        # data의 양이 많아서 인지, Gateway timeout의 오류를 받아오는 경우 시간을 주어, 다시 받아올 수 있도록 설정\n",
    "        if 'matches' in list(ob):\n",
    "            objects.append(pd.DataFrame(ob)['matches'].values[0])\n",
    "        else:\n",
    "            print(ob)\n",
    "            print(\"-Error recovery time-\")\n",
    "            time.sleep(90)\n",
    "            rest=getMatchRe([i], api_key)\n",
    "            matchIds.append(rest)\n",
    "            print(\"-Error fixed-\")\n",
    "        a += 1\n",
    "    matchIds = matchIds + list(pd.DataFrame(objects)['gameId'].values)\n",
    "    \n",
    "    print('\\nMatchId done-----')   \n",
    "    return matchIds\n",
    "\n",
    "\n",
    "# getMatch중 timeout 오류발생시 다시 request를받기위해 시간간격을 두고 다시 request하도록 함.\n",
    "\n",
    "def getMatchRe(encryptedAccountId, api_key):\n",
    "    now = time.gmtime(time.time())\n",
    "    print('min:',now.tm_min,'sec:',now.tm_sec)\n",
    "    objects = []\n",
    "    matchIds = []\n",
    "    time.sleep(2)\n",
    "    \n",
    "    for i in tqdm(encryptedAccountId):\n",
    "        togetMatchOb = 'https://kr.api.riotgames.com/lol/match/v4/matchlists/by-account/{}?endIndex=1&beginIndex=0'.format(str(i))\n",
    "        res = requests.get(togetMatchOb, headers={\"X-Riot-Token\": api_key})\n",
    "        ob = pd.DataFrame(json.loads(res.text))\n",
    "        \n",
    "        if 'matches' in list(ob):\n",
    "            objects.append(pd.DataFrame(ob)['matches'].values[0])\n",
    "        else:\n",
    "            print(ob)\n",
    "            print(\"----Error recovery time----\")\n",
    "            time.sleep(90)\n",
    "            rest=getMatchRe([i], api_key)\n",
    "            matchIds.append(rest)\n",
    "    matchIds = matchIds + list(pd.DataFrame(objects)['gameId'].values)\n",
    "    \n",
    "    return matchIds[0]\n",
    "\n",
    "\n",
    "# tier와 api-key를 입력하면 gameId를 반환하는 함수\n",
    "\n",
    "def getMatchId(tier, api_key):\n",
    "    summoners = summonersT(tier, api_key)\n",
    "    accountId = getAccountId(summoners, api_key)\n",
    "    gameId = getMatch(accountId, api_key)\n",
    "    print(\"Done !!\")\n",
    "    return gameId"
   ]
  },
  {
   "cell_type": "markdown",
   "metadata": {},
   "source": [
    "### Get Iron games"
   ]
  },
  {
   "cell_type": "code",
   "execution_count": 14,
   "metadata": {
    "scrolled": true
   },
   "outputs": [
    {
     "name": "stdout",
     "output_type": "stream",
     "text": [
      "Summoners start-----\n",
      "min: 43 sec: 14\n",
      "Waiting for summoners end...\n",
      "Summoners done-----\n",
      "\n",
      "Accounts start-----\n",
      "min: 45 sec: 19\n"
     ]
    },
    {
     "data": {
      "application/vnd.jupyter.widget-view+json": {
       "model_id": "ef5036584cb54c0d8a0d7d64c7df5bb4",
       "version_major": 2,
       "version_minor": 0
      },
      "text/plain": [
       "  0%|          | 0/400 [00:00<?, ?it/s]"
      ]
     },
     "metadata": {},
     "output_type": "display_data"
    },
    {
     "name": "stdout",
     "output_type": "stream",
     "text": [
      "\n",
      "Accounts done-----\n",
      "\n",
      "MatchId start-----\n",
      "min: 55 sec: 15\n"
     ]
    },
    {
     "data": {
      "application/vnd.jupyter.widget-view+json": {
       "model_id": "52627ebdde0f4987a84882647bc2bdb6",
       "version_major": 2,
       "version_minor": 0
      },
      "text/plain": [
       "  0%|          | 0/400 [00:00<?, ?it/s]"
      ]
     },
     "metadata": {},
     "output_type": "display_data"
    },
    {
     "name": "stdout",
     "output_type": "stream",
     "text": [
      "                      status\n",
      "message      Gateway timeout\n",
      "status_code              504\n",
      "-Error recovery time-\n",
      "min: 4 sec: 42\n"
     ]
    },
    {
     "data": {
      "application/vnd.jupyter.widget-view+json": {
       "model_id": "b871448d11084ac681c9b4e5e9f8f545",
       "version_major": 2,
       "version_minor": 0
      },
      "text/plain": [
       "  0%|          | 0/1 [00:00<?, ?it/s]"
      ]
     },
     "metadata": {},
     "output_type": "display_data"
    },
    {
     "name": "stdout",
     "output_type": "stream",
     "text": [
      "-Error fixed-\n",
      "                      status\n",
      "message      Gateway timeout\n",
      "status_code              504\n",
      "-Error recovery time-\n",
      "min: 8 sec: 56\n"
     ]
    },
    {
     "data": {
      "application/vnd.jupyter.widget-view+json": {
       "model_id": "3b4e939d1f164004802968c4da79ebeb",
       "version_major": 2,
       "version_minor": 0
      },
      "text/plain": [
       "  0%|          | 0/1 [00:00<?, ?it/s]"
      ]
     },
     "metadata": {},
     "output_type": "display_data"
    },
    {
     "name": "stdout",
     "output_type": "stream",
     "text": [
      "-Error fixed-\n",
      "\n",
      "MatchId done-----\n",
      "Done !!\n"
     ]
    }
   ],
   "source": [
    "iron_4_gameId = getMatchId(IRON_URL4, api_key)\n",
    "np.save('gameId/iron/iron_4_gameId_1', iron_4_gameId)\n",
    "iron_3_gameId = getMatchId(IRON_URL3, api_key)\n",
    "np.save('gameId/iron/iron_3_gameId_1', iron_3_gameId)\n",
    "iron_2_gameId = getMatchId(IRON_URL2, api_key)\n",
    "np.save('gameId/iron/iron_2_gameId_1', iron_2_gameId)\n",
    "iron_1_gameId = getMatchId(IRON_URL1, api_key)\n",
    "np.save('gameId/iron/iron_1_gameId_1', iron_1_gameId)\n",
    "\n"
   ]
  },
  {
   "cell_type": "markdown",
   "metadata": {},
   "source": [
    "### Get Bronze games"
   ]
  },
  {
   "cell_type": "code",
   "execution_count": null,
   "metadata": {
    "scrolled": true
   },
   "outputs": [],
   "source": [
    "bronze_4_gameId = getMatchId(BRONZE_URL4, api_key)\n",
    "np.save('gameId/bronze/bronze_4_gameId_1', bronze_4_gameId)\n",
    "bronze_3_gameId = getMatchId(BRONZE_URL3, api_key)\n",
    "np.save('gameId/bronze/bronze_3_gameId_1', bronze_3_gameId)\n",
    "bronze_2_gameId = getMatchId(BRONZE_URL2, api_key)\n",
    "np.save('gameId/bronze/bronze_2_gameId_1', bronze_2_gameId)\n",
    "bronze_1_gameId = getMatchId(BRONZE_URL1, api_key)\n",
    "np.save('gameId/bronze/bronze_1_gameId_1', bronze_1_gameId)"
   ]
  },
  {
   "cell_type": "markdown",
   "metadata": {},
   "source": [
    "### Get Silver games"
   ]
  },
  {
   "cell_type": "code",
   "execution_count": null,
   "metadata": {
    "scrolled": true
   },
   "outputs": [],
   "source": [
    "silver_4_gameId = getMatchId(SILVER_URL4, api_key)\n",
    "np.save('gameId/silver/silver_4_gameId_1', silver_4_gameId)\n",
    "silver_3_gameId = getMatchId(SILVER_URL3, api_key)\n",
    "np.save('gameId/silver/silver_3_gameId_1', silver_3_gameId)\n",
    "silver_2_gameId = getMatchId(SILVER_URL2, api_key)\n",
    "np.save('gameId/silver/silver_2_gameId_1', silver_2_gameId)\n",
    "silver_1_gameId = getMatchId(SILVER_URL1, api_key)\n",
    "np.save('gameId/silver/silver_1_gameId_1', silver_1_gameId)"
   ]
  },
  {
   "cell_type": "markdown",
   "metadata": {},
   "source": [
    "### Get Gold games"
   ]
  },
  {
   "cell_type": "code",
   "execution_count": 8,
   "metadata": {
    "scrolled": true
   },
   "outputs": [
    {
     "name": "stdout",
     "output_type": "stream",
     "text": [
      "Summoners start-----\n",
      "min: 2 sec: 23\n",
      "Waiting for summoners 100 end...\n",
      "min: 4 sec: 29\n",
      "Waiting for summoners 200 end...\n",
      "min: 6 sec: 34\n",
      "Waiting for summoners 300 end...\n",
      "min: 8 sec: 39\n",
      "Waiting for summoners 400 end...\n",
      "Summoners done-----\n",
      "\n",
      "Accounts start-----\n",
      "min: 10 sec: 45\n"
     ]
    },
    {
     "data": {
      "application/vnd.jupyter.widget-view+json": {
       "model_id": "d3ba2130b31b4589bfd75e81f03440a2",
       "version_major": 2,
       "version_minor": 0
      },
      "text/plain": [
       "  0%|          | 0/400 [00:00<?, ?it/s]"
      ]
     },
     "metadata": {},
     "output_type": "display_data"
    },
    {
     "name": "stdout",
     "output_type": "stream",
     "text": [
      "\n",
      "Accounts done-----\n",
      "\n",
      "MatchId start-----\n",
      "min: 20 sec: 41\n"
     ]
    },
    {
     "data": {
      "application/vnd.jupyter.widget-view+json": {
       "model_id": "ef0d66199f5846868e6bfecaa177e6d3",
       "version_major": 2,
       "version_minor": 0
      },
      "text/plain": [
       "  0%|          | 0/400 [00:00<?, ?it/s]"
      ]
     },
     "metadata": {},
     "output_type": "display_data"
    },
    {
     "name": "stdout",
     "output_type": "stream",
     "text": [
      "                      status\n",
      "message      Gateway timeout\n",
      "status_code              504\n",
      "-Error recovery time-\n",
      "min: 27 sec: 28\n"
     ]
    },
    {
     "data": {
      "application/vnd.jupyter.widget-view+json": {
       "model_id": "53faa6ac5539492896e2001b27c6283e",
       "version_major": 2,
       "version_minor": 0
      },
      "text/plain": [
       "  0%|          | 0/1 [00:00<?, ?it/s]"
      ]
     },
     "metadata": {},
     "output_type": "display_data"
    },
    {
     "name": "stdout",
     "output_type": "stream",
     "text": [
      "-Error fixed-\n",
      "\n",
      "MatchId done-----\n",
      "Done !!\n",
      "Summoners start-----\n",
      "min: 33 sec: 8\n",
      "Waiting for summoners 100 end...\n",
      "min: 35 sec: 14\n",
      "Waiting for summoners 200 end...\n",
      "min: 37 sec: 19\n",
      "Waiting for summoners 300 end...\n",
      "min: 39 sec: 24\n",
      "Waiting for summoners 400 end...\n",
      "Summoners done-----\n",
      "\n",
      "Accounts start-----\n",
      "min: 41 sec: 29\n"
     ]
    },
    {
     "data": {
      "application/vnd.jupyter.widget-view+json": {
       "model_id": "aad0da3b3e4a45b2b9075fb01275626b",
       "version_major": 2,
       "version_minor": 0
      },
      "text/plain": [
       "  0%|          | 0/400 [00:00<?, ?it/s]"
      ]
     },
     "metadata": {},
     "output_type": "display_data"
    },
    {
     "name": "stdout",
     "output_type": "stream",
     "text": [
      "\n",
      "Accounts done-----\n",
      "\n",
      "MatchId start-----\n",
      "min: 51 sec: 29\n"
     ]
    },
    {
     "data": {
      "application/vnd.jupyter.widget-view+json": {
       "model_id": "04972860106c4b5abbcb6af0a55680f2",
       "version_major": 2,
       "version_minor": 0
      },
      "text/plain": [
       "  0%|          | 0/400 [00:00<?, ?it/s]"
      ]
     },
     "metadata": {},
     "output_type": "display_data"
    },
    {
     "name": "stdout",
     "output_type": "stream",
     "text": [
      "\n",
      "MatchId done-----\n",
      "Done !!\n",
      "Summoners start-----\n",
      "min: 2 sec: 22\n",
      "Waiting for summoners 100 end...\n",
      "min: 4 sec: 28\n",
      "Waiting for summoners 200 end...\n",
      "min: 6 sec: 33\n",
      "Waiting for summoners 300 end...\n",
      "min: 8 sec: 38\n",
      "Waiting for summoners 400 end...\n",
      "Summoners done-----\n",
      "\n",
      "Accounts start-----\n",
      "min: 10 sec: 44\n"
     ]
    },
    {
     "data": {
      "application/vnd.jupyter.widget-view+json": {
       "model_id": "ccce20cf014c4967bd5c4350727676fb",
       "version_major": 2,
       "version_minor": 0
      },
      "text/plain": [
       "  0%|          | 0/400 [00:00<?, ?it/s]"
      ]
     },
     "metadata": {},
     "output_type": "display_data"
    },
    {
     "name": "stdout",
     "output_type": "stream",
     "text": [
      "\n",
      "Accounts done-----\n",
      "\n",
      "MatchId start-----\n",
      "min: 20 sec: 41\n"
     ]
    },
    {
     "data": {
      "application/vnd.jupyter.widget-view+json": {
       "model_id": "2f9b779099bc4323a5f1ebdc7fef51a8",
       "version_major": 2,
       "version_minor": 0
      },
      "text/plain": [
       "  0%|          | 0/400 [00:00<?, ?it/s]"
      ]
     },
     "metadata": {},
     "output_type": "display_data"
    },
    {
     "name": "stdout",
     "output_type": "stream",
     "text": [
      "\n",
      "MatchId done-----\n",
      "Done !!\n"
     ]
    }
   ],
   "source": [
    "gold_4_gameId = getMatchId(GOLD_URL4, api_key)\n",
    "np.save('gameId/gold/gold_4_gameId_1', gold_4_gameId)\n",
    "gold_3_gameId = getMatchId(GOLD_URL3, api_key)\n",
    "np.save('gameId/gold/gold_3_gameId_1', gold_3_gameId)\n",
    "gold_2_gameId = getMatchId(GOLD_URL2, api_key)\n",
    "np.save('gameId/gold/gold_2_gameId_1', gold_2_gameId)\n",
    "gold_1_gameId = getMatchId(GOLD_URL1, api_key)\n",
    "np.save('gameId/gold/gold_1_gameId_1', gold_1_gameId)\n"
   ]
  },
  {
   "cell_type": "markdown",
   "metadata": {},
   "source": [
    "### Get platinum games"
   ]
  },
  {
   "cell_type": "code",
   "execution_count": null,
   "metadata": {
    "scrolled": true
   },
   "outputs": [],
   "source": [
    "platinum_4_gameId = getMatchId(PLATINUM_URL4, api_key)\n",
    "np.save('gameId/platinum/platinum_4_gameId_1', platinum_4_gameId)\n",
    "platinum_3_gameId = getMatchId(PLATINUM_URL3, api_key)\n",
    "np.save('gameId/platinum/platinum_3_gameId_1', platinum_3_gameId)\n",
    "platinum_2_gameId = getMatchId(PLATINUM_URL2, api_key)\n",
    "np.save('gameId/platinum/platinum_2_gameId_1', platinum_2_gameId)\n",
    "platinum_1_gameId = getMatchId(PLATINUM_URL1, api_key)\n",
    "np.save('gameId/platinum/platinum_1_gameId_1', platinum_1_gameId)"
   ]
  },
  {
   "cell_type": "markdown",
   "metadata": {},
   "source": [
    "### Get diamond, Master, GrandMaster, challenger games"
   ]
  },
  {
   "cell_type": "code",
   "execution_count": 9,
   "metadata": {
    "scrolled": true
   },
   "outputs": [
    {
     "name": "stdout",
     "output_type": "stream",
     "text": [
      "Summoners start-----\n",
      "min: 37 sec: 43\n",
      "Waiting for summoners 100 end...\n",
      "min: 39 sec: 48\n",
      "Waiting for summoners 200 end...\n",
      "min: 41 sec: 53\n",
      "Waiting for summoners 300 end...\n",
      "min: 43 sec: 59\n",
      "Waiting for summoners 400 end...\n",
      "Summoners done-----\n",
      "\n",
      "Accounts start-----\n",
      "min: 46 sec: 4\n"
     ]
    },
    {
     "data": {
      "application/vnd.jupyter.widget-view+json": {
       "model_id": "cccaf33282ab4cb0bcf2dc077273504f",
       "version_major": 2,
       "version_minor": 0
      },
      "text/plain": [
       "  0%|          | 0/400 [00:00<?, ?it/s]"
      ]
     },
     "metadata": {},
     "output_type": "display_data"
    },
    {
     "name": "stdout",
     "output_type": "stream",
     "text": [
      "\n",
      "Accounts done-----\n",
      "\n",
      "MatchId start-----\n",
      "min: 56 sec: 4\n"
     ]
    },
    {
     "data": {
      "application/vnd.jupyter.widget-view+json": {
       "model_id": "f9eccf1685a04f169495d9b109bd45f1",
       "version_major": 2,
       "version_minor": 0
      },
      "text/plain": [
       "  0%|          | 0/400 [00:00<?, ?it/s]"
      ]
     },
     "metadata": {},
     "output_type": "display_data"
    },
    {
     "name": "stdout",
     "output_type": "stream",
     "text": [
      "\n",
      "MatchId done-----\n",
      "Done !!\n",
      "Summoners start-----\n",
      "min: 7 sec: 0\n",
      "Waiting for summoners 100 end...\n",
      "min: 9 sec: 6\n",
      "Waiting for summoners 200 end...\n",
      "min: 11 sec: 11\n",
      "Waiting for summoners 300 end...\n",
      "min: 13 sec: 16\n",
      "Waiting for summoners 400 end...\n",
      "Summoners done-----\n",
      "\n",
      "Accounts start-----\n",
      "min: 15 sec: 22\n"
     ]
    },
    {
     "data": {
      "application/vnd.jupyter.widget-view+json": {
       "model_id": "53bc516c6cb047f9ad19e3830f2f857b",
       "version_major": 2,
       "version_minor": 0
      },
      "text/plain": [
       "  0%|          | 0/400 [00:00<?, ?it/s]"
      ]
     },
     "metadata": {},
     "output_type": "display_data"
    },
    {
     "name": "stdout",
     "output_type": "stream",
     "text": [
      "\n",
      "Accounts done-----\n",
      "\n",
      "MatchId start-----\n",
      "min: 25 sec: 20\n"
     ]
    },
    {
     "data": {
      "application/vnd.jupyter.widget-view+json": {
       "model_id": "bf98da124b544f0ea9fc8b0c9782cdf2",
       "version_major": 2,
       "version_minor": 0
      },
      "text/plain": [
       "  0%|          | 0/400 [00:00<?, ?it/s]"
      ]
     },
     "metadata": {},
     "output_type": "display_data"
    },
    {
     "name": "stdout",
     "output_type": "stream",
     "text": [
      "\n",
      "MatchId done-----\n",
      "Done !!\n",
      "Summoners start-----\n",
      "min: 36 sec: 17\n",
      "Waiting for summoners 100 end...\n",
      "min: 38 sec: 22\n",
      "Waiting for summoners 200 end...\n",
      "min: 40 sec: 27\n",
      "Waiting for summoners 300 end...\n",
      "min: 42 sec: 33\n",
      "Waiting for summoners 400 end...\n",
      "Summoners done-----\n",
      "\n",
      "Accounts start-----\n",
      "min: 44 sec: 38\n"
     ]
    },
    {
     "data": {
      "application/vnd.jupyter.widget-view+json": {
       "model_id": "2996caf6e925406b9c6e23daa5f671d2",
       "version_major": 2,
       "version_minor": 0
      },
      "text/plain": [
       "  0%|          | 0/400 [00:00<?, ?it/s]"
      ]
     },
     "metadata": {},
     "output_type": "display_data"
    },
    {
     "name": "stdout",
     "output_type": "stream",
     "text": [
      "\n",
      "Accounts done-----\n",
      "\n",
      "MatchId start-----\n",
      "min: 54 sec: 37\n"
     ]
    },
    {
     "data": {
      "application/vnd.jupyter.widget-view+json": {
       "model_id": "e53d3a61906e473fa1166e3204ff3645",
       "version_major": 2,
       "version_minor": 0
      },
      "text/plain": [
       "  0%|          | 0/400 [00:00<?, ?it/s]"
      ]
     },
     "metadata": {},
     "output_type": "display_data"
    },
    {
     "name": "stdout",
     "output_type": "stream",
     "text": [
      "\n",
      "MatchId done-----\n",
      "Done !!\n",
      "Summoners start-----\n",
      "min: 5 sec: 30\n",
      "Waiting for summoners 100 end...\n",
      "min: 7 sec: 35\n",
      "Waiting for summoners 200 end...\n",
      "min: 9 sec: 40\n",
      "Waiting for summoners 300 end...\n",
      "min: 11 sec: 46\n",
      "Waiting for summoners 400 end...\n",
      "Summoners done-----\n",
      "\n",
      "Accounts start-----\n",
      "min: 13 sec: 51\n"
     ]
    },
    {
     "data": {
      "application/vnd.jupyter.widget-view+json": {
       "model_id": "db3daf6e565b48c3b466f1bc80e1ae0b",
       "version_major": 2,
       "version_minor": 0
      },
      "text/plain": [
       "  0%|          | 0/400 [00:00<?, ?it/s]"
      ]
     },
     "metadata": {},
     "output_type": "display_data"
    },
    {
     "name": "stdout",
     "output_type": "stream",
     "text": [
      "\n",
      "Accounts done-----\n",
      "\n",
      "MatchId start-----\n",
      "min: 23 sec: 49\n"
     ]
    },
    {
     "data": {
      "application/vnd.jupyter.widget-view+json": {
       "model_id": "9dfe00d0625348b5867c3ba9b846fbd5",
       "version_major": 2,
       "version_minor": 0
      },
      "text/plain": [
       "  0%|          | 0/400 [00:00<?, ?it/s]"
      ]
     },
     "metadata": {},
     "output_type": "display_data"
    },
    {
     "name": "stdout",
     "output_type": "stream",
     "text": [
      "\n",
      "MatchId done-----\n",
      "Done !!\n",
      "Summoners start-----\n",
      "min: 34 sec: 47\n",
      "Waiting for summoners 100 end...\n",
      "min: 36 sec: 53\n",
      "Waiting for summoners 200 end...\n",
      "min: 38 sec: 58\n",
      "Waiting for summoners 300 end...\n",
      "min: 41 sec: 3\n",
      "Waiting for summoners 400 end...\n",
      "Summoners done-----\n",
      "\n",
      "Accounts start-----\n",
      "min: 43 sec: 9\n"
     ]
    },
    {
     "data": {
      "application/vnd.jupyter.widget-view+json": {
       "model_id": "ef954d9c8b884c86924deedd05d8915c",
       "version_major": 2,
       "version_minor": 0
      },
      "text/plain": [
       "  0%|          | 0/400 [00:00<?, ?it/s]"
      ]
     },
     "metadata": {},
     "output_type": "display_data"
    },
    {
     "name": "stdout",
     "output_type": "stream",
     "text": [
      "\n",
      "Accounts done-----\n",
      "\n",
      "MatchId start-----\n",
      "min: 53 sec: 8\n"
     ]
    },
    {
     "data": {
      "application/vnd.jupyter.widget-view+json": {
       "model_id": "cda22b8edd3d40f4bb194950d5f2c04c",
       "version_major": 2,
       "version_minor": 0
      },
      "text/plain": [
       "  0%|          | 0/400 [00:00<?, ?it/s]"
      ]
     },
     "metadata": {},
     "output_type": "display_data"
    },
    {
     "name": "stdout",
     "output_type": "stream",
     "text": [
      "                      status\n",
      "message      Gateway timeout\n",
      "status_code              504\n",
      "-Error recovery time-\n",
      "min: 59 sec: 33\n"
     ]
    },
    {
     "data": {
      "application/vnd.jupyter.widget-view+json": {
       "model_id": "69d8505b212b433592e80cf2830292a8",
       "version_major": 2,
       "version_minor": 0
      },
      "text/plain": [
       "  0%|          | 0/1 [00:00<?, ?it/s]"
      ]
     },
     "metadata": {},
     "output_type": "display_data"
    },
    {
     "name": "stdout",
     "output_type": "stream",
     "text": [
      "-Error fixed-\n",
      "\n",
      "MatchId done-----\n",
      "Done !!\n",
      "Summoners start-----\n",
      "min: 5 sec: 39\n",
      "Waiting for summoners 100 end...\n",
      "min: 7 sec: 44\n",
      "Waiting for summoners 200 end...\n",
      "min: 9 sec: 50\n",
      "Waiting for summoners 300 end...\n",
      "min: 11 sec: 55\n",
      "Waiting for summoners 400 end...\n",
      "Summoners done-----\n",
      "\n",
      "Accounts start-----\n",
      "min: 14 sec: 0\n"
     ]
    },
    {
     "data": {
      "application/vnd.jupyter.widget-view+json": {
       "model_id": "94fc8d714cc643878fa3c4da3160600c",
       "version_major": 2,
       "version_minor": 0
      },
      "text/plain": [
       "  0%|          | 0/182 [00:00<?, ?it/s]"
      ]
     },
     "metadata": {},
     "output_type": "display_data"
    },
    {
     "name": "stdout",
     "output_type": "stream",
     "text": [
      "\n",
      "Accounts done-----\n",
      "\n",
      "MatchId start-----\n",
      "min: 18 sec: 56\n"
     ]
    },
    {
     "data": {
      "application/vnd.jupyter.widget-view+json": {
       "model_id": "2653a5b1d1124c609977c30453c0bdc1",
       "version_major": 2,
       "version_minor": 0
      },
      "text/plain": [
       "  0%|          | 0/182 [00:00<?, ?it/s]"
      ]
     },
     "metadata": {},
     "output_type": "display_data"
    },
    {
     "name": "stdout",
     "output_type": "stream",
     "text": [
      "\n",
      "MatchId done-----\n",
      "Done !!\n",
      "Summoners start-----\n",
      "min: 24 sec: 18\n",
      "Waiting for summoners 100 end...\n",
      "min: 26 sec: 24\n",
      "Waiting for summoners 200 end...\n",
      "min: 28 sec: 29\n",
      "Waiting for summoners 300 end...\n",
      "min: 30 sec: 34\n",
      "Waiting for summoners 400 end...\n",
      "Summoners done-----\n",
      "\n",
      "Accounts start-----\n",
      "min: 32 sec: 39\n"
     ]
    },
    {
     "data": {
      "application/vnd.jupyter.widget-view+json": {
       "model_id": "7190f305c7f54e66ad6cf6287202de73",
       "version_major": 2,
       "version_minor": 0
      },
      "text/plain": [
       "  0%|          | 0/100 [00:00<?, ?it/s]"
      ]
     },
     "metadata": {},
     "output_type": "display_data"
    },
    {
     "name": "stdout",
     "output_type": "stream",
     "text": [
      "\n",
      "Accounts done-----\n",
      "\n",
      "MatchId start-----\n",
      "min: 35 sec: 10\n"
     ]
    },
    {
     "data": {
      "application/vnd.jupyter.widget-view+json": {
       "model_id": "5964f9504f894dd8ac4f8285a4423734",
       "version_major": 2,
       "version_minor": 0
      },
      "text/plain": [
       "  0%|          | 0/100 [00:00<?, ?it/s]"
      ]
     },
     "metadata": {},
     "output_type": "display_data"
    },
    {
     "name": "stdout",
     "output_type": "stream",
     "text": [
      "\n",
      "MatchId done-----\n",
      "Done !!\n"
     ]
    }
   ],
   "source": [
    "diamond_4_gameId = getMatchId(DIAMOND_URL4, api_key)\n",
    "np.save('gameId/diamond/diamond_4_gameId_1', diamond_4_gameId)\n",
    "diamond_3_gameId = getMatchId(DIAMOND_URL3, api_key)\n",
    "np.save('gameId/diamond/diamond_3_gameId_1', diamond_3_gameId)\n",
    "diamond_2_gameId = getMatchId(DIAMOND_URL2, api_key)\n",
    "np.save('gameId/diamond/diamond_2_gameId_1', diamond_2_gameId)\n",
    "diamond_1_gameId = getMatchId(DIAMOND_URL1, api_key)\n",
    "np.save('gameId/diamond/diamond_1_gameId_1', diamond_1_gameId)\n",
    "master_gameId = getMatchId(MASTER_URL1, api_key)\n",
    "np.save('gameId/master/master_gameId_1', master_gameId)\n",
    "grandmaster_gameId = getMatchId(GRANDMASTER_URL1, api_key)\n",
    "np.save('gameId/grandmaster/grandmaster_gameId_1', grandmaster_gameId)\n",
    "challenger_gameId = getMatchId(CHALLENGER_URL1, api_key)\n",
    "np.save('gameId/challenger/challenger_gameId_1', challenger_gameId)"
   ]
  },
  {
   "cell_type": "markdown",
   "metadata": {},
   "source": [
    "# Make DataFrame"
   ]
  },
  {
   "cell_type": "code",
   "execution_count": null,
   "metadata": {},
   "outputs": [],
   "source": [
    "# \n",
    "\n",
    "def gameIdLoader(path, api_key):\n",
    "    gameIds = np.load(path)\n",
    "    matches=[]\n",
    "    a = 0\n",
    "    for i in tqdm(gameIds):\n",
    "        # request limit( 20 requests every 1 seconds(s) , 100 requests every 2 minutes(s) )에 대한 해결 방안으로 time.sleep 을 120이상으로 설정\n",
    "        if a % 20 == 0:\n",
    "            time.sleep(2)\n",
    "        if a % 100 == 0:\n",
    "            time.sleep(125)\n",
    "        load_url = MATCH_URL + str(i)\n",
    "        res = requests.get(load_url, headers={\"X-Riot-Token\": api_key})\n",
    "        ob=json.loads(res.text)\n",
    "        if 'gameDuration' in ob:\n",
    "            if ob['gameMode'] != 'CLASSIC':\n",
    "                a += 1\n",
    "                continue\n",
    "            matches.append(ob)\n",
    "        else:\n",
    "            print(ob)\n",
    "            print(\"-Error recovery time-\")\n",
    "            time.sleep(90)\n",
    "            rest=gameIdLoaderRe([i], api_key)\n",
    "            matches.append(rest[0])\n",
    "            print(\"-Error fixed-\")\n",
    "        a += 1\n",
    "    return matches\n",
    "    \n",
    "    \n",
    "def gameIdLoaderRe(gameIds, api_key):\n",
    "    matches=[]\n",
    "    for i in tqdm(gameIds):\n",
    "        load_url = MATCH_URL + str(i)\n",
    "        res = requests.get(load_url, headers={\"X-Riot-Token\": api_key})\n",
    "        ob=json.loads(res.text)\n",
    "        if 'gameDuration' in ob:\n",
    "            matches.append(ob)\n",
    "        else:\n",
    "            print(ob)\n",
    "            print(\"-Error recovery time-\")\n",
    "            time.sleep(90)\n",
    "            rest=gameIdLoaderRe([i], api_key)\n",
    "            matches.append(rest[0])\n",
    "            print(\"-Error fixed-\")\n",
    "    return matches\n",
    "    \n",
    "    \n",
    "def flatter(matches):\n",
    "    matchlist = []\n",
    "    for i in matches:\n",
    "        matchlist.append(flatten(i, enumerate_types=(list,), reducer=make_reducer(delimiter='_')))\n",
    "    \n",
    "    return matchlist\n",
    "\n",
    "\n",
    "def filter_dict(d, f):\n",
    "    ''' Filters dictionary d by function f. '''\n",
    "    newDict = dict()\n",
    "    # Iterate over all (k,v) pairs in names\n",
    "    for key, value in d.items():\n",
    "        # Is condition satisfied?\n",
    "        if f(key, value):\n",
    "            newDict[key] = value\n",
    "    return newDict\n",
    "\n",
    "\n",
    "def filter_team_dict(d, f):\n",
    "    ''' Filters dictionary d by function f. '''\n",
    "    newDict = dict()\n",
    "    # Iterate over all (k,v) pairs in names\n",
    "    ind = -1\n",
    "    kl = ['teams_win', 'teams_firstBlood', 'teams_firstTower', 'teams_firstInhibitor', 'teams_firstBaron', 'teams_firstDragon', 'teams_firstRiftHerald', 'teams_towerKills', 'teams_inhibitorKills', 'teams_baronKills', 'teams_dragonKills', 'teams_riftHeraldKills']\n",
    "    for key, value in d.items():\n",
    "        # Is condition satisfied?\n",
    "        if f(key, value):\n",
    "            ind += 1\n",
    "            newDict[kl[ind]] = value\n",
    "    return newDict\n",
    "\n",
    "\n",
    "def filter_participant_dict(d, f):\n",
    "    ''' Filters dictionary d by function f. '''\n",
    "    newDict = dict()\n",
    "    # Iterate over all (k,v) pairs in names\n",
    "    for key, value in d.items():\n",
    "        # Is condition satisfied?\n",
    "        if f(key, value):\n",
    "            pkey = 'total_'+key[14:]\n",
    "            newDict[pkey] = value\n",
    "    return newDict\n",
    "\n",
    "\n",
    "def winTeams_0(match):\n",
    "    matchtemp = match\n",
    "    \n",
    "    for delstring in ['item', 'Id', 'playerScore', 'perk', 'Perk', 'bans', 'PlayerScore', 'timeline_csDiffPerMinDeltas_0-10', 'stats_totalScoreRank', 'dominionVictoryScore', 'stats_win', 'stats_unrealKills', 'stats_sightWardsBoughtInGame', 'timeline', 'vilemawKills', 'dominionVictoryScore','stats_firstInhibitorAssist','stats_firstInhibitorKill', 'stats_firstTowerAssist', 'stats_firstTowerKill', 'stats_firstBloodAssist', 'stats_firstBloodKill','turretKills','towerKills', 'damageDealtToTurrets']: \n",
    "        temp = list(filter_dict(match, lambda k,v: delstring in k).keys())\n",
    "        for i in temp:\n",
    "            del(matchtemp[i])\n",
    "    \n",
    "    \n",
    "    avg_data = (np.array(list(filter_participant_dict(matchtemp, lambda k,v: 'participants_0' in k).values())) \n",
    "    + np.array(list(filter_participant_dict(matchtemp, lambda k,v: 'participants_1' in k).values())) \n",
    "    + np.array(list(filter_participant_dict(matchtemp, lambda k,v: 'participants_2' in k).values())) \n",
    "    + np.array(list(filter_participant_dict(matchtemp, lambda k,v: 'participants_3' in k).values()))\n",
    "    + np.array(list(filter_participant_dict(matchtemp, lambda k,v: 'participants_4' in k).values())))\n",
    "    avg_label = list(filter_participant_dict(matchtemp, lambda k,v: 'participants_0' in k).keys())\n",
    "    win = {avg_label[i]: avg_data[i] for i in range(len(avg_label))}\n",
    "    \n",
    "    \n",
    "    avg_data = (np.array(list(filter_participant_dict(matchtemp, lambda k,v: 'participants_5' in k).values())) \n",
    "    + np.array(list(filter_participant_dict(matchtemp, lambda k,v: 'participants_6' in k).values())) \n",
    "    + np.array(list(filter_participant_dict(matchtemp, lambda k,v: 'participants_7' in k).values())) \n",
    "    + np.array(list(filter_participant_dict(matchtemp, lambda k,v: 'participants_8' in k).values()))\n",
    "    + np.array(list(filter_participant_dict(matchtemp, lambda k,v: 'participants_9' in k).values())))\n",
    "    lose = {avg_label[i]: avg_data[i] for i in range(len(avg_label))}\n",
    "    \n",
    "    win.update(filter_team_dict(matchtemp, lambda k,v: 'teams_0' in k))\n",
    "    lose.update(filter_team_dict(matchtemp, lambda k,v: 'teams_1' in k))\n",
    "    \n",
    "    return [win, lose]\n",
    "\n",
    "\n",
    "def winTeams_1(match):\n",
    "    temp = winTeams_0(match)\n",
    "    return [temp[1], temp[0]]\n",
    "\n",
    "\n",
    "def divideTeams(matches):\n",
    "    resultList = list()\n",
    "    for i in matches:\n",
    "        loseDict = dict()\n",
    "        winDict = dict()\n",
    "        loseDict.update({'gameDuration':i['gameDuration']})\n",
    "        winDict.update({'gameDuration':i['gameDuration']})\n",
    "        loseDict.update({'gameMode':i['gameMode']})\n",
    "        winDict.update({'gameMode':i['gameMode']})\n",
    "        \n",
    "        if i['teams_0_win'] == 'Win':\n",
    "            winDict.update(winTeams_0(i)[0])\n",
    "            loseDict.update(winTeams_0(i)[1])\n",
    "        else:\n",
    "            winDict.update(winTeams_1(i)[0])\n",
    "            loseDict.update(winTeams_1(i)[1])\n",
    "        resultList.append(winDict)\n",
    "        resultList.append(loseDict)\n",
    "    return resultList   \n",
    "\n",
    "\n",
    "def preprocessing(matches):\n",
    "    df = pd.DataFrame(divideTeams(flatter(matches)))\n",
    "    df[\"teams_firstBlood\"] = df[\"teams_firstBlood\"].astype(int)\n",
    "    df[\"teams_firstTower\"] = df[\"teams_firstTower\"].astype(int)\n",
    "    df[\"teams_firstInhibitor\"] = df[\"teams_firstInhibitor\"].astype(int)\n",
    "    df[\"teams_firstBaron\"] = df[\"teams_firstBaron\"].astype(int)\n",
    "    df[\"teams_firstDragon\"] = df[\"teams_firstDragon\"].astype(int)\n",
    "    df[\"teams_firstRiftHerald\"] = df[\"teams_firstRiftHerald\"].astype(int)\n",
    "    df.insert(0, 'team_win', df.teams_win)\n",
    "    df = df.drop(columns=['teams_win', 'gameMode'])\n",
    "    df['team_win'] = df['team_win'].replace(['Win','Fail'],[10000,-500])\n",
    "    return df\n",
    "\n",
    "\n",
    "def getDataFrame(path, api_key):\n",
    "    return preprocessing(gameIdLoader(path, api_key))\n"
   ]
  },
  {
   "cell_type": "code",
   "execution_count": null,
   "metadata": {
    "collapsed": true,
    "jupyter": {
     "outputs_hidden": true
    },
    "scrolled": true
   },
   "outputs": [
    {
     "name": "stderr",
     "output_type": "stream",
     "text": [
      "  0%|                                                                                          | 0/400 [00:00<?, ?it/s]"
     ]
    }
   ],
   "source": [
    "df = getDataFrame('gameId/iron/iron_1_gameId_1.npy', api_key)\n",
    "df1 = getDataFrame('gameId/iron/iron_2_gameId_1.npy', api_key)\n",
    "df2 = getDataFrame('gameId/iron/iron_3_gameId_1.npy', api_key)\n",
    "df3 = getDataFrame('gameId/iron/iron_4_gameId_1.npy', api_key)\n",
    "\n",
    "df = df.append(df1)\n",
    "df = df.append(df2)\n",
    "df = df.append(df3)\n",
    "df.to_csv(\"dataFrame/iron.csv\")"
   ]
  },
  {
   "cell_type": "code",
   "execution_count": 93,
   "metadata": {},
   "outputs": [
    {
     "data": {
      "text/plain": [
       "Unnamed: 0                                     -0.002556\n",
       "team_win                                        1.000000\n",
       "gameDuration                                    0.000000\n",
       "total__stats_kills                              0.446040\n",
       "total__stats_deaths                            -0.444560\n",
       "total__stats_assists                            0.356057\n",
       "total__stats_largestKillingSpree                0.624212\n",
       "total__stats_largestMultiKill                   0.423115\n",
       "total__stats_killingSprees                      0.397677\n",
       "total__stats_longestTimeSpentLiving             0.127642\n",
       "total__stats_doubleKills                        0.402716\n",
       "total__stats_tripleKills                        0.266880\n",
       "total__stats_quadraKills                        0.149036\n",
       "total__stats_pentaKills                         0.073797\n",
       "total__stats_totalDamageDealt                   0.180327\n",
       "total__stats_magicDamageDealt                   0.117886\n",
       "total__stats_physicalDamageDealt                0.165830\n",
       "total__stats_trueDamageDealt                    0.118178\n",
       "total__stats_largestCriticalStrike              0.106272\n",
       "total__stats_totalDamageDealtToChampions        0.173170\n",
       "total__stats_magicDamageDealtToChampions        0.114296\n",
       "total__stats_physicalDamageDealtToChampions     0.165953\n",
       "total__stats_trueDamageDealtToChampions         0.110872\n",
       "total__stats_totalHeal                          0.206522\n",
       "total__stats_totalUnitsHealed                   0.048570\n",
       "total__stats_damageSelfMitigated                0.004817\n",
       "total__stats_damageDealtToObjectives            0.518028\n",
       "total__stats_visionScore                        0.138823\n",
       "total__stats_timeCCingOthers                    0.054126\n",
       "total__stats_totalDamageTaken                  -0.079066\n",
       "total__stats_magicalDamageTaken                -0.101757\n",
       "total__stats_physicalDamageTaken               -0.039924\n",
       "total__stats_trueDamageTaken                   -0.077856\n",
       "total__stats_goldEarned                         0.246578\n",
       "total__stats_goldSpent                          0.161820\n",
       "total__stats_inhibitorKills                     0.525194\n",
       "total__stats_totalMinionsKilled                 0.116726\n",
       "total__stats_neutralMinionsKilled               0.289906\n",
       "total__stats_neutralMinionsKilledTeamJungle     0.088170\n",
       "total__stats_neutralMinionsKilledEnemyJungle    0.413172\n",
       "total__stats_totalTimeCrowdControlDealt         0.081333\n",
       "total__stats_champLevel                         0.202476\n",
       "total__stats_visionWardsBoughtInGame            0.078510\n",
       "total__stats_wardsPlaced                        0.085591\n",
       "total__stats_wardsKilled                        0.058006\n",
       "teams_firstBlood                                0.190547\n",
       "teams_firstTower                                0.450734\n",
       "teams_firstInhibitor                            0.600059\n",
       "teams_firstBaron                                0.267644\n",
       "teams_firstDragon                               0.330270\n",
       "teams_firstRiftHerald                           0.267677\n",
       "teams_towerKills                                0.524060\n",
       "teams_inhibitorKills                            0.252126\n",
       "teams_baronKills                                0.499294\n",
       "teams_dragonKills                               0.279704\n",
       "Name: team_win, dtype: float64"
      ]
     },
     "execution_count": 93,
     "metadata": {},
     "output_type": "execute_result"
    }
   ],
   "source": [
    "df_iron = pd.read_csv('dataFrame/iron.csv')\n",
    "df_iron.corr().team_win"
   ]
  },
  {
   "cell_type": "code",
   "execution_count": null,
   "metadata": {},
   "outputs": [],
   "source": [
    "df_bronze = getDataFrame('gameId/bronze/bronze_1_gameId_1.npy', api_key)\n",
    "df1 = getDataFrame('gameId/bronze/bronze_2_gameId_1.npy', api_key)\n",
    "df2 = getDataFrame('gameId/bronze/bronze_3_gameId_1.npy', api_key)\n",
    "df3 = getDataFrame('gameId/bronze/bronze_4_gameId_1.npy', api_key)\n",
    "\n",
    "df_bronze = df_bronze.append(df1)\n",
    "df_bronze = df_bronze.append(df2)\n",
    "df_bronze = df_bronze.append(df3)\n",
    "df_bronze.to_csv(\"dataFrame/bronze.csv\")"
   ]
  },
  {
   "cell_type": "code",
   "execution_count": 12,
   "metadata": {
    "collapsed": true,
    "jupyter": {
     "outputs_hidden": true
    }
   },
   "outputs": [
    {
     "data": {
      "text/plain": [
       "Unnamed: 0                                     -0.002359\n",
       "team_win                                        1.000000\n",
       "gameDuration                                    0.000000\n",
       "total__stats_kills                              0.463172\n",
       "total__stats_deaths                            -0.461522\n",
       "total__stats_assists                            0.378639\n",
       "total__stats_largestKillingSpree                0.615208\n",
       "total__stats_largestMultiKill                   0.422129\n",
       "total__stats_killingSprees                      0.420435\n",
       "total__stats_longestTimeSpentLiving             0.130406\n",
       "total__stats_doubleKills                        0.418660\n",
       "total__stats_tripleKills                        0.278756\n",
       "total__stats_quadraKills                        0.155063\n",
       "total__stats_pentaKills                         0.096791\n",
       "total__stats_totalDamageDealt                   0.190049\n",
       "total__stats_magicDamageDealt                   0.104656\n",
       "total__stats_physicalDamageDealt                0.186112\n",
       "total__stats_trueDamageDealt                    0.118681\n",
       "total__stats_largestCriticalStrike              0.132728\n",
       "total__stats_totalDamageDealtToChampions        0.182984\n",
       "total__stats_magicDamageDealtToChampions        0.105787\n",
       "total__stats_physicalDamageDealtToChampions     0.188516\n",
       "total__stats_trueDamageDealtToChampions         0.111594\n",
       "total__stats_totalHeal                          0.221164\n",
       "total__stats_totalUnitsHealed                   0.028404\n",
       "total__stats_damageSelfMitigated                0.001934\n",
       "total__stats_damageDealtToObjectives            0.545864\n",
       "total__stats_visionScore                        0.153661\n",
       "total__stats_timeCCingOthers                    0.063496\n",
       "total__stats_totalDamageTaken                  -0.081489\n",
       "total__stats_magicalDamageTaken                -0.092302\n",
       "total__stats_physicalDamageTaken               -0.049457\n",
       "total__stats_trueDamageTaken                   -0.069868\n",
       "total__stats_goldEarned                         0.261107\n",
       "total__stats_goldSpent                          0.154146\n",
       "total__stats_inhibitorKills                     0.539729\n",
       "total__stats_totalMinionsKilled                 0.105008\n",
       "total__stats_neutralMinionsKilled               0.310225\n",
       "total__stats_neutralMinionsKilledTeamJungle     0.101069\n",
       "total__stats_neutralMinionsKilledEnemyJungle    0.459094\n",
       "total__stats_totalTimeCrowdControlDealt         0.066426\n",
       "total__stats_champLevel                         0.210721\n",
       "total__stats_visionWardsBoughtInGame            0.071003\n",
       "total__stats_wardsPlaced                        0.086539\n",
       "total__stats_wardsKilled                        0.061428\n",
       "teams_firstBlood                                0.159727\n",
       "teams_firstTower                                0.471759\n",
       "teams_firstInhibitor                            0.632714\n",
       "teams_firstBaron                                0.330827\n",
       "teams_firstDragon                               0.254024\n",
       "teams_firstRiftHerald                           0.258275\n",
       "teams_towerKills                                0.539629\n",
       "teams_inhibitorKills                            0.318658\n",
       "teams_baronKills                                0.493682\n",
       "teams_dragonKills                               0.276882\n",
       "Name: team_win, dtype: float64"
      ]
     },
     "execution_count": 12,
     "metadata": {},
     "output_type": "execute_result"
    }
   ],
   "source": [
    "df_bronze = pd.read_csv('dataFrame/bronze.csv')\n",
    "df_bronze.corr().team_win"
   ]
  },
  {
   "cell_type": "code",
   "execution_count": null,
   "metadata": {},
   "outputs": [],
   "source": [
    "df_silver = getDataFrame('gameId/silver/silver_1_gameId_1.npy', api_key)\n",
    "df1 = getDataFrame('gameId/silver/silver_2_gameId_1.npy', api_key)\n",
    "df2 = getDataFrame('gameId/silver/silver_3_gameId_1.npy', api_key)\n",
    "df3 = getDataFrame('gameId/silver/silver_4_gameId_1.npy', api_key)\n",
    "\n",
    "df_silver = df_silver.append(df1)\n",
    "df_silver = df_silver.append(df2)\n",
    "df_silver = df_silver.append(df3)\n",
    "df_silver.to_csv(\"dataFrame/silver.csv\")"
   ]
  },
  {
   "cell_type": "code",
   "execution_count": 13,
   "metadata": {
    "collapsed": true,
    "jupyter": {
     "outputs_hidden": true
    }
   },
   "outputs": [
    {
     "data": {
      "text/plain": [
       "Unnamed: 0                                     -0.002419\n",
       "team_win                                        1.000000\n",
       "gameDuration                                    0.000000\n",
       "total__stats_kills                              0.495628\n",
       "total__stats_deaths                            -0.494100\n",
       "total__stats_assists                            0.406924\n",
       "total__stats_largestKillingSpree                0.644412\n",
       "total__stats_largestMultiKill                   0.427643\n",
       "total__stats_killingSprees                      0.451219\n",
       "total__stats_longestTimeSpentLiving             0.161896\n",
       "total__stats_doubleKills                        0.437478\n",
       "total__stats_tripleKills                        0.269764\n",
       "total__stats_quadraKills                        0.159882\n",
       "total__stats_pentaKills                         0.050876\n",
       "total__stats_totalDamageDealt                   0.196837\n",
       "total__stats_magicDamageDealt                   0.128617\n",
       "total__stats_physicalDamageDealt                0.180434\n",
       "total__stats_trueDamageDealt                    0.070230\n",
       "total__stats_largestCriticalStrike              0.154977\n",
       "total__stats_totalDamageDealtToChampions        0.199460\n",
       "total__stats_magicDamageDealtToChampions        0.127863\n",
       "total__stats_physicalDamageDealtToChampions     0.191697\n",
       "total__stats_trueDamageDealtToChampions         0.123664\n",
       "total__stats_totalHeal                          0.227599\n",
       "total__stats_totalUnitsHealed                   0.048819\n",
       "total__stats_damageSelfMitigated                0.026787\n",
       "total__stats_damageDealtToObjectives            0.588059\n",
       "total__stats_visionScore                        0.159342\n",
       "total__stats_timeCCingOthers                    0.087322\n",
       "total__stats_totalDamageTaken                  -0.091612\n",
       "total__stats_magicalDamageTaken                -0.112806\n",
       "total__stats_physicalDamageTaken               -0.047363\n",
       "total__stats_trueDamageTaken                   -0.069795\n",
       "total__stats_goldEarned                         0.282282\n",
       "total__stats_goldSpent                          0.167565\n",
       "total__stats_inhibitorKills                     0.585134\n",
       "total__stats_totalMinionsKilled                 0.081608\n",
       "total__stats_neutralMinionsKilled               0.325778\n",
       "total__stats_neutralMinionsKilledTeamJungle     0.083982\n",
       "total__stats_neutralMinionsKilledEnemyJungle    0.471702\n",
       "total__stats_totalTimeCrowdControlDealt         0.096321\n",
       "total__stats_champLevel                         0.230979\n",
       "total__stats_visionWardsBoughtInGame            0.078250\n",
       "total__stats_wardsPlaced                        0.065644\n",
       "total__stats_wardsKilled                        0.089997\n",
       "teams_firstBlood                                0.221834\n",
       "teams_firstTower                                0.424799\n",
       "teams_firstInhibitor                            0.658203\n",
       "teams_firstBaron                                0.398184\n",
       "teams_firstDragon                               0.223247\n",
       "teams_firstRiftHerald                           0.222673\n",
       "teams_towerKills                                0.583078\n",
       "teams_inhibitorKills                            0.377701\n",
       "teams_baronKills                                0.530603\n",
       "teams_dragonKills                               0.262880\n",
       "Name: team_win, dtype: float64"
      ]
     },
     "execution_count": 13,
     "metadata": {},
     "output_type": "execute_result"
    }
   ],
   "source": [
    "df_silver = pd.read_csv('dataFrame/silver.csv')\n",
    "df_silver.corr().team_win"
   ]
  },
  {
   "cell_type": "code",
   "execution_count": 12,
   "metadata": {
    "collapsed": true,
    "jupyter": {
     "outputs_hidden": true
    }
   },
   "outputs": [
    {
     "data": {
      "application/vnd.jupyter.widget-view+json": {
       "model_id": "9de3d2f9b9d749c696125c53c9084c55",
       "version_major": 2,
       "version_minor": 0
      },
      "text/plain": [
       "  0%|          | 0/400 [00:00<?, ?it/s]"
      ]
     },
     "metadata": {},
     "output_type": "display_data"
    },
    {
     "data": {
      "application/vnd.jupyter.widget-view+json": {
       "model_id": "5701577b5d794cce95376a25c895c006",
       "version_major": 2,
       "version_minor": 0
      },
      "text/plain": [
       "  0%|          | 0/400 [00:00<?, ?it/s]"
      ]
     },
     "metadata": {},
     "output_type": "display_data"
    },
    {
     "name": "stdout",
     "output_type": "stream",
     "text": [
      "{'status': {'message': 'Gateway timeout', 'status_code': 504}}\n",
      "-Error recovery time-\n"
     ]
    },
    {
     "data": {
      "application/vnd.jupyter.widget-view+json": {
       "model_id": "df4b46149e554e5ab8e9b63ffd17f865",
       "version_major": 2,
       "version_minor": 0
      },
      "text/plain": [
       "  0%|          | 0/1 [00:00<?, ?it/s]"
      ]
     },
     "metadata": {},
     "output_type": "display_data"
    },
    {
     "name": "stdout",
     "output_type": "stream",
     "text": [
      "-Error fixed-\n",
      "{'status': {'message': 'Gateway timeout', 'status_code': 504}}\n",
      "-Error recovery time-\n"
     ]
    },
    {
     "data": {
      "application/vnd.jupyter.widget-view+json": {
       "model_id": "67681061986a4735a76e0b2742253889",
       "version_major": 2,
       "version_minor": 0
      },
      "text/plain": [
       "  0%|          | 0/1 [00:00<?, ?it/s]"
      ]
     },
     "metadata": {},
     "output_type": "display_data"
    },
    {
     "name": "stdout",
     "output_type": "stream",
     "text": [
      "-Error fixed-\n"
     ]
    },
    {
     "data": {
      "application/vnd.jupyter.widget-view+json": {
       "model_id": "c136ba63f02541dcac1142b9b9e6501b",
       "version_major": 2,
       "version_minor": 0
      },
      "text/plain": [
       "  0%|          | 0/400 [00:00<?, ?it/s]"
      ]
     },
     "metadata": {},
     "output_type": "display_data"
    },
    {
     "data": {
      "application/vnd.jupyter.widget-view+json": {
       "model_id": "cb2cc97237c94c00be9856a5bfd0fd90",
       "version_major": 2,
       "version_minor": 0
      },
      "text/plain": [
       "  0%|          | 0/400 [00:00<?, ?it/s]"
      ]
     },
     "metadata": {},
     "output_type": "display_data"
    }
   ],
   "source": [
    "df_gold = getDataFrame('gameId/gold/gold_1_gameId_1.npy', api_key)\n",
    "df1 = getDataFrame('gameId/gold/gold_2_gameId_1.npy', api_key)\n",
    "df2 = getDataFrame('gameId/gold/gold_3_gameId_1.npy', api_key)\n",
    "df3 = getDataFrame('gameId/gold/gold_4_gameId_1.npy', api_key)\n",
    "\n",
    "df_gold = df_gold.append(df1)\n",
    "df_gold = df_gold.append(df2)\n",
    "df_gold = df_gold.append(df3)\n",
    "df_gold.to_csv(\"dataFrame/gold.csv\")"
   ]
  },
  {
   "cell_type": "code",
   "execution_count": 14,
   "metadata": {
    "collapsed": true,
    "jupyter": {
     "outputs_hidden": true
    }
   },
   "outputs": [
    {
     "data": {
      "text/plain": [
       "Unnamed: 0                                     -0.002682\n",
       "team_win                                        1.000000\n",
       "gameDuration                                    0.000000\n",
       "total__stats_kills                              0.514884\n",
       "total__stats_deaths                            -0.513480\n",
       "total__stats_assists                            0.455093\n",
       "total__stats_largestKillingSpree                0.640875\n",
       "total__stats_largestMultiKill                   0.453300\n",
       "total__stats_killingSprees                      0.466783\n",
       "total__stats_longestTimeSpentLiving             0.149126\n",
       "total__stats_doubleKills                        0.443095\n",
       "total__stats_tripleKills                        0.290195\n",
       "total__stats_quadraKills                        0.142252\n",
       "total__stats_pentaKills                         0.073648\n",
       "total__stats_totalDamageDealt                   0.210460\n",
       "total__stats_magicDamageDealt                   0.171294\n",
       "total__stats_physicalDamageDealt                0.174599\n",
       "total__stats_trueDamageDealt                    0.067540\n",
       "total__stats_largestCriticalStrike              0.135771\n",
       "total__stats_totalDamageDealtToChampions        0.200042\n",
       "total__stats_magicDamageDealtToChampions        0.159748\n",
       "total__stats_physicalDamageDealtToChampions     0.180391\n",
       "total__stats_trueDamageDealtToChampions         0.090311\n",
       "total__stats_totalHeal                          0.245952\n",
       "total__stats_totalUnitsHealed                   0.063363\n",
       "total__stats_damageSelfMitigated                0.017277\n",
       "total__stats_damageDealtToObjectives            0.612267\n",
       "total__stats_visionScore                        0.148924\n",
       "total__stats_timeCCingOthers                    0.069094\n",
       "total__stats_totalDamageTaken                  -0.090215\n",
       "total__stats_magicalDamageTaken                -0.142124\n",
       "total__stats_physicalDamageTaken               -0.034611\n",
       "total__stats_trueDamageTaken                   -0.037234\n",
       "total__stats_goldEarned                         0.302530\n",
       "total__stats_goldSpent                          0.184631\n",
       "total__stats_inhibitorKills                     0.613012\n",
       "total__stats_totalMinionsKilled                 0.099935\n",
       "total__stats_neutralMinionsKilled               0.317943\n",
       "total__stats_neutralMinionsKilledTeamJungle     0.063219\n",
       "total__stats_neutralMinionsKilledEnemyJungle    0.496372\n",
       "total__stats_totalTimeCrowdControlDealt         0.094294\n",
       "total__stats_champLevel                         0.238580\n",
       "total__stats_visionWardsBoughtInGame            0.067101\n",
       "total__stats_wardsPlaced                        0.068589\n",
       "total__stats_wardsKilled                        0.102543\n",
       "teams_firstBlood                                0.194423\n",
       "teams_firstTower                                0.443895\n",
       "teams_firstInhibitor                            0.675672\n",
       "teams_firstBaron                                0.437870\n",
       "teams_firstDragon                               0.282775\n",
       "teams_firstRiftHerald                           0.203567\n",
       "teams_towerKills                                0.615838\n",
       "teams_inhibitorKills                            0.426847\n",
       "teams_baronKills                                0.535846\n",
       "teams_dragonKills                               0.275804\n",
       "Name: team_win, dtype: float64"
      ]
     },
     "execution_count": 14,
     "metadata": {},
     "output_type": "execute_result"
    }
   ],
   "source": [
    "df_gold = pd.read_csv('dataFrame/gold.csv')\n",
    "df_gold.corr().team_win"
   ]
  },
  {
   "cell_type": "code",
   "execution_count": null,
   "metadata": {
    "collapsed": true,
    "jupyter": {
     "outputs_hidden": true
    }
   },
   "outputs": [],
   "source": [
    "df_platinum = getDataFrame('gameId/platinum/platinum_1_gameId_1.npy', api_key)\n",
    "df1 = getDataFrame('gameId/platinum/platinum_2_gameId_1.npy', api_key)\n",
    "df2 = getDataFrame('gameId/platinum/platinum_3_gameId_1.npy', api_key)\n",
    "df3 = getDataFrame('gameId/platinum/platinum_4_gameId_1.npy', api_key)\n",
    "\n",
    "df_platinum = df_platinum.append(df1)\n",
    "df_platinum = df_platinum.append(df2)\n",
    "df_platinum = df_platinum.append(df3)\n",
    "df_platinum.to_csv(\"dataFrame/platinum.csv\")"
   ]
  },
  {
   "cell_type": "code",
   "execution_count": 8,
   "metadata": {
    "collapsed": true,
    "jupyter": {
     "outputs_hidden": true
    }
   },
   "outputs": [
    {
     "data": {
      "text/plain": [
       "Unnamed: 0                                     -0.002443\n",
       "team_win                                        1.000000\n",
       "gameDuration                                    0.000000\n",
       "total__stats_kills                              0.507661\n",
       "total__stats_deaths                            -0.506838\n",
       "total__stats_assists                            0.450013\n",
       "total__stats_largestKillingSpree                0.675370\n",
       "total__stats_largestMultiKill                   0.468123\n",
       "total__stats_killingSprees                      0.467092\n",
       "total__stats_longestTimeSpentLiving             0.119070\n",
       "total__stats_doubleKills                        0.473167\n",
       "total__stats_tripleKills                        0.284312\n",
       "total__stats_quadraKills                        0.132611\n",
       "total__stats_pentaKills                         0.057102\n",
       "total__stats_totalDamageDealt                   0.208308\n",
       "total__stats_magicDamageDealt                   0.159175\n",
       "total__stats_physicalDamageDealt                0.171298\n",
       "total__stats_trueDamageDealt                    0.105439\n",
       "total__stats_largestCriticalStrike              0.124379\n",
       "total__stats_totalDamageDealtToChampions        0.186241\n",
       "total__stats_magicDamageDealtToChampions        0.141612\n",
       "total__stats_physicalDamageDealtToChampions     0.170816\n",
       "total__stats_trueDamageDealtToChampions         0.124129\n",
       "total__stats_totalHeal                          0.248232\n",
       "total__stats_totalUnitsHealed                   0.086819\n",
       "total__stats_damageSelfMitigated                0.013708\n",
       "total__stats_damageDealtToObjectives            0.617001\n",
       "total__stats_visionScore                        0.156191\n",
       "total__stats_timeCCingOthers                    0.056708\n",
       "total__stats_totalDamageTaken                  -0.073712\n",
       "total__stats_magicalDamageTaken                -0.122632\n",
       "total__stats_physicalDamageTaken               -0.017526\n",
       "total__stats_trueDamageTaken                   -0.068252\n",
       "total__stats_goldEarned                         0.302149\n",
       "total__stats_goldSpent                          0.184933\n",
       "total__stats_inhibitorKills                     0.599659\n",
       "total__stats_totalMinionsKilled                 0.095558\n",
       "total__stats_neutralMinionsKilled               0.311604\n",
       "total__stats_neutralMinionsKilledTeamJungle     0.049342\n",
       "total__stats_neutralMinionsKilledEnemyJungle    0.500973\n",
       "total__stats_totalTimeCrowdControlDealt         0.094336\n",
       "total__stats_champLevel                         0.248653\n",
       "total__stats_visionWardsBoughtInGame            0.093098\n",
       "total__stats_wardsPlaced                        0.055546\n",
       "total__stats_wardsKilled                        0.110302\n",
       "teams_firstBlood                                0.180791\n",
       "teams_firstTower                                0.435748\n",
       "teams_firstInhibitor                            0.676817\n",
       "teams_firstBaron                                0.492622\n",
       "teams_firstDragon                               0.229550\n",
       "teams_firstRiftHerald                           0.244570\n",
       "teams_towerKills                                0.596656\n",
       "teams_inhibitorKills                            0.467107\n",
       "teams_baronKills                                0.527245\n",
       "teams_dragonKills                               0.338618\n",
       "Name: team_win, dtype: float64"
      ]
     },
     "execution_count": 8,
     "metadata": {},
     "output_type": "execute_result"
    }
   ],
   "source": [
    "df_platinum = pd.read_csv('dataFrame/platinum.csv')\n",
    "df_platinum.corr().team_win"
   ]
  },
  {
   "cell_type": "code",
   "execution_count": 8,
   "metadata": {
    "collapsed": true,
    "jupyter": {
     "outputs_hidden": true
    }
   },
   "outputs": [
    {
     "name": "stderr",
     "output_type": "stream",
     "text": [
      " 61%|████████████████████████████████████████████████▌                               | 243/400 [08:05<01:38,  1.59it/s]"
     ]
    },
    {
     "name": "stdout",
     "output_type": "stream",
     "text": [
      "{'status': {'message': 'Gateway timeout', 'status_code': 504}}\n",
      "-Error recovery time-\n"
     ]
    },
    {
     "name": "stderr",
     "output_type": "stream",
     "text": [
      "\n",
      "  0%|                                                                                            | 0/1 [00:00<?, ?it/s]\u001b[A\n",
      "100%|████████████████████████████████████████████████████████████████████████████████████| 1/1 [00:00<00:00,  2.41it/s]\u001b[A\n",
      " 61%|███████████████████████████████████████████████▌                              | 244/400 [09:35<1:11:55, 27.66s/it]"
     ]
    },
    {
     "name": "stdout",
     "output_type": "stream",
     "text": [
      "-Error fixed-\n"
     ]
    },
    {
     "name": "stderr",
     "output_type": "stream",
     "text": [
      "100%|████████████████████████████████████████████████████████████████████████████████| 400/400 [12:47<00:00,  1.92s/it]\n",
      " 17%|█████████████▉                                                                   | 69/400 [02:39<02:04,  2.65it/s]"
     ]
    },
    {
     "name": "stdout",
     "output_type": "stream",
     "text": [
      "{'status': {'message': 'Gateway timeout', 'status_code': 504}}\n",
      "-Error recovery time-\n"
     ]
    },
    {
     "name": "stderr",
     "output_type": "stream",
     "text": [
      "\n",
      "  0%|                                                                                            | 0/1 [00:00<?, ?it/s]\u001b[A\n",
      "100%|████████████████████████████████████████████████████████████████████████████████████| 1/1 [00:00<00:00,  2.48it/s]\u001b[A\n",
      " 18%|█████████████▊                                                                 | 70/400 [04:09<2:31:12, 27.49s/it]"
     ]
    },
    {
     "name": "stdout",
     "output_type": "stream",
     "text": [
      "-Error fixed-\n"
     ]
    },
    {
     "name": "stderr",
     "output_type": "stream",
     "text": [
      " 75%|████████████████████████████████████████████████████████████                    | 300/400 [10:03<00:34,  2.93it/s]"
     ]
    },
    {
     "name": "stdout",
     "output_type": "stream",
     "text": [
      "{'status': {'message': 'Gateway timeout', 'status_code': 504}}\n",
      "-Error recovery time-\n"
     ]
    },
    {
     "name": "stderr",
     "output_type": "stream",
     "text": [
      "\n",
      "  0%|                                                                                            | 0/1 [00:00<?, ?it/s]\u001b[A\n",
      "100%|████████████████████████████████████████████████████████████████████████████████████| 1/1 [00:00<00:00,  2.33it/s]\u001b[A\n",
      " 75%|██████████████████████████████████████████████████████████▋                   | 301/400 [13:41<1:48:14, 65.60s/it]"
     ]
    },
    {
     "name": "stdout",
     "output_type": "stream",
     "text": [
      "-Error fixed-\n"
     ]
    },
    {
     "name": "stderr",
     "output_type": "stream",
     "text": [
      " 96%|█████████████████████████████████████████████████████████████████████████████   | 385/400 [14:18<00:07,  2.01it/s]"
     ]
    },
    {
     "name": "stdout",
     "output_type": "stream",
     "text": [
      "{'status': {'message': 'Gateway timeout', 'status_code': 504}}\n",
      "-Error recovery time-\n"
     ]
    },
    {
     "name": "stderr",
     "output_type": "stream",
     "text": [
      "\n",
      "  0%|                                                                                            | 0/1 [00:00<?, ?it/s]\u001b[A\n",
      "100%|████████████████████████████████████████████████████████████████████████████████████| 1/1 [00:00<00:00,  2.61it/s]\u001b[A\n",
      " 96%|█████████████████████████████████████████████████████████████████████████████▏  | 386/400 [15:49<06:25, 27.56s/it]"
     ]
    },
    {
     "name": "stdout",
     "output_type": "stream",
     "text": [
      "-Error fixed-\n"
     ]
    },
    {
     "name": "stderr",
     "output_type": "stream",
     "text": [
      "100%|████████████████████████████████████████████████████████████████████████████████| 400/400 [15:54<00:00,  2.39s/it]\n",
      " 78%|██████████████████████████████████████████████████████████████▌                 | 313/400 [10:39<01:16,  1.14it/s]"
     ]
    },
    {
     "name": "stdout",
     "output_type": "stream",
     "text": [
      "{'status': {'message': 'Gateway timeout', 'status_code': 504}}\n",
      "-Error recovery time-\n"
     ]
    },
    {
     "name": "stderr",
     "output_type": "stream",
     "text": [
      "\n",
      "  0%|                                                                                            | 0/1 [00:00<?, ?it/s]\u001b[A\n",
      "100%|████████████████████████████████████████████████████████████████████████████████████| 1/1 [00:00<00:00,  2.58it/s]\u001b[A\n",
      " 78%|██████████████████████████████████████████████████████████████▊                 | 314/400 [12:10<39:52, 27.82s/it]"
     ]
    },
    {
     "name": "stdout",
     "output_type": "stream",
     "text": [
      "-Error fixed-\n"
     ]
    },
    {
     "name": "stderr",
     "output_type": "stream",
     "text": [
      "100%|████████████████████████████████████████████████████████████████████████████████| 400/400 [12:48<00:00,  1.92s/it]\n"
     ]
    }
   ],
   "source": [
    "df_diamond = getDataFrame('gameId/diamond/diamond_3_gameId_1.npy', api_key)\n",
    "df3 = getDataFrame('gameId/diamond/diamond_2_gameId_1.npy', api_key)\n",
    "df4 = getDataFrame('gameId/diamond/diamond_4_gameId_1.npy', api_key)\n",
    "\n",
    "df_over_diamond = getDataFrame('gameId/diamond/diamond_1_gameId_1.npy', api_key)\n",
    "df2 = getDataFrame('gameId/master/master_gameId_1.npy', api_key)\n",
    "df1 = getDataFrame('gameId/grandmaster/grandmaster_gameId_1.npy', api_key)\n",
    "df0 = getDataFrame('gameId/challenger/challenger_gameId_1.npy', api_key)\n",
    "\n",
    "\n",
    "df_over_diamond = df_over_diamond.append(df0)\n",
    "df_over_diamond = df_over_diamond.append(df1)\n",
    "df_over_diamond = df_over_diamond.append(df2)\n",
    "\n",
    "\n",
    "df_diamond = df_diamond.append(df3)\n",
    "df_diamond = df_diamond.append(df4)\n",
    "\n",
    "df_over_diamond.to_csv(\"dataFrame/over_diamond.csv\")\n",
    "df_diamond.to_csv(\"dataFrame/diamond.csv\")"
   ]
  },
  {
   "cell_type": "code",
   "execution_count": 5,
   "metadata": {
    "collapsed": true,
    "jupyter": {
     "outputs_hidden": true
    }
   },
   "outputs": [
    {
     "data": {
      "text/plain": [
       "Unnamed: 0                                     -0.002562\n",
       "team_win                                        1.000000\n",
       "gameDuration                                    0.000000\n",
       "total__stats_kills                              0.511407\n",
       "total__stats_deaths                            -0.511052\n",
       "total__stats_assists                            0.450335\n",
       "total__stats_largestKillingSpree                0.668448\n",
       "total__stats_largestMultiKill                   0.474543\n",
       "total__stats_killingSprees                      0.472840\n",
       "total__stats_longestTimeSpentLiving             0.108053\n",
       "total__stats_doubleKills                        0.469813\n",
       "total__stats_tripleKills                        0.292903\n",
       "total__stats_quadraKills                        0.161590\n",
       "total__stats_pentaKills                         0.092734\n",
       "total__stats_totalDamageDealt                   0.212904\n",
       "total__stats_magicDamageDealt                   0.160555\n",
       "total__stats_physicalDamageDealt                0.182994\n",
       "total__stats_trueDamageDealt                    0.114924\n",
       "total__stats_largestCriticalStrike              0.169735\n",
       "total__stats_totalDamageDealtToChampions        0.180672\n",
       "total__stats_magicDamageDealtToChampions        0.128621\n",
       "total__stats_physicalDamageDealtToChampions     0.181408\n",
       "total__stats_trueDamageDealtToChampions         0.124900\n",
       "total__stats_totalHeal                          0.245962\n",
       "total__stats_totalUnitsHealed                   0.088384\n",
       "total__stats_damageSelfMitigated                0.025877\n",
       "total__stats_damageDealtToObjectives            0.612666\n",
       "total__stats_visionScore                        0.151787\n",
       "total__stats_timeCCingOthers                    0.058345\n",
       "total__stats_totalDamageTaken                  -0.069262\n",
       "total__stats_magicalDamageTaken                -0.112109\n",
       "total__stats_physicalDamageTaken               -0.019813\n",
       "total__stats_trueDamageTaken                   -0.067834\n",
       "total__stats_goldEarned                         0.301430\n",
       "total__stats_goldSpent                          0.184566\n",
       "total__stats_inhibitorKills                     0.595267\n",
       "total__stats_totalMinionsKilled                 0.105223\n",
       "total__stats_neutralMinionsKilled               0.314325\n",
       "total__stats_neutralMinionsKilledTeamJungle     0.058154\n",
       "total__stats_neutralMinionsKilledEnemyJungle    0.515239\n",
       "total__stats_totalTimeCrowdControlDealt         0.097345\n",
       "total__stats_champLevel                         0.241294\n",
       "total__stats_visionWardsBoughtInGame            0.093597\n",
       "total__stats_wardsPlaced                        0.068552\n",
       "total__stats_wardsKilled                        0.093695\n",
       "teams_firstBlood                                0.244555\n",
       "teams_firstTower                                0.483229\n",
       "teams_firstInhibitor                            0.687367\n",
       "teams_firstBaron                                0.439138\n",
       "teams_firstDragon                               0.331769\n",
       "teams_firstRiftHerald                           0.302254\n",
       "teams_towerKills                                0.596503\n",
       "teams_inhibitorKills                            0.418758\n",
       "teams_baronKills                                0.570714\n",
       "teams_dragonKills                               0.374793\n",
       "Name: team_win, dtype: float64"
      ]
     },
     "execution_count": 5,
     "metadata": {},
     "output_type": "execute_result"
    }
   ],
   "source": [
    "df_diamond = pd.read_csv('dataFrame/diamond.csv')\n",
    "df_diamond.corr().team_win"
   ]
  },
  {
   "cell_type": "code",
   "execution_count": 4,
   "metadata": {
    "collapsed": true,
    "jupyter": {
     "outputs_hidden": true
    }
   },
   "outputs": [
    {
     "data": {
      "text/plain": [
       "Unnamed: 0                                     -0.002664\n",
       "team_win                                        1.000000\n",
       "gameDuration                                    0.000000\n",
       "total__stats_kills                              0.572255\n",
       "total__stats_deaths                            -0.571152\n",
       "total__stats_assists                            0.502283\n",
       "total__stats_largestKillingSpree                0.706303\n",
       "total__stats_largestMultiKill                   0.520754\n",
       "total__stats_killingSprees                      0.527051\n",
       "total__stats_longestTimeSpentLiving             0.100834\n",
       "total__stats_doubleKills                        0.513954\n",
       "total__stats_tripleKills                        0.323562\n",
       "total__stats_quadraKills                        0.164878\n",
       "total__stats_pentaKills                         0.079276\n",
       "total__stats_totalDamageDealt                   0.202735\n",
       "total__stats_magicDamageDealt                   0.137698\n",
       "total__stats_physicalDamageDealt                0.197055\n",
       "total__stats_trueDamageDealt                    0.054503\n",
       "total__stats_largestCriticalStrike              0.167399\n",
       "total__stats_totalDamageDealtToChampions        0.208536\n",
       "total__stats_magicDamageDealtToChampions        0.143312\n",
       "total__stats_physicalDamageDealtToChampions     0.215733\n",
       "total__stats_trueDamageDealtToChampions         0.137488\n",
       "total__stats_totalHeal                          0.267043\n",
       "total__stats_totalUnitsHealed                   0.031735\n",
       "total__stats_damageSelfMitigated                0.021901\n",
       "total__stats_damageDealtToObjectives            0.595158\n",
       "total__stats_visionScore                        0.132034\n",
       "total__stats_timeCCingOthers                    0.062723\n",
       "total__stats_totalDamageTaken                  -0.078535\n",
       "total__stats_magicalDamageTaken                -0.125720\n",
       "total__stats_physicalDamageTaken               -0.023241\n",
       "total__stats_trueDamageTaken                   -0.078623\n",
       "total__stats_goldEarned                         0.318645\n",
       "total__stats_goldSpent                          0.195056\n",
       "total__stats_inhibitorKills                     0.535647\n",
       "total__stats_totalMinionsKilled                 0.096514\n",
       "total__stats_neutralMinionsKilled               0.268705\n",
       "total__stats_neutralMinionsKilledTeamJungle     0.031380\n",
       "total__stats_neutralMinionsKilledEnemyJungle    0.449898\n",
       "total__stats_totalTimeCrowdControlDealt         0.091200\n",
       "total__stats_champLevel                         0.266228\n",
       "total__stats_visionWardsBoughtInGame            0.070439\n",
       "total__stats_wardsPlaced                        0.060130\n",
       "total__stats_wardsKilled                        0.087594\n",
       "teams_firstBlood                                0.180710\n",
       "teams_firstTower                                0.431270\n",
       "teams_firstInhibitor                            0.583062\n",
       "teams_firstBaron                                0.479397\n",
       "teams_firstDragon                               0.269421\n",
       "teams_firstRiftHerald                           0.242860\n",
       "teams_towerKills                                0.532559\n",
       "teams_inhibitorKills                            0.445672\n",
       "teams_baronKills                                0.502108\n",
       "teams_dragonKills                               0.334560\n",
       "Name: team_win, dtype: float64"
      ]
     },
     "execution_count": 4,
     "metadata": {},
     "output_type": "execute_result"
    }
   ],
   "source": [
    "df_over_diamond = pd.read_csv('dataFrame/over_diamond.csv')\n",
    "df_over_diamond.corr().team_win"
   ]
  },
  {
   "cell_type": "code",
   "execution_count": 343,
   "metadata": {
    "collapsed": true,
    "jupyter": {
     "outputs_hidden": true
    }
   },
   "outputs": [
    {
     "name": "stdout",
     "output_type": "stream",
     "text": [
      "                                                                                  Over_diamond                                                Iron\n",
      "team_win                                                                                 1.000                                               1.000\n",
      "gameDuration                                                                             0.000                                               0.000\n",
      "avg__stats_kills                                                                         0.542                                               0.447\n",
      "avg__stats_deaths                                                                       -0.540                                              -0.445\n",
      "avg__stats_assists                                                                       0.492                                               0.357\n",
      "avg__stats_largestKillingSpree                                                           0.686                                               0.624\n",
      "avg__stats_largestMultiKill                                                              0.478                                               0.423\n",
      "avg__stats_killingSprees                                                                 0.506                                               0.399\n",
      "avg__stats_longestTimeSpentLiving                                                        0.068                                               0.128\n",
      "avg__stats_doubleKills                                                                   0.496                                               0.403\n",
      "avg__stats_tripleKills                                                                   0.343                                               0.267\n",
      "avg__stats_quadraKills                                                                   0.139                                               0.149\n",
      "avg__stats_pentaKills                                                                    0.079                                               0.074\n",
      "avg__stats_totalDamageDealt                                                              0.221                                               0.180\n",
      "avg__stats_magicDamageDealt                                                              0.154                                               0.117\n",
      "avg__stats_physicalDamageDealt                                                           0.201                                               0.166\n",
      "avg__stats_trueDamageDealt                                                               0.104                                               0.118\n",
      "avg__stats_largestCriticalStrike                                                         0.099                                               0.108\n",
      "avg__stats_totalDamageDealtToChampions                                                   0.196                                               0.173\n",
      "avg__stats_magicDamageDealtToChampions                                                   0.125                                               0.114\n",
      "avg__stats_physicalDamageDealtToChampions                                                0.204                                               0.166\n",
      "avg__stats_trueDamageDealtToChampions                                                    0.121                                               0.111\n",
      "avg__stats_totalHeal                                                                     0.285                                               0.206\n",
      "avg__stats_totalUnitsHealed                                                              0.098                                               0.049\n",
      "avg__stats_damageSelfMitigated                                                           0.015                                               0.005\n",
      "avg__stats_damageDealtToObjectives                                                       0.599                                               0.518\n",
      "avg__stats_visionScore                                                                   0.139                                               0.139\n",
      "avg__stats_timeCCingOthers                                                               0.035                                               0.054\n",
      "avg__stats_totalDamageTaken                                                             -0.067                                              -0.079\n",
      "avg__stats_magicalDamageTaken                                                           -0.103                                              -0.101\n",
      "avg__stats_physicalDamageTaken                                                          -0.024                                              -0.040\n",
      "avg__stats_trueDamageTaken                                                              -0.060                                              -0.078\n",
      "avg__stats_goldEarned                                                                    0.321                                               0.247\n",
      "avg__stats_goldSpent                                                                     0.197                                               0.162\n",
      "avg__stats_inhibitorKills                                                                0.561                                               0.525\n",
      "avg__stats_totalMinionsKilled                                                            0.098                                               0.117\n",
      "avg__stats_neutralMinionsKilled                                                          0.306                                               0.290\n",
      "avg__stats_neutralMinionsKilledTeamJungle                                                0.053                                               0.088\n",
      "avg__stats_neutralMinionsKilledEnemyJungle                                               0.500                                               0.413\n",
      "avg__stats_totalTimeCrowdControlDealt                                                    0.081                                               0.081\n",
      "avg__stats_champLevel                                                                    0.257                                               0.203\n",
      "avg__stats_visionWardsBoughtInGame                                                       0.056                                               0.079\n",
      "avg__stats_wardsPlaced                                                                   0.054                                               0.085\n",
      "avg__stats_wardsKilled                                                                   0.085                                               0.058\n",
      "teams_firstBlood                                                                         0.109                                               0.191\n",
      "teams_firstTower                                                                         0.406                                               0.450\n",
      "teams_firstInhibitor                                                                     0.610                                               0.600\n",
      "teams_firstBaron                                                                         0.510                                               0.267\n",
      "teams_firstDragon                                                                        0.269                                               0.330\n",
      "teams_firstRiftHerald                                                                    0.201                                               0.268\n",
      "teams_towerKills                                                                         0.564                                               0.524\n",
      "teams_inhibitorKills                                                                     0.478                                               0.252\n",
      "teams_baronKills                                                                         0.498                                               0.499\n",
      "teams_dragonKills                                                                        0.294                                               0.280\n"
     ]
    }
   ],
   "source": [
    "df_over_diamond = pd.read_csv('dataFrame/over_diamond.csv')\n",
    "over = df_over_diamond.corr().team_win\n",
    "df_iron = pd.read_csv('dataFrame/iron.csv')\n",
    "under = df_iron.corr().team_win\n",
    "print('{0:>94} {1:>51}'.format('Over_diamond', 'Iron'))\n",
    "for i in range(1,len(over.keys())):\n",
    "    print('{0:<43} {1:>50.3f}  {2:>50.3f}'.format(over.keys()[i] , over[i], under[i]))"
   ]
  },
  {
   "cell_type": "code",
   "execution_count": 275,
   "metadata": {},
   "outputs": [],
   "source": [
    "def visualdf(df, tier):\n",
    "    plt.figure(figsize = (15,15))\n",
    "    plt.title('{}'.format(tier),fontsize=100)\n",
    "    sns.heatmap(data =pd.DataFrame(df.corr().team_win), annot=True, fmt = '.2f', linewidths=.5, cmap='BrBG', vmin = -0.8, vmax = 0.8)\n",
    "    plt.savefig(tier+'.png', \n",
    "        dpi=300, \n",
    "        facecolor='w', \n",
    "        edgecolor='w',\n",
    "        orientation='portrait', \n",
    "        papertype=None, \n",
    "        format=None,\n",
    "        transparent=False, \n",
    "        bbox_inches=None, \n",
    "        pad_inches=0.1,\n",
    "        frameon=None, \n",
    "        metadata=None)"
   ]
  },
  {
   "cell_type": "code",
   "execution_count": 276,
   "metadata": {},
   "outputs": [
    {
     "name": "stderr",
     "output_type": "stream",
     "text": [
      "C:\\Users\\hyuk6\\anaconda3\\envs\\pytorch\\lib\\site-packages\\ipykernel_launcher.py:16: MatplotlibDeprecationWarning: savefig() got unexpected keyword argument \"papertype\" which is no longer supported as of 3.3 and will become an error two minor releases later\n",
      "  app.launch_new_instance()\n",
      "C:\\Users\\hyuk6\\anaconda3\\envs\\pytorch\\lib\\site-packages\\ipykernel_launcher.py:16: MatplotlibDeprecationWarning: savefig() got unexpected keyword argument \"frameon\" which is no longer supported as of 3.3 and will become an error two minor releases later\n",
      "  app.launch_new_instance()\n"
     ]
    },
    {
     "data": {
      "image/png": "[encoded data removed]",
      "text/plain": [
       "<Figure size 1080x1080 with 2 Axes>"
      ]
     },
     "metadata": {
      "needs_background": "light"
     },
     "output_type": "display_data"
    }
   ],
   "source": [
    "visualdf(df_iron, 'Iron')"
   ]
  },
  {
   "cell_type": "markdown",
   "metadata": {},
   "source": [
    "<img src=\"visual.gif\" width=\"900\" height=\"600\"/>"
   ]
  },
  {
   "cell_type": "markdown",
   "metadata": {},
   "source": [
    "## Convert to Dataset"
   ]
  },
  {
   "cell_type": "code",
   "execution_count": 15,
   "metadata": {
    "jupyter": {
     "source_hidden": true
    }
   },
   "outputs": [],
   "source": [
    "def divide_dataset():\n",
    "    csvlist = np.array(glob(\"dataFrame/*\"))\n",
    "    print(csvlist)\n",
    "    for i in csvlist:\n",
    "        tier = i.split('\\\\')[-1].split('.')[-2]\n",
    "        print(tier)\n",
    "        df = pd.read_csv(i).drop(columns=['Unnamed: 0'])\n",
    "        df['team_win'] = df['team_win'].replace([10000, -500],[1,0])\n",
    "        dl = df.to_dict('records')\n",
    "        tr = 6*(len(dl)//10)\n",
    "        vr = 2*(len(dl)//10) + tr\n",
    "        train = dl[0:tr]\n",
    "        valid = dl[tr: vr]\n",
    "        test = dl[vr:]\n",
    "        train = pd.DataFrame(train)\n",
    "        valid = pd.DataFrame(valid)\n",
    "        test = pd.DataFrame(test)\n",
    "        train.to_csv('dataset/'+tier+'/train/train.csv')\n",
    "        valid.to_csv('dataset/'+tier+'/valid/valid.csv')\n",
    "        test.to_csv('dataset/'+tier+'/test/test.csv')\n",
    "    return"
   ]
  },
  {
   "cell_type": "code",
   "execution_count": 16,
   "metadata": {
    "collapsed": true,
    "jupyter": {
     "outputs_hidden": true
    }
   },
   "outputs": [
    {
     "name": "stdout",
     "output_type": "stream",
     "text": [
      "['dataFrame\\\\bronze.csv' 'dataFrame\\\\diamond.csv' 'dataFrame\\\\gold.csv'\n",
      " 'dataFrame\\\\iron.csv' 'dataFrame\\\\over_diamond.csv'\n",
      " 'dataFrame\\\\platinum.csv' 'dataFrame\\\\silver.csv']\n",
      "bronze\n",
      "diamond\n",
      "gold\n",
      "iron\n",
      "over_diamond\n",
      "platinum\n",
      "silver\n"
     ]
    }
   ],
   "source": [
    "divide_dataset()"
   ]
  },
  {
   "cell_type": "markdown",
   "metadata": {},
   "source": [
    "## Learning"
   ]
  },
  {
   "cell_type": "code",
   "execution_count": 261,
   "metadata": {},
   "outputs": [],
   "source": [
    "def to_train_Loder(csv_url, batch_size):\n",
    "    df = pd.read_csv(csv_url)\n",
    "    df = df.drop(columns=['Unnamed: 0'])\n",
    "    temp_dict_fail = dict()\n",
    "    temp_dict_win = dict()\n",
    "    \n",
    "    for i in df.keys():\n",
    "        temp_dict_fail[i] = 0\n",
    "        temp_dict_win[i] = 0\n",
    "    temp_dict_win['team_win'] = 1\n",
    "    \n",
    "    for i in range(10):\n",
    "        df.loc[len(df.index)] = temp_dict_fail \n",
    "        df.loc[len(df.index)] = temp_dict_win\n",
    "        \n",
    "    label = torch.tensor(df['team_win'].values , dtype=torch.int64)\n",
    "    mean = df.mean()\n",
    "    std = df.std()\n",
    "    df = df - mean\n",
    "    df = df/std\n",
    "    dd = torch.tensor(np.array(df.drop(columns=['team_win'])), dtype=torch.float32)\n",
    "    ds = TensorDataset(dd, label)\n",
    "    tmepLoader = DataLoader(ds, batch_size=batch_size, shuffle=True)\n",
    "    Loader = DataLoader(ds, batch_size=batch_size, shuffle=True)\n",
    "    return Loader , mean, std\n",
    "\n",
    "def to_Loder(csv_url, batch_size, mean, std):\n",
    "    df = pd.read_csv(csv_url)\n",
    "    df = df.drop(columns=['Unnamed: 0'])\n",
    "    \n",
    "    temp_dict_fail = dict()\n",
    "    temp_dict_win = dict()\n",
    "    \n",
    "    for i in df.keys():\n",
    "        temp_dict_fail[i] = 0\n",
    "        temp_dict_win[i] = 0\n",
    "    temp_dict_win['team_win'] = 1\n",
    "    \n",
    "    for i in range(10):\n",
    "        df.loc[len(df.index)] = temp_dict_fail \n",
    "        df.loc[len(df.index)] = temp_dict_win\n",
    "        \n",
    "    label = torch.tensor(df['team_win'].values , dtype=torch.int64)\n",
    "    df = df - mean\n",
    "    df = df/std\n",
    "    dd = torch.tensor(np.array(df.drop(columns=['team_win'])), dtype=torch.float32)\n",
    "    ds = TensorDataset(dd, label)\n",
    "    tmepLoader = DataLoader(ds, batch_size=batch_size, shuffle=True)\n",
    "    Loader = DataLoader(ds, batch_size=batch_size, shuffle=True)\n",
    "    return Loader "
   ]
  },
  {
   "cell_type": "code",
   "execution_count": 262,
   "metadata": {},
   "outputs": [],
   "source": [
    "iron_train, iron_mean, iron_std= to_train_Loder('dataset/iron/train/train.csv', 128)\n",
    "iron_valid = to_Loder('dataset/iron/valid/valid.csv', 128, iron_mean, iron_std)\n",
    "iron_test = to_Loder('dataset/iron/test/test.csv', 128, iron_mean, iron_std)\n",
    "\n",
    "bronze_train, bronze_mean, bronze_std = to_train_Loder('dataset/bronze/train/train.csv', 128)\n",
    "bronze_valid = to_Loder('dataset/bronze/valid/valid.csv', 128, bronze_mean, bronze_std)\n",
    "bronze_test = to_Loder('dataset/bronze/test/test.csv', 128, bronze_mean, bronze_std)\n",
    "\n",
    "silver_train, silver_mean, silver_std = to_train_Loder('dataset/silver/train/train.csv', 128)\n",
    "silver_valid = to_Loder('dataset/silver/valid/valid.csv', 128, silver_mean, silver_std)\n",
    "silver_test = to_Loder('dataset/silver/test/test.csv', 128, silver_mean, silver_std)\n",
    "\n",
    "gold_train, gold_mean, gold_std = to_train_Loder('dataset/gold/train/train.csv', 128)\n",
    "gold_valid = to_Loder('dataset/gold/valid/valid.csv', 128, gold_mean, gold_std)\n",
    "gold_test = to_Loder('dataset/gold/test/test.csv', 128, gold_mean, gold_std)\n",
    "\n",
    "platinum_train, platinum_mean, platinum_std = to_train_Loder('dataset/platinum/train/train.csv', 128)\n",
    "platinum_valid = to_Loder('dataset/platinum/valid/valid.csv', 128, platinum_mean, platinum_std)\n",
    "platinum_test = to_Loder('dataset/platinum/test/test.csv', 128, platinum_mean, platinum_std)\n",
    "\n",
    "diamond_train, diamond_mean, diamond_std = to_train_Loder('dataset/diamond/train/train.csv', 128)\n",
    "diamond_valid = to_Loder('dataset/diamond/valid/valid.csv', 128, diamond_mean, diamond_std)\n",
    "diamond_test = to_Loder('dataset/diamond/test/test.csv', 128, diamond_mean, diamond_std)\n",
    "\n",
    "over_diamond_train, over_diamond_mean, over_diamond_std = to_train_Loder('dataset/over_diamond/train/train.csv', 128)\n",
    "over_diamond_valid = to_Loder('dataset/over_diamond/valid/valid.csv', 128, over_diamond_mean, over_diamond_std)\n",
    "over_diamond_test = to_Loder('dataset/over_diamond/test/test.csv', 128, over_diamond_mean, over_diamond_std)\n"
   ]
  },
  {
   "cell_type": "code",
   "execution_count": 263,
   "metadata": {},
   "outputs": [],
   "source": [
    "class Network(nn.ModuleList):\n",
    "    \n",
    "    def __init__(self,drop):\n",
    "        super(Network, self).__init__()\n",
    "        self.l1 = nn.Linear(53, 30)\n",
    "        self.relu = nn.ReLU()\n",
    "        self.drop = nn.Dropout(p=drop)\n",
    "        self.l2 = nn.Linear(30, 10)\n",
    "        self.l3 = nn.Linear(10, 2)\n",
    "        \n",
    "    def forward(self, x):\n",
    "        x = self.l1(x)\n",
    "        x = self.relu(x)\n",
    "        x = self.drop(x)\n",
    "        x = self.l2(x)\n",
    "        x = self.relu(x)\n",
    "        x = self.l3(x)\n",
    "        return x"
   ]
  },
  {
   "cell_type": "code",
   "execution_count": 264,
   "metadata": {},
   "outputs": [],
   "source": [
    "net_iron = Network(0.1)\n",
    "net_bronze = Network(0.2)\n",
    "net_silver = Network(0.1)\n",
    "net_gold = Network(0.1)\n",
    "net_platinum = Network(0.1)\n",
    "net_diamond = Network(0.1)\n",
    "net_over_diamond = Network(0.1)\n",
    "\n",
    "\n",
    "if use_cuda:\n",
    "    net_iron = net_iron.cuda()    \n",
    "    net_bronze = net_bronze.cuda()    \n",
    "    net_silver = net_silver.cuda()    \n",
    "    net_gold = net_gold.cuda()    \n",
    "    net_platinum = net_platinum.cuda()    \n",
    "    net_diamond = net_diamond.cuda()    \n",
    "    net_over_diamond = net_over_diamond.cuda()    \n"
   ]
  },
  {
   "cell_type": "code",
   "execution_count": 265,
   "metadata": {},
   "outputs": [],
   "source": [
    "def train(n_epochs, train_loader, valid_loader, model, optimizer, scheduler, criterion, use_cuda, save_path):\n",
    "    \n",
    "    # 매개변수로 전해 받은 n_epochs를 n_epoch에 저장합니다.\n",
    "    n_epoch = n_epochs\n",
    "    \n",
    "    #plot해서 결과를 확인하기 위해 train loss와 valid loss를 저장할 list를 만들어 줍니다.\n",
    "    train_losses = []\n",
    "    valid_losses = []\n",
    "\n",
    "    #가장 작은 validation loss 값을 저장하기위한 변수를 생성합니다.\n",
    "    valid_loss_min = np.Inf \n",
    "\n",
    "    \n",
    "    #training을 진행하고, validation loss 구해 보겠습니다.\n",
    "    for epoch in tqdm(range(1, n_epoch+1)):\n",
    "        # 확인할 train loss와 validation loss 를 생성합니다.\n",
    "        train_loss = 0.0\n",
    "        valid_loss = 0.0\n",
    "    \n",
    "        ###################\n",
    "        # train the model #\n",
    "        ###################\n",
    "\n",
    "        #parameter들을 update 해야하므로, model.train()을 켜 줍니다.\n",
    "        model.train()\n",
    "\n",
    "        #train_loader에서 image와 label을 가져옵니다.\n",
    "        for data, target in train_loader:\n",
    "            # CUDA 가 사용 가능하다면 image와 label을 GPU로 옮깁니다.\n",
    "            if use_cuda:\n",
    "                data, target = data.cuda(), target.cuda()\n",
    "            # gradients 값을 초기화\n",
    "            optimizer.zero_grad()\n",
    "            # forward pass: train_loader를 통해 가져온 batch를 model에 forward pass 시킵니다.\n",
    "            output = model(data)\n",
    "            # batch loss를 계산합니다.\n",
    "            loss = criterion(output, target)\n",
    "          \n",
    "            # backward pass: gradient 값을 구합니다.\n",
    "            loss.backward()\n",
    "          \n",
    "            # Optimizer를 돌려서 parameter들을 update합니다.\n",
    "            optimizer.step()\n",
    "          \n",
    "            # batch별 train_loss를 더합니다.\n",
    "            train_loss += loss.item()*data.size(0)\n",
    "        ######################    \n",
    "        # validate the model #\n",
    "        ######################\n",
    "        \n",
    "        #parameter들을 update하지 않으므로, model.eval()을 켜 줍니다.\n",
    "        model.eval()\n",
    "        \n",
    "        #valid_loader에서 image와 labe을 가져옵니다.\n",
    "        for data, target in valid_loader:\n",
    "            \n",
    "            # CUDA가 사용 가능 하다면 image와 label을 GPU로 옮깁니다.\n",
    "            if use_cuda:\n",
    "                data, target = data.cuda(), target.cuda()\n",
    "            \n",
    "            # forward pass: valid_loader를 통해 가져온 batch를 model에 forward pass 시킵니다.\n",
    "            output = model(data)\n",
    "            # Validation loss를 계산합니다.\n",
    "            loss = criterion(output, target)\n",
    "            # batch별 Validation loss를 더합니다. \n",
    "            valid_loss += loss.item()*data.size(0)\n",
    "    \n",
    "        scheduler.step()\n",
    "        # 각 loss 들(모두 더한값) 을 평균을 만들어 줍니다. \n",
    "        train_loss = train_loss/len(train_loader.sampler)\n",
    "        valid_loss = valid_loss/len(valid_loader.sampler)\n",
    "        \n",
    "        #train_loss와 valid_loss를 위에서 생성한 losses list에 저장합니다.\n",
    "        train_losses.append(train_loss)\n",
    "        valid_losses.append(valid_loss)\n",
    "\n",
    "        # epoch별로 train loss와 validation loss를 보여줍니다.\n",
    "#         print('Epoch: {} \\tTraining Loss: {:.6f} \\tValidation Loss: {:.6f}'.format(epoch, train_loss, valid_loss))\n",
    "    \n",
    "        # validation loss가 가장 작은 parameter를 저장합니다.\n",
    "        if valid_loss <= valid_loss_min:\n",
    "            torch.save(model.state_dict(), save_path)\n",
    "            valid_loss_min = valid_loss\n",
    "            print('Validation loss decreased ({:.6f} --> {:.6f}).  Saving model ...'.format(valid_loss_min, valid_loss))\n",
    "        \n",
    "    #학습된 model, 성능을 확인할 train_losses, valid_losses를 반환합니다.        \n",
    "    return model, train_losses, valid_losses\n"
   ]
  },
  {
   "cell_type": "code",
   "execution_count": 266,
   "metadata": {},
   "outputs": [
    {
     "name": "stdout",
     "output_type": "stream",
     "text": [
      "try -  1\n"
     ]
    }
   ],
   "source": [
    "count = 1\n",
    "# count = count + 1\n",
    "print('try - ',count)"
   ]
  },
  {
   "cell_type": "code",
   "execution_count": 278,
   "metadata": {},
   "outputs": [],
   "source": [
    "criterion_iron = torch.nn.CrossEntropyLoss()\n",
    "optimizer_iron = optimizer.Adam(net_iron.parameters(), lr=1e-3)\n",
    "scheduler_iron = StepLR(optimizer=optimizer_iron ,step_size=15, gamma=0.7)\n",
    "\n",
    "criterion_bronze = torch.nn.CrossEntropyLoss()\n",
    "optimizer_bronze = optimizer.Adam(net_bronze.parameters(), lr=1e-3)\n",
    "scheduler_bronze = StepLR(optimizer=optimizer_bronze ,step_size=15, gamma=0.7)\n",
    "\n",
    "criterion_silver = torch.nn.CrossEntropyLoss()\n",
    "optimizer_silver = optimizer.Adam(net_silver.parameters(), lr=1e-3)\n",
    "scheduler_silver = StepLR(optimizer=optimizer_silver ,step_size=15, gamma=0.7)\n",
    "\n",
    "criterion_gold = torch.nn.CrossEntropyLoss()\n",
    "optimizer_gold = optimizer.Adam(net_gold.parameters(), lr=1e-3)\n",
    "scheduler_gold = StepLR(optimizer=optimizer_gold ,step_size=15, gamma=0.7)\n",
    "\n",
    "criterion_platinum = torch.nn.CrossEntropyLoss()\n",
    "optimizer_platinum = optimizer.Adam(net_platinum.parameters(), lr=1e-3)\n",
    "scheduler_platinum = StepLR(optimizer=optimizer_platinum ,step_size=15, gamma=0.7)\n",
    "\n",
    "\n",
    "criterion_diamond = torch.nn.CrossEntropyLoss()\n",
    "optimizer_diamond = optimizer.Adam(net_diamond.parameters(), lr=1e-3)\n",
    "scheduler_diamond = StepLR(optimizer=optimizer_diamond ,step_size=15, gamma=0.7)\n",
    "\n",
    "\n",
    "criterion_over_diamond = torch.nn.CrossEntropyLoss()\n",
    "optimizer_over_diamond = optimizer.Adam(net_over_diamond.parameters(), lr=1e-3)\n",
    "scheduler_over_diamond = StepLR(optimizer=optimizer_over_diamond ,step_size=15, gamma=0.7)"
   ]
  },
  {
   "cell_type": "code",
   "execution_count": 279,
   "metadata": {},
   "outputs": [],
   "source": [
    "use_cuda = torch.cuda.is_available()"
   ]
  },
  {
   "cell_type": "code",
   "execution_count": 269,
   "metadata": {},
   "outputs": [
    {
     "name": "stderr",
     "output_type": "stream",
     "text": [
      "  4%|███▎                                                                              | 4/100 [00:00<00:05, 16.49it/s]"
     ]
    },
    {
     "name": "stdout",
     "output_type": "stream",
     "text": [
      "Validation loss decreased (0.674255 --> 0.674255).  Saving model ...\n",
      "Validation loss decreased (0.641820 --> 0.641820).  Saving model ...\n",
      "Validation loss decreased (0.590431 --> 0.590431).  Saving model ...\n",
      "Validation loss decreased (0.510980 --> 0.510980).  Saving model ...\n"
     ]
    },
    {
     "name": "stderr",
     "output_type": "stream",
     "text": [
      "  8%|██████▌                                                                           | 8/100 [00:00<00:05, 16.67it/s]"
     ]
    },
    {
     "name": "stdout",
     "output_type": "stream",
     "text": [
      "Validation loss decreased (0.411695 --> 0.411695).  Saving model ...\n",
      "Validation loss decreased (0.318404 --> 0.318404).  Saving model ...\n",
      "Validation loss decreased (0.256103 --> 0.256103).  Saving model ...\n",
      "Validation loss decreased (0.219730 --> 0.219730).  Saving model ...\n"
     ]
    },
    {
     "name": "stderr",
     "output_type": "stream",
     "text": [
      " 12%|█████████▋                                                                       | 12/100 [00:00<00:05, 16.23it/s]"
     ]
    },
    {
     "name": "stdout",
     "output_type": "stream",
     "text": [
      "Validation loss decreased (0.198647 --> 0.198647).  Saving model ...\n",
      "Validation loss decreased (0.186803 --> 0.186803).  Saving model ...\n",
      "Validation loss decreased (0.179008 --> 0.179008).  Saving model ...\n",
      "Validation loss decreased (0.174225 --> 0.174225).  Saving model ...\n"
     ]
    },
    {
     "name": "stderr",
     "output_type": "stream",
     "text": [
      " 16%|████████████▉                                                                    | 16/100 [00:00<00:05, 16.38it/s]"
     ]
    },
    {
     "name": "stdout",
     "output_type": "stream",
     "text": [
      "Validation loss decreased (0.171323 --> 0.171323).  Saving model ...\n",
      "Validation loss decreased (0.168542 --> 0.168542).  Saving model ...\n",
      "Validation loss decreased (0.164090 --> 0.164090).  Saving model ...\n",
      "Validation loss decreased (0.162514 --> 0.162514).  Saving model ...\n"
     ]
    },
    {
     "name": "stderr",
     "output_type": "stream",
     "text": [
      " 20%|████████████████▏                                                                | 20/100 [00:01<00:05, 15.91it/s]"
     ]
    },
    {
     "name": "stdout",
     "output_type": "stream",
     "text": [
      "Validation loss decreased (0.161125 --> 0.161125).  Saving model ...\n",
      "Validation loss decreased (0.159745 --> 0.159745).  Saving model ...\n",
      "Validation loss decreased (0.158033 --> 0.158033).  Saving model ...\n",
      "Validation loss decreased (0.156358 --> 0.156358).  Saving model ...\n"
     ]
    },
    {
     "name": "stderr",
     "output_type": "stream",
     "text": [
      " 24%|███████████████████▍                                                             | 24/100 [00:01<00:04, 15.84it/s]"
     ]
    },
    {
     "name": "stdout",
     "output_type": "stream",
     "text": [
      "Validation loss decreased (0.155611 --> 0.155611).  Saving model ...\n",
      "Validation loss decreased (0.153100 --> 0.153100).  Saving model ...\n",
      "Validation loss decreased (0.152843 --> 0.152843).  Saving model ...\n"
     ]
    },
    {
     "name": "stderr",
     "output_type": "stream",
     "text": [
      " 28%|██████████████████████▋                                                          | 28/100 [00:01<00:04, 16.42it/s]"
     ]
    },
    {
     "name": "stdout",
     "output_type": "stream",
     "text": [
      "Validation loss decreased (0.148452 --> 0.148452).  Saving model ...\n",
      "Validation loss decreased (0.146833 --> 0.146833).  Saving model ...\n"
     ]
    },
    {
     "name": "stderr",
     "output_type": "stream",
     "text": [
      " 40%|████████████████████████████████▍                                                | 40/100 [00:02<00:03, 16.31it/s]"
     ]
    },
    {
     "name": "stdout",
     "output_type": "stream",
     "text": [
      "Validation loss decreased (0.142692 --> 0.142692).  Saving model ...\n",
      "Validation loss decreased (0.142009 --> 0.142009).  Saving model ...\n",
      "Validation loss decreased (0.141479 --> 0.141479).  Saving model ...\n"
     ]
    },
    {
     "name": "stderr",
     "output_type": "stream",
     "text": [
      " 52%|██████████████████████████████████████████                                       | 52/100 [00:03<00:02, 16.47it/s]"
     ]
    },
    {
     "name": "stdout",
     "output_type": "stream",
     "text": [
      "Validation loss decreased (0.139707 --> 0.139707).  Saving model ...\n"
     ]
    },
    {
     "name": "stderr",
     "output_type": "stream",
     "text": [
      " 58%|██████████████████████████████████████████████▉                                  | 58/100 [00:03<00:02, 16.35it/s]"
     ]
    },
    {
     "name": "stdout",
     "output_type": "stream",
     "text": [
      "Validation loss decreased (0.138598 --> 0.138598).  Saving model ...\n",
      "Validation loss decreased (0.137455 --> 0.137455).  Saving model ...\n"
     ]
    },
    {
     "name": "stderr",
     "output_type": "stream",
     "text": [
      " 66%|█████████████████████████████████████████████████████▍                           | 66/100 [00:03<00:02, 16.69it/s]"
     ]
    },
    {
     "name": "stdout",
     "output_type": "stream",
     "text": [
      "Validation loss decreased (0.137404 --> 0.137404).  Saving model ...\n",
      "Validation loss decreased (0.136976 --> 0.136976).  Saving model ...\n"
     ]
    },
    {
     "name": "stderr",
     "output_type": "stream",
     "text": [
      " 72%|██████████████████████████████████████████████████████████▎                      | 72/100 [00:04<00:01, 15.97it/s]"
     ]
    },
    {
     "name": "stdout",
     "output_type": "stream",
     "text": [
      "Validation loss decreased (0.136771 --> 0.136771).  Saving model ...\n",
      "Validation loss decreased (0.135224 --> 0.135224).  Saving model ...\n",
      "Validation loss decreased (0.134464 --> 0.134464).  Saving model ...\n"
     ]
    },
    {
     "name": "stderr",
     "output_type": "stream",
     "text": [
      "100%|████████████████████████████████████████████████████████████████████████████████| 100/100 [00:05<00:00, 16.76it/s]\n",
      "  4%|███▎                                                                              | 4/100 [00:00<00:06, 15.92it/s]"
     ]
    },
    {
     "name": "stdout",
     "output_type": "stream",
     "text": [
      "Validation loss decreased (0.627767 --> 0.627767).  Saving model ...\n",
      "Validation loss decreased (0.560236 --> 0.560236).  Saving model ...\n",
      "Validation loss decreased (0.474923 --> 0.474923).  Saving model ...\n",
      "Validation loss decreased (0.387911 --> 0.387911).  Saving model ...\n"
     ]
    },
    {
     "name": "stderr",
     "output_type": "stream",
     "text": [
      "  8%|██████▌                                                                           | 8/100 [00:00<00:06, 15.06it/s]"
     ]
    },
    {
     "name": "stdout",
     "output_type": "stream",
     "text": [
      "Validation loss decreased (0.317839 --> 0.317839).  Saving model ...\n",
      "Validation loss decreased (0.266195 --> 0.266195).  Saving model ...\n",
      "Validation loss decreased (0.231739 --> 0.231739).  Saving model ...\n",
      "Validation loss decreased (0.208486 --> 0.208486).  Saving model ...\n"
     ]
    },
    {
     "name": "stderr",
     "output_type": "stream",
     "text": [
      " 12%|█████████▋                                                                       | 12/100 [00:00<00:05, 15.02it/s]"
     ]
    },
    {
     "name": "stdout",
     "output_type": "stream",
     "text": [
      "Validation loss decreased (0.192496 --> 0.192496).  Saving model ...\n",
      "Validation loss decreased (0.181401 --> 0.181401).  Saving model ...\n",
      "Validation loss decreased (0.175074 --> 0.175074).  Saving model ...\n",
      "Validation loss decreased (0.170464 --> 0.170464).  Saving model ...\n"
     ]
    },
    {
     "name": "stderr",
     "output_type": "stream",
     "text": [
      " 16%|████████████▉                                                                    | 16/100 [00:01<00:05, 15.33it/s]"
     ]
    },
    {
     "name": "stdout",
     "output_type": "stream",
     "text": [
      "Validation loss decreased (0.166510 --> 0.166510).  Saving model ...\n",
      "Validation loss decreased (0.162677 --> 0.162677).  Saving model ...\n",
      "Validation loss decreased (0.160660 --> 0.160660).  Saving model ...\n",
      "Validation loss decreased (0.158395 --> 0.158395).  Saving model ...\n"
     ]
    },
    {
     "name": "stderr",
     "output_type": "stream",
     "text": [
      " 20%|████████████████▏                                                                | 20/100 [00:01<00:05, 15.29it/s]"
     ]
    },
    {
     "name": "stdout",
     "output_type": "stream",
     "text": [
      "Validation loss decreased (0.158086 --> 0.158086).  Saving model ...\n",
      "Validation loss decreased (0.155282 --> 0.155282).  Saving model ...\n",
      "Validation loss decreased (0.151577 --> 0.151577).  Saving model ...\n",
      "Validation loss decreased (0.149351 --> 0.149351).  Saving model ...\n"
     ]
    },
    {
     "name": "stderr",
     "output_type": "stream",
     "text": [
      " 24%|███████████████████▍                                                             | 24/100 [00:01<00:04, 15.84it/s]"
     ]
    },
    {
     "name": "stdout",
     "output_type": "stream",
     "text": [
      "Validation loss decreased (0.149020 --> 0.149020).  Saving model ...\n",
      "Validation loss decreased (0.147302 --> 0.147302).  Saving model ...\n",
      "Validation loss decreased (0.145761 --> 0.145761).  Saving model ...\n"
     ]
    },
    {
     "name": "stderr",
     "output_type": "stream",
     "text": [
      " 30%|████████████████████████▎                                                        | 30/100 [00:01<00:04, 15.79it/s]"
     ]
    },
    {
     "name": "stdout",
     "output_type": "stream",
     "text": [
      "Validation loss decreased (0.143358 --> 0.143358).  Saving model ...\n"
     ]
    },
    {
     "name": "stderr",
     "output_type": "stream",
     "text": [
      " 34%|███████████████████████████▌                                                     | 34/100 [00:02<00:04, 15.80it/s]"
     ]
    },
    {
     "name": "stdout",
     "output_type": "stream",
     "text": [
      "Validation loss decreased (0.141110 --> 0.141110).  Saving model ...\n",
      "Validation loss decreased (0.140994 --> 0.140994).  Saving model ...\n",
      "Validation loss decreased (0.139519 --> 0.139519).  Saving model ...\n",
      "Validation loss decreased (0.137771 --> 0.137771).  Saving model ...\n"
     ]
    },
    {
     "name": "stderr",
     "output_type": "stream",
     "text": [
      " 48%|██████████████████████████████████████▉                                          | 48/100 [00:03<00:03, 15.36it/s]"
     ]
    },
    {
     "name": "stdout",
     "output_type": "stream",
     "text": [
      "Validation loss decreased (0.136992 --> 0.136992).  Saving model ...\n",
      "Validation loss decreased (0.136877 --> 0.136877).  Saving model ...\n"
     ]
    },
    {
     "name": "stderr",
     "output_type": "stream",
     "text": [
      "100%|████████████████████████████████████████████████████████████████████████████████| 100/100 [00:06<00:00, 15.71it/s]\n",
      "  4%|███▎                                                                              | 4/100 [00:00<00:06, 15.19it/s]"
     ]
    },
    {
     "name": "stdout",
     "output_type": "stream",
     "text": [
      "Validation loss decreased (0.670604 --> 0.670604).  Saving model ...\n",
      "Validation loss decreased (0.617739 --> 0.617739).  Saving model ...\n",
      "Validation loss decreased (0.541752 --> 0.541752).  Saving model ...\n",
      "Validation loss decreased (0.441036 --> 0.441036).  Saving model ...\n"
     ]
    },
    {
     "name": "stderr",
     "output_type": "stream",
     "text": [
      "  8%|██████▌                                                                           | 8/100 [00:00<00:05, 16.02it/s]"
     ]
    },
    {
     "name": "stdout",
     "output_type": "stream",
     "text": [
      "Validation loss decreased (0.336020 --> 0.336020).  Saving model ...\n",
      "Validation loss decreased (0.264182 --> 0.264182).  Saving model ...\n",
      "Validation loss decreased (0.225369 --> 0.225369).  Saving model ...\n",
      "Validation loss decreased (0.203826 --> 0.203826).  Saving model ...\n"
     ]
    },
    {
     "name": "stderr",
     "output_type": "stream",
     "text": [
      " 12%|█████████▋                                                                       | 12/100 [00:00<00:05, 16.42it/s]"
     ]
    },
    {
     "name": "stdout",
     "output_type": "stream",
     "text": [
      "Validation loss decreased (0.189072 --> 0.189072).  Saving model ...\n",
      "Validation loss decreased (0.179698 --> 0.179698).  Saving model ...\n",
      "Validation loss decreased (0.171244 --> 0.171244).  Saving model ...\n",
      "Validation loss decreased (0.164597 --> 0.164597).  Saving model ...\n"
     ]
    },
    {
     "name": "stderr",
     "output_type": "stream",
     "text": [
      " 16%|████████████▉                                                                    | 16/100 [00:01<00:05, 15.90it/s]"
     ]
    },
    {
     "name": "stdout",
     "output_type": "stream",
     "text": [
      "Validation loss decreased (0.163800 --> 0.163800).  Saving model ...\n",
      "Validation loss decreased (0.159501 --> 0.159501).  Saving model ...\n",
      "Validation loss decreased (0.156212 --> 0.156212).  Saving model ...\n",
      "Validation loss decreased (0.154418 --> 0.154418).  Saving model ...\n"
     ]
    },
    {
     "name": "stderr",
     "output_type": "stream",
     "text": [
      " 20%|████████████████▏                                                                | 20/100 [00:01<00:05, 15.33it/s]"
     ]
    },
    {
     "name": "stdout",
     "output_type": "stream",
     "text": [
      "Validation loss decreased (0.146306 --> 0.146306).  Saving model ...\n",
      "Validation loss decreased (0.143211 --> 0.143211).  Saving model ...\n",
      "Validation loss decreased (0.140843 --> 0.140843).  Saving model ...\n",
      "Validation loss decreased (0.139384 --> 0.139384).  Saving model ...\n"
     ]
    },
    {
     "name": "stderr",
     "output_type": "stream",
     "text": [
      " 24%|███████████████████▍                                                             | 24/100 [00:01<00:04, 15.21it/s]"
     ]
    },
    {
     "name": "stdout",
     "output_type": "stream",
     "text": [
      "Validation loss decreased (0.138549 --> 0.138549).  Saving model ...\n",
      "Validation loss decreased (0.137767 --> 0.137767).  Saving model ...\n",
      "Validation loss decreased (0.134671 --> 0.134671).  Saving model ...\n"
     ]
    },
    {
     "name": "stderr",
     "output_type": "stream",
     "text": [
      " 28%|██████████████████████▋                                                          | 28/100 [00:01<00:04, 14.95it/s]"
     ]
    },
    {
     "name": "stdout",
     "output_type": "stream",
     "text": [
      "Validation loss decreased (0.133172 --> 0.133172).  Saving model ...\n",
      "Validation loss decreased (0.131612 --> 0.131612).  Saving model ...\n",
      "Validation loss decreased (0.129113 --> 0.129113).  Saving model ...\n"
     ]
    },
    {
     "name": "stderr",
     "output_type": "stream",
     "text": [
      " 32%|█████████████████████████▉                                                       | 32/100 [00:02<00:04, 15.13it/s]"
     ]
    },
    {
     "name": "stdout",
     "output_type": "stream",
     "text": [
      "Validation loss decreased (0.128276 --> 0.128276).  Saving model ...\n",
      "Validation loss decreased (0.127706 --> 0.127706).  Saving model ...\n"
     ]
    },
    {
     "name": "stderr",
     "output_type": "stream",
     "text": [
      " 36%|█████████████████████████████▏                                                   | 36/100 [00:02<00:04, 14.97it/s]"
     ]
    },
    {
     "name": "stdout",
     "output_type": "stream",
     "text": [
      "Validation loss decreased (0.125376 --> 0.125376).  Saving model ...\n",
      "Validation loss decreased (0.125174 --> 0.125174).  Saving model ...\n"
     ]
    },
    {
     "name": "stderr",
     "output_type": "stream",
     "text": [
      " 40%|████████████████████████████████▍                                                | 40/100 [00:02<00:03, 15.24it/s]"
     ]
    },
    {
     "name": "stdout",
     "output_type": "stream",
     "text": [
      "Validation loss decreased (0.124304 --> 0.124304).  Saving model ...\n",
      "Validation loss decreased (0.124287 --> 0.124287).  Saving model ...\n"
     ]
    },
    {
     "name": "stderr",
     "output_type": "stream",
     "text": [
      " 50%|████████████████████████████████████████▌                                        | 50/100 [00:03<00:03, 15.26it/s]"
     ]
    },
    {
     "name": "stdout",
     "output_type": "stream",
     "text": [
      "Validation loss decreased (0.123793 --> 0.123793).  Saving model ...\n",
      "Validation loss decreased (0.122830 --> 0.122830).  Saving model ...\n"
     ]
    },
    {
     "name": "stderr",
     "output_type": "stream",
     "text": [
      "100%|████████████████████████████████████████████████████████████████████████████████| 100/100 [00:06<00:00, 15.53it/s]\n",
      "  4%|███▎                                                                              | 4/100 [00:00<00:05, 16.52it/s]"
     ]
    },
    {
     "name": "stdout",
     "output_type": "stream",
     "text": [
      "Validation loss decreased (0.655158 --> 0.655158).  Saving model ...\n",
      "Validation loss decreased (0.606198 --> 0.606198).  Saving model ...\n",
      "Validation loss decreased (0.542692 --> 0.542692).  Saving model ...\n",
      "Validation loss decreased (0.452849 --> 0.452849).  Saving model ...\n"
     ]
    },
    {
     "name": "stderr",
     "output_type": "stream",
     "text": [
      "  8%|██████▌                                                                           | 8/100 [00:00<00:05, 16.19it/s]"
     ]
    },
    {
     "name": "stdout",
     "output_type": "stream",
     "text": [
      "Validation loss decreased (0.359355 --> 0.359355).  Saving model ...\n",
      "Validation loss decreased (0.276404 --> 0.276404).  Saving model ...\n",
      "Validation loss decreased (0.219049 --> 0.219049).  Saving model ...\n",
      "Validation loss decreased (0.186618 --> 0.186618).  Saving model ...\n"
     ]
    },
    {
     "name": "stderr",
     "output_type": "stream",
     "text": [
      " 12%|█████████▋                                                                       | 12/100 [00:00<00:05, 16.22it/s]"
     ]
    },
    {
     "name": "stdout",
     "output_type": "stream",
     "text": [
      "Validation loss decreased (0.170533 --> 0.170533).  Saving model ...\n",
      "Validation loss decreased (0.158607 --> 0.158607).  Saving model ...\n",
      "Validation loss decreased (0.153824 --> 0.153824).  Saving model ...\n",
      "Validation loss decreased (0.147400 --> 0.147400).  Saving model ...\n"
     ]
    },
    {
     "name": "stderr",
     "output_type": "stream",
     "text": [
      " 16%|████████████▉                                                                    | 16/100 [00:00<00:05, 16.10it/s]"
     ]
    },
    {
     "name": "stdout",
     "output_type": "stream",
     "text": [
      "Validation loss decreased (0.145060 --> 0.145060).  Saving model ...\n",
      "Validation loss decreased (0.143167 --> 0.143167).  Saving model ...\n",
      "Validation loss decreased (0.138454 --> 0.138454).  Saving model ...\n",
      "Validation loss decreased (0.135618 --> 0.135618).  Saving model ...\n"
     ]
    },
    {
     "name": "stderr",
     "output_type": "stream",
     "text": [
      " 20%|████████████████▏                                                                | 20/100 [00:01<00:05, 15.98it/s]"
     ]
    },
    {
     "name": "stdout",
     "output_type": "stream",
     "text": [
      "Validation loss decreased (0.134540 --> 0.134540).  Saving model ...\n",
      "Validation loss decreased (0.133267 --> 0.133267).  Saving model ...\n",
      "Validation loss decreased (0.128429 --> 0.128429).  Saving model ...\n"
     ]
    },
    {
     "name": "stderr",
     "output_type": "stream",
     "text": [
      " 26%|█████████████████████                                                            | 26/100 [00:01<00:04, 16.22it/s]"
     ]
    },
    {
     "name": "stdout",
     "output_type": "stream",
     "text": [
      "Validation loss decreased (0.125574 --> 0.125574).  Saving model ...\n"
     ]
    },
    {
     "name": "stderr",
     "output_type": "stream",
     "text": [
      " 31%|█████████████████████████                                                        | 31/100 [00:01<00:03, 17.38it/s]"
     ]
    },
    {
     "name": "stdout",
     "output_type": "stream",
     "text": [
      "Validation loss decreased (0.123793 --> 0.123793).  Saving model ...\n",
      "Validation loss decreased (0.122167 --> 0.122167).  Saving model ...\n"
     ]
    },
    {
     "name": "stderr",
     "output_type": "stream",
     "text": [
      " 37%|█████████████████████████████▉                                                   | 37/100 [00:02<00:03, 16.86it/s]"
     ]
    },
    {
     "name": "stdout",
     "output_type": "stream",
     "text": [
      "Validation loss decreased (0.121487 --> 0.121487).  Saving model ...\n",
      "Validation loss decreased (0.121331 --> 0.121331).  Saving model ...\n",
      "Validation loss decreased (0.118237 --> 0.118237).  Saving model ...\n"
     ]
    },
    {
     "name": "stderr",
     "output_type": "stream",
     "text": [
      "100%|████████████████████████████████████████████████████████████████████████████████| 100/100 [00:05<00:00, 17.00it/s]\n",
      "  4%|███▎                                                                              | 4/100 [00:00<00:05, 16.63it/s]"
     ]
    },
    {
     "name": "stdout",
     "output_type": "stream",
     "text": [
      "Validation loss decreased (0.617195 --> 0.617195).  Saving model ...\n",
      "Validation loss decreased (0.548306 --> 0.548306).  Saving model ...\n",
      "Validation loss decreased (0.476929 --> 0.476929).  Saving model ...\n",
      "Validation loss decreased (0.402753 --> 0.402753).  Saving model ...\n"
     ]
    },
    {
     "name": "stderr",
     "output_type": "stream",
     "text": [
      "  8%|██████▌                                                                           | 8/100 [00:00<00:05, 15.81it/s]"
     ]
    },
    {
     "name": "stdout",
     "output_type": "stream",
     "text": [
      "Validation loss decreased (0.328405 --> 0.328405).  Saving model ...\n",
      "Validation loss decreased (0.266416 --> 0.266416).  Saving model ...\n",
      "Validation loss decreased (0.213005 --> 0.213005).  Saving model ...\n",
      "Validation loss decreased (0.176455 --> 0.176455).  Saving model ...\n"
     ]
    },
    {
     "name": "stderr",
     "output_type": "stream",
     "text": [
      " 10%|████████                                                                         | 10/100 [00:00<00:05, 15.49it/s]"
     ]
    },
    {
     "name": "stdout",
     "output_type": "stream",
     "text": [
      "Validation loss decreased (0.152411 --> 0.152411).  Saving model ...\n",
      "Validation loss decreased (0.137450 --> 0.137450).  Saving model ...\n",
      "Validation loss decreased (0.131546 --> 0.131546).  Saving model ...\n"
     ]
    },
    {
     "name": "stderr",
     "output_type": "stream",
     "text": [
      " 14%|███████████▎                                                                     | 14/100 [00:00<00:05, 15.10it/s]"
     ]
    },
    {
     "name": "stdout",
     "output_type": "stream",
     "text": [
      "Validation loss decreased (0.123609 --> 0.123609).  Saving model ...\n",
      "Validation loss decreased (0.114459 --> 0.114459).  Saving model ...\n",
      "Validation loss decreased (0.109576 --> 0.109576).  Saving model ...\n"
     ]
    },
    {
     "name": "stderr",
     "output_type": "stream",
     "text": [
      " 18%|██████████████▌                                                                  | 18/100 [00:01<00:05, 14.95it/s]"
     ]
    },
    {
     "name": "stdout",
     "output_type": "stream",
     "text": [
      "Validation loss decreased (0.108903 --> 0.108903).  Saving model ...\n",
      "Validation loss decreased (0.107906 --> 0.107906).  Saving model ...\n",
      "Validation loss decreased (0.102136 --> 0.102136).  Saving model ...\n"
     ]
    },
    {
     "name": "stderr",
     "output_type": "stream",
     "text": [
      " 22%|█████████████████▊                                                               | 22/100 [00:01<00:05, 15.12it/s]"
     ]
    },
    {
     "name": "stdout",
     "output_type": "stream",
     "text": [
      "Validation loss decreased (0.099961 --> 0.099961).  Saving model ...\n",
      "Validation loss decreased (0.099941 --> 0.099941).  Saving model ...\n",
      "Validation loss decreased (0.097117 --> 0.097117).  Saving model ...\n"
     ]
    },
    {
     "name": "stderr",
     "output_type": "stream",
     "text": [
      " 26%|█████████████████████                                                            | 26/100 [00:01<00:04, 14.92it/s]"
     ]
    },
    {
     "name": "stdout",
     "output_type": "stream",
     "text": [
      "Validation loss decreased (0.095783 --> 0.095783).  Saving model ...\n",
      "Validation loss decreased (0.093969 --> 0.093969).  Saving model ...\n"
     ]
    },
    {
     "name": "stderr",
     "output_type": "stream",
     "text": [
      " 32%|█████████████████████████▉                                                       | 32/100 [00:02<00:04, 15.25it/s]"
     ]
    },
    {
     "name": "stdout",
     "output_type": "stream",
     "text": [
      "Validation loss decreased (0.092076 --> 0.092076).  Saving model ...\n",
      "Validation loss decreased (0.090797 --> 0.090797).  Saving model ...\n",
      "Validation loss decreased (0.090087 --> 0.090087).  Saving model ...\n",
      "Validation loss decreased (0.089624 --> 0.089624).  Saving model ...\n"
     ]
    },
    {
     "name": "stderr",
     "output_type": "stream",
     "text": [
      " 36%|█████████████████████████████▏                                                   | 36/100 [00:02<00:04, 15.84it/s]"
     ]
    },
    {
     "name": "stdout",
     "output_type": "stream",
     "text": [
      "Validation loss decreased (0.089485 --> 0.089485).  Saving model ...\n",
      "Validation loss decreased (0.089091 --> 0.089091).  Saving model ...\n"
     ]
    },
    {
     "name": "stderr",
     "output_type": "stream",
     "text": [
      " 40%|████████████████████████████████▍                                                | 40/100 [00:02<00:03, 15.46it/s]"
     ]
    },
    {
     "name": "stdout",
     "output_type": "stream",
     "text": [
      "Validation loss decreased (0.088399 --> 0.088399).  Saving model ...\n"
     ]
    },
    {
     "name": "stderr",
     "output_type": "stream",
     "text": [
      "100%|████████████████████████████████████████████████████████████████████████████████| 100/100 [00:06<00:00, 15.90it/s]\n",
      "  3%|██▍                                                                               | 3/100 [00:00<00:04, 20.15it/s]"
     ]
    },
    {
     "name": "stdout",
     "output_type": "stream",
     "text": [
      "Validation loss decreased (0.660530 --> 0.660530).  Saving model ...\n",
      "Validation loss decreased (0.619412 --> 0.619412).  Saving model ...\n",
      "Validation loss decreased (0.566603 --> 0.566603).  Saving model ...\n",
      "Validation loss decreased (0.502763 --> 0.502763).  Saving model ...\n",
      "Validation loss decreased (0.427779 --> 0.427779).  Saving model ...\n"
     ]
    },
    {
     "name": "stderr",
     "output_type": "stream",
     "text": [
      "  9%|███████▍                                                                          | 9/100 [00:00<00:04, 20.17it/s]"
     ]
    },
    {
     "name": "stdout",
     "output_type": "stream",
     "text": [
      "Validation loss decreased (0.350499 --> 0.350499).  Saving model ...\n",
      "Validation loss decreased (0.278788 --> 0.278788).  Saving model ...\n",
      "Validation loss decreased (0.219308 --> 0.219308).  Saving model ...\n",
      "Validation loss decreased (0.177650 --> 0.177650).  Saving model ...\n",
      "Validation loss decreased (0.151478 --> 0.151478).  Saving model ...\n"
     ]
    },
    {
     "name": "stderr",
     "output_type": "stream",
     "text": [
      " 15%|████████████▏                                                                    | 15/100 [00:00<00:04, 20.15it/s]"
     ]
    },
    {
     "name": "stdout",
     "output_type": "stream",
     "text": [
      "Validation loss decreased (0.134130 --> 0.134130).  Saving model ...\n",
      "Validation loss decreased (0.124177 --> 0.124177).  Saving model ...\n",
      "Validation loss decreased (0.113320 --> 0.113320).  Saving model ...\n",
      "Validation loss decreased (0.107805 --> 0.107805).  Saving model ...\n",
      "Validation loss decreased (0.105336 --> 0.105336).  Saving model ...\n"
     ]
    },
    {
     "name": "stderr",
     "output_type": "stream",
     "text": [
      " 18%|██████████████▌                                                                  | 18/100 [00:00<00:04, 20.12it/s]"
     ]
    },
    {
     "name": "stdout",
     "output_type": "stream",
     "text": [
      "Validation loss decreased (0.099725 --> 0.099725).  Saving model ...\n",
      "Validation loss decreased (0.095634 --> 0.095634).  Saving model ...\n",
      "Validation loss decreased (0.090220 --> 0.090220).  Saving model ...\n",
      "Validation loss decreased (0.087729 --> 0.087729).  Saving model ...\n"
     ]
    },
    {
     "name": "stderr",
     "output_type": "stream",
     "text": [
      " 24%|███████████████████▍                                                             | 24/100 [00:01<00:03, 21.15it/s]"
     ]
    },
    {
     "name": "stdout",
     "output_type": "stream",
     "text": [
      "Validation loss decreased (0.083234 --> 0.083234).  Saving model ...\n",
      "Validation loss decreased (0.081867 --> 0.081867).  Saving model ...\n",
      "Validation loss decreased (0.080104 --> 0.080104).  Saving model ...\n",
      "Validation loss decreased (0.078619 --> 0.078619).  Saving model ...\n"
     ]
    },
    {
     "name": "stderr",
     "output_type": "stream",
     "text": [
      " 30%|████████████████████████▎                                                        | 30/100 [00:01<00:03, 21.97it/s]"
     ]
    },
    {
     "name": "stdout",
     "output_type": "stream",
     "text": [
      "Validation loss decreased (0.076236 --> 0.076236).  Saving model ...\n",
      "Validation loss decreased (0.075633 --> 0.075633).  Saving model ...\n",
      "Validation loss decreased (0.073864 --> 0.073864).  Saving model ...\n",
      "Validation loss decreased (0.072888 --> 0.072888).  Saving model ...\n"
     ]
    },
    {
     "name": "stderr",
     "output_type": "stream",
     "text": [
      " 36%|█████████████████████████████▏                                                   | 36/100 [00:01<00:02, 21.48it/s]"
     ]
    },
    {
     "name": "stdout",
     "output_type": "stream",
     "text": [
      "Validation loss decreased (0.070849 --> 0.070849).  Saving model ...\n",
      "Validation loss decreased (0.070020 --> 0.070020).  Saving model ...\n",
      "Validation loss decreased (0.069468 --> 0.069468).  Saving model ...\n"
     ]
    },
    {
     "name": "stderr",
     "output_type": "stream",
     "text": [
      " 39%|███████████████████████████████▌                                                 | 39/100 [00:01<00:02, 21.30it/s]"
     ]
    },
    {
     "name": "stdout",
     "output_type": "stream",
     "text": [
      "Validation loss decreased (0.066985 --> 0.066985).  Saving model ...\n",
      "Validation loss decreased (0.066455 --> 0.066455).  Saving model ...\n",
      "Validation loss decreased (0.065664 --> 0.065664).  Saving model ...\n",
      "Validation loss decreased (0.063976 --> 0.063976).  Saving model ...\n"
     ]
    },
    {
     "name": "stderr",
     "output_type": "stream",
     "text": [
      " 45%|████████████████████████████████████▍                                            | 45/100 [00:02<00:02, 22.11it/s]"
     ]
    },
    {
     "name": "stdout",
     "output_type": "stream",
     "text": [
      "Validation loss decreased (0.061745 --> 0.061745).  Saving model ...\n",
      "Validation loss decreased (0.061200 --> 0.061200).  Saving model ...\n",
      "Validation loss decreased (0.060412 --> 0.060412).  Saving model ...\n",
      "Validation loss decreased (0.060135 --> 0.060135).  Saving model ...\n",
      "Validation loss decreased (0.060067 --> 0.060067).  Saving model ...\n"
     ]
    },
    {
     "name": "stderr",
     "output_type": "stream",
     "text": [
      " 51%|█████████████████████████████████████████▎                                       | 51/100 [00:02<00:02, 21.92it/s]"
     ]
    },
    {
     "name": "stdout",
     "output_type": "stream",
     "text": [
      "Validation loss decreased (0.058831 --> 0.058831).  Saving model ...\n",
      "Validation loss decreased (0.057944 --> 0.057944).  Saving model ...\n",
      "Validation loss decreased (0.055495 --> 0.055495).  Saving model ...\n"
     ]
    },
    {
     "name": "stderr",
     "output_type": "stream",
     "text": [
      " 54%|███████████████████████████████████████████▋                                     | 54/100 [00:02<00:02, 21.60it/s]"
     ]
    },
    {
     "name": "stdout",
     "output_type": "stream",
     "text": [
      "Validation loss decreased (0.055327 --> 0.055327).  Saving model ...\n",
      "Validation loss decreased (0.055209 --> 0.055209).  Saving model ...\n",
      "Validation loss decreased (0.054758 --> 0.054758).  Saving model ...\n",
      "Validation loss decreased (0.053615 --> 0.053615).  Saving model ...\n",
      "Validation loss decreased (0.052629 --> 0.052629).  Saving model ...\n"
     ]
    },
    {
     "name": "stderr",
     "output_type": "stream",
     "text": [
      " 60%|████████████████████████████████████████████████▌                                | 60/100 [00:02<00:01, 21.05it/s]"
     ]
    },
    {
     "name": "stdout",
     "output_type": "stream",
     "text": [
      "Validation loss decreased (0.052207 --> 0.052207).  Saving model ...\n",
      "Validation loss decreased (0.050541 --> 0.050541).  Saving model ...\n"
     ]
    },
    {
     "name": "stderr",
     "output_type": "stream",
     "text": [
      " 66%|█████████████████████████████████████████████████████▍                           | 66/100 [00:03<00:01, 22.27it/s]"
     ]
    },
    {
     "name": "stdout",
     "output_type": "stream",
     "text": [
      "Validation loss decreased (0.050332 --> 0.050332).  Saving model ...\n",
      "Validation loss decreased (0.049644 --> 0.049644).  Saving model ...\n",
      "Validation loss decreased (0.049380 --> 0.049380).  Saving model ...\n",
      "Validation loss decreased (0.048232 --> 0.048232).  Saving model ...\n"
     ]
    },
    {
     "name": "stderr",
     "output_type": "stream",
     "text": [
      " 69%|███████████████████████████████████████████████████████▉                         | 69/100 [00:03<00:01, 22.17it/s]"
     ]
    },
    {
     "name": "stdout",
     "output_type": "stream",
     "text": [
      "Validation loss decreased (0.047186 --> 0.047186).  Saving model ...\n",
      "Validation loss decreased (0.046029 --> 0.046029).  Saving model ...\n"
     ]
    },
    {
     "name": "stderr",
     "output_type": "stream",
     "text": [
      " 75%|████████████████████████████████████████████████████████████▊                    | 75/100 [00:03<00:01, 21.71it/s]"
     ]
    },
    {
     "name": "stdout",
     "output_type": "stream",
     "text": [
      "Validation loss decreased (0.045410 --> 0.045410).  Saving model ...\n",
      "Validation loss decreased (0.044838 --> 0.044838).  Saving model ...\n"
     ]
    },
    {
     "name": "stderr",
     "output_type": "stream",
     "text": [
      " 81%|█████████████████████████████████████████████████████████████████▌               | 81/100 [00:03<00:00, 22.16it/s]"
     ]
    },
    {
     "name": "stdout",
     "output_type": "stream",
     "text": [
      "Validation loss decreased (0.044400 --> 0.044400).  Saving model ...\n",
      "Validation loss decreased (0.043959 --> 0.043959).  Saving model ...\n",
      "Validation loss decreased (0.043474 --> 0.043474).  Saving model ...\n"
     ]
    },
    {
     "name": "stderr",
     "output_type": "stream",
     "text": [
      " 93%|███████████████████████████████████████████████████████████████████████████▎     | 93/100 [00:04<00:00, 22.90it/s]"
     ]
    },
    {
     "name": "stdout",
     "output_type": "stream",
     "text": [
      "Validation loss decreased (0.043086 --> 0.043086).  Saving model ...\n",
      "Validation loss decreased (0.042301 --> 0.042301).  Saving model ...\n"
     ]
    },
    {
     "name": "stderr",
     "output_type": "stream",
     "text": [
      "100%|████████████████████████████████████████████████████████████████████████████████| 100/100 [00:04<00:00, 21.64it/s]\n",
      "  0%|                                                                                          | 0/100 [00:00<?, ?it/s]"
     ]
    },
    {
     "name": "stdout",
     "output_type": "stream",
     "text": [
      "Validation loss decreased (0.041711 --> 0.041711).  Saving model ...\n",
      "Validation loss decreased (0.041584 --> 0.041584).  Saving model ...\n",
      "Validation loss decreased (0.041394 --> 0.041394).  Saving model ...\n",
      "Validation loss decreased (0.617716 --> 0.617716).  Saving model ...\n",
      "Validation loss decreased (0.570356 --> 0.570356).  Saving model ...\n"
     ]
    },
    {
     "name": "stderr",
     "output_type": "stream",
     "text": [
      "  6%|████▉                                                                             | 6/100 [00:00<00:04, 23.14it/s]"
     ]
    },
    {
     "name": "stdout",
     "output_type": "stream",
     "text": [
      "Validation loss decreased (0.511220 --> 0.511220).  Saving model ...\n",
      "Validation loss decreased (0.438232 --> 0.438232).  Saving model ...\n",
      "Validation loss decreased (0.359835 --> 0.359835).  Saving model ...\n",
      "Validation loss decreased (0.286523 --> 0.286523).  Saving model ...\n",
      "Validation loss decreased (0.230440 --> 0.230440).  Saving model ...\n"
     ]
    },
    {
     "name": "stderr",
     "output_type": "stream",
     "text": [
      " 12%|█████████▋                                                                       | 12/100 [00:00<00:03, 23.35it/s]"
     ]
    },
    {
     "name": "stdout",
     "output_type": "stream",
     "text": [
      "Validation loss decreased (0.197736 --> 0.197736).  Saving model ...\n",
      "Validation loss decreased (0.167436 --> 0.167436).  Saving model ...\n",
      "Validation loss decreased (0.151417 --> 0.151417).  Saving model ...\n",
      "Validation loss decreased (0.139876 --> 0.139876).  Saving model ...\n",
      "Validation loss decreased (0.131095 --> 0.131095).  Saving model ...\n"
     ]
    },
    {
     "name": "stderr",
     "output_type": "stream",
     "text": [
      " 15%|████████████▏                                                                    | 15/100 [00:00<00:03, 22.70it/s]"
     ]
    },
    {
     "name": "stdout",
     "output_type": "stream",
     "text": [
      "Validation loss decreased (0.125425 --> 0.125425).  Saving model ...\n",
      "Validation loss decreased (0.119226 --> 0.119226).  Saving model ...\n",
      "Validation loss decreased (0.117021 --> 0.117021).  Saving model ...\n",
      "Validation loss decreased (0.111011 --> 0.111011).  Saving model ...\n",
      "Validation loss decreased (0.108338 --> 0.108338).  Saving model ...\n"
     ]
    },
    {
     "name": "stderr",
     "output_type": "stream",
     "text": [
      " 21%|█████████████████                                                                | 21/100 [00:00<00:03, 22.36it/s]"
     ]
    },
    {
     "name": "stdout",
     "output_type": "stream",
     "text": [
      "Validation loss decreased (0.103989 --> 0.103989).  Saving model ...\n",
      "Validation loss decreased (0.100632 --> 0.100632).  Saving model ...\n",
      "Validation loss decreased (0.099332 --> 0.099332).  Saving model ...\n",
      "Validation loss decreased (0.097508 --> 0.097508).  Saving model ...\n",
      "Validation loss decreased (0.093518 --> 0.093518).  Saving model ...\n"
     ]
    },
    {
     "name": "stderr",
     "output_type": "stream",
     "text": [
      " 27%|█████████████████████▊                                                           | 27/100 [00:01<00:03, 23.39it/s]"
     ]
    },
    {
     "name": "stdout",
     "output_type": "stream",
     "text": [
      "Validation loss decreased (0.090797 --> 0.090797).  Saving model ...\n",
      "Validation loss decreased (0.088614 --> 0.088614).  Saving model ...\n",
      "Validation loss decreased (0.083689 --> 0.083689).  Saving model ...\n"
     ]
    },
    {
     "name": "stderr",
     "output_type": "stream",
     "text": [
      " 33%|██████████████████████████▋                                                      | 33/100 [00:01<00:02, 23.66it/s]"
     ]
    },
    {
     "name": "stdout",
     "output_type": "stream",
     "text": [
      "Validation loss decreased (0.083536 --> 0.083536).  Saving model ...\n",
      "Validation loss decreased (0.082406 --> 0.082406).  Saving model ...\n",
      "Validation loss decreased (0.078801 --> 0.078801).  Saving model ...\n"
     ]
    },
    {
     "name": "stderr",
     "output_type": "stream",
     "text": [
      " 39%|███████████████████████████████▌                                                 | 39/100 [00:01<00:02, 23.58it/s]"
     ]
    },
    {
     "name": "stdout",
     "output_type": "stream",
     "text": [
      "Validation loss decreased (0.077989 --> 0.077989).  Saving model ...\n",
      "Validation loss decreased (0.073840 --> 0.073840).  Saving model ...\n",
      "Validation loss decreased (0.073108 --> 0.073108).  Saving model ...\n",
      "Validation loss decreased (0.070980 --> 0.070980).  Saving model ...\n"
     ]
    },
    {
     "name": "stderr",
     "output_type": "stream",
     "text": [
      " 45%|████████████████████████████████████▍                                            | 45/100 [00:01<00:02, 23.14it/s]"
     ]
    },
    {
     "name": "stdout",
     "output_type": "stream",
     "text": [
      "Validation loss decreased (0.069414 --> 0.069414).  Saving model ...\n",
      "Validation loss decreased (0.069390 --> 0.069390).  Saving model ...\n",
      "Validation loss decreased (0.067654 --> 0.067654).  Saving model ...\n",
      "Validation loss decreased (0.065948 --> 0.065948).  Saving model ...\n"
     ]
    },
    {
     "name": "stderr",
     "output_type": "stream",
     "text": [
      " 51%|█████████████████████████████████████████▎                                       | 51/100 [00:02<00:02, 22.85it/s]"
     ]
    },
    {
     "name": "stdout",
     "output_type": "stream",
     "text": [
      "Validation loss decreased (0.065502 --> 0.065502).  Saving model ...\n",
      "Validation loss decreased (0.064602 --> 0.064602).  Saving model ...\n",
      "Validation loss decreased (0.064505 --> 0.064505).  Saving model ...\n",
      "Validation loss decreased (0.063709 --> 0.063709).  Saving model ...\n"
     ]
    },
    {
     "name": "stderr",
     "output_type": "stream",
     "text": [
      " 57%|██████████████████████████████████████████████▏                                  | 57/100 [00:02<00:01, 23.06it/s]"
     ]
    },
    {
     "name": "stdout",
     "output_type": "stream",
     "text": [
      "Validation loss decreased (0.063593 --> 0.063593).  Saving model ...\n",
      "Validation loss decreased (0.062836 --> 0.062836).  Saving model ...\n",
      "Validation loss decreased (0.062586 --> 0.062586).  Saving model ...\n",
      "Validation loss decreased (0.061227 --> 0.061227).  Saving model ...\n"
     ]
    },
    {
     "name": "stderr",
     "output_type": "stream",
     "text": [
      " 63%|███████████████████████████████████████████████████                              | 63/100 [00:02<00:01, 23.49it/s]"
     ]
    },
    {
     "name": "stdout",
     "output_type": "stream",
     "text": [
      "Validation loss decreased (0.060656 --> 0.060656).  Saving model ...\n",
      "Validation loss decreased (0.060485 --> 0.060485).  Saving model ...\n"
     ]
    },
    {
     "name": "stderr",
     "output_type": "stream",
     "text": [
      " 69%|███████████████████████████████████████████████████████▉                         | 69/100 [00:02<00:01, 23.69it/s]"
     ]
    },
    {
     "name": "stdout",
     "output_type": "stream",
     "text": [
      "Validation loss decreased (0.059307 --> 0.059307).  Saving model ...\n"
     ]
    },
    {
     "name": "stderr",
     "output_type": "stream",
     "text": [
      " 78%|███████████████████████████████████████████████████████████████▏                 | 78/100 [00:03<00:00, 24.66it/s]"
     ]
    },
    {
     "name": "stdout",
     "output_type": "stream",
     "text": [
      "Validation loss decreased (0.058783 --> 0.058783).  Saving model ...\n"
     ]
    },
    {
     "name": "stderr",
     "output_type": "stream",
     "text": [
      " 84%|████████████████████████████████████████████████████████████████████             | 84/100 [00:03<00:00, 23.67it/s]"
     ]
    },
    {
     "name": "stdout",
     "output_type": "stream",
     "text": [
      "Validation loss decreased (0.058477 --> 0.058477).  Saving model ...\n",
      "Validation loss decreased (0.058174 --> 0.058174).  Saving model ...\n",
      "Validation loss decreased (0.058069 --> 0.058069).  Saving model ...\n",
      "Validation loss decreased (0.057620 --> 0.057620).  Saving model ...\n"
     ]
    },
    {
     "name": "stderr",
     "output_type": "stream",
     "text": [
      " 93%|███████████████████████████████████████████████████████████████████████████▎     | 93/100 [00:03<00:00, 23.67it/s]"
     ]
    },
    {
     "name": "stdout",
     "output_type": "stream",
     "text": [
      "Validation loss decreased (0.057423 --> 0.057423).  Saving model ...\n",
      "Validation loss decreased (0.057052 --> 0.057052).  Saving model ...\n"
     ]
    },
    {
     "name": "stderr",
     "output_type": "stream",
     "text": [
      "100%|████████████████████████████████████████████████████████████████████████████████| 100/100 [00:04<00:00, 23.62it/s]"
     ]
    },
    {
     "name": "stdout",
     "output_type": "stream",
     "text": [
      "Validation loss decreased (0.055902 --> 0.055902).  Saving model ...\n",
      "Validation loss decreased (0.055872 --> 0.055872).  Saving model ...\n"
     ]
    },
    {
     "name": "stderr",
     "output_type": "stream",
     "text": [
      "\n"
     ]
    },
    {
     "data": {
      "text/plain": [
       "<All keys matched successfully>"
      ]
     },
     "execution_count": 269,
     "metadata": {},
     "output_type": "execute_result"
    }
   ],
   "source": [
    "epochs = 100\n",
    "model_path_iron = Path(\"models/iron\").expanduser()\n",
    "save_path_iron = model_path_iron.joinpath(\"model_try_{}.pt\".format(count))\n",
    "# model_scratch 학습하기\n",
    "model_iron, train_losses_iron, valid_losses_iron = train(epochs, iron_train, iron_valid, net_iron, optimizer_iron, scheduler_iron, criterion_iron, use_cuda, save_path_iron)\n",
    "# validation이 가장 좋았던 모델 parameter 불러와서 저장하기\n",
    "model_iron.load_state_dict(torch.load(save_path_iron))\n",
    "\n",
    "\n",
    "epochs = 100\n",
    "model_path_bronze = Path(\"models/bronze\").expanduser()\n",
    "save_path_bronze = model_path_bronze.joinpath(\"model_try_{}.pt\".format(count))\n",
    "# model_scratch 학습하기\n",
    "model_bronze, train_losses_bronze, valid_losses_bronze = train(epochs, bronze_train, bronze_valid, net_bronze, optimizer_bronze, scheduler_bronze, criterion_bronze, use_cuda, save_path_bronze)\n",
    "# validation이 가장 좋았던 모델 parameter 불러와서 저장하기\n",
    "model_bronze.load_state_dict(torch.load(save_path_bronze))\n",
    "\n",
    "\n",
    "epochs = 100\n",
    "model_path_silver = Path(\"models/silver\").expanduser()\n",
    "save_path_silver = model_path_silver.joinpath(\"model_try_{}.pt\".format(count))\n",
    "# model_scratch 학습하기\n",
    "model_silver, train_losses_silver, valid_losses_silver = train(epochs, silver_train, silver_valid, net_silver, optimizer_silver, scheduler_silver, criterion_silver, use_cuda, save_path_silver)\n",
    "# validation이 가장 좋았던 모델 parameter 불러와서 저장하기\n",
    "model_silver.load_state_dict(torch.load(save_path_silver))\n",
    "\n",
    "\n",
    "epochs = 100\n",
    "model_path_gold = Path(\"models/gold\").expanduser()\n",
    "save_path_gold = model_path_gold.joinpath(\"model_try_{}.pt\".format(count))\n",
    "# model_scratch 학습하기\n",
    "model_gold, train_losses_gold, valid_losses_gold = train(epochs, gold_train, gold_valid, net_gold, optimizer_gold, scheduler_gold, criterion_gold, use_cuda, save_path_gold)\n",
    "# validation이 가장 좋았던 모델 parameter 불러와서 저장하기\n",
    "model_gold.load_state_dict(torch.load(save_path_gold))\n",
    "\n",
    "\n",
    "epochs = 100\n",
    "model_path_platinum = Path(\"models/platinum\").expanduser()\n",
    "save_path_platinum = model_path_platinum.joinpath(\"model_try_{}.pt\".format(count))\n",
    "# model_scratch 학습하기\n",
    "model_platinum, train_losses_platinum, valid_losses_platinum = train(epochs, platinum_train, platinum_valid, net_platinum, optimizer_platinum, scheduler_platinum, criterion_platinum, use_cuda, save_path_platinum)\n",
    "# validation이 가장 좋았던 모델 parameter 불러와서 저장하기\n",
    "model_platinum.load_state_dict(torch.load(save_path_platinum))\n",
    "\n",
    "\n",
    "epochs = 100\n",
    "model_path_diamond = Path(\"models/diamond\").expanduser()\n",
    "save_path_diamond = model_path_diamond.joinpath(\"model_try_{}.pt\".format(count))\n",
    "# model_scratch 학습하기\n",
    "model_diamond, train_losses_diamond, valid_losses_diamond = train(epochs, diamond_train, diamond_valid, net_diamond, optimizer_diamond, scheduler_diamond, criterion_diamond, use_cuda, save_path_diamond)\n",
    "# validation이 가장 좋았던 모델 parameter 불러와서 저장하기\n",
    "model_diamond.load_state_dict(torch.load(save_path_diamond))\n",
    "\n",
    "\n",
    "epochs = 100\n",
    "model_path_over_diamond = Path(\"models/over_diamond\").expanduser()\n",
    "save_path_over_diamond = model_path_over_diamond.joinpath(\"model_try_{}.pt\".format(count))\n",
    "# model_scratch 학습하기\n",
    "model_over_diamond, train_losses_over_diamond, valid_losses_over_diamond = train(epochs, over_diamond_train, over_diamond_valid, net_over_diamond, optimizer_over_diamond, scheduler_over_diamond, criterion_over_diamond, use_cuda, save_path_over_diamond)\n",
    "# validation이 가장 좋았던 모델 parameter 불러와서 저장하기\n",
    "model_over_diamond.load_state_dict(torch.load(save_path_over_diamond))"
   ]
  },
  {
   "cell_type": "code",
   "execution_count": 277,
   "metadata": {},
   "outputs": [
    {
     "name": "stderr",
     "output_type": "stream",
     "text": [
      "C:\\Users\\hyuk6\\anaconda3\\envs\\pytorch\\lib\\site-packages\\ipykernel_launcher.py:71: MatplotlibDeprecationWarning: savefig() got unexpected keyword argument \"papertype\" which is no longer supported as of 3.3 and will become an error two minor releases later\n",
      "C:\\Users\\hyuk6\\anaconda3\\envs\\pytorch\\lib\\site-packages\\ipykernel_launcher.py:71: MatplotlibDeprecationWarning: savefig() got unexpected keyword argument \"frameon\" which is no longer supported as of 3.3 and will become an error two minor releases later\n"
     ]
    },
    {
     "data": {
      "image/png": "[encoded data removed]",
      "text/plain": [
       "<Figure size 2880x1440 with 7 Axes>"
      ]
     },
     "metadata": {
      "needs_background": "light"
     },
     "output_type": "display_data"
    }
   ],
   "source": [
    "# try - 1\n",
    "\n",
    "plt.figure(figsize = (40,20))\n",
    "plt.subplot(2,4,1)\n",
    "plt.plot(train_losses_iron, label='Training loss')\n",
    "plt.plot(valid_losses_iron, label='Validation loss')\n",
    "plt.ylim(0, 0.75)\n",
    "plt.legend(frameon=False)\n",
    "plt.title(\"Iron\")\n",
    "plt.grid(True)\n",
    "\n",
    "plt.subplot(2,4,2)\n",
    "plt.plot(train_losses_bronze, label='Training loss')\n",
    "plt.plot(valid_losses_bronze, label='Validation loss')\n",
    "plt.ylim(0, 0.75)\n",
    "plt.legend(frameon=False)\n",
    "plt.title(\"Bronze\")\n",
    "plt.grid(True)\n",
    "\n",
    "plt.subplot(2,4,3)\n",
    "plt.plot(train_losses_silver, label='Training loss')\n",
    "plt.plot(valid_losses_silver, label='Validation loss')\n",
    "plt.ylim(0, 0.75)\n",
    "plt.legend(frameon=False)\n",
    "plt.title(\"Silver\")\n",
    "plt.grid(True)\n",
    "\n",
    "plt.subplot(2,4,4)\n",
    "plt.plot(train_losses_gold, label='Training loss')\n",
    "plt.plot(valid_losses_gold, label='Validation loss')\n",
    "plt.ylim(0, 0.75)\n",
    "plt.legend(frameon=False)\n",
    "plt.title(\"Gold\")\n",
    "plt.grid(True)\n",
    "\n",
    "plt.subplot(2,4,5)\n",
    "plt.plot(train_losses_platinum, label='Training loss')\n",
    "plt.plot(valid_losses_platinum, label='Validation loss')\n",
    "plt.ylim(0, 0.75)\n",
    "plt.legend(frameon=False)\n",
    "plt.title(\"Platinum\")\n",
    "plt.grid(True)\n",
    "\n",
    "plt.subplot(2,4,6)\n",
    "plt.plot(train_losses_diamond, label='Training loss')\n",
    "plt.plot(valid_losses_diamond, label='Validation loss')\n",
    "plt.ylim(0, 0.75)\n",
    "plt.legend(frameon=False)\n",
    "plt.title(\"Diamond\")\n",
    "plt.grid(True)\n",
    "\n",
    "plt.subplot(2,4,7)\n",
    "plt.plot(train_losses_over_diamond, label='Training loss')\n",
    "plt.plot(valid_losses_over_diamond, label='Validation loss')\n",
    "plt.ylim(0, 0.75)\n",
    "plt.legend(frameon=False)\n",
    "plt.title(\"Diamond and over\")\n",
    "plt.grid(True)\n",
    "\n",
    "plt.savefig('try-1.png', dpi=300, facecolor='w', edgecolor='w', orientation='portrait', papertype=None, format=None, transparent=False, bbox_inches=None, pad_inches=0.1, frameon=None, metadata=None)"
   ]
  },
  {
   "cell_type": "code",
   "execution_count": null,
   "metadata": {
    "jupyter": {
     "source_hidden": true
    }
   },
   "outputs": [],
   "source": [
    "def test(test_loader, model, criterion, use_cuda):\n",
    "\n",
    "    # test loss 를 만들어 줍니다.\n",
    "    test_loss = 0.0\n",
    "\n",
    "    # 분류를 성공한 개수를 알려줄 class_correct를 만들어 줍니다.\n",
    "    class_correct = list(0. for i in range(2))\n",
    "    \n",
    "    # image의 개수를 count하기위해 class_total을 만들어 줍니다.\n",
    "    class_total = list(0. for i in range(2))\n",
    "\n",
    "    # parameter들을 업데이트 하지 않기 때문에 model.eval()\n",
    "    model.eval()\n",
    "    \n",
    "    # testloader에서 image와 label을 가져 옵니다.\n",
    "    for data, target in test_loader:\n",
    "    \n",
    "        # CUDA가 사용 가능하다면, GPU로 가져온 data를 옮깁니다.\n",
    "        if use_cuda:\n",
    "            data, target = data.cuda(), target.cuda()\n",
    "    \n",
    "        # forward pass: model에 image 를 넣고, 결과값을 output에 저장 \n",
    "        output = model(data)\n",
    "    \n",
    "        # batch의 loss를 계산합니다.\n",
    "        loss = criterion(output, target)\n",
    "    \n",
    "        # batch의 loss를 통해 test loss를 update해 줍니다. \n",
    "        test_loss += loss.item()*data.size(0)\n",
    "    \n",
    "        # batch 단위로 output의 값의 index를 pred에 저장합니다. (class에 해당합니다.)\n",
    "        _, pred = torch.max(output, 1)  \n",
    "        \n",
    "        # pred의 값이 목적값이랑 같다면 true를, 아니라면 false를 correct_tensor에 저장\n",
    "        correct_tensor = pred.eq(target.data.view_as(pred))\n",
    "        \n",
    "        # tensor -> numpy\n",
    "        correct = np.squeeze(correct_tensor.numpy()) if not use_cuda else np.squeeze(correct_tensor.cpu().numpy())\n",
    "        \n",
    "        # test set의 정확도를 계산\n",
    "        batch_size = len(target.data)\n",
    "        for i in range(batch_size):\n",
    "            label = target.data[i]\n",
    "            class_correct[label] += correct[i].item()\n",
    "            class_total[label] += 1\n",
    "\n",
    "    # 지금까지 더해왔던 test loss의 평균\n",
    "    test_loss = test_loss/len(test_loader.dataset)\n",
    "    print('Test Loss: {:.6f}\\n'.format(test_loss))\n",
    "    \n",
    "    # test 결과 출력\n",
    "    print('\\nTest Accuracy (Overall): %2d%% (%2d/%2d)' % (100. * np.sum(class_correct) / np.sum(class_total), np.sum(class_correct), np.sum(class_total)))"
   ]
  },
  {
   "cell_type": "code",
   "execution_count": 272,
   "metadata": {},
   "outputs": [
    {
     "name": "stdout",
     "output_type": "stream",
     "text": [
      "-------------------------------------------------------------------\n",
      "Iron\n",
      "Test Loss: 0.123322\n",
      "\n",
      "\n",
      "Test Accuracy (Overall): 94% (535/568)\n",
      "-------------------------------------------------------------------\n",
      "Bronze\n",
      "Test Loss: 0.209957\n",
      "\n",
      "\n",
      "Test Accuracy (Overall): 92% (562/606)\n",
      "-------------------------------------------------------------------\n",
      "Silver\n",
      "Test Loss: 0.121478\n",
      "\n",
      "\n",
      "Test Accuracy (Overall): 94% (564/598)\n",
      "-------------------------------------------------------------------\n",
      "Gold\n",
      "Test Loss: 0.107683\n",
      "\n",
      "\n",
      "Test Accuracy (Overall): 95% (513/538)\n",
      "-------------------------------------------------------------------\n",
      "Platinum\n",
      "Test Loss: 0.126085\n",
      "\n",
      "\n",
      "Test Accuracy (Overall): 93% (552/588)\n",
      "-------------------------------------------------------------------\n",
      "Diamond\n",
      "Test Loss: 0.228883\n",
      "\n",
      "\n",
      "Test Accuracy (Overall): 94% (401/424)\n",
      "-------------------------------------------------------------------\n",
      "Over Diamond\n",
      "Test Loss: 0.184762\n",
      "\n",
      "\n",
      "Test Accuracy (Overall): 93% (358/384)\n"
     ]
    }
   ],
   "source": [
    "print('-------------------------------------------------------------------')\n",
    "print('Iron')\n",
    "test(iron_test, net_iron, criterion_iron, use_cuda)\n",
    "print('-------------------------------------------------------------------')\n",
    "print('Bronze')\n",
    "test(bronze_test, net_bronze, criterion_bronze, use_cuda)\n",
    "print('-------------------------------------------------------------------')\n",
    "print('Silver')\n",
    "test(silver_test, net_silver, criterion_silver, use_cuda)\n",
    "print('-------------------------------------------------------------------')\n",
    "print('Gold')\n",
    "test(gold_test, net_gold, criterion_gold, use_cuda)\n",
    "print('-------------------------------------------------------------------')\n",
    "print('Platinum')\n",
    "test(platinum_test, net_platinum, criterion_platinum, use_cuda)\n",
    "print('-------------------------------------------------------------------')\n",
    "print('Diamond')\n",
    "test(diamond_test, net_diamond, criterion_diamond, use_cuda)\n",
    "print('-------------------------------------------------------------------')\n",
    "print('Over Diamond')\n",
    "test(over_diamond_test, net_over_diamond, criterion_over_diamond, use_cuda)\n"
   ]
  },
  {
   "cell_type": "code",
   "execution_count": 273,
   "metadata": {},
   "outputs": [],
   "source": [
    "device = torch.device(\"cuda:0\" if torch.cuda.is_available() else \"cpu\")\n",
    "\n",
    "def predict(tensor, model, save_path, mean, std):\n",
    "    model.load_state_dict(torch.load(save_path)) \n",
    "    tensor = tensor - (torch.tensor(mean)[1:])        \n",
    "    tensor = tensor / (torch.tensor(std)[1:])\n",
    "    if use_cuda:\n",
    "        tensor = tensor.to(device)\n",
    "    with torch.no_grad():\n",
    "        output = F.log_softmax(model(tensor), dim=0)\n",
    "    ps = torch.exp(output)\n",
    "    top_p, top_class = ps.topk(1, dim=0)\n",
    "    ans = ['패배', '승리']\n",
    "    print(ans[top_class]+ '확률 : {0:.2f}'.format(float(ps[top_class]*100)))\n",
    "    "
   ]
  },
  {
   "cell_type": "code",
   "execution_count": 274,
   "metadata": {},
   "outputs": [
    {
     "name": "stdout",
     "output_type": "stream",
     "text": [
      "Iron - mean\n",
      "승리확률 : 80.77\n",
      "Bronze - mean\n",
      "패배확률 : 51.64\n",
      "Silver - mean\n",
      "승리확률 : 75.49\n",
      "Gold - mean\n",
      "승리확률 : 79.49\n",
      "Platinum - mean\n",
      "승리확률 : 70.89\n"
     ]
    }
   ],
   "source": [
    "print('Iron - mean')\n",
    "predict(torch.tensor(iron_mean)[1:], model_iron, save_path_iron, iron_mean, iron_std)\n",
    "print('Bronze - mean')\n",
    "predict(torch.tensor(bronze_mean)[1:], model_bronze, save_path_bronze, bronze_mean, bronze_std)\n",
    "print('Silver - mean')\n",
    "predict(torch.tensor(silver_mean)[1:], model_silver, save_path_silver, silver_mean, silver_std)\n",
    "print('Gold - mean')\n",
    "predict(torch.tensor(gold_mean)[1:], model_gold, save_path_gold, gold_mean, gold_std)\n",
    "print('Platinum - mean')\n",
    "predict(torch.tensor(platinum_mean)[1:], model_platinum, save_path_platinum, platinum_mean, platinum_std)"
   ]
  },
  {
   "cell_type": "code",
   "execution_count": 258,
   "metadata": {},
   "outputs": [
    {
     "name": "stdout",
     "output_type": "stream",
     "text": [
      "승리확률 : 58.03\n",
      "승리확률 : 58.35\n",
      "패배확률 : 61.64\n",
      "패배확률 : 53.04\n"
     ]
    }
   ],
   "source": [
    "inputdata = torch.zeros(53)\n",
    "predict(inputdata, model_bronze, save_path_bronze, bronze_mean, bronze_std)\n",
    "predict(inputdata, model_silver, save_path_silver, silver_mean, silver_std)\n",
    "predict(inputdata, model_gold, save_path_gold, gold_mean, gold_std)\n",
    "predict(inputdata, model_platinum, save_path_platinum, platinum_mean, platinum_std)\n"
   ]
  },
  {
   "cell_type": "code",
   "execution_count": 206,
   "metadata": {},
   "outputs": [
    {
     "data": {
      "text/plain": [
       "tensor([5.0000e-01, 1.6454e+03, 2.8190e+01, 2.8361e+01, 3.3315e+01, 1.3370e+01,\n",
       "        6.5147e+00, 6.2055e+00, 2.8299e+03, 2.7104e+00, 4.3252e-01, 7.8528e-02,\n",
       "        1.6564e-02, 4.5636e+05, 1.2433e+05, 2.9391e+05, 3.8124e+04, 8.2464e+02,\n",
       "        7.5014e+04, 2.7749e+04, 4.1870e+04, 5.3919e+03, 2.7508e+04, 7.9920e+00,\n",
       "        7.4392e+04, 3.5479e+04, 8.2386e+01, 9.8566e+01, 1.0089e+05, 2.9515e+04,\n",
       "        6.5717e+04, 5.6489e+03, 4.7558e+04, 4.3510e+04, 6.2699e-01, 4.2789e+02,\n",
       "        1.2593e+02, 7.9767e+01, 1.5160e+01, 8.3594e+02, 6.4029e+01, 5.1748e+00,\n",
       "        3.8854e+01, 6.2215e+00, 4.9571e-01, 4.7853e-01, 3.4172e-01, 1.8589e-01,\n",
       "        4.8589e-01, 4.0245e-01, 6.5337e-01, 2.5092e-01, 1.6558e+00, 5.4294e-01])"
      ]
     },
     "execution_count": 206,
     "metadata": {},
     "output_type": "execute_result"
    }
   ],
   "source": []
  },
  {
   "cell_type": "code",
   "execution_count": null,
   "metadata": {},
   "outputs": [],
   "source": []
  }
 ],
 "metadata": {
  "kernelspec": {
   "display_name": "Python 3",
   "language": "python",
   "name": "python3"
  },
  "language_info": {
   "codemirror_mode": {
    "name": "ipython",
    "version": 3
   },
   "file_extension": ".py",
   "mimetype": "text/x-python",
   "name": "python",
   "nbconvert_exporter": "python",
   "pygments_lexer": "ipython3",
   "version": "3.6.6"
  }
 },
 "nbformat": 4,
 "nbformat_minor": 4
}
