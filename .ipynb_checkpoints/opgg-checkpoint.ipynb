{
 "cells": [
  {
   "cell_type": "code",
   "execution_count": 1,
   "metadata": {},
   "outputs": [],
   "source": [
    "import requests\n",
    "import json\n",
    "import pandas as pd\n",
    "import itertools\n",
    "import time\n",
    "import math\n",
    "import numpy as np\n",
    "from tqdm import tqdm"
   ]
  },
  {
   "cell_type": "code",
   "execution_count": 18,
   "metadata": {},
   "outputs": [],
   "source": [
    "api_key = 'RGAPI-f8d576b9-66ee-4d2c-892d-11b1beb7c782'"
   ]
  },
  {
   "cell_type": "code",
   "execution_count": 15,
   "metadata": {},
   "outputs": [],
   "source": [
    "IRON_URL4='https://kr.api.riotgames.com/lol/league-exp/v4/entries/RANKED_SOLO_5x5/IRON/IV?page='\n",
    "IRON_URL3='https://kr.api.riotgames.com/lol/league-exp/v4/entries/RANKED_SOLO_5x5/IRON/III?page='\n",
    "IRON_URL2='https://kr.api.riotgames.com/lol/league-exp/v4/entries/RANKED_SOLO_5x5/IRON/II?page='\n",
    "IRON_URL1='https://kr.api.riotgames.com/lol/league-exp/v4/entries/RANKED_SOLO_5x5/IRON/I?page='\n",
    "BRONZE_URL4='https://kr.api.riotgames.com/lol/league-exp/v4/entries/RANKED_SOLO_5x5/BRONZE/IV?page='\n",
    "BRONZE_URL3='https://kr.api.riotgames.com/lol/league-exp/v4/entries/RANKED_SOLO_5x5/BRONZE/III?page='\n",
    "BRONZE_URL2='https://kr.api.riotgames.com/lol/league-exp/v4/entries/RANKED_SOLO_5x5/BRONZE/II?page='\n",
    "BRONZE_URL1='https://kr.api.riotgames.com/lol/league-exp/v4/entries/RANKED_SOLO_5x5/BRONZE/I?page='\n",
    "SILVER_URL4='https://kr.api.riotgames.com/lol/league-exp/v4/entries/RANKED_SOLO_5x5/SILVER/IV?page='\n",
    "SILVER_URL3='https://kr.api.riotgames.com/lol/league-exp/v4/entries/RANKED_SOLO_5x5/SILVER/III?page='\n",
    "SILVER_URL2='https://kr.api.riotgames.com/lol/league-exp/v4/entries/RANKED_SOLO_5x5/SILVER/II?page='\n",
    "SILVER_URL1='https://kr.api.riotgames.com/lol/league-exp/v4/entries/RANKED_SOLO_5x5/SILVER/I?page='\n",
    "GOLD_URL4='https://kr.api.riotgames.com/lol/league-exp/v4/entries/RANKED_SOLO_5x5/GOLD/IV?page='\n",
    "GOLD_URL3='https://kr.api.riotgames.com/lol/league-exp/v4/entries/RANKED_SOLO_5x5/GOLD/III?page='\n",
    "GOLD_URL2='https://kr.api.riotgames.com/lol/league-exp/v4/entries/RANKED_SOLO_5x5/GOLD/II?page='\n",
    "GOLD_URL1='https://kr.api.riotgames.com/lol/league-exp/v4/entries/RANKED_SOLO_5x5/GOLD/I?page='\n",
    "PLATINUM_URL4='https://kr.api.riotgames.com/lol/league-exp/v4/entries/RANKED_SOLO_5x5/PLATINUM/IV?page='\n",
    "PLATINUM_URL3='https://kr.api.riotgames.com/lol/league-exp/v4/entries/RANKED_SOLO_5x5/PLATINUM/III?page='\n",
    "PLATINUM_URL2='https://kr.api.riotgames.com/lol/league-exp/v4/entries/RANKED_SOLO_5x5/PLATINUM/II?page='\n",
    "PLATINUM_URL1='https://kr.api.riotgames.com/lol/league-exp/v4/entries/RANKED_SOLO_5x5/PLATINUM/I?page='\n",
    "DIAMOND_URL4='https://kr.api.riotgames.com/lol/league-exp/v4/entries/RANKED_SOLO_5x5/DIAMOND/IV?page='\n",
    "DIAMOND_URL3='https://kr.api.riotgames.com/lol/league-exp/v4/entries/RANKED_SOLO_5x5/DIAMOND/III?page='\n",
    "DIAMOND_URL2='https://kr.api.riotgames.com/lol/league-exp/v4/entries/RANKED_SOLO_5x5/DIAMOND/II?page='\n",
    "DIAMOND_URL1='https://kr.api.riotgames.com/lol/league-exp/v4/entries/RANKED_SOLO_5x5/DIAMOND/I?page='\n",
    "MASTER_URL1='https://kr.api.riotgames.com/lol/league-exp/v4/entries/RANKED_SOLO_5x5/MASTER/I?page='\n",
    "GRANDMASTER_URL1='https://kr.api.riotgames.com/lol/league-exp/v4/entries/RANKED_SOLO_5x5/GRANDMASTER/I?page='\n",
    "CHALLENGER_URL1='https://kr.api.riotgames.com/lol/league-exp/v4/entries/RANKED_SOLO_5x5/CHALLENGER/I?page='\n",
    "MATCH_URL = 'https://kr.api.riotgames.com/lol/match/v4/matches/'"
   ]
  },
  {
   "cell_type": "code",
   "execution_count": 16,
   "metadata": {},
   "outputs": [],
   "source": [
    "def summonersT(tier_url, api_key):\n",
    "    print('----------------------------------------------------Summoners start----------------------------------------------------')\n",
    "    summoners = []\n",
    "    for i in range(1,5):\n",
    "        res = requests.get(tier_url+str(i), headers={\"X-Riot-Token\": api_key})\n",
    "        summoners.append(json.loads(res.text)[5:105])\n",
    "    now = time.gmtime(time.time())\n",
    "    print('min:',now.tm_min,'sec:',now.tm_sec)\n",
    "    print('Waiting for summoners end...')\n",
    "    time.sleep(120)\n",
    "    print('----------------------------------------------------Summoners done-----------------------------------------------------')\n",
    "    return pd.DataFrame(list(itertools.chain(*summoners)))['summonerId'].values\n",
    "\n",
    "def getAccountId(summoners, api_key):\n",
    "    print('\\n----------------------------------------------------Accounts start-----------------------------------------------------')\n",
    "    now = time.gmtime(time.time())\n",
    "    print('min:',now.tm_min,'sec:',now.tm_sec)\n",
    "    accountS = []\n",
    "    time.sleep(2)\n",
    "    a = 0\n",
    "    for i  in tqdm(summoners):\n",
    "        a += 1\n",
    "        if a % 20 == 0:\n",
    "            time.sleep(1)\n",
    "        if a % 100 == 0:\n",
    "            time.sleep(122)\n",
    "        togetSummonerId = 'https://kr.api.riotgames.com/lol/summoner/v4/summoners/'+str(i)\n",
    "        res = requests.get(togetSummonerId, headers={\"X-Riot-Token\": api_key})\n",
    "        accountS.append(json.loads(res.text))\n",
    "    print('\\n-----------------------------------------------------Accounts done-----------------------------------------------------')   \n",
    "    return pd.DataFrame(accountS)['accountId'].values\n",
    "\n",
    "def getMatch(encryptedAccountId, api_key):\n",
    "    print('\\n-----------------------------------------------------MatchId start-----------------------------------------------------')\n",
    "    a = 0\n",
    "    now = time.gmtime(time.time())\n",
    "    print('min:',now.tm_min,'sec:',now.tm_sec)\n",
    "    objects = []\n",
    "    matchIds = []\n",
    "    time.sleep(2)\n",
    "    for i in tqdm(encryptedAccountId):\n",
    "        a += 1\n",
    "        if a % 20 == 0:\n",
    "            time.sleep(1)\n",
    "        if a % 100 == 0:\n",
    "            time.sleep(122)\n",
    "        togetMatchOb = 'https://kr.api.riotgames.com/lol/match/v4/matchlists/by-account/{}?endIndex=1&beginIndex=0'.format(str(i))\n",
    "        res = requests.get(togetMatchOb, headers={\"X-Riot-Token\": api_key})\n",
    "        ob = pd.DataFrame(json.loads(res.text))\n",
    "        if 'matches' in list(ob):\n",
    "            objects.append(pd.DataFrame(ob)['matches'].values[0])\n",
    "        else:\n",
    "            print(ob)\n",
    "            print(\"----Error recovery time----\")\n",
    "            time.sleep(90)\n",
    "            rest=getMatchRe([i], api_key)\n",
    "            matchIds.append(rest)\n",
    "            print(\"----Error fixed----\")\n",
    "    matchIds = matchIds + list(pd.DataFrame(objects)['gameId'].values)\n",
    "    print('\\n-----------------------------------------------------MatchId done-----------------------------------------------------')   \n",
    "    return matchIds\n",
    "\n",
    "\n",
    "def getMatchRe(encryptedAccountId, api_key):\n",
    "    a = 0\n",
    "    now = time.gmtime(time.time())\n",
    "    print('min:',now.tm_min,'sec:',now.tm_sec)\n",
    "    objects = []\n",
    "    matchIds = []\n",
    "    time.sleep(2)\n",
    "    for i in tqdm(encryptedAccountId):\n",
    "        a += 1\n",
    "        if a % 20 == 0:\n",
    "            time.sleep(1)\n",
    "        if a % 100 == 0:\n",
    "            time.sleep(122)\n",
    "        togetMatchOb = 'https://kr.api.riotgames.com/lol/match/v4/matchlists/by-account/{}?endIndex=1&beginIndex=0'.format(str(i))\n",
    "        res = requests.get(togetMatchOb, headers={\"X-Riot-Token\": api_key})\n",
    "        ob = pd.DataFrame(json.loads(res.text))\n",
    "        if 'matches' in list(ob):\n",
    "            objects.append(pd.DataFrame(ob)['matches'].values[0])\n",
    "        else:\n",
    "            print(ob)\n",
    "            print(\"----Error recovery time----\")\n",
    "            time.sleep(90)\n",
    "            rest=getMatchRe([i], api_key)\n",
    "            matchIds.append(rest)\n",
    "    matchIds = matchIds + list(pd.DataFrame(objects)['gameId'].values)\n",
    "    return matchIds[0]\n",
    "\n",
    "\n",
    "def getMatchId(tier, api_key):\n",
    "    summoners = summonersT(tier, api_key)\n",
    "    accountId = getAccountId(summoners, api_key)\n",
    "    gameId = getMatch(accountId, api_key)\n",
    "    return gameId"
   ]
  },
  {
   "cell_type": "code",
   "execution_count": null,
   "metadata": {},
   "outputs": [],
   "source": [
    "iron_4_gameId = getMatchId(IRON_URL4, api_key)\n",
    "iron_3_gameId = getMatchId(IRON_URL3, api_key)\n",
    "iron_2_gameId = getMatchId(IRON_URL2, api_key)\n",
    "iron_1_gameId = getMatchId(IRON_URL1, api_key)"
   ]
  },
  {
   "cell_type": "code",
   "execution_count": 6,
   "metadata": {},
   "outputs": [],
   "source": [
    "np.save('iron_1_gameId', iron_1_gameId)\n",
    "np.save('iron_2_gameId', iron_2_gameId)\n",
    "np.save('iron_3_gameId', iron_3_gameId)\n",
    "np.save('iron_4_gameId', iron_4_gameId)"
   ]
  },
  {
   "cell_type": "code",
   "execution_count": null,
   "metadata": {},
   "outputs": [],
   "source": [
    "bronze_4_gameId = getMatchId(BRONZE_URL4, api_key)\n",
    "bronze_3_gameId = getMatchId(BRONZE_URL3, api_key)\n",
    "bronze_2_gameId = getMatchId(BRONZE_URL2, api_key)\n",
    "bronze_1_gameId = getMatchId(BRONZE_URL1, api_key)"
   ]
  },
  {
   "cell_type": "code",
   "execution_count": 57,
   "metadata": {},
   "outputs": [],
   "source": [
    "np.save('bronze_4_gameId', bronze_4_gameId)\n",
    "np.save('bronze_3_gameId', bronze_3_gameId)\n",
    "np.save('bronze_2_gameId', bronze_2_gameId)\n",
    "np.save('bronze_1_gameId', bronze_1_gameId)"
   ]
  },
  {
   "cell_type": "code",
   "execution_count": null,
   "metadata": {},
   "outputs": [],
   "source": [
    "silver_4_gameId = getMatchId(SILVER_URL4, api_key)\n",
    "silver_3_gameId = getMatchId(SILVER_URL3, api_key)\n",
    "silver_2_gameId = getMatchId(SILVER_URL2, api_key)\n",
    "silver_1_gameId = getMatchId(SILVER_URL1, api_key)"
   ]
  },
  {
   "cell_type": "code",
   "execution_count": null,
   "metadata": {},
   "outputs": [],
   "source": [
    "np.save('silver_4_gameId', silver_4_gameId)\n",
    "np.save('silver_3_gameId', silver_3_gameId)\n",
    "np.save('silver_2_gameId', silver_2_gameId)\n",
    "np.save('silver_1_gameId', silver_1_gameId)"
   ]
  },
  {
   "cell_type": "code",
   "execution_count": null,
   "metadata": {},
   "outputs": [],
   "source": [
    "gold_4_gameId = getMatchId(GOLD_URL4, api_key)\n",
    "gold_3_gameId = getMatchId(GOLD_URL3, api_key)\n",
    "gold_2_gameId = getMatchId(GOLD_URL2, api_key)\n",
    "gold_1_gameId = getMatchId(GOLD_URL1, api_key)"
   ]
  },
  {
   "cell_type": "code",
   "execution_count": 7,
   "metadata": {},
   "outputs": [],
   "source": [
    "np.save('gold_4_gameId', gold_4_gameId)\n",
    "np.save('gold_3_gameId', gold_3_gameId)\n",
    "np.save('gold_2_gameId', gold_2_gameId)\n",
    "np.save('gold_1_gameId', gold_1_gameId)"
   ]
  },
  {
   "cell_type": "code",
   "execution_count": null,
   "metadata": {},
   "outputs": [],
   "source": [
    "platinum_4_gameId = getMatchId(PLATINUM_URL4, api_key)\n",
    "platinum_3_gameId = getMatchId(PLATINUM_URL3, api_key)\n",
    "platinum_2_gameId = getMatchId(PLATINUM_URL2, api_key)\n",
    "platinum_1_gameId = getMatchId(PLATINUM_URL1, api_key)"
   ]
  },
  {
   "cell_type": "code",
   "execution_count": 10,
   "metadata": {},
   "outputs": [],
   "source": [
    "np.save('platinum_4_gameId', platinum_4_gameId)\n",
    "np.save('platinum_3_gameId', platinum_3_gameId)\n",
    "np.save('platinum_2_gameId', platinum_2_gameId)\n",
    "np.save('platinum_1_gameId', platinum_1_gameId)"
   ]
  },
  {
   "cell_type": "code",
   "execution_count": null,
   "metadata": {},
   "outputs": [],
   "source": [
    "diamond_4_gameId = getMatchId(DIAMOND_URL4, api_key)\n",
    "diamond_3_gameId = getMatchId(DIAMOND_URL3, api_key)\n",
    "diamond_2_gameId = getMatchId(DIAMOND_URL2, api_key)\n",
    "diamond_1_gameId = getMatchId(DIAMOND_URL1, api_key)\n",
    "master_gameId = getMatchId(MASTER_URL1, api_key)\n",
    "grandmaster_gameId = getMatchId(GRANDMASTER_URL1, api_key)\n",
    "challenger_gameId = getMatchId(CHALLENGER_URL1, api_key)"
   ]
  },
  {
   "cell_type": "code",
   "execution_count": 12,
   "metadata": {},
   "outputs": [],
   "source": [
    "np.save('diamond_4_gameId', diamond_4_gameId)\n",
    "np.save('diamond_3_gameId', diamond_3_gameId)\n",
    "np.save('diamond_2_gameId', diamond_2_gameId)\n",
    "np.save('diamond_1_gameId', diamond_1_gameId)\n",
    "np.save('master_gameId', master_gameId)\n",
    "np.save('grandmaster_gameId', grandmaster_gameId)\n",
    "np.save('challenger_gameId', challenger_gameId)"
   ]
  },
  {
   "cell_type": "code",
   "execution_count": 12,
   "metadata": {},
   "outputs": [
    {
     "data": {
      "text/plain": [
       "353"
      ]
     },
     "execution_count": 12,
     "metadata": {},
     "output_type": "execute_result"
    }
   ],
   "source": [
    "a = np.load('diamond\\diamond_1_gameId.npy')\n",
    "len(set(a.tolist()))"
   ]
  },
  {
   "cell_type": "code",
   "execution_count": 65,
   "metadata": {},
   "outputs": [
    {
     "name": "stdout",
     "output_type": "stream",
     "text": [
      "[4938079235 4938032240 4934432603 4937970678 4937969699 4938438709\n",
      " 4937775143 4938474987 4937716042 4935541210 4938071143 4932725430\n",
      " 4936940766 4928329119 4938073106 4935793743 4938381551 4938376141\n",
      " 4929506050 4937924048 4935190430 4937836182 4938375776 4937601956\n",
      " 4936346560 4934545174 4935205919 4938459727 4938423692 4930364611\n",
      " 4938490626 4937727279 4927237766 4937415070 4938425510 4938501676\n",
      " 4916577436 4936488519 4937784927 4930874321 4927638952 4937804815\n",
      " 4938458138 4930551606 4937865326 4938057520 4936874407 4935641308\n",
      " 4938019068 4938042200 4938057520 4936623976 4937554538 4938375078\n",
      " 4938436066 4934650902 4937844096 4937728911 4937813463 4938478239\n",
      " 4936809672 4938458603 4936880322 4938390797 4938454028 4938388166\n",
      " 4930822383 4938067069 4937858798 4938032240 4930793385 4935209147\n",
      " 4934496997 4930874321 4938478332 4934813344 4938475427 4934525538\n",
      " 4937832595 4938370555 4937477499 4936274853 4935830415 4938389188\n",
      " 4938396928 4937962627 4936592393 4937805677 4938524178 4932136566\n",
      " 4938059925 4938443738 4935374936 4935254638 4938479100 4936832855\n",
      " 4936688990 4937488548 4938022458 4937124508 4935967738 4929998185\n",
      " 4937974523 4938434911 4936870852 4930591781 4937853267 4934239909\n",
      " 4938000495 4936083400 4937807939 4937445294 4937396644 4932255107\n",
      " 4936769712 4938570692 4932731259 4938396928 4938436844 4938373914\n",
      " 4938419583 4937393666 4938410891 4938410940 4934633919 4936304531\n",
      " 4937729849 4937849758 4937448936 4936596722 4936877891 4937988616\n",
      " 4938051378 4937747578 4938398570 4931649484 4938038897 4937495404\n",
      " 4937635782 4938380130 4937617254 4938436973 4937513663 4936864709\n",
      " 4937840747 4938456860 4938375776 4938454699 4935632741 4937822685\n",
      " 4937862007 4935787734 4937647816 4938478239 4937477499 4937506759\n",
      " 4936706606 4935690014 4938473785 4930901849 4932212207 4937116555\n",
      " 4937664976 4937593420 4938428171 4934573763 4937739388 4937401034\n",
      " 4938533332 4938373682 4938001187 4938008478 4937882806 4937952316\n",
      " 4936970638 4934829526 4936930064 4938426260 4934663936 4935935340\n",
      " 4936838881 4929070588 4938481232 4937754046 4937807787 4937715140\n",
      " 4935176041 4934270762 4937599145 4934842252 4938375078 4937874289\n",
      " 4938419482 4937935735 4937666254 4937784864 4938522835 4938419482\n",
      " 4936829730 4937726851 4932145149 4938459624 4938421683 4923816515\n",
      " 4937729849 4937962627 4930862273 4938456523 4920809267 4937989676\n",
      " 4937618415 4924158754 4938423692 4923867501 4934624221 4923659744\n",
      " 4935909141 4938465381 4924158754 4924826777 4924161157 4923994410\n",
      " 4926727419 4938013236 4924187043 4924314955 4922503740 4938458023\n",
      " 4930669879 4937919148 4936877891 4937734240 4937741332 4938458023\n",
      " 4938443738 4937427244 4937974523 4936749216 4936844283 4936873566\n",
      " 4938534264 4937442105 4937896760 4938479100 4921126218 4937399483\n",
      " 4931168418 4936858158 4933914220 4938531706 4932945357 4938042798\n",
      " 4937679088 4937861588 4935872788 4928039529 4938438709 4938456860\n",
      " 4938077487 4938429528 4937996264 4929458867 4932065456 4935440467\n",
      " 4936794893 4938389770 4936845197 4938531333 4930739684 4938438709\n",
      " 4938449563 4938418534 4938468458 4938418713 4938459727 4937784626\n",
      " 4937508797 4936607171 4938474953 4938418711 4937867711 4936314023\n",
      " 4938474987 4928320338 4938379906 4937955544 4938377323 4914346829\n",
      " 4936856564 4938542345 4937665199 4937734078 4938524178 4936876899\n",
      " 4937697021 4938479100 4933468404 4938381243 4935696951 4937989676\n",
      " 4937552160 4938000669 4938477822 4935823673 4938561777 4937506759\n",
      " 4937437903 4937698145 4938432209 4938377858 4938069917 4937634787\n",
      " 4937684588 4936839549 4936423967 4937894411 4938512212 4936839549\n",
      " 4937395752 4938377638 4937608446 4937175607 4936829730 4937527718\n",
      " 4933513990 4935624910 4938042798 4935835815 4935499520 4938479238\n",
      " 4938458138 4936428610 4938474953 4937940277 4936941224 4938561549\n",
      " 4936849821 4936732512 4937595922 4924075081 4936295903 4937882806\n",
      " 4937836182 4938381551 4937903145 4938010029 4937701266 4938458138\n",
      " 4937537723 4938443674 4934562872 4938056375 4935646707 4938422931\n",
      " 4938398570 4937701271 4937899009 4929639261 4936326965 4933908458\n",
      " 4937618415 4938534264 4938450927 4937246536 4937943861 4937808835\n",
      " 4938449563 4937976186 4938572375 4937839446 4936556851 4938039786\n",
      " 4925256648 4937264845 4935637189 4938436844 4938458336 4938387399\n",
      " 4937749222 4938481614 4937976414 4936840318 4936810498 4938039447\n",
      " 4930140822 4937742813 4935636620 4938478239 4935607471 4927197459\n",
      " 4937821488 4938443649 4938419482 4937850962 4938373682 4936866096\n",
      " 4937731730 4938478239 4936769712 4938458138]\n"
     ]
    }
   ],
   "source": [
    "a = np.load('diamond\\diamond_1_gameId.npy')\n",
    "print(a)"
   ]
  },
  {
   "cell_type": "code",
   "execution_count": null,
   "metadata": {},
   "outputs": [],
   "source": [
    "matches=[]\n",
    "for i in a:\n",
    "    load_url = MATCH_URL + str(i)\n",
    "    res = requests.get(load_url, headers={\"X-Riot-Token\": api_key})\n",
    "    matches.append(json.loads(res.text))\n",
    "print(matches)"
   ]
  },
  {
   "cell_type": "code",
   "execution_count": null,
   "metadata": {},
   "outputs": [],
   "source": [
    "temp = [[],[],[],[],[],[],[],[],[],[]]\n",
    "for i in matches:\n",
    "\n",
    "    #     for k, v in i.items():\n",
    "#         print(k, v)\n",
    "#         print()\n",
    "    for j in i['participants']:\n",
    "        for k,v in j['stats'].items():\n",
    "            temp.append(v)\n",
    "#         for jk, jv in i['stats'].items():\n",
    "#             print(jk, jv)\n",
    "        \n",
    "    print()\n",
    "    print()\n"
   ]
  },
  {
   "cell_type": "code",
   "execution_count": null,
   "metadata": {},
   "outputs": [],
   "source": []
  }
 ],
 "metadata": {
  "kernelspec": {
   "display_name": "Python 3",
   "language": "python",
   "name": "python3"
  },
  "language_info": {
   "codemirror_mode": {
    "name": "ipython",
    "version": 3
   },
   "file_extension": ".py",
   "mimetype": "text/x-python",
   "name": "python",
   "nbconvert_exporter": "python",
   "pygments_lexer": "ipython3",
   "version": "3.8.3"
  }
 },
 "nbformat": 4,
 "nbformat_minor": 4
}
