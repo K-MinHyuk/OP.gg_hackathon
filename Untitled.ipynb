{
 "cells": [
  {
   "cell_type": "code",
   "execution_count": 5,
   "id": "identified-persian",
   "metadata": {},
   "outputs": [],
   "source": [
    "# 필요한 라이브러리를 import\n",
    "\n",
    "import sys\n",
    "import requests\n",
    "import json\n",
    "import pandas as pd\n",
    "import itertools\n",
    "import time\n",
    "import math\n",
    "import numpy as np\n",
    "from flatten_dict import flatten\n",
    "from flatten_dict.reducer import make_reducer\n",
    "import matplotlib.pyplot as plt \n",
    "import seaborn as sns    \n",
    "import torch\n",
    "from torch.utils.data import  TensorDataset, DataLoader\n",
    "from torch import nn, optim\n",
    "import random\n",
    "from glob import glob\n",
    "import torch.optim as optimizer\n",
    "from torch.optim.lr_scheduler import StepLR\n",
    "from pathlib import Path\n",
    "from tqdm import tqdm\n",
    "import torch.nn.functional as F\n",
    "\n",
    "# pandas - DataFrame의 크기를 모두 표시하도록 설정\n",
    "\n",
    "pd.options.display.max_columns = None\n",
    "pd.options.display.max_rows = None\n",
    "\n",
    "use_cuda = torch.cuda.is_available()\n",
    "\n",
    "# riot-API 이용을 위한 api-key값\n",
    "\n",
    "api_key = 'RGAPI-0a7ab0cb-0bd1-400e-a762-ac73904f22ad'\n",
    "\n",
    "# 각 tier별 game id를 가져오기 위해 url 저장\n",
    "\n",
    "IRON_URL4='https://kr.api.riotgames.com/lol/league-exp/v4/entries/RANKED_SOLO_5x5/IRON/IV?page='\n",
    "IRON_URL3='https://kr.api.riotgames.com/lol/league-exp/v4/entries/RANKED_SOLO_5x5/IRON/III?page='\n",
    "IRON_URL2='https://kr.api.riotgames.com/lol/league-exp/v4/entries/RANKED_SOLO_5x5/IRON/II?page='\n",
    "IRON_URL1='https://kr.api.riotgames.com/lol/league-exp/v4/entries/RANKED_SOLO_5x5/IRON/I?page='\n",
    "BRONZE_URL4='https://kr.api.riotgames.com/lol/league-exp/v4/entries/RANKED_SOLO_5x5/BRONZE/IV?page='\n",
    "BRONZE_URL3='https://kr.api.riotgames.com/lol/league-exp/v4/entries/RANKED_SOLO_5x5/BRONZE/III?page='\n",
    "BRONZE_URL2='https://kr.api.riotgames.com/lol/league-exp/v4/entries/RANKED_SOLO_5x5/BRONZE/II?page='\n",
    "BRONZE_URL1='https://kr.api.riotgames.com/lol/league-exp/v4/entries/RANKED_SOLO_5x5/BRONZE/I?page='\n",
    "SILVER_URL4='https://kr.api.riotgames.com/lol/league-exp/v4/entries/RANKED_SOLO_5x5/SILVER/IV?page='\n",
    "SILVER_URL3='https://kr.api.riotgames.com/lol/league-exp/v4/entries/RANKED_SOLO_5x5/SILVER/III?page='\n",
    "SILVER_URL2='https://kr.api.riotgames.com/lol/league-exp/v4/entries/RANKED_SOLO_5x5/SILVER/II?page='\n",
    "SILVER_URL1='https://kr.api.riotgames.com/lol/league-exp/v4/entries/RANKED_SOLO_5x5/SILVER/I?page='\n",
    "GOLD_URL4='https://kr.api.riotgames.com/lol/league-exp/v4/entries/RANKED_SOLO_5x5/GOLD/IV?page='\n",
    "GOLD_URL3='https://kr.api.riotgames.com/lol/league-exp/v4/entries/RANKED_SOLO_5x5/GOLD/III?page='\n",
    "GOLD_URL2='https://kr.api.riotgames.com/lol/league-exp/v4/entries/RANKED_SOLO_5x5/GOLD/II?page='\n",
    "GOLD_URL1='https://kr.api.riotgames.com/lol/league-exp/v4/entries/RANKED_SOLO_5x5/GOLD/I?page='\n",
    "PLATINUM_URL4='https://kr.api.riotgames.com/lol/league-exp/v4/entries/RANKED_SOLO_5x5/PLATINUM/IV?page='\n",
    "PLATINUM_URL3='https://kr.api.riotgames.com/lol/league-exp/v4/entries/RANKED_SOLO_5x5/PLATINUM/III?page='\n",
    "PLATINUM_URL2='https://kr.api.riotgames.com/lol/league-exp/v4/entries/RANKED_SOLO_5x5/PLATINUM/II?page='\n",
    "PLATINUM_URL1='https://kr.api.riotgames.com/lol/league-exp/v4/entries/RANKED_SOLO_5x5/PLATINUM/I?page='\n",
    "DIAMOND_URL4='https://kr.api.riotgames.com/lol/league-exp/v4/entries/RANKED_SOLO_5x5/DIAMOND/IV?page='\n",
    "DIAMOND_URL3='https://kr.api.riotgames.com/lol/league-exp/v4/entries/RANKED_SOLO_5x5/DIAMOND/III?page='\n",
    "DIAMOND_URL2='https://kr.api.riotgames.com/lol/league-exp/v4/entries/RANKED_SOLO_5x5/DIAMOND/II?page='\n",
    "DIAMOND_URL1='https://kr.api.riotgames.com/lol/league-exp/v4/entries/RANKED_SOLO_5x5/DIAMOND/I?page='\n",
    "MASTER_URL1='https://kr.api.riotgames.com/lol/league-exp/v4/entries/RANKED_SOLO_5x5/MASTER/I?page='\n",
    "GRANDMASTER_URL1='https://kr.api.riotgames.com/lol/league-exp/v4/entries/RANKED_SOLO_5x5/GRANDMASTER/I?page='\n",
    "CHALLENGER_URL1='https://kr.api.riotgames.com/lol/league-exp/v4/entries/RANKED_SOLO_5x5/CHALLENGER/I?page='\n",
    "\n",
    "# match의 정보를 가져오기 위한 url저장\n",
    "MATCH_URL = 'https://kr.api.riotgames.com/lol/match/v4/matches/'\n",
    "\n",
    "\n",
    "def gameIdLoader(path, api_key):\n",
    "    gameIds = np.load(path)\n",
    "    matches=[]\n",
    "    a = 0\n",
    "    for i in tqdm(gameIds):\n",
    "        # request limit( 20 requests every 1 seconds(s) , 100 requests every 2 minutes(s) )에 대한 해결 방안으로 time.sleep 을 120이상으로 설정\n",
    "        if a % 20 == 0:\n",
    "            time.sleep(2)\n",
    "        if a % 100 == 0:\n",
    "            time.sleep(125)\n",
    "        load_url = MATCH_URL + str(i)\n",
    "        res = requests.get(load_url, headers={\"X-Riot-Token\": api_key})\n",
    "        ob=json.loads(res.text)\n",
    "        if 'gameDuration' in ob:\n",
    "            if ob['gameMode'] != 'CLASSIC':\n",
    "                a += 1\n",
    "                continue\n",
    "            matches.append(ob)\n",
    "        else:\n",
    "            print(ob)\n",
    "            print(\"-Error recovery time-\")\n",
    "            time.sleep(90)\n",
    "            rest=gameIdLoaderRe([i], api_key)\n",
    "            matches.append(rest[0])\n",
    "            print(\"-Error fixed-\")\n",
    "        a += 1\n",
    "    return matches\n",
    "    \n",
    "    \n",
    "def gameIdLoaderRe(gameIds, api_key):\n",
    "    matches=[]\n",
    "    for i in tqdm(gameIds):\n",
    "        load_url = MATCH_URL + str(i)\n",
    "        res = requests.get(load_url, headers={\"X-Riot-Token\": api_key})\n",
    "        ob=json.loads(res.text)\n",
    "        if 'gameDuration' in ob:\n",
    "            matches.append(ob)\n",
    "        else:\n",
    "            print(ob)\n",
    "            print(\"-Error recovery time-\")\n",
    "            time.sleep(90)\n",
    "            rest=gameIdLoaderRe([i], api_key)\n",
    "            matches.append(rest[0])\n",
    "            print(\"-Error fixed-\")\n",
    "    return matches\n",
    "    \n",
    "    \n",
    "def flatter(matches):\n",
    "    matchlist = []\n",
    "    for i in matches:\n",
    "        matchlist.append(flatten(i, enumerate_types=(list,), reducer=make_reducer(delimiter='_')))\n",
    "    \n",
    "    return matchlist\n",
    "\n",
    "\n",
    "def filter_dict(d, f):\n",
    "    ''' Filters dictionary d by function f. '''\n",
    "    newDict = dict()\n",
    "    # Iterate over all (k,v) pairs in names\n",
    "    for key, value in d.items():\n",
    "        # Is condition satisfied?\n",
    "        if f(key, value):\n",
    "            newDict[key] = value\n",
    "    return newDict\n",
    "\n",
    "\n",
    "def filter_team_dict(d, f):\n",
    "    ''' Filters dictionary d by function f. '''\n",
    "    newDict = dict()\n",
    "    # Iterate over all (k,v) pairs in names\n",
    "    ind = -1\n",
    "    kl = ['teams_win', 'teams_firstBlood', 'teams_firstTower', 'teams_firstInhibitor', 'teams_firstBaron', 'teams_firstDragon', 'teams_firstRiftHerald', 'teams_towerKills', 'teams_inhibitorKills', 'teams_baronKills', 'teams_dragonKills', 'teams_riftHeraldKills']\n",
    "    for key, value in d.items():\n",
    "        # Is condition satisfied?\n",
    "        if f(key, value):\n",
    "            ind += 1\n",
    "            newDict[kl[ind]] = value\n",
    "    return newDict\n",
    "\n",
    "\n",
    "def filter_participant_dict(d, f):\n",
    "    ''' Filters dictionary d by function f. '''\n",
    "    newDict = dict()\n",
    "    # Iterate over all (k,v) pairs in names\n",
    "    for key, value in d.items():\n",
    "        # Is condition satisfied?\n",
    "        if f(key, value):\n",
    "            pkey = 'total_'+key[14:]\n",
    "            newDict[pkey] = value\n",
    "    return newDict\n",
    "\n",
    "\n",
    "def winTeams_0(match):\n",
    "    matchtemp = match\n",
    "    \n",
    "    for delstring in ['item', 'Id', 'playerScore', 'perk', 'Perk', 'bans', 'PlayerScore', 'timeline_csDiffPerMinDeltas_0-10', 'stats_totalScoreRank', 'dominionVictoryScore', 'stats_win', 'stats_unrealKills', 'stats_sightWardsBoughtInGame', 'timeline', 'vilemawKills', 'dominionVictoryScore','stats_firstInhibitorAssist','stats_firstInhibitorKill', 'stats_firstTowerAssist', 'stats_firstTowerKill', 'stats_firstBloodAssist', 'stats_firstBloodKill','turretKills','towerKills', 'damageDealtToTurrets']: \n",
    "        temp = list(filter_dict(match, lambda k,v: delstring in k).keys())\n",
    "        for i in temp:\n",
    "            del(matchtemp[i])\n",
    "    \n",
    "    \n",
    "    avg_data = (np.array(list(filter_participant_dict(matchtemp, lambda k,v: 'participants_0' in k).values())) \n",
    "    + np.array(list(filter_participant_dict(matchtemp, lambda k,v: 'participants_1' in k).values())) \n",
    "    + np.array(list(filter_participant_dict(matchtemp, lambda k,v: 'participants_2' in k).values())) \n",
    "    + np.array(list(filter_participant_dict(matchtemp, lambda k,v: 'participants_3' in k).values()))\n",
    "    + np.array(list(filter_participant_dict(matchtemp, lambda k,v: 'participants_4' in k).values())))\n",
    "    avg_label = list(filter_participant_dict(matchtemp, lambda k,v: 'participants_0' in k).keys())\n",
    "    win = {avg_label[i]: avg_data[i] for i in range(len(avg_label))}\n",
    "    \n",
    "    \n",
    "    avg_data = (np.array(list(filter_participant_dict(matchtemp, lambda k,v: 'participants_5' in k).values())) \n",
    "    + np.array(list(filter_participant_dict(matchtemp, lambda k,v: 'participants_6' in k).values())) \n",
    "    + np.array(list(filter_participant_dict(matchtemp, lambda k,v: 'participants_7' in k).values())) \n",
    "    + np.array(list(filter_participant_dict(matchtemp, lambda k,v: 'participants_8' in k).values()))\n",
    "    + np.array(list(filter_participant_dict(matchtemp, lambda k,v: 'participants_9' in k).values())))\n",
    "    loss = {avg_label[i]: avg_data[i] for i in range(len(avg_label))}\n",
    "    \n",
    "    win.update(filter_team_dict(matchtemp, lambda k,v: 'teams_0' in k))\n",
    "    loss.update(filter_team_dict(matchtemp, lambda k,v: 'teams_1' in k))\n",
    "    \n",
    "    return [win, loss]\n",
    "\n",
    "\n",
    "def winTeams_1(match):\n",
    "    temp = winTeams_0(match)\n",
    "    return [temp[1], temp[0]]\n",
    "\n",
    "\n",
    "def divideTeams(matches):\n",
    "    resultList = list()\n",
    "    for i in matches:\n",
    "        lossDict = dict()\n",
    "        winDict = dict()\n",
    "        lossDict.update({'gameDuration':i['gameDuration']})\n",
    "        winDict.update({'gameDuration':i['gameDuration']})\n",
    "        lossDict.update({'gameMode':i['gameMode']})\n",
    "        winDict.update({'gameMode':i['gameMode']})\n",
    "        \n",
    "        if i['teams_0_win'] == 'Win':\n",
    "            winDict.update(winTeams_0(i)[0])\n",
    "            lossDict.update(winTeams_0(i)[1])\n",
    "        else:\n",
    "            winDict.update(winTeams_1(i)[0])\n",
    "            lossDict.update(winTeams_1(i)[1])\n",
    "        resultList.append(winDict)\n",
    "        resultList.append(lossDict)\n",
    "    return resultList   \n",
    "\n",
    "\n",
    "def preprocessing(matches):\n",
    "    df = pd.DataFrame(divideTeams(flatter(matches)))\n",
    "    df[\"teams_firstBlood\"] = df[\"teams_firstBlood\"].astype(int)\n",
    "    df[\"teams_firstTower\"] = df[\"teams_firstTower\"].astype(int)\n",
    "    df[\"teams_firstInhibitor\"] = df[\"teams_firstInhibitor\"].astype(int)\n",
    "    df[\"teams_firstBaron\"] = df[\"teams_firstBaron\"].astype(int)\n",
    "    df[\"teams_firstDragon\"] = df[\"teams_firstDragon\"].astype(int)\n",
    "    df[\"teams_firstRiftHerald\"] = df[\"teams_firstRiftHerald\"].astype(int)\n",
    "    df.insert(0, 'team_win', df.teams_win)\n",
    "    df = df.drop(columns=['teams_win', 'gameMode'])\n",
    "    df['team_win'] = df['team_win'].replace(['Win','Fail'],[10000,-500])\n",
    "    return df\n",
    "\n",
    "\n",
    "def getDataFrame(path, api_key):\n",
    "    return preprocessing(gameIdLoader(path, api_key))"
   ]
  },
  {
   "cell_type": "code",
   "execution_count": 6,
   "id": "tropical-variety",
   "metadata": {},
   "outputs": [
    {
     "name": "stderr",
     "output_type": "stream",
     "text": [
      "100%|████████████████████████████████████████████████████████████████████████████████| 400/400 [11:22<00:00,  1.71s/it]\n",
      " 11%|█████████                                                                        | 45/400 [02:27<03:48,  1.55it/s]"
     ]
    },
    {
     "name": "stdout",
     "output_type": "stream",
     "text": [
      "{'status': {'message': 'Gateway timeout', 'status_code': 504}}\n",
      "-Error recovery time-\n"
     ]
    },
    {
     "name": "stderr",
     "output_type": "stream",
     "text": [
      "\n",
      "  0%|                                                                                            | 0/1 [00:00<?, ?it/s]\u001b[A\n",
      "100%|████████████████████████████████████████████████████████████████████████████████████| 1/1 [00:00<00:00,  3.21it/s]\u001b[A\n",
      " 12%|█████████                                                                      | 46/400 [03:58<2:43:07, 27.65s/it]"
     ]
    },
    {
     "name": "stdout",
     "output_type": "stream",
     "text": [
      "-Error fixed-\n"
     ]
    },
    {
     "name": "stderr",
     "output_type": "stream",
     "text": [
      " 26%|████████████████████                                                          | 103/400 [06:29<1:34:09, 19.02s/it]"
     ]
    },
    {
     "name": "stdout",
     "output_type": "stream",
     "text": [
      "{'status': {'message': 'Gateway timeout', 'status_code': 504}}\n",
      "-Error recovery time-\n"
     ]
    },
    {
     "name": "stderr",
     "output_type": "stream",
     "text": [
      "\n",
      "  0%|                                                                                            | 0/1 [00:00<?, ?it/s]\u001b[A\n",
      "100%|████████████████████████████████████████████████████████████████████████████████████| 1/1 [00:00<00:00,  3.02it/s]\u001b[A\n",
      " 26%|████████████████████▎                                                         | 104/400 [08:00<3:19:54, 40.52s/it]"
     ]
    },
    {
     "name": "stdout",
     "output_type": "stream",
     "text": [
      "-Error fixed-\n"
     ]
    },
    {
     "name": "stderr",
     "output_type": "stream",
     "text": [
      "100%|████████████████████████████████████████████████████████████████████████████████| 400/400 [14:25<00:00,  2.16s/it]\n",
      " 54%|███████████████████████████████████████████▏                                    | 216/400 [07:53<01:37,  1.89it/s]"
     ]
    },
    {
     "name": "stdout",
     "output_type": "stream",
     "text": [
      "{'status': {'message': 'Gateway timeout', 'status_code': 504}}\n",
      "-Error recovery time-\n"
     ]
    },
    {
     "name": "stderr",
     "output_type": "stream",
     "text": [
      "\n",
      "  0%|                                                                                            | 0/1 [00:00<?, ?it/s]\u001b[A\n",
      "100%|████████████████████████████████████████████████████████████████████████████████████| 1/1 [00:00<00:00,  2.95it/s]\u001b[A\n",
      " 54%|██████████████████████████████████████████▎                                   | 217/400 [09:24<1:24:05, 27.57s/it]"
     ]
    },
    {
     "name": "stdout",
     "output_type": "stream",
     "text": [
      "-Error fixed-\n"
     ]
    },
    {
     "name": "stderr",
     "output_type": "stream",
     "text": [
      "100%|████████████████████████████████████████████████████████████████████████████████| 400/400 [12:50<00:00,  1.93s/it]\n",
      "  2%|█▏                                                                                | 6/400 [02:09<49:58,  7.61s/it]"
     ]
    },
    {
     "name": "stdout",
     "output_type": "stream",
     "text": [
      "{'status': {'message': 'Gateway timeout', 'status_code': 504}}\n",
      "-Error recovery time-\n"
     ]
    },
    {
     "name": "stderr",
     "output_type": "stream",
     "text": [
      "\n",
      "  0%|                                                                                            | 0/1 [00:00<?, ?it/s]\u001b[A\n",
      "100%|████████████████████████████████████████████████████████████████████████████████████| 1/1 [00:00<00:00,  2.42it/s]\u001b[A\n",
      "  2%|█▍                                                                              | 7/400 [03:39<3:47:53, 34.79s/it]"
     ]
    },
    {
     "name": "stdout",
     "output_type": "stream",
     "text": [
      "-Error fixed-\n"
     ]
    },
    {
     "name": "stderr",
     "output_type": "stream",
     "text": [
      " 45%|███████████████████████████████████▊                                            | 179/400 [07:06<01:28,  2.50it/s]"
     ]
    },
    {
     "name": "stdout",
     "output_type": "stream",
     "text": [
      "{'status': {'message': 'Gateway timeout', 'status_code': 504}}\n",
      "-Error recovery time-\n"
     ]
    },
    {
     "name": "stderr",
     "output_type": "stream",
     "text": [
      "\n",
      "  0%|                                                                                            | 0/1 [00:00<?, ?it/s]\u001b[A\n",
      "100%|████████████████████████████████████████████████████████████████████████████████████| 1/1 [00:00<00:00,  2.60it/s]\u001b[A\n",
      " 45%|███████████████████████████████████                                           | 180/400 [08:37<1:40:52, 27.51s/it]"
     ]
    },
    {
     "name": "stdout",
     "output_type": "stream",
     "text": [
      "-Error fixed-\n"
     ]
    },
    {
     "name": "stderr",
     "output_type": "stream",
     "text": [
      "100%|████████████████████████████████████████████████████████████████████████████████| 400/400 [14:29<00:00,  2.17s/it]\n"
     ]
    }
   ],
   "source": [
    "df = getDataFrame('gameId/iron/iron_1_gameId_1.npy', api_key)\n",
    "df1 = getDataFrame('gameId/iron/iron_2_gameId_1.npy', api_key)\n",
    "df2 = getDataFrame('gameId/iron/iron_3_gameId_1.npy', api_key)\n",
    "df3 = getDataFrame('gameId/iron/iron_4_gameId_1.npy', api_key)\n",
    "\n",
    "df = df.append(df1)\n",
    "df = df.append(df2)\n",
    "df = df.append(df3)\n",
    "df.to_csv(\"dataFrame/iron.csv\")"
   ]
  },
  {
   "cell_type": "code",
   "execution_count": 7,
   "id": "partial-southeast",
   "metadata": {},
   "outputs": [
    {
     "name": "stderr",
     "output_type": "stream",
     "text": [
      "100%|████████████████████████████████████████████████████████████████████████████████| 400/400 [11:22<00:00,  1.71s/it]\n",
      "100%|████████████████████████████████████████████████████████████████████████████████| 400/400 [11:24<00:00,  1.71s/it]\n",
      " 14%|███████████▎                                                                     | 56/400 [02:31<02:04,  2.76it/s]"
     ]
    },
    {
     "name": "stdout",
     "output_type": "stream",
     "text": [
      "{'status': {'message': 'Gateway timeout', 'status_code': 504}}\n",
      "-Error recovery time-\n"
     ]
    },
    {
     "name": "stderr",
     "output_type": "stream",
     "text": [
      "\n",
      "  0%|                                                                                            | 0/1 [00:00<?, ?it/s]\u001b[A\n",
      "100%|████████████████████████████████████████████████████████████████████████████████████| 1/1 [00:00<00:00,  2.48it/s]\u001b[A\n",
      " 14%|███████████▎                                                                   | 57/400 [04:02<2:37:05, 27.48s/it]"
     ]
    },
    {
     "name": "stdout",
     "output_type": "stream",
     "text": [
      "-Error fixed-\n"
     ]
    },
    {
     "name": "stderr",
     "output_type": "stream",
     "text": [
      " 47%|█████████████████████████████████████▊                                          | 189/400 [07:09<01:21,  2.58it/s]"
     ]
    },
    {
     "name": "stdout",
     "output_type": "stream",
     "text": [
      "{'status': {'message': 'Gateway timeout', 'status_code': 504}}\n",
      "-Error recovery time-\n"
     ]
    },
    {
     "name": "stderr",
     "output_type": "stream",
     "text": [
      "\n",
      "  0%|                                                                                            | 0/1 [00:00<?, ?it/s]\u001b[A\n",
      "100%|████████████████████████████████████████████████████████████████████████████████████| 1/1 [00:00<00:00,  3.01it/s]\u001b[A\n",
      " 48%|█████████████████████████████████████                                         | 190/400 [08:39<1:36:10, 27.48s/it]"
     ]
    },
    {
     "name": "stdout",
     "output_type": "stream",
     "text": [
      "-Error fixed-\n"
     ]
    },
    {
     "name": "stderr",
     "output_type": "stream",
     "text": [
      "100%|████████████████████████████████████████████████████████████████████████████████| 400/400 [14:24<00:00,  2.16s/it]\n",
      "100%|████████████████████████████████████████████████████████████████████████████████| 400/400 [11:29<00:00,  1.72s/it]\n"
     ]
    }
   ],
   "source": [
    "df_bronze = getDataFrame('gameId/bronze/bronze_1_gameId_1.npy', api_key)\n",
    "df1 = getDataFrame('gameId/bronze/bronze_2_gameId_1.npy', api_key)\n",
    "df2 = getDataFrame('gameId/bronze/bronze_3_gameId_1.npy', api_key)\n",
    "df3 = getDataFrame('gameId/bronze/bronze_4_gameId_1.npy', api_key)\n",
    "\n",
    "df_bronze = df_bronze.append(df1)\n",
    "df_bronze = df_bronze.append(df2)\n",
    "df_bronze = df_bronze.append(df3)\n",
    "df_bronze.to_csv(\"dataFrame/bronze.csv\")"
   ]
  },
  {
   "cell_type": "code",
   "execution_count": null,
   "id": "wrapped-beverage",
   "metadata": {},
   "outputs": [],
   "source": []
  },
  {
   "cell_type": "code",
   "execution_count": null,
   "id": "higher-nashville",
   "metadata": {},
   "outputs": [],
   "source": []
  },
  {
   "cell_type": "code",
   "execution_count": null,
   "id": "signed-laundry",
   "metadata": {},
   "outputs": [],
   "source": []
  }
 ],
 "metadata": {
  "kernelspec": {
   "display_name": "Python 3",
   "language": "python",
   "name": "python3"
  },
  "language_info": {
   "codemirror_mode": {
    "name": "ipython",
    "version": 3
   },
   "file_extension": ".py",
   "mimetype": "text/x-python",
   "name": "python",
   "nbconvert_exporter": "python",
   "pygments_lexer": "ipython3",
   "version": "3.6.6"
  }
 },
 "nbformat": 4,
 "nbformat_minor": 5
}
